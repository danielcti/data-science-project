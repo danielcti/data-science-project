{
  "nbformat": 4,
  "nbformat_minor": 0,
  "metadata": {
    "colab": {
      "name": "dataVisualizationNetflix.ipynb",
      "provenance": [],
      "collapsed_sections": [],
      "authorship_tag": "ABX9TyOW0oxiNTqO9NndqjtLt59I",
      "include_colab_link": true
    },
    "kernelspec": {
      "name": "python3",
      "display_name": "Python 3"
    },
    "language_info": {
      "name": "python"
    }
  },
  "cells": [
    {
      "cell_type": "markdown",
      "metadata": {
        "id": "view-in-github",
        "colab_type": "text"
      },
      "source": [
        "<a href=\"https://colab.research.google.com/github/danielcti/data-science-project/blob/colabIgor/dataVisualizationNetflix.ipynb\" target=\"_parent\"><img src=\"https://colab.research.google.com/assets/colab-badge.svg\" alt=\"Open In Colab\"/></a>"
      ]
    },
    {
      "cell_type": "markdown",
      "metadata": {
        "id": "Ig3dSbqq1_gi"
      },
      "source": [
        "##Importando bibliotecas que julgamos necessárias"
      ]
    },
    {
      "cell_type": "code",
      "metadata": {
        "id": "mO-ve-kl0znF"
      },
      "source": [
        "import numpy as np\n",
        "import pandas as pd\n",
        "import matplotlib.pyplot as plt\n",
        "import matplotlib.cm as cm\n",
        "import seaborn as sns\n",
        "import datetime as dt\n",
        "from sklearn.metrics import confusion_matrix,classification_report\n",
        "from sklearn.metrics import silhouette_samples, silhouette_score\n",
        "from sklearn import preprocessing\n",
        "from sklearn.preprocessing import StandardScaler\n",
        "from warnings import filterwarnings\n",
        "filterwarnings('ignore')\n"
      ],
      "execution_count": 1,
      "outputs": []
    },
    {
      "cell_type": "code",
      "metadata": {
        "id": "k_XEq2HV2H5D",
        "colab": {
          "base_uri": "https://localhost:8080/"
        },
        "outputId": "65bc02e6-d9f7-4fe3-aec1-1da95489b6a3"
      },
      "source": [
        "df = pd.read_csv(\"netflix_titles.csv\")\n",
        "print('Setup Complete')"
      ],
      "execution_count": 2,
      "outputs": [
        {
          "output_type": "stream",
          "text": [
            "Setup Complete\n"
          ],
          "name": "stdout"
        }
      ]
    },
    {
      "cell_type": "markdown",
      "metadata": {
        "id": "G1Xs4VTXu64l"
      },
      "source": [
        "##Primeiramente vamos ver o que temos nos nossos dados carregados, para assim possibilitar nossa análise descritiva"
      ]
    },
    {
      "cell_type": "code",
      "metadata": {
        "colab": {
          "base_uri": "https://localhost:8080/",
          "height": 438
        },
        "id": "hTayh3jx2djA",
        "outputId": "58018975-7da3-4b90-882e-5dca81c683e2"
      },
      "source": [
        "df.head()"
      ],
      "execution_count": 3,
      "outputs": [
        {
          "output_type": "execute_result",
          "data": {
            "text/html": [
              "<div>\n",
              "<style scoped>\n",
              "    .dataframe tbody tr th:only-of-type {\n",
              "        vertical-align: middle;\n",
              "    }\n",
              "\n",
              "    .dataframe tbody tr th {\n",
              "        vertical-align: top;\n",
              "    }\n",
              "\n",
              "    .dataframe thead th {\n",
              "        text-align: right;\n",
              "    }\n",
              "</style>\n",
              "<table border=\"1\" class=\"dataframe\">\n",
              "  <thead>\n",
              "    <tr style=\"text-align: right;\">\n",
              "      <th></th>\n",
              "      <th>show_id</th>\n",
              "      <th>type</th>\n",
              "      <th>title</th>\n",
              "      <th>director</th>\n",
              "      <th>cast</th>\n",
              "      <th>country</th>\n",
              "      <th>date_added</th>\n",
              "      <th>release_year</th>\n",
              "      <th>rating</th>\n",
              "      <th>duration</th>\n",
              "      <th>listed_in</th>\n",
              "      <th>description</th>\n",
              "    </tr>\n",
              "  </thead>\n",
              "  <tbody>\n",
              "    <tr>\n",
              "      <th>0</th>\n",
              "      <td>s1</td>\n",
              "      <td>TV Show</td>\n",
              "      <td>3%</td>\n",
              "      <td>NaN</td>\n",
              "      <td>João Miguel, Bianca Comparato, Michel Gomes, R...</td>\n",
              "      <td>Brazil</td>\n",
              "      <td>August 14, 2020</td>\n",
              "      <td>2020</td>\n",
              "      <td>TV-MA</td>\n",
              "      <td>4 Seasons</td>\n",
              "      <td>International TV Shows, TV Dramas, TV Sci-Fi &amp;...</td>\n",
              "      <td>In a future where the elite inhabit an island ...</td>\n",
              "    </tr>\n",
              "    <tr>\n",
              "      <th>1</th>\n",
              "      <td>s2</td>\n",
              "      <td>Movie</td>\n",
              "      <td>7:19</td>\n",
              "      <td>Jorge Michel Grau</td>\n",
              "      <td>Demián Bichir, Héctor Bonilla, Oscar Serrano, ...</td>\n",
              "      <td>Mexico</td>\n",
              "      <td>December 23, 2016</td>\n",
              "      <td>2016</td>\n",
              "      <td>TV-MA</td>\n",
              "      <td>93 min</td>\n",
              "      <td>Dramas, International Movies</td>\n",
              "      <td>After a devastating earthquake hits Mexico Cit...</td>\n",
              "    </tr>\n",
              "    <tr>\n",
              "      <th>2</th>\n",
              "      <td>s3</td>\n",
              "      <td>Movie</td>\n",
              "      <td>23:59</td>\n",
              "      <td>Gilbert Chan</td>\n",
              "      <td>Tedd Chan, Stella Chung, Henley Hii, Lawrence ...</td>\n",
              "      <td>Singapore</td>\n",
              "      <td>December 20, 2018</td>\n",
              "      <td>2011</td>\n",
              "      <td>R</td>\n",
              "      <td>78 min</td>\n",
              "      <td>Horror Movies, International Movies</td>\n",
              "      <td>When an army recruit is found dead, his fellow...</td>\n",
              "    </tr>\n",
              "    <tr>\n",
              "      <th>3</th>\n",
              "      <td>s4</td>\n",
              "      <td>Movie</td>\n",
              "      <td>9</td>\n",
              "      <td>Shane Acker</td>\n",
              "      <td>Elijah Wood, John C. Reilly, Jennifer Connelly...</td>\n",
              "      <td>United States</td>\n",
              "      <td>November 16, 2017</td>\n",
              "      <td>2009</td>\n",
              "      <td>PG-13</td>\n",
              "      <td>80 min</td>\n",
              "      <td>Action &amp; Adventure, Independent Movies, Sci-Fi...</td>\n",
              "      <td>In a postapocalyptic world, rag-doll robots hi...</td>\n",
              "    </tr>\n",
              "    <tr>\n",
              "      <th>4</th>\n",
              "      <td>s5</td>\n",
              "      <td>Movie</td>\n",
              "      <td>21</td>\n",
              "      <td>Robert Luketic</td>\n",
              "      <td>Jim Sturgess, Kevin Spacey, Kate Bosworth, Aar...</td>\n",
              "      <td>United States</td>\n",
              "      <td>January 1, 2020</td>\n",
              "      <td>2008</td>\n",
              "      <td>PG-13</td>\n",
              "      <td>123 min</td>\n",
              "      <td>Dramas</td>\n",
              "      <td>A brilliant group of students become card-coun...</td>\n",
              "    </tr>\n",
              "  </tbody>\n",
              "</table>\n",
              "</div>"
            ],
            "text/plain": [
              "  show_id  ...                                        description\n",
              "0      s1  ...  In a future where the elite inhabit an island ...\n",
              "1      s2  ...  After a devastating earthquake hits Mexico Cit...\n",
              "2      s3  ...  When an army recruit is found dead, his fellow...\n",
              "3      s4  ...  In a postapocalyptic world, rag-doll robots hi...\n",
              "4      s5  ...  A brilliant group of students become card-coun...\n",
              "\n",
              "[5 rows x 12 columns]"
            ]
          },
          "metadata": {
            "tags": []
          },
          "execution_count": 3
        }
      ]
    },
    {
      "cell_type": "code",
      "metadata": {
        "colab": {
          "base_uri": "https://localhost:8080/",
          "height": 556
        },
        "id": "vTuCKlkj2rdM",
        "outputId": "58d40899-e278-406d-bc3d-57e36cc11eff"
      },
      "source": [
        "df.tail()"
      ],
      "execution_count": 4,
      "outputs": [
        {
          "output_type": "execute_result",
          "data": {
            "text/html": [
              "<div>\n",
              "<style scoped>\n",
              "    .dataframe tbody tr th:only-of-type {\n",
              "        vertical-align: middle;\n",
              "    }\n",
              "\n",
              "    .dataframe tbody tr th {\n",
              "        vertical-align: top;\n",
              "    }\n",
              "\n",
              "    .dataframe thead th {\n",
              "        text-align: right;\n",
              "    }\n",
              "</style>\n",
              "<table border=\"1\" class=\"dataframe\">\n",
              "  <thead>\n",
              "    <tr style=\"text-align: right;\">\n",
              "      <th></th>\n",
              "      <th>show_id</th>\n",
              "      <th>type</th>\n",
              "      <th>title</th>\n",
              "      <th>director</th>\n",
              "      <th>cast</th>\n",
              "      <th>country</th>\n",
              "      <th>date_added</th>\n",
              "      <th>release_year</th>\n",
              "      <th>rating</th>\n",
              "      <th>duration</th>\n",
              "      <th>listed_in</th>\n",
              "      <th>description</th>\n",
              "    </tr>\n",
              "  </thead>\n",
              "  <tbody>\n",
              "    <tr>\n",
              "      <th>7782</th>\n",
              "      <td>s7783</td>\n",
              "      <td>Movie</td>\n",
              "      <td>Zozo</td>\n",
              "      <td>Josef Fares</td>\n",
              "      <td>Imad Creidi, Antoinette Turk, Elias Gergi, Car...</td>\n",
              "      <td>Sweden, Czech Republic, United Kingdom, Denmar...</td>\n",
              "      <td>October 19, 2020</td>\n",
              "      <td>2005</td>\n",
              "      <td>TV-MA</td>\n",
              "      <td>99 min</td>\n",
              "      <td>Dramas, International Movies</td>\n",
              "      <td>When Lebanon's Civil War deprives Zozo of his ...</td>\n",
              "    </tr>\n",
              "    <tr>\n",
              "      <th>7783</th>\n",
              "      <td>s7784</td>\n",
              "      <td>Movie</td>\n",
              "      <td>Zubaan</td>\n",
              "      <td>Mozez Singh</td>\n",
              "      <td>Vicky Kaushal, Sarah-Jane Dias, Raaghav Chanan...</td>\n",
              "      <td>India</td>\n",
              "      <td>March 2, 2019</td>\n",
              "      <td>2015</td>\n",
              "      <td>TV-14</td>\n",
              "      <td>111 min</td>\n",
              "      <td>Dramas, International Movies, Music &amp; Musicals</td>\n",
              "      <td>A scrappy but poor boy worms his way into a ty...</td>\n",
              "    </tr>\n",
              "    <tr>\n",
              "      <th>7784</th>\n",
              "      <td>s7785</td>\n",
              "      <td>Movie</td>\n",
              "      <td>Zulu Man in Japan</td>\n",
              "      <td>NaN</td>\n",
              "      <td>Nasty C</td>\n",
              "      <td>NaN</td>\n",
              "      <td>September 25, 2020</td>\n",
              "      <td>2019</td>\n",
              "      <td>TV-MA</td>\n",
              "      <td>44 min</td>\n",
              "      <td>Documentaries, International Movies, Music &amp; M...</td>\n",
              "      <td>In this documentary, South African rapper Nast...</td>\n",
              "    </tr>\n",
              "    <tr>\n",
              "      <th>7785</th>\n",
              "      <td>s7786</td>\n",
              "      <td>TV Show</td>\n",
              "      <td>Zumbo's Just Desserts</td>\n",
              "      <td>NaN</td>\n",
              "      <td>Adriano Zumbo, Rachel Khoo</td>\n",
              "      <td>Australia</td>\n",
              "      <td>October 31, 2020</td>\n",
              "      <td>2019</td>\n",
              "      <td>TV-PG</td>\n",
              "      <td>1 Season</td>\n",
              "      <td>International TV Shows, Reality TV</td>\n",
              "      <td>Dessert wizard Adriano Zumbo looks for the nex...</td>\n",
              "    </tr>\n",
              "    <tr>\n",
              "      <th>7786</th>\n",
              "      <td>s7787</td>\n",
              "      <td>Movie</td>\n",
              "      <td>ZZ TOP: THAT LITTLE OL' BAND FROM TEXAS</td>\n",
              "      <td>Sam Dunn</td>\n",
              "      <td>NaN</td>\n",
              "      <td>United Kingdom, Canada, United States</td>\n",
              "      <td>March 1, 2020</td>\n",
              "      <td>2019</td>\n",
              "      <td>TV-MA</td>\n",
              "      <td>90 min</td>\n",
              "      <td>Documentaries, Music &amp; Musicals</td>\n",
              "      <td>This documentary delves into the mystique behi...</td>\n",
              "    </tr>\n",
              "  </tbody>\n",
              "</table>\n",
              "</div>"
            ],
            "text/plain": [
              "     show_id  ...                                        description\n",
              "7782   s7783  ...  When Lebanon's Civil War deprives Zozo of his ...\n",
              "7783   s7784  ...  A scrappy but poor boy worms his way into a ty...\n",
              "7784   s7785  ...  In this documentary, South African rapper Nast...\n",
              "7785   s7786  ...  Dessert wizard Adriano Zumbo looks for the nex...\n",
              "7786   s7787  ...  This documentary delves into the mystique behi...\n",
              "\n",
              "[5 rows x 12 columns]"
            ]
          },
          "metadata": {
            "tags": []
          },
          "execution_count": 4
        }
      ]
    },
    {
      "cell_type": "markdown",
      "metadata": {
        "id": "MhD7FZNxwAFZ"
      },
      "source": [
        "Agora iremos ver o tamanho dos nossos dados:"
      ]
    },
    {
      "cell_type": "code",
      "metadata": {
        "colab": {
          "base_uri": "https://localhost:8080/"
        },
        "id": "uMVYA_TiwYuH",
        "outputId": "5e0bd79f-b4f1-4e9d-93b7-dd18eef050e8"
      },
      "source": [
        "df.shape"
      ],
      "execution_count": 5,
      "outputs": [
        {
          "output_type": "execute_result",
          "data": {
            "text/plain": [
              "(7787, 12)"
            ]
          },
          "metadata": {
            "tags": []
          },
          "execution_count": 5
        }
      ]
    },
    {
      "cell_type": "markdown",
      "metadata": {
        "id": "N25tM5ZswgX0"
      },
      "source": [
        "Podemos ver que temos 12 atributos com 7787 instâncias "
      ]
    },
    {
      "cell_type": "markdown",
      "metadata": {
        "id": "0t6Kt_EexgdO"
      },
      "source": [
        "### Podemos ver que nossos dados já estão separados entre séries(*TV Show*) e filmes (*Movie*). Então, até o momento, não precisamos aplicar nenhuma função para definir entre séries e filmes."
      ]
    },
    {
      "cell_type": "markdown",
      "metadata": {
        "id": "LJZvaZSrUFCU"
      },
      "source": [
        "##Agora, dando início ao nosso pré-processamento dos dados\n",
        "\n",
        "\n",
        "\n",
        "\n"
      ]
    },
    {
      "cell_type": "markdown",
      "metadata": {
        "id": "QbKaLmX9GcMk"
      },
      "source": [
        "### Vamos agora tratar nossas instâncias, primeiramente verificando caso tenhamos dados ausentes. Caso positivo iremos tratá-los da maneira cabível, seja excluindo, substituindo, ou alterando da melhor maneira possível."
      ]
    },
    {
      "cell_type": "code",
      "metadata": {
        "colab": {
          "base_uri": "https://localhost:8080/"
        },
        "id": "iWGh_nxz5ToT",
        "outputId": "1a7b94f2-efce-4c6d-f859-c578ba1c251c"
      },
      "source": [
        "df.isnull().sum()/(len(df))*100"
      ],
      "execution_count": 6,
      "outputs": [
        {
          "output_type": "execute_result",
          "data": {
            "text/plain": [
              "show_id          0.000000\n",
              "type             0.000000\n",
              "title            0.000000\n",
              "director        30.679337\n",
              "cast             9.220496\n",
              "country          6.510851\n",
              "date_added       0.128419\n",
              "release_year     0.000000\n",
              "rating           0.089893\n",
              "duration         0.000000\n",
              "listed_in        0.000000\n",
              "description      0.000000\n",
              "dtype: float64"
            ]
          },
          "metadata": {
            "tags": []
          },
          "execution_count": 6
        }
      ]
    },
    {
      "cell_type": "markdown",
      "metadata": {
        "id": "6vaMN1Po6D-s"
      },
      "source": [
        "Primeiramente veremos quais as instâncias de *types* para que possamos facilitar nosso tratamento para *director* que possuem 30% de dados ausentes."
      ]
    },
    {
      "cell_type": "code",
      "metadata": {
        "colab": {
          "base_uri": "https://localhost:8080/"
        },
        "id": "WHQngGVfG5ce",
        "outputId": "b99c1c1c-ca5d-4c9d-bbf0-bbe5b95259b7"
      },
      "source": [
        "df.type.unique()"
      ],
      "execution_count": 7,
      "outputs": [
        {
          "output_type": "execute_result",
          "data": {
            "text/plain": [
              "array(['TV Show', 'Movie'], dtype=object)"
            ]
          },
          "metadata": {
            "tags": []
          },
          "execution_count": 7
        }
      ]
    },
    {
      "cell_type": "markdown",
      "metadata": {
        "id": "xmD2dTml7YWb"
      },
      "source": [
        "Como só temos duas instâncias de *type*, obsevadas logo acima e que, além disso, sabemos que em 'TV Show' os diretores variam por episódio fazendo sentido não serem guardados tais dados. Dessa forma, iremos dividir em dois datasets, dfMovie e dfShow, para checar se essa suposição de fato se prova verdadeira."
      ]
    },
    {
      "cell_type": "code",
      "metadata": {
        "id": "D8W4rFTp51Fg"
      },
      "source": [
        "dfMovie = df[(df.type == 'Movie')]\n",
        "dfShow = df[(df.type == 'TV Show')]"
      ],
      "execution_count": 8,
      "outputs": []
    },
    {
      "cell_type": "code",
      "metadata": {
        "colab": {
          "base_uri": "https://localhost:8080/"
        },
        "id": "a7syXxLR78-v",
        "outputId": "4c11d7ac-7a04-4662-88fc-cd9171812335"
      },
      "source": [
        "dfShow.isnull().sum()/(len(dfShow))*100"
      ],
      "execution_count": 9,
      "outputs": [
        {
          "output_type": "execute_result",
          "data": {
            "text/plain": [
              "show_id          0.000000\n",
              "type             0.000000\n",
              "title            0.000000\n",
              "director        92.365145\n",
              "cast            12.116183\n",
              "country         11.493776\n",
              "date_added       0.414938\n",
              "release_year     0.000000\n",
              "rating           0.082988\n",
              "duration         0.000000\n",
              "listed_in        0.000000\n",
              "description      0.000000\n",
              "dtype: float64"
            ]
          },
          "metadata": {
            "tags": []
          },
          "execution_count": 9
        }
      ]
    },
    {
      "cell_type": "code",
      "metadata": {
        "colab": {
          "base_uri": "https://localhost:8080/"
        },
        "id": "IDH6Uzi_8G1H",
        "outputId": "4ae773f7-67ff-4c68-ea38-0ef176b575fa"
      },
      "source": [
        "dfMovie.isnull().sum()/(len(dfMovie))*100"
      ],
      "execution_count": 10,
      "outputs": [
        {
          "output_type": "execute_result",
          "data": {
            "text/plain": [
              "show_id         0.000000\n",
              "type            0.000000\n",
              "title           0.000000\n",
              "director        3.031430\n",
              "cast            7.922633\n",
              "country         4.277478\n",
              "date_added      0.000000\n",
              "release_year    0.000000\n",
              "rating          0.092989\n",
              "duration        0.000000\n",
              "listed_in       0.000000\n",
              "description     0.000000\n",
              "dtype: float64"
            ]
          },
          "metadata": {
            "tags": []
          },
          "execution_count": 10
        }
      ]
    },
    {
      "cell_type": "markdown",
      "metadata": {
        "id": "fxf0XIbQ80zL"
      },
      "source": [
        "De fato, nossa suposição se tornou em partes verdadeira, visto que a feature *director* apresentou 92% de dados ausentes para dfShow e apenas 3% para dfMovie.\n",
        "> Tendo isso em vista, poderíamos trabalhar com dois datasets onde vamos excluir o atributo em dfShows e apenas substituí-los em dfMovies ou substituir todos os valores ausentes por 'desconhecido'.\n"
      ]
    },
    {
      "cell_type": "markdown",
      "metadata": {
        "id": "a0PMYiAsCwwV"
      },
      "source": [
        "vamos seguir com a segunda opção por enquanto"
      ]
    },
    {
      "cell_type": "code",
      "metadata": {
        "id": "irPcZq6kCujY"
      },
      "source": [
        "df['director']=df['director'].fillna('desconhecido')"
      ],
      "execution_count": 11,
      "outputs": []
    },
    {
      "cell_type": "markdown",
      "metadata": {
        "id": "-E94MGIbJdsu"
      },
      "source": [
        "Agora com relação ao atributo cast, iremos tratar da mesma forma que *director*"
      ]
    },
    {
      "cell_type": "code",
      "metadata": {
        "id": "cwAiydYyKQUq"
      },
      "source": [
        "df['cast']=df['cast'].fillna('desconhecido')"
      ],
      "execution_count": 12,
      "outputs": []
    },
    {
      "cell_type": "markdown",
      "metadata": {
        "id": "oxJveKqfKU40"
      },
      "source": [
        "Com relação a *country* vamos substituir pela moda, assim como em *date_added*"
      ]
    },
    {
      "cell_type": "code",
      "metadata": {
        "id": "fLwtF33EwccG"
      },
      "source": [
        "df['country']=df['country'].fillna(df['country'].mode()[0])\n",
        "df['rating']=df['rating'].fillna(df['rating'].mode()[0])\n",
        "df['date_added']=df['date_added'].fillna(df['date_added'].mode()[0])"
      ],
      "execution_count": 13,
      "outputs": []
    },
    {
      "cell_type": "markdown",
      "metadata": {
        "id": "Xs2CC2HdP73B"
      },
      "source": [
        "Com relação a *rating* iremos alterar inserir novos atributos utilizando o fancyimput do KNN quanto tratarmos os tipos dos nossos dados."
      ]
    },
    {
      "cell_type": "code",
      "metadata": {
        "colab": {
          "base_uri": "https://localhost:8080/"
        },
        "id": "-cCQpvtBL6ec",
        "outputId": "47ef6fa9-ce69-4857-8a4e-608976a85f57"
      },
      "source": [
        "df.isnull().sum()/(len(df))*100"
      ],
      "execution_count": 14,
      "outputs": [
        {
          "output_type": "execute_result",
          "data": {
            "text/plain": [
              "show_id         0.0\n",
              "type            0.0\n",
              "title           0.0\n",
              "director        0.0\n",
              "cast            0.0\n",
              "country         0.0\n",
              "date_added      0.0\n",
              "release_year    0.0\n",
              "rating          0.0\n",
              "duration        0.0\n",
              "listed_in       0.0\n",
              "description     0.0\n",
              "dtype: float64"
            ]
          },
          "metadata": {
            "tags": []
          },
          "execution_count": 14
        }
      ]
    },
    {
      "cell_type": "markdown",
      "metadata": {
        "id": "vYaLBf6wML5c"
      },
      "source": [
        "Como podemos ver, todos os dados ausentes foram tratados."
      ]
    },
    {
      "cell_type": "markdown",
      "metadata": {
        "id": "ar4ABh5cJMOw"
      },
      "source": [
        "## Realizando agora a definição de tipos, vamos primeiro analisá-los para podermos decidir quais ações tomar"
      ]
    },
    {
      "cell_type": "code",
      "metadata": {
        "colab": {
          "base_uri": "https://localhost:8080/"
        },
        "id": "wwP9UZ922Tab",
        "outputId": "29d4b995-4a3f-47f8-da77-bdecf34f1b07"
      },
      "source": [
        "df.dtypes"
      ],
      "execution_count": 15,
      "outputs": [
        {
          "output_type": "execute_result",
          "data": {
            "text/plain": [
              "show_id         object\n",
              "type            object\n",
              "title           object\n",
              "director        object\n",
              "cast            object\n",
              "country         object\n",
              "date_added      object\n",
              "release_year     int64\n",
              "rating          object\n",
              "duration        object\n",
              "listed_in       object\n",
              "description     object\n",
              "dtype: object"
            ]
          },
          "metadata": {
            "tags": []
          },
          "execution_count": 15
        }
      ]
    },
    {
      "cell_type": "markdown",
      "metadata": {
        "id": "Y2ujOQ-_yB-e"
      },
      "source": [
        "###Como pudemos notar ao mostrar o nosso dataset inicialmente o campo *country* é composto de uma lista de países, porém será mais prático trabalhar apenas com o país principal, que neste caso consideramos o primeiro da lista. Então iremos adicionar a coluna *main_country* ao data frame."
      ]
    },
    {
      "cell_type": "code",
      "metadata": {
        "colab": {
          "base_uri": "https://localhost:8080/"
        },
        "id": "oe5iFRj_wjqA",
        "outputId": "c8ba803c-5e4a-469b-d093-3f49fd26c5e7"
      },
      "source": [
        "df['main_country']=df['country'].apply(lambda x: x.split(\",\")[0])\n",
        "df['main_country']"
      ],
      "execution_count": 16,
      "outputs": [
        {
          "output_type": "execute_result",
          "data": {
            "text/plain": [
              "0               Brazil\n",
              "1               Mexico\n",
              "2            Singapore\n",
              "3        United States\n",
              "4        United States\n",
              "             ...      \n",
              "7782            Sweden\n",
              "7783             India\n",
              "7784     United States\n",
              "7785         Australia\n",
              "7786    United Kingdom\n",
              "Name: main_country, Length: 7787, dtype: object"
            ]
          },
          "metadata": {
            "tags": []
          },
          "execution_count": 16
        }
      ]
    },
    {
      "cell_type": "markdown",
      "metadata": {
        "id": "gfVhNmUtNl_K"
      },
      "source": [
        "### Com relação a *duration*, teremos que tratar o nosso dataset para tirar 'min' de *type*=='Movie' e 'Season' de *type*=='TV Show'. Além disso teremos que alterar o tipo dos nossos atributos para int64."
      ]
    },
    {
      "cell_type": "code",
      "metadata": {
        "id": "EcYcgWYfkkl0"
      },
      "source": [
        "df['duration'] = df.duration.apply(lambda x: x.split()[0])"
      ],
      "execution_count": 17,
      "outputs": []
    },
    {
      "cell_type": "code",
      "metadata": {
        "id": "-99Tmf32rNge"
      },
      "source": [
        "df['duration'] = df.duration.astype('int')"
      ],
      "execution_count": 18,
      "outputs": []
    },
    {
      "cell_type": "markdown",
      "metadata": {
        "id": "CWiggorJ4ue5"
      },
      "source": [
        "\n",
        "\n",
        "### Vamos tratar como variáveis categóricas todas as features com exceção de *date_added*, *release_year*, *duration* e *show_id*, que trataremos depois com o desenvolvimento da nossa análise"
      ]
    },
    {
      "cell_type": "code",
      "metadata": {
        "id": "mHnqJjoYd8h2"
      },
      "source": [
        "df['main_country']=df['main_country'].astype('category')\n",
        "df['director']=df['director'].astype('category')\n",
        "df['listed_in']=df['listed_in'].astype('category')\n",
        "df['type']=df['type'].astype('category')\n",
        "df['title']=df['title'].astype('category')\n",
        "df['rating']=df['rating'].astype('category')"
      ],
      "execution_count": 19,
      "outputs": []
    },
    {
      "cell_type": "code",
      "metadata": {
        "colab": {
          "base_uri": "https://localhost:8080/"
        },
        "id": "vlnJGyuA1DyG",
        "outputId": "7c329020-9552-4b30-cfed-13c012956f73"
      },
      "source": [
        "df.dtypes"
      ],
      "execution_count": 20,
      "outputs": [
        {
          "output_type": "execute_result",
          "data": {
            "text/plain": [
              "show_id           object\n",
              "type            category\n",
              "title           category\n",
              "director        category\n",
              "cast              object\n",
              "country           object\n",
              "date_added        object\n",
              "release_year       int64\n",
              "rating          category\n",
              "duration           int64\n",
              "listed_in       category\n",
              "description       object\n",
              "main_country    category\n",
              "dtype: object"
            ]
          },
          "metadata": {
            "tags": []
          },
          "execution_count": 20
        }
      ]
    },
    {
      "cell_type": "markdown",
      "metadata": {
        "id": "nDTnpHDpkT4f"
      },
      "source": [
        "##Analisando nossas estatísticas univariadas a 'TV Show' e a 'Movie'.\n",
        "\n",
        "\n",
        "\n",
        "\n"
      ]
    },
    {
      "cell_type": "code",
      "metadata": {
        "colab": {
          "base_uri": "https://localhost:8080/"
        },
        "id": "s7dx8ZpszIgf",
        "outputId": "d61d0e71-dd92-44ce-bab8-d47cb96153cc"
      },
      "source": [
        "df[df['type']=='TV Show']['duration'].describe()"
      ],
      "execution_count": 21,
      "outputs": [
        {
          "output_type": "execute_result",
          "data": {
            "text/plain": [
              "count    2410.000000\n",
              "mean        1.775934\n",
              "std         1.596359\n",
              "min         1.000000\n",
              "25%         1.000000\n",
              "50%         1.000000\n",
              "75%         2.000000\n",
              "max        16.000000\n",
              "Name: duration, dtype: float64"
            ]
          },
          "metadata": {
            "tags": []
          },
          "execution_count": 21
        }
      ]
    },
    {
      "cell_type": "code",
      "metadata": {
        "colab": {
          "base_uri": "https://localhost:8080/"
        },
        "id": "CWxopkkQsiOu",
        "outputId": "caa5e36a-9b15-47f1-b452-a5f2c28cc944"
      },
      "source": [
        "df[df['type']=='Movie']['duration'].describe()"
      ],
      "execution_count": 22,
      "outputs": [
        {
          "output_type": "execute_result",
          "data": {
            "text/plain": [
              "count    5377.000000\n",
              "mean       99.307978\n",
              "std        28.530881\n",
              "min         3.000000\n",
              "25%        86.000000\n",
              "50%        98.000000\n",
              "75%       114.000000\n",
              "max       312.000000\n",
              "Name: duration, dtype: float64"
            ]
          },
          "metadata": {
            "tags": []
          },
          "execution_count": 22
        }
      ]
    },
    {
      "cell_type": "markdown",
      "metadata": {
        "id": "RTc-_W-Tzc2O"
      },
      "source": [
        "Podemos ver que temos um filme com duração de 3 minutos, vamos ver melhor que filme é esse."
      ]
    },
    {
      "cell_type": "code",
      "metadata": {
        "colab": {
          "base_uri": "https://localhost:8080/",
          "height": 424
        },
        "id": "3hhwyZuuzodi",
        "outputId": "37f21065-1c85-4b84-e931-508a38c6fa42"
      },
      "source": [
        "df.loc[(df['duration'] < 10) & (df['type'] == 'Movie')]"
      ],
      "execution_count": 23,
      "outputs": [
        {
          "output_type": "execute_result",
          "data": {
            "text/html": [
              "<div>\n",
              "<style scoped>\n",
              "    .dataframe tbody tr th:only-of-type {\n",
              "        vertical-align: middle;\n",
              "    }\n",
              "\n",
              "    .dataframe tbody tr th {\n",
              "        vertical-align: top;\n",
              "    }\n",
              "\n",
              "    .dataframe thead th {\n",
              "        text-align: right;\n",
              "    }\n",
              "</style>\n",
              "<table border=\"1\" class=\"dataframe\">\n",
              "  <thead>\n",
              "    <tr style=\"text-align: right;\">\n",
              "      <th></th>\n",
              "      <th>show_id</th>\n",
              "      <th>type</th>\n",
              "      <th>title</th>\n",
              "      <th>director</th>\n",
              "      <th>cast</th>\n",
              "      <th>country</th>\n",
              "      <th>date_added</th>\n",
              "      <th>release_year</th>\n",
              "      <th>rating</th>\n",
              "      <th>duration</th>\n",
              "      <th>listed_in</th>\n",
              "      <th>description</th>\n",
              "      <th>main_country</th>\n",
              "    </tr>\n",
              "  </thead>\n",
              "  <tbody>\n",
              "    <tr>\n",
              "      <th>1203</th>\n",
              "      <td>s1204</td>\n",
              "      <td>Movie</td>\n",
              "      <td>Canvas</td>\n",
              "      <td>Frank E. Abney III</td>\n",
              "      <td>desconhecido</td>\n",
              "      <td>United States</td>\n",
              "      <td>December 11, 2020</td>\n",
              "      <td>2020</td>\n",
              "      <td>G</td>\n",
              "      <td>9</td>\n",
              "      <td>Children &amp; Family Movies, Dramas</td>\n",
              "      <td>After a heartbreaking loss, a grandfather stru...</td>\n",
              "      <td>United States</td>\n",
              "    </tr>\n",
              "    <tr>\n",
              "      <th>1501</th>\n",
              "      <td>s1502</td>\n",
              "      <td>Movie</td>\n",
              "      <td>Cops and Robbers</td>\n",
              "      <td>Arnon Manor, Timothy Ware-Hill</td>\n",
              "      <td>Timothy Ware-Hill</td>\n",
              "      <td>United States</td>\n",
              "      <td>December 28, 2020</td>\n",
              "      <td>2020</td>\n",
              "      <td>PG-13</td>\n",
              "      <td>8</td>\n",
              "      <td>Dramas</td>\n",
              "      <td>Animation and activism unite in this multimedi...</td>\n",
              "      <td>United States</td>\n",
              "    </tr>\n",
              "    <tr>\n",
              "      <th>5605</th>\n",
              "      <td>s5606</td>\n",
              "      <td>Movie</td>\n",
              "      <td>Silent</td>\n",
              "      <td>Limbert Fabian, Brandon Oldenburg</td>\n",
              "      <td>desconhecido</td>\n",
              "      <td>United States</td>\n",
              "      <td>June 4, 2019</td>\n",
              "      <td>2014</td>\n",
              "      <td>TV-Y</td>\n",
              "      <td>3</td>\n",
              "      <td>Children &amp; Family Movies, Sci-Fi &amp; Fantasy</td>\n",
              "      <td>\"Silent\" is an animated short film created by ...</td>\n",
              "      <td>United States</td>\n",
              "    </tr>\n",
              "    <tr>\n",
              "      <th>5694</th>\n",
              "      <td>s5695</td>\n",
              "      <td>Movie</td>\n",
              "      <td>Sol Levante</td>\n",
              "      <td>Akira Saitoh</td>\n",
              "      <td>desconhecido</td>\n",
              "      <td>Japan</td>\n",
              "      <td>April 2, 2020</td>\n",
              "      <td>2020</td>\n",
              "      <td>TV-14</td>\n",
              "      <td>5</td>\n",
              "      <td>Action &amp; Adventure, Anime Features, Internatio...</td>\n",
              "      <td>A young warrior and her familiar search for th...</td>\n",
              "      <td>Japan</td>\n",
              "    </tr>\n",
              "  </tbody>\n",
              "</table>\n",
              "</div>"
            ],
            "text/plain": [
              "     show_id  ...   main_country\n",
              "1203   s1204  ...  United States\n",
              "1501   s1502  ...  United States\n",
              "5605   s5606  ...  United States\n",
              "5694   s5695  ...          Japan\n",
              "\n",
              "[4 rows x 13 columns]"
            ]
          },
          "metadata": {
            "tags": []
          },
          "execution_count": 23
        }
      ]
    },
    {
      "cell_type": "markdown",
      "metadata": {
        "id": "lqES-Llm0pOg"
      },
      "source": [
        "Dessa forma temos a confirmação de que nosso dataset contém curtas, que também seriam considerados filmes."
      ]
    },
    {
      "cell_type": "markdown",
      "metadata": {
        "id": "spUriI4n9NYg"
      },
      "source": [
        "* Veremos também agora as estatísticas univariadas para os anos de lançamento"
      ]
    },
    {
      "cell_type": "code",
      "metadata": {
        "colab": {
          "base_uri": "https://localhost:8080/"
        },
        "id": "0HcZws-BBZrZ",
        "outputId": "78877882-4d67-49f7-e595-db665f78b585"
      },
      "source": [
        "df['release_year'].describe()"
      ],
      "execution_count": 24,
      "outputs": [
        {
          "output_type": "execute_result",
          "data": {
            "text/plain": [
              "count    7787.000000\n",
              "mean     2013.932580\n",
              "std         8.757395\n",
              "min      1925.000000\n",
              "25%      2013.000000\n",
              "50%      2017.000000\n",
              "75%      2018.000000\n",
              "max      2021.000000\n",
              "Name: release_year, dtype: float64"
            ]
          },
          "metadata": {
            "tags": []
          },
          "execution_count": 24
        }
      ]
    },
    {
      "cell_type": "markdown",
      "metadata": {
        "id": "0X2l8Cl3CHvl"
      },
      "source": [
        "## Analisando agora estatísticas bivariadas teremos:"
      ]
    },
    {
      "cell_type": "code",
      "metadata": {
        "colab": {
          "base_uri": "https://localhost:8080/",
          "height": 110
        },
        "id": "6gIZ_YQFCNZU",
        "outputId": "b6180c96-ca61-49bf-f5ed-42b3bb1a55d7"
      },
      "source": [
        "df[df.type=='Movie'].corr(method='spearman')"
      ],
      "execution_count": 25,
      "outputs": [
        {
          "output_type": "execute_result",
          "data": {
            "text/html": [
              "<div>\n",
              "<style scoped>\n",
              "    .dataframe tbody tr th:only-of-type {\n",
              "        vertical-align: middle;\n",
              "    }\n",
              "\n",
              "    .dataframe tbody tr th {\n",
              "        vertical-align: top;\n",
              "    }\n",
              "\n",
              "    .dataframe thead th {\n",
              "        text-align: right;\n",
              "    }\n",
              "</style>\n",
              "<table border=\"1\" class=\"dataframe\">\n",
              "  <thead>\n",
              "    <tr style=\"text-align: right;\">\n",
              "      <th></th>\n",
              "      <th>release_year</th>\n",
              "      <th>duration</th>\n",
              "    </tr>\n",
              "  </thead>\n",
              "  <tbody>\n",
              "    <tr>\n",
              "      <th>release_year</th>\n",
              "      <td>1.000000</td>\n",
              "      <td>-0.210483</td>\n",
              "    </tr>\n",
              "    <tr>\n",
              "      <th>duration</th>\n",
              "      <td>-0.210483</td>\n",
              "      <td>1.000000</td>\n",
              "    </tr>\n",
              "  </tbody>\n",
              "</table>\n",
              "</div>"
            ],
            "text/plain": [
              "              release_year  duration\n",
              "release_year      1.000000 -0.210483\n",
              "duration         -0.210483  1.000000"
            ]
          },
          "metadata": {
            "tags": []
          },
          "execution_count": 25
        }
      ]
    },
    {
      "cell_type": "markdown",
      "metadata": {
        "id": "NFp8Vt00FNh-"
      },
      "source": [
        "dessa forma podemos notar que conforme o tempo foi passando a duração dos filmes foi diminuindo"
      ]
    },
    {
      "cell_type": "code",
      "metadata": {
        "colab": {
          "base_uri": "https://localhost:8080/",
          "height": 145
        },
        "id": "s7GaVoA-DqGA",
        "outputId": "02583a0d-5e28-4f4b-e8d9-c4810892d9e8"
      },
      "source": [
        "plt.subplot(16,8,10)\n",
        "sns.distplot(df[\"release_year\"])\n",
        "plt.title(\"DISTRIBUTION BEFORE\",fontsize=20)\n",
        "skewness=str(df[\"release_year\"].skew())\n",
        "plt.legend([skewness],title=\"skewness\",fontsize=20)"
      ],
      "execution_count": 26,
      "outputs": [
        {
          "output_type": "execute_result",
          "data": {
            "text/plain": [
              "<matplotlib.legend.Legend at 0x7f6f0dceb110>"
            ]
          },
          "metadata": {
            "tags": []
          },
          "execution_count": 26
        },
        {
          "output_type": "display_data",
          "data": {
            "image/png": "[encoded data removed]",
            "text/plain": [
              "<Figure size 432x288 with 1 Axes>"
            ]
          },
          "metadata": {
            "tags": [],
            "needs_background": "light"
          }
        }
      ]
    }
  ]
}