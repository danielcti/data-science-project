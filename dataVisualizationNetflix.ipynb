{
  "nbformat": 4,
  "nbformat_minor": 0,
  "metadata": {
    "colab": {
      "name": "dataVisualizationNetflix.ipynb",
      "provenance": [],
      "collapsed_sections": [
        "Ig3dSbqq1_gi",
        "G1Xs4VTXu64l",
        "QbKaLmX9GcMk",
        "Y2ujOQ-_yB-e",
        "gfVhNmUtNl_K",
        "CWiggorJ4ue5",
        "HT9hx5bBZtvn",
        "Z_6fVHu3cAuf",
        "nbmrdTh4edxu",
        "5TM2nzt9jXz2",
        "Hv-pqswdZyDt",
        "AVNCzmqhhMJF",
        "0X2l8Cl3CHvl",
        "1l98qPevqHuV",
        "mKWVpGigqnaX",
        "UNfcFiPT_W1g",
        "VlEWV64LxM_p"
      ],
      "authorship_tag": "ABX9TyOzvV21h5QmB32JHeLtQd9p",
      "include_colab_link": true
    },
    "kernelspec": {
      "name": "python3",
      "display_name": "Python 3"
    },
    "language_info": {
      "name": "python"
    }
  },
  "cells": [
    {
      "cell_type": "markdown",
      "metadata": {
        "id": "view-in-github",
        "colab_type": "text"
      },
      "source": [
        "<a href=\"https://colab.research.google.com/github/danielcti/data-science-project/blob/colabIgor/dataVisualizationNetflix.ipynb\" target=\"_parent\"><img src=\"https://colab.research.google.com/assets/colab-badge.svg\" alt=\"Open In Colab\"/></a>"
      ]
    },
    {
      "cell_type": "markdown",
      "metadata": {
        "id": "Ig3dSbqq1_gi"
      },
      "source": [
        "#Importando bibliotecas que julgamos necessárias"
      ]
    },
    {
      "cell_type": "code",
      "metadata": {
        "id": "mO-ve-kl0znF"
      },
      "source": [
        "import numpy as np\n",
        "import pandas as pd\n",
        "import matplotlib.pyplot as plt\n",
        "import matplotlib.cm as cm\n",
        "import seaborn as sns\n",
        "import datetime as dt\n",
        "from sklearn.metrics import confusion_matrix,classification_report\n",
        "from sklearn.metrics import silhouette_samples, silhouette_score\n",
        "from sklearn import preprocessing\n",
        "from sklearn.preprocessing import StandardScaler, MinMaxScaler\n",
        "from warnings import filterwarnings\n",
        "filterwarnings('ignore')\n"
      ],
      "execution_count": 1,
      "outputs": []
    },
    {
      "cell_type": "code",
      "metadata": {
        "id": "k_XEq2HV2H5D",
        "colab": {
          "base_uri": "https://localhost:8080/"
        },
        "outputId": "597e4f22-8422-4f97-e4bb-cacf42ba3534"
      },
      "source": [
        "df = pd.read_csv(\"netflix_titles.csv\")\n",
        "print('Setup Complete')"
      ],
      "execution_count": 2,
      "outputs": [
        {
          "output_type": "stream",
          "text": [
            "Setup Complete\n"
          ],
          "name": "stdout"
        }
      ]
    },
    {
      "cell_type": "markdown",
      "metadata": {
        "id": "G1Xs4VTXu64l"
      },
      "source": [
        "#Primeiramente vamos ver o que temos nos nossos dados carregados, para assim possibilitar nossa análise descritiva"
      ]
    },
    {
      "cell_type": "code",
      "metadata": {
        "colab": {
          "base_uri": "https://localhost:8080/",
          "height": 0
        },
        "id": "hTayh3jx2djA",
        "outputId": "2c2e8cc6-263a-4438-dfdb-227e0de3f822"
      },
      "source": [
        "df.head()"
      ],
      "execution_count": 3,
      "outputs": [
        {
          "output_type": "execute_result",
          "data": {
            "text/html": [
              "<div>\n",
              "<style scoped>\n",
              "    .dataframe tbody tr th:only-of-type {\n",
              "        vertical-align: middle;\n",
              "    }\n",
              "\n",
              "    .dataframe tbody tr th {\n",
              "        vertical-align: top;\n",
              "    }\n",
              "\n",
              "    .dataframe thead th {\n",
              "        text-align: right;\n",
              "    }\n",
              "</style>\n",
              "<table border=\"1\" class=\"dataframe\">\n",
              "  <thead>\n",
              "    <tr style=\"text-align: right;\">\n",
              "      <th></th>\n",
              "      <th>show_id</th>\n",
              "      <th>type</th>\n",
              "      <th>title</th>\n",
              "      <th>director</th>\n",
              "      <th>cast</th>\n",
              "      <th>country</th>\n",
              "      <th>date_added</th>\n",
              "      <th>release_year</th>\n",
              "      <th>rating</th>\n",
              "      <th>duration</th>\n",
              "      <th>listed_in</th>\n",
              "      <th>description</th>\n",
              "    </tr>\n",
              "  </thead>\n",
              "  <tbody>\n",
              "    <tr>\n",
              "      <th>0</th>\n",
              "      <td>s1</td>\n",
              "      <td>TV Show</td>\n",
              "      <td>3%</td>\n",
              "      <td>NaN</td>\n",
              "      <td>João Miguel, Bianca Comparato, Michel Gomes, R...</td>\n",
              "      <td>Brazil</td>\n",
              "      <td>August 14, 2020</td>\n",
              "      <td>2020</td>\n",
              "      <td>TV-MA</td>\n",
              "      <td>4 Seasons</td>\n",
              "      <td>International TV Shows, TV Dramas, TV Sci-Fi &amp;...</td>\n",
              "      <td>In a future where the elite inhabit an island ...</td>\n",
              "    </tr>\n",
              "    <tr>\n",
              "      <th>1</th>\n",
              "      <td>s2</td>\n",
              "      <td>Movie</td>\n",
              "      <td>7:19</td>\n",
              "      <td>Jorge Michel Grau</td>\n",
              "      <td>Demián Bichir, Héctor Bonilla, Oscar Serrano, ...</td>\n",
              "      <td>Mexico</td>\n",
              "      <td>December 23, 2016</td>\n",
              "      <td>2016</td>\n",
              "      <td>TV-MA</td>\n",
              "      <td>93 min</td>\n",
              "      <td>Dramas, International Movies</td>\n",
              "      <td>After a devastating earthquake hits Mexico Cit...</td>\n",
              "    </tr>\n",
              "    <tr>\n",
              "      <th>2</th>\n",
              "      <td>s3</td>\n",
              "      <td>Movie</td>\n",
              "      <td>23:59</td>\n",
              "      <td>Gilbert Chan</td>\n",
              "      <td>Tedd Chan, Stella Chung, Henley Hii, Lawrence ...</td>\n",
              "      <td>Singapore</td>\n",
              "      <td>December 20, 2018</td>\n",
              "      <td>2011</td>\n",
              "      <td>R</td>\n",
              "      <td>78 min</td>\n",
              "      <td>Horror Movies, International Movies</td>\n",
              "      <td>When an army recruit is found dead, his fellow...</td>\n",
              "    </tr>\n",
              "    <tr>\n",
              "      <th>3</th>\n",
              "      <td>s4</td>\n",
              "      <td>Movie</td>\n",
              "      <td>9</td>\n",
              "      <td>Shane Acker</td>\n",
              "      <td>Elijah Wood, John C. Reilly, Jennifer Connelly...</td>\n",
              "      <td>United States</td>\n",
              "      <td>November 16, 2017</td>\n",
              "      <td>2009</td>\n",
              "      <td>PG-13</td>\n",
              "      <td>80 min</td>\n",
              "      <td>Action &amp; Adventure, Independent Movies, Sci-Fi...</td>\n",
              "      <td>In a postapocalyptic world, rag-doll robots hi...</td>\n",
              "    </tr>\n",
              "    <tr>\n",
              "      <th>4</th>\n",
              "      <td>s5</td>\n",
              "      <td>Movie</td>\n",
              "      <td>21</td>\n",
              "      <td>Robert Luketic</td>\n",
              "      <td>Jim Sturgess, Kevin Spacey, Kate Bosworth, Aar...</td>\n",
              "      <td>United States</td>\n",
              "      <td>January 1, 2020</td>\n",
              "      <td>2008</td>\n",
              "      <td>PG-13</td>\n",
              "      <td>123 min</td>\n",
              "      <td>Dramas</td>\n",
              "      <td>A brilliant group of students become card-coun...</td>\n",
              "    </tr>\n",
              "  </tbody>\n",
              "</table>\n",
              "</div>"
            ],
            "text/plain": [
              "  show_id  ...                                        description\n",
              "0      s1  ...  In a future where the elite inhabit an island ...\n",
              "1      s2  ...  After a devastating earthquake hits Mexico Cit...\n",
              "2      s3  ...  When an army recruit is found dead, his fellow...\n",
              "3      s4  ...  In a postapocalyptic world, rag-doll robots hi...\n",
              "4      s5  ...  A brilliant group of students become card-coun...\n",
              "\n",
              "[5 rows x 12 columns]"
            ]
          },
          "metadata": {
            "tags": []
          },
          "execution_count": 3
        }
      ]
    },
    {
      "cell_type": "code",
      "metadata": {
        "colab": {
          "base_uri": "https://localhost:8080/",
          "height": 0
        },
        "id": "vTuCKlkj2rdM",
        "outputId": "a60f0fcf-b13a-4100-f5e6-bf72f82264c1"
      },
      "source": [
        "df.tail()"
      ],
      "execution_count": 4,
      "outputs": [
        {
          "output_type": "execute_result",
          "data": {
            "text/html": [
              "<div>\n",
              "<style scoped>\n",
              "    .dataframe tbody tr th:only-of-type {\n",
              "        vertical-align: middle;\n",
              "    }\n",
              "\n",
              "    .dataframe tbody tr th {\n",
              "        vertical-align: top;\n",
              "    }\n",
              "\n",
              "    .dataframe thead th {\n",
              "        text-align: right;\n",
              "    }\n",
              "</style>\n",
              "<table border=\"1\" class=\"dataframe\">\n",
              "  <thead>\n",
              "    <tr style=\"text-align: right;\">\n",
              "      <th></th>\n",
              "      <th>show_id</th>\n",
              "      <th>type</th>\n",
              "      <th>title</th>\n",
              "      <th>director</th>\n",
              "      <th>cast</th>\n",
              "      <th>country</th>\n",
              "      <th>date_added</th>\n",
              "      <th>release_year</th>\n",
              "      <th>rating</th>\n",
              "      <th>duration</th>\n",
              "      <th>listed_in</th>\n",
              "      <th>description</th>\n",
              "    </tr>\n",
              "  </thead>\n",
              "  <tbody>\n",
              "    <tr>\n",
              "      <th>7782</th>\n",
              "      <td>s7783</td>\n",
              "      <td>Movie</td>\n",
              "      <td>Zozo</td>\n",
              "      <td>Josef Fares</td>\n",
              "      <td>Imad Creidi, Antoinette Turk, Elias Gergi, Car...</td>\n",
              "      <td>Sweden, Czech Republic, United Kingdom, Denmar...</td>\n",
              "      <td>October 19, 2020</td>\n",
              "      <td>2005</td>\n",
              "      <td>TV-MA</td>\n",
              "      <td>99 min</td>\n",
              "      <td>Dramas, International Movies</td>\n",
              "      <td>When Lebanon's Civil War deprives Zozo of his ...</td>\n",
              "    </tr>\n",
              "    <tr>\n",
              "      <th>7783</th>\n",
              "      <td>s7784</td>\n",
              "      <td>Movie</td>\n",
              "      <td>Zubaan</td>\n",
              "      <td>Mozez Singh</td>\n",
              "      <td>Vicky Kaushal, Sarah-Jane Dias, Raaghav Chanan...</td>\n",
              "      <td>India</td>\n",
              "      <td>March 2, 2019</td>\n",
              "      <td>2015</td>\n",
              "      <td>TV-14</td>\n",
              "      <td>111 min</td>\n",
              "      <td>Dramas, International Movies, Music &amp; Musicals</td>\n",
              "      <td>A scrappy but poor boy worms his way into a ty...</td>\n",
              "    </tr>\n",
              "    <tr>\n",
              "      <th>7784</th>\n",
              "      <td>s7785</td>\n",
              "      <td>Movie</td>\n",
              "      <td>Zulu Man in Japan</td>\n",
              "      <td>NaN</td>\n",
              "      <td>Nasty C</td>\n",
              "      <td>NaN</td>\n",
              "      <td>September 25, 2020</td>\n",
              "      <td>2019</td>\n",
              "      <td>TV-MA</td>\n",
              "      <td>44 min</td>\n",
              "      <td>Documentaries, International Movies, Music &amp; M...</td>\n",
              "      <td>In this documentary, South African rapper Nast...</td>\n",
              "    </tr>\n",
              "    <tr>\n",
              "      <th>7785</th>\n",
              "      <td>s7786</td>\n",
              "      <td>TV Show</td>\n",
              "      <td>Zumbo's Just Desserts</td>\n",
              "      <td>NaN</td>\n",
              "      <td>Adriano Zumbo, Rachel Khoo</td>\n",
              "      <td>Australia</td>\n",
              "      <td>October 31, 2020</td>\n",
              "      <td>2019</td>\n",
              "      <td>TV-PG</td>\n",
              "      <td>1 Season</td>\n",
              "      <td>International TV Shows, Reality TV</td>\n",
              "      <td>Dessert wizard Adriano Zumbo looks for the nex...</td>\n",
              "    </tr>\n",
              "    <tr>\n",
              "      <th>7786</th>\n",
              "      <td>s7787</td>\n",
              "      <td>Movie</td>\n",
              "      <td>ZZ TOP: THAT LITTLE OL' BAND FROM TEXAS</td>\n",
              "      <td>Sam Dunn</td>\n",
              "      <td>NaN</td>\n",
              "      <td>United Kingdom, Canada, United States</td>\n",
              "      <td>March 1, 2020</td>\n",
              "      <td>2019</td>\n",
              "      <td>TV-MA</td>\n",
              "      <td>90 min</td>\n",
              "      <td>Documentaries, Music &amp; Musicals</td>\n",
              "      <td>This documentary delves into the mystique behi...</td>\n",
              "    </tr>\n",
              "  </tbody>\n",
              "</table>\n",
              "</div>"
            ],
            "text/plain": [
              "     show_id  ...                                        description\n",
              "7782   s7783  ...  When Lebanon's Civil War deprives Zozo of his ...\n",
              "7783   s7784  ...  A scrappy but poor boy worms his way into a ty...\n",
              "7784   s7785  ...  In this documentary, South African rapper Nast...\n",
              "7785   s7786  ...  Dessert wizard Adriano Zumbo looks for the nex...\n",
              "7786   s7787  ...  This documentary delves into the mystique behi...\n",
              "\n",
              "[5 rows x 12 columns]"
            ]
          },
          "metadata": {
            "tags": []
          },
          "execution_count": 4
        }
      ]
    },
    {
      "cell_type": "markdown",
      "metadata": {
        "id": "MhD7FZNxwAFZ"
      },
      "source": [
        "Agora iremos ver o tamanho dos nossos dados:"
      ]
    },
    {
      "cell_type": "code",
      "metadata": {
        "colab": {
          "base_uri": "https://localhost:8080/"
        },
        "id": "uMVYA_TiwYuH",
        "outputId": "02f40cbc-eafd-422e-811d-d1ea8b8e20c1"
      },
      "source": [
        "df.shape"
      ],
      "execution_count": 5,
      "outputs": [
        {
          "output_type": "execute_result",
          "data": {
            "text/plain": [
              "(7787, 12)"
            ]
          },
          "metadata": {
            "tags": []
          },
          "execution_count": 5
        }
      ]
    },
    {
      "cell_type": "markdown",
      "metadata": {
        "id": "N25tM5ZswgX0"
      },
      "source": [
        "Podemos ver que temos 12 atributos com 7787 instâncias "
      ]
    },
    {
      "cell_type": "markdown",
      "metadata": {
        "id": "0t6Kt_EexgdO"
      },
      "source": [
        "### Podemos também ver que nossos dados já estão separados entre séries(*TV Show*) e filmes (*Movie*). Então, até o momento, não precisamos aplicar nenhuma função para definir entre séries e filmes."
      ]
    },
    {
      "cell_type": "markdown",
      "metadata": {
        "id": "LJZvaZSrUFCU"
      },
      "source": [
        "#Agora, dando início ao nosso pré-processamento dos dados\n",
        "\n",
        "\n",
        "\n",
        "\n"
      ]
    },
    {
      "cell_type": "markdown",
      "metadata": {
        "id": "QbKaLmX9GcMk"
      },
      "source": [
        "### Vamos agora tratar nossas instâncias, primeiramente verificando caso tenhamos dados ausentes. Caso positivo iremos tratá-los da maneira cabível, seja excluindo, substituindo, ou alterando da melhor maneira possível."
      ]
    },
    {
      "cell_type": "code",
      "metadata": {
        "colab": {
          "base_uri": "https://localhost:8080/"
        },
        "id": "iWGh_nxz5ToT",
        "outputId": "80be27ad-3a9e-4fa3-b630-a74e052a7f1d"
      },
      "source": [
        "df.isnull().sum()/(len(df))*100"
      ],
      "execution_count": 6,
      "outputs": [
        {
          "output_type": "execute_result",
          "data": {
            "text/plain": [
              "show_id          0.000000\n",
              "type             0.000000\n",
              "title            0.000000\n",
              "director        30.679337\n",
              "cast             9.220496\n",
              "country          6.510851\n",
              "date_added       0.128419\n",
              "release_year     0.000000\n",
              "rating           0.089893\n",
              "duration         0.000000\n",
              "listed_in        0.000000\n",
              "description      0.000000\n",
              "dtype: float64"
            ]
          },
          "metadata": {
            "tags": []
          },
          "execution_count": 6
        }
      ]
    },
    {
      "cell_type": "markdown",
      "metadata": {
        "id": "6vaMN1Po6D-s"
      },
      "source": [
        "Primeiramente veremos quais as instâncias de *types* para que possamos facilitar nosso tratamento para *director* que possuem 30% de dados ausentes."
      ]
    },
    {
      "cell_type": "code",
      "metadata": {
        "colab": {
          "base_uri": "https://localhost:8080/"
        },
        "id": "WHQngGVfG5ce",
        "outputId": "4b7443d3-ae5f-40b9-c5f7-907397c2eac0"
      },
      "source": [
        "df.type.unique()"
      ],
      "execution_count": 7,
      "outputs": [
        {
          "output_type": "execute_result",
          "data": {
            "text/plain": [
              "array(['TV Show', 'Movie'], dtype=object)"
            ]
          },
          "metadata": {
            "tags": []
          },
          "execution_count": 7
        }
      ]
    },
    {
      "cell_type": "markdown",
      "metadata": {
        "id": "xmD2dTml7YWb"
      },
      "source": [
        "Como só temos duas instâncias de *type*, obsevadas logo acima e que, além disso, sabemos que em 'TV Show' os diretores variam por episódio fazendo sentido não serem guardados tais dados. Dessa forma, iremos dividir em dois datasets, dfMovie e dfShow, para checar se essa suposição de fato se prova verdadeira."
      ]
    },
    {
      "cell_type": "code",
      "metadata": {
        "id": "D8W4rFTp51Fg"
      },
      "source": [
        "dfMovie = df[(df.type == 'Movie')]\n",
        "dfShow = df[(df.type == 'TV Show')]"
      ],
      "execution_count": 8,
      "outputs": []
    },
    {
      "cell_type": "code",
      "metadata": {
        "colab": {
          "base_uri": "https://localhost:8080/"
        },
        "id": "a7syXxLR78-v",
        "outputId": "215d0b9b-cb1e-486c-cdde-8b83283cdddb"
      },
      "source": [
        "dfShow.isnull().sum()/(len(dfShow))*100"
      ],
      "execution_count": 9,
      "outputs": [
        {
          "output_type": "execute_result",
          "data": {
            "text/plain": [
              "show_id          0.000000\n",
              "type             0.000000\n",
              "title            0.000000\n",
              "director        92.365145\n",
              "cast            12.116183\n",
              "country         11.493776\n",
              "date_added       0.414938\n",
              "release_year     0.000000\n",
              "rating           0.082988\n",
              "duration         0.000000\n",
              "listed_in        0.000000\n",
              "description      0.000000\n",
              "dtype: float64"
            ]
          },
          "metadata": {
            "tags": []
          },
          "execution_count": 9
        }
      ]
    },
    {
      "cell_type": "code",
      "metadata": {
        "colab": {
          "base_uri": "https://localhost:8080/"
        },
        "id": "IDH6Uzi_8G1H",
        "outputId": "b7a47099-41c5-44ad-d164-c9b49d139196"
      },
      "source": [
        "dfMovie.isnull().sum()/(len(dfMovie))*100"
      ],
      "execution_count": 10,
      "outputs": [
        {
          "output_type": "execute_result",
          "data": {
            "text/plain": [
              "show_id         0.000000\n",
              "type            0.000000\n",
              "title           0.000000\n",
              "director        3.031430\n",
              "cast            7.922633\n",
              "country         4.277478\n",
              "date_added      0.000000\n",
              "release_year    0.000000\n",
              "rating          0.092989\n",
              "duration        0.000000\n",
              "listed_in       0.000000\n",
              "description     0.000000\n",
              "dtype: float64"
            ]
          },
          "metadata": {
            "tags": []
          },
          "execution_count": 10
        }
      ]
    },
    {
      "cell_type": "markdown",
      "metadata": {
        "id": "fxf0XIbQ80zL"
      },
      "source": [
        "De fato, nossa suposição se tornou em partes verdadeira, visto que a feature *director* apresentou 92% de dados ausentes para dfShow e apenas 3% para dfMovie.\n",
        "> Tendo isso em vista, poderíamos trabalhar com dois datasets onde vamos excluir o atributo em dfShows e apenas substituí-los em dfMovies ou substituir todos os valores ausentes por 'desconhecido'.\n"
      ]
    },
    {
      "cell_type": "markdown",
      "metadata": {
        "id": "a0PMYiAsCwwV"
      },
      "source": [
        "vamos seguir com a segunda opção por enquanto"
      ]
    },
    {
      "cell_type": "code",
      "metadata": {
        "id": "irPcZq6kCujY"
      },
      "source": [
        "df['director']=df['director'].fillna('desconhecido')"
      ],
      "execution_count": 11,
      "outputs": []
    },
    {
      "cell_type": "markdown",
      "metadata": {
        "id": "-E94MGIbJdsu"
      },
      "source": [
        "Agora com relação ao atributo cast, iremos tratar da mesma forma que *director*"
      ]
    },
    {
      "cell_type": "code",
      "metadata": {
        "id": "cwAiydYyKQUq"
      },
      "source": [
        "df['cast']=df['cast'].fillna('desconhecido')"
      ],
      "execution_count": 12,
      "outputs": []
    },
    {
      "cell_type": "markdown",
      "metadata": {
        "id": "oxJveKqfKU40"
      },
      "source": [
        "Com relação a *country* vamos substituir pela moda, assim como em *date_added*"
      ]
    },
    {
      "cell_type": "code",
      "metadata": {
        "id": "fLwtF33EwccG"
      },
      "source": [
        "df['country']=df['country'].fillna(df['country'].mode()[0])\n",
        "df['rating']=df['rating'].fillna(df['rating'].mode()[0])\n",
        "df['date_added']=df['date_added'].fillna(df['date_added'].mode()[0])"
      ],
      "execution_count": 13,
      "outputs": []
    },
    {
      "cell_type": "code",
      "metadata": {
        "colab": {
          "base_uri": "https://localhost:8080/"
        },
        "id": "-cCQpvtBL6ec",
        "outputId": "7b31b8a9-7d5b-4ebf-af3a-e14dca238671"
      },
      "source": [
        "df.isnull().sum()/(len(df))*100"
      ],
      "execution_count": 14,
      "outputs": [
        {
          "output_type": "execute_result",
          "data": {
            "text/plain": [
              "show_id         0.0\n",
              "type            0.0\n",
              "title           0.0\n",
              "director        0.0\n",
              "cast            0.0\n",
              "country         0.0\n",
              "date_added      0.0\n",
              "release_year    0.0\n",
              "rating          0.0\n",
              "duration        0.0\n",
              "listed_in       0.0\n",
              "description     0.0\n",
              "dtype: float64"
            ]
          },
          "metadata": {
            "tags": []
          },
          "execution_count": 14
        }
      ]
    },
    {
      "cell_type": "markdown",
      "metadata": {
        "id": "vYaLBf6wML5c"
      },
      "source": [
        "Como podemos ver, todos os dados ausentes foram tratados. Lembrando que poderíamos tê-los tratados com algoritmos como KNN ou Árvore de decisão, porém como temos atributos compostos por listas achamos melhor apenas utilizar os métodos apresentatos acima."
      ]
    },
    {
      "cell_type": "markdown",
      "metadata": {
        "id": "ar4ABh5cJMOw"
      },
      "source": [
        "## Realizando agora a definição de tipos, vamos primeiro analisá-los para podermos decidir quais ações tomar"
      ]
    },
    {
      "cell_type": "code",
      "metadata": {
        "colab": {
          "base_uri": "https://localhost:8080/"
        },
        "id": "wwP9UZ922Tab",
        "outputId": "6f38d350-6958-4c9a-d392-d4bf1d971cd4"
      },
      "source": [
        "df.dtypes"
      ],
      "execution_count": 15,
      "outputs": [
        {
          "output_type": "execute_result",
          "data": {
            "text/plain": [
              "show_id         object\n",
              "type            object\n",
              "title           object\n",
              "director        object\n",
              "cast            object\n",
              "country         object\n",
              "date_added      object\n",
              "release_year     int64\n",
              "rating          object\n",
              "duration        object\n",
              "listed_in       object\n",
              "description     object\n",
              "dtype: object"
            ]
          },
          "metadata": {
            "tags": []
          },
          "execution_count": 15
        }
      ]
    },
    {
      "cell_type": "markdown",
      "metadata": {
        "id": "Y2ujOQ-_yB-e"
      },
      "source": [
        "###Como pudemos notar ao mostrar o nosso dataset inicialmente o campo *country* é composto de uma lista de países, porém será mais prático trabalhar apenas com o país principal, que neste caso consideramos o primeiro da lista. Então iremos adicionar a coluna *main_country* ao data frame."
      ]
    },
    {
      "cell_type": "code",
      "metadata": {
        "colab": {
          "base_uri": "https://localhost:8080/"
        },
        "id": "oe5iFRj_wjqA",
        "outputId": "e80345ab-158f-4c2d-9463-bcb56fbbd1c9"
      },
      "source": [
        "df['main_country']=df['country'].apply(lambda x: x.split(\",\")[0])\n",
        "df['main_country']"
      ],
      "execution_count": 16,
      "outputs": [
        {
          "output_type": "execute_result",
          "data": {
            "text/plain": [
              "0               Brazil\n",
              "1               Mexico\n",
              "2            Singapore\n",
              "3        United States\n",
              "4        United States\n",
              "             ...      \n",
              "7782            Sweden\n",
              "7783             India\n",
              "7784     United States\n",
              "7785         Australia\n",
              "7786    United Kingdom\n",
              "Name: main_country, Length: 7787, dtype: object"
            ]
          },
          "metadata": {
            "tags": []
          },
          "execution_count": 16
        }
      ]
    },
    {
      "cell_type": "markdown",
      "metadata": {
        "id": "gfVhNmUtNl_K"
      },
      "source": [
        "### Com relação a *duration*, teremos que tratar o nosso dataset para tirar 'min' de *type*=='Movie' e 'Season' de *type*=='TV Show'. Além disso teremos que alterar o tipo dos nossos atributos para int64."
      ]
    },
    {
      "cell_type": "code",
      "metadata": {
        "id": "EcYcgWYfkkl0"
      },
      "source": [
        "df['duration'] = df.duration.apply(lambda x: x.split()[0])\n",
        "dfMovie['duration'] = dfMovie.duration.apply(lambda x: x.split()[0])\n",
        "dfShow['duration'] = dfShow.duration.apply(lambda x: x.split()[0])"
      ],
      "execution_count": 17,
      "outputs": []
    },
    {
      "cell_type": "code",
      "metadata": {
        "id": "-99Tmf32rNge"
      },
      "source": [
        "df['duration'] = df.duration.astype('int')\n",
        "dfMovie['duration'] = dfMovie.duration.astype('int')\n",
        "dfShow['duration'] = dfShow.duration.astype('int')"
      ],
      "execution_count": 18,
      "outputs": []
    },
    {
      "cell_type": "markdown",
      "metadata": {
        "id": "CWiggorJ4ue5"
      },
      "source": [
        "\n",
        "\n",
        "### Vamos tratar como variáveis categóricas todas as features com exceção de *date_added*, *release_year*, *duration* e *show_id* e as que temos listas como valores."
      ]
    },
    {
      "cell_type": "code",
      "metadata": {
        "id": "mHnqJjoYd8h2"
      },
      "source": [
        "df['main_country']=df['main_country'].astype('category')\n",
        "df['director']=df['director'].astype('category')\n",
        "df['listed_in']=df['listed_in'].astype('category')\n",
        "df['type']=df['type'].astype('category')\n",
        "df['title']=df['title'].astype('category')\n",
        "df['rating']=df['rating'].astype('category')"
      ],
      "execution_count": 19,
      "outputs": []
    },
    {
      "cell_type": "markdown",
      "metadata": {
        "id": "HT9hx5bBZtvn"
      },
      "source": [
        "### Agora iremos tratar do nosso atributo *date_added*"
      ]
    },
    {
      "cell_type": "code",
      "metadata": {
        "id": "q5YZBpHTaOjD"
      },
      "source": [
        "df['date_added'] = pd.to_datetime(df['date_added'])"
      ],
      "execution_count": 20,
      "outputs": []
    },
    {
      "cell_type": "markdown",
      "metadata": {
        "id": "y63c3qJM7Q0W"
      },
      "source": [
        "Vamos utilizar apenas o ano em que foi adicionado o título à netflix criando uma nova feature chamada *year_added*"
      ]
    },
    {
      "cell_type": "code",
      "metadata": {
        "colab": {
          "base_uri": "https://localhost:8080/"
        },
        "id": "plEgIwYx58gK",
        "outputId": "995a8922-ee65-49bb-d575-13d848b53b19"
      },
      "source": [
        "df.date_added.head()"
      ],
      "execution_count": 21,
      "outputs": [
        {
          "output_type": "execute_result",
          "data": {
            "text/plain": [
              "0   2020-08-14\n",
              "1   2016-12-23\n",
              "2   2018-12-20\n",
              "3   2017-11-16\n",
              "4   2020-01-01\n",
              "Name: date_added, dtype: datetime64[ns]"
            ]
          },
          "metadata": {
            "tags": []
          },
          "execution_count": 21
        }
      ]
    },
    {
      "cell_type": "code",
      "metadata": {
        "id": "KMo6aeJ47lML"
      },
      "source": [
        "\n",
        "df['year_added'] = df.date_added.apply(lambda x: x.strftime('%Y-%m-%d'))"
      ],
      "execution_count": 22,
      "outputs": []
    },
    {
      "cell_type": "code",
      "metadata": {
        "id": "dTe_NnU7-Ece"
      },
      "source": [
        "df['year_added'] = df.year_added.apply(lambda x: x[:4])"
      ],
      "execution_count": 23,
      "outputs": []
    },
    {
      "cell_type": "code",
      "metadata": {
        "id": "Rjo_-23G-Ocj"
      },
      "source": [
        "df['year_added'] = df.year_added.astype('int')"
      ],
      "execution_count": 24,
      "outputs": []
    },
    {
      "cell_type": "code",
      "metadata": {
        "colab": {
          "base_uri": "https://localhost:8080/"
        },
        "id": "vlnJGyuA1DyG",
        "outputId": "501085ca-9755-4e3c-d806-bb72d579c22b"
      },
      "source": [
        "df.dtypes"
      ],
      "execution_count": 25,
      "outputs": [
        {
          "output_type": "execute_result",
          "data": {
            "text/plain": [
              "show_id                 object\n",
              "type                  category\n",
              "title                 category\n",
              "director              category\n",
              "cast                    object\n",
              "country                 object\n",
              "date_added      datetime64[ns]\n",
              "release_year             int64\n",
              "rating                category\n",
              "duration                 int64\n",
              "listed_in             category\n",
              "description             object\n",
              "main_country          category\n",
              "year_added               int64\n",
              "dtype: object"
            ]
          },
          "metadata": {
            "tags": []
          },
          "execution_count": 25
        }
      ]
    },
    {
      "cell_type": "markdown",
      "metadata": {
        "id": "Z_6fVHu3cAuf"
      },
      "source": [
        "## Normalizando utilzando o z-score para o ano que foi liberada na netflix e durações de filmes e utilizando o minmax para séries \n",
        "> Isso será útil para treinar o nosso modelo posteriormente.(lembrando que estaremos serparando as temporadas e os minutos com os datasets dfShow e dfMovie)"
      ]
    },
    {
      "cell_type": "code",
      "metadata": {
        "colab": {
          "base_uri": "https://localhost:8080/"
        },
        "id": "HCLslloicPsL",
        "outputId": "177189f2-76db-4bf1-ca5b-47bb5f742898"
      },
      "source": [
        "scaler = StandardScaler()\n",
        "dfMovie['release_year_norm'] = scaler.fit_transform(dfMovie[['release_year']])\n",
        "dfMovie['release_year_norm'].describe()"
      ],
      "execution_count": 26,
      "outputs": [
        {
          "output_type": "execute_result",
          "data": {
            "text/plain": [
              "count    5.377000e+03\n",
              "mean    -6.347577e-15\n",
              "std      1.000093e+00\n",
              "min     -7.339807e+00\n",
              "25%     -9.521768e-02\n",
              "50%      3.187589e-01\n",
              "75%      5.257471e-01\n",
              "max      8.362295e-01\n",
              "Name: release_year_norm, dtype: float64"
            ]
          },
          "metadata": {
            "tags": []
          },
          "execution_count": 26
        }
      ]
    },
    {
      "cell_type": "code",
      "metadata": {
        "colab": {
          "base_uri": "https://localhost:8080/"
        },
        "id": "-hyFqXm3dR_3",
        "outputId": "3b714a47-0d06-42e7-a92c-37f6e2daeefa"
      },
      "source": [
        "dfMovie['duration_norm'] = scaler.fit_transform(dfMovie[['duration']])\n",
        "dfMovie['duration_norm'].describe()"
      ],
      "execution_count": 27,
      "outputs": [
        {
          "output_type": "execute_result",
          "data": {
            "text/plain": [
              "count    5.377000e+03\n",
              "mean     9.630054e-17\n",
              "std      1.000093e+00\n",
              "min     -3.375884e+00\n",
              "25%     -4.664846e-01\n",
              "50%     -4.584857e-02\n",
              "75%      5.149995e-01\n",
              "max      7.455494e+00\n",
              "Name: duration_norm, dtype: float64"
            ]
          },
          "metadata": {
            "tags": []
          },
          "execution_count": 27
        }
      ]
    },
    {
      "cell_type": "code",
      "metadata": {
        "colab": {
          "base_uri": "https://localhost:8080/"
        },
        "id": "fDVrKxavdZM4",
        "outputId": "ac4bebc3-c541-4c9b-fb72-a411d63ffa60"
      },
      "source": [
        "minmax_scaler = MinMaxScaler()\n",
        "dfShow['release_year_norm'] = minmax_scaler.fit_transform(dfShow[['release_year']])\n",
        "dfShow['release_year_norm'].describe()"
      ],
      "execution_count": 28,
      "outputs": [
        {
          "output_type": "execute_result",
          "data": {
            "text/plain": [
              "count    2410.000000\n",
              "mean        0.949914\n",
              "std         0.059009\n",
              "min         0.000000\n",
              "25%         0.937500\n",
              "50%         0.968750\n",
              "75%         0.979167\n",
              "max         1.000000\n",
              "Name: release_year_norm, dtype: float64"
            ]
          },
          "metadata": {
            "tags": []
          },
          "execution_count": 28
        }
      ]
    },
    {
      "cell_type": "code",
      "metadata": {
        "colab": {
          "base_uri": "https://localhost:8080/"
        },
        "id": "EfsIvSJwlFHr",
        "outputId": "8adcce91-3556-4cc2-8a07-f3d8d79a472d"
      },
      "source": [
        "dfShow['duration_norm'] = minmax_scaler.fit_transform(dfShow[['duration']])\n",
        "dfShow['duration_norm'].describe()"
      ],
      "execution_count": 29,
      "outputs": [
        {
          "output_type": "execute_result",
          "data": {
            "text/plain": [
              "count    2410.000000\n",
              "mean        0.051729\n",
              "std         0.106424\n",
              "min         0.000000\n",
              "25%         0.000000\n",
              "50%         0.000000\n",
              "75%         0.066667\n",
              "max         1.000000\n",
              "Name: duration_norm, dtype: float64"
            ]
          },
          "metadata": {
            "tags": []
          },
          "execution_count": 29
        }
      ]
    },
    {
      "cell_type": "markdown",
      "metadata": {
        "id": "nbmrdTh4edxu"
      },
      "source": [
        "### Discretizando em intervalos iguais as features *duration* e *release_year* do dataset de filme temos:"
      ]
    },
    {
      "cell_type": "code",
      "metadata": {
        "colab": {
          "base_uri": "https://localhost:8080/"
        },
        "id": "CNKb-dWliAnJ",
        "outputId": "076aada2-7ed8-4daa-bed4-186f4ec3d006"
      },
      "source": [
        "dfMovie['duration_dist'] = pd.qcut(dfMovie['duration'],4)\n",
        "dfMovie['duration_dist'].describe()"
      ],
      "execution_count": 30,
      "outputs": [
        {
          "output_type": "execute_result",
          "data": {
            "text/plain": [
              "count              5377\n",
              "unique                4\n",
              "top       (2.999, 86.0]\n",
              "freq               1377\n",
              "Name: duration_dist, dtype: object"
            ]
          },
          "metadata": {
            "tags": []
          },
          "execution_count": 30
        }
      ]
    },
    {
      "cell_type": "code",
      "metadata": {
        "colab": {
          "base_uri": "https://localhost:8080/"
        },
        "id": "-nQwZbTXi1hK",
        "outputId": "6791b159-61a9-4558-f0af-5cc45fd7e380"
      },
      "source": [
        "dfMovie['release_year_dist'] = pd.qcut(dfMovie['release_year'],4)\n",
        "dfMovie['release_year_dist'].describe()"
      ],
      "execution_count": 31,
      "outputs": [
        {
          "output_type": "execute_result",
          "data": {
            "text/plain": [
              "count                 5377\n",
              "unique                   4\n",
              "top       (2016.0, 2018.0]\n",
              "freq                  1478\n",
              "Name: release_year_dist, dtype: object"
            ]
          },
          "metadata": {
            "tags": []
          },
          "execution_count": 31
        }
      ]
    },
    {
      "cell_type": "code",
      "metadata": {
        "colab": {
          "base_uri": "https://localhost:8080/"
        },
        "id": "K540tunJi_FL",
        "outputId": "6ce84766-7f0a-4ef3-8e1c-cfb9471a811d"
      },
      "source": [
        "dfMovie['duration_dist'].value_counts()"
      ],
      "execution_count": 32,
      "outputs": [
        {
          "output_type": "execute_result",
          "data": {
            "text/plain": [
              "(2.999, 86.0]     1377\n",
              "(86.0, 98.0]      1368\n",
              "(114.0, 312.0]    1331\n",
              "(98.0, 114.0]     1301\n",
              "Name: duration_dist, dtype: int64"
            ]
          },
          "metadata": {
            "tags": []
          },
          "execution_count": 32
        }
      ]
    },
    {
      "cell_type": "code",
      "metadata": {
        "colab": {
          "base_uri": "https://localhost:8080/"
        },
        "id": "zNLiO8B3oBCs",
        "outputId": "b9d57f49-01c4-487a-a855-afcd0cf694f7"
      },
      "source": [
        "dfMovie['release_year_dist'].value_counts()"
      ],
      "execution_count": 33,
      "outputs": [
        {
          "output_type": "execute_result",
          "data": {
            "text/plain": [
              "(2016.0, 2018.0]      1478\n",
              "(2012.0, 2016.0]      1470\n",
              "(1941.999, 2012.0]    1424\n",
              "(2018.0, 2021.0]      1005\n",
              "Name: release_year_dist, dtype: int64"
            ]
          },
          "metadata": {
            "tags": []
          },
          "execution_count": 33
        }
      ]
    },
    {
      "cell_type": "markdown",
      "metadata": {
        "id": "5TM2nzt9jXz2"
      },
      "source": [
        "## Agora iremos fazer a limpeza dos nossos dados "
      ]
    },
    {
      "cell_type": "markdown",
      "metadata": {
        "id": "5bvbhek0pHPv"
      },
      "source": [
        "> ### Primeiro checando se temos dados duplicados"
      ]
    },
    {
      "cell_type": "code",
      "metadata": {
        "colab": {
          "base_uri": "https://localhost:8080/"
        },
        "id": "qJj5vPa2Zk6q",
        "outputId": "dce11f0e-5f23-44ff-ff78-2e649dceb2f9"
      },
      "source": [
        "len(df)"
      ],
      "execution_count": 34,
      "outputs": [
        {
          "output_type": "execute_result",
          "data": {
            "text/plain": [
              "7787"
            ]
          },
          "metadata": {
            "tags": []
          },
          "execution_count": 34
        }
      ]
    },
    {
      "cell_type": "code",
      "metadata": {
        "id": "7HJQ6FjqY2UL"
      },
      "source": [
        "df.drop_duplicates(keep = False, inplace = True)"
      ],
      "execution_count": 110,
      "outputs": []
    },
    {
      "cell_type": "code",
      "metadata": {
        "colab": {
          "base_uri": "https://localhost:8080/"
        },
        "id": "WD9uXsbGZdYW",
        "outputId": "bb7a2391-5a46-42a5-e5dd-c4e2d1864fcc"
      },
      "source": [
        "len(df)"
      ],
      "execution_count": 36,
      "outputs": [
        {
          "output_type": "execute_result",
          "data": {
            "text/plain": [
              "7787"
            ]
          },
          "metadata": {
            "tags": []
          },
          "execution_count": 36
        }
      ]
    },
    {
      "cell_type": "markdown",
      "metadata": {
        "id": "60vZq1WPZo8d"
      },
      "source": [
        "Como podemos ver não temos nenhum dado exatamente igual em nosso dataset"
      ]
    },
    {
      "cell_type": "markdown",
      "metadata": {
        "id": "Hv-pqswdZyDt"
      },
      "source": [
        "### Removendo outliers através do método tukey(univariado) nos atributos de *duration* para filmes "
      ]
    },
    {
      "cell_type": "markdown",
      "metadata": {
        "id": "8P8n_PCsaaYM"
      },
      "source": [
        "Primeiramente vemos a descrição de *duration*"
      ]
    },
    {
      "cell_type": "code",
      "metadata": {
        "colab": {
          "base_uri": "https://localhost:8080/"
        },
        "id": "0e9bEyIyaZnJ",
        "outputId": "acd8cdb4-42c7-44e2-89f6-dc41d31a582c"
      },
      "source": [
        "dfMovie.duration.describe()"
      ],
      "execution_count": 37,
      "outputs": [
        {
          "output_type": "execute_result",
          "data": {
            "text/plain": [
              "count    5377.000000\n",
              "mean       99.307978\n",
              "std        28.530881\n",
              "min         3.000000\n",
              "25%        86.000000\n",
              "50%        98.000000\n",
              "75%       114.000000\n",
              "max       312.000000\n",
              "Name: duration, dtype: float64"
            ]
          },
          "metadata": {
            "tags": []
          },
          "execution_count": 37
        }
      ]
    },
    {
      "cell_type": "markdown",
      "metadata": {
        "id": "XQLrnPAKam9A"
      },
      "source": [
        "Vendo graficamente"
      ]
    },
    {
      "cell_type": "code",
      "metadata": {
        "colab": {
          "base_uri": "https://localhost:8080/",
          "height": 269
        },
        "id": "k0X6KTDEap_S",
        "outputId": "2cc1d3ba-a883-4aed-c670-efabd47af38e"
      },
      "source": [
        "sns.boxplot(y=dfMovie.duration)"
      ],
      "execution_count": 38,
      "outputs": [
        {
          "output_type": "execute_result",
          "data": {
            "text/plain": [
              "<matplotlib.axes._subplots.AxesSubplot at 0x7faa199c31d0>"
            ]
          },
          "metadata": {
            "tags": []
          },
          "execution_count": 38
        },
        {
          "output_type": "display_data",
          "data": {
            "image/png": "[encoded data removed]",
            "text/plain": [
              "<Figure size 432x288 with 1 Axes>"
            ]
          },
          "metadata": {
            "tags": [],
            "needs_background": "light"
          }
        }
      ]
    },
    {
      "cell_type": "code",
      "metadata": {
        "colab": {
          "base_uri": "https://localhost:8080/",
          "height": 282
        },
        "id": "o-v0ow8Hct5f",
        "outputId": "dc06210a-8c27-4677-9821-52756f7b3303"
      },
      "source": [
        "dfMovie['duration'].plot.box()"
      ],
      "execution_count": 39,
      "outputs": [
        {
          "output_type": "execute_result",
          "data": {
            "text/plain": [
              "<matplotlib.axes._subplots.AxesSubplot at 0x7faa19442f50>"
            ]
          },
          "metadata": {
            "tags": []
          },
          "execution_count": 39
        },
        {
          "output_type": "display_data",
          "data": {
            "image/png": "[encoded data removed]",
            "text/plain": [
              "<Figure size 432x288 with 1 Axes>"
            ]
          },
          "metadata": {
            "tags": [],
            "needs_background": "light"
          }
        }
      ]
    },
    {
      "cell_type": "code",
      "metadata": {
        "colab": {
          "base_uri": "https://localhost:8080/",
          "height": 282
        },
        "id": "lcR18xoWfLGD",
        "outputId": "13e62abc-bf73-411f-b1c0-7bb5ce6e8583"
      },
      "source": [
        "dfMovie.duration.hist()"
      ],
      "execution_count": 40,
      "outputs": [
        {
          "output_type": "execute_result",
          "data": {
            "text/plain": [
              "<matplotlib.axes._subplots.AxesSubplot at 0x7faa193ffcd0>"
            ]
          },
          "metadata": {
            "tags": []
          },
          "execution_count": 40
        },
        {
          "output_type": "display_data",
          "data": {
            "image/png": "[encoded data removed]",
            "text/plain": [
              "<Figure size 432x288 with 1 Axes>"
            ]
          },
          "metadata": {
            "tags": [],
            "needs_background": "light"
          }
        }
      ]
    },
    {
      "cell_type": "markdown",
      "metadata": {
        "id": "Cooz81LJdChF"
      },
      "source": [
        "Como já normalizamos a distribuição de *duration* vamos utilizá-la para dar continuidade."
      ]
    },
    {
      "cell_type": "code",
      "metadata": {
        "colab": {
          "base_uri": "https://localhost:8080/",
          "height": 282
        },
        "id": "GcN4wSa-dWju",
        "outputId": "8750ba1a-336e-480d-974f-553e19019bc3"
      },
      "source": [
        "dfMovie.duration_norm.hist()"
      ],
      "execution_count": 41,
      "outputs": [
        {
          "output_type": "execute_result",
          "data": {
            "text/plain": [
              "<matplotlib.axes._subplots.AxesSubplot at 0x7faa19347ed0>"
            ]
          },
          "metadata": {
            "tags": []
          },
          "execution_count": 41
        },
        {
          "output_type": "display_data",
          "data": {
            "image/png": "[encoded data removed]",
            "text/plain": [
              "<Figure size 432x288 with 1 Axes>"
            ]
          },
          "metadata": {
            "tags": [],
            "needs_background": "light"
          }
        }
      ]
    },
    {
      "cell_type": "markdown",
      "metadata": {
        "id": "Q7eOtACmfUwi"
      },
      "source": [
        "Calculando o IQR, já que outliers são identificados fora dos limites inferiores e superiores dados por Q1 - 1.5IQR e Q3 + 1.5IQR respectivamente."
      ]
    },
    {
      "cell_type": "code",
      "metadata": {
        "colab": {
          "base_uri": "https://localhost:8080/"
        },
        "id": "DhH_gAq3gPpN",
        "outputId": "8d8b862a-53e6-419a-c676-0699401daa30"
      },
      "source": [
        "q1 = dfMovie['duration_norm'].quantile(q=0.25)\n",
        "q3 = dfMovie['duration_norm'].quantile(q=0.75)\n",
        "iqr = q3 - q1\n",
        "iqr"
      ],
      "execution_count": 42,
      "outputs": [
        {
          "output_type": "execute_result",
          "data": {
            "text/plain": [
              "0.9814840367357893"
            ]
          },
          "metadata": {
            "tags": []
          },
          "execution_count": 42
        }
      ]
    },
    {
      "cell_type": "markdown",
      "metadata": {
        "id": "zRoR-o_DgmGl"
      },
      "source": [
        "Teremos o seguinte dataset retirando outliers de acordo com o método de tukey"
      ]
    },
    {
      "cell_type": "code",
      "metadata": {
        "colab": {
          "base_uri": "https://localhost:8080/"
        },
        "id": "SqC3JcNdgwNa",
        "outputId": "6910d8ff-df63-477d-dc63-2d3efd35df65"
      },
      "source": [
        "dfMovie1 = dfMovie[(dfMovie['duration_norm'] > (q1-1.5*iqr)) & (dfMovie['duration_norm'] < (q3+1.5*iqr))]\n",
        "len(dfMovie1)"
      ],
      "execution_count": 43,
      "outputs": [
        {
          "output_type": "execute_result",
          "data": {
            "text/plain": [
              "5012"
            ]
          },
          "metadata": {
            "tags": []
          },
          "execution_count": 43
        }
      ]
    },
    {
      "cell_type": "code",
      "metadata": {
        "colab": {
          "base_uri": "https://localhost:8080/",
          "height": 727
        },
        "id": "TTs-eoCFg9r7",
        "outputId": "6ee2f50d-4f43-4137-bc6f-1605ed599a0a"
      },
      "source": [
        "dfMovie1.head()"
      ],
      "execution_count": 44,
      "outputs": [
        {
          "output_type": "execute_result",
          "data": {
            "text/html": [
              "<div>\n",
              "<style scoped>\n",
              "    .dataframe tbody tr th:only-of-type {\n",
              "        vertical-align: middle;\n",
              "    }\n",
              "\n",
              "    .dataframe tbody tr th {\n",
              "        vertical-align: top;\n",
              "    }\n",
              "\n",
              "    .dataframe thead th {\n",
              "        text-align: right;\n",
              "    }\n",
              "</style>\n",
              "<table border=\"1\" class=\"dataframe\">\n",
              "  <thead>\n",
              "    <tr style=\"text-align: right;\">\n",
              "      <th></th>\n",
              "      <th>show_id</th>\n",
              "      <th>type</th>\n",
              "      <th>title</th>\n",
              "      <th>director</th>\n",
              "      <th>cast</th>\n",
              "      <th>country</th>\n",
              "      <th>date_added</th>\n",
              "      <th>release_year</th>\n",
              "      <th>rating</th>\n",
              "      <th>duration</th>\n",
              "      <th>listed_in</th>\n",
              "      <th>description</th>\n",
              "      <th>release_year_norm</th>\n",
              "      <th>duration_norm</th>\n",
              "      <th>duration_dist</th>\n",
              "      <th>release_year_dist</th>\n",
              "    </tr>\n",
              "  </thead>\n",
              "  <tbody>\n",
              "    <tr>\n",
              "      <th>1</th>\n",
              "      <td>s2</td>\n",
              "      <td>Movie</td>\n",
              "      <td>7:19</td>\n",
              "      <td>Jorge Michel Grau</td>\n",
              "      <td>Demián Bichir, Héctor Bonilla, Oscar Serrano, ...</td>\n",
              "      <td>Mexico</td>\n",
              "      <td>December 23, 2016</td>\n",
              "      <td>2016</td>\n",
              "      <td>TV-MA</td>\n",
              "      <td>93</td>\n",
              "      <td>Dramas, International Movies</td>\n",
              "      <td>After a devastating earthquake hits Mexico Cit...</td>\n",
              "      <td>0.318759</td>\n",
              "      <td>-0.221114</td>\n",
              "      <td>(86.0, 98.0]</td>\n",
              "      <td>(2012.0, 2016.0]</td>\n",
              "    </tr>\n",
              "    <tr>\n",
              "      <th>2</th>\n",
              "      <td>s3</td>\n",
              "      <td>Movie</td>\n",
              "      <td>23:59</td>\n",
              "      <td>Gilbert Chan</td>\n",
              "      <td>Tedd Chan, Stella Chung, Henley Hii, Lawrence ...</td>\n",
              "      <td>Singapore</td>\n",
              "      <td>December 20, 2018</td>\n",
              "      <td>2011</td>\n",
              "      <td>R</td>\n",
              "      <td>78</td>\n",
              "      <td>Horror Movies, International Movies</td>\n",
              "      <td>When an army recruit is found dead, his fellow...</td>\n",
              "      <td>-0.198712</td>\n",
              "      <td>-0.746909</td>\n",
              "      <td>(2.999, 86.0]</td>\n",
              "      <td>(1941.999, 2012.0]</td>\n",
              "    </tr>\n",
              "    <tr>\n",
              "      <th>3</th>\n",
              "      <td>s4</td>\n",
              "      <td>Movie</td>\n",
              "      <td>9</td>\n",
              "      <td>Shane Acker</td>\n",
              "      <td>Elijah Wood, John C. Reilly, Jennifer Connelly...</td>\n",
              "      <td>United States</td>\n",
              "      <td>November 16, 2017</td>\n",
              "      <td>2009</td>\n",
              "      <td>PG-13</td>\n",
              "      <td>80</td>\n",
              "      <td>Action &amp; Adventure, Independent Movies, Sci-Fi...</td>\n",
              "      <td>In a postapocalyptic world, rag-doll robots hi...</td>\n",
              "      <td>-0.405700</td>\n",
              "      <td>-0.676803</td>\n",
              "      <td>(2.999, 86.0]</td>\n",
              "      <td>(1941.999, 2012.0]</td>\n",
              "    </tr>\n",
              "    <tr>\n",
              "      <th>4</th>\n",
              "      <td>s5</td>\n",
              "      <td>Movie</td>\n",
              "      <td>21</td>\n",
              "      <td>Robert Luketic</td>\n",
              "      <td>Jim Sturgess, Kevin Spacey, Kate Bosworth, Aar...</td>\n",
              "      <td>United States</td>\n",
              "      <td>January 1, 2020</td>\n",
              "      <td>2008</td>\n",
              "      <td>PG-13</td>\n",
              "      <td>123</td>\n",
              "      <td>Dramas</td>\n",
              "      <td>A brilliant group of students become card-coun...</td>\n",
              "      <td>-0.509194</td>\n",
              "      <td>0.830476</td>\n",
              "      <td>(114.0, 312.0]</td>\n",
              "      <td>(1941.999, 2012.0]</td>\n",
              "    </tr>\n",
              "    <tr>\n",
              "      <th>6</th>\n",
              "      <td>s7</td>\n",
              "      <td>Movie</td>\n",
              "      <td>122</td>\n",
              "      <td>Yasir Al Yasiri</td>\n",
              "      <td>Amina Khalil, Ahmed Dawood, Tarek Lotfy, Ahmed...</td>\n",
              "      <td>Egypt</td>\n",
              "      <td>June 1, 2020</td>\n",
              "      <td>2019</td>\n",
              "      <td>TV-MA</td>\n",
              "      <td>95</td>\n",
              "      <td>Horror Movies, International Movies</td>\n",
              "      <td>After an awful accident, a couple admitted to ...</td>\n",
              "      <td>0.629241</td>\n",
              "      <td>-0.151008</td>\n",
              "      <td>(86.0, 98.0]</td>\n",
              "      <td>(2018.0, 2021.0]</td>\n",
              "    </tr>\n",
              "  </tbody>\n",
              "</table>\n",
              "</div>"
            ],
            "text/plain": [
              "  show_id   type  title  ... duration_norm   duration_dist   release_year_dist\n",
              "1      s2  Movie   7:19  ...     -0.221114    (86.0, 98.0]    (2012.0, 2016.0]\n",
              "2      s3  Movie  23:59  ...     -0.746909   (2.999, 86.0]  (1941.999, 2012.0]\n",
              "3      s4  Movie      9  ...     -0.676803   (2.999, 86.0]  (1941.999, 2012.0]\n",
              "4      s5  Movie     21  ...      0.830476  (114.0, 312.0]  (1941.999, 2012.0]\n",
              "6      s7  Movie    122  ...     -0.151008    (86.0, 98.0]    (2018.0, 2021.0]\n",
              "\n",
              "[5 rows x 16 columns]"
            ]
          },
          "metadata": {
            "tags": []
          },
          "execution_count": 44
        }
      ]
    },
    {
      "cell_type": "markdown",
      "metadata": {
        "id": "AVNCzmqhhMJF"
      },
      "source": [
        "### Vamos tentar remover agora utilizando duas variáveis, sendo elas duration e release_year"
      ]
    },
    {
      "cell_type": "code",
      "metadata": {
        "colab": {
          "base_uri": "https://localhost:8080/",
          "height": 296
        },
        "id": "ekUJPQ4Bhnjx",
        "outputId": "38797116-458d-4b05-ae3a-035dd304144a"
      },
      "source": [
        "sns.scatterplot(x=\"duration\", y='release_year', data=dfMovie)"
      ],
      "execution_count": 45,
      "outputs": [
        {
          "output_type": "execute_result",
          "data": {
            "text/plain": [
              "<matplotlib.axes._subplots.AxesSubplot at 0x7faa1926b650>"
            ]
          },
          "metadata": {
            "tags": []
          },
          "execution_count": 45
        },
        {
          "output_type": "display_data",
          "data": {
            "image/png": "[encoded data removed]",
            "text/plain": [
              "<Figure size 432x288 with 1 Axes>"
            ]
          },
          "metadata": {
            "tags": [],
            "needs_background": "light"
          }
        }
      ]
    },
    {
      "cell_type": "code",
      "metadata": {
        "id": "3AF_Dv1ljcaB"
      },
      "source": [
        "dfMovie['duration_year'] = dfMovie['duration'] / dfMovie['release_year']"
      ],
      "execution_count": 46,
      "outputs": []
    },
    {
      "cell_type": "code",
      "metadata": {
        "colab": {
          "base_uri": "https://localhost:8080/"
        },
        "id": "YUJiHvI5k7qv",
        "outputId": "179def4a-5561-448c-8925-bc7f434a61cc"
      },
      "source": [
        "dfMovie['duration_year'].describe()"
      ],
      "execution_count": 47,
      "outputs": [
        {
          "output_type": "execute_result",
          "data": {
            "text/plain": [
              "count    5377.000000\n",
              "mean        0.049350\n",
              "std         0.014246\n",
              "min         0.001490\n",
              "25%         0.042680\n",
              "50%         0.048611\n",
              "75%         0.056688\n",
              "max         0.154609\n",
              "Name: duration_year, dtype: float64"
            ]
          },
          "metadata": {
            "tags": []
          },
          "execution_count": 47
        }
      ]
    },
    {
      "cell_type": "code",
      "metadata": {
        "colab": {
          "base_uri": "https://localhost:8080/",
          "height": 270
        },
        "id": "6uEF77kulBV0",
        "outputId": "b1aaabe5-d26e-4345-8300-9c5a88f4faa5"
      },
      "source": [
        "sns.boxplot(y=dfMovie.duration_year)"
      ],
      "execution_count": 48,
      "outputs": [
        {
          "output_type": "execute_result",
          "data": {
            "text/plain": [
              "<matplotlib.axes._subplots.AxesSubplot at 0x7faa19252110>"
            ]
          },
          "metadata": {
            "tags": []
          },
          "execution_count": 48
        },
        {
          "output_type": "display_data",
          "data": {
            "image/png": "[encoded data removed]",
            "text/plain": [
              "<Figure size 432x288 with 1 Axes>"
            ]
          },
          "metadata": {
            "tags": [],
            "needs_background": "light"
          }
        }
      ]
    },
    {
      "cell_type": "code",
      "metadata": {
        "colab": {
          "base_uri": "https://localhost:8080/",
          "height": 282
        },
        "id": "SpCqgGjolJrM",
        "outputId": "4ddbac52-a52f-4614-ea30-61a0a5af5691"
      },
      "source": [
        "dfMovie['duration_year'].hist()"
      ],
      "execution_count": 49,
      "outputs": [
        {
          "output_type": "execute_result",
          "data": {
            "text/plain": [
              "<matplotlib.axes._subplots.AxesSubplot at 0x7faa1916fdd0>"
            ]
          },
          "metadata": {
            "tags": []
          },
          "execution_count": 49
        },
        {
          "output_type": "display_data",
          "data": {
            "image/png": "[encoded data removed]",
            "text/plain": [
              "<Figure size 432x288 with 1 Axes>"
            ]
          },
          "metadata": {
            "tags": [],
            "needs_background": "light"
          }
        }
      ]
    },
    {
      "cell_type": "markdown",
      "metadata": {
        "id": "1X16FoqXl9vR"
      },
      "source": [
        "Normalizando, apesar de já seguirmos uma distribuição parecida com a gaussiana"
      ]
    },
    {
      "cell_type": "code",
      "metadata": {
        "colab": {
          "base_uri": "https://localhost:8080/"
        },
        "id": "SknZ8rzLl9Sz",
        "outputId": "91b4460a-ff3c-428c-8e27-2f36d7200035"
      },
      "source": [
        "scaler = StandardScaler()\n",
        "dfMovie['duration_year_norm'] = scaler.fit_transform(dfMovie[['duration_year']])\n",
        "dfMovie['duration_year_norm'].describe()"
      ],
      "execution_count": 50,
      "outputs": [
        {
          "output_type": "execute_result",
          "data": {
            "text/plain": [
              "count    5.377000e+03\n",
              "mean     2.585083e-16\n",
              "std      1.000093e+00\n",
              "min     -3.359925e+00\n",
              "25%     -4.682861e-01\n",
              "50%     -5.190399e-02\n",
              "75%      5.151239e-01\n",
              "max      7.389314e+00\n",
              "Name: duration_year_norm, dtype: float64"
            ]
          },
          "metadata": {
            "tags": []
          },
          "execution_count": 50
        }
      ]
    },
    {
      "cell_type": "code",
      "metadata": {
        "colab": {
          "base_uri": "https://localhost:8080/",
          "height": 282
        },
        "id": "LRHfNPvQmKrn",
        "outputId": "f125323d-e561-422d-b28e-dd122560cfcf"
      },
      "source": [
        "dfMovie['duration_year_norm'].hist()"
      ],
      "execution_count": 51,
      "outputs": [
        {
          "output_type": "execute_result",
          "data": {
            "text/plain": [
              "<matplotlib.axes._subplots.AxesSubplot at 0x7faa191480d0>"
            ]
          },
          "metadata": {
            "tags": []
          },
          "execution_count": 51
        },
        {
          "output_type": "display_data",
          "data": {
            "image/png": "[encoded data removed]",
            "text/plain": [
              "<Figure size 432x288 with 1 Axes>"
            ]
          },
          "metadata": {
            "tags": [],
            "needs_background": "light"
          }
        }
      ]
    },
    {
      "cell_type": "code",
      "metadata": {
        "id": "edGgppx8mide"
      },
      "source": [
        "mad = abs(dfMovie['duration_year_norm'] - dfMovie['duration_year_norm'].median()).median()*(1/0.6745)"
      ],
      "execution_count": 52,
      "outputs": []
    },
    {
      "cell_type": "code",
      "metadata": {
        "colab": {
          "base_uri": "https://localhost:8080/",
          "height": 282
        },
        "id": "8eyV5jZnmwDy",
        "outputId": "8464be4e-bbed-43b5-fc9a-d5632a8dec8b"
      },
      "source": [
        "(abs(dfMovie['duration_year_norm']-dfMovie['duration_year_norm'].median())/mad).hist()"
      ],
      "execution_count": 53,
      "outputs": [
        {
          "output_type": "execute_result",
          "data": {
            "text/plain": [
              "<matplotlib.axes._subplots.AxesSubplot at 0x7faa19089750>"
            ]
          },
          "metadata": {
            "tags": []
          },
          "execution_count": 53
        },
        {
          "output_type": "display_data",
          "data": {
            "image/png": "[encoded data removed]",
            "text/plain": [
              "<Figure size 432x288 with 1 Axes>"
            ]
          },
          "metadata": {
            "tags": [],
            "needs_background": "light"
          }
        }
      ]
    },
    {
      "cell_type": "code",
      "metadata": {
        "colab": {
          "base_uri": "https://localhost:8080/"
        },
        "id": "E8sYZ02HnETA",
        "outputId": "68cd6074-d702-4599-e568-446ad288ff57"
      },
      "source": [
        "dfMovie2 = dfMovie[abs(dfMovie['duration_year_norm']-dfMovie['duration_year_norm'].median())/mad < 4.5]\n",
        "print(len(dfMovie2))"
      ],
      "execution_count": 54,
      "outputs": [
        {
          "output_type": "stream",
          "text": [
            "5352\n"
          ],
          "name": "stdout"
        }
      ]
    },
    {
      "cell_type": "markdown",
      "metadata": {
        "id": "JwWPiaIWneLw"
      },
      "source": [
        "Comparando os dois métodos, retiramos mais dados utilizando apenas uma variável"
      ]
    },
    {
      "cell_type": "markdown",
      "metadata": {
        "id": "nDTnpHDpkT4f"
      },
      "source": [
        "#Analisando nossas estatísticas univariadas a 'TV Show' e a 'Movie'.\n",
        "\n",
        "\n",
        "\n",
        "\n"
      ]
    },
    {
      "cell_type": "code",
      "metadata": {
        "colab": {
          "base_uri": "https://localhost:8080/"
        },
        "id": "s7dx8ZpszIgf",
        "outputId": "05ecb4bc-5688-48bd-8c63-9e09f5534043"
      },
      "source": [
        "df[df['type']=='TV Show']['duration'].describe()"
      ],
      "execution_count": 55,
      "outputs": [
        {
          "output_type": "execute_result",
          "data": {
            "text/plain": [
              "count    2410.000000\n",
              "mean        1.775934\n",
              "std         1.596359\n",
              "min         1.000000\n",
              "25%         1.000000\n",
              "50%         1.000000\n",
              "75%         2.000000\n",
              "max        16.000000\n",
              "Name: duration, dtype: float64"
            ]
          },
          "metadata": {
            "tags": []
          },
          "execution_count": 55
        }
      ]
    },
    {
      "cell_type": "code",
      "metadata": {
        "colab": {
          "base_uri": "https://localhost:8080/"
        },
        "id": "CWxopkkQsiOu",
        "outputId": "a6368077-7707-4a00-ead2-657ddec51017"
      },
      "source": [
        "df[df['type']=='Movie']['duration'].describe()"
      ],
      "execution_count": 56,
      "outputs": [
        {
          "output_type": "execute_result",
          "data": {
            "text/plain": [
              "count    5377.000000\n",
              "mean       99.307978\n",
              "std        28.530881\n",
              "min         3.000000\n",
              "25%        86.000000\n",
              "50%        98.000000\n",
              "75%       114.000000\n",
              "max       312.000000\n",
              "Name: duration, dtype: float64"
            ]
          },
          "metadata": {
            "tags": []
          },
          "execution_count": 56
        }
      ]
    },
    {
      "cell_type": "markdown",
      "metadata": {
        "id": "RTc-_W-Tzc2O"
      },
      "source": [
        "Podemos ver que temos um filme com duração de 3 minutos, vamos ver melhor que filme é esse."
      ]
    },
    {
      "cell_type": "code",
      "metadata": {
        "colab": {
          "base_uri": "https://localhost:8080/",
          "height": 444
        },
        "id": "3hhwyZuuzodi",
        "outputId": "66986299-56a0-4724-e11b-b81dcf86bcf9"
      },
      "source": [
        "df.loc[(df['duration'] < 10) & (df['type'] == 'Movie')]"
      ],
      "execution_count": 57,
      "outputs": [
        {
          "output_type": "execute_result",
          "data": {
            "text/html": [
              "<div>\n",
              "<style scoped>\n",
              "    .dataframe tbody tr th:only-of-type {\n",
              "        vertical-align: middle;\n",
              "    }\n",
              "\n",
              "    .dataframe tbody tr th {\n",
              "        vertical-align: top;\n",
              "    }\n",
              "\n",
              "    .dataframe thead th {\n",
              "        text-align: right;\n",
              "    }\n",
              "</style>\n",
              "<table border=\"1\" class=\"dataframe\">\n",
              "  <thead>\n",
              "    <tr style=\"text-align: right;\">\n",
              "      <th></th>\n",
              "      <th>show_id</th>\n",
              "      <th>type</th>\n",
              "      <th>title</th>\n",
              "      <th>director</th>\n",
              "      <th>cast</th>\n",
              "      <th>country</th>\n",
              "      <th>date_added</th>\n",
              "      <th>release_year</th>\n",
              "      <th>rating</th>\n",
              "      <th>duration</th>\n",
              "      <th>listed_in</th>\n",
              "      <th>description</th>\n",
              "      <th>main_country</th>\n",
              "      <th>year_added</th>\n",
              "    </tr>\n",
              "  </thead>\n",
              "  <tbody>\n",
              "    <tr>\n",
              "      <th>1203</th>\n",
              "      <td>s1204</td>\n",
              "      <td>Movie</td>\n",
              "      <td>Canvas</td>\n",
              "      <td>Frank E. Abney III</td>\n",
              "      <td>desconhecido</td>\n",
              "      <td>United States</td>\n",
              "      <td>2020-12-11</td>\n",
              "      <td>2020</td>\n",
              "      <td>G</td>\n",
              "      <td>9</td>\n",
              "      <td>Children &amp; Family Movies, Dramas</td>\n",
              "      <td>After a heartbreaking loss, a grandfather stru...</td>\n",
              "      <td>United States</td>\n",
              "      <td>2020</td>\n",
              "    </tr>\n",
              "    <tr>\n",
              "      <th>1501</th>\n",
              "      <td>s1502</td>\n",
              "      <td>Movie</td>\n",
              "      <td>Cops and Robbers</td>\n",
              "      <td>Arnon Manor, Timothy Ware-Hill</td>\n",
              "      <td>Timothy Ware-Hill</td>\n",
              "      <td>United States</td>\n",
              "      <td>2020-12-28</td>\n",
              "      <td>2020</td>\n",
              "      <td>PG-13</td>\n",
              "      <td>8</td>\n",
              "      <td>Dramas</td>\n",
              "      <td>Animation and activism unite in this multimedi...</td>\n",
              "      <td>United States</td>\n",
              "      <td>2020</td>\n",
              "    </tr>\n",
              "    <tr>\n",
              "      <th>5605</th>\n",
              "      <td>s5606</td>\n",
              "      <td>Movie</td>\n",
              "      <td>Silent</td>\n",
              "      <td>Limbert Fabian, Brandon Oldenburg</td>\n",
              "      <td>desconhecido</td>\n",
              "      <td>United States</td>\n",
              "      <td>2019-06-04</td>\n",
              "      <td>2014</td>\n",
              "      <td>TV-Y</td>\n",
              "      <td>3</td>\n",
              "      <td>Children &amp; Family Movies, Sci-Fi &amp; Fantasy</td>\n",
              "      <td>\"Silent\" is an animated short film created by ...</td>\n",
              "      <td>United States</td>\n",
              "      <td>2019</td>\n",
              "    </tr>\n",
              "    <tr>\n",
              "      <th>5694</th>\n",
              "      <td>s5695</td>\n",
              "      <td>Movie</td>\n",
              "      <td>Sol Levante</td>\n",
              "      <td>Akira Saitoh</td>\n",
              "      <td>desconhecido</td>\n",
              "      <td>Japan</td>\n",
              "      <td>2020-04-02</td>\n",
              "      <td>2020</td>\n",
              "      <td>TV-14</td>\n",
              "      <td>5</td>\n",
              "      <td>Action &amp; Adventure, Anime Features, Internatio...</td>\n",
              "      <td>A young warrior and her familiar search for th...</td>\n",
              "      <td>Japan</td>\n",
              "      <td>2020</td>\n",
              "    </tr>\n",
              "  </tbody>\n",
              "</table>\n",
              "</div>"
            ],
            "text/plain": [
              "     show_id   type  ...   main_country year_added\n",
              "1203   s1204  Movie  ...  United States       2020\n",
              "1501   s1502  Movie  ...  United States       2020\n",
              "5605   s5606  Movie  ...  United States       2019\n",
              "5694   s5695  Movie  ...          Japan       2020\n",
              "\n",
              "[4 rows x 14 columns]"
            ]
          },
          "metadata": {
            "tags": []
          },
          "execution_count": 57
        }
      ]
    },
    {
      "cell_type": "markdown",
      "metadata": {
        "id": "lqES-Llm0pOg"
      },
      "source": [
        "Dessa forma temos a confirmação de que nosso dataset contém curtas, que também são considerados filmes."
      ]
    },
    {
      "cell_type": "markdown",
      "metadata": {
        "id": "spUriI4n9NYg"
      },
      "source": [
        "* Veremos também agora as estatísticas univariadas para os anos de lançamento"
      ]
    },
    {
      "cell_type": "code",
      "metadata": {
        "colab": {
          "base_uri": "https://localhost:8080/"
        },
        "id": "0HcZws-BBZrZ",
        "outputId": "d9636d8d-a952-4d26-9c70-12bd20e97f58"
      },
      "source": [
        "df['release_year'].describe()"
      ],
      "execution_count": 58,
      "outputs": [
        {
          "output_type": "execute_result",
          "data": {
            "text/plain": [
              "count    7787.000000\n",
              "mean     2013.932580\n",
              "std         8.757395\n",
              "min      1925.000000\n",
              "25%      2013.000000\n",
              "50%      2017.000000\n",
              "75%      2018.000000\n",
              "max      2021.000000\n",
              "Name: release_year, dtype: float64"
            ]
          },
          "metadata": {
            "tags": []
          },
          "execution_count": 58
        }
      ]
    },
    {
      "cell_type": "markdown",
      "metadata": {
        "id": "0X2l8Cl3CHvl"
      },
      "source": [
        "# Analisando agora estatísticas bivariadas teremos:"
      ]
    },
    {
      "cell_type": "code",
      "metadata": {
        "colab": {
          "base_uri": "https://localhost:8080/",
          "height": 0
        },
        "id": "6gIZ_YQFCNZU",
        "outputId": "d421ee4c-c772-4674-c8d7-b774e0b50d0f"
      },
      "source": [
        "df[df.type=='Movie'].corr(method='spearman')"
      ],
      "execution_count": 59,
      "outputs": [
        {
          "output_type": "execute_result",
          "data": {
            "text/html": [
              "<div>\n",
              "<style scoped>\n",
              "    .dataframe tbody tr th:only-of-type {\n",
              "        vertical-align: middle;\n",
              "    }\n",
              "\n",
              "    .dataframe tbody tr th {\n",
              "        vertical-align: top;\n",
              "    }\n",
              "\n",
              "    .dataframe thead th {\n",
              "        text-align: right;\n",
              "    }\n",
              "</style>\n",
              "<table border=\"1\" class=\"dataframe\">\n",
              "  <thead>\n",
              "    <tr style=\"text-align: right;\">\n",
              "      <th></th>\n",
              "      <th>release_year</th>\n",
              "      <th>duration</th>\n",
              "      <th>year_added</th>\n",
              "    </tr>\n",
              "  </thead>\n",
              "  <tbody>\n",
              "    <tr>\n",
              "      <th>release_year</th>\n",
              "      <td>1.000000</td>\n",
              "      <td>-0.210483</td>\n",
              "      <td>0.224301</td>\n",
              "    </tr>\n",
              "    <tr>\n",
              "      <th>duration</th>\n",
              "      <td>-0.210483</td>\n",
              "      <td>1.000000</td>\n",
              "      <td>0.138488</td>\n",
              "    </tr>\n",
              "    <tr>\n",
              "      <th>year_added</th>\n",
              "      <td>0.224301</td>\n",
              "      <td>0.138488</td>\n",
              "      <td>1.000000</td>\n",
              "    </tr>\n",
              "  </tbody>\n",
              "</table>\n",
              "</div>"
            ],
            "text/plain": [
              "              release_year  duration  year_added\n",
              "release_year      1.000000 -0.210483    0.224301\n",
              "duration         -0.210483  1.000000    0.138488\n",
              "year_added        0.224301  0.138488    1.000000"
            ]
          },
          "metadata": {
            "tags": []
          },
          "execution_count": 59
        }
      ]
    },
    {
      "cell_type": "markdown",
      "metadata": {
        "id": "NFp8Vt00FNh-"
      },
      "source": [
        "dessa forma podemos notar que conforme o tempo foi passando a duração dos filmes foi diminuindo"
      ]
    },
    {
      "cell_type": "code",
      "metadata": {
        "colab": {
          "base_uri": "https://localhost:8080/",
          "height": 0
        },
        "id": "3wGCxdWybjFj",
        "outputId": "80e33aa3-4dd8-4fe3-a40e-37e493f26383"
      },
      "source": [
        "sns.lmplot(x=\"release_year\", y='duration', data=dfMovie)\n"
      ],
      "execution_count": 60,
      "outputs": [
        {
          "output_type": "execute_result",
          "data": {
            "text/plain": [
              "<seaborn.axisgrid.FacetGrid at 0x7faa18fa5550>"
            ]
          },
          "metadata": {
            "tags": []
          },
          "execution_count": 60
        },
        {
          "output_type": "display_data",
          "data": {
            "image/png": "[encoded data removed]",
            "text/plain": [
              "<Figure size 360x360 with 1 Axes>"
            ]
          },
          "metadata": {
            "tags": [],
            "needs_background": "light"
          }
        }
      ]
    },
    {
      "cell_type": "markdown",
      "metadata": {
        "id": "Ht7VJvXpn7u7"
      },
      "source": [
        "Podemos ver que conforme o tempo passa os filmes vem ficando mais curtos, confirmando graficamente o que foi observado"
      ]
    },
    {
      "cell_type": "markdown",
      "metadata": {
        "id": "0wj5e-TIp9sU"
      },
      "source": [
        "# Realizando agora uma análise descritiva dos nossos dados"
      ]
    },
    {
      "cell_type": "markdown",
      "metadata": {
        "id": "1l98qPevqHuV"
      },
      "source": [
        "### Comparando as quantidades de filmes e de TV Shows"
      ]
    },
    {
      "cell_type": "code",
      "metadata": {
        "colab": {
          "base_uri": "https://localhost:8080/",
          "height": 0
        },
        "id": "5_wyYTs0qbJH",
        "outputId": "830f4f2a-5869-4ace-afb5-2bada79f9fe5"
      },
      "source": [
        "sns.countplot(y=\"type\",data=df)"
      ],
      "execution_count": 61,
      "outputs": [
        {
          "output_type": "execute_result",
          "data": {
            "text/plain": [
              "<matplotlib.axes._subplots.AxesSubplot at 0x7faa18f80d50>"
            ]
          },
          "metadata": {
            "tags": []
          },
          "execution_count": 61
        },
        {
          "output_type": "display_data",
          "data": {
            "image/png": "[encoded data removed]",
            "text/plain": [
              "<Figure size 432x288 with 1 Axes>"
            ]
          },
          "metadata": {
            "tags": [],
            "needs_background": "light"
          }
        }
      ]
    },
    {
      "cell_type": "markdown",
      "metadata": {
        "id": "mKWVpGigqnaX"
      },
      "source": [
        "### Comparando por ano de lançamento de filme"
      ]
    },
    {
      "cell_type": "code",
      "metadata": {
        "colab": {
          "base_uri": "https://localhost:8080/",
          "height": 0
        },
        "id": "6KnLwriiquTe",
        "outputId": "8ad966d4-dd97-4265-99c1-2c0e7566d57d"
      },
      "source": [
        "sns.countplot(y=\"release_year_dist\",data=dfMovie)"
      ],
      "execution_count": 62,
      "outputs": [
        {
          "output_type": "execute_result",
          "data": {
            "text/plain": [
              "<matplotlib.axes._subplots.AxesSubplot at 0x7faa18f6f590>"
            ]
          },
          "metadata": {
            "tags": []
          },
          "execution_count": 62
        },
        {
          "output_type": "display_data",
          "data": {
            "image/png": "[encoded data removed]",
            "text/plain": [
              "<Figure size 432x288 with 1 Axes>"
            ]
          },
          "metadata": {
            "tags": [],
            "needs_background": "light"
          }
        }
      ]
    },
    {
      "cell_type": "markdown",
      "metadata": {
        "id": "3wXjU1SbsAhq"
      },
      "source": [
        "Podemos ver aqui que temos a maioria dos filmes na netflix foram lançados entre 2016 e 2018"
      ]
    },
    {
      "cell_type": "markdown",
      "metadata": {
        "id": "UNfcFiPT_W1g"
      },
      "source": [
        "### Agora vamos analisar a distribuição de adição de títulos à netflix ao longo dos anos"
      ]
    },
    {
      "cell_type": "code",
      "metadata": {
        "colab": {
          "base_uri": "https://localhost:8080/",
          "height": 0
        },
        "id": "uqWn4tWo_one",
        "outputId": "158a3ab0-5f77-4e0c-b449-5682ee782445"
      },
      "source": [
        "sns.countplot(y=\"year_added\",data=df)"
      ],
      "execution_count": 63,
      "outputs": [
        {
          "output_type": "execute_result",
          "data": {
            "text/plain": [
              "<matplotlib.axes._subplots.AxesSubplot at 0x7faa106790d0>"
            ]
          },
          "metadata": {
            "tags": []
          },
          "execution_count": 63
        },
        {
          "output_type": "display_data",
          "data": {
            "image/png": "[encoded data removed]",
            "text/plain": [
              "<Figure size 432x288 with 1 Axes>"
            ]
          },
          "metadata": {
            "tags": [],
            "needs_background": "light"
          }
        }
      ]
    },
    {
      "cell_type": "markdown",
      "metadata": {
        "id": "-G1TveLC_zzO"
      },
      "source": [
        "Aqui podemos ver que o ano que a netflix mais adicionou títulos foi em 2019"
      ]
    },
    {
      "cell_type": "markdown",
      "metadata": {
        "id": "VlEWV64LxM_p"
      },
      "source": [
        "### Analisando as classificações indicativas de séries e filmes, respectivamente."
      ]
    },
    {
      "cell_type": "code",
      "metadata": {
        "colab": {
          "base_uri": "https://localhost:8080/",
          "height": 0
        },
        "id": "KP4D705Tsd4d",
        "outputId": "b6ef5459-c577-4e48-aa37-63cdc31de61f"
      },
      "source": [
        "sns.countplot(y=\"rating\",data=dfShow)"
      ],
      "execution_count": 64,
      "outputs": [
        {
          "output_type": "execute_result",
          "data": {
            "text/plain": [
              "<matplotlib.axes._subplots.AxesSubplot at 0x7faa10615710>"
            ]
          },
          "metadata": {
            "tags": []
          },
          "execution_count": 64
        },
        {
          "output_type": "display_data",
          "data": {
            "image/png": "[encoded data removed]",
            "text/plain": [
              "<Figure size 432x288 with 1 Axes>"
            ]
          },
          "metadata": {
            "tags": [],
            "needs_background": "light"
          }
        }
      ]
    },
    {
      "cell_type": "markdown",
      "metadata": {
        "id": "c5CfwmVgsxU7"
      },
      "source": [
        "Podemos ver que não temos nenhuma série para maior de idade no nosso conjunto de dados"
      ]
    },
    {
      "cell_type": "code",
      "metadata": {
        "colab": {
          "base_uri": "https://localhost:8080/",
          "height": 0
        },
        "id": "E3phE914uorx",
        "outputId": "6bf5e567-b66e-439f-fd93-05d73e7fae0a"
      },
      "source": [
        "sns.countplot(y=\"rating\",data=dfMovie)"
      ],
      "execution_count": 65,
      "outputs": [
        {
          "output_type": "execute_result",
          "data": {
            "text/plain": [
              "<matplotlib.axes._subplots.AxesSubplot at 0x7faa10564c90>"
            ]
          },
          "metadata": {
            "tags": []
          },
          "execution_count": 65
        },
        {
          "output_type": "display_data",
          "data": {
            "image/png": "[encoded data removed]",
            "text/plain": [
              "<Figure size 432x288 with 1 Axes>"
            ]
          },
          "metadata": {
            "tags": [],
            "needs_background": "light"
          }
        }
      ]
    },
    {
      "cell_type": "markdown",
      "metadata": {
        "id": "_Tz4uFdVxApN"
      },
      "source": [
        "Podemos ver aqui que temos filmes para praticamente todas as idades na netflix"
      ]
    },
    {
      "cell_type": "markdown",
      "metadata": {
        "id": "37yImv4p2_dR"
      },
      "source": [
        "### Vendo agora a distribuição da duração dos nossos filmes/curtas temos o seguinte histograma"
      ]
    },
    {
      "cell_type": "code",
      "metadata": {
        "colab": {
          "base_uri": "https://localhost:8080/",
          "height": 296
        },
        "id": "Z4GDxTT_2ckA",
        "outputId": "334bc610-70c4-48fb-a2b6-1030d8589a5a"
      },
      "source": [
        "sns.histplot(data=dfMovie['duration'],  kde=True)"
      ],
      "execution_count": 66,
      "outputs": [
        {
          "output_type": "execute_result",
          "data": {
            "text/plain": [
              "<matplotlib.axes._subplots.AxesSubplot at 0x7faa1911b690>"
            ]
          },
          "metadata": {
            "tags": []
          },
          "execution_count": 66
        },
        {
          "output_type": "display_data",
          "data": {
            "image/png": "[encoded data removed]",
            "text/plain": [
              "<Figure size 432x288 with 1 Axes>"
            ]
          },
          "metadata": {
            "tags": [],
            "needs_background": "light"
          }
        }
      ]
    },
    {
      "cell_type": "markdown",
      "metadata": {
        "id": "ZJPprSNN3k-F"
      },
      "source": [
        "### Agora por países"
      ]
    },
    {
      "cell_type": "code",
      "metadata": {
        "id": "myStKNzS3pAk"
      },
      "source": [
        "#sns.countplot(y='main_country',data=df)"
      ],
      "execution_count": 67,
      "outputs": []
    },
    {
      "cell_type": "code",
      "metadata": {
        "colab": {
          "base_uri": "https://localhost:8080/",
          "height": 357
        },
        "id": "gRrUd4AGAAV_",
        "outputId": "d6e5a946-e328-4527-e350-9485240d591c"
      },
      "source": [
        "df_country_counts = df['main_country'].value_counts(ascending=False).to_frame()\n",
        "df_country_counts = df_country_counts.reset_index()\n",
        "df_country_counts.columns = ['unique_values', 'counts for main_country']\n",
        "df_top_ten = df_country_counts[:10]\n",
        "df_top_ten"
      ],
      "execution_count": 68,
      "outputs": [
        {
          "output_type": "execute_result",
          "data": {
            "text/html": [
              "<div>\n",
              "<style scoped>\n",
              "    .dataframe tbody tr th:only-of-type {\n",
              "        vertical-align: middle;\n",
              "    }\n",
              "\n",
              "    .dataframe tbody tr th {\n",
              "        vertical-align: top;\n",
              "    }\n",
              "\n",
              "    .dataframe thead th {\n",
              "        text-align: right;\n",
              "    }\n",
              "</style>\n",
              "<table border=\"1\" class=\"dataframe\">\n",
              "  <thead>\n",
              "    <tr style=\"text-align: right;\">\n",
              "      <th></th>\n",
              "      <th>unique_values</th>\n",
              "      <th>counts for main_country</th>\n",
              "    </tr>\n",
              "  </thead>\n",
              "  <tbody>\n",
              "    <tr>\n",
              "      <th>0</th>\n",
              "      <td>United States</td>\n",
              "      <td>3390</td>\n",
              "    </tr>\n",
              "    <tr>\n",
              "      <th>1</th>\n",
              "      <td>India</td>\n",
              "      <td>956</td>\n",
              "    </tr>\n",
              "    <tr>\n",
              "      <th>2</th>\n",
              "      <td>United Kingdom</td>\n",
              "      <td>577</td>\n",
              "    </tr>\n",
              "    <tr>\n",
              "      <th>3</th>\n",
              "      <td>Canada</td>\n",
              "      <td>259</td>\n",
              "    </tr>\n",
              "    <tr>\n",
              "      <th>4</th>\n",
              "      <td>Japan</td>\n",
              "      <td>237</td>\n",
              "    </tr>\n",
              "    <tr>\n",
              "      <th>5</th>\n",
              "      <td>France</td>\n",
              "      <td>196</td>\n",
              "    </tr>\n",
              "    <tr>\n",
              "      <th>6</th>\n",
              "      <td>South Korea</td>\n",
              "      <td>194</td>\n",
              "    </tr>\n",
              "    <tr>\n",
              "      <th>7</th>\n",
              "      <td>Spain</td>\n",
              "      <td>168</td>\n",
              "    </tr>\n",
              "    <tr>\n",
              "      <th>8</th>\n",
              "      <td>Mexico</td>\n",
              "      <td>123</td>\n",
              "    </tr>\n",
              "    <tr>\n",
              "      <th>9</th>\n",
              "      <td>Australia</td>\n",
              "      <td>108</td>\n",
              "    </tr>\n",
              "  </tbody>\n",
              "</table>\n",
              "</div>"
            ],
            "text/plain": [
              "    unique_values  counts for main_country\n",
              "0   United States                     3390\n",
              "1           India                      956\n",
              "2  United Kingdom                      577\n",
              "3          Canada                      259\n",
              "4           Japan                      237\n",
              "5          France                      196\n",
              "6     South Korea                      194\n",
              "7           Spain                      168\n",
              "8          Mexico                      123\n",
              "9       Australia                      108"
            ]
          },
          "metadata": {
            "tags": []
          },
          "execution_count": 68
        }
      ]
    },
    {
      "cell_type": "markdown",
      "metadata": {
        "id": "nw1PkYpGpK8C"
      },
      "source": [
        "# Vamos realizar agora testes de hipótese para comparação de valores por categoria"
      ]
    },
    {
      "cell_type": "markdown",
      "metadata": {
        "id": "6W5BFyIpwZyL"
      },
      "source": [
        "> Vamos inicialmente checar a possibilidade de que temos um mesmo ano para o lançamento do título e a adição ao catálogo da netflix"
      ]
    },
    {
      "cell_type": "code",
      "metadata": {
        "id": "0aC6NeIZpqCT"
      },
      "source": [
        "from scipy import stats"
      ],
      "execution_count": 69,
      "outputs": []
    },
    {
      "cell_type": "code",
      "metadata": {
        "colab": {
          "base_uri": "https://localhost:8080/",
          "height": 295
        },
        "id": "FpQDnT1zw-Gi",
        "outputId": "8b4726c5-7c84-40fd-a215-32a6a24b21a7"
      },
      "source": [
        "df[['year_added','release_year']].describe()"
      ],
      "execution_count": 70,
      "outputs": [
        {
          "output_type": "execute_result",
          "data": {
            "text/html": [
              "<div>\n",
              "<style scoped>\n",
              "    .dataframe tbody tr th:only-of-type {\n",
              "        vertical-align: middle;\n",
              "    }\n",
              "\n",
              "    .dataframe tbody tr th {\n",
              "        vertical-align: top;\n",
              "    }\n",
              "\n",
              "    .dataframe thead th {\n",
              "        text-align: right;\n",
              "    }\n",
              "</style>\n",
              "<table border=\"1\" class=\"dataframe\">\n",
              "  <thead>\n",
              "    <tr style=\"text-align: right;\">\n",
              "      <th></th>\n",
              "      <th>year_added</th>\n",
              "      <th>release_year</th>\n",
              "    </tr>\n",
              "  </thead>\n",
              "  <tbody>\n",
              "    <tr>\n",
              "      <th>count</th>\n",
              "      <td>7787.000000</td>\n",
              "      <td>7787.000000</td>\n",
              "    </tr>\n",
              "    <tr>\n",
              "      <th>mean</th>\n",
              "      <td>2018.495313</td>\n",
              "      <td>2013.932580</td>\n",
              "    </tr>\n",
              "    <tr>\n",
              "      <th>std</th>\n",
              "      <td>1.388301</td>\n",
              "      <td>8.757395</td>\n",
              "    </tr>\n",
              "    <tr>\n",
              "      <th>min</th>\n",
              "      <td>2008.000000</td>\n",
              "      <td>1925.000000</td>\n",
              "    </tr>\n",
              "    <tr>\n",
              "      <th>25%</th>\n",
              "      <td>2018.000000</td>\n",
              "      <td>2013.000000</td>\n",
              "    </tr>\n",
              "    <tr>\n",
              "      <th>50%</th>\n",
              "      <td>2019.000000</td>\n",
              "      <td>2017.000000</td>\n",
              "    </tr>\n",
              "    <tr>\n",
              "      <th>75%</th>\n",
              "      <td>2020.000000</td>\n",
              "      <td>2018.000000</td>\n",
              "    </tr>\n",
              "    <tr>\n",
              "      <th>max</th>\n",
              "      <td>2021.000000</td>\n",
              "      <td>2021.000000</td>\n",
              "    </tr>\n",
              "  </tbody>\n",
              "</table>\n",
              "</div>"
            ],
            "text/plain": [
              "        year_added  release_year\n",
              "count  7787.000000   7787.000000\n",
              "mean   2018.495313   2013.932580\n",
              "std       1.388301      8.757395\n",
              "min    2008.000000   1925.000000\n",
              "25%    2018.000000   2013.000000\n",
              "50%    2019.000000   2017.000000\n",
              "75%    2020.000000   2018.000000\n",
              "max    2021.000000   2021.000000"
            ]
          },
          "metadata": {
            "tags": []
          },
          "execution_count": 70
        }
      ]
    },
    {
      "cell_type": "code",
      "metadata": {
        "colab": {
          "base_uri": "https://localhost:8080/",
          "height": 283
        },
        "id": "iPQnJeHjxT2W",
        "outputId": "a91f55c5-9d29-48e4-92f1-05b95c5a9e44"
      },
      "source": [
        "df[['year_added','release_year']].plot(kind='box')"
      ],
      "execution_count": 71,
      "outputs": [
        {
          "output_type": "execute_result",
          "data": {
            "text/plain": [
              "<matplotlib.axes._subplots.AxesSubplot at 0x7faa190988d0>"
            ]
          },
          "metadata": {
            "tags": []
          },
          "execution_count": 71
        },
        {
          "output_type": "display_data",
          "data": {
            "image/png": "[encoded data removed]",
            "text/plain": [
              "<Figure size 432x288 with 1 Axes>"
            ]
          },
          "metadata": {
            "tags": [],
            "needs_background": "light"
          }
        }
      ]
    },
    {
      "cell_type": "markdown",
      "metadata": {
        "id": "u5_aMbiixqSp"
      },
      "source": [
        "Iremos verificar se a diferença entre os anos de lançamento e adição ao catálogo seguem uma distribuição gaussiana"
      ]
    },
    {
      "cell_type": "code",
      "metadata": {
        "id": "A1i_ma42x2L0"
      },
      "source": [
        "df['year_difference'] = df['year_added'] - df['release_year']"
      ],
      "execution_count": 72,
      "outputs": []
    },
    {
      "cell_type": "code",
      "metadata": {
        "colab": {
          "base_uri": "https://localhost:8080/",
          "height": 297
        },
        "id": "OT-5j2eDyBAz",
        "outputId": "1da91bc2-898d-44d9-c1df-d38f175940b1"
      },
      "source": [
        "sns.histplot(data=df, x='year_difference')"
      ],
      "execution_count": 73,
      "outputs": [
        {
          "output_type": "execute_result",
          "data": {
            "text/plain": [
              "<matplotlib.axes._subplots.AxesSubplot at 0x7faa0e2c67d0>"
            ]
          },
          "metadata": {
            "tags": []
          },
          "execution_count": 73
        },
        {
          "output_type": "display_data",
          "data": {
            "image/png": "[encoded data removed]",
            "text/plain": [
              "<Figure size 432x288 with 1 Axes>"
            ]
          },
          "metadata": {
            "tags": [],
            "needs_background": "light"
          }
        }
      ]
    },
    {
      "cell_type": "code",
      "metadata": {
        "colab": {
          "base_uri": "https://localhost:8080/",
          "height": 282
        },
        "id": "j_dw0LodyWus",
        "outputId": "b4c50f9f-650f-4bbe-b4f9-ebfe481926ee"
      },
      "source": [
        "df['year_difference'].plot(kind='hist')"
      ],
      "execution_count": 74,
      "outputs": [
        {
          "output_type": "execute_result",
          "data": {
            "text/plain": [
              "<matplotlib.axes._subplots.AxesSubplot at 0x7faa0e1b8ed0>"
            ]
          },
          "metadata": {
            "tags": []
          },
          "execution_count": 74
        },
        {
          "output_type": "display_data",
          "data": {
            "image/png": "[encoded data removed]",
            "text/plain": [
              "<Figure size 432x288 with 1 Axes>"
            ]
          },
          "metadata": {
            "tags": [],
            "needs_background": "light"
          }
        }
      ]
    },
    {
      "cell_type": "code",
      "metadata": {
        "colab": {
          "base_uri": "https://localhost:8080/"
        },
        "id": "CwOplV_mzO7y",
        "outputId": "37fdb428-adf8-4a8e-c456-bd3dd094a10e"
      },
      "source": [
        "stats.shapiro(df['year_difference'])"
      ],
      "execution_count": 75,
      "outputs": [
        {
          "output_type": "execute_result",
          "data": {
            "text/plain": [
              "(0.5594311356544495, 0.0)"
            ]
          },
          "metadata": {
            "tags": []
          },
          "execution_count": 75
        }
      ]
    },
    {
      "cell_type": "markdown",
      "metadata": {
        "id": "16PYpqHAzadN"
      },
      "source": [
        "Aqui temos a confirmação de que a nossa distribuição não segue uma normal, então iremos utilizar o teste de wilcoxon"
      ]
    },
    {
      "cell_type": "code",
      "metadata": {
        "colab": {
          "base_uri": "https://localhost:8080/"
        },
        "id": "BXnQQ0RS1G9K",
        "outputId": "0f2ea152-bb86-4aea-ae93-91223b84c319"
      },
      "source": [
        "stats.wilcoxon(df['year_added'], df['release_year'])"
      ],
      "execution_count": 76,
      "outputs": [
        {
          "output_type": "execute_result",
          "data": {
            "text/plain": [
              "WilcoxonResult(statistic=11660.0, pvalue=0.0)"
            ]
          },
          "metadata": {
            "tags": []
          },
          "execution_count": 76
        }
      ]
    },
    {
      "cell_type": "markdown",
      "metadata": {
        "id": "kZd3GLb41Yj1"
      },
      "source": [
        "Assim temos que é totalmente descartada a hipótese de os anos de lançamento e adição serem iguais, lembrando que não descartamos outliers para este caso."
      ]
    },
    {
      "cell_type": "markdown",
      "metadata": {
        "id": "XZL1mZ3T2tid"
      },
      "source": [
        "### Vamos comparar agora para 'TV Shows' e 'Movies'"
      ]
    },
    {
      "cell_type": "markdown",
      "metadata": {
        "id": "jCWjzhpy3ByP"
      },
      "source": [
        ">Primeiramente verificando se temos uma normal para 'TV Shows'"
      ]
    },
    {
      "cell_type": "code",
      "metadata": {
        "colab": {
          "base_uri": "https://localhost:8080/",
          "height": 297
        },
        "id": "EtxwovIi3BRL",
        "outputId": "bd7f8408-b757-4538-cea1-891f49868236"
      },
      "source": [
        "sns.histplot(data=df[df['type']=='TV Show'], x='release_year')"
      ],
      "execution_count": 77,
      "outputs": [
        {
          "output_type": "execute_result",
          "data": {
            "text/plain": [
              "<matplotlib.axes._subplots.AxesSubplot at 0x7faa0dfd3190>"
            ]
          },
          "metadata": {
            "tags": []
          },
          "execution_count": 77
        },
        {
          "output_type": "display_data",
          "data": {
            "image/png": "[encoded data removed]",
            "text/plain": [
              "<Figure size 432x288 with 1 Axes>"
            ]
          },
          "metadata": {
            "tags": [],
            "needs_background": "light"
          }
        }
      ]
    },
    {
      "cell_type": "code",
      "metadata": {
        "colab": {
          "base_uri": "https://localhost:8080/",
          "height": 282
        },
        "id": "qVn5KSZY8qji",
        "outputId": "96832d1b-1081-4118-e351-3b47f788f5d5"
      },
      "source": [
        "df[df['type']=='TV Show']['release_year'].plot(kind='hist')"
      ],
      "execution_count": 78,
      "outputs": [
        {
          "output_type": "execute_result",
          "data": {
            "text/plain": [
              "<matplotlib.axes._subplots.AxesSubplot at 0x7faa0dd7ab10>"
            ]
          },
          "metadata": {
            "tags": []
          },
          "execution_count": 78
        },
        {
          "output_type": "display_data",
          "data": {
            "image/png": "[encoded data removed]",
            "text/plain": [
              "<Figure size 432x288 with 1 Axes>"
            ]
          },
          "metadata": {
            "tags": [],
            "needs_background": "light"
          }
        }
      ]
    },
    {
      "cell_type": "markdown",
      "metadata": {
        "id": "a4S4aMQ43228"
      },
      "source": [
        "rodando o teste de shapiro para saber se segue uma normal"
      ]
    },
    {
      "cell_type": "code",
      "metadata": {
        "colab": {
          "base_uri": "https://localhost:8080/"
        },
        "id": "i09rctss37JT",
        "outputId": "83e49ace-9579-46a0-e723-c2b5d5d56e3b"
      },
      "source": [
        "stats.shapiro(df[df['type']=='TV Show']['release_year'])"
      ],
      "execution_count": 79,
      "outputs": [
        {
          "output_type": "execute_result",
          "data": {
            "text/plain": [
              "(0.584304928779602, 0.0)"
            ]
          },
          "metadata": {
            "tags": []
          },
          "execution_count": 79
        }
      ]
    },
    {
      "cell_type": "markdown",
      "metadata": {
        "id": "ttnS-q2a9P6T"
      },
      "source": [
        "Aqui podemos ver que não segue uma normal"
      ]
    },
    {
      "cell_type": "code",
      "metadata": {
        "colab": {
          "base_uri": "https://localhost:8080/",
          "height": 297
        },
        "id": "tW0TmflE3w0r",
        "outputId": "ce5aeb30-969f-41fb-96d4-b25eef658762"
      },
      "source": [
        "sns.histplot(data=df[df['type']=='Movie'], x='release_year')"
      ],
      "execution_count": 80,
      "outputs": [
        {
          "output_type": "execute_result",
          "data": {
            "text/plain": [
              "<matplotlib.axes._subplots.AxesSubplot at 0x7faa0dd14390>"
            ]
          },
          "metadata": {
            "tags": []
          },
          "execution_count": 80
        },
        {
          "output_type": "display_data",
          "data": {
            "image/png": "[encoded data removed]",
            "text/plain": [
              "<Figure size 432x288 with 1 Axes>"
            ]
          },
          "metadata": {
            "tags": [],
            "needs_background": "light"
          }
        }
      ]
    },
    {
      "cell_type": "code",
      "metadata": {
        "colab": {
          "base_uri": "https://localhost:8080/",
          "height": 282
        },
        "id": "xluljozl9XeH",
        "outputId": "0747c608-ba0f-45af-8a42-f58dbccb3fc6"
      },
      "source": [
        "df[df['type']=='Movie']['release_year'].plot(kind='hist')"
      ],
      "execution_count": 81,
      "outputs": [
        {
          "output_type": "execute_result",
          "data": {
            "text/plain": [
              "<matplotlib.axes._subplots.AxesSubplot at 0x7faa0dd1e710>"
            ]
          },
          "metadata": {
            "tags": []
          },
          "execution_count": 81
        },
        {
          "output_type": "display_data",
          "data": {
            "image/png": "[encoded data removed]",
            "text/plain": [
              "<Figure size 432x288 with 1 Axes>"
            ]
          },
          "metadata": {
            "tags": [],
            "needs_background": "light"
          }
        }
      ]
    },
    {
      "cell_type": "code",
      "metadata": {
        "colab": {
          "base_uri": "https://localhost:8080/"
        },
        "id": "k2Sn4-x_9bc9",
        "outputId": "2ed83955-0be7-4e1e-a35f-df8b03331c0d"
      },
      "source": [
        "stats.shapiro(df[df['type']=='Movie']['release_year'])"
      ],
      "execution_count": 82,
      "outputs": [
        {
          "output_type": "execute_result",
          "data": {
            "text/plain": [
              "(0.6383799314498901, 0.0)"
            ]
          },
          "metadata": {
            "tags": []
          },
          "execution_count": 82
        }
      ]
    },
    {
      "cell_type": "markdown",
      "metadata": {
        "id": "dIrnWPi49i_M"
      },
      "source": [
        "Novamente não temos uma distribuição próxima da normal"
      ]
    },
    {
      "cell_type": "markdown",
      "metadata": {
        "id": "3kVPrml99-iI"
      },
      "source": [
        "> Como os dois casos não seguem uma normal, não poderemos utilizar o ttest, mas sim o wilcoxon"
      ]
    },
    {
      "cell_type": "code",
      "metadata": {
        "colab": {
          "base_uri": "https://localhost:8080/"
        },
        "id": "nWZeMzWW-MId",
        "outputId": "91ecb7a1-1855-4569-92b8-601a86fb887c"
      },
      "source": [
        "stats.mannwhitneyu(df[df['type']=='Movie']['release_year'],df[df['type']=='TV Show']['release_year'])"
      ],
      "execution_count": 83,
      "outputs": [
        {
          "output_type": "execute_result",
          "data": {
            "text/plain": [
              "MannwhitneyuResult(statistic=4666841.5, pvalue=3.7537169975498996e-88)"
            ]
          },
          "metadata": {
            "tags": []
          },
          "execution_count": 83
        }
      ]
    },
    {
      "cell_type": "markdown",
      "metadata": {
        "id": "SxEvQ0zgEItv"
      },
      "source": [
        "Assim concluímos que as datas de lançamento dos filmes são diferentes das datas de lançamentos das séries."
      ]
    },
    {
      "cell_type": "markdown",
      "metadata": {
        "id": "yfZ_0cQbFFhV"
      },
      "source": [
        "> Mostrando um boxplot para ficar ainda mais claro isso."
      ]
    },
    {
      "cell_type": "code",
      "metadata": {
        "colab": {
          "base_uri": "https://localhost:8080/",
          "height": 282
        },
        "id": "zTvQC1-GEipQ",
        "outputId": "e3a28c5a-b70d-4141-91ab-afd0aaaebe37"
      },
      "source": [
        "dataS = df[df.type=='TV Show']['year_added']\n",
        "dataM = df[df.type=='Movie']['year_added']\n",
        "sns.boxplot(data=[dataS,dataM])"
      ],
      "execution_count": 84,
      "outputs": [
        {
          "output_type": "execute_result",
          "data": {
            "text/plain": [
              "<matplotlib.axes._subplots.AxesSubplot at 0x7faa0dac3d10>"
            ]
          },
          "metadata": {
            "tags": []
          },
          "execution_count": 84
        },
        {
          "output_type": "display_data",
          "data": {
            "image/png": "[encoded data removed]",
            "text/plain": [
              "<Figure size 432x288 with 1 Axes>"
            ]
          },
          "metadata": {
            "tags": [],
            "needs_background": "light"
          }
        }
      ]
    },
    {
      "cell_type": "markdown",
      "metadata": {
        "id": "SzeQroHexqHI"
      },
      "source": [
        "# Carregando dois novos datasets de [IMDB](https://www.imdb.com/interfaces/). Um contendo os títulos de filmes e séries e outro contendo as classificações dadas por espectadores"
      ]
    },
    {
      "cell_type": "code",
      "metadata": {
        "id": "nFgyJNMxzFvn"
      },
      "source": [
        "dfTitles = pd.read_csv(\"data.tsv\", sep='\\t')\n",
        "dfNotas = pd.read_csv(\"notas.tsv\", sep='\\t')"
      ],
      "execution_count": 85,
      "outputs": []
    },
    {
      "cell_type": "code",
      "metadata": {
        "colab": {
          "base_uri": "https://localhost:8080/",
          "height": 203
        },
        "id": "i_dWFWZkza0u",
        "outputId": "26211fe4-9fa8-401f-b432-8cb2271ccce2"
      },
      "source": [
        "dfTitles.head()"
      ],
      "execution_count": 86,
      "outputs": [
        {
          "output_type": "execute_result",
          "data": {
            "text/html": [
              "<div>\n",
              "<style scoped>\n",
              "    .dataframe tbody tr th:only-of-type {\n",
              "        vertical-align: middle;\n",
              "    }\n",
              "\n",
              "    .dataframe tbody tr th {\n",
              "        vertical-align: top;\n",
              "    }\n",
              "\n",
              "    .dataframe thead th {\n",
              "        text-align: right;\n",
              "    }\n",
              "</style>\n",
              "<table border=\"1\" class=\"dataframe\">\n",
              "  <thead>\n",
              "    <tr style=\"text-align: right;\">\n",
              "      <th></th>\n",
              "      <th>tconst</th>\n",
              "      <th>titleType</th>\n",
              "      <th>primaryTitle</th>\n",
              "      <th>originalTitle</th>\n",
              "      <th>isAdult</th>\n",
              "      <th>startYear</th>\n",
              "      <th>endYear</th>\n",
              "      <th>runtimeMinutes</th>\n",
              "      <th>genres</th>\n",
              "    </tr>\n",
              "  </thead>\n",
              "  <tbody>\n",
              "    <tr>\n",
              "      <th>0</th>\n",
              "      <td>tt0000001</td>\n",
              "      <td>short</td>\n",
              "      <td>Carmencita</td>\n",
              "      <td>Carmencita</td>\n",
              "      <td>0</td>\n",
              "      <td>1894</td>\n",
              "      <td>\\N</td>\n",
              "      <td>1</td>\n",
              "      <td>Documentary,Short</td>\n",
              "    </tr>\n",
              "    <tr>\n",
              "      <th>1</th>\n",
              "      <td>tt0000002</td>\n",
              "      <td>short</td>\n",
              "      <td>Le clown et ses chiens</td>\n",
              "      <td>Le clown et ses chiens</td>\n",
              "      <td>0</td>\n",
              "      <td>1892</td>\n",
              "      <td>\\N</td>\n",
              "      <td>5</td>\n",
              "      <td>Animation,Short</td>\n",
              "    </tr>\n",
              "    <tr>\n",
              "      <th>2</th>\n",
              "      <td>tt0000003</td>\n",
              "      <td>short</td>\n",
              "      <td>Pauvre Pierrot</td>\n",
              "      <td>Pauvre Pierrot</td>\n",
              "      <td>0</td>\n",
              "      <td>1892</td>\n",
              "      <td>\\N</td>\n",
              "      <td>4</td>\n",
              "      <td>Animation,Comedy,Romance</td>\n",
              "    </tr>\n",
              "    <tr>\n",
              "      <th>3</th>\n",
              "      <td>tt0000004</td>\n",
              "      <td>short</td>\n",
              "      <td>Un bon bock</td>\n",
              "      <td>Un bon bock</td>\n",
              "      <td>0</td>\n",
              "      <td>1892</td>\n",
              "      <td>\\N</td>\n",
              "      <td>12</td>\n",
              "      <td>Animation,Short</td>\n",
              "    </tr>\n",
              "    <tr>\n",
              "      <th>4</th>\n",
              "      <td>tt0000005</td>\n",
              "      <td>short</td>\n",
              "      <td>Blacksmith Scene</td>\n",
              "      <td>Blacksmith Scene</td>\n",
              "      <td>0</td>\n",
              "      <td>1893</td>\n",
              "      <td>\\N</td>\n",
              "      <td>1</td>\n",
              "      <td>Comedy,Short</td>\n",
              "    </tr>\n",
              "  </tbody>\n",
              "</table>\n",
              "</div>"
            ],
            "text/plain": [
              "      tconst titleType  ... runtimeMinutes                    genres\n",
              "0  tt0000001     short  ...              1         Documentary,Short\n",
              "1  tt0000002     short  ...              5           Animation,Short\n",
              "2  tt0000003     short  ...              4  Animation,Comedy,Romance\n",
              "3  tt0000004     short  ...             12           Animation,Short\n",
              "4  tt0000005     short  ...              1              Comedy,Short\n",
              "\n",
              "[5 rows x 9 columns]"
            ]
          },
          "metadata": {
            "tags": []
          },
          "execution_count": 86
        }
      ]
    },
    {
      "cell_type": "code",
      "metadata": {
        "colab": {
          "base_uri": "https://localhost:8080/",
          "height": 441
        },
        "id": "bAs8yqUoICKZ",
        "outputId": "032435b1-e58c-48a5-bb94-e63cec54ec7b"
      },
      "source": [
        "dfTitles.tail(10)"
      ],
      "execution_count": 87,
      "outputs": [
        {
          "output_type": "execute_result",
          "data": {
            "text/html": [
              "<div>\n",
              "<style scoped>\n",
              "    .dataframe tbody tr th:only-of-type {\n",
              "        vertical-align: middle;\n",
              "    }\n",
              "\n",
              "    .dataframe tbody tr th {\n",
              "        vertical-align: top;\n",
              "    }\n",
              "\n",
              "    .dataframe thead th {\n",
              "        text-align: right;\n",
              "    }\n",
              "</style>\n",
              "<table border=\"1\" class=\"dataframe\">\n",
              "  <thead>\n",
              "    <tr style=\"text-align: right;\">\n",
              "      <th></th>\n",
              "      <th>tconst</th>\n",
              "      <th>titleType</th>\n",
              "      <th>primaryTitle</th>\n",
              "      <th>originalTitle</th>\n",
              "      <th>isAdult</th>\n",
              "      <th>startYear</th>\n",
              "      <th>endYear</th>\n",
              "      <th>runtimeMinutes</th>\n",
              "      <th>genres</th>\n",
              "    </tr>\n",
              "  </thead>\n",
              "  <tbody>\n",
              "    <tr>\n",
              "      <th>6990751</th>\n",
              "      <td>tt7592836</td>\n",
              "      <td>movie</td>\n",
              "      <td>Skri Lanka</td>\n",
              "      <td>Skri Lanka</td>\n",
              "      <td>0</td>\n",
              "      <td>\\N</td>\n",
              "      <td>\\N</td>\n",
              "      <td>88</td>\n",
              "      <td>Comedy,Drama</td>\n",
              "    </tr>\n",
              "    <tr>\n",
              "      <th>6990752</th>\n",
              "      <td>tt7592838</td>\n",
              "      <td>tvEpisode</td>\n",
              "      <td>Step To This</td>\n",
              "      <td>Step To This</td>\n",
              "      <td>1</td>\n",
              "      <td>2017</td>\n",
              "      <td>\\N</td>\n",
              "      <td>\\N</td>\n",
              "      <td>Adult,Documentary</td>\n",
              "    </tr>\n",
              "    <tr>\n",
              "      <th>6990753</th>\n",
              "      <td>tt7592840</td>\n",
              "      <td>tvEpisode</td>\n",
              "      <td>Manufacturing &amp; Software Solutions</td>\n",
              "      <td>Manufacturing &amp; Software Solutions</td>\n",
              "      <td>0</td>\n",
              "      <td>2017</td>\n",
              "      <td>\\N</td>\n",
              "      <td>\\N</td>\n",
              "      <td>Documentary</td>\n",
              "    </tr>\n",
              "    <tr>\n",
              "      <th>6990754</th>\n",
              "      <td>tt7592842</td>\n",
              "      <td>tvEpisode</td>\n",
              "      <td>Lofty Aspirations</td>\n",
              "      <td>Lofty Aspirations</td>\n",
              "      <td>1</td>\n",
              "      <td>2016</td>\n",
              "      <td>\\N</td>\n",
              "      <td>\\N</td>\n",
              "      <td>Adult,Documentary</td>\n",
              "    </tr>\n",
              "    <tr>\n",
              "      <th>6990755</th>\n",
              "      <td>tt7592844</td>\n",
              "      <td>video</td>\n",
              "      <td>Band of Horses: Is There a Ghost</td>\n",
              "      <td>Band of Horses: Is There a Ghost</td>\n",
              "      <td>0</td>\n",
              "      <td>2007</td>\n",
              "      <td>\\N</td>\n",
              "      <td>\\N</td>\n",
              "      <td>Music,Short</td>\n",
              "    </tr>\n",
              "    <tr>\n",
              "      <th>6990756</th>\n",
              "      <td>tt7592846</td>\n",
              "      <td>tvEpisode</td>\n",
              "      <td>Thor: Ragnarok</td>\n",
              "      <td>Thor: Ragnarok</td>\n",
              "      <td>0</td>\n",
              "      <td>2017</td>\n",
              "      <td>\\N</td>\n",
              "      <td>21</td>\n",
              "      <td>Talk-Show</td>\n",
              "    </tr>\n",
              "    <tr>\n",
              "      <th>6990757</th>\n",
              "      <td>tt7592848</td>\n",
              "      <td>short</td>\n",
              "      <td>The Radicalisation of Danielle Craig</td>\n",
              "      <td>The Radicalisation of Danielle Craig</td>\n",
              "      <td>0</td>\n",
              "      <td>2018</td>\n",
              "      <td>\\N</td>\n",
              "      <td>9</td>\n",
              "      <td>Drama,Short</td>\n",
              "    </tr>\n",
              "    <tr>\n",
              "      <th>6990758</th>\n",
              "      <td>tt7592850</td>\n",
              "      <td>tvEpisode</td>\n",
              "      <td>Auditory Learning</td>\n",
              "      <td>Auditory Learning</td>\n",
              "      <td>0</td>\n",
              "      <td>2017</td>\n",
              "      <td>\\N</td>\n",
              "      <td>\\N</td>\n",
              "      <td>Documentary</td>\n",
              "    </tr>\n",
              "    <tr>\n",
              "      <th>6990759</th>\n",
              "      <td>tt7592852</td>\n",
              "      <td>tvEpisode</td>\n",
              "      <td>The Doctors Friday Newsfeed/Don't Put That Dow...</td>\n",
              "      <td>The Doctors Friday Newsfeed/Don't Put That Dow...</td>\n",
              "      <td>0</td>\n",
              "      <td>2017</td>\n",
              "      <td>\\N</td>\n",
              "      <td>\\N</td>\n",
              "      <td>Talk-Show</td>\n",
              "    </tr>\n",
              "    <tr>\n",
              "      <th>6990760</th>\n",
              "      <td>tt7592854</td>\n",
              "      <td>tvEpisode</td>\n",
              "      <td>Bed Bombshell</td>\n",
              "      <td>Bed Bombshell</td>\n",
              "      <td>1</td>\n",
              "      <td>2014</td>\n",
              "      <td>\\N</td>\n",
              "      <td>\\N</td>\n",
              "      <td>NaN</td>\n",
              "    </tr>\n",
              "  </tbody>\n",
              "</table>\n",
              "</div>"
            ],
            "text/plain": [
              "            tconst  titleType  ... runtimeMinutes             genres\n",
              "6990751  tt7592836      movie  ...             88       Comedy,Drama\n",
              "6990752  tt7592838  tvEpisode  ...             \\N  Adult,Documentary\n",
              "6990753  tt7592840  tvEpisode  ...             \\N        Documentary\n",
              "6990754  tt7592842  tvEpisode  ...             \\N  Adult,Documentary\n",
              "6990755  tt7592844      video  ...             \\N        Music,Short\n",
              "6990756  tt7592846  tvEpisode  ...             21          Talk-Show\n",
              "6990757  tt7592848      short  ...              9        Drama,Short\n",
              "6990758  tt7592850  tvEpisode  ...             \\N        Documentary\n",
              "6990759  tt7592852  tvEpisode  ...             \\N          Talk-Show\n",
              "6990760  tt7592854  tvEpisode  ...             \\N                NaN\n",
              "\n",
              "[10 rows x 9 columns]"
            ]
          },
          "metadata": {
            "tags": []
          },
          "execution_count": 87
        }
      ]
    },
    {
      "cell_type": "code",
      "metadata": {
        "colab": {
          "base_uri": "https://localhost:8080/",
          "height": 203
        },
        "id": "1KdY2XJozsPu",
        "outputId": "a6617e43-cd16-41e6-9a9e-7fc65758f5b8"
      },
      "source": [
        "dfNotas.head()"
      ],
      "execution_count": 88,
      "outputs": [
        {
          "output_type": "execute_result",
          "data": {
            "text/html": [
              "<div>\n",
              "<style scoped>\n",
              "    .dataframe tbody tr th:only-of-type {\n",
              "        vertical-align: middle;\n",
              "    }\n",
              "\n",
              "    .dataframe tbody tr th {\n",
              "        vertical-align: top;\n",
              "    }\n",
              "\n",
              "    .dataframe thead th {\n",
              "        text-align: right;\n",
              "    }\n",
              "</style>\n",
              "<table border=\"1\" class=\"dataframe\">\n",
              "  <thead>\n",
              "    <tr style=\"text-align: right;\">\n",
              "      <th></th>\n",
              "      <th>tconst</th>\n",
              "      <th>averageRating</th>\n",
              "      <th>numVotes</th>\n",
              "    </tr>\n",
              "  </thead>\n",
              "  <tbody>\n",
              "    <tr>\n",
              "      <th>0</th>\n",
              "      <td>tt0000001</td>\n",
              "      <td>5.7</td>\n",
              "      <td>1722</td>\n",
              "    </tr>\n",
              "    <tr>\n",
              "      <th>1</th>\n",
              "      <td>tt0000002</td>\n",
              "      <td>6.0</td>\n",
              "      <td>211</td>\n",
              "    </tr>\n",
              "    <tr>\n",
              "      <th>2</th>\n",
              "      <td>tt0000003</td>\n",
              "      <td>6.5</td>\n",
              "      <td>1484</td>\n",
              "    </tr>\n",
              "    <tr>\n",
              "      <th>3</th>\n",
              "      <td>tt0000004</td>\n",
              "      <td>6.1</td>\n",
              "      <td>124</td>\n",
              "    </tr>\n",
              "    <tr>\n",
              "      <th>4</th>\n",
              "      <td>tt0000005</td>\n",
              "      <td>6.2</td>\n",
              "      <td>2286</td>\n",
              "    </tr>\n",
              "  </tbody>\n",
              "</table>\n",
              "</div>"
            ],
            "text/plain": [
              "      tconst  averageRating  numVotes\n",
              "0  tt0000001            5.7      1722\n",
              "1  tt0000002            6.0       211\n",
              "2  tt0000003            6.5      1484\n",
              "3  tt0000004            6.1       124\n",
              "4  tt0000005            6.2      2286"
            ]
          },
          "metadata": {
            "tags": []
          },
          "execution_count": 88
        }
      ]
    },
    {
      "cell_type": "code",
      "metadata": {
        "colab": {
          "base_uri": "https://localhost:8080/",
          "height": 357
        },
        "id": "6R1AwB6zH7pN",
        "outputId": "d7d00e6d-2172-4eaa-c56e-c442640d80cb"
      },
      "source": [
        "dfNotas.tail(10)"
      ],
      "execution_count": 89,
      "outputs": [
        {
          "output_type": "execute_result",
          "data": {
            "text/html": [
              "<div>\n",
              "<style scoped>\n",
              "    .dataframe tbody tr th:only-of-type {\n",
              "        vertical-align: middle;\n",
              "    }\n",
              "\n",
              "    .dataframe tbody tr th {\n",
              "        vertical-align: top;\n",
              "    }\n",
              "\n",
              "    .dataframe thead th {\n",
              "        text-align: right;\n",
              "    }\n",
              "</style>\n",
              "<table border=\"1\" class=\"dataframe\">\n",
              "  <thead>\n",
              "    <tr style=\"text-align: right;\">\n",
              "      <th></th>\n",
              "      <th>tconst</th>\n",
              "      <th>averageRating</th>\n",
              "      <th>numVotes</th>\n",
              "    </tr>\n",
              "  </thead>\n",
              "  <tbody>\n",
              "    <tr>\n",
              "      <th>1171910</th>\n",
              "      <td>tt9916544</td>\n",
              "      <td>7.1</td>\n",
              "      <td>40</td>\n",
              "    </tr>\n",
              "    <tr>\n",
              "      <th>1171911</th>\n",
              "      <td>tt9916576</td>\n",
              "      <td>5.9</td>\n",
              "      <td>13</td>\n",
              "    </tr>\n",
              "    <tr>\n",
              "      <th>1171912</th>\n",
              "      <td>tt9916578</td>\n",
              "      <td>8.0</td>\n",
              "      <td>26</td>\n",
              "    </tr>\n",
              "    <tr>\n",
              "      <th>1171913</th>\n",
              "      <td>tt9916580</td>\n",
              "      <td>7.7</td>\n",
              "      <td>6</td>\n",
              "    </tr>\n",
              "    <tr>\n",
              "      <th>1171914</th>\n",
              "      <td>tt9916628</td>\n",
              "      <td>8.6</td>\n",
              "      <td>5</td>\n",
              "    </tr>\n",
              "    <tr>\n",
              "      <th>1171915</th>\n",
              "      <td>tt9916682</td>\n",
              "      <td>5.6</td>\n",
              "      <td>5</td>\n",
              "    </tr>\n",
              "    <tr>\n",
              "      <th>1171916</th>\n",
              "      <td>tt9916690</td>\n",
              "      <td>6.6</td>\n",
              "      <td>5</td>\n",
              "    </tr>\n",
              "    <tr>\n",
              "      <th>1171917</th>\n",
              "      <td>tt9916720</td>\n",
              "      <td>5.5</td>\n",
              "      <td>110</td>\n",
              "    </tr>\n",
              "    <tr>\n",
              "      <th>1171918</th>\n",
              "      <td>tt9916766</td>\n",
              "      <td>6.9</td>\n",
              "      <td>18</td>\n",
              "    </tr>\n",
              "    <tr>\n",
              "      <th>1171919</th>\n",
              "      <td>tt9916778</td>\n",
              "      <td>7.5</td>\n",
              "      <td>30</td>\n",
              "    </tr>\n",
              "  </tbody>\n",
              "</table>\n",
              "</div>"
            ],
            "text/plain": [
              "            tconst  averageRating  numVotes\n",
              "1171910  tt9916544            7.1        40\n",
              "1171911  tt9916576            5.9        13\n",
              "1171912  tt9916578            8.0        26\n",
              "1171913  tt9916580            7.7         6\n",
              "1171914  tt9916628            8.6         5\n",
              "1171915  tt9916682            5.6         5\n",
              "1171916  tt9916690            6.6         5\n",
              "1171917  tt9916720            5.5       110\n",
              "1171918  tt9916766            6.9        18\n",
              "1171919  tt9916778            7.5        30"
            ]
          },
          "metadata": {
            "tags": []
          },
          "execution_count": 89
        }
      ]
    },
    {
      "cell_type": "code",
      "metadata": {
        "colab": {
          "base_uri": "https://localhost:8080/"
        },
        "id": "Y8bv2Atg1YO-",
        "outputId": "4bee8148-1a65-4482-fbc6-67586155f0f6"
      },
      "source": [
        "dfTitles.shape"
      ],
      "execution_count": 90,
      "outputs": [
        {
          "output_type": "execute_result",
          "data": {
            "text/plain": [
              "(6990761, 9)"
            ]
          },
          "metadata": {
            "tags": []
          },
          "execution_count": 90
        }
      ]
    },
    {
      "cell_type": "code",
      "metadata": {
        "colab": {
          "base_uri": "https://localhost:8080/"
        },
        "id": "j_eLemf61ccD",
        "outputId": "3fa104f6-bb03-4f0a-838b-61857366e7f4"
      },
      "source": [
        "dfNotas.shape"
      ],
      "execution_count": 91,
      "outputs": [
        {
          "output_type": "execute_result",
          "data": {
            "text/plain": [
              "(1171920, 3)"
            ]
          },
          "metadata": {
            "tags": []
          },
          "execution_count": 91
        }
      ]
    },
    {
      "cell_type": "markdown",
      "metadata": {
        "id": "YBcV6qhgIc0T"
      },
      "source": [
        "Podemos ver que nossos dados não são iguais, então teremos que comparar *tconst* antes de unir os datasets"
      ]
    },
    {
      "cell_type": "markdown",
      "metadata": {
        "id": "hLUGLFe-GG9Q"
      },
      "source": [
        "#Testes Merge"
      ]
    },
    {
      "cell_type": "markdown",
      "metadata": {
        "id": "Py_qF7yNKS1P"
      },
      "source": [
        "## Unindo primeiramente os datasets de notas e títulos já que ambos estão separados através do inner join que resulta no dataset df_inner apenas com a interseção de tconst de dfNotas e dfTitles"
      ]
    },
    {
      "cell_type": "code",
      "metadata": {
        "colab": {
          "base_uri": "https://localhost:8080/",
          "height": 521
        },
        "id": "sXZnUF7iGNCM",
        "outputId": "c6bf78f3-c3a8-4092-be2a-0e8ec29976ad"
      },
      "source": [
        "df_inner = pd.merge(dfNotas, dfTitles, on='tconst', how='inner')\n",
        "\n",
        "df_inner"
      ],
      "execution_count": 92,
      "outputs": [
        {
          "output_type": "execute_result",
          "data": {
            "text/html": [
              "<div>\n",
              "<style scoped>\n",
              "    .dataframe tbody tr th:only-of-type {\n",
              "        vertical-align: middle;\n",
              "    }\n",
              "\n",
              "    .dataframe tbody tr th {\n",
              "        vertical-align: top;\n",
              "    }\n",
              "\n",
              "    .dataframe thead th {\n",
              "        text-align: right;\n",
              "    }\n",
              "</style>\n",
              "<table border=\"1\" class=\"dataframe\">\n",
              "  <thead>\n",
              "    <tr style=\"text-align: right;\">\n",
              "      <th></th>\n",
              "      <th>tconst</th>\n",
              "      <th>averageRating</th>\n",
              "      <th>numVotes</th>\n",
              "      <th>titleType</th>\n",
              "      <th>primaryTitle</th>\n",
              "      <th>originalTitle</th>\n",
              "      <th>isAdult</th>\n",
              "      <th>startYear</th>\n",
              "      <th>endYear</th>\n",
              "      <th>runtimeMinutes</th>\n",
              "      <th>genres</th>\n",
              "    </tr>\n",
              "  </thead>\n",
              "  <tbody>\n",
              "    <tr>\n",
              "      <th>0</th>\n",
              "      <td>tt0000001</td>\n",
              "      <td>5.7</td>\n",
              "      <td>1722</td>\n",
              "      <td>short</td>\n",
              "      <td>Carmencita</td>\n",
              "      <td>Carmencita</td>\n",
              "      <td>0</td>\n",
              "      <td>1894</td>\n",
              "      <td>\\N</td>\n",
              "      <td>1</td>\n",
              "      <td>Documentary,Short</td>\n",
              "    </tr>\n",
              "    <tr>\n",
              "      <th>1</th>\n",
              "      <td>tt0000002</td>\n",
              "      <td>6.0</td>\n",
              "      <td>211</td>\n",
              "      <td>short</td>\n",
              "      <td>Le clown et ses chiens</td>\n",
              "      <td>Le clown et ses chiens</td>\n",
              "      <td>0</td>\n",
              "      <td>1892</td>\n",
              "      <td>\\N</td>\n",
              "      <td>5</td>\n",
              "      <td>Animation,Short</td>\n",
              "    </tr>\n",
              "    <tr>\n",
              "      <th>2</th>\n",
              "      <td>tt0000003</td>\n",
              "      <td>6.5</td>\n",
              "      <td>1484</td>\n",
              "      <td>short</td>\n",
              "      <td>Pauvre Pierrot</td>\n",
              "      <td>Pauvre Pierrot</td>\n",
              "      <td>0</td>\n",
              "      <td>1892</td>\n",
              "      <td>\\N</td>\n",
              "      <td>4</td>\n",
              "      <td>Animation,Comedy,Romance</td>\n",
              "    </tr>\n",
              "    <tr>\n",
              "      <th>3</th>\n",
              "      <td>tt0000004</td>\n",
              "      <td>6.1</td>\n",
              "      <td>124</td>\n",
              "      <td>short</td>\n",
              "      <td>Un bon bock</td>\n",
              "      <td>Un bon bock</td>\n",
              "      <td>0</td>\n",
              "      <td>1892</td>\n",
              "      <td>\\N</td>\n",
              "      <td>12</td>\n",
              "      <td>Animation,Short</td>\n",
              "    </tr>\n",
              "    <tr>\n",
              "      <th>4</th>\n",
              "      <td>tt0000005</td>\n",
              "      <td>6.2</td>\n",
              "      <td>2286</td>\n",
              "      <td>short</td>\n",
              "      <td>Blacksmith Scene</td>\n",
              "      <td>Blacksmith Scene</td>\n",
              "      <td>0</td>\n",
              "      <td>1893</td>\n",
              "      <td>\\N</td>\n",
              "      <td>1</td>\n",
              "      <td>Comedy,Short</td>\n",
              "    </tr>\n",
              "    <tr>\n",
              "      <th>...</th>\n",
              "      <td>...</td>\n",
              "      <td>...</td>\n",
              "      <td>...</td>\n",
              "      <td>...</td>\n",
              "      <td>...</td>\n",
              "      <td>...</td>\n",
              "      <td>...</td>\n",
              "      <td>...</td>\n",
              "      <td>...</td>\n",
              "      <td>...</td>\n",
              "      <td>...</td>\n",
              "    </tr>\n",
              "    <tr>\n",
              "      <th>1085212</th>\n",
              "      <td>tt7592594</td>\n",
              "      <td>7.4</td>\n",
              "      <td>36</td>\n",
              "      <td>movie</td>\n",
              "      <td>Max Steel: Team Turbo</td>\n",
              "      <td>Max Steel: Team Turbo</td>\n",
              "      <td>0</td>\n",
              "      <td>2016</td>\n",
              "      <td>\\N</td>\n",
              "      <td>45</td>\n",
              "      <td>Animation</td>\n",
              "    </tr>\n",
              "    <tr>\n",
              "      <th>1085213</th>\n",
              "      <td>tt7592632</td>\n",
              "      <td>9.6</td>\n",
              "      <td>9</td>\n",
              "      <td>tvEpisode</td>\n",
              "      <td>Ooo Look At Me I'm A Big Scary Ghost</td>\n",
              "      <td>Ooo Look At Me I'm A Big Scary Ghost</td>\n",
              "      <td>0</td>\n",
              "      <td>2017</td>\n",
              "      <td>\\N</td>\n",
              "      <td>16</td>\n",
              "      <td>Action,Animation,Comedy</td>\n",
              "    </tr>\n",
              "    <tr>\n",
              "      <th>1085214</th>\n",
              "      <td>tt7592728</td>\n",
              "      <td>7.2</td>\n",
              "      <td>18</td>\n",
              "      <td>tvSeries</td>\n",
              "      <td>Atrapada</td>\n",
              "      <td>Atrapada</td>\n",
              "      <td>0</td>\n",
              "      <td>2018</td>\n",
              "      <td>2018</td>\n",
              "      <td>45</td>\n",
              "      <td>Action,Crime,Drama</td>\n",
              "    </tr>\n",
              "    <tr>\n",
              "      <th>1085215</th>\n",
              "      <td>tt7592742</td>\n",
              "      <td>6.9</td>\n",
              "      <td>127</td>\n",
              "      <td>tvSeries</td>\n",
              "      <td>Five Points</td>\n",
              "      <td>Five Points</td>\n",
              "      <td>0</td>\n",
              "      <td>2018</td>\n",
              "      <td>2019</td>\n",
              "      <td>\\N</td>\n",
              "      <td>Drama</td>\n",
              "    </tr>\n",
              "    <tr>\n",
              "      <th>1085216</th>\n",
              "      <td>tt7592758</td>\n",
              "      <td>5.7</td>\n",
              "      <td>428</td>\n",
              "      <td>movie</td>\n",
              "      <td>Parchi</td>\n",
              "      <td>Parchi</td>\n",
              "      <td>0</td>\n",
              "      <td>2018</td>\n",
              "      <td>\\N</td>\n",
              "      <td>137</td>\n",
              "      <td>Action,Comedy,Crime</td>\n",
              "    </tr>\n",
              "  </tbody>\n",
              "</table>\n",
              "<p>1085217 rows × 11 columns</p>\n",
              "</div>"
            ],
            "text/plain": [
              "            tconst  averageRating  ...  runtimeMinutes                    genres\n",
              "0        tt0000001            5.7  ...               1         Documentary,Short\n",
              "1        tt0000002            6.0  ...               5           Animation,Short\n",
              "2        tt0000003            6.5  ...               4  Animation,Comedy,Romance\n",
              "3        tt0000004            6.1  ...              12           Animation,Short\n",
              "4        tt0000005            6.2  ...               1              Comedy,Short\n",
              "...            ...            ...  ...             ...                       ...\n",
              "1085212  tt7592594            7.4  ...              45                 Animation\n",
              "1085213  tt7592632            9.6  ...              16   Action,Animation,Comedy\n",
              "1085214  tt7592728            7.2  ...              45        Action,Crime,Drama\n",
              "1085215  tt7592742            6.9  ...              \\N                     Drama\n",
              "1085216  tt7592758            5.7  ...             137       Action,Comedy,Crime\n",
              "\n",
              "[1085217 rows x 11 columns]"
            ]
          },
          "metadata": {
            "tags": []
          },
          "execution_count": 92
        }
      ]
    },
    {
      "cell_type": "markdown",
      "metadata": {
        "id": "Y6xK2ZpPVXQU"
      },
      "source": [
        "## Agora iremos fazer a mesma coisa para df_inner com os atributos *'averageRating'*, *'numVotes'* e *'primaryTitle'* com o nosso dataset original que teve realizado seu pre-processamento gerando juntaTD"
      ]
    },
    {
      "cell_type": "code",
      "metadata": {
        "id": "JHzeBwf5GLFa"
      },
      "source": [
        "juntaTD = pd.merge(df_inner.loc[:,['averageRating', 'numVotes','primaryTitle']], df, left_on='primaryTitle', right_on='title', how='inner')"
      ],
      "execution_count": 93,
      "outputs": []
    },
    {
      "cell_type": "markdown",
      "metadata": {
        "id": "je-onc6GWZmt"
      },
      "source": [
        "Analisando a forma do dataset gerado"
      ]
    },
    {
      "cell_type": "code",
      "metadata": {
        "colab": {
          "base_uri": "https://localhost:8080/"
        },
        "id": "OPeIonyXIjIT",
        "outputId": "932abe20-c7ff-4715-acd1-a681d5c1d49b"
      },
      "source": [
        "juntaTD.shape"
      ],
      "execution_count": 94,
      "outputs": [
        {
          "output_type": "execute_result",
          "data": {
            "text/plain": [
              "(20874, 18)"
            ]
          },
          "metadata": {
            "tags": []
          },
          "execution_count": 94
        }
      ]
    },
    {
      "cell_type": "markdown",
      "metadata": {
        "id": "kfTzjIMAWiYw"
      },
      "source": [
        "### Vamos remover as duplicatas utilizando o atributo título como verificador "
      ]
    },
    {
      "cell_type": "code",
      "metadata": {
        "colab": {
          "base_uri": "https://localhost:8080/",
          "height": 1000
        },
        "id": "7k8R5_7DJMCl",
        "outputId": "6f59540f-7c62-4fd7-9c0c-392d9d715d3c"
      },
      "source": [
        "juntaTD.drop_duplicates(subset =['primaryTitle'], keep = False, inplace = True)\n",
        "juntaTD.head(10)"
      ],
      "execution_count": 95,
      "outputs": [
        {
          "output_type": "execute_result",
          "data": {
            "text/html": [
              "<div>\n",
              "<style scoped>\n",
              "    .dataframe tbody tr th:only-of-type {\n",
              "        vertical-align: middle;\n",
              "    }\n",
              "\n",
              "    .dataframe tbody tr th {\n",
              "        vertical-align: top;\n",
              "    }\n",
              "\n",
              "    .dataframe thead th {\n",
              "        text-align: right;\n",
              "    }\n",
              "</style>\n",
              "<table border=\"1\" class=\"dataframe\">\n",
              "  <thead>\n",
              "    <tr style=\"text-align: right;\">\n",
              "      <th></th>\n",
              "      <th>averageRating</th>\n",
              "      <th>numVotes</th>\n",
              "      <th>primaryTitle</th>\n",
              "      <th>show_id</th>\n",
              "      <th>type</th>\n",
              "      <th>title</th>\n",
              "      <th>director</th>\n",
              "      <th>cast</th>\n",
              "      <th>country</th>\n",
              "      <th>date_added</th>\n",
              "      <th>release_year</th>\n",
              "      <th>rating</th>\n",
              "      <th>duration</th>\n",
              "      <th>listed_in</th>\n",
              "      <th>description</th>\n",
              "      <th>main_country</th>\n",
              "      <th>year_added</th>\n",
              "      <th>year_difference</th>\n",
              "    </tr>\n",
              "  </thead>\n",
              "  <tbody>\n",
              "    <tr>\n",
              "      <th>658</th>\n",
              "      <td>3.9</td>\n",
              "      <td>28</td>\n",
              "      <td>Roped</td>\n",
              "      <td>s5282</td>\n",
              "      <td>Movie</td>\n",
              "      <td>Roped</td>\n",
              "      <td>Shaun Paul Piccinino</td>\n",
              "      <td>Josh Swickard, Casper Van Dien, Lorynn York, C...</td>\n",
              "      <td>United States</td>\n",
              "      <td>2020-05-02</td>\n",
              "      <td>2020</td>\n",
              "      <td>PG</td>\n",
              "      <td>90</td>\n",
              "      <td>Children &amp; Family Movies, Dramas, Romantic Movies</td>\n",
              "      <td>A star cowboy in a traveling rodeo gets thrown...</td>\n",
              "      <td>United States</td>\n",
              "      <td>2020</td>\n",
              "      <td>0</td>\n",
              "    </tr>\n",
              "    <tr>\n",
              "      <th>2597</th>\n",
              "      <td>6.4</td>\n",
              "      <td>80210</td>\n",
              "      <td>Kate &amp; Leopold</td>\n",
              "      <td>s3315</td>\n",
              "      <td>Movie</td>\n",
              "      <td>Kate &amp; Leopold</td>\n",
              "      <td>James Mangold</td>\n",
              "      <td>Meg Ryan, Hugh Jackman, Liev Schreiber, Brecki...</td>\n",
              "      <td>United States</td>\n",
              "      <td>2020-01-01</td>\n",
              "      <td>2001</td>\n",
              "      <td>PG-13</td>\n",
              "      <td>118</td>\n",
              "      <td>Comedies, Romantic Movies</td>\n",
              "      <td>A present-day woman takes responsibility for g...</td>\n",
              "      <td>United States</td>\n",
              "      <td>2020</td>\n",
              "      <td>19</td>\n",
              "    </tr>\n",
              "    <tr>\n",
              "      <th>2638</th>\n",
              "      <td>6.7</td>\n",
              "      <td>2093</td>\n",
              "      <td>San Pietro</td>\n",
              "      <td>s5372</td>\n",
              "      <td>Movie</td>\n",
              "      <td>San Pietro</td>\n",
              "      <td>John Huston</td>\n",
              "      <td>desconhecido</td>\n",
              "      <td>United States</td>\n",
              "      <td>2017-03-31</td>\n",
              "      <td>1945</td>\n",
              "      <td>TV-14</td>\n",
              "      <td>32</td>\n",
              "      <td>Classic Movies, Documentaries</td>\n",
              "      <td>After the Allies invade Italy, the Liri Valley...</td>\n",
              "      <td>United States</td>\n",
              "      <td>2017</td>\n",
              "      <td>72</td>\n",
              "    </tr>\n",
              "    <tr>\n",
              "      <th>2682</th>\n",
              "      <td>6.7</td>\n",
              "      <td>546</td>\n",
              "      <td>Tunisian Victory</td>\n",
              "      <td>s7269</td>\n",
              "      <td>Movie</td>\n",
              "      <td>Tunisian Victory</td>\n",
              "      <td>Frank Capra, John Huston, Hugh Stewart, Roy Bo...</td>\n",
              "      <td>Burgess Meredith</td>\n",
              "      <td>United States, United Kingdom</td>\n",
              "      <td>2017-03-31</td>\n",
              "      <td>1944</td>\n",
              "      <td>TV-14</td>\n",
              "      <td>76</td>\n",
              "      <td>Classic Movies, Documentaries</td>\n",
              "      <td>British and American troops join forces to lib...</td>\n",
              "      <td>United States</td>\n",
              "      <td>2017</td>\n",
              "      <td>73</td>\n",
              "    </tr>\n",
              "    <tr>\n",
              "      <th>3187</th>\n",
              "      <td>6.9</td>\n",
              "      <td>89</td>\n",
              "      <td>Jhansi Ki Rani</td>\n",
              "      <td>s3165</td>\n",
              "      <td>TV Show</td>\n",
              "      <td>Jhansi Ki Rani</td>\n",
              "      <td>desconhecido</td>\n",
              "      <td>Ulka Gupta, Sameer Dharmadhikari, Amit Pachori...</td>\n",
              "      <td>India</td>\n",
              "      <td>2017-06-01</td>\n",
              "      <td>2009</td>\n",
              "      <td>TV-14</td>\n",
              "      <td>1</td>\n",
              "      <td>International TV Shows, TV Dramas</td>\n",
              "      <td>In British-ruled, 19th-century India, a 14-yea...</td>\n",
              "      <td>India</td>\n",
              "      <td>2017</td>\n",
              "      <td>8</td>\n",
              "    </tr>\n",
              "    <tr>\n",
              "      <th>3390</th>\n",
              "      <td>6.5</td>\n",
              "      <td>1371</td>\n",
              "      <td>The Sign of Venus</td>\n",
              "      <td>s6869</td>\n",
              "      <td>Movie</td>\n",
              "      <td>The Sign of Venus</td>\n",
              "      <td>Dino Risi</td>\n",
              "      <td>Sophia Loren, Franca Valeri, Vittorio De Sica,...</td>\n",
              "      <td>Italy</td>\n",
              "      <td>2020-11-13</td>\n",
              "      <td>1955</td>\n",
              "      <td>TV-14</td>\n",
              "      <td>97</td>\n",
              "      <td>Classic Movies, Comedies, Independent Movies</td>\n",
              "      <td>While suitors swoon over her cousin, a single ...</td>\n",
              "      <td>Italy</td>\n",
              "      <td>2020</td>\n",
              "      <td>65</td>\n",
              "    </tr>\n",
              "    <tr>\n",
              "      <th>3618</th>\n",
              "      <td>6.4</td>\n",
              "      <td>96</td>\n",
              "      <td>This Is My Love</td>\n",
              "      <td>s7050</td>\n",
              "      <td>TV Show</td>\n",
              "      <td>This Is My Love</td>\n",
              "      <td>desconhecido</td>\n",
              "      <td>Jin-mo Joo, Sa-rang Kim, Junior, Ja-in Lee, Su...</td>\n",
              "      <td>South Korea</td>\n",
              "      <td>2017-05-22</td>\n",
              "      <td>2015</td>\n",
              "      <td>TV-14</td>\n",
              "      <td>1</td>\n",
              "      <td>International TV Shows, Korean TV Shows, Roman...</td>\n",
              "      <td>A renowned actor who is still pining over the ...</td>\n",
              "      <td>South Korea</td>\n",
              "      <td>2017</td>\n",
              "      <td>2</td>\n",
              "    </tr>\n",
              "    <tr>\n",
              "      <th>3729</th>\n",
              "      <td>6.5</td>\n",
              "      <td>2121</td>\n",
              "      <td>Scandal in Sorrento</td>\n",
              "      <td>s5426</td>\n",
              "      <td>Movie</td>\n",
              "      <td>Scandal in Sorrento</td>\n",
              "      <td>Dino Risi</td>\n",
              "      <td>Vittorio De Sica, Sophia Loren, Lea Padovani, ...</td>\n",
              "      <td>Italy, France</td>\n",
              "      <td>2020-11-13</td>\n",
              "      <td>1955</td>\n",
              "      <td>TV-PG</td>\n",
              "      <td>93</td>\n",
              "      <td>Classic Movies, Comedies, Independent Movies</td>\n",
              "      <td>When a marshal moves back to his hometown, he ...</td>\n",
              "      <td>Italy</td>\n",
              "      <td>2020</td>\n",
              "      <td>65</td>\n",
              "    </tr>\n",
              "    <tr>\n",
              "      <th>3738</th>\n",
              "      <td>7.6</td>\n",
              "      <td>3807</td>\n",
              "      <td>Cairo Station</td>\n",
              "      <td>s1170</td>\n",
              "      <td>Movie</td>\n",
              "      <td>Cairo Station</td>\n",
              "      <td>Youssef Chahine</td>\n",
              "      <td>Farid Shawqy, Hind Rostom, Youssef Chahine, Ha...</td>\n",
              "      <td>Egypt</td>\n",
              "      <td>2020-06-18</td>\n",
              "      <td>1958</td>\n",
              "      <td>TV-14</td>\n",
              "      <td>73</td>\n",
              "      <td>Classic Movies, Dramas, International Movies</td>\n",
              "      <td>A Cairo newsstand vendor's fantasies morph int...</td>\n",
              "      <td>Egypt</td>\n",
              "      <td>2020</td>\n",
              "      <td>62</td>\n",
              "    </tr>\n",
              "    <tr>\n",
              "      <th>3907</th>\n",
              "      <td>8.3</td>\n",
              "      <td>12805</td>\n",
              "      <td>The Andy Griffith Show</td>\n",
              "      <td>s6083</td>\n",
              "      <td>TV Show</td>\n",
              "      <td>The Andy Griffith Show</td>\n",
              "      <td>desconhecido</td>\n",
              "      <td>Andy Griffith, Ron Howard, Don Knotts, Frances...</td>\n",
              "      <td>United States</td>\n",
              "      <td>2017-07-01</td>\n",
              "      <td>1967</td>\n",
              "      <td>TV-G</td>\n",
              "      <td>8</td>\n",
              "      <td>Classic &amp; Cult TV, TV Comedies</td>\n",
              "      <td>Homespun humor and easygoing Sheriff Andy Tayl...</td>\n",
              "      <td>United States</td>\n",
              "      <td>2017</td>\n",
              "      <td>50</td>\n",
              "    </tr>\n",
              "  </tbody>\n",
              "</table>\n",
              "</div>"
            ],
            "text/plain": [
              "      averageRating  numVotes  ... year_added year_difference\n",
              "658             3.9        28  ...       2020               0\n",
              "2597            6.4     80210  ...       2020              19\n",
              "2638            6.7      2093  ...       2017              72\n",
              "2682            6.7       546  ...       2017              73\n",
              "3187            6.9        89  ...       2017               8\n",
              "3390            6.5      1371  ...       2020              65\n",
              "3618            6.4        96  ...       2017               2\n",
              "3729            6.5      2121  ...       2020              65\n",
              "3738            7.6      3807  ...       2020              62\n",
              "3907            8.3     12805  ...       2017              50\n",
              "\n",
              "[10 rows x 18 columns]"
            ]
          },
          "metadata": {
            "tags": []
          },
          "execution_count": 95
        }
      ]
    },
    {
      "cell_type": "code",
      "metadata": {
        "id": "fp1ciYRilZLl",
        "colab": {
          "base_uri": "https://localhost:8080/"
        },
        "outputId": "afbc9d90-41d0-44f0-b57c-b83d42960f0f"
      },
      "source": [
        "juntaTD.isnull().sum()/(len(df))*100"
      ],
      "execution_count": 96,
      "outputs": [
        {
          "output_type": "execute_result",
          "data": {
            "text/plain": [
              "averageRating      0.0\n",
              "numVotes           0.0\n",
              "primaryTitle       0.0\n",
              "show_id            0.0\n",
              "type               0.0\n",
              "title              0.0\n",
              "director           0.0\n",
              "cast               0.0\n",
              "country            0.0\n",
              "date_added         0.0\n",
              "release_year       0.0\n",
              "rating             0.0\n",
              "duration           0.0\n",
              "listed_in          0.0\n",
              "description        0.0\n",
              "main_country       0.0\n",
              "year_added         0.0\n",
              "year_difference    0.0\n",
              "dtype: float64"
            ]
          },
          "metadata": {
            "tags": []
          },
          "execution_count": 96
        }
      ]
    },
    {
      "cell_type": "code",
      "metadata": {
        "colab": {
          "base_uri": "https://localhost:8080/"
        },
        "id": "WC1WjuZ7MTuV",
        "outputId": "13fce7fe-f350-45ea-e70d-c3da34321048"
      },
      "source": [
        "juntaTD.shape"
      ],
      "execution_count": 97,
      "outputs": [
        {
          "output_type": "execute_result",
          "data": {
            "text/plain": [
              "(3318, 18)"
            ]
          },
          "metadata": {
            "tags": []
          },
          "execution_count": 97
        }
      ]
    },
    {
      "cell_type": "markdown",
      "metadata": {
        "id": "gKZEfjyEMb8w"
      },
      "source": [
        "Podemos ver que sobrou pouco mais da metade nosso dataset original, vamos ter que trabalhar com isso."
      ]
    },
    {
      "cell_type": "markdown",
      "metadata": {
        "id": "DvZDXvDFFr4w"
      },
      "source": [
        "#Vamos realizar agora o teste de hipótese verificando se possuímos alguma diferença relevante dentre suas notas."
      ]
    },
    {
      "cell_type": "markdown",
      "metadata": {
        "id": "qMnGumYKYA-s"
      },
      "source": [
        "> Primeiramente fazendo uma análise com relação as avaliações para filmes e séries, respectivamente"
      ]
    },
    {
      "cell_type": "code",
      "metadata": {
        "id": "x_lW22h5YKfI",
        "colab": {
          "base_uri": "https://localhost:8080/",
          "height": 295
        },
        "outputId": "a90aded6-c7fc-43cc-f50e-0510f0bcbba2"
      },
      "source": [
        "juntaTD[juntaTD['type']=='Movie'].describe()"
      ],
      "execution_count": 98,
      "outputs": [
        {
          "output_type": "execute_result",
          "data": {
            "text/html": [
              "<div>\n",
              "<style scoped>\n",
              "    .dataframe tbody tr th:only-of-type {\n",
              "        vertical-align: middle;\n",
              "    }\n",
              "\n",
              "    .dataframe tbody tr th {\n",
              "        vertical-align: top;\n",
              "    }\n",
              "\n",
              "    .dataframe thead th {\n",
              "        text-align: right;\n",
              "    }\n",
              "</style>\n",
              "<table border=\"1\" class=\"dataframe\">\n",
              "  <thead>\n",
              "    <tr style=\"text-align: right;\">\n",
              "      <th></th>\n",
              "      <th>averageRating</th>\n",
              "      <th>numVotes</th>\n",
              "      <th>release_year</th>\n",
              "      <th>duration</th>\n",
              "      <th>year_added</th>\n",
              "      <th>year_difference</th>\n",
              "    </tr>\n",
              "  </thead>\n",
              "  <tbody>\n",
              "    <tr>\n",
              "      <th>count</th>\n",
              "      <td>2416.000000</td>\n",
              "      <td>2.416000e+03</td>\n",
              "      <td>2416.000000</td>\n",
              "      <td>2416.000000</td>\n",
              "      <td>2416.000000</td>\n",
              "      <td>2416.000000</td>\n",
              "    </tr>\n",
              "    <tr>\n",
              "      <th>mean</th>\n",
              "      <td>6.252773</td>\n",
              "      <td>1.779456e+04</td>\n",
              "      <td>2013.256209</td>\n",
              "      <td>99.736755</td>\n",
              "      <td>2018.337334</td>\n",
              "      <td>5.081126</td>\n",
              "    </tr>\n",
              "    <tr>\n",
              "      <th>std</th>\n",
              "      <td>1.172462</td>\n",
              "      <td>7.779817e+04</td>\n",
              "      <td>8.797713</td>\n",
              "      <td>27.656325</td>\n",
              "      <td>1.465415</td>\n",
              "      <td>8.810969</td>\n",
              "    </tr>\n",
              "    <tr>\n",
              "      <th>min</th>\n",
              "      <td>1.500000</td>\n",
              "      <td>5.000000e+00</td>\n",
              "      <td>1944.000000</td>\n",
              "      <td>5.000000</td>\n",
              "      <td>2010.000000</td>\n",
              "      <td>0.000000</td>\n",
              "    </tr>\n",
              "    <tr>\n",
              "      <th>25%</th>\n",
              "      <td>5.500000</td>\n",
              "      <td>3.457500e+02</td>\n",
              "      <td>2012.750000</td>\n",
              "      <td>86.000000</td>\n",
              "      <td>2017.000000</td>\n",
              "      <td>0.000000</td>\n",
              "    </tr>\n",
              "    <tr>\n",
              "      <th>50%</th>\n",
              "      <td>6.400000</td>\n",
              "      <td>1.553000e+03</td>\n",
              "      <td>2016.000000</td>\n",
              "      <td>98.000000</td>\n",
              "      <td>2018.000000</td>\n",
              "      <td>1.000000</td>\n",
              "    </tr>\n",
              "    <tr>\n",
              "      <th>75%</th>\n",
              "      <td>7.100000</td>\n",
              "      <td>6.699250e+03</td>\n",
              "      <td>2018.000000</td>\n",
              "      <td>114.000000</td>\n",
              "      <td>2020.000000</td>\n",
              "      <td>6.000000</td>\n",
              "    </tr>\n",
              "    <tr>\n",
              "      <th>max</th>\n",
              "      <td>9.100000</td>\n",
              "      <td>1.400965e+06</td>\n",
              "      <td>2021.000000</td>\n",
              "      <td>253.000000</td>\n",
              "      <td>2021.000000</td>\n",
              "      <td>73.000000</td>\n",
              "    </tr>\n",
              "  </tbody>\n",
              "</table>\n",
              "</div>"
            ],
            "text/plain": [
              "       averageRating      numVotes  ...   year_added  year_difference\n",
              "count    2416.000000  2.416000e+03  ...  2416.000000      2416.000000\n",
              "mean        6.252773  1.779456e+04  ...  2018.337334         5.081126\n",
              "std         1.172462  7.779817e+04  ...     1.465415         8.810969\n",
              "min         1.500000  5.000000e+00  ...  2010.000000         0.000000\n",
              "25%         5.500000  3.457500e+02  ...  2017.000000         0.000000\n",
              "50%         6.400000  1.553000e+03  ...  2018.000000         1.000000\n",
              "75%         7.100000  6.699250e+03  ...  2020.000000         6.000000\n",
              "max         9.100000  1.400965e+06  ...  2021.000000        73.000000\n",
              "\n",
              "[8 rows x 6 columns]"
            ]
          },
          "metadata": {
            "tags": []
          },
          "execution_count": 98
        }
      ]
    },
    {
      "cell_type": "code",
      "metadata": {
        "id": "q3XMCG01Y_fC",
        "colab": {
          "base_uri": "https://localhost:8080/",
          "height": 295
        },
        "outputId": "a40afc24-7320-4dd6-b7c2-8e22f673cfc7"
      },
      "source": [
        "juntaTD[juntaTD['type']=='TV Show'].describe()"
      ],
      "execution_count": 99,
      "outputs": [
        {
          "output_type": "execute_result",
          "data": {
            "text/html": [
              "<div>\n",
              "<style scoped>\n",
              "    .dataframe tbody tr th:only-of-type {\n",
              "        vertical-align: middle;\n",
              "    }\n",
              "\n",
              "    .dataframe tbody tr th {\n",
              "        vertical-align: top;\n",
              "    }\n",
              "\n",
              "    .dataframe thead th {\n",
              "        text-align: right;\n",
              "    }\n",
              "</style>\n",
              "<table border=\"1\" class=\"dataframe\">\n",
              "  <thead>\n",
              "    <tr style=\"text-align: right;\">\n",
              "      <th></th>\n",
              "      <th>averageRating</th>\n",
              "      <th>numVotes</th>\n",
              "      <th>release_year</th>\n",
              "      <th>duration</th>\n",
              "      <th>year_added</th>\n",
              "      <th>year_difference</th>\n",
              "    </tr>\n",
              "  </thead>\n",
              "  <tbody>\n",
              "    <tr>\n",
              "      <th>count</th>\n",
              "      <td>902.000000</td>\n",
              "      <td>902.000000</td>\n",
              "      <td>902.000000</td>\n",
              "      <td>902.000000</td>\n",
              "      <td>902.000000</td>\n",
              "      <td>902.000000</td>\n",
              "    </tr>\n",
              "    <tr>\n",
              "      <th>mean</th>\n",
              "      <td>7.054213</td>\n",
              "      <td>6224.097561</td>\n",
              "      <td>2016.053215</td>\n",
              "      <td>1.745011</td>\n",
              "      <td>2018.524390</td>\n",
              "      <td>2.471175</td>\n",
              "    </tr>\n",
              "    <tr>\n",
              "      <th>std</th>\n",
              "      <td>1.135180</td>\n",
              "      <td>21782.564319</td>\n",
              "      <td>5.834895</td>\n",
              "      <td>1.404509</td>\n",
              "      <td>1.499894</td>\n",
              "      <td>5.463302</td>\n",
              "    </tr>\n",
              "    <tr>\n",
              "      <th>min</th>\n",
              "      <td>1.800000</td>\n",
              "      <td>5.000000</td>\n",
              "      <td>1946.000000</td>\n",
              "      <td>1.000000</td>\n",
              "      <td>2008.000000</td>\n",
              "      <td>-2.000000</td>\n",
              "    </tr>\n",
              "    <tr>\n",
              "      <th>25%</th>\n",
              "      <td>6.400000</td>\n",
              "      <td>105.250000</td>\n",
              "      <td>2015.000000</td>\n",
              "      <td>1.000000</td>\n",
              "      <td>2017.000000</td>\n",
              "      <td>0.000000</td>\n",
              "    </tr>\n",
              "    <tr>\n",
              "      <th>50%</th>\n",
              "      <td>7.300000</td>\n",
              "      <td>698.000000</td>\n",
              "      <td>2017.000000</td>\n",
              "      <td>1.000000</td>\n",
              "      <td>2019.000000</td>\n",
              "      <td>0.000000</td>\n",
              "    </tr>\n",
              "    <tr>\n",
              "      <th>75%</th>\n",
              "      <td>7.900000</td>\n",
              "      <td>3147.500000</td>\n",
              "      <td>2019.000000</td>\n",
              "      <td>2.000000</td>\n",
              "      <td>2020.000000</td>\n",
              "      <td>3.000000</td>\n",
              "    </tr>\n",
              "    <tr>\n",
              "      <th>max</th>\n",
              "      <td>9.600000</td>\n",
              "      <td>386256.000000</td>\n",
              "      <td>2021.000000</td>\n",
              "      <td>10.000000</td>\n",
              "      <td>2021.000000</td>\n",
              "      <td>71.000000</td>\n",
              "    </tr>\n",
              "  </tbody>\n",
              "</table>\n",
              "</div>"
            ],
            "text/plain": [
              "       averageRating       numVotes  ...   year_added  year_difference\n",
              "count     902.000000     902.000000  ...   902.000000       902.000000\n",
              "mean        7.054213    6224.097561  ...  2018.524390         2.471175\n",
              "std         1.135180   21782.564319  ...     1.499894         5.463302\n",
              "min         1.800000       5.000000  ...  2008.000000        -2.000000\n",
              "25%         6.400000     105.250000  ...  2017.000000         0.000000\n",
              "50%         7.300000     698.000000  ...  2019.000000         0.000000\n",
              "75%         7.900000    3147.500000  ...  2020.000000         3.000000\n",
              "max         9.600000  386256.000000  ...  2021.000000        71.000000\n",
              "\n",
              "[8 rows x 6 columns]"
            ]
          },
          "metadata": {
            "tags": []
          },
          "execution_count": 99
        }
      ]
    },
    {
      "cell_type": "markdown",
      "metadata": {
        "id": "zbT5JcUYdA8A"
      },
      "source": [
        "Vamos normalizar as notas usando o z-score"
      ]
    },
    {
      "cell_type": "code",
      "metadata": {
        "id": "zVPA-OZ3dEZ6"
      },
      "source": [
        "juntaTD['averageRating_NORM'] = scaler.fit_transform(juntaTD[['averageRating']])"
      ],
      "execution_count": 100,
      "outputs": []
    },
    {
      "cell_type": "markdown",
      "metadata": {
        "id": "cBaJ5S5Zf2Sy"
      },
      "source": [
        "## Primeiro vamos comparar se a avaliação média de gravações realizadas na Austrália difere da média dos países. E vamos fazer as próximas observações para decidirmos qual teste de hipótese utilizar, de acordo com a tabela fornecida."
      ]
    },
    {
      "cell_type": "code",
      "metadata": {
        "id": "xyzgv48ihbZz",
        "colab": {
          "base_uri": "https://localhost:8080/"
        },
        "outputId": "fa3ad9ee-d13c-4314-827f-9edbd2698f99"
      },
      "source": [
        "juntaTD[juntaTD['main_country'] == 'Australia']['averageRating'].describe()"
      ],
      "execution_count": 109,
      "outputs": [
        {
          "output_type": "execute_result",
          "data": {
            "text/plain": [
              "count    49.000000\n",
              "mean      6.865306\n",
              "std       0.781172\n",
              "min       5.300000\n",
              "25%       6.300000\n",
              "50%       6.900000\n",
              "75%       7.400000\n",
              "max       8.300000\n",
              "Name: averageRating, dtype: float64"
            ]
          },
          "metadata": {
            "tags": []
          },
          "execution_count": 109
        }
      ]
    },
    {
      "cell_type": "markdown",
      "metadata": {
        "id": "eGrqBIqfFtId"
      },
      "source": [
        "Além de normalizar as notas iremos remover os outliers presentes nas avaliações para todos os países através do método tukey."
      ]
    },
    {
      "cell_type": "code",
      "metadata": {
        "id": "L0MDqrdpGoUe",
        "outputId": "9630051f-eb7c-409a-8fc1-ad2f8751f2ab",
        "colab": {
          "base_uri": "https://localhost:8080/"
        }
      },
      "source": [
        "q1j = juntaTD['averageRating_NORM'].quantile(q=0.25)\n",
        "q3j = juntaTD['averageRating_NORM'].quantile(q=0.75)\n",
        "iqrj = q3j - q1j\n",
        "iqrj"
      ],
      "execution_count": 113,
      "outputs": [
        {
          "output_type": "execute_result",
          "data": {
            "text/plain": [
              "1.3162509750887783"
            ]
          },
          "metadata": {
            "tags": []
          },
          "execution_count": 113
        }
      ]
    },
    {
      "cell_type": "code",
      "metadata": {
        "id": "W10LEG37HE4V",
        "outputId": "d290575e-d28f-4e25-c033-c853b80f2a4f",
        "colab": {
          "base_uri": "https://localhost:8080/"
        }
      },
      "source": [
        "juntaTD1 = juntaTD[(juntaTD['averageRating_NORM'] > (q1j-1.5*iqrj)) & (juntaTD['averageRating_NORM'] < (q3j+1.5*iqrj))]\n",
        "len(juntaTD1)"
      ],
      "execution_count": 114,
      "outputs": [
        {
          "output_type": "execute_result",
          "data": {
            "text/plain": [
              "3274"
            ]
          },
          "metadata": {
            "tags": []
          },
          "execution_count": 114
        }
      ]
    },
    {
      "cell_type": "code",
      "metadata": {
        "id": "7ECPulPyIGXl",
        "outputId": "3fe56046-3176-4bad-c2fe-894d98c2a746",
        "colab": {
          "base_uri": "https://localhost:8080/"
        }
      },
      "source": [
        "len(juntaTD)"
      ],
      "execution_count": 117,
      "outputs": [
        {
          "output_type": "execute_result",
          "data": {
            "text/plain": [
              "3318"
            ]
          },
          "metadata": {
            "tags": []
          },
          "execution_count": 117
        }
      ]
    },
    {
      "cell_type": "markdown",
      "metadata": {
        "id": "FRX33Dq3Ijxe"
      },
      "source": [
        "Verificando se a distribuição das avaliações da Australia seguem uma gaussiana."
      ]
    },
    {
      "cell_type": "code",
      "metadata": {
        "id": "85oaQl5aK11O",
        "outputId": "6bb7aeba-744a-4765-f1bc-c5ff2bae8b1b",
        "colab": {
          "base_uri": "https://localhost:8080/",
          "height": 297
        }
      },
      "source": [
        "sns.histplot(data=juntaTD.loc[juntaTD.main_country=='Australia'], x='averageRating_NORM', kde=True)"
      ],
      "execution_count": 120,
      "outputs": [
        {
          "output_type": "execute_result",
          "data": {
            "text/plain": [
              "<matplotlib.axes._subplots.AxesSubplot at 0x7fa9b8ff0310>"
            ]
          },
          "metadata": {
            "tags": []
          },
          "execution_count": 120
        },
        {
          "output_type": "display_data",
          "data": {
            "image/png": "[encoded data removed]",
            "text/plain": [
              "<Figure size 432x288 with 1 Axes>"
            ]
          },
          "metadata": {
            "tags": [],
            "needs_background": "light"
          }
        }
      ]
    },
    {
      "cell_type": "code",
      "metadata": {
        "id": "1UoCzjD2KWYT",
        "outputId": "c8862072-5c75-4d66-aa6f-d4d157cda194",
        "colab": {
          "base_uri": "https://localhost:8080/"
        }
      },
      "source": [
        "stats.shapiro(juntaTD[juntaTD['main_country'] == 'Australia']['averageRating_NORM'])"
      ],
      "execution_count": 133,
      "outputs": [
        {
          "output_type": "execute_result",
          "data": {
            "text/plain": [
              "(0.9749898910522461, 0.37757548689842224)"
            ]
          },
          "metadata": {
            "tags": []
          },
          "execution_count": 133
        }
      ]
    },
    {
      "cell_type": "markdown",
      "metadata": {
        "id": "4rBn2bZFTOkC"
      },
      "source": [
        "> Com este p-value podemos considerar tal distribuição como uma normal"
      ]
    },
    {
      "cell_type": "markdown",
      "metadata": {
        "id": "GUo8QS9cM6NI"
      },
      "source": [
        "Como a nota de filmes da Austrália segue uma distribuição normal vamos utilizar o one sample t-test, indicado na tabela para o nosso tipo de dado e nosso objetivo."
      ]
    },
    {
      "cell_type": "code",
      "metadata": {
        "id": "AfjaKHXDOFlA",
        "outputId": "e84fd19b-1849-4c2c-b707-4632e8d4d972",
        "colab": {
          "base_uri": "https://localhost:8080/"
        }
      },
      "source": [
        "stats.ttest_1samp(juntaTD[juntaTD['main_country'] == 'Australia']['averageRating_NORM'], juntaTD1['averageRating_NORM'].mean())"
      ],
      "execution_count": 171,
      "outputs": [
        {
          "output_type": "execute_result",
          "data": {
            "text/plain": [
              "Ttest_1sampResult(statistic=3.0794175757212456, pvalue=0.0034261841772138505)"
            ]
          },
          "metadata": {
            "tags": []
          },
          "execution_count": 171
        }
      ]
    },
    {
      "cell_type": "code",
      "metadata": {
        "id": "3Eq20IzxkNyF",
        "outputId": "92af3fb7-f998-40c6-d099-22ff4e0bcdcf",
        "colab": {
          "base_uri": "https://localhost:8080/",
          "height": 282
        }
      },
      "source": [
        "dataA = juntaTD.loc[juntaTD.main_country == 'Australia',['averageRating_NORM']]\n",
        "dataM = juntaTD['averageRating_NORM']\n",
        "sns.boxplot(data=[dataM, dataA])"
      ],
      "execution_count": 108,
      "outputs": [
        {
          "output_type": "execute_result",
          "data": {
            "text/plain": [
              "<matplotlib.axes._subplots.AxesSubplot at 0x7fa9b928e810>"
            ]
          },
          "metadata": {
            "tags": []
          },
          "execution_count": 108
        },
        {
          "output_type": "display_data",
          "data": {
            "image/png": "[encoded data removed]",
            "text/plain": [
              "<Figure size 432x288 with 1 Axes>"
            ]
          },
          "metadata": {
            "tags": [],
            "needs_background": "light"
          }
        }
      ]
    },
    {
      "cell_type": "code",
      "metadata": {
        "id": "ZJO80YUSc_TS",
        "outputId": "ac26837a-5d90-4fc4-b8a7-e09e767405e2",
        "colab": {
          "base_uri": "https://localhost:8080/",
          "height": 282
        }
      },
      "source": [
        "dataA = juntaTD.loc[juntaTD.main_country == 'Australia',['averageRating_NORM']]\n",
        "dataM = juntaTD1['averageRating_NORM']\n",
        "sns.violinplot(data=[dataA, dataM])"
      ],
      "execution_count": 162,
      "outputs": [
        {
          "output_type": "execute_result",
          "data": {
            "text/plain": [
              "<matplotlib.axes._subplots.AxesSubplot at 0x7fa9b8369a50>"
            ]
          },
          "metadata": {
            "tags": []
          },
          "execution_count": 162
        },
        {
          "output_type": "display_data",
          "data": {
            "image/png": "[encoded data removed]",
            "text/plain": [
              "<Figure size 432x288 with 1 Axes>"
            ]
          },
          "metadata": {
            "tags": [],
            "needs_background": "light"
          }
        }
      ]
    },
    {
      "cell_type": "markdown",
      "metadata": {
        "id": "ZTqG6WyieRV0"
      },
      "source": [
        "> Conforme podemos ver nos gráficos plotados e no p-value resultante do one sample t test, que a média das distribuições são diferentes"
      ]
    },
    {
      "cell_type": "markdown",
      "metadata": {
        "id": "QtOevkzuWGCh"
      },
      "source": [
        "## Vamos comparar agora se existe alguma diferença na avaliação média entre séries e filmes"
      ]
    },
    {
      "cell_type": "markdown",
      "metadata": {
        "id": "_hz3goqKWTlx"
      },
      "source": [
        "### Antes precisamos verificar para séries e filmes se suas distribuições seguem uma normal"
      ]
    },
    {
      "cell_type": "code",
      "metadata": {
        "id": "Jtv3BgiYXrER",
        "outputId": "8d2a1952-7d5d-471b-b15a-005807bd72f6",
        "colab": {
          "base_uri": "https://localhost:8080/",
          "height": 297
        }
      },
      "source": [
        "sns.histplot(data=juntaTD.loc[juntaTD.type=='TV Show'], x='averageRating_NORM', kde=True)"
      ],
      "execution_count": 135,
      "outputs": [
        {
          "output_type": "execute_result",
          "data": {
            "text/plain": [
              "<matplotlib.axes._subplots.AxesSubplot at 0x7fa9b8d11750>"
            ]
          },
          "metadata": {
            "tags": []
          },
          "execution_count": 135
        },
        {
          "output_type": "display_data",
          "data": {
            "image/png": "[encoded data removed]",
            "text/plain": [
              "<Figure size 432x288 with 1 Axes>"
            ]
          },
          "metadata": {
            "tags": [],
            "needs_background": "light"
          }
        }
      ]
    },
    {
      "cell_type": "code",
      "metadata": {
        "id": "4zjJh0bYYiLN",
        "outputId": "2cd8554d-e7db-4dc7-e57b-047675fddd8b",
        "colab": {
          "base_uri": "https://localhost:8080/"
        }
      },
      "source": [
        "stats.shapiro(juntaTD.loc[juntaTD.type=='TV Show']['averageRating_NORM'])"
      ],
      "execution_count": 139,
      "outputs": [
        {
          "output_type": "execute_result",
          "data": {
            "text/plain": [
              "(0.9612730741500854, 1.0161474797449471e-14)"
            ]
          },
          "metadata": {
            "tags": []
          },
          "execution_count": 139
        }
      ]
    },
    {
      "cell_type": "code",
      "metadata": {
        "id": "hYS-75aAX9Wr",
        "outputId": "f1e6651b-9f7c-4588-e301-925de7360b83",
        "colab": {
          "base_uri": "https://localhost:8080/",
          "height": 297
        }
      },
      "source": [
        "sns.histplot(data=juntaTD.loc[juntaTD.type=='Movie'], x='averageRating_NORM', kde=True)"
      ],
      "execution_count": 136,
      "outputs": [
        {
          "output_type": "execute_result",
          "data": {
            "text/plain": [
              "<matplotlib.axes._subplots.AxesSubplot at 0x7fa9b8c21490>"
            ]
          },
          "metadata": {
            "tags": []
          },
          "execution_count": 136
        },
        {
          "output_type": "display_data",
          "data": {
            "image/png": "[encoded data removed]",
            "text/plain": [
              "<Figure size 432x288 with 1 Axes>"
            ]
          },
          "metadata": {
            "tags": [],
            "needs_background": "light"
          }
        }
      ]
    },
    {
      "cell_type": "code",
      "metadata": {
        "id": "8luk27BiYEwG",
        "outputId": "fee116e1-dc24-4413-8e00-8178ad6831e2",
        "colab": {
          "base_uri": "https://localhost:8080/"
        }
      },
      "source": [
        "stats.shapiro(juntaTD.loc[juntaTD.type=='Movie']['averageRating_NORM'])"
      ],
      "execution_count": 137,
      "outputs": [
        {
          "output_type": "execute_result",
          "data": {
            "text/plain": [
              "(0.9757539629936218, 7.682310692115533e-20)"
            ]
          },
          "metadata": {
            "tags": []
          },
          "execution_count": 137
        }
      ]
    },
    {
      "cell_type": "markdown",
      "metadata": {
        "id": "rj0JGHNdYnLK"
      },
      "source": [
        "### Como podemos ver nenhuma das distribuições seguem uma normal, e os grupos não são pareados, assim utilizaremos o Mann-Whitney test para comparar as duas distribuições."
      ]
    },
    {
      "cell_type": "code",
      "metadata": {
        "id": "Jov6bRhxZC9z",
        "outputId": "14379030-4653-47d7-cf0c-b2713e5b3441",
        "colab": {
          "base_uri": "https://localhost:8080/"
        }
      },
      "source": [
        "ttest,pval = stats.mannwhitneyu(juntaTD.loc[juntaTD.type=='TV Show']['averageRating_NORM'],juntaTD.loc[juntaTD.type=='Movie']['averageRating_NORM'])\n",
        "print(\"p-value\",pval)\n",
        "if pval <0.05:\n",
        "  print(\"Temos que a hipótese nula foi rejeitada\")\n",
        "else:\n",
        "  print(\"A hipótese nula é aceita\")"
      ],
      "execution_count": 141,
      "outputs": [
        {
          "output_type": "stream",
          "text": [
            "p-value 8.30778477439506e-71\n",
            "Temos que a hipótese nula foi rejeitada\n"
          ],
          "name": "stdout"
        }
      ]
    },
    {
      "cell_type": "markdown",
      "metadata": {
        "id": "hI2k2ebPbNKW"
      },
      "source": [
        "* Plotando dois gráficos com as distribuições para facilitar a visualização"
      ]
    },
    {
      "cell_type": "code",
      "metadata": {
        "id": "OKPthR0mbVvJ",
        "outputId": "c19f6338-bfed-4772-ba8a-185b8f93c22d",
        "colab": {
          "base_uri": "https://localhost:8080/",
          "height": 296
        }
      },
      "source": [
        "sns.violinplot(data=juntaTD, x='type', y='averageRating')"
      ],
      "execution_count": 147,
      "outputs": [
        {
          "output_type": "execute_result",
          "data": {
            "text/plain": [
              "<matplotlib.axes._subplots.AxesSubplot at 0x7fa9b88e9590>"
            ]
          },
          "metadata": {
            "tags": []
          },
          "execution_count": 147
        },
        {
          "output_type": "display_data",
          "data": {
            "image/png": "[encoded data removed]",
            "text/plain": [
              "<Figure size 432x288 with 1 Axes>"
            ]
          },
          "metadata": {
            "tags": [],
            "needs_background": "light"
          }
        }
      ]
    },
    {
      "cell_type": "code",
      "metadata": {
        "id": "jEOVSvl4bklG",
        "outputId": "5b892839-6a7a-4e25-8ff3-40259b83fa24",
        "colab": {
          "base_uri": "https://localhost:8080/",
          "height": 282
        }
      },
      "source": [
        "dataA = juntaTD.loc[juntaTD.type == 'TV Show',['averageRating_NORM']]\n",
        "dataM = juntaTD[juntaTD['type'] == 'Movie']['averageRating_NORM']\n",
        "sns.boxplot(data=[dataM, dataA])"
      ],
      "execution_count": 151,
      "outputs": [
        {
          "output_type": "execute_result",
          "data": {
            "text/plain": [
              "<matplotlib.axes._subplots.AxesSubplot at 0x7fa9b885d310>"
            ]
          },
          "metadata": {
            "tags": []
          },
          "execution_count": 151
        },
        {
          "output_type": "display_data",
          "data": {
            "image/png": "[encoded data removed]",
            "text/plain": [
              "<Figure size 432x288 with 1 Axes>"
            ]
          },
          "metadata": {
            "tags": [],
            "needs_background": "light"
          }
        }
      ]
    }
  ]
}