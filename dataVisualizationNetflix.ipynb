{
  "nbformat": 4,
  "nbformat_minor": 0,
  "metadata": {
    "colab": {
      "name": "dataVisualizationNetflix.ipynb",
      "provenance": [],
      "collapsed_sections": [
        "QbKaLmX9GcMk",
        "ar4ABh5cJMOw",
        "Y2ujOQ-_yB-e",
        "gfVhNmUtNl_K",
        "CWiggorJ4ue5",
        "HT9hx5bBZtvn",
        "Z_6fVHu3cAuf",
        "nbmrdTh4edxu"
      ],
      "authorship_tag": "ABX9TyMCdKaSqNukPhZrTvcTvWE7",
      "include_colab_link": true
    },
    "kernelspec": {
      "name": "python3",
      "display_name": "Python 3"
    },
    "language_info": {
      "name": "python"
    }
  },
  "cells": [
    {
      "cell_type": "markdown",
      "metadata": {
        "id": "view-in-github",
        "colab_type": "text"
      },
      "source": [
        "<a href=\"https://colab.research.google.com/github/danielcti/data-science-project/blob/colabIgor/dataVisualizationNetflix.ipynb\" target=\"_parent\"><img src=\"https://colab.research.google.com/assets/colab-badge.svg\" alt=\"Open In Colab\"/></a>"
      ]
    },
    {
      "cell_type": "markdown",
      "metadata": {
        "id": "Ig3dSbqq1_gi"
      },
      "source": [
        "##Importando bibliotecas que julgamos necessárias"
      ]
    },
    {
      "cell_type": "code",
      "metadata": {
        "id": "mO-ve-kl0znF"
      },
      "source": [
        "import numpy as np\n",
        "import pandas as pd\n",
        "import matplotlib.pyplot as plt\n",
        "import matplotlib.cm as cm\n",
        "import seaborn as sns\n",
        "import datetime as dt\n",
        "from sklearn.metrics import confusion_matrix,classification_report\n",
        "from sklearn.metrics import silhouette_samples, silhouette_score\n",
        "from sklearn import preprocessing\n",
        "from sklearn.preprocessing import StandardScaler, MinMaxScaler\n",
        "from warnings import filterwarnings\n",
        "filterwarnings('ignore')\n"
      ],
      "execution_count": 1,
      "outputs": []
    },
    {
      "cell_type": "code",
      "metadata": {
        "id": "k_XEq2HV2H5D",
        "colab": {
          "base_uri": "https://localhost:8080/"
        },
        "outputId": "a2da420a-14bc-43a0-b783-114fe1a9bed4"
      },
      "source": [
        "df = pd.read_csv(\"netflix_titles.csv\")\n",
        "print('Setup Complete')"
      ],
      "execution_count": 2,
      "outputs": [
        {
          "output_type": "stream",
          "text": [
            "Setup Complete\n"
          ],
          "name": "stdout"
        }
      ]
    },
    {
      "cell_type": "markdown",
      "metadata": {
        "id": "G1Xs4VTXu64l"
      },
      "source": [
        "##Primeiramente vamos ver o que temos nos nossos dados carregados, para assim possibilitar nossa análise descritiva"
      ]
    },
    {
      "cell_type": "code",
      "metadata": {
        "colab": {
          "base_uri": "https://localhost:8080/",
          "height": 438
        },
        "id": "hTayh3jx2djA",
        "outputId": "0d637a42-a8ae-4b9d-e74a-70cbbe90ecf7"
      },
      "source": [
        "df.head()"
      ],
      "execution_count": 3,
      "outputs": [
        {
          "output_type": "execute_result",
          "data": {
            "text/html": [
              "<div>\n",
              "<style scoped>\n",
              "    .dataframe tbody tr th:only-of-type {\n",
              "        vertical-align: middle;\n",
              "    }\n",
              "\n",
              "    .dataframe tbody tr th {\n",
              "        vertical-align: top;\n",
              "    }\n",
              "\n",
              "    .dataframe thead th {\n",
              "        text-align: right;\n",
              "    }\n",
              "</style>\n",
              "<table border=\"1\" class=\"dataframe\">\n",
              "  <thead>\n",
              "    <tr style=\"text-align: right;\">\n",
              "      <th></th>\n",
              "      <th>show_id</th>\n",
              "      <th>type</th>\n",
              "      <th>title</th>\n",
              "      <th>director</th>\n",
              "      <th>cast</th>\n",
              "      <th>country</th>\n",
              "      <th>date_added</th>\n",
              "      <th>release_year</th>\n",
              "      <th>rating</th>\n",
              "      <th>duration</th>\n",
              "      <th>listed_in</th>\n",
              "      <th>description</th>\n",
              "    </tr>\n",
              "  </thead>\n",
              "  <tbody>\n",
              "    <tr>\n",
              "      <th>0</th>\n",
              "      <td>s1</td>\n",
              "      <td>TV Show</td>\n",
              "      <td>3%</td>\n",
              "      <td>NaN</td>\n",
              "      <td>João Miguel, Bianca Comparato, Michel Gomes, R...</td>\n",
              "      <td>Brazil</td>\n",
              "      <td>August 14, 2020</td>\n",
              "      <td>2020</td>\n",
              "      <td>TV-MA</td>\n",
              "      <td>4 Seasons</td>\n",
              "      <td>International TV Shows, TV Dramas, TV Sci-Fi &amp;...</td>\n",
              "      <td>In a future where the elite inhabit an island ...</td>\n",
              "    </tr>\n",
              "    <tr>\n",
              "      <th>1</th>\n",
              "      <td>s2</td>\n",
              "      <td>Movie</td>\n",
              "      <td>7:19</td>\n",
              "      <td>Jorge Michel Grau</td>\n",
              "      <td>Demián Bichir, Héctor Bonilla, Oscar Serrano, ...</td>\n",
              "      <td>Mexico</td>\n",
              "      <td>December 23, 2016</td>\n",
              "      <td>2016</td>\n",
              "      <td>TV-MA</td>\n",
              "      <td>93 min</td>\n",
              "      <td>Dramas, International Movies</td>\n",
              "      <td>After a devastating earthquake hits Mexico Cit...</td>\n",
              "    </tr>\n",
              "    <tr>\n",
              "      <th>2</th>\n",
              "      <td>s3</td>\n",
              "      <td>Movie</td>\n",
              "      <td>23:59</td>\n",
              "      <td>Gilbert Chan</td>\n",
              "      <td>Tedd Chan, Stella Chung, Henley Hii, Lawrence ...</td>\n",
              "      <td>Singapore</td>\n",
              "      <td>December 20, 2018</td>\n",
              "      <td>2011</td>\n",
              "      <td>R</td>\n",
              "      <td>78 min</td>\n",
              "      <td>Horror Movies, International Movies</td>\n",
              "      <td>When an army recruit is found dead, his fellow...</td>\n",
              "    </tr>\n",
              "    <tr>\n",
              "      <th>3</th>\n",
              "      <td>s4</td>\n",
              "      <td>Movie</td>\n",
              "      <td>9</td>\n",
              "      <td>Shane Acker</td>\n",
              "      <td>Elijah Wood, John C. Reilly, Jennifer Connelly...</td>\n",
              "      <td>United States</td>\n",
              "      <td>November 16, 2017</td>\n",
              "      <td>2009</td>\n",
              "      <td>PG-13</td>\n",
              "      <td>80 min</td>\n",
              "      <td>Action &amp; Adventure, Independent Movies, Sci-Fi...</td>\n",
              "      <td>In a postapocalyptic world, rag-doll robots hi...</td>\n",
              "    </tr>\n",
              "    <tr>\n",
              "      <th>4</th>\n",
              "      <td>s5</td>\n",
              "      <td>Movie</td>\n",
              "      <td>21</td>\n",
              "      <td>Robert Luketic</td>\n",
              "      <td>Jim Sturgess, Kevin Spacey, Kate Bosworth, Aar...</td>\n",
              "      <td>United States</td>\n",
              "      <td>January 1, 2020</td>\n",
              "      <td>2008</td>\n",
              "      <td>PG-13</td>\n",
              "      <td>123 min</td>\n",
              "      <td>Dramas</td>\n",
              "      <td>A brilliant group of students become card-coun...</td>\n",
              "    </tr>\n",
              "  </tbody>\n",
              "</table>\n",
              "</div>"
            ],
            "text/plain": [
              "  show_id  ...                                        description\n",
              "0      s1  ...  In a future where the elite inhabit an island ...\n",
              "1      s2  ...  After a devastating earthquake hits Mexico Cit...\n",
              "2      s3  ...  When an army recruit is found dead, his fellow...\n",
              "3      s4  ...  In a postapocalyptic world, rag-doll robots hi...\n",
              "4      s5  ...  A brilliant group of students become card-coun...\n",
              "\n",
              "[5 rows x 12 columns]"
            ]
          },
          "metadata": {
            "tags": []
          },
          "execution_count": 3
        }
      ]
    },
    {
      "cell_type": "code",
      "metadata": {
        "colab": {
          "base_uri": "https://localhost:8080/",
          "height": 556
        },
        "id": "vTuCKlkj2rdM",
        "outputId": "5b87e6d7-ae53-46c4-8840-79f0c1bafb0a"
      },
      "source": [
        "df.tail()"
      ],
      "execution_count": 4,
      "outputs": [
        {
          "output_type": "execute_result",
          "data": {
            "text/html": [
              "<div>\n",
              "<style scoped>\n",
              "    .dataframe tbody tr th:only-of-type {\n",
              "        vertical-align: middle;\n",
              "    }\n",
              "\n",
              "    .dataframe tbody tr th {\n",
              "        vertical-align: top;\n",
              "    }\n",
              "\n",
              "    .dataframe thead th {\n",
              "        text-align: right;\n",
              "    }\n",
              "</style>\n",
              "<table border=\"1\" class=\"dataframe\">\n",
              "  <thead>\n",
              "    <tr style=\"text-align: right;\">\n",
              "      <th></th>\n",
              "      <th>show_id</th>\n",
              "      <th>type</th>\n",
              "      <th>title</th>\n",
              "      <th>director</th>\n",
              "      <th>cast</th>\n",
              "      <th>country</th>\n",
              "      <th>date_added</th>\n",
              "      <th>release_year</th>\n",
              "      <th>rating</th>\n",
              "      <th>duration</th>\n",
              "      <th>listed_in</th>\n",
              "      <th>description</th>\n",
              "    </tr>\n",
              "  </thead>\n",
              "  <tbody>\n",
              "    <tr>\n",
              "      <th>7782</th>\n",
              "      <td>s7783</td>\n",
              "      <td>Movie</td>\n",
              "      <td>Zozo</td>\n",
              "      <td>Josef Fares</td>\n",
              "      <td>Imad Creidi, Antoinette Turk, Elias Gergi, Car...</td>\n",
              "      <td>Sweden, Czech Republic, United Kingdom, Denmar...</td>\n",
              "      <td>October 19, 2020</td>\n",
              "      <td>2005</td>\n",
              "      <td>TV-MA</td>\n",
              "      <td>99 min</td>\n",
              "      <td>Dramas, International Movies</td>\n",
              "      <td>When Lebanon's Civil War deprives Zozo of his ...</td>\n",
              "    </tr>\n",
              "    <tr>\n",
              "      <th>7783</th>\n",
              "      <td>s7784</td>\n",
              "      <td>Movie</td>\n",
              "      <td>Zubaan</td>\n",
              "      <td>Mozez Singh</td>\n",
              "      <td>Vicky Kaushal, Sarah-Jane Dias, Raaghav Chanan...</td>\n",
              "      <td>India</td>\n",
              "      <td>March 2, 2019</td>\n",
              "      <td>2015</td>\n",
              "      <td>TV-14</td>\n",
              "      <td>111 min</td>\n",
              "      <td>Dramas, International Movies, Music &amp; Musicals</td>\n",
              "      <td>A scrappy but poor boy worms his way into a ty...</td>\n",
              "    </tr>\n",
              "    <tr>\n",
              "      <th>7784</th>\n",
              "      <td>s7785</td>\n",
              "      <td>Movie</td>\n",
              "      <td>Zulu Man in Japan</td>\n",
              "      <td>NaN</td>\n",
              "      <td>Nasty C</td>\n",
              "      <td>NaN</td>\n",
              "      <td>September 25, 2020</td>\n",
              "      <td>2019</td>\n",
              "      <td>TV-MA</td>\n",
              "      <td>44 min</td>\n",
              "      <td>Documentaries, International Movies, Music &amp; M...</td>\n",
              "      <td>In this documentary, South African rapper Nast...</td>\n",
              "    </tr>\n",
              "    <tr>\n",
              "      <th>7785</th>\n",
              "      <td>s7786</td>\n",
              "      <td>TV Show</td>\n",
              "      <td>Zumbo's Just Desserts</td>\n",
              "      <td>NaN</td>\n",
              "      <td>Adriano Zumbo, Rachel Khoo</td>\n",
              "      <td>Australia</td>\n",
              "      <td>October 31, 2020</td>\n",
              "      <td>2019</td>\n",
              "      <td>TV-PG</td>\n",
              "      <td>1 Season</td>\n",
              "      <td>International TV Shows, Reality TV</td>\n",
              "      <td>Dessert wizard Adriano Zumbo looks for the nex...</td>\n",
              "    </tr>\n",
              "    <tr>\n",
              "      <th>7786</th>\n",
              "      <td>s7787</td>\n",
              "      <td>Movie</td>\n",
              "      <td>ZZ TOP: THAT LITTLE OL' BAND FROM TEXAS</td>\n",
              "      <td>Sam Dunn</td>\n",
              "      <td>NaN</td>\n",
              "      <td>United Kingdom, Canada, United States</td>\n",
              "      <td>March 1, 2020</td>\n",
              "      <td>2019</td>\n",
              "      <td>TV-MA</td>\n",
              "      <td>90 min</td>\n",
              "      <td>Documentaries, Music &amp; Musicals</td>\n",
              "      <td>This documentary delves into the mystique behi...</td>\n",
              "    </tr>\n",
              "  </tbody>\n",
              "</table>\n",
              "</div>"
            ],
            "text/plain": [
              "     show_id  ...                                        description\n",
              "7782   s7783  ...  When Lebanon's Civil War deprives Zozo of his ...\n",
              "7783   s7784  ...  A scrappy but poor boy worms his way into a ty...\n",
              "7784   s7785  ...  In this documentary, South African rapper Nast...\n",
              "7785   s7786  ...  Dessert wizard Adriano Zumbo looks for the nex...\n",
              "7786   s7787  ...  This documentary delves into the mystique behi...\n",
              "\n",
              "[5 rows x 12 columns]"
            ]
          },
          "metadata": {
            "tags": []
          },
          "execution_count": 4
        }
      ]
    },
    {
      "cell_type": "markdown",
      "metadata": {
        "id": "MhD7FZNxwAFZ"
      },
      "source": [
        "Agora iremos ver o tamanho dos nossos dados:"
      ]
    },
    {
      "cell_type": "code",
      "metadata": {
        "colab": {
          "base_uri": "https://localhost:8080/"
        },
        "id": "uMVYA_TiwYuH",
        "outputId": "f2d5eaa5-cd9c-4a80-98cb-1ae8bba691b8"
      },
      "source": [
        "df.shape"
      ],
      "execution_count": 5,
      "outputs": [
        {
          "output_type": "execute_result",
          "data": {
            "text/plain": [
              "(7787, 12)"
            ]
          },
          "metadata": {
            "tags": []
          },
          "execution_count": 5
        }
      ]
    },
    {
      "cell_type": "markdown",
      "metadata": {
        "id": "N25tM5ZswgX0"
      },
      "source": [
        "Podemos ver que temos 12 atributos com 7787 instâncias "
      ]
    },
    {
      "cell_type": "markdown",
      "metadata": {
        "id": "0t6Kt_EexgdO"
      },
      "source": [
        "### Podemos ver que nossos dados já estão separados entre séries(*TV Show*) e filmes (*Movie*). Então, até o momento, não precisamos aplicar nenhuma função para definir entre séries e filmes."
      ]
    },
    {
      "cell_type": "markdown",
      "metadata": {
        "id": "LJZvaZSrUFCU"
      },
      "source": [
        "##Agora, dando início ao nosso pré-processamento dos dados\n",
        "\n",
        "\n",
        "\n",
        "\n"
      ]
    },
    {
      "cell_type": "markdown",
      "metadata": {
        "id": "QbKaLmX9GcMk"
      },
      "source": [
        "### Vamos agora tratar nossas instâncias, primeiramente verificando caso tenhamos dados ausentes. Caso positivo iremos tratá-los da maneira cabível, seja excluindo, substituindo, ou alterando da melhor maneira possível."
      ]
    },
    {
      "cell_type": "code",
      "metadata": {
        "colab": {
          "base_uri": "https://localhost:8080/"
        },
        "id": "iWGh_nxz5ToT",
        "outputId": "56b6b37d-6bec-4252-a0a1-fb7c57efea33"
      },
      "source": [
        "df.isnull().sum()/(len(df))*100"
      ],
      "execution_count": 6,
      "outputs": [
        {
          "output_type": "execute_result",
          "data": {
            "text/plain": [
              "show_id          0.000000\n",
              "type             0.000000\n",
              "title            0.000000\n",
              "director        30.679337\n",
              "cast             9.220496\n",
              "country          6.510851\n",
              "date_added       0.128419\n",
              "release_year     0.000000\n",
              "rating           0.089893\n",
              "duration         0.000000\n",
              "listed_in        0.000000\n",
              "description      0.000000\n",
              "dtype: float64"
            ]
          },
          "metadata": {
            "tags": []
          },
          "execution_count": 6
        }
      ]
    },
    {
      "cell_type": "markdown",
      "metadata": {
        "id": "6vaMN1Po6D-s"
      },
      "source": [
        "Primeiramente veremos quais as instâncias de *types* para que possamos facilitar nosso tratamento para *director* que possuem 30% de dados ausentes."
      ]
    },
    {
      "cell_type": "code",
      "metadata": {
        "colab": {
          "base_uri": "https://localhost:8080/"
        },
        "id": "WHQngGVfG5ce",
        "outputId": "b4251886-abec-4870-c26e-f09be8bf2dd3"
      },
      "source": [
        "df.type.unique()"
      ],
      "execution_count": 7,
      "outputs": [
        {
          "output_type": "execute_result",
          "data": {
            "text/plain": [
              "array(['TV Show', 'Movie'], dtype=object)"
            ]
          },
          "metadata": {
            "tags": []
          },
          "execution_count": 7
        }
      ]
    },
    {
      "cell_type": "markdown",
      "metadata": {
        "id": "xmD2dTml7YWb"
      },
      "source": [
        "Como só temos duas instâncias de *type*, obsevadas logo acima e que, além disso, sabemos que em 'TV Show' os diretores variam por episódio fazendo sentido não serem guardados tais dados. Dessa forma, iremos dividir em dois datasets, dfMovie e dfShow, para checar se essa suposição de fato se prova verdadeira."
      ]
    },
    {
      "cell_type": "code",
      "metadata": {
        "id": "D8W4rFTp51Fg"
      },
      "source": [
        "dfMovie = df[(df.type == 'Movie')]\n",
        "dfShow = df[(df.type == 'TV Show')]"
      ],
      "execution_count": 8,
      "outputs": []
    },
    {
      "cell_type": "code",
      "metadata": {
        "colab": {
          "base_uri": "https://localhost:8080/"
        },
        "id": "a7syXxLR78-v",
        "outputId": "d114fedf-5c01-421d-8a46-9d51269361bb"
      },
      "source": [
        "dfShow.isnull().sum()/(len(dfShow))*100"
      ],
      "execution_count": 9,
      "outputs": [
        {
          "output_type": "execute_result",
          "data": {
            "text/plain": [
              "show_id          0.000000\n",
              "type             0.000000\n",
              "title            0.000000\n",
              "director        92.365145\n",
              "cast            12.116183\n",
              "country         11.493776\n",
              "date_added       0.414938\n",
              "release_year     0.000000\n",
              "rating           0.082988\n",
              "duration         0.000000\n",
              "listed_in        0.000000\n",
              "description      0.000000\n",
              "dtype: float64"
            ]
          },
          "metadata": {
            "tags": []
          },
          "execution_count": 9
        }
      ]
    },
    {
      "cell_type": "code",
      "metadata": {
        "colab": {
          "base_uri": "https://localhost:8080/"
        },
        "id": "IDH6Uzi_8G1H",
        "outputId": "8442cf3b-8a22-4ddf-8f8f-2e47d047c7d6"
      },
      "source": [
        "dfMovie.isnull().sum()/(len(dfMovie))*100"
      ],
      "execution_count": 10,
      "outputs": [
        {
          "output_type": "execute_result",
          "data": {
            "text/plain": [
              "show_id         0.000000\n",
              "type            0.000000\n",
              "title           0.000000\n",
              "director        3.031430\n",
              "cast            7.922633\n",
              "country         4.277478\n",
              "date_added      0.000000\n",
              "release_year    0.000000\n",
              "rating          0.092989\n",
              "duration        0.000000\n",
              "listed_in       0.000000\n",
              "description     0.000000\n",
              "dtype: float64"
            ]
          },
          "metadata": {
            "tags": []
          },
          "execution_count": 10
        }
      ]
    },
    {
      "cell_type": "markdown",
      "metadata": {
        "id": "fxf0XIbQ80zL"
      },
      "source": [
        "De fato, nossa suposição se tornou em partes verdadeira, visto que a feature *director* apresentou 92% de dados ausentes para dfShow e apenas 3% para dfMovie.\n",
        "> Tendo isso em vista, poderíamos trabalhar com dois datasets onde vamos excluir o atributo em dfShows e apenas substituí-los em dfMovies ou substituir todos os valores ausentes por 'desconhecido'.\n"
      ]
    },
    {
      "cell_type": "markdown",
      "metadata": {
        "id": "a0PMYiAsCwwV"
      },
      "source": [
        "vamos seguir com a segunda opção por enquanto"
      ]
    },
    {
      "cell_type": "code",
      "metadata": {
        "id": "irPcZq6kCujY"
      },
      "source": [
        "df['director']=df['director'].fillna('desconhecido')"
      ],
      "execution_count": 11,
      "outputs": []
    },
    {
      "cell_type": "markdown",
      "metadata": {
        "id": "-E94MGIbJdsu"
      },
      "source": [
        "Agora com relação ao atributo cast, iremos tratar da mesma forma que *director*"
      ]
    },
    {
      "cell_type": "code",
      "metadata": {
        "id": "cwAiydYyKQUq"
      },
      "source": [
        "df['cast']=df['cast'].fillna('desconhecido')"
      ],
      "execution_count": 12,
      "outputs": []
    },
    {
      "cell_type": "markdown",
      "metadata": {
        "id": "oxJveKqfKU40"
      },
      "source": [
        "Com relação a *country* vamos substituir pela moda, assim como em *date_added*"
      ]
    },
    {
      "cell_type": "code",
      "metadata": {
        "id": "fLwtF33EwccG"
      },
      "source": [
        "df['country']=df['country'].fillna(df['country'].mode()[0])\n",
        "df['rating']=df['rating'].fillna(df['rating'].mode()[0])\n",
        "df['date_added']=df['date_added'].fillna(df['date_added'].mode()[0])"
      ],
      "execution_count": 13,
      "outputs": []
    },
    {
      "cell_type": "markdown",
      "metadata": {
        "id": "Xs2CC2HdP73B"
      },
      "source": [
        "Com relação a *rating* iremos alterar inserir novos atributos utilizando o fancyimput do KNN quanto tratarmos os tipos dos nossos dados."
      ]
    },
    {
      "cell_type": "code",
      "metadata": {
        "colab": {
          "base_uri": "https://localhost:8080/"
        },
        "id": "-cCQpvtBL6ec",
        "outputId": "06c6e9e1-4d26-4c7f-8530-e28c114bf1b0"
      },
      "source": [
        "df.isnull().sum()/(len(df))*100"
      ],
      "execution_count": 14,
      "outputs": [
        {
          "output_type": "execute_result",
          "data": {
            "text/plain": [
              "show_id         0.0\n",
              "type            0.0\n",
              "title           0.0\n",
              "director        0.0\n",
              "cast            0.0\n",
              "country         0.0\n",
              "date_added      0.0\n",
              "release_year    0.0\n",
              "rating          0.0\n",
              "duration        0.0\n",
              "listed_in       0.0\n",
              "description     0.0\n",
              "dtype: float64"
            ]
          },
          "metadata": {
            "tags": []
          },
          "execution_count": 14
        }
      ]
    },
    {
      "cell_type": "markdown",
      "metadata": {
        "id": "vYaLBf6wML5c"
      },
      "source": [
        "Como podemos ver, todos os dados ausentes foram tratados. Lembrando que poderíamos tê-los tratados com algoritmos como KNN ou Árvore de decisão."
      ]
    },
    {
      "cell_type": "markdown",
      "metadata": {
        "id": "ar4ABh5cJMOw"
      },
      "source": [
        "## Realizando agora a definição de tipos, vamos primeiro analisá-los para podermos decidir quais ações tomar"
      ]
    },
    {
      "cell_type": "code",
      "metadata": {
        "colab": {
          "base_uri": "https://localhost:8080/"
        },
        "id": "wwP9UZ922Tab",
        "outputId": "dadbc9dc-da17-4450-db59-7a44d0d1504f"
      },
      "source": [
        "df.dtypes"
      ],
      "execution_count": 15,
      "outputs": [
        {
          "output_type": "execute_result",
          "data": {
            "text/plain": [
              "show_id         object\n",
              "type            object\n",
              "title           object\n",
              "director        object\n",
              "cast            object\n",
              "country         object\n",
              "date_added      object\n",
              "release_year     int64\n",
              "rating          object\n",
              "duration        object\n",
              "listed_in       object\n",
              "description     object\n",
              "dtype: object"
            ]
          },
          "metadata": {
            "tags": []
          },
          "execution_count": 15
        }
      ]
    },
    {
      "cell_type": "markdown",
      "metadata": {
        "id": "Y2ujOQ-_yB-e"
      },
      "source": [
        "###Como pudemos notar ao mostrar o nosso dataset inicialmente o campo *country* é composto de uma lista de países, porém será mais prático trabalhar apenas com o país principal, que neste caso consideramos o primeiro da lista. Então iremos adicionar a coluna *main_country* ao data frame."
      ]
    },
    {
      "cell_type": "code",
      "metadata": {
        "colab": {
          "base_uri": "https://localhost:8080/"
        },
        "id": "oe5iFRj_wjqA",
        "outputId": "2af3ff81-49bb-40b3-863a-838352dd0969"
      },
      "source": [
        "df['main_country']=df['country'].apply(lambda x: x.split(\",\")[0])\n",
        "df['main_country']"
      ],
      "execution_count": 16,
      "outputs": [
        {
          "output_type": "execute_result",
          "data": {
            "text/plain": [
              "0               Brazil\n",
              "1               Mexico\n",
              "2            Singapore\n",
              "3        United States\n",
              "4        United States\n",
              "             ...      \n",
              "7782            Sweden\n",
              "7783             India\n",
              "7784     United States\n",
              "7785         Australia\n",
              "7786    United Kingdom\n",
              "Name: main_country, Length: 7787, dtype: object"
            ]
          },
          "metadata": {
            "tags": []
          },
          "execution_count": 16
        }
      ]
    },
    {
      "cell_type": "markdown",
      "metadata": {
        "id": "gfVhNmUtNl_K"
      },
      "source": [
        "### Com relação a *duration*, teremos que tratar o nosso dataset para tirar 'min' de *type*=='Movie' e 'Season' de *type*=='TV Show'. Além disso teremos que alterar o tipo dos nossos atributos para int64."
      ]
    },
    {
      "cell_type": "code",
      "metadata": {
        "id": "EcYcgWYfkkl0"
      },
      "source": [
        "df['duration'] = df.duration.apply(lambda x: x.split()[0])\n",
        "dfMovie['duration'] = dfMovie.duration.apply(lambda x: x.split()[0])\n",
        "dfShow['duration'] = dfShow.duration.apply(lambda x: x.split()[0])"
      ],
      "execution_count": 17,
      "outputs": []
    },
    {
      "cell_type": "code",
      "metadata": {
        "id": "-99Tmf32rNge"
      },
      "source": [
        "df['duration'] = df.duration.astype('int')\n",
        "dfMovie['duration'] = dfMovie.duration.astype('int')\n",
        "dfShow['duration'] = dfShow.duration.astype('int')"
      ],
      "execution_count": 18,
      "outputs": []
    },
    {
      "cell_type": "markdown",
      "metadata": {
        "id": "CWiggorJ4ue5"
      },
      "source": [
        "\n",
        "\n",
        "### Vamos tratar como variáveis categóricas todas as features com exceção de *date_added*, *release_year*, *duration* e *show_id* e as que temos listas como valores."
      ]
    },
    {
      "cell_type": "code",
      "metadata": {
        "id": "mHnqJjoYd8h2"
      },
      "source": [
        "df['main_country']=df['main_country'].astype('category')\n",
        "df['director']=df['director'].astype('category')\n",
        "df['listed_in']=df['listed_in'].astype('category')\n",
        "df['type']=df['type'].astype('category')\n",
        "df['title']=df['title'].astype('category')\n",
        "df['rating']=df['rating'].astype('category')"
      ],
      "execution_count": 19,
      "outputs": []
    },
    {
      "cell_type": "markdown",
      "metadata": {
        "id": "HT9hx5bBZtvn"
      },
      "source": [
        "### Agora iremos tratar do nosso atributo *date_added*"
      ]
    },
    {
      "cell_type": "code",
      "metadata": {
        "id": "q5YZBpHTaOjD"
      },
      "source": [
        ""
      ],
      "execution_count": 19,
      "outputs": []
    },
    {
      "cell_type": "code",
      "metadata": {
        "colab": {
          "base_uri": "https://localhost:8080/"
        },
        "id": "vlnJGyuA1DyG",
        "outputId": "8ae6ffe2-df4c-4d77-8f20-78facc09cada"
      },
      "source": [
        "df.dtypes"
      ],
      "execution_count": 20,
      "outputs": [
        {
          "output_type": "execute_result",
          "data": {
            "text/plain": [
              "show_id           object\n",
              "type            category\n",
              "title           category\n",
              "director        category\n",
              "cast              object\n",
              "country           object\n",
              "date_added        object\n",
              "release_year       int64\n",
              "rating          category\n",
              "duration           int64\n",
              "listed_in       category\n",
              "description       object\n",
              "main_country    category\n",
              "dtype: object"
            ]
          },
          "metadata": {
            "tags": []
          },
          "execution_count": 20
        }
      ]
    },
    {
      "cell_type": "markdown",
      "metadata": {
        "id": "Z_6fVHu3cAuf"
      },
      "source": [
        "## Normalizando utilzando o z-score para o ano que foi liberada na netflix e durações de filmes e utilizando o minmax para séries \n",
        "> Isso será útil para treinar o nosso modelo posteriormente.(lembrando que estaremos serparando as temporadas e os minutos com os datasets dfShow e dfMovie)"
      ]
    },
    {
      "cell_type": "code",
      "metadata": {
        "colab": {
          "base_uri": "https://localhost:8080/"
        },
        "id": "HCLslloicPsL",
        "outputId": "70699e95-cd58-4bb4-8e3f-40397159cec5"
      },
      "source": [
        "scaler = StandardScaler()\n",
        "dfMovie['release_year_norm'] = scaler.fit_transform(dfMovie[['release_year']])\n",
        "dfMovie['release_year_norm'].describe()"
      ],
      "execution_count": 32,
      "outputs": [
        {
          "output_type": "execute_result",
          "data": {
            "text/plain": [
              "count    5.377000e+03\n",
              "mean    -6.347577e-15\n",
              "std      1.000093e+00\n",
              "min     -7.339807e+00\n",
              "25%     -9.521768e-02\n",
              "50%      3.187589e-01\n",
              "75%      5.257471e-01\n",
              "max      8.362295e-01\n",
              "Name: release_year_norm, dtype: float64"
            ]
          },
          "metadata": {
            "tags": []
          },
          "execution_count": 32
        }
      ]
    },
    {
      "cell_type": "code",
      "metadata": {
        "colab": {
          "base_uri": "https://localhost:8080/"
        },
        "id": "-hyFqXm3dR_3",
        "outputId": "576e3d79-b9a1-4a86-82a7-b89f76eb18d1"
      },
      "source": [
        "dfMovie['duration_norm'] = scaler.fit_transform(dfMovie[['release_year']])\n",
        "dfMovie['duration_norm'].describe()"
      ],
      "execution_count": 33,
      "outputs": [
        {
          "output_type": "execute_result",
          "data": {
            "text/plain": [
              "count    5.377000e+03\n",
              "mean    -6.347577e-15\n",
              "std      1.000093e+00\n",
              "min     -7.339807e+00\n",
              "25%     -9.521768e-02\n",
              "50%      3.187589e-01\n",
              "75%      5.257471e-01\n",
              "max      8.362295e-01\n",
              "Name: duration_norm, dtype: float64"
            ]
          },
          "metadata": {
            "tags": []
          },
          "execution_count": 33
        }
      ]
    },
    {
      "cell_type": "code",
      "metadata": {
        "colab": {
          "base_uri": "https://localhost:8080/"
        },
        "id": "fDVrKxavdZM4",
        "outputId": "eae7846f-4c41-4950-c13d-cc160b173a74"
      },
      "source": [
        "minmax_scaler = MinMaxScaler()\n",
        "dfShow['release_year_norm'] = minmax_scaler.fit_transform(dfShow[['release_year']])\n",
        "dfShow['release_year_norm'].describe()"
      ],
      "execution_count": 37,
      "outputs": [
        {
          "output_type": "execute_result",
          "data": {
            "text/plain": [
              "count    2410.000000\n",
              "mean        0.949914\n",
              "std         0.059009\n",
              "min         0.000000\n",
              "25%         0.937500\n",
              "50%         0.968750\n",
              "75%         0.979167\n",
              "max         1.000000\n",
              "Name: release_year_norm, dtype: float64"
            ]
          },
          "metadata": {
            "tags": []
          },
          "execution_count": 37
        }
      ]
    },
    {
      "cell_type": "code",
      "metadata": {
        "colab": {
          "base_uri": "https://localhost:8080/"
        },
        "id": "EfsIvSJwlFHr",
        "outputId": "f5b720dd-80a9-4454-de0f-53642e10a21c"
      },
      "source": [
        "dfShow['duration_norm'] = minmax_scaler.fit_transform(dfShow[['duration']])\n",
        "dfShow['duration_norm'].describe()"
      ],
      "execution_count": 36,
      "outputs": [
        {
          "output_type": "execute_result",
          "data": {
            "text/plain": [
              "count    2410.000000\n",
              "mean        0.051729\n",
              "std         0.106424\n",
              "min         0.000000\n",
              "25%         0.000000\n",
              "50%         0.000000\n",
              "75%         0.066667\n",
              "max         1.000000\n",
              "Name: duration_norm, dtype: float64"
            ]
          },
          "metadata": {
            "tags": []
          },
          "execution_count": 36
        }
      ]
    },
    {
      "cell_type": "markdown",
      "metadata": {
        "id": "nbmrdTh4edxu"
      },
      "source": [
        "### Discretizando em intervalos iguais as features *duration* e *release_year* do dataset de filme temos:"
      ]
    },
    {
      "cell_type": "code",
      "metadata": {
        "colab": {
          "base_uri": "https://localhost:8080/"
        },
        "id": "CNKb-dWliAnJ",
        "outputId": "24e32754-24c2-42a7-c944-0831045b8eda"
      },
      "source": [
        "dfMovie['duration_dist'] = pd.qcut(dfMovie['duration'],4)\n",
        "dfMovie['duration_dist'].describe()"
      ],
      "execution_count": 39,
      "outputs": [
        {
          "output_type": "execute_result",
          "data": {
            "text/plain": [
              "count              5377\n",
              "unique                4\n",
              "top       (2.999, 86.0]\n",
              "freq               1377\n",
              "Name: duration_dist, dtype: object"
            ]
          },
          "metadata": {
            "tags": []
          },
          "execution_count": 39
        }
      ]
    },
    {
      "cell_type": "code",
      "metadata": {
        "colab": {
          "base_uri": "https://localhost:8080/"
        },
        "id": "-nQwZbTXi1hK",
        "outputId": "b8d353e7-3f31-4bb4-9fea-8c57220dbf84"
      },
      "source": [
        "dfMovie['release_year_dist'] = pd.qcut(dfMovie['release_year'],4)\n",
        "dfMovie['release_year_dist'].describe()"
      ],
      "execution_count": 40,
      "outputs": [
        {
          "output_type": "execute_result",
          "data": {
            "text/plain": [
              "count                 5377\n",
              "unique                   4\n",
              "top       (2016.0, 2018.0]\n",
              "freq                  1478\n",
              "Name: release_year_dist, dtype: object"
            ]
          },
          "metadata": {
            "tags": []
          },
          "execution_count": 40
        }
      ]
    },
    {
      "cell_type": "code",
      "metadata": {
        "colab": {
          "base_uri": "https://localhost:8080/"
        },
        "id": "K540tunJi_FL",
        "outputId": "0c7c663d-f2ef-4252-f838-bdc173f62c0e"
      },
      "source": [
        "df['duration_dist'].value_counts()"
      ],
      "execution_count": 41,
      "outputs": [
        {
          "output_type": "execute_result",
          "data": {
            "text/plain": [
              "(0.999, 2.0]      1990\n",
              "(2.0, 88.0]       1985\n",
              "(88.0, 106.0]     1950\n",
              "(106.0, 312.0]    1862\n",
              "Name: duration_dist, dtype: int64"
            ]
          },
          "metadata": {
            "tags": []
          },
          "execution_count": 41
        }
      ]
    },
    {
      "cell_type": "code",
      "metadata": {
        "colab": {
          "base_uri": "https://localhost:8080/"
        },
        "id": "zNLiO8B3oBCs",
        "outputId": "b634bf0e-f162-479d-cc85-e1a3d4e6be7a"
      },
      "source": [
        "dfMovie['release_year_dist'].value_counts()"
      ],
      "execution_count": 42,
      "outputs": [
        {
          "output_type": "execute_result",
          "data": {
            "text/plain": [
              "(2016.0, 2018.0]      1478\n",
              "(2012.0, 2016.0]      1470\n",
              "(1941.999, 2012.0]    1424\n",
              "(2018.0, 2021.0]      1005\n",
              "Name: release_year_dist, dtype: int64"
            ]
          },
          "metadata": {
            "tags": []
          },
          "execution_count": 42
        }
      ]
    },
    {
      "cell_type": "markdown",
      "metadata": {
        "id": "5TM2nzt9jXz2"
      },
      "source": [
        "## Agora iremos fazer a limpeza dos nossos dados "
      ]
    },
    {
      "cell_type": "markdown",
      "metadata": {
        "id": "5bvbhek0pHPv"
      },
      "source": [
        "> "
      ]
    },
    {
      "cell_type": "markdown",
      "metadata": {
        "id": "nDTnpHDpkT4f"
      },
      "source": [
        "##Analisando nossas estatísticas univariadas a 'TV Show' e a 'Movie'.\n",
        "\n",
        "\n",
        "\n",
        "\n"
      ]
    },
    {
      "cell_type": "code",
      "metadata": {
        "colab": {
          "base_uri": "https://localhost:8080/"
        },
        "id": "s7dx8ZpszIgf",
        "outputId": "c7177d4e-ac26-4ab5-8857-9332e801b675"
      },
      "source": [
        "df[df['type']=='TV Show']['duration'].describe()"
      ],
      "execution_count": 27,
      "outputs": [
        {
          "output_type": "execute_result",
          "data": {
            "text/plain": [
              "count    2410.000000\n",
              "mean        1.775934\n",
              "std         1.596359\n",
              "min         1.000000\n",
              "25%         1.000000\n",
              "50%         1.000000\n",
              "75%         2.000000\n",
              "max        16.000000\n",
              "Name: duration, dtype: float64"
            ]
          },
          "metadata": {
            "tags": []
          },
          "execution_count": 27
        }
      ]
    },
    {
      "cell_type": "code",
      "metadata": {
        "colab": {
          "base_uri": "https://localhost:8080/"
        },
        "id": "CWxopkkQsiOu",
        "outputId": "13cdfc91-e36f-4bf6-d6d0-a902c562348f"
      },
      "source": [
        "df[df['type']=='Movie']['duration'].describe()"
      ],
      "execution_count": 28,
      "outputs": [
        {
          "output_type": "execute_result",
          "data": {
            "text/plain": [
              "count    5377.000000\n",
              "mean       99.307978\n",
              "std        28.530881\n",
              "min         3.000000\n",
              "25%        86.000000\n",
              "50%        98.000000\n",
              "75%       114.000000\n",
              "max       312.000000\n",
              "Name: duration, dtype: float64"
            ]
          },
          "metadata": {
            "tags": []
          },
          "execution_count": 28
        }
      ]
    },
    {
      "cell_type": "markdown",
      "metadata": {
        "id": "RTc-_W-Tzc2O"
      },
      "source": [
        "Podemos ver que temos um filme com duração de 3 minutos, vamos ver melhor que filme é esse."
      ]
    },
    {
      "cell_type": "code",
      "metadata": {
        "colab": {
          "base_uri": "https://localhost:8080/",
          "height": 444
        },
        "id": "3hhwyZuuzodi",
        "outputId": "db18e7cf-f5d6-4c00-beb2-16e8c5d195af"
      },
      "source": [
        "df.loc[(df['duration'] < 10) & (df['type'] == 'Movie')]"
      ],
      "execution_count": 29,
      "outputs": [
        {
          "output_type": "execute_result",
          "data": {
            "text/html": [
              "<div>\n",
              "<style scoped>\n",
              "    .dataframe tbody tr th:only-of-type {\n",
              "        vertical-align: middle;\n",
              "    }\n",
              "\n",
              "    .dataframe tbody tr th {\n",
              "        vertical-align: top;\n",
              "    }\n",
              "\n",
              "    .dataframe thead th {\n",
              "        text-align: right;\n",
              "    }\n",
              "</style>\n",
              "<table border=\"1\" class=\"dataframe\">\n",
              "  <thead>\n",
              "    <tr style=\"text-align: right;\">\n",
              "      <th></th>\n",
              "      <th>show_id</th>\n",
              "      <th>type</th>\n",
              "      <th>title</th>\n",
              "      <th>director</th>\n",
              "      <th>cast</th>\n",
              "      <th>country</th>\n",
              "      <th>date_added</th>\n",
              "      <th>release_year</th>\n",
              "      <th>rating</th>\n",
              "      <th>duration</th>\n",
              "      <th>listed_in</th>\n",
              "      <th>description</th>\n",
              "      <th>main_country</th>\n",
              "      <th>release_year_norm</th>\n",
              "      <th>duration_norm</th>\n",
              "      <th>duration_dist</th>\n",
              "    </tr>\n",
              "  </thead>\n",
              "  <tbody>\n",
              "    <tr>\n",
              "      <th>1203</th>\n",
              "      <td>s1204</td>\n",
              "      <td>Movie</td>\n",
              "      <td>Canvas</td>\n",
              "      <td>Frank E. Abney III</td>\n",
              "      <td>desconhecido</td>\n",
              "      <td>United States</td>\n",
              "      <td>December 11, 2020</td>\n",
              "      <td>2020</td>\n",
              "      <td>G</td>\n",
              "      <td>9</td>\n",
              "      <td>Children &amp; Family Movies, Dramas</td>\n",
              "      <td>After a heartbreaking loss, a grandfather stru...</td>\n",
              "      <td>United States</td>\n",
              "      <td>0.692878</td>\n",
              "      <td>0.025723</td>\n",
              "      <td>(2.0, 88.0]</td>\n",
              "    </tr>\n",
              "    <tr>\n",
              "      <th>1501</th>\n",
              "      <td>s1502</td>\n",
              "      <td>Movie</td>\n",
              "      <td>Cops and Robbers</td>\n",
              "      <td>Arnon Manor, Timothy Ware-Hill</td>\n",
              "      <td>Timothy Ware-Hill</td>\n",
              "      <td>United States</td>\n",
              "      <td>December 28, 2020</td>\n",
              "      <td>2020</td>\n",
              "      <td>PG-13</td>\n",
              "      <td>8</td>\n",
              "      <td>Dramas</td>\n",
              "      <td>Animation and activism unite in this multimedi...</td>\n",
              "      <td>United States</td>\n",
              "      <td>0.692878</td>\n",
              "      <td>0.022508</td>\n",
              "      <td>(2.0, 88.0]</td>\n",
              "    </tr>\n",
              "    <tr>\n",
              "      <th>5605</th>\n",
              "      <td>s5606</td>\n",
              "      <td>Movie</td>\n",
              "      <td>Silent</td>\n",
              "      <td>Limbert Fabian, Brandon Oldenburg</td>\n",
              "      <td>desconhecido</td>\n",
              "      <td>United States</td>\n",
              "      <td>June 4, 2019</td>\n",
              "      <td>2014</td>\n",
              "      <td>TV-Y</td>\n",
              "      <td>3</td>\n",
              "      <td>Children &amp; Family Movies, Sci-Fi &amp; Fantasy</td>\n",
              "      <td>\"Silent\" is an animated short film created by ...</td>\n",
              "      <td>United States</td>\n",
              "      <td>0.007699</td>\n",
              "      <td>0.006431</td>\n",
              "      <td>(2.0, 88.0]</td>\n",
              "    </tr>\n",
              "    <tr>\n",
              "      <th>5694</th>\n",
              "      <td>s5695</td>\n",
              "      <td>Movie</td>\n",
              "      <td>Sol Levante</td>\n",
              "      <td>Akira Saitoh</td>\n",
              "      <td>desconhecido</td>\n",
              "      <td>Japan</td>\n",
              "      <td>April 2, 2020</td>\n",
              "      <td>2020</td>\n",
              "      <td>TV-14</td>\n",
              "      <td>5</td>\n",
              "      <td>Action &amp; Adventure, Anime Features, Internatio...</td>\n",
              "      <td>A young warrior and her familiar search for th...</td>\n",
              "      <td>Japan</td>\n",
              "      <td>0.692878</td>\n",
              "      <td>0.012862</td>\n",
              "      <td>(2.0, 88.0]</td>\n",
              "    </tr>\n",
              "  </tbody>\n",
              "</table>\n",
              "</div>"
            ],
            "text/plain": [
              "     show_id   type  ... duration_norm duration_dist\n",
              "1203   s1204  Movie  ...      0.025723   (2.0, 88.0]\n",
              "1501   s1502  Movie  ...      0.022508   (2.0, 88.0]\n",
              "5605   s5606  Movie  ...      0.006431   (2.0, 88.0]\n",
              "5694   s5695  Movie  ...      0.012862   (2.0, 88.0]\n",
              "\n",
              "[4 rows x 16 columns]"
            ]
          },
          "metadata": {
            "tags": []
          },
          "execution_count": 29
        }
      ]
    },
    {
      "cell_type": "markdown",
      "metadata": {
        "id": "lqES-Llm0pOg"
      },
      "source": [
        "Dessa forma temos a confirmação de que nosso dataset contém curtas, que também seriam considerados filmes."
      ]
    },
    {
      "cell_type": "markdown",
      "metadata": {
        "id": "spUriI4n9NYg"
      },
      "source": [
        "* Veremos também agora as estatísticas univariadas para os anos de lançamento"
      ]
    },
    {
      "cell_type": "code",
      "metadata": {
        "colab": {
          "base_uri": "https://localhost:8080/"
        },
        "id": "0HcZws-BBZrZ",
        "outputId": "e964b853-8b95-47bd-89d5-fd452248786d"
      },
      "source": [
        "df['release_year'].describe()"
      ],
      "execution_count": 30,
      "outputs": [
        {
          "output_type": "execute_result",
          "data": {
            "text/plain": [
              "count    7787.000000\n",
              "mean     2013.932580\n",
              "std         8.757395\n",
              "min      1925.000000\n",
              "25%      2013.000000\n",
              "50%      2017.000000\n",
              "75%      2018.000000\n",
              "max      2021.000000\n",
              "Name: release_year, dtype: float64"
            ]
          },
          "metadata": {
            "tags": []
          },
          "execution_count": 30
        }
      ]
    },
    {
      "cell_type": "markdown",
      "metadata": {
        "id": "0X2l8Cl3CHvl"
      },
      "source": [
        "## Analisando agora estatísticas bivariadas teremos:"
      ]
    },
    {
      "cell_type": "code",
      "metadata": {
        "colab": {
          "base_uri": "https://localhost:8080/",
          "height": 172
        },
        "id": "6gIZ_YQFCNZU",
        "outputId": "d6af77e5-bfb4-43c9-a9b6-cfd7569e5ea4"
      },
      "source": [
        "df[df.type=='Movie'].corr(method='spearman')"
      ],
      "execution_count": 31,
      "outputs": [
        {
          "output_type": "execute_result",
          "data": {
            "text/html": [
              "<div>\n",
              "<style scoped>\n",
              "    .dataframe tbody tr th:only-of-type {\n",
              "        vertical-align: middle;\n",
              "    }\n",
              "\n",
              "    .dataframe tbody tr th {\n",
              "        vertical-align: top;\n",
              "    }\n",
              "\n",
              "    .dataframe thead th {\n",
              "        text-align: right;\n",
              "    }\n",
              "</style>\n",
              "<table border=\"1\" class=\"dataframe\">\n",
              "  <thead>\n",
              "    <tr style=\"text-align: right;\">\n",
              "      <th></th>\n",
              "      <th>release_year</th>\n",
              "      <th>duration</th>\n",
              "      <th>release_year_norm</th>\n",
              "      <th>duration_norm</th>\n",
              "    </tr>\n",
              "  </thead>\n",
              "  <tbody>\n",
              "    <tr>\n",
              "      <th>release_year</th>\n",
              "      <td>1.000000</td>\n",
              "      <td>-0.210483</td>\n",
              "      <td>1.000000</td>\n",
              "      <td>-0.210483</td>\n",
              "    </tr>\n",
              "    <tr>\n",
              "      <th>duration</th>\n",
              "      <td>-0.210483</td>\n",
              "      <td>1.000000</td>\n",
              "      <td>-0.210483</td>\n",
              "      <td>1.000000</td>\n",
              "    </tr>\n",
              "    <tr>\n",
              "      <th>release_year_norm</th>\n",
              "      <td>1.000000</td>\n",
              "      <td>-0.210483</td>\n",
              "      <td>1.000000</td>\n",
              "      <td>-0.210483</td>\n",
              "    </tr>\n",
              "    <tr>\n",
              "      <th>duration_norm</th>\n",
              "      <td>-0.210483</td>\n",
              "      <td>1.000000</td>\n",
              "      <td>-0.210483</td>\n",
              "      <td>1.000000</td>\n",
              "    </tr>\n",
              "  </tbody>\n",
              "</table>\n",
              "</div>"
            ],
            "text/plain": [
              "                   release_year  duration  release_year_norm  duration_norm\n",
              "release_year           1.000000 -0.210483           1.000000      -0.210483\n",
              "duration              -0.210483  1.000000          -0.210483       1.000000\n",
              "release_year_norm      1.000000 -0.210483           1.000000      -0.210483\n",
              "duration_norm         -0.210483  1.000000          -0.210483       1.000000"
            ]
          },
          "metadata": {
            "tags": []
          },
          "execution_count": 31
        }
      ]
    },
    {
      "cell_type": "markdown",
      "metadata": {
        "id": "NFp8Vt00FNh-"
      },
      "source": [
        "dessa forma podemos notar que conforme o tempo foi passando a duração dos filmes foi diminuindo"
      ]
    },
    {
      "cell_type": "markdown",
      "metadata": {
        "id": "0wj5e-TIp9sU"
      },
      "source": [
        "## Realizando agora uma análise descritiva dos nossos dados"
      ]
    },
    {
      "cell_type": "markdown",
      "metadata": {
        "id": "1l98qPevqHuV"
      },
      "source": [
        "### Comparando as quantidades de filmes e de TV Shows"
      ]
    },
    {
      "cell_type": "code",
      "metadata": {
        "colab": {
          "base_uri": "https://localhost:8080/",
          "height": 296
        },
        "id": "5_wyYTs0qbJH",
        "outputId": "c821e2f7-1d56-4dbf-8472-10f7a50619ca"
      },
      "source": [
        "sns.countplot(y=\"type\",data=df)"
      ],
      "execution_count": 43,
      "outputs": [
        {
          "output_type": "execute_result",
          "data": {
            "text/plain": [
              "<matplotlib.axes._subplots.AxesSubplot at 0x7fd9073ca550>"
            ]
          },
          "metadata": {
            "tags": []
          },
          "execution_count": 43
        },
        {
          "output_type": "display_data",
          "data": {
            "image/png": "[encoded data removed]",
            "text/plain": [
              "<Figure size 432x288 with 1 Axes>"
            ]
          },
          "metadata": {
            "tags": [],
            "needs_background": "light"
          }
        }
      ]
    },
    {
      "cell_type": "markdown",
      "metadata": {
        "id": "mKWVpGigqnaX"
      },
      "source": [
        "### Comparando por ano de lançamento de filme"
      ]
    },
    {
      "cell_type": "code",
      "metadata": {
        "colab": {
          "base_uri": "https://localhost:8080/",
          "height": 296
        },
        "id": "6KnLwriiquTe",
        "outputId": "bd264835-7def-4581-d93d-80d252061afc"
      },
      "source": [
        "sns.countplot(y=\"release_year_dist\",data=dfMovie)"
      ],
      "execution_count": 48,
      "outputs": [
        {
          "output_type": "execute_result",
          "data": {
            "text/plain": [
              "<matplotlib.axes._subplots.AxesSubplot at 0x7fd906849050>"
            ]
          },
          "metadata": {
            "tags": []
          },
          "execution_count": 48
        },
        {
          "output_type": "display_data",
          "data": {
            "image/png": "[encoded data removed]",
            "text/plain": [
              "<Figure size 432x288 with 1 Axes>"
            ]
          },
          "metadata": {
            "tags": [],
            "needs_background": "light"
          }
        }
      ]
    },
    {
      "cell_type": "markdown",
      "metadata": {
        "id": "3wXjU1SbsAhq"
      },
      "source": [
        "Podemos ver aqui que temos a maioria dos filmes na netflix foram lançados entre 2016 e 2018"
      ]
    },
    {
      "cell_type": "code",
      "metadata": {
        "colab": {
          "base_uri": "https://localhost:8080/",
          "height": 296
        },
        "id": "KP4D705Tsd4d",
        "outputId": "ff6d1c31-aad1-47a0-bb31-8fde590eef8d"
      },
      "source": [
        "sns.countplot(y=\"rating\",data=dfShow)"
      ],
      "execution_count": 49,
      "outputs": [
        {
          "output_type": "execute_result",
          "data": {
            "text/plain": [
              "<matplotlib.axes._subplots.AxesSubplot at 0x7fd906785fd0>"
            ]
          },
          "metadata": {
            "tags": []
          },
          "execution_count": 49
        },
        {
          "output_type": "display_data",
          "data": {
            "image/png": "[encoded data removed]",
            "text/plain": [
              "<Figure size 432x288 with 1 Axes>"
            ]
          },
          "metadata": {
            "tags": [],
            "needs_background": "light"
          }
        }
      ]
    },
    {
      "cell_type": "markdown",
      "metadata": {
        "id": "c5CfwmVgsxU7"
      },
      "source": [
        "Podemos ver que não temos nenhuma série para maior de idade no nosso conjunto de dados"
      ]
    }
  ]
}