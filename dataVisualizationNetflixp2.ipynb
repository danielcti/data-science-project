{
  "nbformat": 4,
  "nbformat_minor": 0,
  "metadata": {
    "colab": {
      "name": "dataVisualizationNetflix.ipynb",
      "provenance": [],
      "collapsed_sections": [
        "Ig3dSbqq1_gi",
        "G1Xs4VTXu64l",
        "QbKaLmX9GcMk",
        "Y2ujOQ-_yB-e",
        "gfVhNmUtNl_K",
        "CWiggorJ4ue5",
        "HT9hx5bBZtvn",
        "Z_6fVHu3cAuf",
        "nbmrdTh4edxu",
        "5TM2nzt9jXz2",
        "Hv-pqswdZyDt",
        "AVNCzmqhhMJF",
        "0X2l8Cl3CHvl",
        "1l98qPevqHuV",
        "mKWVpGigqnaX",
        "UNfcFiPT_W1g",
        "VlEWV64LxM_p"
      ],
      "authorship_tag": "ABX9TyNmWdROEkxzbbxN7Af8O8A1",
      "include_colab_link": true
    },
    "kernelspec": {
      "name": "python3",
      "display_name": "Python 3"
    },
    "language_info": {
      "name": "python"
    }
  },
  "cells": [
    {
      "cell_type": "markdown",
      "metadata": {
        "id": "view-in-github",
        "colab_type": "text"
      },
      "source": [
        "<a href=\"https://colab.research.google.com/github/danielcti/data-science-project/blob/colabIgor/dataVisualizationNetflixp2.ipynb\" target=\"_parent\"><img src=\"https://colab.research.google.com/assets/colab-badge.svg\" alt=\"Open In Colab\"/></a>"
      ]
    },
    {
      "cell_type": "markdown",
      "metadata": {
        "id": "Ig3dSbqq1_gi"
      },
      "source": [
        "#Importando bibliotecas que julgamos necessárias"
      ]
    },
    {
      "cell_type": "code",
      "metadata": {
        "id": "mO-ve-kl0znF"
      },
      "source": [
        "import numpy as np\n",
        "import pandas as pd\n",
        "import matplotlib.pyplot as plt\n",
        "import matplotlib.cm as cm\n",
        "import seaborn as sns\n",
        "import datetime as dt\n",
        "from sklearn.metrics import confusion_matrix,classification_report\n",
        "from sklearn.metrics import silhouette_samples, silhouette_score\n",
        "from sklearn import preprocessing\n",
        "from sklearn.preprocessing import StandardScaler, MinMaxScaler\n",
        "from scipy import stats\n",
        "from warnings import filterwarnings\n",
        "filterwarnings('ignore')\n"
      ],
      "execution_count": 1,
      "outputs": []
    },
    {
      "cell_type": "code",
      "metadata": {
        "id": "k_XEq2HV2H5D",
        "colab": {
          "base_uri": "https://localhost:8080/"
        },
        "outputId": "e6e45bd3-378d-44d2-d97e-48f1fcf9c8c2"
      },
      "source": [
        "df = pd.read_csv(\"netflix_titles.csv\")\n",
        "print('Setup Complete')"
      ],
      "execution_count": 2,
      "outputs": [
        {
          "output_type": "stream",
          "text": [
            "Setup Complete\n"
          ],
          "name": "stdout"
        }
      ]
    },
    {
      "cell_type": "markdown",
      "metadata": {
        "id": "G1Xs4VTXu64l"
      },
      "source": [
        "#Primeiramente vamos ver o que temos nos nossos dados carregados, para assim possibilitar nossa análise descritiva"
      ]
    },
    {
      "cell_type": "code",
      "metadata": {
        "colab": {
          "base_uri": "https://localhost:8080/",
          "height": 0
        },
        "id": "hTayh3jx2djA",
        "outputId": "6a5aa23e-7f7d-4cba-91f0-f74518be697f"
      },
      "source": [
        "df.head()"
      ],
      "execution_count": 3,
      "outputs": [
        {
          "output_type": "execute_result",
          "data": {
            "text/html": [
              "<div>\n",
              "<style scoped>\n",
              "    .dataframe tbody tr th:only-of-type {\n",
              "        vertical-align: middle;\n",
              "    }\n",
              "\n",
              "    .dataframe tbody tr th {\n",
              "        vertical-align: top;\n",
              "    }\n",
              "\n",
              "    .dataframe thead th {\n",
              "        text-align: right;\n",
              "    }\n",
              "</style>\n",
              "<table border=\"1\" class=\"dataframe\">\n",
              "  <thead>\n",
              "    <tr style=\"text-align: right;\">\n",
              "      <th></th>\n",
              "      <th>show_id</th>\n",
              "      <th>type</th>\n",
              "      <th>title</th>\n",
              "      <th>director</th>\n",
              "      <th>cast</th>\n",
              "      <th>country</th>\n",
              "      <th>date_added</th>\n",
              "      <th>release_year</th>\n",
              "      <th>rating</th>\n",
              "      <th>duration</th>\n",
              "      <th>listed_in</th>\n",
              "      <th>description</th>\n",
              "    </tr>\n",
              "  </thead>\n",
              "  <tbody>\n",
              "    <tr>\n",
              "      <th>0</th>\n",
              "      <td>s1</td>\n",
              "      <td>TV Show</td>\n",
              "      <td>3%</td>\n",
              "      <td>NaN</td>\n",
              "      <td>João Miguel, Bianca Comparato, Michel Gomes, R...</td>\n",
              "      <td>Brazil</td>\n",
              "      <td>August 14, 2020</td>\n",
              "      <td>2020</td>\n",
              "      <td>TV-MA</td>\n",
              "      <td>4 Seasons</td>\n",
              "      <td>International TV Shows, TV Dramas, TV Sci-Fi &amp;...</td>\n",
              "      <td>In a future where the elite inhabit an island ...</td>\n",
              "    </tr>\n",
              "    <tr>\n",
              "      <th>1</th>\n",
              "      <td>s2</td>\n",
              "      <td>Movie</td>\n",
              "      <td>7:19</td>\n",
              "      <td>Jorge Michel Grau</td>\n",
              "      <td>Demián Bichir, Héctor Bonilla, Oscar Serrano, ...</td>\n",
              "      <td>Mexico</td>\n",
              "      <td>December 23, 2016</td>\n",
              "      <td>2016</td>\n",
              "      <td>TV-MA</td>\n",
              "      <td>93 min</td>\n",
              "      <td>Dramas, International Movies</td>\n",
              "      <td>After a devastating earthquake hits Mexico Cit...</td>\n",
              "    </tr>\n",
              "    <tr>\n",
              "      <th>2</th>\n",
              "      <td>s3</td>\n",
              "      <td>Movie</td>\n",
              "      <td>23:59</td>\n",
              "      <td>Gilbert Chan</td>\n",
              "      <td>Tedd Chan, Stella Chung, Henley Hii, Lawrence ...</td>\n",
              "      <td>Singapore</td>\n",
              "      <td>December 20, 2018</td>\n",
              "      <td>2011</td>\n",
              "      <td>R</td>\n",
              "      <td>78 min</td>\n",
              "      <td>Horror Movies, International Movies</td>\n",
              "      <td>When an army recruit is found dead, his fellow...</td>\n",
              "    </tr>\n",
              "    <tr>\n",
              "      <th>3</th>\n",
              "      <td>s4</td>\n",
              "      <td>Movie</td>\n",
              "      <td>9</td>\n",
              "      <td>Shane Acker</td>\n",
              "      <td>Elijah Wood, John C. Reilly, Jennifer Connelly...</td>\n",
              "      <td>United States</td>\n",
              "      <td>November 16, 2017</td>\n",
              "      <td>2009</td>\n",
              "      <td>PG-13</td>\n",
              "      <td>80 min</td>\n",
              "      <td>Action &amp; Adventure, Independent Movies, Sci-Fi...</td>\n",
              "      <td>In a postapocalyptic world, rag-doll robots hi...</td>\n",
              "    </tr>\n",
              "    <tr>\n",
              "      <th>4</th>\n",
              "      <td>s5</td>\n",
              "      <td>Movie</td>\n",
              "      <td>21</td>\n",
              "      <td>Robert Luketic</td>\n",
              "      <td>Jim Sturgess, Kevin Spacey, Kate Bosworth, Aar...</td>\n",
              "      <td>United States</td>\n",
              "      <td>January 1, 2020</td>\n",
              "      <td>2008</td>\n",
              "      <td>PG-13</td>\n",
              "      <td>123 min</td>\n",
              "      <td>Dramas</td>\n",
              "      <td>A brilliant group of students become card-coun...</td>\n",
              "    </tr>\n",
              "  </tbody>\n",
              "</table>\n",
              "</div>"
            ],
            "text/plain": [
              "  show_id  ...                                        description\n",
              "0      s1  ...  In a future where the elite inhabit an island ...\n",
              "1      s2  ...  After a devastating earthquake hits Mexico Cit...\n",
              "2      s3  ...  When an army recruit is found dead, his fellow...\n",
              "3      s4  ...  In a postapocalyptic world, rag-doll robots hi...\n",
              "4      s5  ...  A brilliant group of students become card-coun...\n",
              "\n",
              "[5 rows x 12 columns]"
            ]
          },
          "metadata": {
            "tags": []
          },
          "execution_count": 3
        }
      ]
    },
    {
      "cell_type": "code",
      "metadata": {
        "colab": {
          "base_uri": "https://localhost:8080/",
          "height": 0
        },
        "id": "vTuCKlkj2rdM",
        "outputId": "0ea7f69c-438b-483f-8051-94f782aa35a3"
      },
      "source": [
        "df.tail()"
      ],
      "execution_count": 4,
      "outputs": [
        {
          "output_type": "execute_result",
          "data": {
            "text/html": [
              "<div>\n",
              "<style scoped>\n",
              "    .dataframe tbody tr th:only-of-type {\n",
              "        vertical-align: middle;\n",
              "    }\n",
              "\n",
              "    .dataframe tbody tr th {\n",
              "        vertical-align: top;\n",
              "    }\n",
              "\n",
              "    .dataframe thead th {\n",
              "        text-align: right;\n",
              "    }\n",
              "</style>\n",
              "<table border=\"1\" class=\"dataframe\">\n",
              "  <thead>\n",
              "    <tr style=\"text-align: right;\">\n",
              "      <th></th>\n",
              "      <th>show_id</th>\n",
              "      <th>type</th>\n",
              "      <th>title</th>\n",
              "      <th>director</th>\n",
              "      <th>cast</th>\n",
              "      <th>country</th>\n",
              "      <th>date_added</th>\n",
              "      <th>release_year</th>\n",
              "      <th>rating</th>\n",
              "      <th>duration</th>\n",
              "      <th>listed_in</th>\n",
              "      <th>description</th>\n",
              "    </tr>\n",
              "  </thead>\n",
              "  <tbody>\n",
              "    <tr>\n",
              "      <th>7782</th>\n",
              "      <td>s7783</td>\n",
              "      <td>Movie</td>\n",
              "      <td>Zozo</td>\n",
              "      <td>Josef Fares</td>\n",
              "      <td>Imad Creidi, Antoinette Turk, Elias Gergi, Car...</td>\n",
              "      <td>Sweden, Czech Republic, United Kingdom, Denmar...</td>\n",
              "      <td>October 19, 2020</td>\n",
              "      <td>2005</td>\n",
              "      <td>TV-MA</td>\n",
              "      <td>99 min</td>\n",
              "      <td>Dramas, International Movies</td>\n",
              "      <td>When Lebanon's Civil War deprives Zozo of his ...</td>\n",
              "    </tr>\n",
              "    <tr>\n",
              "      <th>7783</th>\n",
              "      <td>s7784</td>\n",
              "      <td>Movie</td>\n",
              "      <td>Zubaan</td>\n",
              "      <td>Mozez Singh</td>\n",
              "      <td>Vicky Kaushal, Sarah-Jane Dias, Raaghav Chanan...</td>\n",
              "      <td>India</td>\n",
              "      <td>March 2, 2019</td>\n",
              "      <td>2015</td>\n",
              "      <td>TV-14</td>\n",
              "      <td>111 min</td>\n",
              "      <td>Dramas, International Movies, Music &amp; Musicals</td>\n",
              "      <td>A scrappy but poor boy worms his way into a ty...</td>\n",
              "    </tr>\n",
              "    <tr>\n",
              "      <th>7784</th>\n",
              "      <td>s7785</td>\n",
              "      <td>Movie</td>\n",
              "      <td>Zulu Man in Japan</td>\n",
              "      <td>NaN</td>\n",
              "      <td>Nasty C</td>\n",
              "      <td>NaN</td>\n",
              "      <td>September 25, 2020</td>\n",
              "      <td>2019</td>\n",
              "      <td>TV-MA</td>\n",
              "      <td>44 min</td>\n",
              "      <td>Documentaries, International Movies, Music &amp; M...</td>\n",
              "      <td>In this documentary, South African rapper Nast...</td>\n",
              "    </tr>\n",
              "    <tr>\n",
              "      <th>7785</th>\n",
              "      <td>s7786</td>\n",
              "      <td>TV Show</td>\n",
              "      <td>Zumbo's Just Desserts</td>\n",
              "      <td>NaN</td>\n",
              "      <td>Adriano Zumbo, Rachel Khoo</td>\n",
              "      <td>Australia</td>\n",
              "      <td>October 31, 2020</td>\n",
              "      <td>2019</td>\n",
              "      <td>TV-PG</td>\n",
              "      <td>1 Season</td>\n",
              "      <td>International TV Shows, Reality TV</td>\n",
              "      <td>Dessert wizard Adriano Zumbo looks for the nex...</td>\n",
              "    </tr>\n",
              "    <tr>\n",
              "      <th>7786</th>\n",
              "      <td>s7787</td>\n",
              "      <td>Movie</td>\n",
              "      <td>ZZ TOP: THAT LITTLE OL' BAND FROM TEXAS</td>\n",
              "      <td>Sam Dunn</td>\n",
              "      <td>NaN</td>\n",
              "      <td>United Kingdom, Canada, United States</td>\n",
              "      <td>March 1, 2020</td>\n",
              "      <td>2019</td>\n",
              "      <td>TV-MA</td>\n",
              "      <td>90 min</td>\n",
              "      <td>Documentaries, Music &amp; Musicals</td>\n",
              "      <td>This documentary delves into the mystique behi...</td>\n",
              "    </tr>\n",
              "  </tbody>\n",
              "</table>\n",
              "</div>"
            ],
            "text/plain": [
              "     show_id  ...                                        description\n",
              "7782   s7783  ...  When Lebanon's Civil War deprives Zozo of his ...\n",
              "7783   s7784  ...  A scrappy but poor boy worms his way into a ty...\n",
              "7784   s7785  ...  In this documentary, South African rapper Nast...\n",
              "7785   s7786  ...  Dessert wizard Adriano Zumbo looks for the nex...\n",
              "7786   s7787  ...  This documentary delves into the mystique behi...\n",
              "\n",
              "[5 rows x 12 columns]"
            ]
          },
          "metadata": {
            "tags": []
          },
          "execution_count": 4
        }
      ]
    },
    {
      "cell_type": "markdown",
      "metadata": {
        "id": "MhD7FZNxwAFZ"
      },
      "source": [
        "Agora iremos ver o tamanho dos nossos dados:"
      ]
    },
    {
      "cell_type": "code",
      "metadata": {
        "colab": {
          "base_uri": "https://localhost:8080/"
        },
        "id": "uMVYA_TiwYuH",
        "outputId": "53d7ba87-d121-458b-8ec5-af91d37608a0"
      },
      "source": [
        "df.shape"
      ],
      "execution_count": 5,
      "outputs": [
        {
          "output_type": "execute_result",
          "data": {
            "text/plain": [
              "(7787, 12)"
            ]
          },
          "metadata": {
            "tags": []
          },
          "execution_count": 5
        }
      ]
    },
    {
      "cell_type": "markdown",
      "metadata": {
        "id": "N25tM5ZswgX0"
      },
      "source": [
        "Podemos ver que temos 12 atributos com 7787 instâncias "
      ]
    },
    {
      "cell_type": "markdown",
      "metadata": {
        "id": "0t6Kt_EexgdO"
      },
      "source": [
        "### Podemos também ver que nossos dados já estão separados entre séries(*TV Show*) e filmes (*Movie*). Então, até o momento, não precisamos aplicar nenhuma função para definir entre séries e filmes."
      ]
    },
    {
      "cell_type": "markdown",
      "metadata": {
        "id": "LJZvaZSrUFCU"
      },
      "source": [
        "#Agora, dando início ao nosso pré-processamento dos dados\n",
        "\n",
        "\n",
        "\n",
        "\n"
      ]
    },
    {
      "cell_type": "markdown",
      "metadata": {
        "id": "QbKaLmX9GcMk"
      },
      "source": [
        "### Vamos agora tratar nossas instâncias, primeiramente verificando caso tenhamos dados ausentes. Caso positivo iremos tratá-los da maneira cabível, seja excluindo, substituindo, ou alterando da melhor maneira possível."
      ]
    },
    {
      "cell_type": "code",
      "metadata": {
        "colab": {
          "base_uri": "https://localhost:8080/"
        },
        "id": "iWGh_nxz5ToT",
        "outputId": "c6a2d072-a33f-4b17-bac0-39c572f1af77"
      },
      "source": [
        "df.isnull().sum()/(len(df))*100"
      ],
      "execution_count": 6,
      "outputs": [
        {
          "output_type": "execute_result",
          "data": {
            "text/plain": [
              "show_id          0.000000\n",
              "type             0.000000\n",
              "title            0.000000\n",
              "director        30.679337\n",
              "cast             9.220496\n",
              "country          6.510851\n",
              "date_added       0.128419\n",
              "release_year     0.000000\n",
              "rating           0.089893\n",
              "duration         0.000000\n",
              "listed_in        0.000000\n",
              "description      0.000000\n",
              "dtype: float64"
            ]
          },
          "metadata": {
            "tags": []
          },
          "execution_count": 6
        }
      ]
    },
    {
      "cell_type": "markdown",
      "metadata": {
        "id": "6vaMN1Po6D-s"
      },
      "source": [
        "Primeiramente veremos quais as instâncias de *types* para que possamos facilitar nosso tratamento para *director* que possuem 30% de dados ausentes."
      ]
    },
    {
      "cell_type": "code",
      "metadata": {
        "colab": {
          "base_uri": "https://localhost:8080/"
        },
        "id": "WHQngGVfG5ce",
        "outputId": "4f635986-2382-49e9-8585-ff048f3177b8"
      },
      "source": [
        "df.type.unique()"
      ],
      "execution_count": 7,
      "outputs": [
        {
          "output_type": "execute_result",
          "data": {
            "text/plain": [
              "array(['TV Show', 'Movie'], dtype=object)"
            ]
          },
          "metadata": {
            "tags": []
          },
          "execution_count": 7
        }
      ]
    },
    {
      "cell_type": "markdown",
      "metadata": {
        "id": "xmD2dTml7YWb"
      },
      "source": [
        "Como só temos duas instâncias de *type*, obsevadas logo acima e que, além disso, sabemos que em 'TV Show' os diretores variam por episódio fazendo sentido não serem guardados tais dados. Dessa forma, iremos dividir em dois datasets, dfMovie e dfShow, para checar se essa suposição de fato se prova verdadeira."
      ]
    },
    {
      "cell_type": "code",
      "metadata": {
        "id": "D8W4rFTp51Fg"
      },
      "source": [
        "dfMovie = df[(df.type == 'Movie')]\n",
        "dfShow = df[(df.type == 'TV Show')]"
      ],
      "execution_count": 8,
      "outputs": []
    },
    {
      "cell_type": "code",
      "metadata": {
        "colab": {
          "base_uri": "https://localhost:8080/"
        },
        "id": "a7syXxLR78-v",
        "outputId": "f83d11aa-65e5-49cb-f8af-85fec2e3f772"
      },
      "source": [
        "dfShow.isnull().sum()/(len(dfShow))*100"
      ],
      "execution_count": 9,
      "outputs": [
        {
          "output_type": "execute_result",
          "data": {
            "text/plain": [
              "show_id          0.000000\n",
              "type             0.000000\n",
              "title            0.000000\n",
              "director        92.365145\n",
              "cast            12.116183\n",
              "country         11.493776\n",
              "date_added       0.414938\n",
              "release_year     0.000000\n",
              "rating           0.082988\n",
              "duration         0.000000\n",
              "listed_in        0.000000\n",
              "description      0.000000\n",
              "dtype: float64"
            ]
          },
          "metadata": {
            "tags": []
          },
          "execution_count": 9
        }
      ]
    },
    {
      "cell_type": "code",
      "metadata": {
        "colab": {
          "base_uri": "https://localhost:8080/"
        },
        "id": "IDH6Uzi_8G1H",
        "outputId": "a4b4d9de-711c-4314-e3c1-eabe13a91a37"
      },
      "source": [
        "dfMovie.isnull().sum()/(len(dfMovie))*100"
      ],
      "execution_count": 10,
      "outputs": [
        {
          "output_type": "execute_result",
          "data": {
            "text/plain": [
              "show_id         0.000000\n",
              "type            0.000000\n",
              "title           0.000000\n",
              "director        3.031430\n",
              "cast            7.922633\n",
              "country         4.277478\n",
              "date_added      0.000000\n",
              "release_year    0.000000\n",
              "rating          0.092989\n",
              "duration        0.000000\n",
              "listed_in       0.000000\n",
              "description     0.000000\n",
              "dtype: float64"
            ]
          },
          "metadata": {
            "tags": []
          },
          "execution_count": 10
        }
      ]
    },
    {
      "cell_type": "markdown",
      "metadata": {
        "id": "fxf0XIbQ80zL"
      },
      "source": [
        "De fato, nossa suposição se tornou em partes verdadeira, visto que a feature *director* apresentou 92% de dados ausentes para dfShow e apenas 3% para dfMovie.\n",
        "> Tendo isso em vista, poderíamos trabalhar com dois datasets onde vamos excluir o atributo em dfShows e apenas substituí-los em dfMovies ou substituir todos os valores ausentes por 'desconhecido'.\n"
      ]
    },
    {
      "cell_type": "markdown",
      "metadata": {
        "id": "a0PMYiAsCwwV"
      },
      "source": [
        "vamos seguir com a segunda opção por enquanto"
      ]
    },
    {
      "cell_type": "code",
      "metadata": {
        "id": "irPcZq6kCujY"
      },
      "source": [
        "df['director']=df['director'].fillna('desconhecido')"
      ],
      "execution_count": 11,
      "outputs": []
    },
    {
      "cell_type": "markdown",
      "metadata": {
        "id": "-E94MGIbJdsu"
      },
      "source": [
        "Agora com relação ao atributo cast, iremos tratar da mesma forma que *director*"
      ]
    },
    {
      "cell_type": "code",
      "metadata": {
        "id": "cwAiydYyKQUq"
      },
      "source": [
        "df['cast']=df['cast'].fillna('desconhecido')"
      ],
      "execution_count": 12,
      "outputs": []
    },
    {
      "cell_type": "markdown",
      "metadata": {
        "id": "oxJveKqfKU40"
      },
      "source": [
        "Com relação a *country* vamos substituir pela moda, assim como em *date_added*"
      ]
    },
    {
      "cell_type": "code",
      "metadata": {
        "id": "fLwtF33EwccG"
      },
      "source": [
        "df['country']=df['country'].fillna(df['country'].mode()[0])\n",
        "df['rating']=df['rating'].fillna(df['rating'].mode()[0])\n",
        "df['date_added']=df['date_added'].fillna(df['date_added'].mode()[0])"
      ],
      "execution_count": 13,
      "outputs": []
    },
    {
      "cell_type": "code",
      "metadata": {
        "colab": {
          "base_uri": "https://localhost:8080/"
        },
        "id": "-cCQpvtBL6ec",
        "outputId": "eee99bd3-21f6-43de-b712-6bdb1738782a"
      },
      "source": [
        "df.isnull().sum()/(len(df))*100"
      ],
      "execution_count": 14,
      "outputs": [
        {
          "output_type": "execute_result",
          "data": {
            "text/plain": [
              "show_id         0.0\n",
              "type            0.0\n",
              "title           0.0\n",
              "director        0.0\n",
              "cast            0.0\n",
              "country         0.0\n",
              "date_added      0.0\n",
              "release_year    0.0\n",
              "rating          0.0\n",
              "duration        0.0\n",
              "listed_in       0.0\n",
              "description     0.0\n",
              "dtype: float64"
            ]
          },
          "metadata": {
            "tags": []
          },
          "execution_count": 14
        }
      ]
    },
    {
      "cell_type": "markdown",
      "metadata": {
        "id": "vYaLBf6wML5c"
      },
      "source": [
        "Como podemos ver, todos os dados ausentes foram tratados. Lembrando que poderíamos tê-los tratados com algoritmos como KNN ou Árvore de decisão, porém como temos atributos compostos por listas achamos melhor apenas utilizar os métodos apresentatos acima."
      ]
    },
    {
      "cell_type": "markdown",
      "metadata": {
        "id": "ar4ABh5cJMOw"
      },
      "source": [
        "## Realizando agora a definição de tipos, vamos primeiro analisá-los para podermos decidir quais ações tomar"
      ]
    },
    {
      "cell_type": "code",
      "metadata": {
        "colab": {
          "base_uri": "https://localhost:8080/"
        },
        "id": "wwP9UZ922Tab",
        "outputId": "23f2b627-3bf0-413b-adfb-726fad7567b8"
      },
      "source": [
        "df.dtypes"
      ],
      "execution_count": 15,
      "outputs": [
        {
          "output_type": "execute_result",
          "data": {
            "text/plain": [
              "show_id         object\n",
              "type            object\n",
              "title           object\n",
              "director        object\n",
              "cast            object\n",
              "country         object\n",
              "date_added      object\n",
              "release_year     int64\n",
              "rating          object\n",
              "duration        object\n",
              "listed_in       object\n",
              "description     object\n",
              "dtype: object"
            ]
          },
          "metadata": {
            "tags": []
          },
          "execution_count": 15
        }
      ]
    },
    {
      "cell_type": "markdown",
      "metadata": {
        "id": "Y2ujOQ-_yB-e"
      },
      "source": [
        "###Como pudemos notar ao mostrar o nosso dataset inicialmente o campo *country* é composto de uma lista de países, porém será mais prático trabalhar apenas com o país principal, que neste caso consideramos o primeiro da lista. Então iremos adicionar a coluna *main_country* ao data frame."
      ]
    },
    {
      "cell_type": "code",
      "metadata": {
        "colab": {
          "base_uri": "https://localhost:8080/"
        },
        "id": "oe5iFRj_wjqA",
        "outputId": "410867ea-1e90-4498-f90b-bb12f1cbff10"
      },
      "source": [
        "df['main_country']=df['country'].apply(lambda x: x.split(\",\")[0])\n",
        "df['main_country']"
      ],
      "execution_count": 16,
      "outputs": [
        {
          "output_type": "execute_result",
          "data": {
            "text/plain": [
              "0               Brazil\n",
              "1               Mexico\n",
              "2            Singapore\n",
              "3        United States\n",
              "4        United States\n",
              "             ...      \n",
              "7782            Sweden\n",
              "7783             India\n",
              "7784     United States\n",
              "7785         Australia\n",
              "7786    United Kingdom\n",
              "Name: main_country, Length: 7787, dtype: object"
            ]
          },
          "metadata": {
            "tags": []
          },
          "execution_count": 16
        }
      ]
    },
    {
      "cell_type": "markdown",
      "metadata": {
        "id": "gfVhNmUtNl_K"
      },
      "source": [
        "### Com relação a *duration*, teremos que tratar o nosso dataset para tirar 'min' de *type*=='Movie' e 'Season' de *type*=='TV Show'. Além disso teremos que alterar o tipo dos nossos atributos para int64."
      ]
    },
    {
      "cell_type": "code",
      "metadata": {
        "id": "EcYcgWYfkkl0"
      },
      "source": [
        "df['duration'] = df.duration.apply(lambda x: x.split()[0])\n",
        "dfMovie['duration'] = dfMovie.duration.apply(lambda x: x.split()[0])\n",
        "dfShow['duration'] = dfShow.duration.apply(lambda x: x.split()[0])"
      ],
      "execution_count": 17,
      "outputs": []
    },
    {
      "cell_type": "code",
      "metadata": {
        "id": "-99Tmf32rNge"
      },
      "source": [
        "df['duration'] = df.duration.astype('int')\n",
        "dfMovie['duration'] = dfMovie.duration.astype('int')\n",
        "dfShow['duration'] = dfShow.duration.astype('int')"
      ],
      "execution_count": 18,
      "outputs": []
    },
    {
      "cell_type": "markdown",
      "metadata": {
        "id": "CWiggorJ4ue5"
      },
      "source": [
        "\n",
        "\n",
        "### Vamos tratar como variáveis categóricas todas as features com exceção de *date_added*, *release_year*, *duration* e *show_id* e as que temos listas como valores."
      ]
    },
    {
      "cell_type": "code",
      "metadata": {
        "id": "mHnqJjoYd8h2"
      },
      "source": [
        "df['main_country']=df['main_country'].astype('category')\n",
        "df['director']=df['director'].astype('category')\n",
        "df['listed_in']=df['listed_in'].astype('category')\n",
        "df['type']=df['type'].astype('category')\n",
        "df['title']=df['title'].astype('category')\n",
        "df['rating']=df['rating'].astype('category')"
      ],
      "execution_count": 19,
      "outputs": []
    },
    {
      "cell_type": "markdown",
      "metadata": {
        "id": "HT9hx5bBZtvn"
      },
      "source": [
        "### Agora iremos tratar do nosso atributo *date_added*"
      ]
    },
    {
      "cell_type": "code",
      "metadata": {
        "id": "q5YZBpHTaOjD"
      },
      "source": [
        "df['date_added'] = pd.to_datetime(df['date_added'])"
      ],
      "execution_count": 20,
      "outputs": []
    },
    {
      "cell_type": "markdown",
      "metadata": {
        "id": "y63c3qJM7Q0W"
      },
      "source": [
        "Vamos utilizar apenas o ano em que foi adicionado o título à netflix criando uma nova feature chamada *year_added*"
      ]
    },
    {
      "cell_type": "code",
      "metadata": {
        "colab": {
          "base_uri": "https://localhost:8080/"
        },
        "id": "plEgIwYx58gK",
        "outputId": "ab277289-8361-4022-b477-4976d8fbf126"
      },
      "source": [
        "df.date_added.head()"
      ],
      "execution_count": 21,
      "outputs": [
        {
          "output_type": "execute_result",
          "data": {
            "text/plain": [
              "0   2020-08-14\n",
              "1   2016-12-23\n",
              "2   2018-12-20\n",
              "3   2017-11-16\n",
              "4   2020-01-01\n",
              "Name: date_added, dtype: datetime64[ns]"
            ]
          },
          "metadata": {
            "tags": []
          },
          "execution_count": 21
        }
      ]
    },
    {
      "cell_type": "code",
      "metadata": {
        "id": "KMo6aeJ47lML"
      },
      "source": [
        "\n",
        "df['year_added'] = df.date_added.apply(lambda x: x.strftime('%Y-%m-%d'))"
      ],
      "execution_count": 22,
      "outputs": []
    },
    {
      "cell_type": "code",
      "metadata": {
        "id": "dTe_NnU7-Ece"
      },
      "source": [
        "df['year_added'] = df.year_added.apply(lambda x: x[:4])"
      ],
      "execution_count": 23,
      "outputs": []
    },
    {
      "cell_type": "code",
      "metadata": {
        "id": "Rjo_-23G-Ocj"
      },
      "source": [
        "df['year_added'] = df.year_added.astype('int')"
      ],
      "execution_count": 24,
      "outputs": []
    },
    {
      "cell_type": "code",
      "metadata": {
        "colab": {
          "base_uri": "https://localhost:8080/"
        },
        "id": "vlnJGyuA1DyG",
        "outputId": "68e20ef7-2187-4f4b-b428-00c029c581e4"
      },
      "source": [
        "df.dtypes"
      ],
      "execution_count": 25,
      "outputs": [
        {
          "output_type": "execute_result",
          "data": {
            "text/plain": [
              "show_id                 object\n",
              "type                  category\n",
              "title                 category\n",
              "director              category\n",
              "cast                    object\n",
              "country                 object\n",
              "date_added      datetime64[ns]\n",
              "release_year             int64\n",
              "rating                category\n",
              "duration                 int64\n",
              "listed_in             category\n",
              "description             object\n",
              "main_country          category\n",
              "year_added               int64\n",
              "dtype: object"
            ]
          },
          "metadata": {
            "tags": []
          },
          "execution_count": 25
        }
      ]
    },
    {
      "cell_type": "markdown",
      "metadata": {
        "id": "Z_6fVHu3cAuf"
      },
      "source": [
        "## Normalizando utilizando o z-score para o ano que foi liberada na netflix e durações de filmes e utilizando o minmax para séries \n",
        "> Isso será útil para treinar o nosso modelo posteriormente.(lembrando que estaremos serparando as temporadas e os minutos com os datasets dfShow e dfMovie)"
      ]
    },
    {
      "cell_type": "code",
      "metadata": {
        "colab": {
          "base_uri": "https://localhost:8080/"
        },
        "id": "HCLslloicPsL",
        "outputId": "44ea02cc-d972-4c5c-c829-7cade91d546e"
      },
      "source": [
        "scaler = StandardScaler()\n",
        "dfMovie['release_year_norm'] = scaler.fit_transform(dfMovie[['release_year']])\n",
        "dfMovie['release_year_norm'].describe()"
      ],
      "execution_count": 26,
      "outputs": [
        {
          "output_type": "execute_result",
          "data": {
            "text/plain": [
              "count    5.377000e+03\n",
              "mean    -6.347577e-15\n",
              "std      1.000093e+00\n",
              "min     -7.339807e+00\n",
              "25%     -9.521768e-02\n",
              "50%      3.187589e-01\n",
              "75%      5.257471e-01\n",
              "max      8.362295e-01\n",
              "Name: release_year_norm, dtype: float64"
            ]
          },
          "metadata": {
            "tags": []
          },
          "execution_count": 26
        }
      ]
    },
    {
      "cell_type": "code",
      "metadata": {
        "colab": {
          "base_uri": "https://localhost:8080/"
        },
        "id": "-hyFqXm3dR_3",
        "outputId": "b8dad3e0-44d8-46b4-e09d-3dc3f6b9bb39"
      },
      "source": [
        "dfMovie['duration_norm'] = scaler.fit_transform(dfMovie[['duration']])\n",
        "dfMovie['duration_norm'].describe()"
      ],
      "execution_count": 27,
      "outputs": [
        {
          "output_type": "execute_result",
          "data": {
            "text/plain": [
              "count    5.377000e+03\n",
              "mean     9.630054e-17\n",
              "std      1.000093e+00\n",
              "min     -3.375884e+00\n",
              "25%     -4.664846e-01\n",
              "50%     -4.584857e-02\n",
              "75%      5.149995e-01\n",
              "max      7.455494e+00\n",
              "Name: duration_norm, dtype: float64"
            ]
          },
          "metadata": {
            "tags": []
          },
          "execution_count": 27
        }
      ]
    },
    {
      "cell_type": "code",
      "metadata": {
        "colab": {
          "base_uri": "https://localhost:8080/"
        },
        "id": "fDVrKxavdZM4",
        "outputId": "f82b4f97-d6fe-4743-e747-dcb65ebf3ea7"
      },
      "source": [
        "minmax_scaler = MinMaxScaler()\n",
        "dfShow['release_year_norm'] = minmax_scaler.fit_transform(dfShow[['release_year']])\n",
        "dfShow['release_year_norm'].describe()"
      ],
      "execution_count": 28,
      "outputs": [
        {
          "output_type": "execute_result",
          "data": {
            "text/plain": [
              "count    2410.000000\n",
              "mean        0.949914\n",
              "std         0.059009\n",
              "min         0.000000\n",
              "25%         0.937500\n",
              "50%         0.968750\n",
              "75%         0.979167\n",
              "max         1.000000\n",
              "Name: release_year_norm, dtype: float64"
            ]
          },
          "metadata": {
            "tags": []
          },
          "execution_count": 28
        }
      ]
    },
    {
      "cell_type": "code",
      "metadata": {
        "colab": {
          "base_uri": "https://localhost:8080/"
        },
        "id": "EfsIvSJwlFHr",
        "outputId": "fb5f2485-0630-496c-a3ea-4698cc3919d6"
      },
      "source": [
        "dfShow['duration_norm'] = minmax_scaler.fit_transform(dfShow[['duration']])\n",
        "dfShow['duration_norm'].describe()"
      ],
      "execution_count": 29,
      "outputs": [
        {
          "output_type": "execute_result",
          "data": {
            "text/plain": [
              "count    2410.000000\n",
              "mean        0.051729\n",
              "std         0.106424\n",
              "min         0.000000\n",
              "25%         0.000000\n",
              "50%         0.000000\n",
              "75%         0.066667\n",
              "max         1.000000\n",
              "Name: duration_norm, dtype: float64"
            ]
          },
          "metadata": {
            "tags": []
          },
          "execution_count": 29
        }
      ]
    },
    {
      "cell_type": "markdown",
      "metadata": {
        "id": "nbmrdTh4edxu"
      },
      "source": [
        "### Discretizando em intervalos iguais as features *duration* e *release_year* do dataset de filme temos:"
      ]
    },
    {
      "cell_type": "code",
      "metadata": {
        "colab": {
          "base_uri": "https://localhost:8080/"
        },
        "id": "CNKb-dWliAnJ",
        "outputId": "f27eb847-dd04-4039-f117-c6e7ef5d2065"
      },
      "source": [
        "dfMovie['duration_dist'] = pd.qcut(dfMovie['duration'],4)\n",
        "dfMovie['duration_dist'].describe()"
      ],
      "execution_count": 30,
      "outputs": [
        {
          "output_type": "execute_result",
          "data": {
            "text/plain": [
              "count              5377\n",
              "unique                4\n",
              "top       (2.999, 86.0]\n",
              "freq               1377\n",
              "Name: duration_dist, dtype: object"
            ]
          },
          "metadata": {
            "tags": []
          },
          "execution_count": 30
        }
      ]
    },
    {
      "cell_type": "code",
      "metadata": {
        "colab": {
          "base_uri": "https://localhost:8080/"
        },
        "id": "-nQwZbTXi1hK",
        "outputId": "11d91973-d129-4790-fcb7-aa9893991286"
      },
      "source": [
        "dfMovie['release_year_dist'] = pd.qcut(dfMovie['release_year'],4)\n",
        "dfMovie['release_year_dist'].describe()"
      ],
      "execution_count": 31,
      "outputs": [
        {
          "output_type": "execute_result",
          "data": {
            "text/plain": [
              "count                 5377\n",
              "unique                   4\n",
              "top       (2016.0, 2018.0]\n",
              "freq                  1478\n",
              "Name: release_year_dist, dtype: object"
            ]
          },
          "metadata": {
            "tags": []
          },
          "execution_count": 31
        }
      ]
    },
    {
      "cell_type": "code",
      "metadata": {
        "colab": {
          "base_uri": "https://localhost:8080/"
        },
        "id": "K540tunJi_FL",
        "outputId": "05ae26f4-10fc-4311-bb3d-8b6ddf77fc92"
      },
      "source": [
        "dfMovie['duration_dist'].value_counts()"
      ],
      "execution_count": 32,
      "outputs": [
        {
          "output_type": "execute_result",
          "data": {
            "text/plain": [
              "(2.999, 86.0]     1377\n",
              "(86.0, 98.0]      1368\n",
              "(114.0, 312.0]    1331\n",
              "(98.0, 114.0]     1301\n",
              "Name: duration_dist, dtype: int64"
            ]
          },
          "metadata": {
            "tags": []
          },
          "execution_count": 32
        }
      ]
    },
    {
      "cell_type": "code",
      "metadata": {
        "colab": {
          "base_uri": "https://localhost:8080/"
        },
        "id": "zNLiO8B3oBCs",
        "outputId": "7ad9bbb9-6818-4b55-f17d-c30d93a6b494"
      },
      "source": [
        "dfMovie['release_year_dist'].value_counts()"
      ],
      "execution_count": 33,
      "outputs": [
        {
          "output_type": "execute_result",
          "data": {
            "text/plain": [
              "(2016.0, 2018.0]      1478\n",
              "(2012.0, 2016.0]      1470\n",
              "(1941.999, 2012.0]    1424\n",
              "(2018.0, 2021.0]      1005\n",
              "Name: release_year_dist, dtype: int64"
            ]
          },
          "metadata": {
            "tags": []
          },
          "execution_count": 33
        }
      ]
    },
    {
      "cell_type": "markdown",
      "metadata": {
        "id": "5TM2nzt9jXz2"
      },
      "source": [
        "## Agora iremos fazer a limpeza dos nossos dados "
      ]
    },
    {
      "cell_type": "markdown",
      "metadata": {
        "id": "5bvbhek0pHPv"
      },
      "source": [
        "> ### Primeiro checando se temos dados duplicados"
      ]
    },
    {
      "cell_type": "code",
      "metadata": {
        "colab": {
          "base_uri": "https://localhost:8080/"
        },
        "id": "qJj5vPa2Zk6q",
        "outputId": "7dba4f67-da26-4c88-c303-9678a2df9335"
      },
      "source": [
        "len(df)"
      ],
      "execution_count": 34,
      "outputs": [
        {
          "output_type": "execute_result",
          "data": {
            "text/plain": [
              "7787"
            ]
          },
          "metadata": {
            "tags": []
          },
          "execution_count": 34
        }
      ]
    },
    {
      "cell_type": "code",
      "metadata": {
        "id": "7HJQ6FjqY2UL"
      },
      "source": [
        "df.drop_duplicates(keep = False, inplace = True)"
      ],
      "execution_count": 35,
      "outputs": []
    },
    {
      "cell_type": "code",
      "metadata": {
        "colab": {
          "base_uri": "https://localhost:8080/"
        },
        "id": "WD9uXsbGZdYW",
        "outputId": "6056b899-1efb-404f-c246-dbedec01fa45"
      },
      "source": [
        "len(df)"
      ],
      "execution_count": 36,
      "outputs": [
        {
          "output_type": "execute_result",
          "data": {
            "text/plain": [
              "7787"
            ]
          },
          "metadata": {
            "tags": []
          },
          "execution_count": 36
        }
      ]
    },
    {
      "cell_type": "markdown",
      "metadata": {
        "id": "60vZq1WPZo8d"
      },
      "source": [
        "Como podemos ver não temos nenhum dado exatamente igual em nosso dataset"
      ]
    },
    {
      "cell_type": "markdown",
      "metadata": {
        "id": "Hv-pqswdZyDt"
      },
      "source": [
        "### Removendo outliers através do método tukey(univariado) nos atributos de *duration* para filmes "
      ]
    },
    {
      "cell_type": "markdown",
      "metadata": {
        "id": "8P8n_PCsaaYM"
      },
      "source": [
        "Primeiramente vemos a descrição de *duration*"
      ]
    },
    {
      "cell_type": "code",
      "metadata": {
        "colab": {
          "base_uri": "https://localhost:8080/"
        },
        "id": "0e9bEyIyaZnJ",
        "outputId": "86ea5561-b50b-4c77-c7ac-6bdbfebf9062"
      },
      "source": [
        "dfMovie.duration.describe()"
      ],
      "execution_count": 37,
      "outputs": [
        {
          "output_type": "execute_result",
          "data": {
            "text/plain": [
              "count    5377.000000\n",
              "mean       99.307978\n",
              "std        28.530881\n",
              "min         3.000000\n",
              "25%        86.000000\n",
              "50%        98.000000\n",
              "75%       114.000000\n",
              "max       312.000000\n",
              "Name: duration, dtype: float64"
            ]
          },
          "metadata": {
            "tags": []
          },
          "execution_count": 37
        }
      ]
    },
    {
      "cell_type": "markdown",
      "metadata": {
        "id": "XQLrnPAKam9A"
      },
      "source": [
        "Vendo graficamente"
      ]
    },
    {
      "cell_type": "code",
      "metadata": {
        "colab": {
          "base_uri": "https://localhost:8080/",
          "height": 0
        },
        "id": "k0X6KTDEap_S",
        "outputId": "3eef7141-2ec4-49a8-f3d9-87a68628f1f3"
      },
      "source": [
        "sns.boxplot(y=dfMovie.duration)"
      ],
      "execution_count": 38,
      "outputs": [
        {
          "output_type": "execute_result",
          "data": {
            "text/plain": [
              "<matplotlib.axes._subplots.AxesSubplot at 0x7f3f2b4d5a50>"
            ]
          },
          "metadata": {
            "tags": []
          },
          "execution_count": 38
        },
        {
          "output_type": "display_data",
          "data": {
            "image/png": "[encoded data removed]",
            "text/plain": [
              "<Figure size 432x288 with 1 Axes>"
            ]
          },
          "metadata": {
            "tags": [],
            "needs_background": "light"
          }
        }
      ]
    },
    {
      "cell_type": "code",
      "metadata": {
        "colab": {
          "base_uri": "https://localhost:8080/",
          "height": 0
        },
        "id": "o-v0ow8Hct5f",
        "outputId": "11763cf4-0683-4ae6-9816-c9d50671238f"
      },
      "source": [
        "dfMovie['duration'].plot.box()"
      ],
      "execution_count": 39,
      "outputs": [
        {
          "output_type": "execute_result",
          "data": {
            "text/plain": [
              "<matplotlib.axes._subplots.AxesSubplot at 0x7f3f2aedbb10>"
            ]
          },
          "metadata": {
            "tags": []
          },
          "execution_count": 39
        },
        {
          "output_type": "display_data",
          "data": {
            "image/png": "[encoded data removed]",
            "text/plain": [
              "<Figure size 432x288 with 1 Axes>"
            ]
          },
          "metadata": {
            "tags": [],
            "needs_background": "light"
          }
        }
      ]
    },
    {
      "cell_type": "code",
      "metadata": {
        "colab": {
          "base_uri": "https://localhost:8080/",
          "height": 0
        },
        "id": "lcR18xoWfLGD",
        "outputId": "427bd7a6-6421-4acc-cb02-40f6f8179a43"
      },
      "source": [
        "dfMovie.duration.hist()"
      ],
      "execution_count": 40,
      "outputs": [
        {
          "output_type": "execute_result",
          "data": {
            "text/plain": [
              "<matplotlib.axes._subplots.AxesSubplot at 0x7f3f2ae5f8d0>"
            ]
          },
          "metadata": {
            "tags": []
          },
          "execution_count": 40
        },
        {
          "output_type": "display_data",
          "data": {
            "image/png": "[encoded data removed]",
            "text/plain": [
              "<Figure size 432x288 with 1 Axes>"
            ]
          },
          "metadata": {
            "tags": [],
            "needs_background": "light"
          }
        }
      ]
    },
    {
      "cell_type": "markdown",
      "metadata": {
        "id": "Cooz81LJdChF"
      },
      "source": [
        "Como já normalizamos a distribuição de *duration* vamos utilizá-la para dar continuidade."
      ]
    },
    {
      "cell_type": "code",
      "metadata": {
        "colab": {
          "base_uri": "https://localhost:8080/",
          "height": 0
        },
        "id": "GcN4wSa-dWju",
        "outputId": "02f294a2-2841-4a84-dd53-829464a6a5d1"
      },
      "source": [
        "dfMovie.duration_norm.hist()"
      ],
      "execution_count": 41,
      "outputs": [
        {
          "output_type": "execute_result",
          "data": {
            "text/plain": [
              "<matplotlib.axes._subplots.AxesSubplot at 0x7f3f2ae18b50>"
            ]
          },
          "metadata": {
            "tags": []
          },
          "execution_count": 41
        },
        {
          "output_type": "display_data",
          "data": {
            "image/png": "[encoded data removed]",
            "text/plain": [
              "<Figure size 432x288 with 1 Axes>"
            ]
          },
          "metadata": {
            "tags": [],
            "needs_background": "light"
          }
        }
      ]
    },
    {
      "cell_type": "markdown",
      "metadata": {
        "id": "Q7eOtACmfUwi"
      },
      "source": [
        "Calculando o IQR, já que outliers são identificados fora dos limites inferiores e superiores dados por Q1 - 1.5IQR e Q3 + 1.5IQR respectivamente."
      ]
    },
    {
      "cell_type": "code",
      "metadata": {
        "colab": {
          "base_uri": "https://localhost:8080/"
        },
        "id": "DhH_gAq3gPpN",
        "outputId": "5517920b-bcbe-4256-ef12-8272236090b4"
      },
      "source": [
        "q1 = dfMovie['duration_norm'].quantile(q=0.25)\n",
        "q3 = dfMovie['duration_norm'].quantile(q=0.75)\n",
        "iqr = q3 - q1\n",
        "iqr"
      ],
      "execution_count": 42,
      "outputs": [
        {
          "output_type": "execute_result",
          "data": {
            "text/plain": [
              "0.9814840367357893"
            ]
          },
          "metadata": {
            "tags": []
          },
          "execution_count": 42
        }
      ]
    },
    {
      "cell_type": "markdown",
      "metadata": {
        "id": "zRoR-o_DgmGl"
      },
      "source": [
        "Teremos o seguinte dataset retirando outliers de acordo com o método de tukey"
      ]
    },
    {
      "cell_type": "code",
      "metadata": {
        "colab": {
          "base_uri": "https://localhost:8080/"
        },
        "id": "SqC3JcNdgwNa",
        "outputId": "1d1589a5-9f9b-417f-82d1-ccfb263cb34d"
      },
      "source": [
        "dfMovie1 = dfMovie[(dfMovie['duration_norm'] > (q1-1.5*iqr)) & (dfMovie['duration_norm'] < (q3+1.5*iqr))]\n",
        "len(dfMovie1)"
      ],
      "execution_count": 43,
      "outputs": [
        {
          "output_type": "execute_result",
          "data": {
            "text/plain": [
              "5012"
            ]
          },
          "metadata": {
            "tags": []
          },
          "execution_count": 43
        }
      ]
    },
    {
      "cell_type": "code",
      "metadata": {
        "colab": {
          "base_uri": "https://localhost:8080/",
          "height": 0
        },
        "id": "TTs-eoCFg9r7",
        "outputId": "9d106b4f-cb61-438f-8078-8b78d7fe2950"
      },
      "source": [
        "dfMovie1.head()"
      ],
      "execution_count": 44,
      "outputs": [
        {
          "output_type": "execute_result",
          "data": {
            "text/html": [
              "<div>\n",
              "<style scoped>\n",
              "    .dataframe tbody tr th:only-of-type {\n",
              "        vertical-align: middle;\n",
              "    }\n",
              "\n",
              "    .dataframe tbody tr th {\n",
              "        vertical-align: top;\n",
              "    }\n",
              "\n",
              "    .dataframe thead th {\n",
              "        text-align: right;\n",
              "    }\n",
              "</style>\n",
              "<table border=\"1\" class=\"dataframe\">\n",
              "  <thead>\n",
              "    <tr style=\"text-align: right;\">\n",
              "      <th></th>\n",
              "      <th>show_id</th>\n",
              "      <th>type</th>\n",
              "      <th>title</th>\n",
              "      <th>director</th>\n",
              "      <th>cast</th>\n",
              "      <th>country</th>\n",
              "      <th>date_added</th>\n",
              "      <th>release_year</th>\n",
              "      <th>rating</th>\n",
              "      <th>duration</th>\n",
              "      <th>listed_in</th>\n",
              "      <th>description</th>\n",
              "      <th>release_year_norm</th>\n",
              "      <th>duration_norm</th>\n",
              "      <th>duration_dist</th>\n",
              "      <th>release_year_dist</th>\n",
              "    </tr>\n",
              "  </thead>\n",
              "  <tbody>\n",
              "    <tr>\n",
              "      <th>1</th>\n",
              "      <td>s2</td>\n",
              "      <td>Movie</td>\n",
              "      <td>7:19</td>\n",
              "      <td>Jorge Michel Grau</td>\n",
              "      <td>Demián Bichir, Héctor Bonilla, Oscar Serrano, ...</td>\n",
              "      <td>Mexico</td>\n",
              "      <td>December 23, 2016</td>\n",
              "      <td>2016</td>\n",
              "      <td>TV-MA</td>\n",
              "      <td>93</td>\n",
              "      <td>Dramas, International Movies</td>\n",
              "      <td>After a devastating earthquake hits Mexico Cit...</td>\n",
              "      <td>0.318759</td>\n",
              "      <td>-0.221114</td>\n",
              "      <td>(86.0, 98.0]</td>\n",
              "      <td>(2012.0, 2016.0]</td>\n",
              "    </tr>\n",
              "    <tr>\n",
              "      <th>2</th>\n",
              "      <td>s3</td>\n",
              "      <td>Movie</td>\n",
              "      <td>23:59</td>\n",
              "      <td>Gilbert Chan</td>\n",
              "      <td>Tedd Chan, Stella Chung, Henley Hii, Lawrence ...</td>\n",
              "      <td>Singapore</td>\n",
              "      <td>December 20, 2018</td>\n",
              "      <td>2011</td>\n",
              "      <td>R</td>\n",
              "      <td>78</td>\n",
              "      <td>Horror Movies, International Movies</td>\n",
              "      <td>When an army recruit is found dead, his fellow...</td>\n",
              "      <td>-0.198712</td>\n",
              "      <td>-0.746909</td>\n",
              "      <td>(2.999, 86.0]</td>\n",
              "      <td>(1941.999, 2012.0]</td>\n",
              "    </tr>\n",
              "    <tr>\n",
              "      <th>3</th>\n",
              "      <td>s4</td>\n",
              "      <td>Movie</td>\n",
              "      <td>9</td>\n",
              "      <td>Shane Acker</td>\n",
              "      <td>Elijah Wood, John C. Reilly, Jennifer Connelly...</td>\n",
              "      <td>United States</td>\n",
              "      <td>November 16, 2017</td>\n",
              "      <td>2009</td>\n",
              "      <td>PG-13</td>\n",
              "      <td>80</td>\n",
              "      <td>Action &amp; Adventure, Independent Movies, Sci-Fi...</td>\n",
              "      <td>In a postapocalyptic world, rag-doll robots hi...</td>\n",
              "      <td>-0.405700</td>\n",
              "      <td>-0.676803</td>\n",
              "      <td>(2.999, 86.0]</td>\n",
              "      <td>(1941.999, 2012.0]</td>\n",
              "    </tr>\n",
              "    <tr>\n",
              "      <th>4</th>\n",
              "      <td>s5</td>\n",
              "      <td>Movie</td>\n",
              "      <td>21</td>\n",
              "      <td>Robert Luketic</td>\n",
              "      <td>Jim Sturgess, Kevin Spacey, Kate Bosworth, Aar...</td>\n",
              "      <td>United States</td>\n",
              "      <td>January 1, 2020</td>\n",
              "      <td>2008</td>\n",
              "      <td>PG-13</td>\n",
              "      <td>123</td>\n",
              "      <td>Dramas</td>\n",
              "      <td>A brilliant group of students become card-coun...</td>\n",
              "      <td>-0.509194</td>\n",
              "      <td>0.830476</td>\n",
              "      <td>(114.0, 312.0]</td>\n",
              "      <td>(1941.999, 2012.0]</td>\n",
              "    </tr>\n",
              "    <tr>\n",
              "      <th>6</th>\n",
              "      <td>s7</td>\n",
              "      <td>Movie</td>\n",
              "      <td>122</td>\n",
              "      <td>Yasir Al Yasiri</td>\n",
              "      <td>Amina Khalil, Ahmed Dawood, Tarek Lotfy, Ahmed...</td>\n",
              "      <td>Egypt</td>\n",
              "      <td>June 1, 2020</td>\n",
              "      <td>2019</td>\n",
              "      <td>TV-MA</td>\n",
              "      <td>95</td>\n",
              "      <td>Horror Movies, International Movies</td>\n",
              "      <td>After an awful accident, a couple admitted to ...</td>\n",
              "      <td>0.629241</td>\n",
              "      <td>-0.151008</td>\n",
              "      <td>(86.0, 98.0]</td>\n",
              "      <td>(2018.0, 2021.0]</td>\n",
              "    </tr>\n",
              "  </tbody>\n",
              "</table>\n",
              "</div>"
            ],
            "text/plain": [
              "  show_id   type  title  ... duration_norm   duration_dist   release_year_dist\n",
              "1      s2  Movie   7:19  ...     -0.221114    (86.0, 98.0]    (2012.0, 2016.0]\n",
              "2      s3  Movie  23:59  ...     -0.746909   (2.999, 86.0]  (1941.999, 2012.0]\n",
              "3      s4  Movie      9  ...     -0.676803   (2.999, 86.0]  (1941.999, 2012.0]\n",
              "4      s5  Movie     21  ...      0.830476  (114.0, 312.0]  (1941.999, 2012.0]\n",
              "6      s7  Movie    122  ...     -0.151008    (86.0, 98.0]    (2018.0, 2021.0]\n",
              "\n",
              "[5 rows x 16 columns]"
            ]
          },
          "metadata": {
            "tags": []
          },
          "execution_count": 44
        }
      ]
    },
    {
      "cell_type": "markdown",
      "metadata": {
        "id": "AVNCzmqhhMJF"
      },
      "source": [
        "### Vamos tentar remover agora utilizando duas variáveis, sendo elas duration e release_year"
      ]
    },
    {
      "cell_type": "code",
      "metadata": {
        "colab": {
          "base_uri": "https://localhost:8080/",
          "height": 0
        },
        "id": "ekUJPQ4Bhnjx",
        "outputId": "214d1287-9a3b-4fdd-ab48-0d13db30833f"
      },
      "source": [
        "sns.scatterplot(x=\"duration\", y='release_year', data=dfMovie)"
      ],
      "execution_count": 45,
      "outputs": [
        {
          "output_type": "execute_result",
          "data": {
            "text/plain": [
              "<matplotlib.axes._subplots.AxesSubplot at 0x7f3f2ad82a10>"
            ]
          },
          "metadata": {
            "tags": []
          },
          "execution_count": 45
        },
        {
          "output_type": "display_data",
          "data": {
            "image/png": "[encoded data removed]",
            "text/plain": [
              "<Figure size 432x288 with 1 Axes>"
            ]
          },
          "metadata": {
            "tags": [],
            "needs_background": "light"
          }
        }
      ]
    },
    {
      "cell_type": "code",
      "metadata": {
        "id": "3AF_Dv1ljcaB"
      },
      "source": [
        "dfMovie['duration_year'] = dfMovie['duration'] / dfMovie['release_year']"
      ],
      "execution_count": 46,
      "outputs": []
    },
    {
      "cell_type": "code",
      "metadata": {
        "colab": {
          "base_uri": "https://localhost:8080/"
        },
        "id": "YUJiHvI5k7qv",
        "outputId": "590bc9e9-2827-488c-e7ae-da838d978f07"
      },
      "source": [
        "dfMovie['duration_year'].describe()"
      ],
      "execution_count": 47,
      "outputs": [
        {
          "output_type": "execute_result",
          "data": {
            "text/plain": [
              "count    5377.000000\n",
              "mean        0.049350\n",
              "std         0.014246\n",
              "min         0.001490\n",
              "25%         0.042680\n",
              "50%         0.048611\n",
              "75%         0.056688\n",
              "max         0.154609\n",
              "Name: duration_year, dtype: float64"
            ]
          },
          "metadata": {
            "tags": []
          },
          "execution_count": 47
        }
      ]
    },
    {
      "cell_type": "code",
      "metadata": {
        "colab": {
          "base_uri": "https://localhost:8080/",
          "height": 0
        },
        "id": "6uEF77kulBV0",
        "outputId": "3d420906-5691-4f77-80f1-6990cfe0e133"
      },
      "source": [
        "sns.boxplot(y=dfMovie.duration_year)"
      ],
      "execution_count": 48,
      "outputs": [
        {
          "output_type": "execute_result",
          "data": {
            "text/plain": [
              "<matplotlib.axes._subplots.AxesSubplot at 0x7f3f2acfd490>"
            ]
          },
          "metadata": {
            "tags": []
          },
          "execution_count": 48
        },
        {
          "output_type": "display_data",
          "data": {
            "image/png": "[encoded data removed]",
            "text/plain": [
              "<Figure size 432x288 with 1 Axes>"
            ]
          },
          "metadata": {
            "tags": [],
            "needs_background": "light"
          }
        }
      ]
    },
    {
      "cell_type": "code",
      "metadata": {
        "colab": {
          "base_uri": "https://localhost:8080/",
          "height": 0
        },
        "id": "SpCqgGjolJrM",
        "outputId": "8f00009b-69a2-44f8-e0dd-045a3d07e67a"
      },
      "source": [
        "dfMovie['duration_year'].hist()"
      ],
      "execution_count": 49,
      "outputs": [
        {
          "output_type": "execute_result",
          "data": {
            "text/plain": [
              "<matplotlib.axes._subplots.AxesSubplot at 0x7f3f2ac713d0>"
            ]
          },
          "metadata": {
            "tags": []
          },
          "execution_count": 49
        },
        {
          "output_type": "display_data",
          "data": {
            "image/png": "[encoded data removed]",
            "text/plain": [
              "<Figure size 432x288 with 1 Axes>"
            ]
          },
          "metadata": {
            "tags": [],
            "needs_background": "light"
          }
        }
      ]
    },
    {
      "cell_type": "markdown",
      "metadata": {
        "id": "1X16FoqXl9vR"
      },
      "source": [
        "Normalizando, apesar de já seguirmos uma distribuição parecida com a gaussiana"
      ]
    },
    {
      "cell_type": "code",
      "metadata": {
        "colab": {
          "base_uri": "https://localhost:8080/"
        },
        "id": "SknZ8rzLl9Sz",
        "outputId": "6c2b2584-7c17-471f-b7f4-ec182c3b6334"
      },
      "source": [
        "scaler = StandardScaler()\n",
        "dfMovie['duration_year_norm'] = scaler.fit_transform(dfMovie[['duration_year']])\n",
        "dfMovie['duration_year_norm'].describe()"
      ],
      "execution_count": 50,
      "outputs": [
        {
          "output_type": "execute_result",
          "data": {
            "text/plain": [
              "count    5.377000e+03\n",
              "mean     2.585083e-16\n",
              "std      1.000093e+00\n",
              "min     -3.359925e+00\n",
              "25%     -4.682861e-01\n",
              "50%     -5.190399e-02\n",
              "75%      5.151239e-01\n",
              "max      7.389314e+00\n",
              "Name: duration_year_norm, dtype: float64"
            ]
          },
          "metadata": {
            "tags": []
          },
          "execution_count": 50
        }
      ]
    },
    {
      "cell_type": "code",
      "metadata": {
        "colab": {
          "base_uri": "https://localhost:8080/",
          "height": 0
        },
        "id": "LRHfNPvQmKrn",
        "outputId": "016691ca-ebb9-46cf-8537-32ffc688c7a2"
      },
      "source": [
        "dfMovie['duration_year_norm'].hist()"
      ],
      "execution_count": 51,
      "outputs": [
        {
          "output_type": "execute_result",
          "data": {
            "text/plain": [
              "<matplotlib.axes._subplots.AxesSubplot at 0x7f3f2ac04b90>"
            ]
          },
          "metadata": {
            "tags": []
          },
          "execution_count": 51
        },
        {
          "output_type": "display_data",
          "data": {
            "image/png": "[encoded data removed]",
            "text/plain": [
              "<Figure size 432x288 with 1 Axes>"
            ]
          },
          "metadata": {
            "tags": [],
            "needs_background": "light"
          }
        }
      ]
    },
    {
      "cell_type": "code",
      "metadata": {
        "id": "edGgppx8mide"
      },
      "source": [
        "mad = abs(dfMovie['duration_year_norm'] - dfMovie['duration_year_norm'].median()).median()*(1/0.6745)"
      ],
      "execution_count": 52,
      "outputs": []
    },
    {
      "cell_type": "code",
      "metadata": {
        "colab": {
          "base_uri": "https://localhost:8080/",
          "height": 0
        },
        "id": "8eyV5jZnmwDy",
        "outputId": "48d39d05-13e7-4401-819e-34b38fc630cd"
      },
      "source": [
        "(abs(dfMovie['duration_year_norm']-dfMovie['duration_year_norm'].median())/mad).hist()"
      ],
      "execution_count": 53,
      "outputs": [
        {
          "output_type": "execute_result",
          "data": {
            "text/plain": [
              "<matplotlib.axes._subplots.AxesSubplot at 0x7f3f2ab933d0>"
            ]
          },
          "metadata": {
            "tags": []
          },
          "execution_count": 53
        },
        {
          "output_type": "display_data",
          "data": {
            "image/png": "[encoded data removed]",
            "text/plain": [
              "<Figure size 432x288 with 1 Axes>"
            ]
          },
          "metadata": {
            "tags": [],
            "needs_background": "light"
          }
        }
      ]
    },
    {
      "cell_type": "code",
      "metadata": {
        "colab": {
          "base_uri": "https://localhost:8080/"
        },
        "id": "E8sYZ02HnETA",
        "outputId": "a4941f0b-3eff-4495-e529-b9b20c7ac402"
      },
      "source": [
        "dfMovie2 = dfMovie[abs(dfMovie['duration_year_norm']-dfMovie['duration_year_norm'].median())/mad < 4.5]\n",
        "print(len(dfMovie2))"
      ],
      "execution_count": 54,
      "outputs": [
        {
          "output_type": "stream",
          "text": [
            "5352\n"
          ],
          "name": "stdout"
        }
      ]
    },
    {
      "cell_type": "markdown",
      "metadata": {
        "id": "JwWPiaIWneLw"
      },
      "source": [
        "Comparando os dois métodos, retiramos mais dados utilizando apenas uma variável"
      ]
    },
    {
      "cell_type": "markdown",
      "metadata": {
        "id": "nDTnpHDpkT4f"
      },
      "source": [
        "#Analisando nossas estatísticas univariadas a 'TV Show' e a 'Movie'.\n",
        "\n",
        "\n",
        "\n",
        "\n"
      ]
    },
    {
      "cell_type": "code",
      "metadata": {
        "colab": {
          "base_uri": "https://localhost:8080/"
        },
        "id": "s7dx8ZpszIgf",
        "outputId": "214b9d84-d6f4-4244-97a3-5d7553e21a63"
      },
      "source": [
        "df[df['type']=='TV Show']['duration'].describe()"
      ],
      "execution_count": 55,
      "outputs": [
        {
          "output_type": "execute_result",
          "data": {
            "text/plain": [
              "count    2410.000000\n",
              "mean        1.775934\n",
              "std         1.596359\n",
              "min         1.000000\n",
              "25%         1.000000\n",
              "50%         1.000000\n",
              "75%         2.000000\n",
              "max        16.000000\n",
              "Name: duration, dtype: float64"
            ]
          },
          "metadata": {
            "tags": []
          },
          "execution_count": 55
        }
      ]
    },
    {
      "cell_type": "code",
      "metadata": {
        "colab": {
          "base_uri": "https://localhost:8080/"
        },
        "id": "CWxopkkQsiOu",
        "outputId": "4f2499d7-58d6-4718-b002-38fc2d209f47"
      },
      "source": [
        "df[df['type']=='Movie']['duration'].describe()"
      ],
      "execution_count": 56,
      "outputs": [
        {
          "output_type": "execute_result",
          "data": {
            "text/plain": [
              "count    5377.000000\n",
              "mean       99.307978\n",
              "std        28.530881\n",
              "min         3.000000\n",
              "25%        86.000000\n",
              "50%        98.000000\n",
              "75%       114.000000\n",
              "max       312.000000\n",
              "Name: duration, dtype: float64"
            ]
          },
          "metadata": {
            "tags": []
          },
          "execution_count": 56
        }
      ]
    },
    {
      "cell_type": "markdown",
      "metadata": {
        "id": "RTc-_W-Tzc2O"
      },
      "source": [
        "Podemos ver que temos um filme com duração de 3 minutos, vamos ver melhor que filme é esse."
      ]
    },
    {
      "cell_type": "code",
      "metadata": {
        "colab": {
          "base_uri": "https://localhost:8080/",
          "height": 241
        },
        "id": "3hhwyZuuzodi",
        "outputId": "ec00aedb-3a42-49c9-e588-ef548d5c19e5"
      },
      "source": [
        "df.loc[(df['duration'] < 10) & (df['type'] == 'Movie')]"
      ],
      "execution_count": 57,
      "outputs": [
        {
          "output_type": "execute_result",
          "data": {
            "text/html": [
              "<div>\n",
              "<style scoped>\n",
              "    .dataframe tbody tr th:only-of-type {\n",
              "        vertical-align: middle;\n",
              "    }\n",
              "\n",
              "    .dataframe tbody tr th {\n",
              "        vertical-align: top;\n",
              "    }\n",
              "\n",
              "    .dataframe thead th {\n",
              "        text-align: right;\n",
              "    }\n",
              "</style>\n",
              "<table border=\"1\" class=\"dataframe\">\n",
              "  <thead>\n",
              "    <tr style=\"text-align: right;\">\n",
              "      <th></th>\n",
              "      <th>show_id</th>\n",
              "      <th>type</th>\n",
              "      <th>title</th>\n",
              "      <th>director</th>\n",
              "      <th>cast</th>\n",
              "      <th>country</th>\n",
              "      <th>date_added</th>\n",
              "      <th>release_year</th>\n",
              "      <th>rating</th>\n",
              "      <th>duration</th>\n",
              "      <th>listed_in</th>\n",
              "      <th>description</th>\n",
              "      <th>main_country</th>\n",
              "      <th>year_added</th>\n",
              "    </tr>\n",
              "  </thead>\n",
              "  <tbody>\n",
              "    <tr>\n",
              "      <th>1203</th>\n",
              "      <td>s1204</td>\n",
              "      <td>Movie</td>\n",
              "      <td>Canvas</td>\n",
              "      <td>Frank E. Abney III</td>\n",
              "      <td>desconhecido</td>\n",
              "      <td>United States</td>\n",
              "      <td>2020-12-11</td>\n",
              "      <td>2020</td>\n",
              "      <td>G</td>\n",
              "      <td>9</td>\n",
              "      <td>Children &amp; Family Movies, Dramas</td>\n",
              "      <td>After a heartbreaking loss, a grandfather stru...</td>\n",
              "      <td>United States</td>\n",
              "      <td>2020</td>\n",
              "    </tr>\n",
              "    <tr>\n",
              "      <th>1501</th>\n",
              "      <td>s1502</td>\n",
              "      <td>Movie</td>\n",
              "      <td>Cops and Robbers</td>\n",
              "      <td>Arnon Manor, Timothy Ware-Hill</td>\n",
              "      <td>Timothy Ware-Hill</td>\n",
              "      <td>United States</td>\n",
              "      <td>2020-12-28</td>\n",
              "      <td>2020</td>\n",
              "      <td>PG-13</td>\n",
              "      <td>8</td>\n",
              "      <td>Dramas</td>\n",
              "      <td>Animation and activism unite in this multimedi...</td>\n",
              "      <td>United States</td>\n",
              "      <td>2020</td>\n",
              "    </tr>\n",
              "    <tr>\n",
              "      <th>5605</th>\n",
              "      <td>s5606</td>\n",
              "      <td>Movie</td>\n",
              "      <td>Silent</td>\n",
              "      <td>Limbert Fabian, Brandon Oldenburg</td>\n",
              "      <td>desconhecido</td>\n",
              "      <td>United States</td>\n",
              "      <td>2019-06-04</td>\n",
              "      <td>2014</td>\n",
              "      <td>TV-Y</td>\n",
              "      <td>3</td>\n",
              "      <td>Children &amp; Family Movies, Sci-Fi &amp; Fantasy</td>\n",
              "      <td>\"Silent\" is an animated short film created by ...</td>\n",
              "      <td>United States</td>\n",
              "      <td>2019</td>\n",
              "    </tr>\n",
              "    <tr>\n",
              "      <th>5694</th>\n",
              "      <td>s5695</td>\n",
              "      <td>Movie</td>\n",
              "      <td>Sol Levante</td>\n",
              "      <td>Akira Saitoh</td>\n",
              "      <td>desconhecido</td>\n",
              "      <td>Japan</td>\n",
              "      <td>2020-04-02</td>\n",
              "      <td>2020</td>\n",
              "      <td>TV-14</td>\n",
              "      <td>5</td>\n",
              "      <td>Action &amp; Adventure, Anime Features, Internatio...</td>\n",
              "      <td>A young warrior and her familiar search for th...</td>\n",
              "      <td>Japan</td>\n",
              "      <td>2020</td>\n",
              "    </tr>\n",
              "  </tbody>\n",
              "</table>\n",
              "</div>"
            ],
            "text/plain": [
              "     show_id   type  ...   main_country year_added\n",
              "1203   s1204  Movie  ...  United States       2020\n",
              "1501   s1502  Movie  ...  United States       2020\n",
              "5605   s5606  Movie  ...  United States       2019\n",
              "5694   s5695  Movie  ...          Japan       2020\n",
              "\n",
              "[4 rows x 14 columns]"
            ]
          },
          "metadata": {
            "tags": []
          },
          "execution_count": 57
        }
      ]
    },
    {
      "cell_type": "markdown",
      "metadata": {
        "id": "lqES-Llm0pOg"
      },
      "source": [
        "Dessa forma temos a confirmação de que nosso dataset contém curtas, que também são considerados filmes."
      ]
    },
    {
      "cell_type": "markdown",
      "metadata": {
        "id": "spUriI4n9NYg"
      },
      "source": [
        "* Veremos também agora as estatísticas univariadas para os anos de lançamento"
      ]
    },
    {
      "cell_type": "code",
      "metadata": {
        "colab": {
          "base_uri": "https://localhost:8080/"
        },
        "id": "0HcZws-BBZrZ",
        "outputId": "5a4108ec-211d-48a9-e3e8-19a0c6a9571d"
      },
      "source": [
        "df['release_year'].describe()"
      ],
      "execution_count": 58,
      "outputs": [
        {
          "output_type": "execute_result",
          "data": {
            "text/plain": [
              "count    7787.000000\n",
              "mean     2013.932580\n",
              "std         8.757395\n",
              "min      1925.000000\n",
              "25%      2013.000000\n",
              "50%      2017.000000\n",
              "75%      2018.000000\n",
              "max      2021.000000\n",
              "Name: release_year, dtype: float64"
            ]
          },
          "metadata": {
            "tags": []
          },
          "execution_count": 58
        }
      ]
    },
    {
      "cell_type": "markdown",
      "metadata": {
        "id": "0X2l8Cl3CHvl"
      },
      "source": [
        "# Analisando agora estatísticas bivariadas teremos:"
      ]
    },
    {
      "cell_type": "code",
      "metadata": {
        "colab": {
          "base_uri": "https://localhost:8080/",
          "height": 0
        },
        "id": "6gIZ_YQFCNZU",
        "outputId": "cb3b89f7-5d69-4d09-8aaa-d716aa5330ce"
      },
      "source": [
        "df[df.type=='Movie'].corr(method='spearman')"
      ],
      "execution_count": 59,
      "outputs": [
        {
          "output_type": "execute_result",
          "data": {
            "text/html": [
              "<div>\n",
              "<style scoped>\n",
              "    .dataframe tbody tr th:only-of-type {\n",
              "        vertical-align: middle;\n",
              "    }\n",
              "\n",
              "    .dataframe tbody tr th {\n",
              "        vertical-align: top;\n",
              "    }\n",
              "\n",
              "    .dataframe thead th {\n",
              "        text-align: right;\n",
              "    }\n",
              "</style>\n",
              "<table border=\"1\" class=\"dataframe\">\n",
              "  <thead>\n",
              "    <tr style=\"text-align: right;\">\n",
              "      <th></th>\n",
              "      <th>release_year</th>\n",
              "      <th>duration</th>\n",
              "      <th>year_added</th>\n",
              "    </tr>\n",
              "  </thead>\n",
              "  <tbody>\n",
              "    <tr>\n",
              "      <th>release_year</th>\n",
              "      <td>1.000000</td>\n",
              "      <td>-0.210483</td>\n",
              "      <td>0.224301</td>\n",
              "    </tr>\n",
              "    <tr>\n",
              "      <th>duration</th>\n",
              "      <td>-0.210483</td>\n",
              "      <td>1.000000</td>\n",
              "      <td>0.138488</td>\n",
              "    </tr>\n",
              "    <tr>\n",
              "      <th>year_added</th>\n",
              "      <td>0.224301</td>\n",
              "      <td>0.138488</td>\n",
              "      <td>1.000000</td>\n",
              "    </tr>\n",
              "  </tbody>\n",
              "</table>\n",
              "</div>"
            ],
            "text/plain": [
              "              release_year  duration  year_added\n",
              "release_year      1.000000 -0.210483    0.224301\n",
              "duration         -0.210483  1.000000    0.138488\n",
              "year_added        0.224301  0.138488    1.000000"
            ]
          },
          "metadata": {
            "tags": []
          },
          "execution_count": 59
        }
      ]
    },
    {
      "cell_type": "markdown",
      "metadata": {
        "id": "NFp8Vt00FNh-"
      },
      "source": [
        "dessa forma podemos notar que conforme o tempo foi passando a duração dos filmes foi diminuindo"
      ]
    },
    {
      "cell_type": "code",
      "metadata": {
        "colab": {
          "base_uri": "https://localhost:8080/",
          "height": 0
        },
        "id": "3wGCxdWybjFj",
        "outputId": "d894ab3b-d8d1-4dbd-cbad-5a9126f96639"
      },
      "source": [
        "sns.lmplot(x=\"release_year\", y='duration', data=dfMovie)\n"
      ],
      "execution_count": 60,
      "outputs": [
        {
          "output_type": "execute_result",
          "data": {
            "text/plain": [
              "<seaborn.axisgrid.FacetGrid at 0x7f3f2aab60d0>"
            ]
          },
          "metadata": {
            "tags": []
          },
          "execution_count": 60
        },
        {
          "output_type": "display_data",
          "data": {
            "image/png": "[encoded data removed]",
            "text/plain": [
              "<Figure size 360x360 with 1 Axes>"
            ]
          },
          "metadata": {
            "tags": [],
            "needs_background": "light"
          }
        }
      ]
    },
    {
      "cell_type": "markdown",
      "metadata": {
        "id": "Ht7VJvXpn7u7"
      },
      "source": [
        "Podemos ver que conforme o tempo passa os filmes vem ficando mais curtos, confirmando graficamente o que foi observado"
      ]
    },
    {
      "cell_type": "markdown",
      "metadata": {
        "id": "0wj5e-TIp9sU"
      },
      "source": [
        "# Realizando agora uma análise descritiva dos nossos dados"
      ]
    },
    {
      "cell_type": "markdown",
      "metadata": {
        "id": "1l98qPevqHuV"
      },
      "source": [
        "### Comparando as quantidades de filmes e de TV Shows"
      ]
    },
    {
      "cell_type": "code",
      "metadata": {
        "colab": {
          "base_uri": "https://localhost:8080/",
          "height": 0
        },
        "id": "5_wyYTs0qbJH",
        "outputId": "2f9d54a2-568d-47e8-b257-a09b4ee0b822"
      },
      "source": [
        "sns.countplot(y=\"type\",data=df)"
      ],
      "execution_count": 61,
      "outputs": [
        {
          "output_type": "execute_result",
          "data": {
            "text/plain": [
              "<matplotlib.axes._subplots.AxesSubplot at 0x7f3f22243250>"
            ]
          },
          "metadata": {
            "tags": []
          },
          "execution_count": 61
        },
        {
          "output_type": "display_data",
          "data": {
            "image/png": "[encoded data removed]",
            "text/plain": [
              "<Figure size 432x288 with 1 Axes>"
            ]
          },
          "metadata": {
            "tags": [],
            "needs_background": "light"
          }
        }
      ]
    },
    {
      "cell_type": "markdown",
      "metadata": {
        "id": "mKWVpGigqnaX"
      },
      "source": [
        "### Comparando por ano de lançamento de filme"
      ]
    },
    {
      "cell_type": "code",
      "metadata": {
        "colab": {
          "base_uri": "https://localhost:8080/",
          "height": 0
        },
        "id": "6KnLwriiquTe",
        "outputId": "471b30eb-7761-44a2-c19f-7c54328f211a"
      },
      "source": [
        "sns.countplot(y=\"release_year_dist\",data=dfMovie)"
      ],
      "execution_count": 62,
      "outputs": [
        {
          "output_type": "execute_result",
          "data": {
            "text/plain": [
              "<matplotlib.axes._subplots.AxesSubplot at 0x7f3f22223990>"
            ]
          },
          "metadata": {
            "tags": []
          },
          "execution_count": 62
        },
        {
          "output_type": "display_data",
          "data": {
            "image/png": "[encoded data removed]",
            "text/plain": [
              "<Figure size 432x288 with 1 Axes>"
            ]
          },
          "metadata": {
            "tags": [],
            "needs_background": "light"
          }
        }
      ]
    },
    {
      "cell_type": "markdown",
      "metadata": {
        "id": "3wXjU1SbsAhq"
      },
      "source": [
        "Podemos ver aqui que temos a maioria dos filmes na netflix foram lançados entre 2016 e 2018"
      ]
    },
    {
      "cell_type": "markdown",
      "metadata": {
        "id": "UNfcFiPT_W1g"
      },
      "source": [
        "### Agora vamos analisar a distribuição de adição de títulos à netflix ao longo dos anos"
      ]
    },
    {
      "cell_type": "code",
      "metadata": {
        "colab": {
          "base_uri": "https://localhost:8080/",
          "height": 0
        },
        "id": "uqWn4tWo_one",
        "outputId": "83c00a84-a7d5-49c9-cb51-7cfc8d4c7072"
      },
      "source": [
        "sns.countplot(y=\"year_added\",data=df)"
      ],
      "execution_count": 63,
      "outputs": [
        {
          "output_type": "execute_result",
          "data": {
            "text/plain": [
              "<matplotlib.axes._subplots.AxesSubplot at 0x7f3f2218c510>"
            ]
          },
          "metadata": {
            "tags": []
          },
          "execution_count": 63
        },
        {
          "output_type": "display_data",
          "data": {
            "image/png": "[encoded data removed]",
            "text/plain": [
              "<Figure size 432x288 with 1 Axes>"
            ]
          },
          "metadata": {
            "tags": [],
            "needs_background": "light"
          }
        }
      ]
    },
    {
      "cell_type": "markdown",
      "metadata": {
        "id": "-G1TveLC_zzO"
      },
      "source": [
        "Aqui podemos ver que o ano que a netflix mais adicionou títulos foi em 2019"
      ]
    },
    {
      "cell_type": "markdown",
      "metadata": {
        "id": "VlEWV64LxM_p"
      },
      "source": [
        "### Analisando as classificações indicativas de séries e filmes, respectivamente."
      ]
    },
    {
      "cell_type": "code",
      "metadata": {
        "colab": {
          "base_uri": "https://localhost:8080/",
          "height": 0
        },
        "id": "KP4D705Tsd4d",
        "outputId": "7da4f88a-023f-48f4-92bb-6f9eb7056b26"
      },
      "source": [
        "sns.countplot(y=\"rating\",data=dfShow)"
      ],
      "execution_count": 64,
      "outputs": [
        {
          "output_type": "execute_result",
          "data": {
            "text/plain": [
              "<matplotlib.axes._subplots.AxesSubplot at 0x7f3f2209a790>"
            ]
          },
          "metadata": {
            "tags": []
          },
          "execution_count": 64
        },
        {
          "output_type": "display_data",
          "data": {
            "image/png": "[encoded data removed]",
            "text/plain": [
              "<Figure size 432x288 with 1 Axes>"
            ]
          },
          "metadata": {
            "tags": [],
            "needs_background": "light"
          }
        }
      ]
    },
    {
      "cell_type": "markdown",
      "metadata": {
        "id": "c5CfwmVgsxU7"
      },
      "source": [
        "Podemos ver que não temos nenhuma série para maior de idade no nosso conjunto de dados"
      ]
    },
    {
      "cell_type": "code",
      "metadata": {
        "colab": {
          "base_uri": "https://localhost:8080/",
          "height": 0
        },
        "id": "E3phE914uorx",
        "outputId": "cb988ff3-7007-4797-d37d-052be39a991e"
      },
      "source": [
        "sns.countplot(y=\"rating\",data=dfMovie)"
      ],
      "execution_count": 65,
      "outputs": [
        {
          "output_type": "execute_result",
          "data": {
            "text/plain": [
              "<matplotlib.axes._subplots.AxesSubplot at 0x7f3f2203d690>"
            ]
          },
          "metadata": {
            "tags": []
          },
          "execution_count": 65
        },
        {
          "output_type": "display_data",
          "data": {
            "image/png": "[encoded data removed]",
            "text/plain": [
              "<Figure size 432x288 with 1 Axes>"
            ]
          },
          "metadata": {
            "tags": [],
            "needs_background": "light"
          }
        }
      ]
    },
    {
      "cell_type": "markdown",
      "metadata": {
        "id": "_Tz4uFdVxApN"
      },
      "source": [
        "Podemos ver aqui que temos filmes para praticamente todas as idades na netflix"
      ]
    },
    {
      "cell_type": "markdown",
      "metadata": {
        "id": "37yImv4p2_dR"
      },
      "source": [
        "### Vendo agora a distribuição da duração dos nossos filmes/curtas temos o seguinte histograma"
      ]
    },
    {
      "cell_type": "code",
      "metadata": {
        "colab": {
          "base_uri": "https://localhost:8080/",
          "height": 0
        },
        "id": "Z4GDxTT_2ckA",
        "outputId": "73985cd7-1c41-49fc-cd80-c1b76841c068"
      },
      "source": [
        "sns.histplot(data=dfMovie['duration'],  kde=True)"
      ],
      "execution_count": 66,
      "outputs": [
        {
          "output_type": "execute_result",
          "data": {
            "text/plain": [
              "<matplotlib.axes._subplots.AxesSubplot at 0x7f3f2ac6cb90>"
            ]
          },
          "metadata": {
            "tags": []
          },
          "execution_count": 66
        },
        {
          "output_type": "display_data",
          "data": {
            "image/png": "[encoded data removed]",
            "text/plain": [
              "<Figure size 432x288 with 1 Axes>"
            ]
          },
          "metadata": {
            "tags": [],
            "needs_background": "light"
          }
        }
      ]
    },
    {
      "cell_type": "markdown",
      "metadata": {
        "id": "ZJPprSNN3k-F"
      },
      "source": [
        "### Agora por países"
      ]
    },
    {
      "cell_type": "code",
      "metadata": {
        "id": "myStKNzS3pAk"
      },
      "source": [
        "#sns.countplot(y='main_country',data=df)"
      ],
      "execution_count": 67,
      "outputs": []
    },
    {
      "cell_type": "code",
      "metadata": {
        "colab": {
          "base_uri": "https://localhost:8080/",
          "height": 0
        },
        "id": "gRrUd4AGAAV_",
        "outputId": "76f75ad2-8117-49ee-9cfe-cd7f97bda08a"
      },
      "source": [
        "df_country_counts = df['main_country'].value_counts(ascending=False).to_frame()\n",
        "df_country_counts = df_country_counts.reset_index()\n",
        "df_country_counts.columns = ['unique_values', 'counts for main_country']\n",
        "df_top_ten = df_country_counts[:10]\n",
        "df_top_ten"
      ],
      "execution_count": 68,
      "outputs": [
        {
          "output_type": "execute_result",
          "data": {
            "text/html": [
              "<div>\n",
              "<style scoped>\n",
              "    .dataframe tbody tr th:only-of-type {\n",
              "        vertical-align: middle;\n",
              "    }\n",
              "\n",
              "    .dataframe tbody tr th {\n",
              "        vertical-align: top;\n",
              "    }\n",
              "\n",
              "    .dataframe thead th {\n",
              "        text-align: right;\n",
              "    }\n",
              "</style>\n",
              "<table border=\"1\" class=\"dataframe\">\n",
              "  <thead>\n",
              "    <tr style=\"text-align: right;\">\n",
              "      <th></th>\n",
              "      <th>unique_values</th>\n",
              "      <th>counts for main_country</th>\n",
              "    </tr>\n",
              "  </thead>\n",
              "  <tbody>\n",
              "    <tr>\n",
              "      <th>0</th>\n",
              "      <td>United States</td>\n",
              "      <td>3390</td>\n",
              "    </tr>\n",
              "    <tr>\n",
              "      <th>1</th>\n",
              "      <td>India</td>\n",
              "      <td>956</td>\n",
              "    </tr>\n",
              "    <tr>\n",
              "      <th>2</th>\n",
              "      <td>United Kingdom</td>\n",
              "      <td>577</td>\n",
              "    </tr>\n",
              "    <tr>\n",
              "      <th>3</th>\n",
              "      <td>Canada</td>\n",
              "      <td>259</td>\n",
              "    </tr>\n",
              "    <tr>\n",
              "      <th>4</th>\n",
              "      <td>Japan</td>\n",
              "      <td>237</td>\n",
              "    </tr>\n",
              "    <tr>\n",
              "      <th>5</th>\n",
              "      <td>France</td>\n",
              "      <td>196</td>\n",
              "    </tr>\n",
              "    <tr>\n",
              "      <th>6</th>\n",
              "      <td>South Korea</td>\n",
              "      <td>194</td>\n",
              "    </tr>\n",
              "    <tr>\n",
              "      <th>7</th>\n",
              "      <td>Spain</td>\n",
              "      <td>168</td>\n",
              "    </tr>\n",
              "    <tr>\n",
              "      <th>8</th>\n",
              "      <td>Mexico</td>\n",
              "      <td>123</td>\n",
              "    </tr>\n",
              "    <tr>\n",
              "      <th>9</th>\n",
              "      <td>Australia</td>\n",
              "      <td>108</td>\n",
              "    </tr>\n",
              "  </tbody>\n",
              "</table>\n",
              "</div>"
            ],
            "text/plain": [
              "    unique_values  counts for main_country\n",
              "0   United States                     3390\n",
              "1           India                      956\n",
              "2  United Kingdom                      577\n",
              "3          Canada                      259\n",
              "4           Japan                      237\n",
              "5          France                      196\n",
              "6     South Korea                      194\n",
              "7           Spain                      168\n",
              "8          Mexico                      123\n",
              "9       Australia                      108"
            ]
          },
          "metadata": {
            "tags": []
          },
          "execution_count": 68
        }
      ]
    },
    {
      "cell_type": "markdown",
      "metadata": {
        "id": "SzeQroHexqHI"
      },
      "source": [
        "# Carregando dois novos datasets de [IMDB](https://www.imdb.com/interfaces/). Um contendo os títulos de filmes e séries e outro contendo avaliações dadas por espectadores"
      ]
    },
    {
      "cell_type": "code",
      "metadata": {
        "id": "nFgyJNMxzFvn"
      },
      "source": [
        "dfTitles = pd.read_csv(\"data.tsv\", sep='\\t')\n",
        "dfNotas = pd.read_csv(\"notas.tsv\", sep='\\t')"
      ],
      "execution_count": 69,
      "outputs": []
    },
    {
      "cell_type": "code",
      "metadata": {
        "colab": {
          "base_uri": "https://localhost:8080/",
          "height": 0
        },
        "id": "i_dWFWZkza0u",
        "outputId": "859eb021-9361-49f1-c907-8e091fbb75a1"
      },
      "source": [
        "dfTitles.head()"
      ],
      "execution_count": 70,
      "outputs": [
        {
          "output_type": "execute_result",
          "data": {
            "text/html": [
              "<div>\n",
              "<style scoped>\n",
              "    .dataframe tbody tr th:only-of-type {\n",
              "        vertical-align: middle;\n",
              "    }\n",
              "\n",
              "    .dataframe tbody tr th {\n",
              "        vertical-align: top;\n",
              "    }\n",
              "\n",
              "    .dataframe thead th {\n",
              "        text-align: right;\n",
              "    }\n",
              "</style>\n",
              "<table border=\"1\" class=\"dataframe\">\n",
              "  <thead>\n",
              "    <tr style=\"text-align: right;\">\n",
              "      <th></th>\n",
              "      <th>tconst</th>\n",
              "      <th>titleType</th>\n",
              "      <th>primaryTitle</th>\n",
              "      <th>originalTitle</th>\n",
              "      <th>isAdult</th>\n",
              "      <th>startYear</th>\n",
              "      <th>endYear</th>\n",
              "      <th>runtimeMinutes</th>\n",
              "      <th>genres</th>\n",
              "    </tr>\n",
              "  </thead>\n",
              "  <tbody>\n",
              "    <tr>\n",
              "      <th>0</th>\n",
              "      <td>tt0000001</td>\n",
              "      <td>short</td>\n",
              "      <td>Carmencita</td>\n",
              "      <td>Carmencita</td>\n",
              "      <td>0</td>\n",
              "      <td>1894</td>\n",
              "      <td>\\N</td>\n",
              "      <td>1</td>\n",
              "      <td>Documentary,Short</td>\n",
              "    </tr>\n",
              "    <tr>\n",
              "      <th>1</th>\n",
              "      <td>tt0000002</td>\n",
              "      <td>short</td>\n",
              "      <td>Le clown et ses chiens</td>\n",
              "      <td>Le clown et ses chiens</td>\n",
              "      <td>0</td>\n",
              "      <td>1892</td>\n",
              "      <td>\\N</td>\n",
              "      <td>5</td>\n",
              "      <td>Animation,Short</td>\n",
              "    </tr>\n",
              "    <tr>\n",
              "      <th>2</th>\n",
              "      <td>tt0000003</td>\n",
              "      <td>short</td>\n",
              "      <td>Pauvre Pierrot</td>\n",
              "      <td>Pauvre Pierrot</td>\n",
              "      <td>0</td>\n",
              "      <td>1892</td>\n",
              "      <td>\\N</td>\n",
              "      <td>4</td>\n",
              "      <td>Animation,Comedy,Romance</td>\n",
              "    </tr>\n",
              "    <tr>\n",
              "      <th>3</th>\n",
              "      <td>tt0000004</td>\n",
              "      <td>short</td>\n",
              "      <td>Un bon bock</td>\n",
              "      <td>Un bon bock</td>\n",
              "      <td>0</td>\n",
              "      <td>1892</td>\n",
              "      <td>\\N</td>\n",
              "      <td>12</td>\n",
              "      <td>Animation,Short</td>\n",
              "    </tr>\n",
              "    <tr>\n",
              "      <th>4</th>\n",
              "      <td>tt0000005</td>\n",
              "      <td>short</td>\n",
              "      <td>Blacksmith Scene</td>\n",
              "      <td>Blacksmith Scene</td>\n",
              "      <td>0</td>\n",
              "      <td>1893</td>\n",
              "      <td>\\N</td>\n",
              "      <td>1</td>\n",
              "      <td>Comedy,Short</td>\n",
              "    </tr>\n",
              "  </tbody>\n",
              "</table>\n",
              "</div>"
            ],
            "text/plain": [
              "      tconst titleType  ... runtimeMinutes                    genres\n",
              "0  tt0000001     short  ...              1         Documentary,Short\n",
              "1  tt0000002     short  ...              5           Animation,Short\n",
              "2  tt0000003     short  ...              4  Animation,Comedy,Romance\n",
              "3  tt0000004     short  ...             12           Animation,Short\n",
              "4  tt0000005     short  ...              1              Comedy,Short\n",
              "\n",
              "[5 rows x 9 columns]"
            ]
          },
          "metadata": {
            "tags": []
          },
          "execution_count": 70
        }
      ]
    },
    {
      "cell_type": "code",
      "metadata": {
        "colab": {
          "base_uri": "https://localhost:8080/",
          "height": 0
        },
        "id": "bAs8yqUoICKZ",
        "outputId": "80b6f312-23f3-40af-9cec-b0406df854f3"
      },
      "source": [
        "dfTitles.tail(10)"
      ],
      "execution_count": 71,
      "outputs": [
        {
          "output_type": "execute_result",
          "data": {
            "text/html": [
              "<div>\n",
              "<style scoped>\n",
              "    .dataframe tbody tr th:only-of-type {\n",
              "        vertical-align: middle;\n",
              "    }\n",
              "\n",
              "    .dataframe tbody tr th {\n",
              "        vertical-align: top;\n",
              "    }\n",
              "\n",
              "    .dataframe thead th {\n",
              "        text-align: right;\n",
              "    }\n",
              "</style>\n",
              "<table border=\"1\" class=\"dataframe\">\n",
              "  <thead>\n",
              "    <tr style=\"text-align: right;\">\n",
              "      <th></th>\n",
              "      <th>tconst</th>\n",
              "      <th>titleType</th>\n",
              "      <th>primaryTitle</th>\n",
              "      <th>originalTitle</th>\n",
              "      <th>isAdult</th>\n",
              "      <th>startYear</th>\n",
              "      <th>endYear</th>\n",
              "      <th>runtimeMinutes</th>\n",
              "      <th>genres</th>\n",
              "    </tr>\n",
              "  </thead>\n",
              "  <tbody>\n",
              "    <tr>\n",
              "      <th>8084304</th>\n",
              "      <td>tt9916838</td>\n",
              "      <td>tvEpisode</td>\n",
              "      <td>Episode #3.13</td>\n",
              "      <td>Episode #3.13</td>\n",
              "      <td>0</td>\n",
              "      <td>2010</td>\n",
              "      <td>\\N</td>\n",
              "      <td>\\N</td>\n",
              "      <td>Action,Drama,Family</td>\n",
              "    </tr>\n",
              "    <tr>\n",
              "      <th>8084305</th>\n",
              "      <td>tt9916840</td>\n",
              "      <td>tvEpisode</td>\n",
              "      <td>Horrid Henry's Comic Caper</td>\n",
              "      <td>Horrid Henry's Comic Caper</td>\n",
              "      <td>0</td>\n",
              "      <td>2014</td>\n",
              "      <td>\\N</td>\n",
              "      <td>11</td>\n",
              "      <td>Animation,Comedy,Family</td>\n",
              "    </tr>\n",
              "    <tr>\n",
              "      <th>8084306</th>\n",
              "      <td>tt9916842</td>\n",
              "      <td>tvEpisode</td>\n",
              "      <td>Episode #3.16</td>\n",
              "      <td>Episode #3.16</td>\n",
              "      <td>0</td>\n",
              "      <td>2010</td>\n",
              "      <td>\\N</td>\n",
              "      <td>\\N</td>\n",
              "      <td>Action,Drama,Family</td>\n",
              "    </tr>\n",
              "    <tr>\n",
              "      <th>8084307</th>\n",
              "      <td>tt9916844</td>\n",
              "      <td>tvEpisode</td>\n",
              "      <td>Episode #3.15</td>\n",
              "      <td>Episode #3.15</td>\n",
              "      <td>0</td>\n",
              "      <td>2010</td>\n",
              "      <td>\\N</td>\n",
              "      <td>\\N</td>\n",
              "      <td>Action,Drama,Family</td>\n",
              "    </tr>\n",
              "    <tr>\n",
              "      <th>8084308</th>\n",
              "      <td>tt9916846</td>\n",
              "      <td>tvEpisode</td>\n",
              "      <td>Episode #3.18</td>\n",
              "      <td>Episode #3.18</td>\n",
              "      <td>0</td>\n",
              "      <td>2010</td>\n",
              "      <td>\\N</td>\n",
              "      <td>\\N</td>\n",
              "      <td>Action,Drama,Family</td>\n",
              "    </tr>\n",
              "    <tr>\n",
              "      <th>8084309</th>\n",
              "      <td>tt9916848</td>\n",
              "      <td>tvEpisode</td>\n",
              "      <td>Episode #3.17</td>\n",
              "      <td>Episode #3.17</td>\n",
              "      <td>0</td>\n",
              "      <td>2010</td>\n",
              "      <td>\\N</td>\n",
              "      <td>\\N</td>\n",
              "      <td>Action,Drama,Family</td>\n",
              "    </tr>\n",
              "    <tr>\n",
              "      <th>8084310</th>\n",
              "      <td>tt9916850</td>\n",
              "      <td>tvEpisode</td>\n",
              "      <td>Episode #3.19</td>\n",
              "      <td>Episode #3.19</td>\n",
              "      <td>0</td>\n",
              "      <td>2010</td>\n",
              "      <td>\\N</td>\n",
              "      <td>\\N</td>\n",
              "      <td>Action,Drama,Family</td>\n",
              "    </tr>\n",
              "    <tr>\n",
              "      <th>8084311</th>\n",
              "      <td>tt9916852</td>\n",
              "      <td>tvEpisode</td>\n",
              "      <td>Episode #3.20</td>\n",
              "      <td>Episode #3.20</td>\n",
              "      <td>0</td>\n",
              "      <td>2010</td>\n",
              "      <td>\\N</td>\n",
              "      <td>\\N</td>\n",
              "      <td>Action,Drama,Family</td>\n",
              "    </tr>\n",
              "    <tr>\n",
              "      <th>8084312</th>\n",
              "      <td>tt9916856</td>\n",
              "      <td>short</td>\n",
              "      <td>The Wind</td>\n",
              "      <td>The Wind</td>\n",
              "      <td>0</td>\n",
              "      <td>2015</td>\n",
              "      <td>\\N</td>\n",
              "      <td>27</td>\n",
              "      <td>Short</td>\n",
              "    </tr>\n",
              "    <tr>\n",
              "      <th>8084313</th>\n",
              "      <td>tt9916880</td>\n",
              "      <td>tvEpisode</td>\n",
              "      <td>Horrid Henry Knows It All</td>\n",
              "      <td>Horrid Henry Knows It All</td>\n",
              "      <td>0</td>\n",
              "      <td>2014</td>\n",
              "      <td>\\N</td>\n",
              "      <td>10</td>\n",
              "      <td>Animation,Comedy,Family</td>\n",
              "    </tr>\n",
              "  </tbody>\n",
              "</table>\n",
              "</div>"
            ],
            "text/plain": [
              "            tconst  titleType  ... runtimeMinutes                   genres\n",
              "8084304  tt9916838  tvEpisode  ...             \\N      Action,Drama,Family\n",
              "8084305  tt9916840  tvEpisode  ...             11  Animation,Comedy,Family\n",
              "8084306  tt9916842  tvEpisode  ...             \\N      Action,Drama,Family\n",
              "8084307  tt9916844  tvEpisode  ...             \\N      Action,Drama,Family\n",
              "8084308  tt9916846  tvEpisode  ...             \\N      Action,Drama,Family\n",
              "8084309  tt9916848  tvEpisode  ...             \\N      Action,Drama,Family\n",
              "8084310  tt9916850  tvEpisode  ...             \\N      Action,Drama,Family\n",
              "8084311  tt9916852  tvEpisode  ...             \\N      Action,Drama,Family\n",
              "8084312  tt9916856      short  ...             27                    Short\n",
              "8084313  tt9916880  tvEpisode  ...             10  Animation,Comedy,Family\n",
              "\n",
              "[10 rows x 9 columns]"
            ]
          },
          "metadata": {
            "tags": []
          },
          "execution_count": 71
        }
      ]
    },
    {
      "cell_type": "code",
      "metadata": {
        "colab": {
          "base_uri": "https://localhost:8080/",
          "height": 0
        },
        "id": "1KdY2XJozsPu",
        "outputId": "52f08090-9c2d-4902-bd90-3621b042cead"
      },
      "source": [
        "dfNotas.head()"
      ],
      "execution_count": 72,
      "outputs": [
        {
          "output_type": "execute_result",
          "data": {
            "text/html": [
              "<div>\n",
              "<style scoped>\n",
              "    .dataframe tbody tr th:only-of-type {\n",
              "        vertical-align: middle;\n",
              "    }\n",
              "\n",
              "    .dataframe tbody tr th {\n",
              "        vertical-align: top;\n",
              "    }\n",
              "\n",
              "    .dataframe thead th {\n",
              "        text-align: right;\n",
              "    }\n",
              "</style>\n",
              "<table border=\"1\" class=\"dataframe\">\n",
              "  <thead>\n",
              "    <tr style=\"text-align: right;\">\n",
              "      <th></th>\n",
              "      <th>tconst</th>\n",
              "      <th>averageRating</th>\n",
              "      <th>numVotes</th>\n",
              "    </tr>\n",
              "  </thead>\n",
              "  <tbody>\n",
              "    <tr>\n",
              "      <th>0</th>\n",
              "      <td>tt0000001</td>\n",
              "      <td>5.7</td>\n",
              "      <td>1722</td>\n",
              "    </tr>\n",
              "    <tr>\n",
              "      <th>1</th>\n",
              "      <td>tt0000002</td>\n",
              "      <td>6.0</td>\n",
              "      <td>211</td>\n",
              "    </tr>\n",
              "    <tr>\n",
              "      <th>2</th>\n",
              "      <td>tt0000003</td>\n",
              "      <td>6.5</td>\n",
              "      <td>1484</td>\n",
              "    </tr>\n",
              "    <tr>\n",
              "      <th>3</th>\n",
              "      <td>tt0000004</td>\n",
              "      <td>6.1</td>\n",
              "      <td>124</td>\n",
              "    </tr>\n",
              "    <tr>\n",
              "      <th>4</th>\n",
              "      <td>tt0000005</td>\n",
              "      <td>6.2</td>\n",
              "      <td>2286</td>\n",
              "    </tr>\n",
              "  </tbody>\n",
              "</table>\n",
              "</div>"
            ],
            "text/plain": [
              "      tconst  averageRating  numVotes\n",
              "0  tt0000001            5.7      1722\n",
              "1  tt0000002            6.0       211\n",
              "2  tt0000003            6.5      1484\n",
              "3  tt0000004            6.1       124\n",
              "4  tt0000005            6.2      2286"
            ]
          },
          "metadata": {
            "tags": []
          },
          "execution_count": 72
        }
      ]
    },
    {
      "cell_type": "code",
      "metadata": {
        "colab": {
          "base_uri": "https://localhost:8080/",
          "height": 0
        },
        "id": "6R1AwB6zH7pN",
        "outputId": "3b0e0455-d892-4405-f3bd-abcce558be45"
      },
      "source": [
        "dfNotas.tail(10)"
      ],
      "execution_count": 73,
      "outputs": [
        {
          "output_type": "execute_result",
          "data": {
            "text/html": [
              "<div>\n",
              "<style scoped>\n",
              "    .dataframe tbody tr th:only-of-type {\n",
              "        vertical-align: middle;\n",
              "    }\n",
              "\n",
              "    .dataframe tbody tr th {\n",
              "        vertical-align: top;\n",
              "    }\n",
              "\n",
              "    .dataframe thead th {\n",
              "        text-align: right;\n",
              "    }\n",
              "</style>\n",
              "<table border=\"1\" class=\"dataframe\">\n",
              "  <thead>\n",
              "    <tr style=\"text-align: right;\">\n",
              "      <th></th>\n",
              "      <th>tconst</th>\n",
              "      <th>averageRating</th>\n",
              "      <th>numVotes</th>\n",
              "    </tr>\n",
              "  </thead>\n",
              "  <tbody>\n",
              "    <tr>\n",
              "      <th>1171910</th>\n",
              "      <td>tt9916544</td>\n",
              "      <td>7.1</td>\n",
              "      <td>40</td>\n",
              "    </tr>\n",
              "    <tr>\n",
              "      <th>1171911</th>\n",
              "      <td>tt9916576</td>\n",
              "      <td>5.9</td>\n",
              "      <td>13</td>\n",
              "    </tr>\n",
              "    <tr>\n",
              "      <th>1171912</th>\n",
              "      <td>tt9916578</td>\n",
              "      <td>8.0</td>\n",
              "      <td>26</td>\n",
              "    </tr>\n",
              "    <tr>\n",
              "      <th>1171913</th>\n",
              "      <td>tt9916580</td>\n",
              "      <td>7.7</td>\n",
              "      <td>6</td>\n",
              "    </tr>\n",
              "    <tr>\n",
              "      <th>1171914</th>\n",
              "      <td>tt9916628</td>\n",
              "      <td>8.6</td>\n",
              "      <td>5</td>\n",
              "    </tr>\n",
              "    <tr>\n",
              "      <th>1171915</th>\n",
              "      <td>tt9916682</td>\n",
              "      <td>5.6</td>\n",
              "      <td>5</td>\n",
              "    </tr>\n",
              "    <tr>\n",
              "      <th>1171916</th>\n",
              "      <td>tt9916690</td>\n",
              "      <td>6.6</td>\n",
              "      <td>5</td>\n",
              "    </tr>\n",
              "    <tr>\n",
              "      <th>1171917</th>\n",
              "      <td>tt9916720</td>\n",
              "      <td>5.5</td>\n",
              "      <td>110</td>\n",
              "    </tr>\n",
              "    <tr>\n",
              "      <th>1171918</th>\n",
              "      <td>tt9916766</td>\n",
              "      <td>6.9</td>\n",
              "      <td>18</td>\n",
              "    </tr>\n",
              "    <tr>\n",
              "      <th>1171919</th>\n",
              "      <td>tt9916778</td>\n",
              "      <td>7.5</td>\n",
              "      <td>30</td>\n",
              "    </tr>\n",
              "  </tbody>\n",
              "</table>\n",
              "</div>"
            ],
            "text/plain": [
              "            tconst  averageRating  numVotes\n",
              "1171910  tt9916544            7.1        40\n",
              "1171911  tt9916576            5.9        13\n",
              "1171912  tt9916578            8.0        26\n",
              "1171913  tt9916580            7.7         6\n",
              "1171914  tt9916628            8.6         5\n",
              "1171915  tt9916682            5.6         5\n",
              "1171916  tt9916690            6.6         5\n",
              "1171917  tt9916720            5.5       110\n",
              "1171918  tt9916766            6.9        18\n",
              "1171919  tt9916778            7.5        30"
            ]
          },
          "metadata": {
            "tags": []
          },
          "execution_count": 73
        }
      ]
    },
    {
      "cell_type": "code",
      "metadata": {
        "colab": {
          "base_uri": "https://localhost:8080/"
        },
        "id": "Y8bv2Atg1YO-",
        "outputId": "39479b07-d6f6-4f62-fe3d-4581b0dda1e7"
      },
      "source": [
        "dfTitles.shape"
      ],
      "execution_count": 74,
      "outputs": [
        {
          "output_type": "execute_result",
          "data": {
            "text/plain": [
              "(8084314, 9)"
            ]
          },
          "metadata": {
            "tags": []
          },
          "execution_count": 74
        }
      ]
    },
    {
      "cell_type": "code",
      "metadata": {
        "colab": {
          "base_uri": "https://localhost:8080/"
        },
        "id": "j_eLemf61ccD",
        "outputId": "d39bc1d0-5d1a-42d6-b0a8-bba3b662b5f5"
      },
      "source": [
        "dfNotas.shape"
      ],
      "execution_count": 75,
      "outputs": [
        {
          "output_type": "execute_result",
          "data": {
            "text/plain": [
              "(1171920, 3)"
            ]
          },
          "metadata": {
            "tags": []
          },
          "execution_count": 75
        }
      ]
    },
    {
      "cell_type": "markdown",
      "metadata": {
        "id": "YBcV6qhgIc0T"
      },
      "source": [
        "Podemos ver que nossos dados não são iguais, então teremos que comparar *tconst* antes de unir os datasets"
      ]
    },
    {
      "cell_type": "markdown",
      "metadata": {
        "id": "hLUGLFe-GG9Q"
      },
      "source": [
        "#Unindo 3 datasets"
      ]
    },
    {
      "cell_type": "markdown",
      "metadata": {
        "id": "Py_qF7yNKS1P"
      },
      "source": [
        "## Unindo primeiramente os datasets de notas e títulos já que ambos estão separados através do inner join que resulta no dataset df_inner apenas com a interseção de tconst de dfNotas e dfTitles"
      ]
    },
    {
      "cell_type": "code",
      "metadata": {
        "colab": {
          "base_uri": "https://localhost:8080/",
          "height": 0
        },
        "id": "sXZnUF7iGNCM",
        "outputId": "2d4ef64e-2f46-4851-96a7-fc2764507b27"
      },
      "source": [
        "df_inner = pd.merge(dfNotas, dfTitles, on='tconst', how='inner')\n",
        "\n",
        "df_inner"
      ],
      "execution_count": 76,
      "outputs": [
        {
          "output_type": "execute_result",
          "data": {
            "text/html": [
              "<div>\n",
              "<style scoped>\n",
              "    .dataframe tbody tr th:only-of-type {\n",
              "        vertical-align: middle;\n",
              "    }\n",
              "\n",
              "    .dataframe tbody tr th {\n",
              "        vertical-align: top;\n",
              "    }\n",
              "\n",
              "    .dataframe thead th {\n",
              "        text-align: right;\n",
              "    }\n",
              "</style>\n",
              "<table border=\"1\" class=\"dataframe\">\n",
              "  <thead>\n",
              "    <tr style=\"text-align: right;\">\n",
              "      <th></th>\n",
              "      <th>tconst</th>\n",
              "      <th>averageRating</th>\n",
              "      <th>numVotes</th>\n",
              "      <th>titleType</th>\n",
              "      <th>primaryTitle</th>\n",
              "      <th>originalTitle</th>\n",
              "      <th>isAdult</th>\n",
              "      <th>startYear</th>\n",
              "      <th>endYear</th>\n",
              "      <th>runtimeMinutes</th>\n",
              "      <th>genres</th>\n",
              "    </tr>\n",
              "  </thead>\n",
              "  <tbody>\n",
              "    <tr>\n",
              "      <th>0</th>\n",
              "      <td>tt0000001</td>\n",
              "      <td>5.7</td>\n",
              "      <td>1722</td>\n",
              "      <td>short</td>\n",
              "      <td>Carmencita</td>\n",
              "      <td>Carmencita</td>\n",
              "      <td>0</td>\n",
              "      <td>1894</td>\n",
              "      <td>\\N</td>\n",
              "      <td>1</td>\n",
              "      <td>Documentary,Short</td>\n",
              "    </tr>\n",
              "    <tr>\n",
              "      <th>1</th>\n",
              "      <td>tt0000002</td>\n",
              "      <td>6.0</td>\n",
              "      <td>211</td>\n",
              "      <td>short</td>\n",
              "      <td>Le clown et ses chiens</td>\n",
              "      <td>Le clown et ses chiens</td>\n",
              "      <td>0</td>\n",
              "      <td>1892</td>\n",
              "      <td>\\N</td>\n",
              "      <td>5</td>\n",
              "      <td>Animation,Short</td>\n",
              "    </tr>\n",
              "    <tr>\n",
              "      <th>2</th>\n",
              "      <td>tt0000003</td>\n",
              "      <td>6.5</td>\n",
              "      <td>1484</td>\n",
              "      <td>short</td>\n",
              "      <td>Pauvre Pierrot</td>\n",
              "      <td>Pauvre Pierrot</td>\n",
              "      <td>0</td>\n",
              "      <td>1892</td>\n",
              "      <td>\\N</td>\n",
              "      <td>4</td>\n",
              "      <td>Animation,Comedy,Romance</td>\n",
              "    </tr>\n",
              "    <tr>\n",
              "      <th>3</th>\n",
              "      <td>tt0000004</td>\n",
              "      <td>6.1</td>\n",
              "      <td>124</td>\n",
              "      <td>short</td>\n",
              "      <td>Un bon bock</td>\n",
              "      <td>Un bon bock</td>\n",
              "      <td>0</td>\n",
              "      <td>1892</td>\n",
              "      <td>\\N</td>\n",
              "      <td>12</td>\n",
              "      <td>Animation,Short</td>\n",
              "    </tr>\n",
              "    <tr>\n",
              "      <th>4</th>\n",
              "      <td>tt0000005</td>\n",
              "      <td>6.2</td>\n",
              "      <td>2286</td>\n",
              "      <td>short</td>\n",
              "      <td>Blacksmith Scene</td>\n",
              "      <td>Blacksmith Scene</td>\n",
              "      <td>0</td>\n",
              "      <td>1893</td>\n",
              "      <td>\\N</td>\n",
              "      <td>1</td>\n",
              "      <td>Comedy,Short</td>\n",
              "    </tr>\n",
              "    <tr>\n",
              "      <th>...</th>\n",
              "      <td>...</td>\n",
              "      <td>...</td>\n",
              "      <td>...</td>\n",
              "      <td>...</td>\n",
              "      <td>...</td>\n",
              "      <td>...</td>\n",
              "      <td>...</td>\n",
              "      <td>...</td>\n",
              "      <td>...</td>\n",
              "      <td>...</td>\n",
              "      <td>...</td>\n",
              "    </tr>\n",
              "    <tr>\n",
              "      <th>1171915</th>\n",
              "      <td>tt9916682</td>\n",
              "      <td>5.6</td>\n",
              "      <td>5</td>\n",
              "      <td>tvEpisode</td>\n",
              "      <td>Horrid Henry It's all Your Fault</td>\n",
              "      <td>Horrid Henry It's all Your Fault</td>\n",
              "      <td>0</td>\n",
              "      <td>2012</td>\n",
              "      <td>\\N</td>\n",
              "      <td>10</td>\n",
              "      <td>Animation,Comedy,Family</td>\n",
              "    </tr>\n",
              "    <tr>\n",
              "      <th>1171916</th>\n",
              "      <td>tt9916690</td>\n",
              "      <td>6.6</td>\n",
              "      <td>5</td>\n",
              "      <td>tvEpisode</td>\n",
              "      <td>Horrid Henry Delivers the Milk</td>\n",
              "      <td>Horrid Henry Delivers the Milk</td>\n",
              "      <td>0</td>\n",
              "      <td>2012</td>\n",
              "      <td>\\N</td>\n",
              "      <td>10</td>\n",
              "      <td>Animation,Comedy,Family</td>\n",
              "    </tr>\n",
              "    <tr>\n",
              "      <th>1171917</th>\n",
              "      <td>tt9916720</td>\n",
              "      <td>5.5</td>\n",
              "      <td>110</td>\n",
              "      <td>short</td>\n",
              "      <td>The Nun 2</td>\n",
              "      <td>The Nun 2</td>\n",
              "      <td>0</td>\n",
              "      <td>2019</td>\n",
              "      <td>\\N</td>\n",
              "      <td>10</td>\n",
              "      <td>Comedy,Horror,Mystery</td>\n",
              "    </tr>\n",
              "    <tr>\n",
              "      <th>1171918</th>\n",
              "      <td>tt9916766</td>\n",
              "      <td>6.9</td>\n",
              "      <td>18</td>\n",
              "      <td>tvEpisode</td>\n",
              "      <td>Episode #10.15</td>\n",
              "      <td>Episode #10.15</td>\n",
              "      <td>0</td>\n",
              "      <td>2019</td>\n",
              "      <td>\\N</td>\n",
              "      <td>43</td>\n",
              "      <td>Family,Reality-TV</td>\n",
              "    </tr>\n",
              "    <tr>\n",
              "      <th>1171919</th>\n",
              "      <td>tt9916778</td>\n",
              "      <td>7.5</td>\n",
              "      <td>30</td>\n",
              "      <td>tvEpisode</td>\n",
              "      <td>Escape</td>\n",
              "      <td>Escape</td>\n",
              "      <td>0</td>\n",
              "      <td>2019</td>\n",
              "      <td>\\N</td>\n",
              "      <td>\\N</td>\n",
              "      <td>Crime,Drama,Mystery</td>\n",
              "    </tr>\n",
              "  </tbody>\n",
              "</table>\n",
              "<p>1171920 rows × 11 columns</p>\n",
              "</div>"
            ],
            "text/plain": [
              "            tconst  averageRating  ...  runtimeMinutes                    genres\n",
              "0        tt0000001            5.7  ...               1         Documentary,Short\n",
              "1        tt0000002            6.0  ...               5           Animation,Short\n",
              "2        tt0000003            6.5  ...               4  Animation,Comedy,Romance\n",
              "3        tt0000004            6.1  ...              12           Animation,Short\n",
              "4        tt0000005            6.2  ...               1              Comedy,Short\n",
              "...            ...            ...  ...             ...                       ...\n",
              "1171915  tt9916682            5.6  ...              10   Animation,Comedy,Family\n",
              "1171916  tt9916690            6.6  ...              10   Animation,Comedy,Family\n",
              "1171917  tt9916720            5.5  ...              10     Comedy,Horror,Mystery\n",
              "1171918  tt9916766            6.9  ...              43         Family,Reality-TV\n",
              "1171919  tt9916778            7.5  ...              \\N       Crime,Drama,Mystery\n",
              "\n",
              "[1171920 rows x 11 columns]"
            ]
          },
          "metadata": {
            "tags": []
          },
          "execution_count": 76
        }
      ]
    },
    {
      "cell_type": "markdown",
      "metadata": {
        "id": "Y6xK2ZpPVXQU"
      },
      "source": [
        "## Agora iremos fazer a mesma coisa para df_inner com os atributos *'averageRating'*, *'numVotes'* e *'primaryTitle'* com o nosso dataset original que teve realizado seu pre-processamento gerando juntaTD"
      ]
    },
    {
      "cell_type": "code",
      "metadata": {
        "id": "JHzeBwf5GLFa"
      },
      "source": [
        "juntaTD = pd.merge(df_inner.loc[:,['averageRating', 'numVotes','primaryTitle']], df, left_on='primaryTitle', right_on='title', how='inner')"
      ],
      "execution_count": 77,
      "outputs": []
    },
    {
      "cell_type": "markdown",
      "metadata": {
        "id": "je-onc6GWZmt"
      },
      "source": [
        "Analisando a forma do dataset gerado"
      ]
    },
    {
      "cell_type": "code",
      "metadata": {
        "colab": {
          "base_uri": "https://localhost:8080/"
        },
        "id": "OPeIonyXIjIT",
        "outputId": "8674bdaa-b0bd-4fc7-d69e-771535db0c2f"
      },
      "source": [
        "juntaTD.shape"
      ],
      "execution_count": 78,
      "outputs": [
        {
          "output_type": "execute_result",
          "data": {
            "text/plain": [
              "(23032, 17)"
            ]
          },
          "metadata": {
            "tags": []
          },
          "execution_count": 78
        }
      ]
    },
    {
      "cell_type": "markdown",
      "metadata": {
        "id": "kfTzjIMAWiYw"
      },
      "source": [
        "### Vamos remover as duplicatas utilizando o atributo título como verificador "
      ]
    },
    {
      "cell_type": "code",
      "metadata": {
        "colab": {
          "base_uri": "https://localhost:8080/",
          "height": 1000
        },
        "id": "7k8R5_7DJMCl",
        "outputId": "cfe6772d-ecce-4f88-ce15-4fee2803a532"
      },
      "source": [
        "juntaTD.drop_duplicates(subset =['primaryTitle'], keep = False, inplace = True)\n",
        "juntaTD.head(10)"
      ],
      "execution_count": 79,
      "outputs": [
        {
          "output_type": "execute_result",
          "data": {
            "text/html": [
              "<div>\n",
              "<style scoped>\n",
              "    .dataframe tbody tr th:only-of-type {\n",
              "        vertical-align: middle;\n",
              "    }\n",
              "\n",
              "    .dataframe tbody tr th {\n",
              "        vertical-align: top;\n",
              "    }\n",
              "\n",
              "    .dataframe thead th {\n",
              "        text-align: right;\n",
              "    }\n",
              "</style>\n",
              "<table border=\"1\" class=\"dataframe\">\n",
              "  <thead>\n",
              "    <tr style=\"text-align: right;\">\n",
              "      <th></th>\n",
              "      <th>averageRating</th>\n",
              "      <th>numVotes</th>\n",
              "      <th>primaryTitle</th>\n",
              "      <th>show_id</th>\n",
              "      <th>type</th>\n",
              "      <th>title</th>\n",
              "      <th>director</th>\n",
              "      <th>cast</th>\n",
              "      <th>country</th>\n",
              "      <th>date_added</th>\n",
              "      <th>release_year</th>\n",
              "      <th>rating</th>\n",
              "      <th>duration</th>\n",
              "      <th>listed_in</th>\n",
              "      <th>description</th>\n",
              "      <th>main_country</th>\n",
              "      <th>year_added</th>\n",
              "    </tr>\n",
              "  </thead>\n",
              "  <tbody>\n",
              "    <tr>\n",
              "      <th>2779</th>\n",
              "      <td>6.4</td>\n",
              "      <td>80210</td>\n",
              "      <td>Kate &amp; Leopold</td>\n",
              "      <td>s3315</td>\n",
              "      <td>Movie</td>\n",
              "      <td>Kate &amp; Leopold</td>\n",
              "      <td>James Mangold</td>\n",
              "      <td>Meg Ryan, Hugh Jackman, Liev Schreiber, Brecki...</td>\n",
              "      <td>United States</td>\n",
              "      <td>2020-01-01</td>\n",
              "      <td>2001</td>\n",
              "      <td>PG-13</td>\n",
              "      <td>118</td>\n",
              "      <td>Comedies, Romantic Movies</td>\n",
              "      <td>A present-day woman takes responsibility for g...</td>\n",
              "      <td>United States</td>\n",
              "      <td>2020</td>\n",
              "    </tr>\n",
              "    <tr>\n",
              "      <th>2822</th>\n",
              "      <td>6.7</td>\n",
              "      <td>2093</td>\n",
              "      <td>San Pietro</td>\n",
              "      <td>s5372</td>\n",
              "      <td>Movie</td>\n",
              "      <td>San Pietro</td>\n",
              "      <td>John Huston</td>\n",
              "      <td>desconhecido</td>\n",
              "      <td>United States</td>\n",
              "      <td>2017-03-31</td>\n",
              "      <td>1945</td>\n",
              "      <td>TV-14</td>\n",
              "      <td>32</td>\n",
              "      <td>Classic Movies, Documentaries</td>\n",
              "      <td>After the Allies invade Italy, the Liri Valley...</td>\n",
              "      <td>United States</td>\n",
              "      <td>2017</td>\n",
              "    </tr>\n",
              "    <tr>\n",
              "      <th>2869</th>\n",
              "      <td>6.7</td>\n",
              "      <td>546</td>\n",
              "      <td>Tunisian Victory</td>\n",
              "      <td>s7269</td>\n",
              "      <td>Movie</td>\n",
              "      <td>Tunisian Victory</td>\n",
              "      <td>Frank Capra, John Huston, Hugh Stewart, Roy Bo...</td>\n",
              "      <td>Burgess Meredith</td>\n",
              "      <td>United States, United Kingdom</td>\n",
              "      <td>2017-03-31</td>\n",
              "      <td>1944</td>\n",
              "      <td>TV-14</td>\n",
              "      <td>76</td>\n",
              "      <td>Classic Movies, Documentaries</td>\n",
              "      <td>British and American troops join forces to lib...</td>\n",
              "      <td>United States</td>\n",
              "      <td>2017</td>\n",
              "    </tr>\n",
              "    <tr>\n",
              "      <th>3629</th>\n",
              "      <td>6.5</td>\n",
              "      <td>1371</td>\n",
              "      <td>The Sign of Venus</td>\n",
              "      <td>s6869</td>\n",
              "      <td>Movie</td>\n",
              "      <td>The Sign of Venus</td>\n",
              "      <td>Dino Risi</td>\n",
              "      <td>Sophia Loren, Franca Valeri, Vittorio De Sica,...</td>\n",
              "      <td>Italy</td>\n",
              "      <td>2020-11-13</td>\n",
              "      <td>1955</td>\n",
              "      <td>TV-14</td>\n",
              "      <td>97</td>\n",
              "      <td>Classic Movies, Comedies, Independent Movies</td>\n",
              "      <td>While suitors swoon over her cousin, a single ...</td>\n",
              "      <td>Italy</td>\n",
              "      <td>2020</td>\n",
              "    </tr>\n",
              "    <tr>\n",
              "      <th>3867</th>\n",
              "      <td>6.4</td>\n",
              "      <td>96</td>\n",
              "      <td>This Is My Love</td>\n",
              "      <td>s7050</td>\n",
              "      <td>TV Show</td>\n",
              "      <td>This Is My Love</td>\n",
              "      <td>desconhecido</td>\n",
              "      <td>Jin-mo Joo, Sa-rang Kim, Junior, Ja-in Lee, Su...</td>\n",
              "      <td>South Korea</td>\n",
              "      <td>2017-05-22</td>\n",
              "      <td>2015</td>\n",
              "      <td>TV-14</td>\n",
              "      <td>1</td>\n",
              "      <td>International TV Shows, Korean TV Shows, Roman...</td>\n",
              "      <td>A renowned actor who is still pining over the ...</td>\n",
              "      <td>South Korea</td>\n",
              "      <td>2017</td>\n",
              "    </tr>\n",
              "    <tr>\n",
              "      <th>3981</th>\n",
              "      <td>6.5</td>\n",
              "      <td>2121</td>\n",
              "      <td>Scandal in Sorrento</td>\n",
              "      <td>s5426</td>\n",
              "      <td>Movie</td>\n",
              "      <td>Scandal in Sorrento</td>\n",
              "      <td>Dino Risi</td>\n",
              "      <td>Vittorio De Sica, Sophia Loren, Lea Padovani, ...</td>\n",
              "      <td>Italy, France</td>\n",
              "      <td>2020-11-13</td>\n",
              "      <td>1955</td>\n",
              "      <td>TV-PG</td>\n",
              "      <td>93</td>\n",
              "      <td>Classic Movies, Comedies, Independent Movies</td>\n",
              "      <td>When a marshal moves back to his hometown, he ...</td>\n",
              "      <td>Italy</td>\n",
              "      <td>2020</td>\n",
              "    </tr>\n",
              "    <tr>\n",
              "      <th>3990</th>\n",
              "      <td>7.6</td>\n",
              "      <td>3807</td>\n",
              "      <td>Cairo Station</td>\n",
              "      <td>s1170</td>\n",
              "      <td>Movie</td>\n",
              "      <td>Cairo Station</td>\n",
              "      <td>Youssef Chahine</td>\n",
              "      <td>Farid Shawqy, Hind Rostom, Youssef Chahine, Ha...</td>\n",
              "      <td>Egypt</td>\n",
              "      <td>2020-06-18</td>\n",
              "      <td>1958</td>\n",
              "      <td>TV-14</td>\n",
              "      <td>73</td>\n",
              "      <td>Classic Movies, Dramas, International Movies</td>\n",
              "      <td>A Cairo newsstand vendor's fantasies morph int...</td>\n",
              "      <td>Egypt</td>\n",
              "      <td>2020</td>\n",
              "    </tr>\n",
              "    <tr>\n",
              "      <th>4166</th>\n",
              "      <td>8.3</td>\n",
              "      <td>12805</td>\n",
              "      <td>The Andy Griffith Show</td>\n",
              "      <td>s6083</td>\n",
              "      <td>TV Show</td>\n",
              "      <td>The Andy Griffith Show</td>\n",
              "      <td>desconhecido</td>\n",
              "      <td>Andy Griffith, Ron Howard, Don Knotts, Frances...</td>\n",
              "      <td>United States</td>\n",
              "      <td>2017-07-01</td>\n",
              "      <td>1967</td>\n",
              "      <td>TV-G</td>\n",
              "      <td>8</td>\n",
              "      <td>Classic &amp; Cult TV, TV Comedies</td>\n",
              "      <td>Homespun humor and easygoing Sheriff Andy Tayl...</td>\n",
              "      <td>United States</td>\n",
              "      <td>2017</td>\n",
              "    </tr>\n",
              "    <tr>\n",
              "      <th>4227</th>\n",
              "      <td>7.4</td>\n",
              "      <td>436</td>\n",
              "      <td>Jis Desh Men Ganga Behti Hai</td>\n",
              "      <td>s3188</td>\n",
              "      <td>Movie</td>\n",
              "      <td>Jis Desh Men Ganga Behti Hai</td>\n",
              "      <td>Radhu Karmakar</td>\n",
              "      <td>Raj Kapoor, Padmini, Pran, Chanchal, Lalita Pa...</td>\n",
              "      <td>United States</td>\n",
              "      <td>2019-12-31</td>\n",
              "      <td>1960</td>\n",
              "      <td>TV-14</td>\n",
              "      <td>181</td>\n",
              "      <td>Action &amp; Adventure, Dramas, International Movies</td>\n",
              "      <td>Falling in with a band of outlaws during a hol...</td>\n",
              "      <td>United States</td>\n",
              "      <td>2019</td>\n",
              "    </tr>\n",
              "    <tr>\n",
              "      <th>4671</th>\n",
              "      <td>7.5</td>\n",
              "      <td>8592</td>\n",
              "      <td>Diary of a Chambermaid</td>\n",
              "      <td>s1750</td>\n",
              "      <td>Movie</td>\n",
              "      <td>Diary of a Chambermaid</td>\n",
              "      <td>Benoît Jacquot</td>\n",
              "      <td>Léa Seydoux, Vincent Lindon, Clotilde Mollet, ...</td>\n",
              "      <td>France, Belgium</td>\n",
              "      <td>2016-12-03</td>\n",
              "      <td>2015</td>\n",
              "      <td>NR</td>\n",
              "      <td>96</td>\n",
              "      <td>Dramas, International Movies</td>\n",
              "      <td>An attractive young woman goes to work as a ch...</td>\n",
              "      <td>France</td>\n",
              "      <td>2016</td>\n",
              "    </tr>\n",
              "  </tbody>\n",
              "</table>\n",
              "</div>"
            ],
            "text/plain": [
              "      averageRating  numVotes  ...   main_country year_added\n",
              "2779            6.4     80210  ...  United States       2020\n",
              "2822            6.7      2093  ...  United States       2017\n",
              "2869            6.7       546  ...  United States       2017\n",
              "3629            6.5      1371  ...          Italy       2020\n",
              "3867            6.4        96  ...    South Korea       2017\n",
              "3981            6.5      2121  ...          Italy       2020\n",
              "3990            7.6      3807  ...          Egypt       2020\n",
              "4166            8.3     12805  ...  United States       2017\n",
              "4227            7.4       436  ...  United States       2019\n",
              "4671            7.5      8592  ...         France       2016\n",
              "\n",
              "[10 rows x 17 columns]"
            ]
          },
          "metadata": {
            "tags": []
          },
          "execution_count": 79
        }
      ]
    },
    {
      "cell_type": "markdown",
      "metadata": {
        "id": "ON22rXdfkx2N"
      },
      "source": [
        "Analisando se tem algum valor ausente"
      ]
    },
    {
      "cell_type": "code",
      "metadata": {
        "id": "fp1ciYRilZLl",
        "colab": {
          "base_uri": "https://localhost:8080/"
        },
        "outputId": "bb3b0657-92a6-447e-c98b-65522b879396"
      },
      "source": [
        "juntaTD.isnull().sum()/(len(df))*100"
      ],
      "execution_count": 80,
      "outputs": [
        {
          "output_type": "execute_result",
          "data": {
            "text/plain": [
              "averageRating    0.0\n",
              "numVotes         0.0\n",
              "primaryTitle     0.0\n",
              "show_id          0.0\n",
              "type             0.0\n",
              "title            0.0\n",
              "director         0.0\n",
              "cast             0.0\n",
              "country          0.0\n",
              "date_added       0.0\n",
              "release_year     0.0\n",
              "rating           0.0\n",
              "duration         0.0\n",
              "listed_in        0.0\n",
              "description      0.0\n",
              "main_country     0.0\n",
              "year_added       0.0\n",
              "dtype: float64"
            ]
          },
          "metadata": {
            "tags": []
          },
          "execution_count": 80
        }
      ]
    },
    {
      "cell_type": "code",
      "metadata": {
        "colab": {
          "base_uri": "https://localhost:8080/"
        },
        "id": "WC1WjuZ7MTuV",
        "outputId": "35e8de2e-0ee1-4bdb-a3df-1da78ce3b83d"
      },
      "source": [
        "juntaTD.shape"
      ],
      "execution_count": 81,
      "outputs": [
        {
          "output_type": "execute_result",
          "data": {
            "text/plain": [
              "(3838, 17)"
            ]
          },
          "metadata": {
            "tags": []
          },
          "execution_count": 81
        }
      ]
    },
    {
      "cell_type": "markdown",
      "metadata": {
        "id": "gKZEfjyEMb8w"
      },
      "source": [
        "Podemos ver que sobrou pouco mais da metade nosso dataset original, vamos ter que trabalhar com isso."
      ]
    },
    {
      "cell_type": "markdown",
      "metadata": {
        "id": "DvZDXvDFFr4w"
      },
      "source": [
        "#Vamos realizar agora o teste de hipótese verificando se possuímos alguma diferença relevante dentre suas notas."
      ]
    },
    {
      "cell_type": "markdown",
      "metadata": {
        "id": "qMnGumYKYA-s"
      },
      "source": [
        "> Primeiramente fazendo uma análise com relação as avaliações para filmes e séries, respectivamente"
      ]
    },
    {
      "cell_type": "code",
      "metadata": {
        "id": "x_lW22h5YKfI",
        "colab": {
          "base_uri": "https://localhost:8080/",
          "height": 0
        },
        "outputId": "4f49bcb8-84e2-41e4-e6bc-10553f97ee3b"
      },
      "source": [
        "juntaTD[juntaTD['type']=='Movie'].describe()"
      ],
      "execution_count": 82,
      "outputs": [
        {
          "output_type": "execute_result",
          "data": {
            "text/html": [
              "<div>\n",
              "<style scoped>\n",
              "    .dataframe tbody tr th:only-of-type {\n",
              "        vertical-align: middle;\n",
              "    }\n",
              "\n",
              "    .dataframe tbody tr th {\n",
              "        vertical-align: top;\n",
              "    }\n",
              "\n",
              "    .dataframe thead th {\n",
              "        text-align: right;\n",
              "    }\n",
              "</style>\n",
              "<table border=\"1\" class=\"dataframe\">\n",
              "  <thead>\n",
              "    <tr style=\"text-align: right;\">\n",
              "      <th></th>\n",
              "      <th>averageRating</th>\n",
              "      <th>numVotes</th>\n",
              "      <th>release_year</th>\n",
              "      <th>duration</th>\n",
              "      <th>year_added</th>\n",
              "    </tr>\n",
              "  </thead>\n",
              "  <tbody>\n",
              "    <tr>\n",
              "      <th>count</th>\n",
              "      <td>2718.000000</td>\n",
              "      <td>2.718000e+03</td>\n",
              "      <td>2718.000000</td>\n",
              "      <td>2718.000000</td>\n",
              "      <td>2718.000000</td>\n",
              "    </tr>\n",
              "    <tr>\n",
              "      <th>mean</th>\n",
              "      <td>6.236056</td>\n",
              "      <td>1.517440e+04</td>\n",
              "      <td>2013.890361</td>\n",
              "      <td>98.850993</td>\n",
              "      <td>2018.412068</td>\n",
              "    </tr>\n",
              "    <tr>\n",
              "      <th>std</th>\n",
              "      <td>1.175659</td>\n",
              "      <td>7.054583e+04</td>\n",
              "      <td>8.416542</td>\n",
              "      <td>28.056378</td>\n",
              "      <td>1.418175</td>\n",
              "    </tr>\n",
              "    <tr>\n",
              "      <th>min</th>\n",
              "      <td>1.500000</td>\n",
              "      <td>5.000000e+00</td>\n",
              "      <td>1944.000000</td>\n",
              "      <td>5.000000</td>\n",
              "      <td>2010.000000</td>\n",
              "    </tr>\n",
              "    <tr>\n",
              "      <th>25%</th>\n",
              "      <td>5.500000</td>\n",
              "      <td>3.430000e+02</td>\n",
              "      <td>2013.000000</td>\n",
              "      <td>85.000000</td>\n",
              "      <td>2017.000000</td>\n",
              "    </tr>\n",
              "    <tr>\n",
              "      <th>50%</th>\n",
              "      <td>6.400000</td>\n",
              "      <td>1.402500e+03</td>\n",
              "      <td>2016.000000</td>\n",
              "      <td>97.000000</td>\n",
              "      <td>2019.000000</td>\n",
              "    </tr>\n",
              "    <tr>\n",
              "      <th>75%</th>\n",
              "      <td>7.100000</td>\n",
              "      <td>5.449250e+03</td>\n",
              "      <td>2018.000000</td>\n",
              "      <td>113.750000</td>\n",
              "      <td>2020.000000</td>\n",
              "    </tr>\n",
              "    <tr>\n",
              "      <th>max</th>\n",
              "      <td>10.000000</td>\n",
              "      <td>1.400965e+06</td>\n",
              "      <td>2021.000000</td>\n",
              "      <td>312.000000</td>\n",
              "      <td>2021.000000</td>\n",
              "    </tr>\n",
              "  </tbody>\n",
              "</table>\n",
              "</div>"
            ],
            "text/plain": [
              "       averageRating      numVotes  release_year     duration   year_added\n",
              "count    2718.000000  2.718000e+03   2718.000000  2718.000000  2718.000000\n",
              "mean        6.236056  1.517440e+04   2013.890361    98.850993  2018.412068\n",
              "std         1.175659  7.054583e+04      8.416542    28.056378     1.418175\n",
              "min         1.500000  5.000000e+00   1944.000000     5.000000  2010.000000\n",
              "25%         5.500000  3.430000e+02   2013.000000    85.000000  2017.000000\n",
              "50%         6.400000  1.402500e+03   2016.000000    97.000000  2019.000000\n",
              "75%         7.100000  5.449250e+03   2018.000000   113.750000  2020.000000\n",
              "max        10.000000  1.400965e+06   2021.000000   312.000000  2021.000000"
            ]
          },
          "metadata": {
            "tags": []
          },
          "execution_count": 82
        }
      ]
    },
    {
      "cell_type": "code",
      "metadata": {
        "id": "q3XMCG01Y_fC",
        "colab": {
          "base_uri": "https://localhost:8080/",
          "height": 0
        },
        "outputId": "12ff5d0b-10f7-4fe5-ef46-8abd16adb9c7"
      },
      "source": [
        "juntaTD[juntaTD['type']=='TV Show'].describe()"
      ],
      "execution_count": 83,
      "outputs": [
        {
          "output_type": "execute_result",
          "data": {
            "text/html": [
              "<div>\n",
              "<style scoped>\n",
              "    .dataframe tbody tr th:only-of-type {\n",
              "        vertical-align: middle;\n",
              "    }\n",
              "\n",
              "    .dataframe tbody tr th {\n",
              "        vertical-align: top;\n",
              "    }\n",
              "\n",
              "    .dataframe thead th {\n",
              "        text-align: right;\n",
              "    }\n",
              "</style>\n",
              "<table border=\"1\" class=\"dataframe\">\n",
              "  <thead>\n",
              "    <tr style=\"text-align: right;\">\n",
              "      <th></th>\n",
              "      <th>averageRating</th>\n",
              "      <th>numVotes</th>\n",
              "      <th>release_year</th>\n",
              "      <th>duration</th>\n",
              "      <th>year_added</th>\n",
              "    </tr>\n",
              "  </thead>\n",
              "  <tbody>\n",
              "    <tr>\n",
              "      <th>count</th>\n",
              "      <td>1120.000000</td>\n",
              "      <td>1120.000000</td>\n",
              "      <td>1120.000000</td>\n",
              "      <td>1120.000000</td>\n",
              "      <td>1120.000000</td>\n",
              "    </tr>\n",
              "    <tr>\n",
              "      <th>mean</th>\n",
              "      <td>7.028214</td>\n",
              "      <td>5397.898214</td>\n",
              "      <td>2016.558036</td>\n",
              "      <td>1.689286</td>\n",
              "      <td>2018.615179</td>\n",
              "    </tr>\n",
              "    <tr>\n",
              "      <th>std</th>\n",
              "      <td>1.111564</td>\n",
              "      <td>18747.277228</td>\n",
              "      <td>5.364150</td>\n",
              "      <td>1.285052</td>\n",
              "      <td>1.409511</td>\n",
              "    </tr>\n",
              "    <tr>\n",
              "      <th>min</th>\n",
              "      <td>1.800000</td>\n",
              "      <td>5.000000</td>\n",
              "      <td>1946.000000</td>\n",
              "      <td>1.000000</td>\n",
              "      <td>2008.000000</td>\n",
              "    </tr>\n",
              "    <tr>\n",
              "      <th>25%</th>\n",
              "      <td>6.500000</td>\n",
              "      <td>122.000000</td>\n",
              "      <td>2016.000000</td>\n",
              "      <td>1.000000</td>\n",
              "      <td>2018.000000</td>\n",
              "    </tr>\n",
              "    <tr>\n",
              "      <th>50%</th>\n",
              "      <td>7.200000</td>\n",
              "      <td>719.000000</td>\n",
              "      <td>2018.000000</td>\n",
              "      <td>1.000000</td>\n",
              "      <td>2019.000000</td>\n",
              "    </tr>\n",
              "    <tr>\n",
              "      <th>75%</th>\n",
              "      <td>7.800000</td>\n",
              "      <td>3153.750000</td>\n",
              "      <td>2019.000000</td>\n",
              "      <td>2.000000</td>\n",
              "      <td>2020.000000</td>\n",
              "    </tr>\n",
              "    <tr>\n",
              "      <th>max</th>\n",
              "      <td>9.500000</td>\n",
              "      <td>386256.000000</td>\n",
              "      <td>2021.000000</td>\n",
              "      <td>10.000000</td>\n",
              "      <td>2021.000000</td>\n",
              "    </tr>\n",
              "  </tbody>\n",
              "</table>\n",
              "</div>"
            ],
            "text/plain": [
              "       averageRating       numVotes  release_year     duration   year_added\n",
              "count    1120.000000    1120.000000   1120.000000  1120.000000  1120.000000\n",
              "mean        7.028214    5397.898214   2016.558036     1.689286  2018.615179\n",
              "std         1.111564   18747.277228      5.364150     1.285052     1.409511\n",
              "min         1.800000       5.000000   1946.000000     1.000000  2008.000000\n",
              "25%         6.500000     122.000000   2016.000000     1.000000  2018.000000\n",
              "50%         7.200000     719.000000   2018.000000     1.000000  2019.000000\n",
              "75%         7.800000    3153.750000   2019.000000     2.000000  2020.000000\n",
              "max         9.500000  386256.000000   2021.000000    10.000000  2021.000000"
            ]
          },
          "metadata": {
            "tags": []
          },
          "execution_count": 83
        }
      ]
    },
    {
      "cell_type": "markdown",
      "metadata": {
        "id": "zbT5JcUYdA8A"
      },
      "source": [
        "Vamos normalizar as notas usando o z-score"
      ]
    },
    {
      "cell_type": "code",
      "metadata": {
        "id": "zVPA-OZ3dEZ6"
      },
      "source": [
        "juntaTD['averageRating_NORM'] = scaler.fit_transform(juntaTD[['averageRating']])"
      ],
      "execution_count": 84,
      "outputs": []
    },
    {
      "cell_type": "markdown",
      "metadata": {
        "id": "cBaJ5S5Zf2Sy"
      },
      "source": [
        "## Primeiro vamos comparar se a avaliação média de gravações realizadas na Austrália difere da avaliação média dos países. E vamos fazer as próximas observações para decidirmos qual teste de hipótese utilizar, de acordo com a tabela fornecida."
      ]
    },
    {
      "cell_type": "code",
      "metadata": {
        "id": "xyzgv48ihbZz",
        "colab": {
          "base_uri": "https://localhost:8080/"
        },
        "outputId": "787a9ff9-0f29-4133-c1cd-817edce0ed33"
      },
      "source": [
        "juntaTD[juntaTD['main_country'] == 'Australia']['averageRating'].describe()"
      ],
      "execution_count": 85,
      "outputs": [
        {
          "output_type": "execute_result",
          "data": {
            "text/plain": [
              "count    55.00000\n",
              "mean      6.92000\n",
              "std       0.76797\n",
              "min       5.30000\n",
              "25%       6.35000\n",
              "50%       7.00000\n",
              "75%       7.45000\n",
              "max       8.30000\n",
              "Name: averageRating, dtype: float64"
            ]
          },
          "metadata": {
            "tags": []
          },
          "execution_count": 85
        }
      ]
    },
    {
      "cell_type": "markdown",
      "metadata": {
        "id": "eGrqBIqfFtId"
      },
      "source": [
        "Além de normalizar as notas iremos remover os outliers presentes nas avaliações para todos os países através do método tukey."
      ]
    },
    {
      "cell_type": "code",
      "metadata": {
        "colab": {
          "base_uri": "https://localhost:8080/"
        },
        "id": "L0MDqrdpGoUe",
        "outputId": "b24ec3c6-53c1-4fd9-db1a-7ebca381c9b5"
      },
      "source": [
        "q1j = juntaTD['averageRating_NORM'].quantile(q=0.25)\n",
        "q3j = juntaTD['averageRating_NORM'].quantile(q=0.75)\n",
        "iqrj = q3j - q1j\n",
        "iqrj"
      ],
      "execution_count": 86,
      "outputs": [
        {
          "output_type": "execute_result",
          "data": {
            "text/plain": [
              "1.320379174435851"
            ]
          },
          "metadata": {
            "tags": []
          },
          "execution_count": 86
        }
      ]
    },
    {
      "cell_type": "code",
      "metadata": {
        "colab": {
          "base_uri": "https://localhost:8080/"
        },
        "id": "W10LEG37HE4V",
        "outputId": "8f508a20-1ed3-4b99-80ac-c2e647069609"
      },
      "source": [
        "juntaTD1 = juntaTD[(juntaTD['averageRating_NORM'] > (q1j-1.5*iqrj)) & (juntaTD['averageRating_NORM'] < (q3j+1.5*iqrj))]\n",
        "len(juntaTD1)"
      ],
      "execution_count": 87,
      "outputs": [
        {
          "output_type": "execute_result",
          "data": {
            "text/plain": [
              "3783"
            ]
          },
          "metadata": {
            "tags": []
          },
          "execution_count": 87
        }
      ]
    },
    {
      "cell_type": "code",
      "metadata": {
        "colab": {
          "base_uri": "https://localhost:8080/"
        },
        "id": "7ECPulPyIGXl",
        "outputId": "db42ec1d-fdaf-489e-dbd4-d23e6de8f08b"
      },
      "source": [
        "len(juntaTD)"
      ],
      "execution_count": 88,
      "outputs": [
        {
          "output_type": "execute_result",
          "data": {
            "text/plain": [
              "3838"
            ]
          },
          "metadata": {
            "tags": []
          },
          "execution_count": 88
        }
      ]
    },
    {
      "cell_type": "markdown",
      "metadata": {
        "id": "FRX33Dq3Ijxe"
      },
      "source": [
        "Verificando se a distribuição das avaliações da Australia seguem uma gaussiana."
      ]
    },
    {
      "cell_type": "code",
      "metadata": {
        "colab": {
          "base_uri": "https://localhost:8080/",
          "height": 0
        },
        "id": "85oaQl5aK11O",
        "outputId": "ea68c2ba-742f-4cab-cc8a-930e9289f35e"
      },
      "source": [
        "sns.histplot(data=juntaTD.loc[juntaTD.main_country=='Australia'], x='averageRating_NORM', kde=True)"
      ],
      "execution_count": 89,
      "outputs": [
        {
          "output_type": "execute_result",
          "data": {
            "text/plain": [
              "<matplotlib.axes._subplots.AxesSubplot at 0x7f3ec593b2d0>"
            ]
          },
          "metadata": {
            "tags": []
          },
          "execution_count": 89
        },
        {
          "output_type": "display_data",
          "data": {
            "image/png": "[encoded data removed]",
            "text/plain": [
              "<Figure size 432x288 with 1 Axes>"
            ]
          },
          "metadata": {
            "tags": [],
            "needs_background": "light"
          }
        }
      ]
    },
    {
      "cell_type": "code",
      "metadata": {
        "colab": {
          "base_uri": "https://localhost:8080/"
        },
        "id": "1UoCzjD2KWYT",
        "outputId": "5fa07baf-c9b5-4c1d-b1fd-1dd8dc5f944a"
      },
      "source": [
        "stats.shapiro(juntaTD[juntaTD['main_country'] == 'Australia']['averageRating_NORM'])"
      ],
      "execution_count": 90,
      "outputs": [
        {
          "output_type": "execute_result",
          "data": {
            "text/plain": [
              "(0.9793302416801453, 0.45978692173957825)"
            ]
          },
          "metadata": {
            "tags": []
          },
          "execution_count": 90
        }
      ]
    },
    {
      "cell_type": "markdown",
      "metadata": {
        "id": "4rBn2bZFTOkC"
      },
      "source": [
        "> Com este p-value podemos considerar tal distribuição como uma normal"
      ]
    },
    {
      "cell_type": "markdown",
      "metadata": {
        "id": "GUo8QS9cM6NI"
      },
      "source": [
        "Como a nota de filmes da Austrália segue uma distribuição normal vamos utilizar o one sample t-test, indicado na tabela para o nosso tipo de dado e nosso objetivo."
      ]
    },
    {
      "cell_type": "code",
      "metadata": {
        "colab": {
          "base_uri": "https://localhost:8080/"
        },
        "id": "AfjaKHXDOFlA",
        "outputId": "d4286722-b982-4d9c-87bf-f7e5aea8135b"
      },
      "source": [
        "stats.ttest_1samp(juntaTD[juntaTD['main_country'] == 'Australia']['averageRating_NORM'], juntaTD1['averageRating_NORM'].mean())"
      ],
      "execution_count": 91,
      "outputs": [
        {
          "output_type": "execute_result",
          "data": {
            "text/plain": [
              "Ttest_1sampResult(statistic=3.867758040006332, pvalue=0.0002975520760896018)"
            ]
          },
          "metadata": {
            "tags": []
          },
          "execution_count": 91
        }
      ]
    },
    {
      "cell_type": "code",
      "metadata": {
        "id": "3Eq20IzxkNyF",
        "colab": {
          "base_uri": "https://localhost:8080/",
          "height": 0
        },
        "outputId": "3a2fc5e1-247b-4beb-a2dd-bdc8c0f82d6e"
      },
      "source": [
        "dataA = juntaTD.loc[juntaTD.main_country == 'Australia',['averageRating_NORM']]\n",
        "dataM = juntaTD['averageRating_NORM']\n",
        "sns.boxplot(data=[dataM, dataA])"
      ],
      "execution_count": 92,
      "outputs": [
        {
          "output_type": "execute_result",
          "data": {
            "text/plain": [
              "<matplotlib.axes._subplots.AxesSubplot at 0x7f3ec5896e50>"
            ]
          },
          "metadata": {
            "tags": []
          },
          "execution_count": 92
        },
        {
          "output_type": "display_data",
          "data": {
            "image/png": "[encoded data removed]",
            "text/plain": [
              "<Figure size 432x288 with 1 Axes>"
            ]
          },
          "metadata": {
            "tags": [],
            "needs_background": "light"
          }
        }
      ]
    },
    {
      "cell_type": "code",
      "metadata": {
        "colab": {
          "base_uri": "https://localhost:8080/",
          "height": 0
        },
        "id": "ZJO80YUSc_TS",
        "outputId": "69a6ed41-24ae-4820-fed4-043e36304159"
      },
      "source": [
        "dataA = juntaTD.loc[juntaTD.main_country == 'Australia',['averageRating_NORM']]\n",
        "dataM = juntaTD1['averageRating_NORM']\n",
        "sns.violinplot(data=[dataA, dataM])"
      ],
      "execution_count": 93,
      "outputs": [
        {
          "output_type": "execute_result",
          "data": {
            "text/plain": [
              "<matplotlib.axes._subplots.AxesSubplot at 0x7f3ec5893e90>"
            ]
          },
          "metadata": {
            "tags": []
          },
          "execution_count": 93
        },
        {
          "output_type": "display_data",
          "data": {
            "image/png": "[encoded data removed]",
            "text/plain": [
              "<Figure size 432x288 with 1 Axes>"
            ]
          },
          "metadata": {
            "tags": [],
            "needs_background": "light"
          }
        }
      ]
    },
    {
      "cell_type": "markdown",
      "metadata": {
        "id": "ZTqG6WyieRV0"
      },
      "source": [
        "> Conforme podemos ver nos gráficos plotados e no p-value resultante do one sample t test, que a média das distribuições são diferentes"
      ]
    },
    {
      "cell_type": "markdown",
      "metadata": {
        "id": "QtOevkzuWGCh"
      },
      "source": [
        "## Vamos comparar agora se existe alguma diferença na avaliação média entre séries e filmes"
      ]
    },
    {
      "cell_type": "markdown",
      "metadata": {
        "id": "_hz3goqKWTlx"
      },
      "source": [
        "### Antes precisamos verificar para séries e filmes se suas distribuições seguem uma normal"
      ]
    },
    {
      "cell_type": "code",
      "metadata": {
        "colab": {
          "base_uri": "https://localhost:8080/",
          "height": 0
        },
        "id": "Jtv3BgiYXrER",
        "outputId": "24523581-0421-48e1-db28-525c16525574"
      },
      "source": [
        "sns.histplot(data=juntaTD.loc[juntaTD.type=='TV Show'], x='averageRating_NORM', kde=True)"
      ],
      "execution_count": 94,
      "outputs": [
        {
          "output_type": "execute_result",
          "data": {
            "text/plain": [
              "<matplotlib.axes._subplots.AxesSubplot at 0x7f3ec57ee850>"
            ]
          },
          "metadata": {
            "tags": []
          },
          "execution_count": 94
        },
        {
          "output_type": "display_data",
          "data": {
            "image/png": "[encoded data removed]",
            "text/plain": [
              "<Figure size 432x288 with 1 Axes>"
            ]
          },
          "metadata": {
            "tags": [],
            "needs_background": "light"
          }
        }
      ]
    },
    {
      "cell_type": "code",
      "metadata": {
        "colab": {
          "base_uri": "https://localhost:8080/"
        },
        "id": "4zjJh0bYYiLN",
        "outputId": "7c14847f-676a-4112-92cf-6785ca607bfb"
      },
      "source": [
        "stats.shapiro(juntaTD.loc[juntaTD.type=='TV Show']['averageRating_NORM'])"
      ],
      "execution_count": 95,
      "outputs": [
        {
          "output_type": "execute_result",
          "data": {
            "text/plain": [
              "(0.9555766582489014, 6.246571441750865e-18)"
            ]
          },
          "metadata": {
            "tags": []
          },
          "execution_count": 95
        }
      ]
    },
    {
      "cell_type": "code",
      "metadata": {
        "colab": {
          "base_uri": "https://localhost:8080/",
          "height": 0
        },
        "id": "hYS-75aAX9Wr",
        "outputId": "99d78078-6961-4221-ad87-8b7302aca87d"
      },
      "source": [
        "sns.histplot(data=juntaTD.loc[juntaTD.type=='Movie'], x='averageRating_NORM', kde=True)"
      ],
      "execution_count": 96,
      "outputs": [
        {
          "output_type": "execute_result",
          "data": {
            "text/plain": [
              "<matplotlib.axes._subplots.AxesSubplot at 0x7f3ec5805f50>"
            ]
          },
          "metadata": {
            "tags": []
          },
          "execution_count": 96
        },
        {
          "output_type": "display_data",
          "data": {
            "image/png": "[encoded data removed]",
            "text/plain": [
              "<Figure size 432x288 with 1 Axes>"
            ]
          },
          "metadata": {
            "tags": [],
            "needs_background": "light"
          }
        }
      ]
    },
    {
      "cell_type": "code",
      "metadata": {
        "colab": {
          "base_uri": "https://localhost:8080/"
        },
        "id": "8luk27BiYEwG",
        "outputId": "d442d5ff-378b-4ed3-efbf-2da9a13fd2f0"
      },
      "source": [
        "stats.shapiro(juntaTD1.loc[juntaTD.type=='Movie']['averageRating_NORM'])"
      ],
      "execution_count": 97,
      "outputs": [
        {
          "output_type": "execute_result",
          "data": {
            "text/plain": [
              "(0.9859991669654846, 1.4573036686085523e-15)"
            ]
          },
          "metadata": {
            "tags": []
          },
          "execution_count": 97
        }
      ]
    },
    {
      "cell_type": "markdown",
      "metadata": {
        "id": "rj0JGHNdYnLK"
      },
      "source": [
        "### Como podemos ver nenhuma das distribuições seguem uma normal, e os grupos não são pareados, assim utilizaremos o Mann-Whitney test para comparar as duas distribuições."
      ]
    },
    {
      "cell_type": "code",
      "metadata": {
        "colab": {
          "base_uri": "https://localhost:8080/"
        },
        "id": "Jov6bRhxZC9z",
        "outputId": "0441b38b-87b4-4880-fa61-22a0b4365480"
      },
      "source": [
        "ttest,pval = stats.mannwhitneyu(juntaTD.loc[juntaTD.type=='TV Show']['averageRating_NORM'],juntaTD.loc[juntaTD.type=='Movie']['averageRating_NORM'])\n",
        "print(\"p-value\",pval)\n",
        "if pval <0.05:\n",
        "  print(\"Temos que a hipótese nula foi rejeitada\")\n",
        "else:\n",
        "  print(\"A hipótese nula é aceita\")"
      ],
      "execution_count": 98,
      "outputs": [
        {
          "output_type": "stream",
          "text": [
            "p-value 1.0229334983857813e-85\n",
            "Temos que a hipótese nula foi rejeitada\n"
          ],
          "name": "stdout"
        }
      ]
    },
    {
      "cell_type": "markdown",
      "metadata": {
        "id": "hI2k2ebPbNKW"
      },
      "source": [
        "* Plotando dois gráficos com as distribuições para facilitar a visualização"
      ]
    },
    {
      "cell_type": "code",
      "metadata": {
        "colab": {
          "base_uri": "https://localhost:8080/",
          "height": 0
        },
        "id": "OKPthR0mbVvJ",
        "outputId": "351dac52-387f-48b3-9770-a4fbb6343271"
      },
      "source": [
        "sns.violinplot(data=juntaTD, x='type', y='averageRating')"
      ],
      "execution_count": 99,
      "outputs": [
        {
          "output_type": "execute_result",
          "data": {
            "text/plain": [
              "<matplotlib.axes._subplots.AxesSubplot at 0x7f3ec5651610>"
            ]
          },
          "metadata": {
            "tags": []
          },
          "execution_count": 99
        },
        {
          "output_type": "display_data",
          "data": {
            "image/png": "[encoded data removed]",
            "text/plain": [
              "<Figure size 432x288 with 1 Axes>"
            ]
          },
          "metadata": {
            "tags": [],
            "needs_background": "light"
          }
        }
      ]
    },
    {
      "cell_type": "code",
      "metadata": {
        "colab": {
          "base_uri": "https://localhost:8080/",
          "height": 0
        },
        "id": "jEOVSvl4bklG",
        "outputId": "3e3023fd-6950-4e7b-e393-fb9d2427e3a0"
      },
      "source": [
        "dataA = juntaTD.loc[juntaTD.type == 'TV Show',['averageRating_NORM']]\n",
        "dataM = juntaTD[juntaTD['type'] == 'Movie']['averageRating_NORM']\n",
        "sns.boxplot(data=[dataM, dataA])"
      ],
      "execution_count": 100,
      "outputs": [
        {
          "output_type": "execute_result",
          "data": {
            "text/plain": [
              "<matplotlib.axes._subplots.AxesSubplot at 0x7f3ec55aae10>"
            ]
          },
          "metadata": {
            "tags": []
          },
          "execution_count": 100
        },
        {
          "output_type": "display_data",
          "data": {
            "image/png": "[encoded data removed]",
            "text/plain": [
              "<Figure size 432x288 with 1 Axes>"
            ]
          },
          "metadata": {
            "tags": [],
            "needs_background": "light"
          }
        }
      ]
    },
    {
      "cell_type": "markdown",
      "metadata": {
        "id": "fGaF84Na5OPo"
      },
      "source": [
        "# Projeto 2"
      ]
    },
    {
      "cell_type": "markdown",
      "metadata": {
        "id": "nKNvBfoo5QZG"
      },
      "source": [
        "##Vamos utilizar como rótulo as notas dos filmes, discretizá-las e tentar classificar os filmes de acordo com o score."
      ]
    },
    {
      "cell_type": "markdown",
      "metadata": {
        "id": "A65T0xr68XIB"
      },
      "source": [
        "#### Antes iremos organizar melhor nosso dataset excluindo algumas colunas, preprocessando a descrição e definindo os gêneros dos filmes"
      ]
    },
    {
      "cell_type": "code",
      "metadata": {
        "id": "P2Ic3YRR9C7k"
      },
      "source": [
        "juntaTD = juntaTD.reset_index()"
      ],
      "execution_count": 101,
      "outputs": []
    },
    {
      "cell_type": "code",
      "metadata": {
        "colab": {
          "base_uri": "https://localhost:8080/",
          "height": 1000
        },
        "id": "sexO4FXW-qT0",
        "outputId": "83eedcd6-942d-41b8-9a9e-853205bc4e6f"
      },
      "source": [
        "juntaTD.head(10)"
      ],
      "execution_count": 102,
      "outputs": [
        {
          "output_type": "execute_result",
          "data": {
            "text/html": [
              "<div>\n",
              "<style scoped>\n",
              "    .dataframe tbody tr th:only-of-type {\n",
              "        vertical-align: middle;\n",
              "    }\n",
              "\n",
              "    .dataframe tbody tr th {\n",
              "        vertical-align: top;\n",
              "    }\n",
              "\n",
              "    .dataframe thead th {\n",
              "        text-align: right;\n",
              "    }\n",
              "</style>\n",
              "<table border=\"1\" class=\"dataframe\">\n",
              "  <thead>\n",
              "    <tr style=\"text-align: right;\">\n",
              "      <th></th>\n",
              "      <th>index</th>\n",
              "      <th>averageRating</th>\n",
              "      <th>numVotes</th>\n",
              "      <th>primaryTitle</th>\n",
              "      <th>show_id</th>\n",
              "      <th>type</th>\n",
              "      <th>title</th>\n",
              "      <th>director</th>\n",
              "      <th>cast</th>\n",
              "      <th>country</th>\n",
              "      <th>date_added</th>\n",
              "      <th>release_year</th>\n",
              "      <th>rating</th>\n",
              "      <th>duration</th>\n",
              "      <th>listed_in</th>\n",
              "      <th>description</th>\n",
              "      <th>main_country</th>\n",
              "      <th>year_added</th>\n",
              "      <th>averageRating_NORM</th>\n",
              "    </tr>\n",
              "  </thead>\n",
              "  <tbody>\n",
              "    <tr>\n",
              "      <th>0</th>\n",
              "      <td>2779</td>\n",
              "      <td>6.4</td>\n",
              "      <td>80210</td>\n",
              "      <td>Kate &amp; Leopold</td>\n",
              "      <td>s3315</td>\n",
              "      <td>Movie</td>\n",
              "      <td>Kate &amp; Leopold</td>\n",
              "      <td>James Mangold</td>\n",
              "      <td>Meg Ryan, Hugh Jackman, Liev Schreiber, Brecki...</td>\n",
              "      <td>United States</td>\n",
              "      <td>2020-01-01</td>\n",
              "      <td>2001</td>\n",
              "      <td>PG-13</td>\n",
              "      <td>118</td>\n",
              "      <td>Comedies, Romantic Movies</td>\n",
              "      <td>A present-day woman takes responsibility for g...</td>\n",
              "      <td>United States</td>\n",
              "      <td>2020</td>\n",
              "      <td>-0.055475</td>\n",
              "    </tr>\n",
              "    <tr>\n",
              "      <th>1</th>\n",
              "      <td>2822</td>\n",
              "      <td>6.7</td>\n",
              "      <td>2093</td>\n",
              "      <td>San Pietro</td>\n",
              "      <td>s5372</td>\n",
              "      <td>Movie</td>\n",
              "      <td>San Pietro</td>\n",
              "      <td>John Huston</td>\n",
              "      <td>desconhecido</td>\n",
              "      <td>United States</td>\n",
              "      <td>2017-03-31</td>\n",
              "      <td>1945</td>\n",
              "      <td>TV-14</td>\n",
              "      <td>32</td>\n",
              "      <td>Classic Movies, Documentaries</td>\n",
              "      <td>After the Allies invade Italy, the Liri Valley...</td>\n",
              "      <td>United States</td>\n",
              "      <td>2017</td>\n",
              "      <td>0.192097</td>\n",
              "    </tr>\n",
              "    <tr>\n",
              "      <th>2</th>\n",
              "      <td>2869</td>\n",
              "      <td>6.7</td>\n",
              "      <td>546</td>\n",
              "      <td>Tunisian Victory</td>\n",
              "      <td>s7269</td>\n",
              "      <td>Movie</td>\n",
              "      <td>Tunisian Victory</td>\n",
              "      <td>Frank Capra, John Huston, Hugh Stewart, Roy Bo...</td>\n",
              "      <td>Burgess Meredith</td>\n",
              "      <td>United States, United Kingdom</td>\n",
              "      <td>2017-03-31</td>\n",
              "      <td>1944</td>\n",
              "      <td>TV-14</td>\n",
              "      <td>76</td>\n",
              "      <td>Classic Movies, Documentaries</td>\n",
              "      <td>British and American troops join forces to lib...</td>\n",
              "      <td>United States</td>\n",
              "      <td>2017</td>\n",
              "      <td>0.192097</td>\n",
              "    </tr>\n",
              "    <tr>\n",
              "      <th>3</th>\n",
              "      <td>3629</td>\n",
              "      <td>6.5</td>\n",
              "      <td>1371</td>\n",
              "      <td>The Sign of Venus</td>\n",
              "      <td>s6869</td>\n",
              "      <td>Movie</td>\n",
              "      <td>The Sign of Venus</td>\n",
              "      <td>Dino Risi</td>\n",
              "      <td>Sophia Loren, Franca Valeri, Vittorio De Sica,...</td>\n",
              "      <td>Italy</td>\n",
              "      <td>2020-11-13</td>\n",
              "      <td>1955</td>\n",
              "      <td>TV-14</td>\n",
              "      <td>97</td>\n",
              "      <td>Classic Movies, Comedies, Independent Movies</td>\n",
              "      <td>While suitors swoon over her cousin, a single ...</td>\n",
              "      <td>Italy</td>\n",
              "      <td>2020</td>\n",
              "      <td>0.027049</td>\n",
              "    </tr>\n",
              "    <tr>\n",
              "      <th>4</th>\n",
              "      <td>3867</td>\n",
              "      <td>6.4</td>\n",
              "      <td>96</td>\n",
              "      <td>This Is My Love</td>\n",
              "      <td>s7050</td>\n",
              "      <td>TV Show</td>\n",
              "      <td>This Is My Love</td>\n",
              "      <td>desconhecido</td>\n",
              "      <td>Jin-mo Joo, Sa-rang Kim, Junior, Ja-in Lee, Su...</td>\n",
              "      <td>South Korea</td>\n",
              "      <td>2017-05-22</td>\n",
              "      <td>2015</td>\n",
              "      <td>TV-14</td>\n",
              "      <td>1</td>\n",
              "      <td>International TV Shows, Korean TV Shows, Roman...</td>\n",
              "      <td>A renowned actor who is still pining over the ...</td>\n",
              "      <td>South Korea</td>\n",
              "      <td>2017</td>\n",
              "      <td>-0.055475</td>\n",
              "    </tr>\n",
              "    <tr>\n",
              "      <th>5</th>\n",
              "      <td>3981</td>\n",
              "      <td>6.5</td>\n",
              "      <td>2121</td>\n",
              "      <td>Scandal in Sorrento</td>\n",
              "      <td>s5426</td>\n",
              "      <td>Movie</td>\n",
              "      <td>Scandal in Sorrento</td>\n",
              "      <td>Dino Risi</td>\n",
              "      <td>Vittorio De Sica, Sophia Loren, Lea Padovani, ...</td>\n",
              "      <td>Italy, France</td>\n",
              "      <td>2020-11-13</td>\n",
              "      <td>1955</td>\n",
              "      <td>TV-PG</td>\n",
              "      <td>93</td>\n",
              "      <td>Classic Movies, Comedies, Independent Movies</td>\n",
              "      <td>When a marshal moves back to his hometown, he ...</td>\n",
              "      <td>Italy</td>\n",
              "      <td>2020</td>\n",
              "      <td>0.027049</td>\n",
              "    </tr>\n",
              "    <tr>\n",
              "      <th>6</th>\n",
              "      <td>3990</td>\n",
              "      <td>7.6</td>\n",
              "      <td>3807</td>\n",
              "      <td>Cairo Station</td>\n",
              "      <td>s1170</td>\n",
              "      <td>Movie</td>\n",
              "      <td>Cairo Station</td>\n",
              "      <td>Youssef Chahine</td>\n",
              "      <td>Farid Shawqy, Hind Rostom, Youssef Chahine, Ha...</td>\n",
              "      <td>Egypt</td>\n",
              "      <td>2020-06-18</td>\n",
              "      <td>1958</td>\n",
              "      <td>TV-14</td>\n",
              "      <td>73</td>\n",
              "      <td>Classic Movies, Dramas, International Movies</td>\n",
              "      <td>A Cairo newsstand vendor's fantasies morph int...</td>\n",
              "      <td>Egypt</td>\n",
              "      <td>2020</td>\n",
              "      <td>0.934810</td>\n",
              "    </tr>\n",
              "    <tr>\n",
              "      <th>7</th>\n",
              "      <td>4166</td>\n",
              "      <td>8.3</td>\n",
              "      <td>12805</td>\n",
              "      <td>The Andy Griffith Show</td>\n",
              "      <td>s6083</td>\n",
              "      <td>TV Show</td>\n",
              "      <td>The Andy Griffith Show</td>\n",
              "      <td>desconhecido</td>\n",
              "      <td>Andy Griffith, Ron Howard, Don Knotts, Frances...</td>\n",
              "      <td>United States</td>\n",
              "      <td>2017-07-01</td>\n",
              "      <td>1967</td>\n",
              "      <td>TV-G</td>\n",
              "      <td>8</td>\n",
              "      <td>Classic &amp; Cult TV, TV Comedies</td>\n",
              "      <td>Homespun humor and easygoing Sheriff Andy Tayl...</td>\n",
              "      <td>United States</td>\n",
              "      <td>2017</td>\n",
              "      <td>1.512476</td>\n",
              "    </tr>\n",
              "    <tr>\n",
              "      <th>8</th>\n",
              "      <td>4227</td>\n",
              "      <td>7.4</td>\n",
              "      <td>436</td>\n",
              "      <td>Jis Desh Men Ganga Behti Hai</td>\n",
              "      <td>s3188</td>\n",
              "      <td>Movie</td>\n",
              "      <td>Jis Desh Men Ganga Behti Hai</td>\n",
              "      <td>Radhu Karmakar</td>\n",
              "      <td>Raj Kapoor, Padmini, Pran, Chanchal, Lalita Pa...</td>\n",
              "      <td>United States</td>\n",
              "      <td>2019-12-31</td>\n",
              "      <td>1960</td>\n",
              "      <td>TV-14</td>\n",
              "      <td>181</td>\n",
              "      <td>Action &amp; Adventure, Dramas, International Movies</td>\n",
              "      <td>Falling in with a band of outlaws during a hol...</td>\n",
              "      <td>United States</td>\n",
              "      <td>2019</td>\n",
              "      <td>0.769762</td>\n",
              "    </tr>\n",
              "    <tr>\n",
              "      <th>9</th>\n",
              "      <td>4671</td>\n",
              "      <td>7.5</td>\n",
              "      <td>8592</td>\n",
              "      <td>Diary of a Chambermaid</td>\n",
              "      <td>s1750</td>\n",
              "      <td>Movie</td>\n",
              "      <td>Diary of a Chambermaid</td>\n",
              "      <td>Benoît Jacquot</td>\n",
              "      <td>Léa Seydoux, Vincent Lindon, Clotilde Mollet, ...</td>\n",
              "      <td>France, Belgium</td>\n",
              "      <td>2016-12-03</td>\n",
              "      <td>2015</td>\n",
              "      <td>NR</td>\n",
              "      <td>96</td>\n",
              "      <td>Dramas, International Movies</td>\n",
              "      <td>An attractive young woman goes to work as a ch...</td>\n",
              "      <td>France</td>\n",
              "      <td>2016</td>\n",
              "      <td>0.852286</td>\n",
              "    </tr>\n",
              "  </tbody>\n",
              "</table>\n",
              "</div>"
            ],
            "text/plain": [
              "   index  averageRating  ...  year_added averageRating_NORM\n",
              "0   2779            6.4  ...        2020          -0.055475\n",
              "1   2822            6.7  ...        2017           0.192097\n",
              "2   2869            6.7  ...        2017           0.192097\n",
              "3   3629            6.5  ...        2020           0.027049\n",
              "4   3867            6.4  ...        2017          -0.055475\n",
              "5   3981            6.5  ...        2020           0.027049\n",
              "6   3990            7.6  ...        2020           0.934810\n",
              "7   4166            8.3  ...        2017           1.512476\n",
              "8   4227            7.4  ...        2019           0.769762\n",
              "9   4671            7.5  ...        2016           0.852286\n",
              "\n",
              "[10 rows x 19 columns]"
            ]
          },
          "metadata": {
            "tags": []
          },
          "execution_count": 102
        }
      ]
    },
    {
      "cell_type": "code",
      "metadata": {
        "id": "-RFylOSlHYA5"
      },
      "source": [
        "juntaTD = juntaTD.drop(['index', 'primaryTitle', 'show_id', 'country', 'date_added', 'averageRating_NORM'], axis = 1)"
      ],
      "execution_count": 103,
      "outputs": []
    },
    {
      "cell_type": "code",
      "metadata": {
        "colab": {
          "base_uri": "https://localhost:8080/",
          "height": 742
        },
        "id": "wzWIgsSGIweF",
        "outputId": "412bf064-b313-421b-b577-6ff0f3626981"
      },
      "source": [
        "juntaTD"
      ],
      "execution_count": 104,
      "outputs": [
        {
          "output_type": "execute_result",
          "data": {
            "text/html": [
              "<div>\n",
              "<style scoped>\n",
              "    .dataframe tbody tr th:only-of-type {\n",
              "        vertical-align: middle;\n",
              "    }\n",
              "\n",
              "    .dataframe tbody tr th {\n",
              "        vertical-align: top;\n",
              "    }\n",
              "\n",
              "    .dataframe thead th {\n",
              "        text-align: right;\n",
              "    }\n",
              "</style>\n",
              "<table border=\"1\" class=\"dataframe\">\n",
              "  <thead>\n",
              "    <tr style=\"text-align: right;\">\n",
              "      <th></th>\n",
              "      <th>averageRating</th>\n",
              "      <th>numVotes</th>\n",
              "      <th>type</th>\n",
              "      <th>title</th>\n",
              "      <th>director</th>\n",
              "      <th>cast</th>\n",
              "      <th>release_year</th>\n",
              "      <th>rating</th>\n",
              "      <th>duration</th>\n",
              "      <th>listed_in</th>\n",
              "      <th>description</th>\n",
              "      <th>main_country</th>\n",
              "      <th>year_added</th>\n",
              "    </tr>\n",
              "  </thead>\n",
              "  <tbody>\n",
              "    <tr>\n",
              "      <th>0</th>\n",
              "      <td>6.4</td>\n",
              "      <td>80210</td>\n",
              "      <td>Movie</td>\n",
              "      <td>Kate &amp; Leopold</td>\n",
              "      <td>James Mangold</td>\n",
              "      <td>Meg Ryan, Hugh Jackman, Liev Schreiber, Brecki...</td>\n",
              "      <td>2001</td>\n",
              "      <td>PG-13</td>\n",
              "      <td>118</td>\n",
              "      <td>Comedies, Romantic Movies</td>\n",
              "      <td>A present-day woman takes responsibility for g...</td>\n",
              "      <td>United States</td>\n",
              "      <td>2020</td>\n",
              "    </tr>\n",
              "    <tr>\n",
              "      <th>1</th>\n",
              "      <td>6.7</td>\n",
              "      <td>2093</td>\n",
              "      <td>Movie</td>\n",
              "      <td>San Pietro</td>\n",
              "      <td>John Huston</td>\n",
              "      <td>desconhecido</td>\n",
              "      <td>1945</td>\n",
              "      <td>TV-14</td>\n",
              "      <td>32</td>\n",
              "      <td>Classic Movies, Documentaries</td>\n",
              "      <td>After the Allies invade Italy, the Liri Valley...</td>\n",
              "      <td>United States</td>\n",
              "      <td>2017</td>\n",
              "    </tr>\n",
              "    <tr>\n",
              "      <th>2</th>\n",
              "      <td>6.7</td>\n",
              "      <td>546</td>\n",
              "      <td>Movie</td>\n",
              "      <td>Tunisian Victory</td>\n",
              "      <td>Frank Capra, John Huston, Hugh Stewart, Roy Bo...</td>\n",
              "      <td>Burgess Meredith</td>\n",
              "      <td>1944</td>\n",
              "      <td>TV-14</td>\n",
              "      <td>76</td>\n",
              "      <td>Classic Movies, Documentaries</td>\n",
              "      <td>British and American troops join forces to lib...</td>\n",
              "      <td>United States</td>\n",
              "      <td>2017</td>\n",
              "    </tr>\n",
              "    <tr>\n",
              "      <th>3</th>\n",
              "      <td>6.5</td>\n",
              "      <td>1371</td>\n",
              "      <td>Movie</td>\n",
              "      <td>The Sign of Venus</td>\n",
              "      <td>Dino Risi</td>\n",
              "      <td>Sophia Loren, Franca Valeri, Vittorio De Sica,...</td>\n",
              "      <td>1955</td>\n",
              "      <td>TV-14</td>\n",
              "      <td>97</td>\n",
              "      <td>Classic Movies, Comedies, Independent Movies</td>\n",
              "      <td>While suitors swoon over her cousin, a single ...</td>\n",
              "      <td>Italy</td>\n",
              "      <td>2020</td>\n",
              "    </tr>\n",
              "    <tr>\n",
              "      <th>4</th>\n",
              "      <td>6.4</td>\n",
              "      <td>96</td>\n",
              "      <td>TV Show</td>\n",
              "      <td>This Is My Love</td>\n",
              "      <td>desconhecido</td>\n",
              "      <td>Jin-mo Joo, Sa-rang Kim, Junior, Ja-in Lee, Su...</td>\n",
              "      <td>2015</td>\n",
              "      <td>TV-14</td>\n",
              "      <td>1</td>\n",
              "      <td>International TV Shows, Korean TV Shows, Roman...</td>\n",
              "      <td>A renowned actor who is still pining over the ...</td>\n",
              "      <td>South Korea</td>\n",
              "      <td>2017</td>\n",
              "    </tr>\n",
              "    <tr>\n",
              "      <th>...</th>\n",
              "      <td>...</td>\n",
              "      <td>...</td>\n",
              "      <td>...</td>\n",
              "      <td>...</td>\n",
              "      <td>...</td>\n",
              "      <td>...</td>\n",
              "      <td>...</td>\n",
              "      <td>...</td>\n",
              "      <td>...</td>\n",
              "      <td>...</td>\n",
              "      <td>...</td>\n",
              "      <td>...</td>\n",
              "      <td>...</td>\n",
              "    </tr>\n",
              "    <tr>\n",
              "      <th>3833</th>\n",
              "      <td>3.9</td>\n",
              "      <td>8</td>\n",
              "      <td>TV Show</td>\n",
              "      <td>Cocomong</td>\n",
              "      <td>desconhecido</td>\n",
              "      <td>Jung Sun-hye, Yang Jeong-hwa, Kim Jang, Ryoo J...</td>\n",
              "      <td>2015</td>\n",
              "      <td>TV-Y</td>\n",
              "      <td>2</td>\n",
              "      <td>Kids' TV, Korean TV Shows</td>\n",
              "      <td>What's in your fridge? In sunny Refrigerator L...</td>\n",
              "      <td>United States</td>\n",
              "      <td>2019</td>\n",
              "    </tr>\n",
              "    <tr>\n",
              "      <th>3834</th>\n",
              "      <td>6.2</td>\n",
              "      <td>111</td>\n",
              "      <td>TV Show</td>\n",
              "      <td>Chip and Potato</td>\n",
              "      <td>desconhecido</td>\n",
              "      <td>Abigail Oliver, Andrea Libman, Briana Buckmast...</td>\n",
              "      <td>2019</td>\n",
              "      <td>TV-Y</td>\n",
              "      <td>2</td>\n",
              "      <td>Kids' TV</td>\n",
              "      <td>Lovable pug Chip starts kindergarten, makes ne...</td>\n",
              "      <td>United Kingdom</td>\n",
              "      <td>2019</td>\n",
              "    </tr>\n",
              "    <tr>\n",
              "      <th>3835</th>\n",
              "      <td>5.1</td>\n",
              "      <td>12376</td>\n",
              "      <td>Movie</td>\n",
              "      <td>Coffee &amp; Kareem</td>\n",
              "      <td>Michael Dowse</td>\n",
              "      <td>Ed Helms, Taraji P. Henson, Terrence Little Ga...</td>\n",
              "      <td>2020</td>\n",
              "      <td>TV-MA</td>\n",
              "      <td>88</td>\n",
              "      <td>Action &amp; Adventure, Comedies</td>\n",
              "      <td>An inept Detroit cop must team up with his gir...</td>\n",
              "      <td>United States</td>\n",
              "      <td>2020</td>\n",
              "    </tr>\n",
              "    <tr>\n",
              "      <th>3836</th>\n",
              "      <td>6.6</td>\n",
              "      <td>35</td>\n",
              "      <td>TV Show</td>\n",
              "      <td>Flowering Heart</td>\n",
              "      <td>desconhecido</td>\n",
              "      <td>Choi Da-in, Yang Se-na, Gim Chae-eun, Esther, ...</td>\n",
              "      <td>2016</td>\n",
              "      <td>TV-Y7</td>\n",
              "      <td>1</td>\n",
              "      <td>Kids' TV, Korean TV Shows</td>\n",
              "      <td>An ordinary student, who forms an advice club ...</td>\n",
              "      <td>South Korea</td>\n",
              "      <td>2019</td>\n",
              "    </tr>\n",
              "    <tr>\n",
              "      <th>3837</th>\n",
              "      <td>6.8</td>\n",
              "      <td>162</td>\n",
              "      <td>TV Show</td>\n",
              "      <td>Bangkok Love Stories: Innocence</td>\n",
              "      <td>desconhecido</td>\n",
              "      <td>Nida Patcharaveerapong, Nicole Theriault, Natt...</td>\n",
              "      <td>2018</td>\n",
              "      <td>TV-14</td>\n",
              "      <td>1</td>\n",
              "      <td>International TV Shows, Romantic TV Shows, TV ...</td>\n",
              "      <td>From a teenage parkour enthusiast to a bawdy r...</td>\n",
              "      <td>Thailand</td>\n",
              "      <td>2019</td>\n",
              "    </tr>\n",
              "  </tbody>\n",
              "</table>\n",
              "<p>3838 rows × 13 columns</p>\n",
              "</div>"
            ],
            "text/plain": [
              "      averageRating  numVotes  ...    main_country year_added\n",
              "0               6.4     80210  ...   United States       2020\n",
              "1               6.7      2093  ...   United States       2017\n",
              "2               6.7       546  ...   United States       2017\n",
              "3               6.5      1371  ...           Italy       2020\n",
              "4               6.4        96  ...     South Korea       2017\n",
              "...             ...       ...  ...             ...        ...\n",
              "3833            3.9         8  ...   United States       2019\n",
              "3834            6.2       111  ...  United Kingdom       2019\n",
              "3835            5.1     12376  ...   United States       2020\n",
              "3836            6.6        35  ...     South Korea       2019\n",
              "3837            6.8       162  ...        Thailand       2019\n",
              "\n",
              "[3838 rows x 13 columns]"
            ]
          },
          "metadata": {
            "tags": []
          },
          "execution_count": 104
        }
      ]
    },
    {
      "cell_type": "markdown",
      "metadata": {
        "id": "Xtv_vH2oLvn1"
      },
      "source": [
        "####Preprocessando nossa descrição dos filmes"
      ]
    },
    {
      "cell_type": "code",
      "metadata": {
        "colab": {
          "base_uri": "https://localhost:8080/"
        },
        "id": "ad3hUKDKJ1yU",
        "outputId": "6492e201-2341-48f3-f321-358feb021160"
      },
      "source": [
        "\n",
        "import pandas as pd # our main data management package\n",
        "import matplotlib.pyplot as plt # our main display package\n",
        "import string # used for preprocessing\n",
        "import re # used for preprocessing\n",
        "import nltk \n",
        "from nltk.tokenize import word_tokenize\n",
        "from nltk.corpus import stopwords\n",
        "from nltk.stem import WordNetLemmatizer\n",
        "from sklearn.feature_extraction.text import TfidfVectorizer\n",
        "nltk.download('stopwords')\n",
        "nltk.download('wordnet')\n",
        "nltk.download('punkt')"
      ],
      "execution_count": 105,
      "outputs": [
        {
          "output_type": "stream",
          "text": [
            "[nltk_data] Downloading package stopwords to /root/nltk_data...\n",
            "[nltk_data]   Package stopwords is already up-to-date!\n",
            "[nltk_data] Downloading package wordnet to /root/nltk_data...\n",
            "[nltk_data]   Package wordnet is already up-to-date!\n",
            "[nltk_data] Downloading package punkt to /root/nltk_data...\n",
            "[nltk_data]   Package punkt is already up-to-date!\n"
          ],
          "name": "stdout"
        },
        {
          "output_type": "execute_result",
          "data": {
            "text/plain": [
              "True"
            ]
          },
          "metadata": {
            "tags": []
          },
          "execution_count": 105
        }
      ]
    },
    {
      "cell_type": "code",
      "metadata": {
        "id": "W2IMiKNsLVRY"
      },
      "source": [
        "# make all text lowercase\n",
        "def text_lowercase(text):\n",
        "    return text.lower()\n",
        "# remove numbers\n",
        "def remove_numbers(text):\n",
        "    result = re.sub(r'\\d+', '', text)\n",
        "    return result\n",
        "# remove punctuation\n",
        "def remove_punctuation(text):\n",
        "    translator = str.maketrans('', '', string.punctuation)\n",
        "    return text.translate(translator)\n",
        "# tokenize\n",
        "def tokenize(text):\n",
        "    text = word_tokenize(text)\n",
        "    return text\n",
        "# remove stopwords\n",
        "stop_words = set(stopwords.words('english'))\n",
        "def remove_stopwords(text):\n",
        "    text = [i for i in text if not i in stop_words]\n",
        "    return text\n",
        "# lemmatize\n",
        "lemmatizer = WordNetLemmatizer()\n",
        "def lemmatize(text):\n",
        "    text = [lemmatizer.lemmatize(token) for token in text]\n",
        "    return text\n",
        "\n",
        "def preprocessing(text):\n",
        "    text = text_lowercase(text)\n",
        "    text = remove_numbers(text)\n",
        "    text = remove_punctuation(text)\n",
        "    text = tokenize(text)\n",
        "    text = remove_stopwords(text)\n",
        "    text = lemmatize(text)\n",
        "    text = ' '.join(text)\n",
        "    return text"
      ],
      "execution_count": 106,
      "outputs": []
    },
    {
      "cell_type": "code",
      "metadata": {
        "id": "O12hWPUVLhXU"
      },
      "source": [
        "pp_text_train = [] # our preprocessed text column\n",
        "for text_data in juntaTD['description']:\n",
        "    pp_text_data = preprocessing(text_data)\n",
        "    pp_text_train.append(pp_text_data)\n",
        "juntaTD['pp_desc'] = pp_text_train # add the preprocessed text as a column"
      ],
      "execution_count": 107,
      "outputs": []
    },
    {
      "cell_type": "code",
      "metadata": {
        "colab": {
          "base_uri": "https://localhost:8080/",
          "height": 391
        },
        "id": "H4BGUvXIMSdU",
        "outputId": "cf922f30-9c13-403b-e97d-9728634f415a"
      },
      "source": [
        "juntaTD.head()"
      ],
      "execution_count": 108,
      "outputs": [
        {
          "output_type": "execute_result",
          "data": {
            "text/html": [
              "<div>\n",
              "<style scoped>\n",
              "    .dataframe tbody tr th:only-of-type {\n",
              "        vertical-align: middle;\n",
              "    }\n",
              "\n",
              "    .dataframe tbody tr th {\n",
              "        vertical-align: top;\n",
              "    }\n",
              "\n",
              "    .dataframe thead th {\n",
              "        text-align: right;\n",
              "    }\n",
              "</style>\n",
              "<table border=\"1\" class=\"dataframe\">\n",
              "  <thead>\n",
              "    <tr style=\"text-align: right;\">\n",
              "      <th></th>\n",
              "      <th>averageRating</th>\n",
              "      <th>numVotes</th>\n",
              "      <th>type</th>\n",
              "      <th>title</th>\n",
              "      <th>director</th>\n",
              "      <th>cast</th>\n",
              "      <th>release_year</th>\n",
              "      <th>rating</th>\n",
              "      <th>duration</th>\n",
              "      <th>listed_in</th>\n",
              "      <th>description</th>\n",
              "      <th>main_country</th>\n",
              "      <th>year_added</th>\n",
              "      <th>pp_desc</th>\n",
              "    </tr>\n",
              "  </thead>\n",
              "  <tbody>\n",
              "    <tr>\n",
              "      <th>0</th>\n",
              "      <td>6.4</td>\n",
              "      <td>80210</td>\n",
              "      <td>Movie</td>\n",
              "      <td>Kate &amp; Leopold</td>\n",
              "      <td>James Mangold</td>\n",
              "      <td>Meg Ryan, Hugh Jackman, Liev Schreiber, Brecki...</td>\n",
              "      <td>2001</td>\n",
              "      <td>PG-13</td>\n",
              "      <td>118</td>\n",
              "      <td>Comedies, Romantic Movies</td>\n",
              "      <td>A present-day woman takes responsibility for g...</td>\n",
              "      <td>United States</td>\n",
              "      <td>2020</td>\n",
              "      <td>presentday woman take responsibility guiding c...</td>\n",
              "    </tr>\n",
              "    <tr>\n",
              "      <th>1</th>\n",
              "      <td>6.7</td>\n",
              "      <td>2093</td>\n",
              "      <td>Movie</td>\n",
              "      <td>San Pietro</td>\n",
              "      <td>John Huston</td>\n",
              "      <td>desconhecido</td>\n",
              "      <td>1945</td>\n",
              "      <td>TV-14</td>\n",
              "      <td>32</td>\n",
              "      <td>Classic Movies, Documentaries</td>\n",
              "      <td>After the Allies invade Italy, the Liri Valley...</td>\n",
              "      <td>United States</td>\n",
              "      <td>2017</td>\n",
              "      <td>ally invade italy liri valley town san pietro ...</td>\n",
              "    </tr>\n",
              "    <tr>\n",
              "      <th>2</th>\n",
              "      <td>6.7</td>\n",
              "      <td>546</td>\n",
              "      <td>Movie</td>\n",
              "      <td>Tunisian Victory</td>\n",
              "      <td>Frank Capra, John Huston, Hugh Stewart, Roy Bo...</td>\n",
              "      <td>Burgess Meredith</td>\n",
              "      <td>1944</td>\n",
              "      <td>TV-14</td>\n",
              "      <td>76</td>\n",
              "      <td>Classic Movies, Documentaries</td>\n",
              "      <td>British and American troops join forces to lib...</td>\n",
              "      <td>United States</td>\n",
              "      <td>2017</td>\n",
              "      <td>british american troop join force liberate naz...</td>\n",
              "    </tr>\n",
              "    <tr>\n",
              "      <th>3</th>\n",
              "      <td>6.5</td>\n",
              "      <td>1371</td>\n",
              "      <td>Movie</td>\n",
              "      <td>The Sign of Venus</td>\n",
              "      <td>Dino Risi</td>\n",
              "      <td>Sophia Loren, Franca Valeri, Vittorio De Sica,...</td>\n",
              "      <td>1955</td>\n",
              "      <td>TV-14</td>\n",
              "      <td>97</td>\n",
              "      <td>Classic Movies, Comedies, Independent Movies</td>\n",
              "      <td>While suitors swoon over her cousin, a single ...</td>\n",
              "      <td>Italy</td>\n",
              "      <td>2020</td>\n",
              "      <td>suitor swoon cousin single woman take initiati...</td>\n",
              "    </tr>\n",
              "    <tr>\n",
              "      <th>4</th>\n",
              "      <td>6.4</td>\n",
              "      <td>96</td>\n",
              "      <td>TV Show</td>\n",
              "      <td>This Is My Love</td>\n",
              "      <td>desconhecido</td>\n",
              "      <td>Jin-mo Joo, Sa-rang Kim, Junior, Ja-in Lee, Su...</td>\n",
              "      <td>2015</td>\n",
              "      <td>TV-14</td>\n",
              "      <td>1</td>\n",
              "      <td>International TV Shows, Korean TV Shows, Roman...</td>\n",
              "      <td>A renowned actor who is still pining over the ...</td>\n",
              "      <td>South Korea</td>\n",
              "      <td>2017</td>\n",
              "      <td>renowned actor still pining loss first real lo...</td>\n",
              "    </tr>\n",
              "  </tbody>\n",
              "</table>\n",
              "</div>"
            ],
            "text/plain": [
              "   averageRating  ...                                            pp_desc\n",
              "0            6.4  ...  presentday woman take responsibility guiding c...\n",
              "1            6.7  ...  ally invade italy liri valley town san pietro ...\n",
              "2            6.7  ...  british american troop join force liberate naz...\n",
              "3            6.5  ...  suitor swoon cousin single woman take initiati...\n",
              "4            6.4  ...  renowned actor still pining loss first real lo...\n",
              "\n",
              "[5 rows x 14 columns]"
            ]
          },
          "metadata": {
            "tags": []
          },
          "execution_count": 108
        }
      ]
    },
    {
      "cell_type": "code",
      "metadata": {
        "id": "olvPAv0EUL3T"
      },
      "source": [
        "filmedf = juntaTD[juntaTD['type'] == 'Movie']"
      ],
      "execution_count": 109,
      "outputs": []
    },
    {
      "cell_type": "code",
      "metadata": {
        "id": "DadQSH0ka0HN"
      },
      "source": [
        "filmedf = filmedf.reset_index()"
      ],
      "execution_count": 110,
      "outputs": []
    },
    {
      "cell_type": "code",
      "metadata": {
        "id": "8GL8-dvibVM9"
      },
      "source": [
        "filmedf = filmedf.drop('index', axis=1)"
      ],
      "execution_count": 111,
      "outputs": []
    },
    {
      "cell_type": "code",
      "metadata": {
        "colab": {
          "base_uri": "https://localhost:8080/",
          "height": 878
        },
        "id": "D0m_dmb4bdhE",
        "outputId": "8b7e00ce-0a05-4833-f2f3-e643826a7825"
      },
      "source": [
        "filmedf"
      ],
      "execution_count": 112,
      "outputs": [
        {
          "output_type": "execute_result",
          "data": {
            "text/html": [
              "<div>\n",
              "<style scoped>\n",
              "    .dataframe tbody tr th:only-of-type {\n",
              "        vertical-align: middle;\n",
              "    }\n",
              "\n",
              "    .dataframe tbody tr th {\n",
              "        vertical-align: top;\n",
              "    }\n",
              "\n",
              "    .dataframe thead th {\n",
              "        text-align: right;\n",
              "    }\n",
              "</style>\n",
              "<table border=\"1\" class=\"dataframe\">\n",
              "  <thead>\n",
              "    <tr style=\"text-align: right;\">\n",
              "      <th></th>\n",
              "      <th>averageRating</th>\n",
              "      <th>numVotes</th>\n",
              "      <th>type</th>\n",
              "      <th>title</th>\n",
              "      <th>director</th>\n",
              "      <th>cast</th>\n",
              "      <th>release_year</th>\n",
              "      <th>rating</th>\n",
              "      <th>duration</th>\n",
              "      <th>listed_in</th>\n",
              "      <th>description</th>\n",
              "      <th>main_country</th>\n",
              "      <th>year_added</th>\n",
              "      <th>pp_desc</th>\n",
              "    </tr>\n",
              "  </thead>\n",
              "  <tbody>\n",
              "    <tr>\n",
              "      <th>0</th>\n",
              "      <td>6.4</td>\n",
              "      <td>80210</td>\n",
              "      <td>Movie</td>\n",
              "      <td>Kate &amp; Leopold</td>\n",
              "      <td>James Mangold</td>\n",
              "      <td>Meg Ryan, Hugh Jackman, Liev Schreiber, Brecki...</td>\n",
              "      <td>2001</td>\n",
              "      <td>PG-13</td>\n",
              "      <td>118</td>\n",
              "      <td>Comedies, Romantic Movies</td>\n",
              "      <td>A present-day woman takes responsibility for g...</td>\n",
              "      <td>United States</td>\n",
              "      <td>2020</td>\n",
              "      <td>presentday woman take responsibility guiding c...</td>\n",
              "    </tr>\n",
              "    <tr>\n",
              "      <th>1</th>\n",
              "      <td>6.7</td>\n",
              "      <td>2093</td>\n",
              "      <td>Movie</td>\n",
              "      <td>San Pietro</td>\n",
              "      <td>John Huston</td>\n",
              "      <td>desconhecido</td>\n",
              "      <td>1945</td>\n",
              "      <td>TV-14</td>\n",
              "      <td>32</td>\n",
              "      <td>Classic Movies, Documentaries</td>\n",
              "      <td>After the Allies invade Italy, the Liri Valley...</td>\n",
              "      <td>United States</td>\n",
              "      <td>2017</td>\n",
              "      <td>ally invade italy liri valley town san pietro ...</td>\n",
              "    </tr>\n",
              "    <tr>\n",
              "      <th>2</th>\n",
              "      <td>6.7</td>\n",
              "      <td>546</td>\n",
              "      <td>Movie</td>\n",
              "      <td>Tunisian Victory</td>\n",
              "      <td>Frank Capra, John Huston, Hugh Stewart, Roy Bo...</td>\n",
              "      <td>Burgess Meredith</td>\n",
              "      <td>1944</td>\n",
              "      <td>TV-14</td>\n",
              "      <td>76</td>\n",
              "      <td>Classic Movies, Documentaries</td>\n",
              "      <td>British and American troops join forces to lib...</td>\n",
              "      <td>United States</td>\n",
              "      <td>2017</td>\n",
              "      <td>british american troop join force liberate naz...</td>\n",
              "    </tr>\n",
              "    <tr>\n",
              "      <th>3</th>\n",
              "      <td>6.5</td>\n",
              "      <td>1371</td>\n",
              "      <td>Movie</td>\n",
              "      <td>The Sign of Venus</td>\n",
              "      <td>Dino Risi</td>\n",
              "      <td>Sophia Loren, Franca Valeri, Vittorio De Sica,...</td>\n",
              "      <td>1955</td>\n",
              "      <td>TV-14</td>\n",
              "      <td>97</td>\n",
              "      <td>Classic Movies, Comedies, Independent Movies</td>\n",
              "      <td>While suitors swoon over her cousin, a single ...</td>\n",
              "      <td>Italy</td>\n",
              "      <td>2020</td>\n",
              "      <td>suitor swoon cousin single woman take initiati...</td>\n",
              "    </tr>\n",
              "    <tr>\n",
              "      <th>4</th>\n",
              "      <td>6.5</td>\n",
              "      <td>2121</td>\n",
              "      <td>Movie</td>\n",
              "      <td>Scandal in Sorrento</td>\n",
              "      <td>Dino Risi</td>\n",
              "      <td>Vittorio De Sica, Sophia Loren, Lea Padovani, ...</td>\n",
              "      <td>1955</td>\n",
              "      <td>TV-PG</td>\n",
              "      <td>93</td>\n",
              "      <td>Classic Movies, Comedies, Independent Movies</td>\n",
              "      <td>When a marshal moves back to his hometown, he ...</td>\n",
              "      <td>Italy</td>\n",
              "      <td>2020</td>\n",
              "      <td>marshal move back hometown find woman renting ...</td>\n",
              "    </tr>\n",
              "    <tr>\n",
              "      <th>...</th>\n",
              "      <td>...</td>\n",
              "      <td>...</td>\n",
              "      <td>...</td>\n",
              "      <td>...</td>\n",
              "      <td>...</td>\n",
              "      <td>...</td>\n",
              "      <td>...</td>\n",
              "      <td>...</td>\n",
              "      <td>...</td>\n",
              "      <td>...</td>\n",
              "      <td>...</td>\n",
              "      <td>...</td>\n",
              "      <td>...</td>\n",
              "      <td>...</td>\n",
              "    </tr>\n",
              "    <tr>\n",
              "      <th>2713</th>\n",
              "      <td>7.6</td>\n",
              "      <td>1470</td>\n",
              "      <td>Movie</td>\n",
              "      <td>Nate Bargatze: The Tennessee Kid</td>\n",
              "      <td>Ryan Polito</td>\n",
              "      <td>Nate Bargatze</td>\n",
              "      <td>2019</td>\n",
              "      <td>TV-PG</td>\n",
              "      <td>61</td>\n",
              "      <td>Stand-Up Comedy</td>\n",
              "      <td>Comic Nate Bargatze touches on air travel, che...</td>\n",
              "      <td>United States</td>\n",
              "      <td>2019</td>\n",
              "      <td>comic nate bargatze touch air travel cheap wed...</td>\n",
              "    </tr>\n",
              "    <tr>\n",
              "      <th>2714</th>\n",
              "      <td>4.9</td>\n",
              "      <td>34</td>\n",
              "      <td>Movie</td>\n",
              "      <td>Rise: Ini Kalilah</td>\n",
              "      <td>Saw Teong Hin, Nik Amir Mustapha, M.S. Prem Nath</td>\n",
              "      <td>Remy Ishak, Mira Filzah, Jack Tan, Sangeeta Kr...</td>\n",
              "      <td>2018</td>\n",
              "      <td>TV-PG</td>\n",
              "      <td>101</td>\n",
              "      <td>Dramas, International Movies</td>\n",
              "      <td>Inspired by Malaysia's 14th General Election, ...</td>\n",
              "      <td>Malaysia</td>\n",
              "      <td>2019</td>\n",
              "      <td>inspired malaysia th general election film tra...</td>\n",
              "    </tr>\n",
              "    <tr>\n",
              "      <th>2715</th>\n",
              "      <td>6.5</td>\n",
              "      <td>9072</td>\n",
              "      <td>Movie</td>\n",
              "      <td>Malang</td>\n",
              "      <td>Mohit Suri</td>\n",
              "      <td>Anil Kapoor, Aditya Roy Kapur, Disha Patani, K...</td>\n",
              "      <td>2020</td>\n",
              "      <td>TV-MA</td>\n",
              "      <td>131</td>\n",
              "      <td>Action &amp; Adventure, International Movies, Roma...</td>\n",
              "      <td>Years after a police encounter separates him f...</td>\n",
              "      <td>India</td>\n",
              "      <td>2020</td>\n",
              "      <td>year police encounter separate lover angry you...</td>\n",
              "    </tr>\n",
              "    <tr>\n",
              "      <th>2716</th>\n",
              "      <td>3.6</td>\n",
              "      <td>491</td>\n",
              "      <td>Movie</td>\n",
              "      <td>Bulletproof 2</td>\n",
              "      <td>Don Michael Paul</td>\n",
              "      <td>Faizon Love, Kirk Fox, Tony Todd, Pearl Thusi,...</td>\n",
              "      <td>2020</td>\n",
              "      <td>TV-MA</td>\n",
              "      <td>97</td>\n",
              "      <td>Action &amp; Adventure, Comedies</td>\n",
              "      <td>A special agent abruptly reunites with a crimi...</td>\n",
              "      <td>United States</td>\n",
              "      <td>2020</td>\n",
              "      <td>special agent abruptly reunites criminal – for...</td>\n",
              "    </tr>\n",
              "    <tr>\n",
              "      <th>2717</th>\n",
              "      <td>5.1</td>\n",
              "      <td>12376</td>\n",
              "      <td>Movie</td>\n",
              "      <td>Coffee &amp; Kareem</td>\n",
              "      <td>Michael Dowse</td>\n",
              "      <td>Ed Helms, Taraji P. Henson, Terrence Little Ga...</td>\n",
              "      <td>2020</td>\n",
              "      <td>TV-MA</td>\n",
              "      <td>88</td>\n",
              "      <td>Action &amp; Adventure, Comedies</td>\n",
              "      <td>An inept Detroit cop must team up with his gir...</td>\n",
              "      <td>United States</td>\n",
              "      <td>2020</td>\n",
              "      <td>inept detroit cop must team girlfriend foulmou...</td>\n",
              "    </tr>\n",
              "  </tbody>\n",
              "</table>\n",
              "<p>2718 rows × 14 columns</p>\n",
              "</div>"
            ],
            "text/plain": [
              "      averageRating  ...                                            pp_desc\n",
              "0               6.4  ...  presentday woman take responsibility guiding c...\n",
              "1               6.7  ...  ally invade italy liri valley town san pietro ...\n",
              "2               6.7  ...  british american troop join force liberate naz...\n",
              "3               6.5  ...  suitor swoon cousin single woman take initiati...\n",
              "4               6.5  ...  marshal move back hometown find woman renting ...\n",
              "...             ...  ...                                                ...\n",
              "2713            7.6  ...  comic nate bargatze touch air travel cheap wed...\n",
              "2714            4.9  ...  inspired malaysia th general election film tra...\n",
              "2715            6.5  ...  year police encounter separate lover angry you...\n",
              "2716            3.6  ...  special agent abruptly reunites criminal – for...\n",
              "2717            5.1  ...  inept detroit cop must team girlfriend foulmou...\n",
              "\n",
              "[2718 rows x 14 columns]"
            ]
          },
          "metadata": {
            "tags": []
          },
          "execution_count": 112
        }
      ]
    },
    {
      "cell_type": "code",
      "metadata": {
        "id": "Ms2mdia9dMEe"
      },
      "source": [
        "from sklearn.feature_extraction.text import CountVectorizer"
      ],
      "execution_count": 113,
      "outputs": []
    },
    {
      "cell_type": "code",
      "metadata": {
        "id": "oSWUQfq1cb6q"
      },
      "source": [
        "vectorizer = CountVectorizer(analyzer='word', tokenizer=word_tokenize)"
      ],
      "execution_count": 114,
      "outputs": []
    },
    {
      "cell_type": "code",
      "metadata": {
        "colab": {
          "base_uri": "https://localhost:8080/"
        },
        "id": "wa17Hta6oAdQ",
        "outputId": "6751840f-2c02-40ab-b93d-76fed74b9958"
      },
      "source": [
        "freq_words = vectorizer.fit_transform(filmedf.pp_desc)\n",
        "type(freq_words)"
      ],
      "execution_count": 115,
      "outputs": [
        {
          "output_type": "execute_result",
          "data": {
            "text/plain": [
              "scipy.sparse.csr.csr_matrix"
            ]
          },
          "metadata": {
            "tags": []
          },
          "execution_count": 115
        }
      ]
    },
    {
      "cell_type": "code",
      "metadata": {
        "colab": {
          "base_uri": "https://localhost:8080/"
        },
        "id": "bz_bHCoQocOQ",
        "outputId": "bac02313-6ac2-4df0-df38-a5489a82f3cf"
      },
      "source": [
        "freq_words.shape"
      ],
      "execution_count": 116,
      "outputs": [
        {
          "output_type": "execute_result",
          "data": {
            "text/plain": [
              "(2718, 9667)"
            ]
          },
          "metadata": {
            "tags": []
          },
          "execution_count": 116
        }
      ]
    },
    {
      "cell_type": "markdown",
      "metadata": {
        "id": "Z_F3E2kN44_w"
      },
      "source": [
        "#### Ajustando o gênero dos filmes e discretizando as nostas em invervalos iguais"
      ]
    },
    {
      "cell_type": "code",
      "metadata": {
        "id": "xNw3VVEdlOqc"
      },
      "source": [
        "filmedf['main_gender']=filmedf['listed_in'].apply(lambda x: x.split(\",\")[0])"
      ],
      "execution_count": 117,
      "outputs": []
    },
    {
      "cell_type": "code",
      "metadata": {
        "colab": {
          "base_uri": "https://localhost:8080/"
        },
        "id": "rButh9oLz-jz",
        "outputId": "59bb6d7d-c08f-41c3-f530-489e524a4e19"
      },
      "source": [
        "filmedf['average_dist'] = pd.qcut(filmedf['averageRating'],4)\n",
        "filmedf['average_dist'].describe()\n"
      ],
      "execution_count": 121,
      "outputs": [
        {
          "output_type": "execute_result",
          "data": {
            "text/plain": [
              "count           2718\n",
              "unique             4\n",
              "top       (5.5, 6.4]\n",
              "freq             723\n",
              "Name: average_dist, dtype: object"
            ]
          },
          "metadata": {
            "tags": []
          },
          "execution_count": 121
        }
      ]
    },
    {
      "cell_type": "code",
      "metadata": {
        "colab": {
          "base_uri": "https://localhost:8080/"
        },
        "id": "Y-lzI83G4pY-",
        "outputId": "f0195d32-7f95-4bf3-9fa8-12318d4144e8"
      },
      "source": [
        "filmedf['average_dist'].value_counts()"
      ],
      "execution_count": 123,
      "outputs": [
        {
          "output_type": "execute_result",
          "data": {
            "text/plain": [
              "(5.5, 6.4]      723\n",
              "(1.499, 5.5]    704\n",
              "(6.4, 7.1]      675\n",
              "(7.1, 10.0]     616\n",
              "Name: average_dist, dtype: int64"
            ]
          },
          "metadata": {
            "tags": []
          },
          "execution_count": 123
        }
      ]
    },
    {
      "cell_type": "code",
      "metadata": {
        "id": "QPfOJQij7m1r"
      },
      "source": [
        "\n",
        "filmedf['average_dist']=filmedf['average_dist'].astype('category')"
      ],
      "execution_count": 124,
      "outputs": []
    },
    {
      "cell_type": "code",
      "metadata": {
        "id": "5uR53vKQ7uTf"
      },
      "source": [
        "filmedf['average_dist'] = filmedf['average_dist'].cat.codes"
      ],
      "execution_count": 125,
      "outputs": []
    },
    {
      "cell_type": "code",
      "metadata": {
        "id": "D4UUvSHn87uf"
      },
      "source": [
        "filmedfcl = filmedf.drop(['averageRating', 'cast', 'listed_in', 'description'], axis=1)"
      ],
      "execution_count": 127,
      "outputs": []
    },
    {
      "cell_type": "markdown",
      "metadata": {
        "id": "mFsaKTxJ9sFC"
      },
      "source": [
        "## Agora iremos separar nossos dados em treinamento, validação e teste"
      ]
    },
    {
      "cell_type": "code",
      "metadata": {
        "id": "yN8HgGNJ-72E"
      },
      "source": [
        "from sklearn.model_selection import train_test_split, cross_val_score, cross_val_predict, cross_validate, StratifiedKFold\n",
        "from sklearn.metrics import accuracy_score, precision_score, recall_score, f1_score, roc_curve, auc, confusion_matrix"
      ],
      "execution_count": 128,
      "outputs": []
    },
    {
      "cell_type": "code",
      "metadata": {
        "id": "9s_d-YvO_C1T"
      },
      "source": [
        ""
      ],
      "execution_count": null,
      "outputs": []
    }
  ]
}