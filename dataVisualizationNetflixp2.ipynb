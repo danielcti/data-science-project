{
  "nbformat": 4,
  "nbformat_minor": 0,
  "metadata": {
    "colab": {
      "name": "dataVisualizationNetflix.ipynb",
      "provenance": [],
      "collapsed_sections": [
        "Ig3dSbqq1_gi",
        "G1Xs4VTXu64l",
        "QbKaLmX9GcMk",
        "Y2ujOQ-_yB-e",
        "gfVhNmUtNl_K",
        "CWiggorJ4ue5",
        "HT9hx5bBZtvn",
        "Z_6fVHu3cAuf",
        "nbmrdTh4edxu",
        "5TM2nzt9jXz2",
        "Hv-pqswdZyDt",
        "AVNCzmqhhMJF",
        "0X2l8Cl3CHvl",
        "1l98qPevqHuV",
        "mKWVpGigqnaX",
        "UNfcFiPT_W1g",
        "VlEWV64LxM_p"
      ],
      "authorship_tag": "ABX9TyPeir52TczNtEZ9fn6R2Jh5",
      "include_colab_link": true
    },
    "kernelspec": {
      "name": "python3",
      "display_name": "Python 3"
    },
    "language_info": {
      "name": "python"
    }
  },
  "cells": [
    {
      "cell_type": "markdown",
      "metadata": {
        "id": "view-in-github",
        "colab_type": "text"
      },
      "source": [
        "<a href=\"https://colab.research.google.com/github/danielcti/data-science-project/blob/colabIgor/dataVisualizationNetflixp2.ipynb\" target=\"_parent\"><img src=\"https://colab.research.google.com/assets/colab-badge.svg\" alt=\"Open In Colab\"/></a>"
      ]
    },
    {
      "cell_type": "markdown",
      "metadata": {
        "id": "Ig3dSbqq1_gi"
      },
      "source": [
        "#Importando bibliotecas que julgamos necessárias"
      ]
    },
    {
      "cell_type": "code",
      "metadata": {
        "id": "mO-ve-kl0znF"
      },
      "source": [
        "import numpy as np\n",
        "import pandas as pd\n",
        "import matplotlib.pyplot as plt\n",
        "import matplotlib.cm as cm\n",
        "import seaborn as sns\n",
        "import datetime as dt\n",
        "from sklearn.metrics import confusion_matrix,classification_report\n",
        "from sklearn.metrics import silhouette_samples, silhouette_score\n",
        "from sklearn import preprocessing\n",
        "from sklearn.preprocessing import StandardScaler, MinMaxScaler\n",
        "from scipy import stats\n",
        "from warnings import filterwarnings\n",
        "filterwarnings('ignore')\n"
      ],
      "execution_count": 1,
      "outputs": []
    },
    {
      "cell_type": "code",
      "metadata": {
        "id": "k_XEq2HV2H5D",
        "colab": {
          "base_uri": "https://localhost:8080/"
        },
        "outputId": "a7b62da8-cb86-4904-9123-ccb0f6c976d0"
      },
      "source": [
        "df = pd.read_csv(\"netflix_titles.csv\")\n",
        "print('Setup Complete')"
      ],
      "execution_count": 2,
      "outputs": [
        {
          "output_type": "stream",
          "text": [
            "Setup Complete\n"
          ],
          "name": "stdout"
        }
      ]
    },
    {
      "cell_type": "markdown",
      "metadata": {
        "id": "G1Xs4VTXu64l"
      },
      "source": [
        "#Primeiramente vamos ver o que temos nos nossos dados carregados, para assim possibilitar nossa análise descritiva"
      ]
    },
    {
      "cell_type": "code",
      "metadata": {
        "colab": {
          "base_uri": "https://localhost:8080/",
          "height": 0
        },
        "id": "hTayh3jx2djA",
        "outputId": "1b144634-54b4-400a-a0fb-5411e17de4c2"
      },
      "source": [
        "df.head()"
      ],
      "execution_count": 3,
      "outputs": [
        {
          "output_type": "execute_result",
          "data": {
            "text/html": [
              "<div>\n",
              "<style scoped>\n",
              "    .dataframe tbody tr th:only-of-type {\n",
              "        vertical-align: middle;\n",
              "    }\n",
              "\n",
              "    .dataframe tbody tr th {\n",
              "        vertical-align: top;\n",
              "    }\n",
              "\n",
              "    .dataframe thead th {\n",
              "        text-align: right;\n",
              "    }\n",
              "</style>\n",
              "<table border=\"1\" class=\"dataframe\">\n",
              "  <thead>\n",
              "    <tr style=\"text-align: right;\">\n",
              "      <th></th>\n",
              "      <th>show_id</th>\n",
              "      <th>type</th>\n",
              "      <th>title</th>\n",
              "      <th>director</th>\n",
              "      <th>cast</th>\n",
              "      <th>country</th>\n",
              "      <th>date_added</th>\n",
              "      <th>release_year</th>\n",
              "      <th>rating</th>\n",
              "      <th>duration</th>\n",
              "      <th>listed_in</th>\n",
              "      <th>description</th>\n",
              "    </tr>\n",
              "  </thead>\n",
              "  <tbody>\n",
              "    <tr>\n",
              "      <th>0</th>\n",
              "      <td>s1</td>\n",
              "      <td>TV Show</td>\n",
              "      <td>3%</td>\n",
              "      <td>NaN</td>\n",
              "      <td>João Miguel, Bianca Comparato, Michel Gomes, R...</td>\n",
              "      <td>Brazil</td>\n",
              "      <td>August 14, 2020</td>\n",
              "      <td>2020</td>\n",
              "      <td>TV-MA</td>\n",
              "      <td>4 Seasons</td>\n",
              "      <td>International TV Shows, TV Dramas, TV Sci-Fi &amp;...</td>\n",
              "      <td>In a future where the elite inhabit an island ...</td>\n",
              "    </tr>\n",
              "    <tr>\n",
              "      <th>1</th>\n",
              "      <td>s2</td>\n",
              "      <td>Movie</td>\n",
              "      <td>7:19</td>\n",
              "      <td>Jorge Michel Grau</td>\n",
              "      <td>Demián Bichir, Héctor Bonilla, Oscar Serrano, ...</td>\n",
              "      <td>Mexico</td>\n",
              "      <td>December 23, 2016</td>\n",
              "      <td>2016</td>\n",
              "      <td>TV-MA</td>\n",
              "      <td>93 min</td>\n",
              "      <td>Dramas, International Movies</td>\n",
              "      <td>After a devastating earthquake hits Mexico Cit...</td>\n",
              "    </tr>\n",
              "    <tr>\n",
              "      <th>2</th>\n",
              "      <td>s3</td>\n",
              "      <td>Movie</td>\n",
              "      <td>23:59</td>\n",
              "      <td>Gilbert Chan</td>\n",
              "      <td>Tedd Chan, Stella Chung, Henley Hii, Lawrence ...</td>\n",
              "      <td>Singapore</td>\n",
              "      <td>December 20, 2018</td>\n",
              "      <td>2011</td>\n",
              "      <td>R</td>\n",
              "      <td>78 min</td>\n",
              "      <td>Horror Movies, International Movies</td>\n",
              "      <td>When an army recruit is found dead, his fellow...</td>\n",
              "    </tr>\n",
              "    <tr>\n",
              "      <th>3</th>\n",
              "      <td>s4</td>\n",
              "      <td>Movie</td>\n",
              "      <td>9</td>\n",
              "      <td>Shane Acker</td>\n",
              "      <td>Elijah Wood, John C. Reilly, Jennifer Connelly...</td>\n",
              "      <td>United States</td>\n",
              "      <td>November 16, 2017</td>\n",
              "      <td>2009</td>\n",
              "      <td>PG-13</td>\n",
              "      <td>80 min</td>\n",
              "      <td>Action &amp; Adventure, Independent Movies, Sci-Fi...</td>\n",
              "      <td>In a postapocalyptic world, rag-doll robots hi...</td>\n",
              "    </tr>\n",
              "    <tr>\n",
              "      <th>4</th>\n",
              "      <td>s5</td>\n",
              "      <td>Movie</td>\n",
              "      <td>21</td>\n",
              "      <td>Robert Luketic</td>\n",
              "      <td>Jim Sturgess, Kevin Spacey, Kate Bosworth, Aar...</td>\n",
              "      <td>United States</td>\n",
              "      <td>January 1, 2020</td>\n",
              "      <td>2008</td>\n",
              "      <td>PG-13</td>\n",
              "      <td>123 min</td>\n",
              "      <td>Dramas</td>\n",
              "      <td>A brilliant group of students become card-coun...</td>\n",
              "    </tr>\n",
              "  </tbody>\n",
              "</table>\n",
              "</div>"
            ],
            "text/plain": [
              "  show_id  ...                                        description\n",
              "0      s1  ...  In a future where the elite inhabit an island ...\n",
              "1      s2  ...  After a devastating earthquake hits Mexico Cit...\n",
              "2      s3  ...  When an army recruit is found dead, his fellow...\n",
              "3      s4  ...  In a postapocalyptic world, rag-doll robots hi...\n",
              "4      s5  ...  A brilliant group of students become card-coun...\n",
              "\n",
              "[5 rows x 12 columns]"
            ]
          },
          "metadata": {
            "tags": []
          },
          "execution_count": 3
        }
      ]
    },
    {
      "cell_type": "code",
      "metadata": {
        "colab": {
          "base_uri": "https://localhost:8080/",
          "height": 0
        },
        "id": "vTuCKlkj2rdM",
        "outputId": "72a37ac8-ba62-45df-f8f9-aa51ced74847"
      },
      "source": [
        "df.tail()"
      ],
      "execution_count": 4,
      "outputs": [
        {
          "output_type": "execute_result",
          "data": {
            "text/html": [
              "<div>\n",
              "<style scoped>\n",
              "    .dataframe tbody tr th:only-of-type {\n",
              "        vertical-align: middle;\n",
              "    }\n",
              "\n",
              "    .dataframe tbody tr th {\n",
              "        vertical-align: top;\n",
              "    }\n",
              "\n",
              "    .dataframe thead th {\n",
              "        text-align: right;\n",
              "    }\n",
              "</style>\n",
              "<table border=\"1\" class=\"dataframe\">\n",
              "  <thead>\n",
              "    <tr style=\"text-align: right;\">\n",
              "      <th></th>\n",
              "      <th>show_id</th>\n",
              "      <th>type</th>\n",
              "      <th>title</th>\n",
              "      <th>director</th>\n",
              "      <th>cast</th>\n",
              "      <th>country</th>\n",
              "      <th>date_added</th>\n",
              "      <th>release_year</th>\n",
              "      <th>rating</th>\n",
              "      <th>duration</th>\n",
              "      <th>listed_in</th>\n",
              "      <th>description</th>\n",
              "    </tr>\n",
              "  </thead>\n",
              "  <tbody>\n",
              "    <tr>\n",
              "      <th>7782</th>\n",
              "      <td>s7783</td>\n",
              "      <td>Movie</td>\n",
              "      <td>Zozo</td>\n",
              "      <td>Josef Fares</td>\n",
              "      <td>Imad Creidi, Antoinette Turk, Elias Gergi, Car...</td>\n",
              "      <td>Sweden, Czech Republic, United Kingdom, Denmar...</td>\n",
              "      <td>October 19, 2020</td>\n",
              "      <td>2005</td>\n",
              "      <td>TV-MA</td>\n",
              "      <td>99 min</td>\n",
              "      <td>Dramas, International Movies</td>\n",
              "      <td>When Lebanon's Civil War deprives Zozo of his ...</td>\n",
              "    </tr>\n",
              "    <tr>\n",
              "      <th>7783</th>\n",
              "      <td>s7784</td>\n",
              "      <td>Movie</td>\n",
              "      <td>Zubaan</td>\n",
              "      <td>Mozez Singh</td>\n",
              "      <td>Vicky Kaushal, Sarah-Jane Dias, Raaghav Chanan...</td>\n",
              "      <td>India</td>\n",
              "      <td>March 2, 2019</td>\n",
              "      <td>2015</td>\n",
              "      <td>TV-14</td>\n",
              "      <td>111 min</td>\n",
              "      <td>Dramas, International Movies, Music &amp; Musicals</td>\n",
              "      <td>A scrappy but poor boy worms his way into a ty...</td>\n",
              "    </tr>\n",
              "    <tr>\n",
              "      <th>7784</th>\n",
              "      <td>s7785</td>\n",
              "      <td>Movie</td>\n",
              "      <td>Zulu Man in Japan</td>\n",
              "      <td>NaN</td>\n",
              "      <td>Nasty C</td>\n",
              "      <td>NaN</td>\n",
              "      <td>September 25, 2020</td>\n",
              "      <td>2019</td>\n",
              "      <td>TV-MA</td>\n",
              "      <td>44 min</td>\n",
              "      <td>Documentaries, International Movies, Music &amp; M...</td>\n",
              "      <td>In this documentary, South African rapper Nast...</td>\n",
              "    </tr>\n",
              "    <tr>\n",
              "      <th>7785</th>\n",
              "      <td>s7786</td>\n",
              "      <td>TV Show</td>\n",
              "      <td>Zumbo's Just Desserts</td>\n",
              "      <td>NaN</td>\n",
              "      <td>Adriano Zumbo, Rachel Khoo</td>\n",
              "      <td>Australia</td>\n",
              "      <td>October 31, 2020</td>\n",
              "      <td>2019</td>\n",
              "      <td>TV-PG</td>\n",
              "      <td>1 Season</td>\n",
              "      <td>International TV Shows, Reality TV</td>\n",
              "      <td>Dessert wizard Adriano Zumbo looks for the nex...</td>\n",
              "    </tr>\n",
              "    <tr>\n",
              "      <th>7786</th>\n",
              "      <td>s7787</td>\n",
              "      <td>Movie</td>\n",
              "      <td>ZZ TOP: THAT LITTLE OL' BAND FROM TEXAS</td>\n",
              "      <td>Sam Dunn</td>\n",
              "      <td>NaN</td>\n",
              "      <td>United Kingdom, Canada, United States</td>\n",
              "      <td>March 1, 2020</td>\n",
              "      <td>2019</td>\n",
              "      <td>TV-MA</td>\n",
              "      <td>90 min</td>\n",
              "      <td>Documentaries, Music &amp; Musicals</td>\n",
              "      <td>This documentary delves into the mystique behi...</td>\n",
              "    </tr>\n",
              "  </tbody>\n",
              "</table>\n",
              "</div>"
            ],
            "text/plain": [
              "     show_id  ...                                        description\n",
              "7782   s7783  ...  When Lebanon's Civil War deprives Zozo of his ...\n",
              "7783   s7784  ...  A scrappy but poor boy worms his way into a ty...\n",
              "7784   s7785  ...  In this documentary, South African rapper Nast...\n",
              "7785   s7786  ...  Dessert wizard Adriano Zumbo looks for the nex...\n",
              "7786   s7787  ...  This documentary delves into the mystique behi...\n",
              "\n",
              "[5 rows x 12 columns]"
            ]
          },
          "metadata": {
            "tags": []
          },
          "execution_count": 4
        }
      ]
    },
    {
      "cell_type": "markdown",
      "metadata": {
        "id": "MhD7FZNxwAFZ"
      },
      "source": [
        "Agora iremos ver o tamanho dos nossos dados:"
      ]
    },
    {
      "cell_type": "code",
      "metadata": {
        "colab": {
          "base_uri": "https://localhost:8080/"
        },
        "id": "uMVYA_TiwYuH",
        "outputId": "369adabc-d752-4a17-97d1-49da3d1fd907"
      },
      "source": [
        "df.shape"
      ],
      "execution_count": 5,
      "outputs": [
        {
          "output_type": "execute_result",
          "data": {
            "text/plain": [
              "(7787, 12)"
            ]
          },
          "metadata": {
            "tags": []
          },
          "execution_count": 5
        }
      ]
    },
    {
      "cell_type": "markdown",
      "metadata": {
        "id": "N25tM5ZswgX0"
      },
      "source": [
        "Podemos ver que temos 12 atributos com 7787 instâncias "
      ]
    },
    {
      "cell_type": "markdown",
      "metadata": {
        "id": "0t6Kt_EexgdO"
      },
      "source": [
        "### Podemos também ver que nossos dados já estão separados entre séries(*TV Show*) e filmes (*Movie*). Então, até o momento, não precisamos aplicar nenhuma função para definir entre séries e filmes."
      ]
    },
    {
      "cell_type": "markdown",
      "metadata": {
        "id": "LJZvaZSrUFCU"
      },
      "source": [
        "#Agora, dando início ao nosso pré-processamento dos dados\n",
        "\n",
        "\n",
        "\n",
        "\n"
      ]
    },
    {
      "cell_type": "markdown",
      "metadata": {
        "id": "QbKaLmX9GcMk"
      },
      "source": [
        "### Vamos agora tratar nossas instâncias, primeiramente verificando caso tenhamos dados ausentes. Caso positivo iremos tratá-los da maneira cabível, seja excluindo, substituindo, ou alterando da melhor maneira possível."
      ]
    },
    {
      "cell_type": "code",
      "metadata": {
        "colab": {
          "base_uri": "https://localhost:8080/"
        },
        "id": "iWGh_nxz5ToT",
        "outputId": "69c07b03-19a4-4bd7-dd25-be7ab406cbaa"
      },
      "source": [
        "df.isnull().sum()/(len(df))*100"
      ],
      "execution_count": 6,
      "outputs": [
        {
          "output_type": "execute_result",
          "data": {
            "text/plain": [
              "show_id          0.000000\n",
              "type             0.000000\n",
              "title            0.000000\n",
              "director        30.679337\n",
              "cast             9.220496\n",
              "country          6.510851\n",
              "date_added       0.128419\n",
              "release_year     0.000000\n",
              "rating           0.089893\n",
              "duration         0.000000\n",
              "listed_in        0.000000\n",
              "description      0.000000\n",
              "dtype: float64"
            ]
          },
          "metadata": {
            "tags": []
          },
          "execution_count": 6
        }
      ]
    },
    {
      "cell_type": "markdown",
      "metadata": {
        "id": "6vaMN1Po6D-s"
      },
      "source": [
        "Primeiramente veremos quais as instâncias de *types* para que possamos facilitar nosso tratamento para *director* que possuem 30% de dados ausentes."
      ]
    },
    {
      "cell_type": "code",
      "metadata": {
        "colab": {
          "base_uri": "https://localhost:8080/"
        },
        "id": "WHQngGVfG5ce",
        "outputId": "259d0f40-2566-4a9d-aee7-092025715cd0"
      },
      "source": [
        "df.type.unique()"
      ],
      "execution_count": 7,
      "outputs": [
        {
          "output_type": "execute_result",
          "data": {
            "text/plain": [
              "array(['TV Show', 'Movie'], dtype=object)"
            ]
          },
          "metadata": {
            "tags": []
          },
          "execution_count": 7
        }
      ]
    },
    {
      "cell_type": "markdown",
      "metadata": {
        "id": "xmD2dTml7YWb"
      },
      "source": [
        "Como só temos duas instâncias de *type*, obsevadas logo acima e que, além disso, sabemos que em 'TV Show' os diretores variam por episódio fazendo sentido não serem guardados tais dados. Dessa forma, iremos dividir em dois datasets, dfMovie e dfShow, para checar se essa suposição de fato se prova verdadeira."
      ]
    },
    {
      "cell_type": "code",
      "metadata": {
        "id": "D8W4rFTp51Fg"
      },
      "source": [
        "dfMovie = df[(df.type == 'Movie')]\n",
        "dfShow = df[(df.type == 'TV Show')]"
      ],
      "execution_count": 8,
      "outputs": []
    },
    {
      "cell_type": "code",
      "metadata": {
        "colab": {
          "base_uri": "https://localhost:8080/"
        },
        "id": "a7syXxLR78-v",
        "outputId": "51d8c6fa-d75f-4165-9954-1d608c8b8df9"
      },
      "source": [
        "dfShow.isnull().sum()/(len(dfShow))*100"
      ],
      "execution_count": 9,
      "outputs": [
        {
          "output_type": "execute_result",
          "data": {
            "text/plain": [
              "show_id          0.000000\n",
              "type             0.000000\n",
              "title            0.000000\n",
              "director        92.365145\n",
              "cast            12.116183\n",
              "country         11.493776\n",
              "date_added       0.414938\n",
              "release_year     0.000000\n",
              "rating           0.082988\n",
              "duration         0.000000\n",
              "listed_in        0.000000\n",
              "description      0.000000\n",
              "dtype: float64"
            ]
          },
          "metadata": {
            "tags": []
          },
          "execution_count": 9
        }
      ]
    },
    {
      "cell_type": "code",
      "metadata": {
        "colab": {
          "base_uri": "https://localhost:8080/"
        },
        "id": "IDH6Uzi_8G1H",
        "outputId": "073cefa2-9254-4984-8c2c-e3e10177c947"
      },
      "source": [
        "dfMovie.isnull().sum()/(len(dfMovie))*100"
      ],
      "execution_count": 10,
      "outputs": [
        {
          "output_type": "execute_result",
          "data": {
            "text/plain": [
              "show_id         0.000000\n",
              "type            0.000000\n",
              "title           0.000000\n",
              "director        3.031430\n",
              "cast            7.922633\n",
              "country         4.277478\n",
              "date_added      0.000000\n",
              "release_year    0.000000\n",
              "rating          0.092989\n",
              "duration        0.000000\n",
              "listed_in       0.000000\n",
              "description     0.000000\n",
              "dtype: float64"
            ]
          },
          "metadata": {
            "tags": []
          },
          "execution_count": 10
        }
      ]
    },
    {
      "cell_type": "markdown",
      "metadata": {
        "id": "fxf0XIbQ80zL"
      },
      "source": [
        "De fato, nossa suposição se tornou em partes verdadeira, visto que a feature *director* apresentou 92% de dados ausentes para dfShow e apenas 3% para dfMovie.\n",
        "> Tendo isso em vista, poderíamos trabalhar com dois datasets onde vamos excluir o atributo em dfShows e apenas substituí-los em dfMovies ou substituir todos os valores ausentes por 'desconhecido'.\n"
      ]
    },
    {
      "cell_type": "markdown",
      "metadata": {
        "id": "a0PMYiAsCwwV"
      },
      "source": [
        "vamos seguir com a segunda opção por enquanto"
      ]
    },
    {
      "cell_type": "code",
      "metadata": {
        "id": "irPcZq6kCujY"
      },
      "source": [
        "df['director']=df['director'].fillna('desconhecido')"
      ],
      "execution_count": 11,
      "outputs": []
    },
    {
      "cell_type": "markdown",
      "metadata": {
        "id": "-E94MGIbJdsu"
      },
      "source": [
        "Agora com relação ao atributo cast, iremos tratar da mesma forma que *director*"
      ]
    },
    {
      "cell_type": "code",
      "metadata": {
        "id": "cwAiydYyKQUq"
      },
      "source": [
        "df['cast']=df['cast'].fillna('desconhecido')"
      ],
      "execution_count": 12,
      "outputs": []
    },
    {
      "cell_type": "markdown",
      "metadata": {
        "id": "oxJveKqfKU40"
      },
      "source": [
        "Com relação a *country* vamos substituir pela moda, assim como em *date_added*"
      ]
    },
    {
      "cell_type": "code",
      "metadata": {
        "id": "fLwtF33EwccG"
      },
      "source": [
        "df['country']=df['country'].fillna(df['country'].mode()[0])\n",
        "df['rating']=df['rating'].fillna(df['rating'].mode()[0])\n",
        "df['date_added']=df['date_added'].fillna(df['date_added'].mode()[0])"
      ],
      "execution_count": 13,
      "outputs": []
    },
    {
      "cell_type": "code",
      "metadata": {
        "colab": {
          "base_uri": "https://localhost:8080/"
        },
        "id": "-cCQpvtBL6ec",
        "outputId": "34a4f9ec-533d-496b-92ec-b40f46f0b621"
      },
      "source": [
        "df.isnull().sum()/(len(df))*100"
      ],
      "execution_count": 14,
      "outputs": [
        {
          "output_type": "execute_result",
          "data": {
            "text/plain": [
              "show_id         0.0\n",
              "type            0.0\n",
              "title           0.0\n",
              "director        0.0\n",
              "cast            0.0\n",
              "country         0.0\n",
              "date_added      0.0\n",
              "release_year    0.0\n",
              "rating          0.0\n",
              "duration        0.0\n",
              "listed_in       0.0\n",
              "description     0.0\n",
              "dtype: float64"
            ]
          },
          "metadata": {
            "tags": []
          },
          "execution_count": 14
        }
      ]
    },
    {
      "cell_type": "markdown",
      "metadata": {
        "id": "vYaLBf6wML5c"
      },
      "source": [
        "Como podemos ver, todos os dados ausentes foram tratados. Lembrando que poderíamos tê-los tratados com algoritmos como KNN ou Árvore de decisão, porém como temos atributos compostos por listas achamos melhor apenas utilizar os métodos apresentatos acima."
      ]
    },
    {
      "cell_type": "markdown",
      "metadata": {
        "id": "ar4ABh5cJMOw"
      },
      "source": [
        "## Realizando agora a definição de tipos, vamos primeiro analisá-los para podermos decidir quais ações tomar"
      ]
    },
    {
      "cell_type": "code",
      "metadata": {
        "colab": {
          "base_uri": "https://localhost:8080/"
        },
        "id": "wwP9UZ922Tab",
        "outputId": "30ce5f08-60a6-4571-bf17-5a557347d011"
      },
      "source": [
        "df.dtypes"
      ],
      "execution_count": 15,
      "outputs": [
        {
          "output_type": "execute_result",
          "data": {
            "text/plain": [
              "show_id         object\n",
              "type            object\n",
              "title           object\n",
              "director        object\n",
              "cast            object\n",
              "country         object\n",
              "date_added      object\n",
              "release_year     int64\n",
              "rating          object\n",
              "duration        object\n",
              "listed_in       object\n",
              "description     object\n",
              "dtype: object"
            ]
          },
          "metadata": {
            "tags": []
          },
          "execution_count": 15
        }
      ]
    },
    {
      "cell_type": "markdown",
      "metadata": {
        "id": "Y2ujOQ-_yB-e"
      },
      "source": [
        "###Como pudemos notar ao mostrar o nosso dataset inicialmente o campo *country* é composto de uma lista de países, porém será mais prático trabalhar apenas com o país principal, que neste caso consideramos o primeiro da lista. Então iremos adicionar a coluna *main_country* ao data frame."
      ]
    },
    {
      "cell_type": "code",
      "metadata": {
        "colab": {
          "base_uri": "https://localhost:8080/"
        },
        "id": "oe5iFRj_wjqA",
        "outputId": "ff048987-1a2a-4e4a-a90f-7af069fd1170"
      },
      "source": [
        "df['main_country']=df['country'].apply(lambda x: x.split(\",\")[0])\n",
        "df['main_country']"
      ],
      "execution_count": 16,
      "outputs": [
        {
          "output_type": "execute_result",
          "data": {
            "text/plain": [
              "0               Brazil\n",
              "1               Mexico\n",
              "2            Singapore\n",
              "3        United States\n",
              "4        United States\n",
              "             ...      \n",
              "7782            Sweden\n",
              "7783             India\n",
              "7784     United States\n",
              "7785         Australia\n",
              "7786    United Kingdom\n",
              "Name: main_country, Length: 7787, dtype: object"
            ]
          },
          "metadata": {
            "tags": []
          },
          "execution_count": 16
        }
      ]
    },
    {
      "cell_type": "markdown",
      "metadata": {
        "id": "gfVhNmUtNl_K"
      },
      "source": [
        "### Com relação a *duration*, teremos que tratar o nosso dataset para tirar 'min' de *type*=='Movie' e 'Season' de *type*=='TV Show'. Além disso teremos que alterar o tipo dos nossos atributos para int64."
      ]
    },
    {
      "cell_type": "code",
      "metadata": {
        "id": "EcYcgWYfkkl0"
      },
      "source": [
        "df['duration'] = df.duration.apply(lambda x: x.split()[0])\n",
        "dfMovie['duration'] = dfMovie.duration.apply(lambda x: x.split()[0])\n",
        "dfShow['duration'] = dfShow.duration.apply(lambda x: x.split()[0])"
      ],
      "execution_count": 17,
      "outputs": []
    },
    {
      "cell_type": "code",
      "metadata": {
        "id": "-99Tmf32rNge"
      },
      "source": [
        "df['duration'] = df.duration.astype('int')\n",
        "dfMovie['duration'] = dfMovie.duration.astype('int')\n",
        "dfShow['duration'] = dfShow.duration.astype('int')"
      ],
      "execution_count": 18,
      "outputs": []
    },
    {
      "cell_type": "markdown",
      "metadata": {
        "id": "CWiggorJ4ue5"
      },
      "source": [
        "\n",
        "\n",
        "### Vamos tratar como variáveis categóricas todas as features com exceção de *date_added*, *release_year*, *duration* e *show_id* e as que temos listas como valores."
      ]
    },
    {
      "cell_type": "code",
      "metadata": {
        "id": "mHnqJjoYd8h2"
      },
      "source": [
        "df['main_country']=df['main_country'].astype('category')\n",
        "df['director']=df['director'].astype('category')\n",
        "df['listed_in']=df['listed_in'].astype('category')\n",
        "df['type']=df['type'].astype('category')\n",
        "df['title']=df['title'].astype('category')\n",
        "df['rating']=df['rating'].astype('category')"
      ],
      "execution_count": 19,
      "outputs": []
    },
    {
      "cell_type": "markdown",
      "metadata": {
        "id": "HT9hx5bBZtvn"
      },
      "source": [
        "### Agora iremos tratar do nosso atributo *date_added*"
      ]
    },
    {
      "cell_type": "code",
      "metadata": {
        "id": "q5YZBpHTaOjD"
      },
      "source": [
        "df['date_added'] = pd.to_datetime(df['date_added'])"
      ],
      "execution_count": 20,
      "outputs": []
    },
    {
      "cell_type": "markdown",
      "metadata": {
        "id": "y63c3qJM7Q0W"
      },
      "source": [
        "Vamos utilizar apenas o ano em que foi adicionado o título à netflix criando uma nova feature chamada *year_added*"
      ]
    },
    {
      "cell_type": "code",
      "metadata": {
        "colab": {
          "base_uri": "https://localhost:8080/"
        },
        "id": "plEgIwYx58gK",
        "outputId": "5ef9b624-620b-40df-98c9-5bfeb1bc19d4"
      },
      "source": [
        "df.date_added.head()"
      ],
      "execution_count": 21,
      "outputs": [
        {
          "output_type": "execute_result",
          "data": {
            "text/plain": [
              "0   2020-08-14\n",
              "1   2016-12-23\n",
              "2   2018-12-20\n",
              "3   2017-11-16\n",
              "4   2020-01-01\n",
              "Name: date_added, dtype: datetime64[ns]"
            ]
          },
          "metadata": {
            "tags": []
          },
          "execution_count": 21
        }
      ]
    },
    {
      "cell_type": "code",
      "metadata": {
        "id": "KMo6aeJ47lML"
      },
      "source": [
        "\n",
        "df['year_added'] = df.date_added.apply(lambda x: x.strftime('%Y-%m-%d'))"
      ],
      "execution_count": 22,
      "outputs": []
    },
    {
      "cell_type": "code",
      "metadata": {
        "id": "dTe_NnU7-Ece"
      },
      "source": [
        "df['year_added'] = df.year_added.apply(lambda x: x[:4])"
      ],
      "execution_count": 23,
      "outputs": []
    },
    {
      "cell_type": "code",
      "metadata": {
        "id": "Rjo_-23G-Ocj"
      },
      "source": [
        "df['year_added'] = df.year_added.astype('int')"
      ],
      "execution_count": 24,
      "outputs": []
    },
    {
      "cell_type": "code",
      "metadata": {
        "colab": {
          "base_uri": "https://localhost:8080/"
        },
        "id": "vlnJGyuA1DyG",
        "outputId": "caf66b98-782b-41b4-8b27-539564f7f4a7"
      },
      "source": [
        "df.dtypes"
      ],
      "execution_count": 25,
      "outputs": [
        {
          "output_type": "execute_result",
          "data": {
            "text/plain": [
              "show_id                 object\n",
              "type                  category\n",
              "title                 category\n",
              "director              category\n",
              "cast                    object\n",
              "country                 object\n",
              "date_added      datetime64[ns]\n",
              "release_year             int64\n",
              "rating                category\n",
              "duration                 int64\n",
              "listed_in             category\n",
              "description             object\n",
              "main_country          category\n",
              "year_added               int64\n",
              "dtype: object"
            ]
          },
          "metadata": {
            "tags": []
          },
          "execution_count": 25
        }
      ]
    },
    {
      "cell_type": "markdown",
      "metadata": {
        "id": "Z_6fVHu3cAuf"
      },
      "source": [
        "## Normalizando utilizando o z-score para o ano que foi liberada na netflix e durações de filmes e utilizando o minmax para séries \n",
        "> Isso será útil para treinar o nosso modelo posteriormente.(lembrando que estaremos serparando as temporadas e os minutos com os datasets dfShow e dfMovie)"
      ]
    },
    {
      "cell_type": "code",
      "metadata": {
        "colab": {
          "base_uri": "https://localhost:8080/"
        },
        "id": "HCLslloicPsL",
        "outputId": "ec6be1ed-e02a-482e-f55a-16733a1f5cd6"
      },
      "source": [
        "scaler = StandardScaler()\n",
        "dfMovie['release_year_norm'] = scaler.fit_transform(dfMovie[['release_year']])\n",
        "dfMovie['release_year_norm'].describe()"
      ],
      "execution_count": 26,
      "outputs": [
        {
          "output_type": "execute_result",
          "data": {
            "text/plain": [
              "count    5.377000e+03\n",
              "mean    -6.347577e-15\n",
              "std      1.000093e+00\n",
              "min     -7.339807e+00\n",
              "25%     -9.521768e-02\n",
              "50%      3.187589e-01\n",
              "75%      5.257471e-01\n",
              "max      8.362295e-01\n",
              "Name: release_year_norm, dtype: float64"
            ]
          },
          "metadata": {
            "tags": []
          },
          "execution_count": 26
        }
      ]
    },
    {
      "cell_type": "code",
      "metadata": {
        "colab": {
          "base_uri": "https://localhost:8080/"
        },
        "id": "-hyFqXm3dR_3",
        "outputId": "a76d5766-6849-4f68-a107-87557588fc6e"
      },
      "source": [
        "dfMovie['duration_norm'] = scaler.fit_transform(dfMovie[['duration']])\n",
        "dfMovie['duration_norm'].describe()"
      ],
      "execution_count": 27,
      "outputs": [
        {
          "output_type": "execute_result",
          "data": {
            "text/plain": [
              "count    5.377000e+03\n",
              "mean     9.630054e-17\n",
              "std      1.000093e+00\n",
              "min     -3.375884e+00\n",
              "25%     -4.664846e-01\n",
              "50%     -4.584857e-02\n",
              "75%      5.149995e-01\n",
              "max      7.455494e+00\n",
              "Name: duration_norm, dtype: float64"
            ]
          },
          "metadata": {
            "tags": []
          },
          "execution_count": 27
        }
      ]
    },
    {
      "cell_type": "code",
      "metadata": {
        "colab": {
          "base_uri": "https://localhost:8080/"
        },
        "id": "fDVrKxavdZM4",
        "outputId": "83f70eb4-f6a7-4502-c093-d79002e7a5d5"
      },
      "source": [
        "minmax_scaler = MinMaxScaler()\n",
        "dfShow['release_year_norm'] = minmax_scaler.fit_transform(dfShow[['release_year']])\n",
        "dfShow['release_year_norm'].describe()"
      ],
      "execution_count": 28,
      "outputs": [
        {
          "output_type": "execute_result",
          "data": {
            "text/plain": [
              "count    2410.000000\n",
              "mean        0.949914\n",
              "std         0.059009\n",
              "min         0.000000\n",
              "25%         0.937500\n",
              "50%         0.968750\n",
              "75%         0.979167\n",
              "max         1.000000\n",
              "Name: release_year_norm, dtype: float64"
            ]
          },
          "metadata": {
            "tags": []
          },
          "execution_count": 28
        }
      ]
    },
    {
      "cell_type": "code",
      "metadata": {
        "colab": {
          "base_uri": "https://localhost:8080/"
        },
        "id": "EfsIvSJwlFHr",
        "outputId": "df3f950e-799b-4791-bf27-ec6fee9272a4"
      },
      "source": [
        "dfShow['duration_norm'] = minmax_scaler.fit_transform(dfShow[['duration']])\n",
        "dfShow['duration_norm'].describe()"
      ],
      "execution_count": 29,
      "outputs": [
        {
          "output_type": "execute_result",
          "data": {
            "text/plain": [
              "count    2410.000000\n",
              "mean        0.051729\n",
              "std         0.106424\n",
              "min         0.000000\n",
              "25%         0.000000\n",
              "50%         0.000000\n",
              "75%         0.066667\n",
              "max         1.000000\n",
              "Name: duration_norm, dtype: float64"
            ]
          },
          "metadata": {
            "tags": []
          },
          "execution_count": 29
        }
      ]
    },
    {
      "cell_type": "markdown",
      "metadata": {
        "id": "nbmrdTh4edxu"
      },
      "source": [
        "### Discretizando em intervalos iguais as features *duration* e *release_year* do dataset de filme temos:"
      ]
    },
    {
      "cell_type": "code",
      "metadata": {
        "colab": {
          "base_uri": "https://localhost:8080/"
        },
        "id": "CNKb-dWliAnJ",
        "outputId": "310befba-4dc8-4bc1-b1be-de52a65930fa"
      },
      "source": [
        "dfMovie['duration_dist'] = pd.qcut(dfMovie['duration'],4)\n",
        "dfMovie['duration_dist'].describe()"
      ],
      "execution_count": 30,
      "outputs": [
        {
          "output_type": "execute_result",
          "data": {
            "text/plain": [
              "count              5377\n",
              "unique                4\n",
              "top       (2.999, 86.0]\n",
              "freq               1377\n",
              "Name: duration_dist, dtype: object"
            ]
          },
          "metadata": {
            "tags": []
          },
          "execution_count": 30
        }
      ]
    },
    {
      "cell_type": "code",
      "metadata": {
        "colab": {
          "base_uri": "https://localhost:8080/"
        },
        "id": "-nQwZbTXi1hK",
        "outputId": "4719144c-7508-4733-9121-e91b327f5aab"
      },
      "source": [
        "dfMovie['release_year_dist'] = pd.qcut(dfMovie['release_year'],4)\n",
        "dfMovie['release_year_dist'].describe()"
      ],
      "execution_count": 31,
      "outputs": [
        {
          "output_type": "execute_result",
          "data": {
            "text/plain": [
              "count                 5377\n",
              "unique                   4\n",
              "top       (2016.0, 2018.0]\n",
              "freq                  1478\n",
              "Name: release_year_dist, dtype: object"
            ]
          },
          "metadata": {
            "tags": []
          },
          "execution_count": 31
        }
      ]
    },
    {
      "cell_type": "code",
      "metadata": {
        "colab": {
          "base_uri": "https://localhost:8080/"
        },
        "id": "K540tunJi_FL",
        "outputId": "a79474d5-62da-4016-c0cc-a5886fb8fa20"
      },
      "source": [
        "dfMovie['duration_dist'].value_counts()"
      ],
      "execution_count": 32,
      "outputs": [
        {
          "output_type": "execute_result",
          "data": {
            "text/plain": [
              "(2.999, 86.0]     1377\n",
              "(86.0, 98.0]      1368\n",
              "(114.0, 312.0]    1331\n",
              "(98.0, 114.0]     1301\n",
              "Name: duration_dist, dtype: int64"
            ]
          },
          "metadata": {
            "tags": []
          },
          "execution_count": 32
        }
      ]
    },
    {
      "cell_type": "code",
      "metadata": {
        "colab": {
          "base_uri": "https://localhost:8080/"
        },
        "id": "zNLiO8B3oBCs",
        "outputId": "cc86ff0c-25b0-444f-8a30-c75e4420313e"
      },
      "source": [
        "dfMovie['release_year_dist'].value_counts()"
      ],
      "execution_count": 33,
      "outputs": [
        {
          "output_type": "execute_result",
          "data": {
            "text/plain": [
              "(2016.0, 2018.0]      1478\n",
              "(2012.0, 2016.0]      1470\n",
              "(1941.999, 2012.0]    1424\n",
              "(2018.0, 2021.0]      1005\n",
              "Name: release_year_dist, dtype: int64"
            ]
          },
          "metadata": {
            "tags": []
          },
          "execution_count": 33
        }
      ]
    },
    {
      "cell_type": "markdown",
      "metadata": {
        "id": "5TM2nzt9jXz2"
      },
      "source": [
        "## Agora iremos fazer a limpeza dos nossos dados "
      ]
    },
    {
      "cell_type": "markdown",
      "metadata": {
        "id": "5bvbhek0pHPv"
      },
      "source": [
        "> ### Primeiro checando se temos dados duplicados"
      ]
    },
    {
      "cell_type": "code",
      "metadata": {
        "colab": {
          "base_uri": "https://localhost:8080/"
        },
        "id": "qJj5vPa2Zk6q",
        "outputId": "2396bcc3-5675-429c-b1a1-eb2277176921"
      },
      "source": [
        "len(df)"
      ],
      "execution_count": 34,
      "outputs": [
        {
          "output_type": "execute_result",
          "data": {
            "text/plain": [
              "7787"
            ]
          },
          "metadata": {
            "tags": []
          },
          "execution_count": 34
        }
      ]
    },
    {
      "cell_type": "code",
      "metadata": {
        "id": "7HJQ6FjqY2UL"
      },
      "source": [
        "df.drop_duplicates(keep = False, inplace = True)"
      ],
      "execution_count": 35,
      "outputs": []
    },
    {
      "cell_type": "code",
      "metadata": {
        "colab": {
          "base_uri": "https://localhost:8080/"
        },
        "id": "WD9uXsbGZdYW",
        "outputId": "a182cec7-d20d-4414-e20a-e148364034bf"
      },
      "source": [
        "len(df)"
      ],
      "execution_count": 36,
      "outputs": [
        {
          "output_type": "execute_result",
          "data": {
            "text/plain": [
              "7787"
            ]
          },
          "metadata": {
            "tags": []
          },
          "execution_count": 36
        }
      ]
    },
    {
      "cell_type": "markdown",
      "metadata": {
        "id": "60vZq1WPZo8d"
      },
      "source": [
        "Como podemos ver não temos nenhum dado exatamente igual em nosso dataset"
      ]
    },
    {
      "cell_type": "markdown",
      "metadata": {
        "id": "Hv-pqswdZyDt"
      },
      "source": [
        "### Removendo outliers através do método tukey(univariado) nos atributos de *duration* para filmes "
      ]
    },
    {
      "cell_type": "markdown",
      "metadata": {
        "id": "8P8n_PCsaaYM"
      },
      "source": [
        "Primeiramente vemos a descrição de *duration*"
      ]
    },
    {
      "cell_type": "code",
      "metadata": {
        "colab": {
          "base_uri": "https://localhost:8080/"
        },
        "id": "0e9bEyIyaZnJ",
        "outputId": "ddebecf7-a367-4e90-dbbc-651d2cce5455"
      },
      "source": [
        "dfMovie.duration.describe()"
      ],
      "execution_count": 37,
      "outputs": [
        {
          "output_type": "execute_result",
          "data": {
            "text/plain": [
              "count    5377.000000\n",
              "mean       99.307978\n",
              "std        28.530881\n",
              "min         3.000000\n",
              "25%        86.000000\n",
              "50%        98.000000\n",
              "75%       114.000000\n",
              "max       312.000000\n",
              "Name: duration, dtype: float64"
            ]
          },
          "metadata": {
            "tags": []
          },
          "execution_count": 37
        }
      ]
    },
    {
      "cell_type": "markdown",
      "metadata": {
        "id": "XQLrnPAKam9A"
      },
      "source": [
        "Vendo graficamente"
      ]
    },
    {
      "cell_type": "code",
      "metadata": {
        "colab": {
          "base_uri": "https://localhost:8080/",
          "height": 0
        },
        "id": "k0X6KTDEap_S",
        "outputId": "3581943f-bd46-4c18-de01-3ff017c63f85"
      },
      "source": [
        "sns.boxplot(y=dfMovie.duration)"
      ],
      "execution_count": 38,
      "outputs": [
        {
          "output_type": "execute_result",
          "data": {
            "text/plain": [
              "<matplotlib.axes._subplots.AxesSubplot at 0x7f5cab30b650>"
            ]
          },
          "metadata": {
            "tags": []
          },
          "execution_count": 38
        },
        {
          "output_type": "display_data",
          "data": {
            "image/png": "[encoded data removed]",
            "text/plain": [
              "<Figure size 432x288 with 1 Axes>"
            ]
          },
          "metadata": {
            "tags": [],
            "needs_background": "light"
          }
        }
      ]
    },
    {
      "cell_type": "code",
      "metadata": {
        "colab": {
          "base_uri": "https://localhost:8080/",
          "height": 0
        },
        "id": "o-v0ow8Hct5f",
        "outputId": "f56674bf-60bd-4d09-8f66-1e6f1b106e6a"
      },
      "source": [
        "dfMovie['duration'].plot.box()"
      ],
      "execution_count": 39,
      "outputs": [
        {
          "output_type": "execute_result",
          "data": {
            "text/plain": [
              "<matplotlib.axes._subplots.AxesSubplot at 0x7f5caad41d90>"
            ]
          },
          "metadata": {
            "tags": []
          },
          "execution_count": 39
        },
        {
          "output_type": "display_data",
          "data": {
            "image/png": "[encoded data removed]",
            "text/plain": [
              "<Figure size 432x288 with 1 Axes>"
            ]
          },
          "metadata": {
            "tags": [],
            "needs_background": "light"
          }
        }
      ]
    },
    {
      "cell_type": "code",
      "metadata": {
        "colab": {
          "base_uri": "https://localhost:8080/",
          "height": 0
        },
        "id": "lcR18xoWfLGD",
        "outputId": "ce42075d-0fb7-485c-886a-43beb6de8c54"
      },
      "source": [
        "dfMovie.duration.hist()"
      ],
      "execution_count": 40,
      "outputs": [
        {
          "output_type": "execute_result",
          "data": {
            "text/plain": [
              "<matplotlib.axes._subplots.AxesSubplot at 0x7f5caacc8d50>"
            ]
          },
          "metadata": {
            "tags": []
          },
          "execution_count": 40
        },
        {
          "output_type": "display_data",
          "data": {
            "image/png": "[encoded data removed]",
            "text/plain": [
              "<Figure size 432x288 with 1 Axes>"
            ]
          },
          "metadata": {
            "tags": [],
            "needs_background": "light"
          }
        }
      ]
    },
    {
      "cell_type": "markdown",
      "metadata": {
        "id": "Cooz81LJdChF"
      },
      "source": [
        "Como já normalizamos a distribuição de *duration* vamos utilizá-la para dar continuidade."
      ]
    },
    {
      "cell_type": "code",
      "metadata": {
        "colab": {
          "base_uri": "https://localhost:8080/",
          "height": 0
        },
        "id": "GcN4wSa-dWju",
        "outputId": "82cd0370-3d9b-4a19-c676-410e7fedf597"
      },
      "source": [
        "dfMovie.duration_norm.hist()"
      ],
      "execution_count": 41,
      "outputs": [
        {
          "output_type": "execute_result",
          "data": {
            "text/plain": [
              "<matplotlib.axes._subplots.AxesSubplot at 0x7f5cab2a42d0>"
            ]
          },
          "metadata": {
            "tags": []
          },
          "execution_count": 41
        },
        {
          "output_type": "display_data",
          "data": {
            "image/png": "[encoded data removed]",
            "text/plain": [
              "<Figure size 432x288 with 1 Axes>"
            ]
          },
          "metadata": {
            "tags": [],
            "needs_background": "light"
          }
        }
      ]
    },
    {
      "cell_type": "markdown",
      "metadata": {
        "id": "Q7eOtACmfUwi"
      },
      "source": [
        "Calculando o IQR, já que outliers são identificados fora dos limites inferiores e superiores dados por Q1 - 1.5IQR e Q3 + 1.5IQR respectivamente."
      ]
    },
    {
      "cell_type": "code",
      "metadata": {
        "colab": {
          "base_uri": "https://localhost:8080/"
        },
        "id": "DhH_gAq3gPpN",
        "outputId": "d048d20f-dc82-4dd1-f2f0-bc635acb5995"
      },
      "source": [
        "q1 = dfMovie['duration_norm'].quantile(q=0.25)\n",
        "q3 = dfMovie['duration_norm'].quantile(q=0.75)\n",
        "iqr = q3 - q1\n",
        "iqr"
      ],
      "execution_count": 42,
      "outputs": [
        {
          "output_type": "execute_result",
          "data": {
            "text/plain": [
              "0.9814840367357893"
            ]
          },
          "metadata": {
            "tags": []
          },
          "execution_count": 42
        }
      ]
    },
    {
      "cell_type": "markdown",
      "metadata": {
        "id": "zRoR-o_DgmGl"
      },
      "source": [
        "Teremos o seguinte dataset retirando outliers de acordo com o método de tukey"
      ]
    },
    {
      "cell_type": "code",
      "metadata": {
        "colab": {
          "base_uri": "https://localhost:8080/"
        },
        "id": "SqC3JcNdgwNa",
        "outputId": "396f7bfe-2f43-4289-87e5-afbadc92fb02"
      },
      "source": [
        "dfMovie1 = dfMovie[(dfMovie['duration_norm'] > (q1-1.5*iqr)) & (dfMovie['duration_norm'] < (q3+1.5*iqr))]\n",
        "len(dfMovie1)"
      ],
      "execution_count": 43,
      "outputs": [
        {
          "output_type": "execute_result",
          "data": {
            "text/plain": [
              "5012"
            ]
          },
          "metadata": {
            "tags": []
          },
          "execution_count": 43
        }
      ]
    },
    {
      "cell_type": "code",
      "metadata": {
        "colab": {
          "base_uri": "https://localhost:8080/",
          "height": 0
        },
        "id": "TTs-eoCFg9r7",
        "outputId": "7a69cb25-fbfa-4d3d-ecde-3c20eeeb15ce"
      },
      "source": [
        "dfMovie1.head()"
      ],
      "execution_count": 44,
      "outputs": [
        {
          "output_type": "execute_result",
          "data": {
            "text/html": [
              "<div>\n",
              "<style scoped>\n",
              "    .dataframe tbody tr th:only-of-type {\n",
              "        vertical-align: middle;\n",
              "    }\n",
              "\n",
              "    .dataframe tbody tr th {\n",
              "        vertical-align: top;\n",
              "    }\n",
              "\n",
              "    .dataframe thead th {\n",
              "        text-align: right;\n",
              "    }\n",
              "</style>\n",
              "<table border=\"1\" class=\"dataframe\">\n",
              "  <thead>\n",
              "    <tr style=\"text-align: right;\">\n",
              "      <th></th>\n",
              "      <th>show_id</th>\n",
              "      <th>type</th>\n",
              "      <th>title</th>\n",
              "      <th>director</th>\n",
              "      <th>cast</th>\n",
              "      <th>country</th>\n",
              "      <th>date_added</th>\n",
              "      <th>release_year</th>\n",
              "      <th>rating</th>\n",
              "      <th>duration</th>\n",
              "      <th>listed_in</th>\n",
              "      <th>description</th>\n",
              "      <th>release_year_norm</th>\n",
              "      <th>duration_norm</th>\n",
              "      <th>duration_dist</th>\n",
              "      <th>release_year_dist</th>\n",
              "    </tr>\n",
              "  </thead>\n",
              "  <tbody>\n",
              "    <tr>\n",
              "      <th>1</th>\n",
              "      <td>s2</td>\n",
              "      <td>Movie</td>\n",
              "      <td>7:19</td>\n",
              "      <td>Jorge Michel Grau</td>\n",
              "      <td>Demián Bichir, Héctor Bonilla, Oscar Serrano, ...</td>\n",
              "      <td>Mexico</td>\n",
              "      <td>December 23, 2016</td>\n",
              "      <td>2016</td>\n",
              "      <td>TV-MA</td>\n",
              "      <td>93</td>\n",
              "      <td>Dramas, International Movies</td>\n",
              "      <td>After a devastating earthquake hits Mexico Cit...</td>\n",
              "      <td>0.318759</td>\n",
              "      <td>-0.221114</td>\n",
              "      <td>(86.0, 98.0]</td>\n",
              "      <td>(2012.0, 2016.0]</td>\n",
              "    </tr>\n",
              "    <tr>\n",
              "      <th>2</th>\n",
              "      <td>s3</td>\n",
              "      <td>Movie</td>\n",
              "      <td>23:59</td>\n",
              "      <td>Gilbert Chan</td>\n",
              "      <td>Tedd Chan, Stella Chung, Henley Hii, Lawrence ...</td>\n",
              "      <td>Singapore</td>\n",
              "      <td>December 20, 2018</td>\n",
              "      <td>2011</td>\n",
              "      <td>R</td>\n",
              "      <td>78</td>\n",
              "      <td>Horror Movies, International Movies</td>\n",
              "      <td>When an army recruit is found dead, his fellow...</td>\n",
              "      <td>-0.198712</td>\n",
              "      <td>-0.746909</td>\n",
              "      <td>(2.999, 86.0]</td>\n",
              "      <td>(1941.999, 2012.0]</td>\n",
              "    </tr>\n",
              "    <tr>\n",
              "      <th>3</th>\n",
              "      <td>s4</td>\n",
              "      <td>Movie</td>\n",
              "      <td>9</td>\n",
              "      <td>Shane Acker</td>\n",
              "      <td>Elijah Wood, John C. Reilly, Jennifer Connelly...</td>\n",
              "      <td>United States</td>\n",
              "      <td>November 16, 2017</td>\n",
              "      <td>2009</td>\n",
              "      <td>PG-13</td>\n",
              "      <td>80</td>\n",
              "      <td>Action &amp; Adventure, Independent Movies, Sci-Fi...</td>\n",
              "      <td>In a postapocalyptic world, rag-doll robots hi...</td>\n",
              "      <td>-0.405700</td>\n",
              "      <td>-0.676803</td>\n",
              "      <td>(2.999, 86.0]</td>\n",
              "      <td>(1941.999, 2012.0]</td>\n",
              "    </tr>\n",
              "    <tr>\n",
              "      <th>4</th>\n",
              "      <td>s5</td>\n",
              "      <td>Movie</td>\n",
              "      <td>21</td>\n",
              "      <td>Robert Luketic</td>\n",
              "      <td>Jim Sturgess, Kevin Spacey, Kate Bosworth, Aar...</td>\n",
              "      <td>United States</td>\n",
              "      <td>January 1, 2020</td>\n",
              "      <td>2008</td>\n",
              "      <td>PG-13</td>\n",
              "      <td>123</td>\n",
              "      <td>Dramas</td>\n",
              "      <td>A brilliant group of students become card-coun...</td>\n",
              "      <td>-0.509194</td>\n",
              "      <td>0.830476</td>\n",
              "      <td>(114.0, 312.0]</td>\n",
              "      <td>(1941.999, 2012.0]</td>\n",
              "    </tr>\n",
              "    <tr>\n",
              "      <th>6</th>\n",
              "      <td>s7</td>\n",
              "      <td>Movie</td>\n",
              "      <td>122</td>\n",
              "      <td>Yasir Al Yasiri</td>\n",
              "      <td>Amina Khalil, Ahmed Dawood, Tarek Lotfy, Ahmed...</td>\n",
              "      <td>Egypt</td>\n",
              "      <td>June 1, 2020</td>\n",
              "      <td>2019</td>\n",
              "      <td>TV-MA</td>\n",
              "      <td>95</td>\n",
              "      <td>Horror Movies, International Movies</td>\n",
              "      <td>After an awful accident, a couple admitted to ...</td>\n",
              "      <td>0.629241</td>\n",
              "      <td>-0.151008</td>\n",
              "      <td>(86.0, 98.0]</td>\n",
              "      <td>(2018.0, 2021.0]</td>\n",
              "    </tr>\n",
              "  </tbody>\n",
              "</table>\n",
              "</div>"
            ],
            "text/plain": [
              "  show_id   type  title  ... duration_norm   duration_dist   release_year_dist\n",
              "1      s2  Movie   7:19  ...     -0.221114    (86.0, 98.0]    (2012.0, 2016.0]\n",
              "2      s3  Movie  23:59  ...     -0.746909   (2.999, 86.0]  (1941.999, 2012.0]\n",
              "3      s4  Movie      9  ...     -0.676803   (2.999, 86.0]  (1941.999, 2012.0]\n",
              "4      s5  Movie     21  ...      0.830476  (114.0, 312.0]  (1941.999, 2012.0]\n",
              "6      s7  Movie    122  ...     -0.151008    (86.0, 98.0]    (2018.0, 2021.0]\n",
              "\n",
              "[5 rows x 16 columns]"
            ]
          },
          "metadata": {
            "tags": []
          },
          "execution_count": 44
        }
      ]
    },
    {
      "cell_type": "markdown",
      "metadata": {
        "id": "AVNCzmqhhMJF"
      },
      "source": [
        "### Vamos tentar remover agora utilizando duas variáveis, sendo elas duration e release_year"
      ]
    },
    {
      "cell_type": "code",
      "metadata": {
        "colab": {
          "base_uri": "https://localhost:8080/",
          "height": 0
        },
        "id": "ekUJPQ4Bhnjx",
        "outputId": "0cf5a050-a48d-4a55-9b29-c586c0999dc9"
      },
      "source": [
        "sns.scatterplot(x=\"duration\", y='release_year', data=dfMovie)"
      ],
      "execution_count": 45,
      "outputs": [
        {
          "output_type": "execute_result",
          "data": {
            "text/plain": [
              "<matplotlib.axes._subplots.AxesSubplot at 0x7f5caabe26d0>"
            ]
          },
          "metadata": {
            "tags": []
          },
          "execution_count": 45
        },
        {
          "output_type": "display_data",
          "data": {
            "image/png": "[encoded data removed]",
            "text/plain": [
              "<Figure size 432x288 with 1 Axes>"
            ]
          },
          "metadata": {
            "tags": [],
            "needs_background": "light"
          }
        }
      ]
    },
    {
      "cell_type": "code",
      "metadata": {
        "id": "3AF_Dv1ljcaB"
      },
      "source": [
        "dfMovie['duration_year'] = dfMovie['duration'] / dfMovie['release_year']"
      ],
      "execution_count": 46,
      "outputs": []
    },
    {
      "cell_type": "code",
      "metadata": {
        "colab": {
          "base_uri": "https://localhost:8080/"
        },
        "id": "YUJiHvI5k7qv",
        "outputId": "9b4f4ae1-074c-4c30-9e35-e91b878de538"
      },
      "source": [
        "dfMovie['duration_year'].describe()"
      ],
      "execution_count": 47,
      "outputs": [
        {
          "output_type": "execute_result",
          "data": {
            "text/plain": [
              "count    5377.000000\n",
              "mean        0.049350\n",
              "std         0.014246\n",
              "min         0.001490\n",
              "25%         0.042680\n",
              "50%         0.048611\n",
              "75%         0.056688\n",
              "max         0.154609\n",
              "Name: duration_year, dtype: float64"
            ]
          },
          "metadata": {
            "tags": []
          },
          "execution_count": 47
        }
      ]
    },
    {
      "cell_type": "code",
      "metadata": {
        "colab": {
          "base_uri": "https://localhost:8080/",
          "height": 0
        },
        "id": "6uEF77kulBV0",
        "outputId": "76c5b939-35c4-4dbf-e950-60f27cdcefb0"
      },
      "source": [
        "sns.boxplot(y=dfMovie.duration_year)"
      ],
      "execution_count": 48,
      "outputs": [
        {
          "output_type": "execute_result",
          "data": {
            "text/plain": [
              "<matplotlib.axes._subplots.AxesSubplot at 0x7f5caab62c50>"
            ]
          },
          "metadata": {
            "tags": []
          },
          "execution_count": 48
        },
        {
          "output_type": "display_data",
          "data": {
            "image/png": "[encoded data removed]",
            "text/plain": [
              "<Figure size 432x288 with 1 Axes>"
            ]
          },
          "metadata": {
            "tags": [],
            "needs_background": "light"
          }
        }
      ]
    },
    {
      "cell_type": "code",
      "metadata": {
        "colab": {
          "base_uri": "https://localhost:8080/",
          "height": 0
        },
        "id": "SpCqgGjolJrM",
        "outputId": "ef87b983-7162-4ed2-a431-8b514f1ea0a1"
      },
      "source": [
        "dfMovie['duration_year'].hist()"
      ],
      "execution_count": 49,
      "outputs": [
        {
          "output_type": "execute_result",
          "data": {
            "text/plain": [
              "<matplotlib.axes._subplots.AxesSubplot at 0x7f5caab2c190>"
            ]
          },
          "metadata": {
            "tags": []
          },
          "execution_count": 49
        },
        {
          "output_type": "display_data",
          "data": {
            "image/png": "[encoded data removed]",
            "text/plain": [
              "<Figure size 432x288 with 1 Axes>"
            ]
          },
          "metadata": {
            "tags": [],
            "needs_background": "light"
          }
        }
      ]
    },
    {
      "cell_type": "markdown",
      "metadata": {
        "id": "1X16FoqXl9vR"
      },
      "source": [
        "Normalizando, apesar de já seguirmos uma distribuição parecida com a gaussiana"
      ]
    },
    {
      "cell_type": "code",
      "metadata": {
        "colab": {
          "base_uri": "https://localhost:8080/"
        },
        "id": "SknZ8rzLl9Sz",
        "outputId": "d5c3ee64-a138-4044-ae7a-30c5616653a8"
      },
      "source": [
        "scaler = StandardScaler()\n",
        "dfMovie['duration_year_norm'] = scaler.fit_transform(dfMovie[['duration_year']])\n",
        "dfMovie['duration_year_norm'].describe()"
      ],
      "execution_count": 50,
      "outputs": [
        {
          "output_type": "execute_result",
          "data": {
            "text/plain": [
              "count    5.377000e+03\n",
              "mean     2.585083e-16\n",
              "std      1.000093e+00\n",
              "min     -3.359925e+00\n",
              "25%     -4.682861e-01\n",
              "50%     -5.190399e-02\n",
              "75%      5.151239e-01\n",
              "max      7.389314e+00\n",
              "Name: duration_year_norm, dtype: float64"
            ]
          },
          "metadata": {
            "tags": []
          },
          "execution_count": 50
        }
      ]
    },
    {
      "cell_type": "code",
      "metadata": {
        "colab": {
          "base_uri": "https://localhost:8080/",
          "height": 0
        },
        "id": "LRHfNPvQmKrn",
        "outputId": "cad7ecfc-cee8-466e-d58b-249788f19d8b"
      },
      "source": [
        "dfMovie['duration_year_norm'].hist()"
      ],
      "execution_count": 51,
      "outputs": [
        {
          "output_type": "execute_result",
          "data": {
            "text/plain": [
              "<matplotlib.axes._subplots.AxesSubplot at 0x7f5caaa77a10>"
            ]
          },
          "metadata": {
            "tags": []
          },
          "execution_count": 51
        },
        {
          "output_type": "display_data",
          "data": {
            "image/png": "[encoded data removed]",
            "text/plain": [
              "<Figure size 432x288 with 1 Axes>"
            ]
          },
          "metadata": {
            "tags": [],
            "needs_background": "light"
          }
        }
      ]
    },
    {
      "cell_type": "code",
      "metadata": {
        "id": "edGgppx8mide"
      },
      "source": [
        "mad = abs(dfMovie['duration_year_norm'] - dfMovie['duration_year_norm'].median()).median()*(1/0.6745)"
      ],
      "execution_count": 52,
      "outputs": []
    },
    {
      "cell_type": "code",
      "metadata": {
        "colab": {
          "base_uri": "https://localhost:8080/",
          "height": 0
        },
        "id": "8eyV5jZnmwDy",
        "outputId": "7770ff3e-1712-4e8e-8749-0ecba9e8f00a"
      },
      "source": [
        "(abs(dfMovie['duration_year_norm']-dfMovie['duration_year_norm'].median())/mad).hist()"
      ],
      "execution_count": 53,
      "outputs": [
        {
          "output_type": "execute_result",
          "data": {
            "text/plain": [
              "<matplotlib.axes._subplots.AxesSubplot at 0x7f5caa983dd0>"
            ]
          },
          "metadata": {
            "tags": []
          },
          "execution_count": 53
        },
        {
          "output_type": "display_data",
          "data": {
            "image/png": "[encoded data removed]",
            "text/plain": [
              "<Figure size 432x288 with 1 Axes>"
            ]
          },
          "metadata": {
            "tags": [],
            "needs_background": "light"
          }
        }
      ]
    },
    {
      "cell_type": "code",
      "metadata": {
        "colab": {
          "base_uri": "https://localhost:8080/"
        },
        "id": "E8sYZ02HnETA",
        "outputId": "7133e740-bc7a-44c6-874c-eb49cfcebedb"
      },
      "source": [
        "dfMovie2 = dfMovie[abs(dfMovie['duration_year_norm']-dfMovie['duration_year_norm'].median())/mad < 4.5]\n",
        "print(len(dfMovie2))"
      ],
      "execution_count": 54,
      "outputs": [
        {
          "output_type": "stream",
          "text": [
            "5352\n"
          ],
          "name": "stdout"
        }
      ]
    },
    {
      "cell_type": "markdown",
      "metadata": {
        "id": "JwWPiaIWneLw"
      },
      "source": [
        "Comparando os dois métodos, retiramos mais dados utilizando apenas uma variável"
      ]
    },
    {
      "cell_type": "markdown",
      "metadata": {
        "id": "nDTnpHDpkT4f"
      },
      "source": [
        "#Analisando nossas estatísticas univariadas a 'TV Show' e a 'Movie'.\n",
        "\n",
        "\n",
        "\n",
        "\n"
      ]
    },
    {
      "cell_type": "code",
      "metadata": {
        "colab": {
          "base_uri": "https://localhost:8080/"
        },
        "id": "s7dx8ZpszIgf",
        "outputId": "683caaf8-3205-4046-d2a0-49d18eab636b"
      },
      "source": [
        "df[df['type']=='TV Show']['duration'].describe()"
      ],
      "execution_count": 55,
      "outputs": [
        {
          "output_type": "execute_result",
          "data": {
            "text/plain": [
              "count    2410.000000\n",
              "mean        1.775934\n",
              "std         1.596359\n",
              "min         1.000000\n",
              "25%         1.000000\n",
              "50%         1.000000\n",
              "75%         2.000000\n",
              "max        16.000000\n",
              "Name: duration, dtype: float64"
            ]
          },
          "metadata": {
            "tags": []
          },
          "execution_count": 55
        }
      ]
    },
    {
      "cell_type": "code",
      "metadata": {
        "colab": {
          "base_uri": "https://localhost:8080/"
        },
        "id": "CWxopkkQsiOu",
        "outputId": "018f0b5c-279b-433a-fca5-204752c31206"
      },
      "source": [
        "df[df['type']=='Movie']['duration'].describe()"
      ],
      "execution_count": 56,
      "outputs": [
        {
          "output_type": "execute_result",
          "data": {
            "text/plain": [
              "count    5377.000000\n",
              "mean       99.307978\n",
              "std        28.530881\n",
              "min         3.000000\n",
              "25%        86.000000\n",
              "50%        98.000000\n",
              "75%       114.000000\n",
              "max       312.000000\n",
              "Name: duration, dtype: float64"
            ]
          },
          "metadata": {
            "tags": []
          },
          "execution_count": 56
        }
      ]
    },
    {
      "cell_type": "markdown",
      "metadata": {
        "id": "RTc-_W-Tzc2O"
      },
      "source": [
        "Podemos ver que temos um filme com duração de 3 minutos, vamos ver melhor que filme é esse."
      ]
    },
    {
      "cell_type": "code",
      "metadata": {
        "colab": {
          "base_uri": "https://localhost:8080/",
          "height": 0
        },
        "id": "3hhwyZuuzodi",
        "outputId": "2476fe48-0259-416e-9fe2-aac1f6d98ee1"
      },
      "source": [
        "df.loc[(df['duration'] < 10) & (df['type'] == 'Movie')]"
      ],
      "execution_count": 57,
      "outputs": [
        {
          "output_type": "execute_result",
          "data": {
            "text/html": [
              "<div>\n",
              "<style scoped>\n",
              "    .dataframe tbody tr th:only-of-type {\n",
              "        vertical-align: middle;\n",
              "    }\n",
              "\n",
              "    .dataframe tbody tr th {\n",
              "        vertical-align: top;\n",
              "    }\n",
              "\n",
              "    .dataframe thead th {\n",
              "        text-align: right;\n",
              "    }\n",
              "</style>\n",
              "<table border=\"1\" class=\"dataframe\">\n",
              "  <thead>\n",
              "    <tr style=\"text-align: right;\">\n",
              "      <th></th>\n",
              "      <th>show_id</th>\n",
              "      <th>type</th>\n",
              "      <th>title</th>\n",
              "      <th>director</th>\n",
              "      <th>cast</th>\n",
              "      <th>country</th>\n",
              "      <th>date_added</th>\n",
              "      <th>release_year</th>\n",
              "      <th>rating</th>\n",
              "      <th>duration</th>\n",
              "      <th>listed_in</th>\n",
              "      <th>description</th>\n",
              "      <th>main_country</th>\n",
              "      <th>year_added</th>\n",
              "    </tr>\n",
              "  </thead>\n",
              "  <tbody>\n",
              "    <tr>\n",
              "      <th>1203</th>\n",
              "      <td>s1204</td>\n",
              "      <td>Movie</td>\n",
              "      <td>Canvas</td>\n",
              "      <td>Frank E. Abney III</td>\n",
              "      <td>desconhecido</td>\n",
              "      <td>United States</td>\n",
              "      <td>2020-12-11</td>\n",
              "      <td>2020</td>\n",
              "      <td>G</td>\n",
              "      <td>9</td>\n",
              "      <td>Children &amp; Family Movies, Dramas</td>\n",
              "      <td>After a heartbreaking loss, a grandfather stru...</td>\n",
              "      <td>United States</td>\n",
              "      <td>2020</td>\n",
              "    </tr>\n",
              "    <tr>\n",
              "      <th>1501</th>\n",
              "      <td>s1502</td>\n",
              "      <td>Movie</td>\n",
              "      <td>Cops and Robbers</td>\n",
              "      <td>Arnon Manor, Timothy Ware-Hill</td>\n",
              "      <td>Timothy Ware-Hill</td>\n",
              "      <td>United States</td>\n",
              "      <td>2020-12-28</td>\n",
              "      <td>2020</td>\n",
              "      <td>PG-13</td>\n",
              "      <td>8</td>\n",
              "      <td>Dramas</td>\n",
              "      <td>Animation and activism unite in this multimedi...</td>\n",
              "      <td>United States</td>\n",
              "      <td>2020</td>\n",
              "    </tr>\n",
              "    <tr>\n",
              "      <th>5605</th>\n",
              "      <td>s5606</td>\n",
              "      <td>Movie</td>\n",
              "      <td>Silent</td>\n",
              "      <td>Limbert Fabian, Brandon Oldenburg</td>\n",
              "      <td>desconhecido</td>\n",
              "      <td>United States</td>\n",
              "      <td>2019-06-04</td>\n",
              "      <td>2014</td>\n",
              "      <td>TV-Y</td>\n",
              "      <td>3</td>\n",
              "      <td>Children &amp; Family Movies, Sci-Fi &amp; Fantasy</td>\n",
              "      <td>\"Silent\" is an animated short film created by ...</td>\n",
              "      <td>United States</td>\n",
              "      <td>2019</td>\n",
              "    </tr>\n",
              "    <tr>\n",
              "      <th>5694</th>\n",
              "      <td>s5695</td>\n",
              "      <td>Movie</td>\n",
              "      <td>Sol Levante</td>\n",
              "      <td>Akira Saitoh</td>\n",
              "      <td>desconhecido</td>\n",
              "      <td>Japan</td>\n",
              "      <td>2020-04-02</td>\n",
              "      <td>2020</td>\n",
              "      <td>TV-14</td>\n",
              "      <td>5</td>\n",
              "      <td>Action &amp; Adventure, Anime Features, Internatio...</td>\n",
              "      <td>A young warrior and her familiar search for th...</td>\n",
              "      <td>Japan</td>\n",
              "      <td>2020</td>\n",
              "    </tr>\n",
              "  </tbody>\n",
              "</table>\n",
              "</div>"
            ],
            "text/plain": [
              "     show_id   type  ...   main_country year_added\n",
              "1203   s1204  Movie  ...  United States       2020\n",
              "1501   s1502  Movie  ...  United States       2020\n",
              "5605   s5606  Movie  ...  United States       2019\n",
              "5694   s5695  Movie  ...          Japan       2020\n",
              "\n",
              "[4 rows x 14 columns]"
            ]
          },
          "metadata": {
            "tags": []
          },
          "execution_count": 57
        }
      ]
    },
    {
      "cell_type": "markdown",
      "metadata": {
        "id": "lqES-Llm0pOg"
      },
      "source": [
        "Dessa forma temos a confirmação de que nosso dataset contém curtas, que também são considerados filmes."
      ]
    },
    {
      "cell_type": "markdown",
      "metadata": {
        "id": "spUriI4n9NYg"
      },
      "source": [
        "* Veremos também agora as estatísticas univariadas para os anos de lançamento"
      ]
    },
    {
      "cell_type": "code",
      "metadata": {
        "colab": {
          "base_uri": "https://localhost:8080/"
        },
        "id": "0HcZws-BBZrZ",
        "outputId": "8675b76e-4d69-4b5a-cd03-409d6d16240b"
      },
      "source": [
        "df['release_year'].describe()"
      ],
      "execution_count": 58,
      "outputs": [
        {
          "output_type": "execute_result",
          "data": {
            "text/plain": [
              "count    7787.000000\n",
              "mean     2013.932580\n",
              "std         8.757395\n",
              "min      1925.000000\n",
              "25%      2013.000000\n",
              "50%      2017.000000\n",
              "75%      2018.000000\n",
              "max      2021.000000\n",
              "Name: release_year, dtype: float64"
            ]
          },
          "metadata": {
            "tags": []
          },
          "execution_count": 58
        }
      ]
    },
    {
      "cell_type": "markdown",
      "metadata": {
        "id": "0X2l8Cl3CHvl"
      },
      "source": [
        "# Analisando agora estatísticas bivariadas teremos:"
      ]
    },
    {
      "cell_type": "code",
      "metadata": {
        "colab": {
          "base_uri": "https://localhost:8080/",
          "height": 0
        },
        "id": "6gIZ_YQFCNZU",
        "outputId": "0343dc8c-6a7e-4087-b9af-c849c9a60c8a"
      },
      "source": [
        "df[df.type=='Movie'].corr(method='spearman')"
      ],
      "execution_count": 59,
      "outputs": [
        {
          "output_type": "execute_result",
          "data": {
            "text/html": [
              "<div>\n",
              "<style scoped>\n",
              "    .dataframe tbody tr th:only-of-type {\n",
              "        vertical-align: middle;\n",
              "    }\n",
              "\n",
              "    .dataframe tbody tr th {\n",
              "        vertical-align: top;\n",
              "    }\n",
              "\n",
              "    .dataframe thead th {\n",
              "        text-align: right;\n",
              "    }\n",
              "</style>\n",
              "<table border=\"1\" class=\"dataframe\">\n",
              "  <thead>\n",
              "    <tr style=\"text-align: right;\">\n",
              "      <th></th>\n",
              "      <th>release_year</th>\n",
              "      <th>duration</th>\n",
              "      <th>year_added</th>\n",
              "    </tr>\n",
              "  </thead>\n",
              "  <tbody>\n",
              "    <tr>\n",
              "      <th>release_year</th>\n",
              "      <td>1.000000</td>\n",
              "      <td>-0.210483</td>\n",
              "      <td>0.224301</td>\n",
              "    </tr>\n",
              "    <tr>\n",
              "      <th>duration</th>\n",
              "      <td>-0.210483</td>\n",
              "      <td>1.000000</td>\n",
              "      <td>0.138488</td>\n",
              "    </tr>\n",
              "    <tr>\n",
              "      <th>year_added</th>\n",
              "      <td>0.224301</td>\n",
              "      <td>0.138488</td>\n",
              "      <td>1.000000</td>\n",
              "    </tr>\n",
              "  </tbody>\n",
              "</table>\n",
              "</div>"
            ],
            "text/plain": [
              "              release_year  duration  year_added\n",
              "release_year      1.000000 -0.210483    0.224301\n",
              "duration         -0.210483  1.000000    0.138488\n",
              "year_added        0.224301  0.138488    1.000000"
            ]
          },
          "metadata": {
            "tags": []
          },
          "execution_count": 59
        }
      ]
    },
    {
      "cell_type": "markdown",
      "metadata": {
        "id": "NFp8Vt00FNh-"
      },
      "source": [
        "dessa forma podemos notar que conforme o tempo foi passando a duração dos filmes foi diminuindo"
      ]
    },
    {
      "cell_type": "code",
      "metadata": {
        "colab": {
          "base_uri": "https://localhost:8080/",
          "height": 0
        },
        "id": "3wGCxdWybjFj",
        "outputId": "6837133a-d64e-4a0e-f6c3-401fed2b7755"
      },
      "source": [
        "sns.lmplot(x=\"release_year\", y='duration', data=dfMovie)\n"
      ],
      "execution_count": 60,
      "outputs": [
        {
          "output_type": "execute_result",
          "data": {
            "text/plain": [
              "<seaborn.axisgrid.FacetGrid at 0x7f5caa970690>"
            ]
          },
          "metadata": {
            "tags": []
          },
          "execution_count": 60
        },
        {
          "output_type": "display_data",
          "data": {
            "image/png": "[encoded data removed]",
            "text/plain": [
              "<Figure size 360x360 with 1 Axes>"
            ]
          },
          "metadata": {
            "tags": [],
            "needs_background": "light"
          }
        }
      ]
    },
    {
      "cell_type": "markdown",
      "metadata": {
        "id": "Ht7VJvXpn7u7"
      },
      "source": [
        "Podemos ver que conforme o tempo passa os filmes vem ficando mais curtos, confirmando graficamente o que foi observado"
      ]
    },
    {
      "cell_type": "markdown",
      "metadata": {
        "id": "0wj5e-TIp9sU"
      },
      "source": [
        "# Realizando agora uma análise descritiva dos nossos dados"
      ]
    },
    {
      "cell_type": "markdown",
      "metadata": {
        "id": "1l98qPevqHuV"
      },
      "source": [
        "### Comparando as quantidades de filmes e de TV Shows"
      ]
    },
    {
      "cell_type": "code",
      "metadata": {
        "colab": {
          "base_uri": "https://localhost:8080/",
          "height": 0
        },
        "id": "5_wyYTs0qbJH",
        "outputId": "3aafd565-979b-4353-8596-89f15a0ed8da"
      },
      "source": [
        "sns.countplot(y=\"type\",data=df)"
      ],
      "execution_count": 61,
      "outputs": [
        {
          "output_type": "execute_result",
          "data": {
            "text/plain": [
              "<matplotlib.axes._subplots.AxesSubplot at 0x7f5ca20b7990>"
            ]
          },
          "metadata": {
            "tags": []
          },
          "execution_count": 61
        },
        {
          "output_type": "display_data",
          "data": {
            "image/png": "[encoded data removed]",
            "text/plain": [
              "<Figure size 432x288 with 1 Axes>"
            ]
          },
          "metadata": {
            "tags": [],
            "needs_background": "light"
          }
        }
      ]
    },
    {
      "cell_type": "markdown",
      "metadata": {
        "id": "mKWVpGigqnaX"
      },
      "source": [
        "### Comparando por ano de lançamento de filme"
      ]
    },
    {
      "cell_type": "code",
      "metadata": {
        "colab": {
          "base_uri": "https://localhost:8080/",
          "height": 0
        },
        "id": "6KnLwriiquTe",
        "outputId": "aec77b8b-cdc9-40e3-dbd5-a2fdd24aea5d"
      },
      "source": [
        "sns.countplot(y=\"release_year_dist\",data=dfMovie)"
      ],
      "execution_count": 62,
      "outputs": [
        {
          "output_type": "execute_result",
          "data": {
            "text/plain": [
              "<matplotlib.axes._subplots.AxesSubplot at 0x7f5caa8c0090>"
            ]
          },
          "metadata": {
            "tags": []
          },
          "execution_count": 62
        },
        {
          "output_type": "display_data",
          "data": {
            "image/png": "[encoded data removed]",
            "text/plain": [
              "<Figure size 432x288 with 1 Axes>"
            ]
          },
          "metadata": {
            "tags": [],
            "needs_background": "light"
          }
        }
      ]
    },
    {
      "cell_type": "markdown",
      "metadata": {
        "id": "3wXjU1SbsAhq"
      },
      "source": [
        "Podemos ver aqui que temos a maioria dos filmes na netflix foram lançados entre 2016 e 2018"
      ]
    },
    {
      "cell_type": "markdown",
      "metadata": {
        "id": "UNfcFiPT_W1g"
      },
      "source": [
        "### Agora vamos analisar a distribuição de adição de títulos à netflix ao longo dos anos"
      ]
    },
    {
      "cell_type": "code",
      "metadata": {
        "colab": {
          "base_uri": "https://localhost:8080/",
          "height": 0
        },
        "id": "uqWn4tWo_one",
        "outputId": "4ef1eec9-a5b9-45c9-d575-283e3d81c866"
      },
      "source": [
        "sns.countplot(y=\"year_added\",data=df)"
      ],
      "execution_count": 63,
      "outputs": [
        {
          "output_type": "execute_result",
          "data": {
            "text/plain": [
              "<matplotlib.axes._subplots.AxesSubplot at 0x7f5ca1fd33d0>"
            ]
          },
          "metadata": {
            "tags": []
          },
          "execution_count": 63
        },
        {
          "output_type": "display_data",
          "data": {
            "image/png": "[encoded data removed]",
            "text/plain": [
              "<Figure size 432x288 with 1 Axes>"
            ]
          },
          "metadata": {
            "tags": [],
            "needs_background": "light"
          }
        }
      ]
    },
    {
      "cell_type": "markdown",
      "metadata": {
        "id": "-G1TveLC_zzO"
      },
      "source": [
        "Aqui podemos ver que o ano que a netflix mais adicionou títulos foi em 2019"
      ]
    },
    {
      "cell_type": "markdown",
      "metadata": {
        "id": "VlEWV64LxM_p"
      },
      "source": [
        "### Analisando as classificações indicativas de séries e filmes, respectivamente."
      ]
    },
    {
      "cell_type": "code",
      "metadata": {
        "colab": {
          "base_uri": "https://localhost:8080/",
          "height": 0
        },
        "id": "KP4D705Tsd4d",
        "outputId": "10dc4b44-54da-4382-d12a-77ee37929fc3"
      },
      "source": [
        "sns.countplot(y=\"rating\",data=dfShow)"
      ],
      "execution_count": 64,
      "outputs": [
        {
          "output_type": "execute_result",
          "data": {
            "text/plain": [
              "<matplotlib.axes._subplots.AxesSubplot at 0x7f5ca1ff3310>"
            ]
          },
          "metadata": {
            "tags": []
          },
          "execution_count": 64
        },
        {
          "output_type": "display_data",
          "data": {
            "image/png": "[encoded data removed]",
            "text/plain": [
              "<Figure size 432x288 with 1 Axes>"
            ]
          },
          "metadata": {
            "tags": [],
            "needs_background": "light"
          }
        }
      ]
    },
    {
      "cell_type": "markdown",
      "metadata": {
        "id": "c5CfwmVgsxU7"
      },
      "source": [
        "Podemos ver que não temos nenhuma série para maior de idade no nosso conjunto de dados"
      ]
    },
    {
      "cell_type": "code",
      "metadata": {
        "colab": {
          "base_uri": "https://localhost:8080/",
          "height": 0
        },
        "id": "E3phE914uorx",
        "outputId": "e2f13915-72df-4a2c-c968-d4159cf9cc1f"
      },
      "source": [
        "sns.countplot(y=\"rating\",data=dfMovie)"
      ],
      "execution_count": 65,
      "outputs": [
        {
          "output_type": "execute_result",
          "data": {
            "text/plain": [
              "<matplotlib.axes._subplots.AxesSubplot at 0x7f5caaa55fd0>"
            ]
          },
          "metadata": {
            "tags": []
          },
          "execution_count": 65
        },
        {
          "output_type": "display_data",
          "data": {
            "image/png": "[encoded data removed]",
            "text/plain": [
              "<Figure size 432x288 with 1 Axes>"
            ]
          },
          "metadata": {
            "tags": [],
            "needs_background": "light"
          }
        }
      ]
    },
    {
      "cell_type": "markdown",
      "metadata": {
        "id": "_Tz4uFdVxApN"
      },
      "source": [
        "Podemos ver aqui que temos filmes para praticamente todas as idades na netflix"
      ]
    },
    {
      "cell_type": "markdown",
      "metadata": {
        "id": "37yImv4p2_dR"
      },
      "source": [
        "### Vendo agora a distribuição da duração dos nossos filmes/curtas temos o seguinte histograma"
      ]
    },
    {
      "cell_type": "code",
      "metadata": {
        "colab": {
          "base_uri": "https://localhost:8080/",
          "height": 0
        },
        "id": "Z4GDxTT_2ckA",
        "outputId": "181f6dcc-19ac-498c-f2d9-8b68d12df056"
      },
      "source": [
        "sns.histplot(data=dfMovie['duration'],  kde=True)"
      ],
      "execution_count": 66,
      "outputs": [
        {
          "output_type": "execute_result",
          "data": {
            "text/plain": [
              "<matplotlib.axes._subplots.AxesSubplot at 0x7f5ca1f12910>"
            ]
          },
          "metadata": {
            "tags": []
          },
          "execution_count": 66
        },
        {
          "output_type": "display_data",
          "data": {
            "image/png": "[encoded data removed]",
            "text/plain": [
              "<Figure size 432x288 with 1 Axes>"
            ]
          },
          "metadata": {
            "tags": [],
            "needs_background": "light"
          }
        }
      ]
    },
    {
      "cell_type": "markdown",
      "metadata": {
        "id": "ZJPprSNN3k-F"
      },
      "source": [
        "### Agora por países"
      ]
    },
    {
      "cell_type": "code",
      "metadata": {
        "id": "myStKNzS3pAk"
      },
      "source": [
        "#sns.countplot(y='main_country',data=df)"
      ],
      "execution_count": 67,
      "outputs": []
    },
    {
      "cell_type": "code",
      "metadata": {
        "colab": {
          "base_uri": "https://localhost:8080/",
          "height": 0
        },
        "id": "gRrUd4AGAAV_",
        "outputId": "ee14e670-6af2-460a-c53d-ff8a0120cec3"
      },
      "source": [
        "df_country_counts = df['main_country'].value_counts(ascending=False).to_frame()\n",
        "df_country_counts = df_country_counts.reset_index()\n",
        "df_country_counts.columns = ['unique_values', 'counts for main_country']\n",
        "df_top_ten = df_country_counts[:10]\n",
        "df_top_ten"
      ],
      "execution_count": 68,
      "outputs": [
        {
          "output_type": "execute_result",
          "data": {
            "text/html": [
              "<div>\n",
              "<style scoped>\n",
              "    .dataframe tbody tr th:only-of-type {\n",
              "        vertical-align: middle;\n",
              "    }\n",
              "\n",
              "    .dataframe tbody tr th {\n",
              "        vertical-align: top;\n",
              "    }\n",
              "\n",
              "    .dataframe thead th {\n",
              "        text-align: right;\n",
              "    }\n",
              "</style>\n",
              "<table border=\"1\" class=\"dataframe\">\n",
              "  <thead>\n",
              "    <tr style=\"text-align: right;\">\n",
              "      <th></th>\n",
              "      <th>unique_values</th>\n",
              "      <th>counts for main_country</th>\n",
              "    </tr>\n",
              "  </thead>\n",
              "  <tbody>\n",
              "    <tr>\n",
              "      <th>0</th>\n",
              "      <td>United States</td>\n",
              "      <td>3390</td>\n",
              "    </tr>\n",
              "    <tr>\n",
              "      <th>1</th>\n",
              "      <td>India</td>\n",
              "      <td>956</td>\n",
              "    </tr>\n",
              "    <tr>\n",
              "      <th>2</th>\n",
              "      <td>United Kingdom</td>\n",
              "      <td>577</td>\n",
              "    </tr>\n",
              "    <tr>\n",
              "      <th>3</th>\n",
              "      <td>Canada</td>\n",
              "      <td>259</td>\n",
              "    </tr>\n",
              "    <tr>\n",
              "      <th>4</th>\n",
              "      <td>Japan</td>\n",
              "      <td>237</td>\n",
              "    </tr>\n",
              "    <tr>\n",
              "      <th>5</th>\n",
              "      <td>France</td>\n",
              "      <td>196</td>\n",
              "    </tr>\n",
              "    <tr>\n",
              "      <th>6</th>\n",
              "      <td>South Korea</td>\n",
              "      <td>194</td>\n",
              "    </tr>\n",
              "    <tr>\n",
              "      <th>7</th>\n",
              "      <td>Spain</td>\n",
              "      <td>168</td>\n",
              "    </tr>\n",
              "    <tr>\n",
              "      <th>8</th>\n",
              "      <td>Mexico</td>\n",
              "      <td>123</td>\n",
              "    </tr>\n",
              "    <tr>\n",
              "      <th>9</th>\n",
              "      <td>Australia</td>\n",
              "      <td>108</td>\n",
              "    </tr>\n",
              "  </tbody>\n",
              "</table>\n",
              "</div>"
            ],
            "text/plain": [
              "    unique_values  counts for main_country\n",
              "0   United States                     3390\n",
              "1           India                      956\n",
              "2  United Kingdom                      577\n",
              "3          Canada                      259\n",
              "4           Japan                      237\n",
              "5          France                      196\n",
              "6     South Korea                      194\n",
              "7           Spain                      168\n",
              "8          Mexico                      123\n",
              "9       Australia                      108"
            ]
          },
          "metadata": {
            "tags": []
          },
          "execution_count": 68
        }
      ]
    },
    {
      "cell_type": "markdown",
      "metadata": {
        "id": "SzeQroHexqHI"
      },
      "source": [
        "# Carregando dois novos datasets de [IMDB](https://www.imdb.com/interfaces/). Um contendo os títulos de filmes e séries e outro contendo avaliações dadas por espectadores"
      ]
    },
    {
      "cell_type": "code",
      "metadata": {
        "id": "nFgyJNMxzFvn"
      },
      "source": [
        "dfTitles = pd.read_csv(\"data.tsv\", sep='\\t')\n",
        "dfNotas = pd.read_csv(\"notas.tsv\", sep='\\t')"
      ],
      "execution_count": 69,
      "outputs": []
    },
    {
      "cell_type": "code",
      "metadata": {
        "colab": {
          "base_uri": "https://localhost:8080/",
          "height": 0
        },
        "id": "i_dWFWZkza0u",
        "outputId": "313f1ad8-3465-415c-c5b4-e632ed2b432c"
      },
      "source": [
        "dfTitles.head()"
      ],
      "execution_count": 70,
      "outputs": [
        {
          "output_type": "execute_result",
          "data": {
            "text/html": [
              "<div>\n",
              "<style scoped>\n",
              "    .dataframe tbody tr th:only-of-type {\n",
              "        vertical-align: middle;\n",
              "    }\n",
              "\n",
              "    .dataframe tbody tr th {\n",
              "        vertical-align: top;\n",
              "    }\n",
              "\n",
              "    .dataframe thead th {\n",
              "        text-align: right;\n",
              "    }\n",
              "</style>\n",
              "<table border=\"1\" class=\"dataframe\">\n",
              "  <thead>\n",
              "    <tr style=\"text-align: right;\">\n",
              "      <th></th>\n",
              "      <th>tconst</th>\n",
              "      <th>titleType</th>\n",
              "      <th>primaryTitle</th>\n",
              "      <th>originalTitle</th>\n",
              "      <th>isAdult</th>\n",
              "      <th>startYear</th>\n",
              "      <th>endYear</th>\n",
              "      <th>runtimeMinutes</th>\n",
              "      <th>genres</th>\n",
              "    </tr>\n",
              "  </thead>\n",
              "  <tbody>\n",
              "    <tr>\n",
              "      <th>0</th>\n",
              "      <td>tt0000001</td>\n",
              "      <td>short</td>\n",
              "      <td>Carmencita</td>\n",
              "      <td>Carmencita</td>\n",
              "      <td>0</td>\n",
              "      <td>1894</td>\n",
              "      <td>\\N</td>\n",
              "      <td>1</td>\n",
              "      <td>Documentary,Short</td>\n",
              "    </tr>\n",
              "    <tr>\n",
              "      <th>1</th>\n",
              "      <td>tt0000002</td>\n",
              "      <td>short</td>\n",
              "      <td>Le clown et ses chiens</td>\n",
              "      <td>Le clown et ses chiens</td>\n",
              "      <td>0</td>\n",
              "      <td>1892</td>\n",
              "      <td>\\N</td>\n",
              "      <td>5</td>\n",
              "      <td>Animation,Short</td>\n",
              "    </tr>\n",
              "    <tr>\n",
              "      <th>2</th>\n",
              "      <td>tt0000003</td>\n",
              "      <td>short</td>\n",
              "      <td>Pauvre Pierrot</td>\n",
              "      <td>Pauvre Pierrot</td>\n",
              "      <td>0</td>\n",
              "      <td>1892</td>\n",
              "      <td>\\N</td>\n",
              "      <td>4</td>\n",
              "      <td>Animation,Comedy,Romance</td>\n",
              "    </tr>\n",
              "    <tr>\n",
              "      <th>3</th>\n",
              "      <td>tt0000004</td>\n",
              "      <td>short</td>\n",
              "      <td>Un bon bock</td>\n",
              "      <td>Un bon bock</td>\n",
              "      <td>0</td>\n",
              "      <td>1892</td>\n",
              "      <td>\\N</td>\n",
              "      <td>12</td>\n",
              "      <td>Animation,Short</td>\n",
              "    </tr>\n",
              "    <tr>\n",
              "      <th>4</th>\n",
              "      <td>tt0000005</td>\n",
              "      <td>short</td>\n",
              "      <td>Blacksmith Scene</td>\n",
              "      <td>Blacksmith Scene</td>\n",
              "      <td>0</td>\n",
              "      <td>1893</td>\n",
              "      <td>\\N</td>\n",
              "      <td>1</td>\n",
              "      <td>Comedy,Short</td>\n",
              "    </tr>\n",
              "  </tbody>\n",
              "</table>\n",
              "</div>"
            ],
            "text/plain": [
              "      tconst titleType  ... runtimeMinutes                    genres\n",
              "0  tt0000001     short  ...              1         Documentary,Short\n",
              "1  tt0000002     short  ...              5           Animation,Short\n",
              "2  tt0000003     short  ...              4  Animation,Comedy,Romance\n",
              "3  tt0000004     short  ...             12           Animation,Short\n",
              "4  tt0000005     short  ...              1              Comedy,Short\n",
              "\n",
              "[5 rows x 9 columns]"
            ]
          },
          "metadata": {
            "tags": []
          },
          "execution_count": 70
        }
      ]
    },
    {
      "cell_type": "code",
      "metadata": {
        "colab": {
          "base_uri": "https://localhost:8080/",
          "height": 0
        },
        "id": "bAs8yqUoICKZ",
        "outputId": "eaab94ad-e480-46bd-fd0f-be0b1069d330"
      },
      "source": [
        "dfTitles.tail(10)"
      ],
      "execution_count": 71,
      "outputs": [
        {
          "output_type": "execute_result",
          "data": {
            "text/html": [
              "<div>\n",
              "<style scoped>\n",
              "    .dataframe tbody tr th:only-of-type {\n",
              "        vertical-align: middle;\n",
              "    }\n",
              "\n",
              "    .dataframe tbody tr th {\n",
              "        vertical-align: top;\n",
              "    }\n",
              "\n",
              "    .dataframe thead th {\n",
              "        text-align: right;\n",
              "    }\n",
              "</style>\n",
              "<table border=\"1\" class=\"dataframe\">\n",
              "  <thead>\n",
              "    <tr style=\"text-align: right;\">\n",
              "      <th></th>\n",
              "      <th>tconst</th>\n",
              "      <th>titleType</th>\n",
              "      <th>primaryTitle</th>\n",
              "      <th>originalTitle</th>\n",
              "      <th>isAdult</th>\n",
              "      <th>startYear</th>\n",
              "      <th>endYear</th>\n",
              "      <th>runtimeMinutes</th>\n",
              "      <th>genres</th>\n",
              "    </tr>\n",
              "  </thead>\n",
              "  <tbody>\n",
              "    <tr>\n",
              "      <th>8084304</th>\n",
              "      <td>tt9916838</td>\n",
              "      <td>tvEpisode</td>\n",
              "      <td>Episode #3.13</td>\n",
              "      <td>Episode #3.13</td>\n",
              "      <td>0</td>\n",
              "      <td>2010</td>\n",
              "      <td>\\N</td>\n",
              "      <td>\\N</td>\n",
              "      <td>Action,Drama,Family</td>\n",
              "    </tr>\n",
              "    <tr>\n",
              "      <th>8084305</th>\n",
              "      <td>tt9916840</td>\n",
              "      <td>tvEpisode</td>\n",
              "      <td>Horrid Henry's Comic Caper</td>\n",
              "      <td>Horrid Henry's Comic Caper</td>\n",
              "      <td>0</td>\n",
              "      <td>2014</td>\n",
              "      <td>\\N</td>\n",
              "      <td>11</td>\n",
              "      <td>Animation,Comedy,Family</td>\n",
              "    </tr>\n",
              "    <tr>\n",
              "      <th>8084306</th>\n",
              "      <td>tt9916842</td>\n",
              "      <td>tvEpisode</td>\n",
              "      <td>Episode #3.16</td>\n",
              "      <td>Episode #3.16</td>\n",
              "      <td>0</td>\n",
              "      <td>2010</td>\n",
              "      <td>\\N</td>\n",
              "      <td>\\N</td>\n",
              "      <td>Action,Drama,Family</td>\n",
              "    </tr>\n",
              "    <tr>\n",
              "      <th>8084307</th>\n",
              "      <td>tt9916844</td>\n",
              "      <td>tvEpisode</td>\n",
              "      <td>Episode #3.15</td>\n",
              "      <td>Episode #3.15</td>\n",
              "      <td>0</td>\n",
              "      <td>2010</td>\n",
              "      <td>\\N</td>\n",
              "      <td>\\N</td>\n",
              "      <td>Action,Drama,Family</td>\n",
              "    </tr>\n",
              "    <tr>\n",
              "      <th>8084308</th>\n",
              "      <td>tt9916846</td>\n",
              "      <td>tvEpisode</td>\n",
              "      <td>Episode #3.18</td>\n",
              "      <td>Episode #3.18</td>\n",
              "      <td>0</td>\n",
              "      <td>2010</td>\n",
              "      <td>\\N</td>\n",
              "      <td>\\N</td>\n",
              "      <td>Action,Drama,Family</td>\n",
              "    </tr>\n",
              "    <tr>\n",
              "      <th>8084309</th>\n",
              "      <td>tt9916848</td>\n",
              "      <td>tvEpisode</td>\n",
              "      <td>Episode #3.17</td>\n",
              "      <td>Episode #3.17</td>\n",
              "      <td>0</td>\n",
              "      <td>2010</td>\n",
              "      <td>\\N</td>\n",
              "      <td>\\N</td>\n",
              "      <td>Action,Drama,Family</td>\n",
              "    </tr>\n",
              "    <tr>\n",
              "      <th>8084310</th>\n",
              "      <td>tt9916850</td>\n",
              "      <td>tvEpisode</td>\n",
              "      <td>Episode #3.19</td>\n",
              "      <td>Episode #3.19</td>\n",
              "      <td>0</td>\n",
              "      <td>2010</td>\n",
              "      <td>\\N</td>\n",
              "      <td>\\N</td>\n",
              "      <td>Action,Drama,Family</td>\n",
              "    </tr>\n",
              "    <tr>\n",
              "      <th>8084311</th>\n",
              "      <td>tt9916852</td>\n",
              "      <td>tvEpisode</td>\n",
              "      <td>Episode #3.20</td>\n",
              "      <td>Episode #3.20</td>\n",
              "      <td>0</td>\n",
              "      <td>2010</td>\n",
              "      <td>\\N</td>\n",
              "      <td>\\N</td>\n",
              "      <td>Action,Drama,Family</td>\n",
              "    </tr>\n",
              "    <tr>\n",
              "      <th>8084312</th>\n",
              "      <td>tt9916856</td>\n",
              "      <td>short</td>\n",
              "      <td>The Wind</td>\n",
              "      <td>The Wind</td>\n",
              "      <td>0</td>\n",
              "      <td>2015</td>\n",
              "      <td>\\N</td>\n",
              "      <td>27</td>\n",
              "      <td>Short</td>\n",
              "    </tr>\n",
              "    <tr>\n",
              "      <th>8084313</th>\n",
              "      <td>tt9916880</td>\n",
              "      <td>tvEpisode</td>\n",
              "      <td>Horrid Henry Knows It All</td>\n",
              "      <td>Horrid Henry Knows It All</td>\n",
              "      <td>0</td>\n",
              "      <td>2014</td>\n",
              "      <td>\\N</td>\n",
              "      <td>10</td>\n",
              "      <td>Animation,Comedy,Family</td>\n",
              "    </tr>\n",
              "  </tbody>\n",
              "</table>\n",
              "</div>"
            ],
            "text/plain": [
              "            tconst  titleType  ... runtimeMinutes                   genres\n",
              "8084304  tt9916838  tvEpisode  ...             \\N      Action,Drama,Family\n",
              "8084305  tt9916840  tvEpisode  ...             11  Animation,Comedy,Family\n",
              "8084306  tt9916842  tvEpisode  ...             \\N      Action,Drama,Family\n",
              "8084307  tt9916844  tvEpisode  ...             \\N      Action,Drama,Family\n",
              "8084308  tt9916846  tvEpisode  ...             \\N      Action,Drama,Family\n",
              "8084309  tt9916848  tvEpisode  ...             \\N      Action,Drama,Family\n",
              "8084310  tt9916850  tvEpisode  ...             \\N      Action,Drama,Family\n",
              "8084311  tt9916852  tvEpisode  ...             \\N      Action,Drama,Family\n",
              "8084312  tt9916856      short  ...             27                    Short\n",
              "8084313  tt9916880  tvEpisode  ...             10  Animation,Comedy,Family\n",
              "\n",
              "[10 rows x 9 columns]"
            ]
          },
          "metadata": {
            "tags": []
          },
          "execution_count": 71
        }
      ]
    },
    {
      "cell_type": "code",
      "metadata": {
        "colab": {
          "base_uri": "https://localhost:8080/",
          "height": 0
        },
        "id": "1KdY2XJozsPu",
        "outputId": "8364af33-c343-4177-82ad-09d4041e5467"
      },
      "source": [
        "dfNotas.head()"
      ],
      "execution_count": 72,
      "outputs": [
        {
          "output_type": "execute_result",
          "data": {
            "text/html": [
              "<div>\n",
              "<style scoped>\n",
              "    .dataframe tbody tr th:only-of-type {\n",
              "        vertical-align: middle;\n",
              "    }\n",
              "\n",
              "    .dataframe tbody tr th {\n",
              "        vertical-align: top;\n",
              "    }\n",
              "\n",
              "    .dataframe thead th {\n",
              "        text-align: right;\n",
              "    }\n",
              "</style>\n",
              "<table border=\"1\" class=\"dataframe\">\n",
              "  <thead>\n",
              "    <tr style=\"text-align: right;\">\n",
              "      <th></th>\n",
              "      <th>tconst</th>\n",
              "      <th>averageRating</th>\n",
              "      <th>numVotes</th>\n",
              "    </tr>\n",
              "  </thead>\n",
              "  <tbody>\n",
              "    <tr>\n",
              "      <th>0</th>\n",
              "      <td>tt0000001</td>\n",
              "      <td>5.7</td>\n",
              "      <td>1722</td>\n",
              "    </tr>\n",
              "    <tr>\n",
              "      <th>1</th>\n",
              "      <td>tt0000002</td>\n",
              "      <td>6.0</td>\n",
              "      <td>211</td>\n",
              "    </tr>\n",
              "    <tr>\n",
              "      <th>2</th>\n",
              "      <td>tt0000003</td>\n",
              "      <td>6.5</td>\n",
              "      <td>1484</td>\n",
              "    </tr>\n",
              "    <tr>\n",
              "      <th>3</th>\n",
              "      <td>tt0000004</td>\n",
              "      <td>6.1</td>\n",
              "      <td>124</td>\n",
              "    </tr>\n",
              "    <tr>\n",
              "      <th>4</th>\n",
              "      <td>tt0000005</td>\n",
              "      <td>6.2</td>\n",
              "      <td>2286</td>\n",
              "    </tr>\n",
              "  </tbody>\n",
              "</table>\n",
              "</div>"
            ],
            "text/plain": [
              "      tconst  averageRating  numVotes\n",
              "0  tt0000001            5.7      1722\n",
              "1  tt0000002            6.0       211\n",
              "2  tt0000003            6.5      1484\n",
              "3  tt0000004            6.1       124\n",
              "4  tt0000005            6.2      2286"
            ]
          },
          "metadata": {
            "tags": []
          },
          "execution_count": 72
        }
      ]
    },
    {
      "cell_type": "code",
      "metadata": {
        "colab": {
          "base_uri": "https://localhost:8080/",
          "height": 0
        },
        "id": "6R1AwB6zH7pN",
        "outputId": "e0c9548f-38bb-458e-ccb1-d67cbb94dded"
      },
      "source": [
        "dfNotas.tail(10)"
      ],
      "execution_count": 73,
      "outputs": [
        {
          "output_type": "execute_result",
          "data": {
            "text/html": [
              "<div>\n",
              "<style scoped>\n",
              "    .dataframe tbody tr th:only-of-type {\n",
              "        vertical-align: middle;\n",
              "    }\n",
              "\n",
              "    .dataframe tbody tr th {\n",
              "        vertical-align: top;\n",
              "    }\n",
              "\n",
              "    .dataframe thead th {\n",
              "        text-align: right;\n",
              "    }\n",
              "</style>\n",
              "<table border=\"1\" class=\"dataframe\">\n",
              "  <thead>\n",
              "    <tr style=\"text-align: right;\">\n",
              "      <th></th>\n",
              "      <th>tconst</th>\n",
              "      <th>averageRating</th>\n",
              "      <th>numVotes</th>\n",
              "    </tr>\n",
              "  </thead>\n",
              "  <tbody>\n",
              "    <tr>\n",
              "      <th>1171910</th>\n",
              "      <td>tt9916544</td>\n",
              "      <td>7.1</td>\n",
              "      <td>40</td>\n",
              "    </tr>\n",
              "    <tr>\n",
              "      <th>1171911</th>\n",
              "      <td>tt9916576</td>\n",
              "      <td>5.9</td>\n",
              "      <td>13</td>\n",
              "    </tr>\n",
              "    <tr>\n",
              "      <th>1171912</th>\n",
              "      <td>tt9916578</td>\n",
              "      <td>8.0</td>\n",
              "      <td>26</td>\n",
              "    </tr>\n",
              "    <tr>\n",
              "      <th>1171913</th>\n",
              "      <td>tt9916580</td>\n",
              "      <td>7.7</td>\n",
              "      <td>6</td>\n",
              "    </tr>\n",
              "    <tr>\n",
              "      <th>1171914</th>\n",
              "      <td>tt9916628</td>\n",
              "      <td>8.6</td>\n",
              "      <td>5</td>\n",
              "    </tr>\n",
              "    <tr>\n",
              "      <th>1171915</th>\n",
              "      <td>tt9916682</td>\n",
              "      <td>5.6</td>\n",
              "      <td>5</td>\n",
              "    </tr>\n",
              "    <tr>\n",
              "      <th>1171916</th>\n",
              "      <td>tt9916690</td>\n",
              "      <td>6.6</td>\n",
              "      <td>5</td>\n",
              "    </tr>\n",
              "    <tr>\n",
              "      <th>1171917</th>\n",
              "      <td>tt9916720</td>\n",
              "      <td>5.5</td>\n",
              "      <td>110</td>\n",
              "    </tr>\n",
              "    <tr>\n",
              "      <th>1171918</th>\n",
              "      <td>tt9916766</td>\n",
              "      <td>6.9</td>\n",
              "      <td>18</td>\n",
              "    </tr>\n",
              "    <tr>\n",
              "      <th>1171919</th>\n",
              "      <td>tt9916778</td>\n",
              "      <td>7.5</td>\n",
              "      <td>30</td>\n",
              "    </tr>\n",
              "  </tbody>\n",
              "</table>\n",
              "</div>"
            ],
            "text/plain": [
              "            tconst  averageRating  numVotes\n",
              "1171910  tt9916544            7.1        40\n",
              "1171911  tt9916576            5.9        13\n",
              "1171912  tt9916578            8.0        26\n",
              "1171913  tt9916580            7.7         6\n",
              "1171914  tt9916628            8.6         5\n",
              "1171915  tt9916682            5.6         5\n",
              "1171916  tt9916690            6.6         5\n",
              "1171917  tt9916720            5.5       110\n",
              "1171918  tt9916766            6.9        18\n",
              "1171919  tt9916778            7.5        30"
            ]
          },
          "metadata": {
            "tags": []
          },
          "execution_count": 73
        }
      ]
    },
    {
      "cell_type": "code",
      "metadata": {
        "colab": {
          "base_uri": "https://localhost:8080/"
        },
        "id": "Y8bv2Atg1YO-",
        "outputId": "48150d79-4995-4216-c1b8-25964f7023e9"
      },
      "source": [
        "dfTitles.shape"
      ],
      "execution_count": 74,
      "outputs": [
        {
          "output_type": "execute_result",
          "data": {
            "text/plain": [
              "(8084314, 9)"
            ]
          },
          "metadata": {
            "tags": []
          },
          "execution_count": 74
        }
      ]
    },
    {
      "cell_type": "code",
      "metadata": {
        "colab": {
          "base_uri": "https://localhost:8080/"
        },
        "id": "j_eLemf61ccD",
        "outputId": "660fb9d7-5f64-4893-fa72-64b2fdb96e3d"
      },
      "source": [
        "dfNotas.shape"
      ],
      "execution_count": 75,
      "outputs": [
        {
          "output_type": "execute_result",
          "data": {
            "text/plain": [
              "(1171920, 3)"
            ]
          },
          "metadata": {
            "tags": []
          },
          "execution_count": 75
        }
      ]
    },
    {
      "cell_type": "markdown",
      "metadata": {
        "id": "YBcV6qhgIc0T"
      },
      "source": [
        "Podemos ver que nossos dados não são iguais, então teremos que comparar *tconst* antes de unir os datasets"
      ]
    },
    {
      "cell_type": "markdown",
      "metadata": {
        "id": "hLUGLFe-GG9Q"
      },
      "source": [
        "#Unindo 3 datasets"
      ]
    },
    {
      "cell_type": "markdown",
      "metadata": {
        "id": "Py_qF7yNKS1P"
      },
      "source": [
        "## Unindo primeiramente os datasets de notas e títulos já que ambos estão separados através do inner join que resulta no dataset df_inner apenas com a interseção de tconst de dfNotas e dfTitles"
      ]
    },
    {
      "cell_type": "code",
      "metadata": {
        "colab": {
          "base_uri": "https://localhost:8080/",
          "height": 0
        },
        "id": "sXZnUF7iGNCM",
        "outputId": "136d373e-0f37-48f8-c5ec-0a4d5f449b1f"
      },
      "source": [
        "df_inner = pd.merge(dfNotas, dfTitles, on='tconst', how='inner')\n",
        "\n",
        "df_inner"
      ],
      "execution_count": 76,
      "outputs": [
        {
          "output_type": "execute_result",
          "data": {
            "text/html": [
              "<div>\n",
              "<style scoped>\n",
              "    .dataframe tbody tr th:only-of-type {\n",
              "        vertical-align: middle;\n",
              "    }\n",
              "\n",
              "    .dataframe tbody tr th {\n",
              "        vertical-align: top;\n",
              "    }\n",
              "\n",
              "    .dataframe thead th {\n",
              "        text-align: right;\n",
              "    }\n",
              "</style>\n",
              "<table border=\"1\" class=\"dataframe\">\n",
              "  <thead>\n",
              "    <tr style=\"text-align: right;\">\n",
              "      <th></th>\n",
              "      <th>tconst</th>\n",
              "      <th>averageRating</th>\n",
              "      <th>numVotes</th>\n",
              "      <th>titleType</th>\n",
              "      <th>primaryTitle</th>\n",
              "      <th>originalTitle</th>\n",
              "      <th>isAdult</th>\n",
              "      <th>startYear</th>\n",
              "      <th>endYear</th>\n",
              "      <th>runtimeMinutes</th>\n",
              "      <th>genres</th>\n",
              "    </tr>\n",
              "  </thead>\n",
              "  <tbody>\n",
              "    <tr>\n",
              "      <th>0</th>\n",
              "      <td>tt0000001</td>\n",
              "      <td>5.7</td>\n",
              "      <td>1722</td>\n",
              "      <td>short</td>\n",
              "      <td>Carmencita</td>\n",
              "      <td>Carmencita</td>\n",
              "      <td>0</td>\n",
              "      <td>1894</td>\n",
              "      <td>\\N</td>\n",
              "      <td>1</td>\n",
              "      <td>Documentary,Short</td>\n",
              "    </tr>\n",
              "    <tr>\n",
              "      <th>1</th>\n",
              "      <td>tt0000002</td>\n",
              "      <td>6.0</td>\n",
              "      <td>211</td>\n",
              "      <td>short</td>\n",
              "      <td>Le clown et ses chiens</td>\n",
              "      <td>Le clown et ses chiens</td>\n",
              "      <td>0</td>\n",
              "      <td>1892</td>\n",
              "      <td>\\N</td>\n",
              "      <td>5</td>\n",
              "      <td>Animation,Short</td>\n",
              "    </tr>\n",
              "    <tr>\n",
              "      <th>2</th>\n",
              "      <td>tt0000003</td>\n",
              "      <td>6.5</td>\n",
              "      <td>1484</td>\n",
              "      <td>short</td>\n",
              "      <td>Pauvre Pierrot</td>\n",
              "      <td>Pauvre Pierrot</td>\n",
              "      <td>0</td>\n",
              "      <td>1892</td>\n",
              "      <td>\\N</td>\n",
              "      <td>4</td>\n",
              "      <td>Animation,Comedy,Romance</td>\n",
              "    </tr>\n",
              "    <tr>\n",
              "      <th>3</th>\n",
              "      <td>tt0000004</td>\n",
              "      <td>6.1</td>\n",
              "      <td>124</td>\n",
              "      <td>short</td>\n",
              "      <td>Un bon bock</td>\n",
              "      <td>Un bon bock</td>\n",
              "      <td>0</td>\n",
              "      <td>1892</td>\n",
              "      <td>\\N</td>\n",
              "      <td>12</td>\n",
              "      <td>Animation,Short</td>\n",
              "    </tr>\n",
              "    <tr>\n",
              "      <th>4</th>\n",
              "      <td>tt0000005</td>\n",
              "      <td>6.2</td>\n",
              "      <td>2286</td>\n",
              "      <td>short</td>\n",
              "      <td>Blacksmith Scene</td>\n",
              "      <td>Blacksmith Scene</td>\n",
              "      <td>0</td>\n",
              "      <td>1893</td>\n",
              "      <td>\\N</td>\n",
              "      <td>1</td>\n",
              "      <td>Comedy,Short</td>\n",
              "    </tr>\n",
              "    <tr>\n",
              "      <th>...</th>\n",
              "      <td>...</td>\n",
              "      <td>...</td>\n",
              "      <td>...</td>\n",
              "      <td>...</td>\n",
              "      <td>...</td>\n",
              "      <td>...</td>\n",
              "      <td>...</td>\n",
              "      <td>...</td>\n",
              "      <td>...</td>\n",
              "      <td>...</td>\n",
              "      <td>...</td>\n",
              "    </tr>\n",
              "    <tr>\n",
              "      <th>1171915</th>\n",
              "      <td>tt9916682</td>\n",
              "      <td>5.6</td>\n",
              "      <td>5</td>\n",
              "      <td>tvEpisode</td>\n",
              "      <td>Horrid Henry It's all Your Fault</td>\n",
              "      <td>Horrid Henry It's all Your Fault</td>\n",
              "      <td>0</td>\n",
              "      <td>2012</td>\n",
              "      <td>\\N</td>\n",
              "      <td>10</td>\n",
              "      <td>Animation,Comedy,Family</td>\n",
              "    </tr>\n",
              "    <tr>\n",
              "      <th>1171916</th>\n",
              "      <td>tt9916690</td>\n",
              "      <td>6.6</td>\n",
              "      <td>5</td>\n",
              "      <td>tvEpisode</td>\n",
              "      <td>Horrid Henry Delivers the Milk</td>\n",
              "      <td>Horrid Henry Delivers the Milk</td>\n",
              "      <td>0</td>\n",
              "      <td>2012</td>\n",
              "      <td>\\N</td>\n",
              "      <td>10</td>\n",
              "      <td>Animation,Comedy,Family</td>\n",
              "    </tr>\n",
              "    <tr>\n",
              "      <th>1171917</th>\n",
              "      <td>tt9916720</td>\n",
              "      <td>5.5</td>\n",
              "      <td>110</td>\n",
              "      <td>short</td>\n",
              "      <td>The Nun 2</td>\n",
              "      <td>The Nun 2</td>\n",
              "      <td>0</td>\n",
              "      <td>2019</td>\n",
              "      <td>\\N</td>\n",
              "      <td>10</td>\n",
              "      <td>Comedy,Horror,Mystery</td>\n",
              "    </tr>\n",
              "    <tr>\n",
              "      <th>1171918</th>\n",
              "      <td>tt9916766</td>\n",
              "      <td>6.9</td>\n",
              "      <td>18</td>\n",
              "      <td>tvEpisode</td>\n",
              "      <td>Episode #10.15</td>\n",
              "      <td>Episode #10.15</td>\n",
              "      <td>0</td>\n",
              "      <td>2019</td>\n",
              "      <td>\\N</td>\n",
              "      <td>43</td>\n",
              "      <td>Family,Reality-TV</td>\n",
              "    </tr>\n",
              "    <tr>\n",
              "      <th>1171919</th>\n",
              "      <td>tt9916778</td>\n",
              "      <td>7.5</td>\n",
              "      <td>30</td>\n",
              "      <td>tvEpisode</td>\n",
              "      <td>Escape</td>\n",
              "      <td>Escape</td>\n",
              "      <td>0</td>\n",
              "      <td>2019</td>\n",
              "      <td>\\N</td>\n",
              "      <td>\\N</td>\n",
              "      <td>Crime,Drama,Mystery</td>\n",
              "    </tr>\n",
              "  </tbody>\n",
              "</table>\n",
              "<p>1171920 rows × 11 columns</p>\n",
              "</div>"
            ],
            "text/plain": [
              "            tconst  averageRating  ...  runtimeMinutes                    genres\n",
              "0        tt0000001            5.7  ...               1         Documentary,Short\n",
              "1        tt0000002            6.0  ...               5           Animation,Short\n",
              "2        tt0000003            6.5  ...               4  Animation,Comedy,Romance\n",
              "3        tt0000004            6.1  ...              12           Animation,Short\n",
              "4        tt0000005            6.2  ...               1              Comedy,Short\n",
              "...            ...            ...  ...             ...                       ...\n",
              "1171915  tt9916682            5.6  ...              10   Animation,Comedy,Family\n",
              "1171916  tt9916690            6.6  ...              10   Animation,Comedy,Family\n",
              "1171917  tt9916720            5.5  ...              10     Comedy,Horror,Mystery\n",
              "1171918  tt9916766            6.9  ...              43         Family,Reality-TV\n",
              "1171919  tt9916778            7.5  ...              \\N       Crime,Drama,Mystery\n",
              "\n",
              "[1171920 rows x 11 columns]"
            ]
          },
          "metadata": {
            "tags": []
          },
          "execution_count": 76
        }
      ]
    },
    {
      "cell_type": "markdown",
      "metadata": {
        "id": "Y6xK2ZpPVXQU"
      },
      "source": [
        "## Agora iremos fazer a mesma coisa para df_inner com os atributos *'averageRating'*, *'numVotes'* e *'primaryTitle'* com o nosso dataset original que teve realizado seu pre-processamento gerando juntaTD"
      ]
    },
    {
      "cell_type": "code",
      "metadata": {
        "id": "JHzeBwf5GLFa"
      },
      "source": [
        "juntaTD = pd.merge(df_inner.loc[:,['averageRating', 'numVotes','primaryTitle']], df, left_on='primaryTitle', right_on='title', how='inner')"
      ],
      "execution_count": 77,
      "outputs": []
    },
    {
      "cell_type": "markdown",
      "metadata": {
        "id": "je-onc6GWZmt"
      },
      "source": [
        "Analisando a forma do dataset gerado"
      ]
    },
    {
      "cell_type": "code",
      "metadata": {
        "colab": {
          "base_uri": "https://localhost:8080/"
        },
        "id": "OPeIonyXIjIT",
        "outputId": "761c437a-d502-4d50-bbe5-0941cd6e4157"
      },
      "source": [
        "juntaTD.shape"
      ],
      "execution_count": 78,
      "outputs": [
        {
          "output_type": "execute_result",
          "data": {
            "text/plain": [
              "(23032, 17)"
            ]
          },
          "metadata": {
            "tags": []
          },
          "execution_count": 78
        }
      ]
    },
    {
      "cell_type": "markdown",
      "metadata": {
        "id": "kfTzjIMAWiYw"
      },
      "source": [
        "### Vamos remover as duplicatas utilizando o atributo título como verificador "
      ]
    },
    {
      "cell_type": "code",
      "metadata": {
        "colab": {
          "base_uri": "https://localhost:8080/",
          "height": 1000
        },
        "id": "7k8R5_7DJMCl",
        "outputId": "05af8fa2-1668-4aff-8d9f-f99d6976ad0c"
      },
      "source": [
        "juntaTD.drop_duplicates(subset =['primaryTitle'], keep = False, inplace = True)\n",
        "juntaTD.head(10)"
      ],
      "execution_count": 79,
      "outputs": [
        {
          "output_type": "execute_result",
          "data": {
            "text/html": [
              "<div>\n",
              "<style scoped>\n",
              "    .dataframe tbody tr th:only-of-type {\n",
              "        vertical-align: middle;\n",
              "    }\n",
              "\n",
              "    .dataframe tbody tr th {\n",
              "        vertical-align: top;\n",
              "    }\n",
              "\n",
              "    .dataframe thead th {\n",
              "        text-align: right;\n",
              "    }\n",
              "</style>\n",
              "<table border=\"1\" class=\"dataframe\">\n",
              "  <thead>\n",
              "    <tr style=\"text-align: right;\">\n",
              "      <th></th>\n",
              "      <th>averageRating</th>\n",
              "      <th>numVotes</th>\n",
              "      <th>primaryTitle</th>\n",
              "      <th>show_id</th>\n",
              "      <th>type</th>\n",
              "      <th>title</th>\n",
              "      <th>director</th>\n",
              "      <th>cast</th>\n",
              "      <th>country</th>\n",
              "      <th>date_added</th>\n",
              "      <th>release_year</th>\n",
              "      <th>rating</th>\n",
              "      <th>duration</th>\n",
              "      <th>listed_in</th>\n",
              "      <th>description</th>\n",
              "      <th>main_country</th>\n",
              "      <th>year_added</th>\n",
              "    </tr>\n",
              "  </thead>\n",
              "  <tbody>\n",
              "    <tr>\n",
              "      <th>2779</th>\n",
              "      <td>6.4</td>\n",
              "      <td>80210</td>\n",
              "      <td>Kate &amp; Leopold</td>\n",
              "      <td>s3315</td>\n",
              "      <td>Movie</td>\n",
              "      <td>Kate &amp; Leopold</td>\n",
              "      <td>James Mangold</td>\n",
              "      <td>Meg Ryan, Hugh Jackman, Liev Schreiber, Brecki...</td>\n",
              "      <td>United States</td>\n",
              "      <td>2020-01-01</td>\n",
              "      <td>2001</td>\n",
              "      <td>PG-13</td>\n",
              "      <td>118</td>\n",
              "      <td>Comedies, Romantic Movies</td>\n",
              "      <td>A present-day woman takes responsibility for g...</td>\n",
              "      <td>United States</td>\n",
              "      <td>2020</td>\n",
              "    </tr>\n",
              "    <tr>\n",
              "      <th>2822</th>\n",
              "      <td>6.7</td>\n",
              "      <td>2093</td>\n",
              "      <td>San Pietro</td>\n",
              "      <td>s5372</td>\n",
              "      <td>Movie</td>\n",
              "      <td>San Pietro</td>\n",
              "      <td>John Huston</td>\n",
              "      <td>desconhecido</td>\n",
              "      <td>United States</td>\n",
              "      <td>2017-03-31</td>\n",
              "      <td>1945</td>\n",
              "      <td>TV-14</td>\n",
              "      <td>32</td>\n",
              "      <td>Classic Movies, Documentaries</td>\n",
              "      <td>After the Allies invade Italy, the Liri Valley...</td>\n",
              "      <td>United States</td>\n",
              "      <td>2017</td>\n",
              "    </tr>\n",
              "    <tr>\n",
              "      <th>2869</th>\n",
              "      <td>6.7</td>\n",
              "      <td>546</td>\n",
              "      <td>Tunisian Victory</td>\n",
              "      <td>s7269</td>\n",
              "      <td>Movie</td>\n",
              "      <td>Tunisian Victory</td>\n",
              "      <td>Frank Capra, John Huston, Hugh Stewart, Roy Bo...</td>\n",
              "      <td>Burgess Meredith</td>\n",
              "      <td>United States, United Kingdom</td>\n",
              "      <td>2017-03-31</td>\n",
              "      <td>1944</td>\n",
              "      <td>TV-14</td>\n",
              "      <td>76</td>\n",
              "      <td>Classic Movies, Documentaries</td>\n",
              "      <td>British and American troops join forces to lib...</td>\n",
              "      <td>United States</td>\n",
              "      <td>2017</td>\n",
              "    </tr>\n",
              "    <tr>\n",
              "      <th>3629</th>\n",
              "      <td>6.5</td>\n",
              "      <td>1371</td>\n",
              "      <td>The Sign of Venus</td>\n",
              "      <td>s6869</td>\n",
              "      <td>Movie</td>\n",
              "      <td>The Sign of Venus</td>\n",
              "      <td>Dino Risi</td>\n",
              "      <td>Sophia Loren, Franca Valeri, Vittorio De Sica,...</td>\n",
              "      <td>Italy</td>\n",
              "      <td>2020-11-13</td>\n",
              "      <td>1955</td>\n",
              "      <td>TV-14</td>\n",
              "      <td>97</td>\n",
              "      <td>Classic Movies, Comedies, Independent Movies</td>\n",
              "      <td>While suitors swoon over her cousin, a single ...</td>\n",
              "      <td>Italy</td>\n",
              "      <td>2020</td>\n",
              "    </tr>\n",
              "    <tr>\n",
              "      <th>3867</th>\n",
              "      <td>6.4</td>\n",
              "      <td>96</td>\n",
              "      <td>This Is My Love</td>\n",
              "      <td>s7050</td>\n",
              "      <td>TV Show</td>\n",
              "      <td>This Is My Love</td>\n",
              "      <td>desconhecido</td>\n",
              "      <td>Jin-mo Joo, Sa-rang Kim, Junior, Ja-in Lee, Su...</td>\n",
              "      <td>South Korea</td>\n",
              "      <td>2017-05-22</td>\n",
              "      <td>2015</td>\n",
              "      <td>TV-14</td>\n",
              "      <td>1</td>\n",
              "      <td>International TV Shows, Korean TV Shows, Roman...</td>\n",
              "      <td>A renowned actor who is still pining over the ...</td>\n",
              "      <td>South Korea</td>\n",
              "      <td>2017</td>\n",
              "    </tr>\n",
              "    <tr>\n",
              "      <th>3981</th>\n",
              "      <td>6.5</td>\n",
              "      <td>2121</td>\n",
              "      <td>Scandal in Sorrento</td>\n",
              "      <td>s5426</td>\n",
              "      <td>Movie</td>\n",
              "      <td>Scandal in Sorrento</td>\n",
              "      <td>Dino Risi</td>\n",
              "      <td>Vittorio De Sica, Sophia Loren, Lea Padovani, ...</td>\n",
              "      <td>Italy, France</td>\n",
              "      <td>2020-11-13</td>\n",
              "      <td>1955</td>\n",
              "      <td>TV-PG</td>\n",
              "      <td>93</td>\n",
              "      <td>Classic Movies, Comedies, Independent Movies</td>\n",
              "      <td>When a marshal moves back to his hometown, he ...</td>\n",
              "      <td>Italy</td>\n",
              "      <td>2020</td>\n",
              "    </tr>\n",
              "    <tr>\n",
              "      <th>3990</th>\n",
              "      <td>7.6</td>\n",
              "      <td>3807</td>\n",
              "      <td>Cairo Station</td>\n",
              "      <td>s1170</td>\n",
              "      <td>Movie</td>\n",
              "      <td>Cairo Station</td>\n",
              "      <td>Youssef Chahine</td>\n",
              "      <td>Farid Shawqy, Hind Rostom, Youssef Chahine, Ha...</td>\n",
              "      <td>Egypt</td>\n",
              "      <td>2020-06-18</td>\n",
              "      <td>1958</td>\n",
              "      <td>TV-14</td>\n",
              "      <td>73</td>\n",
              "      <td>Classic Movies, Dramas, International Movies</td>\n",
              "      <td>A Cairo newsstand vendor's fantasies morph int...</td>\n",
              "      <td>Egypt</td>\n",
              "      <td>2020</td>\n",
              "    </tr>\n",
              "    <tr>\n",
              "      <th>4166</th>\n",
              "      <td>8.3</td>\n",
              "      <td>12805</td>\n",
              "      <td>The Andy Griffith Show</td>\n",
              "      <td>s6083</td>\n",
              "      <td>TV Show</td>\n",
              "      <td>The Andy Griffith Show</td>\n",
              "      <td>desconhecido</td>\n",
              "      <td>Andy Griffith, Ron Howard, Don Knotts, Frances...</td>\n",
              "      <td>United States</td>\n",
              "      <td>2017-07-01</td>\n",
              "      <td>1967</td>\n",
              "      <td>TV-G</td>\n",
              "      <td>8</td>\n",
              "      <td>Classic &amp; Cult TV, TV Comedies</td>\n",
              "      <td>Homespun humor and easygoing Sheriff Andy Tayl...</td>\n",
              "      <td>United States</td>\n",
              "      <td>2017</td>\n",
              "    </tr>\n",
              "    <tr>\n",
              "      <th>4227</th>\n",
              "      <td>7.4</td>\n",
              "      <td>436</td>\n",
              "      <td>Jis Desh Men Ganga Behti Hai</td>\n",
              "      <td>s3188</td>\n",
              "      <td>Movie</td>\n",
              "      <td>Jis Desh Men Ganga Behti Hai</td>\n",
              "      <td>Radhu Karmakar</td>\n",
              "      <td>Raj Kapoor, Padmini, Pran, Chanchal, Lalita Pa...</td>\n",
              "      <td>United States</td>\n",
              "      <td>2019-12-31</td>\n",
              "      <td>1960</td>\n",
              "      <td>TV-14</td>\n",
              "      <td>181</td>\n",
              "      <td>Action &amp; Adventure, Dramas, International Movies</td>\n",
              "      <td>Falling in with a band of outlaws during a hol...</td>\n",
              "      <td>United States</td>\n",
              "      <td>2019</td>\n",
              "    </tr>\n",
              "    <tr>\n",
              "      <th>4671</th>\n",
              "      <td>7.5</td>\n",
              "      <td>8592</td>\n",
              "      <td>Diary of a Chambermaid</td>\n",
              "      <td>s1750</td>\n",
              "      <td>Movie</td>\n",
              "      <td>Diary of a Chambermaid</td>\n",
              "      <td>Benoît Jacquot</td>\n",
              "      <td>Léa Seydoux, Vincent Lindon, Clotilde Mollet, ...</td>\n",
              "      <td>France, Belgium</td>\n",
              "      <td>2016-12-03</td>\n",
              "      <td>2015</td>\n",
              "      <td>NR</td>\n",
              "      <td>96</td>\n",
              "      <td>Dramas, International Movies</td>\n",
              "      <td>An attractive young woman goes to work as a ch...</td>\n",
              "      <td>France</td>\n",
              "      <td>2016</td>\n",
              "    </tr>\n",
              "  </tbody>\n",
              "</table>\n",
              "</div>"
            ],
            "text/plain": [
              "      averageRating  numVotes  ...   main_country year_added\n",
              "2779            6.4     80210  ...  United States       2020\n",
              "2822            6.7      2093  ...  United States       2017\n",
              "2869            6.7       546  ...  United States       2017\n",
              "3629            6.5      1371  ...          Italy       2020\n",
              "3867            6.4        96  ...    South Korea       2017\n",
              "3981            6.5      2121  ...          Italy       2020\n",
              "3990            7.6      3807  ...          Egypt       2020\n",
              "4166            8.3     12805  ...  United States       2017\n",
              "4227            7.4       436  ...  United States       2019\n",
              "4671            7.5      8592  ...         France       2016\n",
              "\n",
              "[10 rows x 17 columns]"
            ]
          },
          "metadata": {
            "tags": []
          },
          "execution_count": 79
        }
      ]
    },
    {
      "cell_type": "markdown",
      "metadata": {
        "id": "ON22rXdfkx2N"
      },
      "source": [
        "Analisando se tem algum valor ausente"
      ]
    },
    {
      "cell_type": "code",
      "metadata": {
        "id": "fp1ciYRilZLl",
        "colab": {
          "base_uri": "https://localhost:8080/"
        },
        "outputId": "e7e75e46-09ed-4e80-9f10-513a8171da42"
      },
      "source": [
        "juntaTD.isnull().sum()/(len(df))*100"
      ],
      "execution_count": 80,
      "outputs": [
        {
          "output_type": "execute_result",
          "data": {
            "text/plain": [
              "averageRating    0.0\n",
              "numVotes         0.0\n",
              "primaryTitle     0.0\n",
              "show_id          0.0\n",
              "type             0.0\n",
              "title            0.0\n",
              "director         0.0\n",
              "cast             0.0\n",
              "country          0.0\n",
              "date_added       0.0\n",
              "release_year     0.0\n",
              "rating           0.0\n",
              "duration         0.0\n",
              "listed_in        0.0\n",
              "description      0.0\n",
              "main_country     0.0\n",
              "year_added       0.0\n",
              "dtype: float64"
            ]
          },
          "metadata": {
            "tags": []
          },
          "execution_count": 80
        }
      ]
    },
    {
      "cell_type": "code",
      "metadata": {
        "colab": {
          "base_uri": "https://localhost:8080/"
        },
        "id": "WC1WjuZ7MTuV",
        "outputId": "e1bcf29b-f734-41db-afa5-2b295442590d"
      },
      "source": [
        "juntaTD.shape"
      ],
      "execution_count": 81,
      "outputs": [
        {
          "output_type": "execute_result",
          "data": {
            "text/plain": [
              "(3838, 17)"
            ]
          },
          "metadata": {
            "tags": []
          },
          "execution_count": 81
        }
      ]
    },
    {
      "cell_type": "markdown",
      "metadata": {
        "id": "gKZEfjyEMb8w"
      },
      "source": [
        "Podemos ver que sobrou pouco mais da metade nosso dataset original, vamos ter que trabalhar com isso."
      ]
    },
    {
      "cell_type": "markdown",
      "metadata": {
        "id": "DvZDXvDFFr4w"
      },
      "source": [
        "#Vamos realizar agora o teste de hipótese verificando se possuímos alguma diferença relevante dentre suas notas."
      ]
    },
    {
      "cell_type": "markdown",
      "metadata": {
        "id": "qMnGumYKYA-s"
      },
      "source": [
        "> Primeiramente fazendo uma análise com relação as avaliações para filmes e séries, respectivamente"
      ]
    },
    {
      "cell_type": "code",
      "metadata": {
        "id": "x_lW22h5YKfI",
        "colab": {
          "base_uri": "https://localhost:8080/",
          "height": 0
        },
        "outputId": "71ff6033-cf9c-4b6c-a1f6-605476021f8f"
      },
      "source": [
        "juntaTD[juntaTD['type']=='Movie'].describe()"
      ],
      "execution_count": 82,
      "outputs": [
        {
          "output_type": "execute_result",
          "data": {
            "text/html": [
              "<div>\n",
              "<style scoped>\n",
              "    .dataframe tbody tr th:only-of-type {\n",
              "        vertical-align: middle;\n",
              "    }\n",
              "\n",
              "    .dataframe tbody tr th {\n",
              "        vertical-align: top;\n",
              "    }\n",
              "\n",
              "    .dataframe thead th {\n",
              "        text-align: right;\n",
              "    }\n",
              "</style>\n",
              "<table border=\"1\" class=\"dataframe\">\n",
              "  <thead>\n",
              "    <tr style=\"text-align: right;\">\n",
              "      <th></th>\n",
              "      <th>averageRating</th>\n",
              "      <th>numVotes</th>\n",
              "      <th>release_year</th>\n",
              "      <th>duration</th>\n",
              "      <th>year_added</th>\n",
              "    </tr>\n",
              "  </thead>\n",
              "  <tbody>\n",
              "    <tr>\n",
              "      <th>count</th>\n",
              "      <td>2718.000000</td>\n",
              "      <td>2.718000e+03</td>\n",
              "      <td>2718.000000</td>\n",
              "      <td>2718.000000</td>\n",
              "      <td>2718.000000</td>\n",
              "    </tr>\n",
              "    <tr>\n",
              "      <th>mean</th>\n",
              "      <td>6.236056</td>\n",
              "      <td>1.517440e+04</td>\n",
              "      <td>2013.890361</td>\n",
              "      <td>98.850993</td>\n",
              "      <td>2018.412068</td>\n",
              "    </tr>\n",
              "    <tr>\n",
              "      <th>std</th>\n",
              "      <td>1.175659</td>\n",
              "      <td>7.054583e+04</td>\n",
              "      <td>8.416542</td>\n",
              "      <td>28.056378</td>\n",
              "      <td>1.418175</td>\n",
              "    </tr>\n",
              "    <tr>\n",
              "      <th>min</th>\n",
              "      <td>1.500000</td>\n",
              "      <td>5.000000e+00</td>\n",
              "      <td>1944.000000</td>\n",
              "      <td>5.000000</td>\n",
              "      <td>2010.000000</td>\n",
              "    </tr>\n",
              "    <tr>\n",
              "      <th>25%</th>\n",
              "      <td>5.500000</td>\n",
              "      <td>3.430000e+02</td>\n",
              "      <td>2013.000000</td>\n",
              "      <td>85.000000</td>\n",
              "      <td>2017.000000</td>\n",
              "    </tr>\n",
              "    <tr>\n",
              "      <th>50%</th>\n",
              "      <td>6.400000</td>\n",
              "      <td>1.402500e+03</td>\n",
              "      <td>2016.000000</td>\n",
              "      <td>97.000000</td>\n",
              "      <td>2019.000000</td>\n",
              "    </tr>\n",
              "    <tr>\n",
              "      <th>75%</th>\n",
              "      <td>7.100000</td>\n",
              "      <td>5.449250e+03</td>\n",
              "      <td>2018.000000</td>\n",
              "      <td>113.750000</td>\n",
              "      <td>2020.000000</td>\n",
              "    </tr>\n",
              "    <tr>\n",
              "      <th>max</th>\n",
              "      <td>10.000000</td>\n",
              "      <td>1.400965e+06</td>\n",
              "      <td>2021.000000</td>\n",
              "      <td>312.000000</td>\n",
              "      <td>2021.000000</td>\n",
              "    </tr>\n",
              "  </tbody>\n",
              "</table>\n",
              "</div>"
            ],
            "text/plain": [
              "       averageRating      numVotes  release_year     duration   year_added\n",
              "count    2718.000000  2.718000e+03   2718.000000  2718.000000  2718.000000\n",
              "mean        6.236056  1.517440e+04   2013.890361    98.850993  2018.412068\n",
              "std         1.175659  7.054583e+04      8.416542    28.056378     1.418175\n",
              "min         1.500000  5.000000e+00   1944.000000     5.000000  2010.000000\n",
              "25%         5.500000  3.430000e+02   2013.000000    85.000000  2017.000000\n",
              "50%         6.400000  1.402500e+03   2016.000000    97.000000  2019.000000\n",
              "75%         7.100000  5.449250e+03   2018.000000   113.750000  2020.000000\n",
              "max        10.000000  1.400965e+06   2021.000000   312.000000  2021.000000"
            ]
          },
          "metadata": {
            "tags": []
          },
          "execution_count": 82
        }
      ]
    },
    {
      "cell_type": "code",
      "metadata": {
        "id": "q3XMCG01Y_fC",
        "colab": {
          "base_uri": "https://localhost:8080/",
          "height": 0
        },
        "outputId": "af760abb-e907-4656-d1e2-026f2a6c37f2"
      },
      "source": [
        "juntaTD[juntaTD['type']=='TV Show'].describe()"
      ],
      "execution_count": 83,
      "outputs": [
        {
          "output_type": "execute_result",
          "data": {
            "text/html": [
              "<div>\n",
              "<style scoped>\n",
              "    .dataframe tbody tr th:only-of-type {\n",
              "        vertical-align: middle;\n",
              "    }\n",
              "\n",
              "    .dataframe tbody tr th {\n",
              "        vertical-align: top;\n",
              "    }\n",
              "\n",
              "    .dataframe thead th {\n",
              "        text-align: right;\n",
              "    }\n",
              "</style>\n",
              "<table border=\"1\" class=\"dataframe\">\n",
              "  <thead>\n",
              "    <tr style=\"text-align: right;\">\n",
              "      <th></th>\n",
              "      <th>averageRating</th>\n",
              "      <th>numVotes</th>\n",
              "      <th>release_year</th>\n",
              "      <th>duration</th>\n",
              "      <th>year_added</th>\n",
              "    </tr>\n",
              "  </thead>\n",
              "  <tbody>\n",
              "    <tr>\n",
              "      <th>count</th>\n",
              "      <td>1120.000000</td>\n",
              "      <td>1120.000000</td>\n",
              "      <td>1120.000000</td>\n",
              "      <td>1120.000000</td>\n",
              "      <td>1120.000000</td>\n",
              "    </tr>\n",
              "    <tr>\n",
              "      <th>mean</th>\n",
              "      <td>7.028214</td>\n",
              "      <td>5397.898214</td>\n",
              "      <td>2016.558036</td>\n",
              "      <td>1.689286</td>\n",
              "      <td>2018.615179</td>\n",
              "    </tr>\n",
              "    <tr>\n",
              "      <th>std</th>\n",
              "      <td>1.111564</td>\n",
              "      <td>18747.277228</td>\n",
              "      <td>5.364150</td>\n",
              "      <td>1.285052</td>\n",
              "      <td>1.409511</td>\n",
              "    </tr>\n",
              "    <tr>\n",
              "      <th>min</th>\n",
              "      <td>1.800000</td>\n",
              "      <td>5.000000</td>\n",
              "      <td>1946.000000</td>\n",
              "      <td>1.000000</td>\n",
              "      <td>2008.000000</td>\n",
              "    </tr>\n",
              "    <tr>\n",
              "      <th>25%</th>\n",
              "      <td>6.500000</td>\n",
              "      <td>122.000000</td>\n",
              "      <td>2016.000000</td>\n",
              "      <td>1.000000</td>\n",
              "      <td>2018.000000</td>\n",
              "    </tr>\n",
              "    <tr>\n",
              "      <th>50%</th>\n",
              "      <td>7.200000</td>\n",
              "      <td>719.000000</td>\n",
              "      <td>2018.000000</td>\n",
              "      <td>1.000000</td>\n",
              "      <td>2019.000000</td>\n",
              "    </tr>\n",
              "    <tr>\n",
              "      <th>75%</th>\n",
              "      <td>7.800000</td>\n",
              "      <td>3153.750000</td>\n",
              "      <td>2019.000000</td>\n",
              "      <td>2.000000</td>\n",
              "      <td>2020.000000</td>\n",
              "    </tr>\n",
              "    <tr>\n",
              "      <th>max</th>\n",
              "      <td>9.500000</td>\n",
              "      <td>386256.000000</td>\n",
              "      <td>2021.000000</td>\n",
              "      <td>10.000000</td>\n",
              "      <td>2021.000000</td>\n",
              "    </tr>\n",
              "  </tbody>\n",
              "</table>\n",
              "</div>"
            ],
            "text/plain": [
              "       averageRating       numVotes  release_year     duration   year_added\n",
              "count    1120.000000    1120.000000   1120.000000  1120.000000  1120.000000\n",
              "mean        7.028214    5397.898214   2016.558036     1.689286  2018.615179\n",
              "std         1.111564   18747.277228      5.364150     1.285052     1.409511\n",
              "min         1.800000       5.000000   1946.000000     1.000000  2008.000000\n",
              "25%         6.500000     122.000000   2016.000000     1.000000  2018.000000\n",
              "50%         7.200000     719.000000   2018.000000     1.000000  2019.000000\n",
              "75%         7.800000    3153.750000   2019.000000     2.000000  2020.000000\n",
              "max         9.500000  386256.000000   2021.000000    10.000000  2021.000000"
            ]
          },
          "metadata": {
            "tags": []
          },
          "execution_count": 83
        }
      ]
    },
    {
      "cell_type": "markdown",
      "metadata": {
        "id": "zbT5JcUYdA8A"
      },
      "source": [
        "Vamos normalizar as notas usando o z-score"
      ]
    },
    {
      "cell_type": "code",
      "metadata": {
        "id": "zVPA-OZ3dEZ6"
      },
      "source": [
        "juntaTD['averageRating_NORM'] = scaler.fit_transform(juntaTD[['averageRating']])"
      ],
      "execution_count": 84,
      "outputs": []
    },
    {
      "cell_type": "markdown",
      "metadata": {
        "id": "cBaJ5S5Zf2Sy"
      },
      "source": [
        "## Primeiro vamos comparar se a avaliação média de gravações realizadas na Austrália difere da avaliação média dos países. E vamos fazer as próximas observações para decidirmos qual teste de hipótese utilizar, de acordo com a tabela fornecida."
      ]
    },
    {
      "cell_type": "code",
      "metadata": {
        "id": "xyzgv48ihbZz",
        "colab": {
          "base_uri": "https://localhost:8080/"
        },
        "outputId": "659358f3-ea5e-4d87-ec31-8c1dac6a2ac5"
      },
      "source": [
        "juntaTD[juntaTD['main_country'] == 'Australia']['averageRating'].describe()"
      ],
      "execution_count": 85,
      "outputs": [
        {
          "output_type": "execute_result",
          "data": {
            "text/plain": [
              "count    55.00000\n",
              "mean      6.92000\n",
              "std       0.76797\n",
              "min       5.30000\n",
              "25%       6.35000\n",
              "50%       7.00000\n",
              "75%       7.45000\n",
              "max       8.30000\n",
              "Name: averageRating, dtype: float64"
            ]
          },
          "metadata": {
            "tags": []
          },
          "execution_count": 85
        }
      ]
    },
    {
      "cell_type": "markdown",
      "metadata": {
        "id": "eGrqBIqfFtId"
      },
      "source": [
        "Além de normalizar as notas iremos remover os outliers presentes nas avaliações para todos os países através do método tukey."
      ]
    },
    {
      "cell_type": "code",
      "metadata": {
        "colab": {
          "base_uri": "https://localhost:8080/"
        },
        "id": "L0MDqrdpGoUe",
        "outputId": "4e75028c-5c5c-4847-d1bc-a2ba18745d76"
      },
      "source": [
        "q1j = juntaTD['averageRating_NORM'].quantile(q=0.25)\n",
        "q3j = juntaTD['averageRating_NORM'].quantile(q=0.75)\n",
        "iqrj = q3j - q1j\n",
        "iqrj"
      ],
      "execution_count": 86,
      "outputs": [
        {
          "output_type": "execute_result",
          "data": {
            "text/plain": [
              "1.320379174435851"
            ]
          },
          "metadata": {
            "tags": []
          },
          "execution_count": 86
        }
      ]
    },
    {
      "cell_type": "code",
      "metadata": {
        "colab": {
          "base_uri": "https://localhost:8080/"
        },
        "id": "W10LEG37HE4V",
        "outputId": "7db56a7b-ebf7-49f8-9361-77cf7fd057b0"
      },
      "source": [
        "juntaTD1 = juntaTD[(juntaTD['averageRating_NORM'] > (q1j-1.5*iqrj)) & (juntaTD['averageRating_NORM'] < (q3j+1.5*iqrj))]\n",
        "len(juntaTD1)"
      ],
      "execution_count": 87,
      "outputs": [
        {
          "output_type": "execute_result",
          "data": {
            "text/plain": [
              "3783"
            ]
          },
          "metadata": {
            "tags": []
          },
          "execution_count": 87
        }
      ]
    },
    {
      "cell_type": "code",
      "metadata": {
        "colab": {
          "base_uri": "https://localhost:8080/"
        },
        "id": "7ECPulPyIGXl",
        "outputId": "9cb90458-b5ee-4a3b-ef50-b3271c64afb0"
      },
      "source": [
        "len(juntaTD)"
      ],
      "execution_count": 88,
      "outputs": [
        {
          "output_type": "execute_result",
          "data": {
            "text/plain": [
              "3838"
            ]
          },
          "metadata": {
            "tags": []
          },
          "execution_count": 88
        }
      ]
    },
    {
      "cell_type": "markdown",
      "metadata": {
        "id": "FRX33Dq3Ijxe"
      },
      "source": [
        "Verificando se a distribuição das avaliações da Australia seguem uma gaussiana."
      ]
    },
    {
      "cell_type": "code",
      "metadata": {
        "colab": {
          "base_uri": "https://localhost:8080/",
          "height": 0
        },
        "id": "85oaQl5aK11O",
        "outputId": "5616ff7c-03da-4106-8c1c-a356a4c2f510"
      },
      "source": [
        "sns.histplot(data=juntaTD.loc[juntaTD.main_country=='Australia'], x='averageRating_NORM', kde=True)"
      ],
      "execution_count": 89,
      "outputs": [
        {
          "output_type": "execute_result",
          "data": {
            "text/plain": [
              "<matplotlib.axes._subplots.AxesSubplot at 0x7f5cada96450>"
            ]
          },
          "metadata": {
            "tags": []
          },
          "execution_count": 89
        },
        {
          "output_type": "display_data",
          "data": {
            "image/png": "[encoded data removed]",
            "text/plain": [
              "<Figure size 432x288 with 1 Axes>"
            ]
          },
          "metadata": {
            "tags": [],
            "needs_background": "light"
          }
        }
      ]
    },
    {
      "cell_type": "code",
      "metadata": {
        "colab": {
          "base_uri": "https://localhost:8080/"
        },
        "id": "1UoCzjD2KWYT",
        "outputId": "0653888f-3f4c-4033-e976-b2fd196de795"
      },
      "source": [
        "stats.shapiro(juntaTD[juntaTD['main_country'] == 'Australia']['averageRating_NORM'])"
      ],
      "execution_count": 90,
      "outputs": [
        {
          "output_type": "execute_result",
          "data": {
            "text/plain": [
              "(0.9793302416801453, 0.45978692173957825)"
            ]
          },
          "metadata": {
            "tags": []
          },
          "execution_count": 90
        }
      ]
    },
    {
      "cell_type": "markdown",
      "metadata": {
        "id": "4rBn2bZFTOkC"
      },
      "source": [
        "> Com este p-value podemos considerar tal distribuição como uma normal"
      ]
    },
    {
      "cell_type": "markdown",
      "metadata": {
        "id": "GUo8QS9cM6NI"
      },
      "source": [
        "Como a nota de filmes da Austrália segue uma distribuição normal vamos utilizar o one sample t-test, indicado na tabela para o nosso tipo de dado e nosso objetivo."
      ]
    },
    {
      "cell_type": "code",
      "metadata": {
        "colab": {
          "base_uri": "https://localhost:8080/"
        },
        "id": "AfjaKHXDOFlA",
        "outputId": "9ded4773-71aa-48a6-bc3b-04c0fca45638"
      },
      "source": [
        "stats.ttest_1samp(juntaTD[juntaTD['main_country'] == 'Australia']['averageRating_NORM'], juntaTD1['averageRating_NORM'].mean())"
      ],
      "execution_count": 91,
      "outputs": [
        {
          "output_type": "execute_result",
          "data": {
            "text/plain": [
              "Ttest_1sampResult(statistic=3.867758040006332, pvalue=0.0002975520760896018)"
            ]
          },
          "metadata": {
            "tags": []
          },
          "execution_count": 91
        }
      ]
    },
    {
      "cell_type": "code",
      "metadata": {
        "id": "3Eq20IzxkNyF",
        "colab": {
          "base_uri": "https://localhost:8080/",
          "height": 0
        },
        "outputId": "79609bb6-1543-4ccb-a9f7-82b860ec27a8"
      },
      "source": [
        "dataA = juntaTD.loc[juntaTD.main_country == 'Australia',['averageRating_NORM']]\n",
        "dataM = juntaTD['averageRating_NORM']\n",
        "sns.boxplot(data=[dataM, dataA])"
      ],
      "execution_count": 92,
      "outputs": [
        {
          "output_type": "execute_result",
          "data": {
            "text/plain": [
              "<matplotlib.axes._subplots.AxesSubplot at 0x7f5c4579f050>"
            ]
          },
          "metadata": {
            "tags": []
          },
          "execution_count": 92
        },
        {
          "output_type": "display_data",
          "data": {
            "image/png": "[encoded data removed]",
            "text/plain": [
              "<Figure size 432x288 with 1 Axes>"
            ]
          },
          "metadata": {
            "tags": [],
            "needs_background": "light"
          }
        }
      ]
    },
    {
      "cell_type": "code",
      "metadata": {
        "colab": {
          "base_uri": "https://localhost:8080/",
          "height": 0
        },
        "id": "ZJO80YUSc_TS",
        "outputId": "fc369606-890b-46cf-c2b7-c4ab5ac47d4f"
      },
      "source": [
        "dataA = juntaTD.loc[juntaTD.main_country == 'Australia',['averageRating_NORM']]\n",
        "dataM = juntaTD1['averageRating_NORM']\n",
        "sns.violinplot(data=[dataA, dataM])"
      ],
      "execution_count": 93,
      "outputs": [
        {
          "output_type": "execute_result",
          "data": {
            "text/plain": [
              "<matplotlib.axes._subplots.AxesSubplot at 0x7f5c45682750>"
            ]
          },
          "metadata": {
            "tags": []
          },
          "execution_count": 93
        },
        {
          "output_type": "display_data",
          "data": {
            "image/png": "[encoded data removed]",
            "text/plain": [
              "<Figure size 432x288 with 1 Axes>"
            ]
          },
          "metadata": {
            "tags": [],
            "needs_background": "light"
          }
        }
      ]
    },
    {
      "cell_type": "markdown",
      "metadata": {
        "id": "ZTqG6WyieRV0"
      },
      "source": [
        "> Conforme podemos ver nos gráficos plotados e no p-value resultante do one sample t test, que a média das distribuições são diferentes"
      ]
    },
    {
      "cell_type": "markdown",
      "metadata": {
        "id": "QtOevkzuWGCh"
      },
      "source": [
        "## Vamos comparar agora se existe alguma diferença na avaliação média entre séries e filmes"
      ]
    },
    {
      "cell_type": "markdown",
      "metadata": {
        "id": "_hz3goqKWTlx"
      },
      "source": [
        "### Antes precisamos verificar para séries e filmes se suas distribuições seguem uma normal"
      ]
    },
    {
      "cell_type": "code",
      "metadata": {
        "colab": {
          "base_uri": "https://localhost:8080/",
          "height": 0
        },
        "id": "Jtv3BgiYXrER",
        "outputId": "b0cf5272-2620-48e5-e912-e0021c8f5b5b"
      },
      "source": [
        "sns.histplot(data=juntaTD.loc[juntaTD.type=='TV Show'], x='averageRating_NORM', kde=True)"
      ],
      "execution_count": 94,
      "outputs": [
        {
          "output_type": "execute_result",
          "data": {
            "text/plain": [
              "<matplotlib.axes._subplots.AxesSubplot at 0x7f5c455f90d0>"
            ]
          },
          "metadata": {
            "tags": []
          },
          "execution_count": 94
        },
        {
          "output_type": "display_data",
          "data": {
            "image/png": "[encoded data removed]",
            "text/plain": [
              "<Figure size 432x288 with 1 Axes>"
            ]
          },
          "metadata": {
            "tags": [],
            "needs_background": "light"
          }
        }
      ]
    },
    {
      "cell_type": "code",
      "metadata": {
        "colab": {
          "base_uri": "https://localhost:8080/"
        },
        "id": "4zjJh0bYYiLN",
        "outputId": "a6d7471e-4f01-478d-ea89-383de207f739"
      },
      "source": [
        "stats.shapiro(juntaTD.loc[juntaTD.type=='TV Show']['averageRating_NORM'])"
      ],
      "execution_count": 95,
      "outputs": [
        {
          "output_type": "execute_result",
          "data": {
            "text/plain": [
              "(0.9555766582489014, 6.246571441750865e-18)"
            ]
          },
          "metadata": {
            "tags": []
          },
          "execution_count": 95
        }
      ]
    },
    {
      "cell_type": "code",
      "metadata": {
        "colab": {
          "base_uri": "https://localhost:8080/",
          "height": 0
        },
        "id": "hYS-75aAX9Wr",
        "outputId": "714ad612-6570-41f3-9860-fe467da37a87"
      },
      "source": [
        "sns.histplot(data=juntaTD.loc[juntaTD.type=='Movie'], x='averageRating_NORM', kde=True)"
      ],
      "execution_count": 96,
      "outputs": [
        {
          "output_type": "execute_result",
          "data": {
            "text/plain": [
              "<matplotlib.axes._subplots.AxesSubplot at 0x7f5c455a0910>"
            ]
          },
          "metadata": {
            "tags": []
          },
          "execution_count": 96
        },
        {
          "output_type": "display_data",
          "data": {
            "image/png": "[encoded data removed]",
            "text/plain": [
              "<Figure size 432x288 with 1 Axes>"
            ]
          },
          "metadata": {
            "tags": [],
            "needs_background": "light"
          }
        }
      ]
    },
    {
      "cell_type": "code",
      "metadata": {
        "colab": {
          "base_uri": "https://localhost:8080/"
        },
        "id": "8luk27BiYEwG",
        "outputId": "6a5a9b28-8804-4d06-d303-15a790db13b3"
      },
      "source": [
        "stats.shapiro(juntaTD1.loc[juntaTD.type=='Movie']['averageRating_NORM'])"
      ],
      "execution_count": 97,
      "outputs": [
        {
          "output_type": "execute_result",
          "data": {
            "text/plain": [
              "(0.9859991669654846, 1.4573036686085523e-15)"
            ]
          },
          "metadata": {
            "tags": []
          },
          "execution_count": 97
        }
      ]
    },
    {
      "cell_type": "markdown",
      "metadata": {
        "id": "rj0JGHNdYnLK"
      },
      "source": [
        "### Como podemos ver nenhuma das distribuições seguem uma normal, e os grupos não são pareados, assim utilizaremos o Mann-Whitney test para comparar as duas distribuições."
      ]
    },
    {
      "cell_type": "code",
      "metadata": {
        "colab": {
          "base_uri": "https://localhost:8080/"
        },
        "id": "Jov6bRhxZC9z",
        "outputId": "4047bae7-95f3-41cb-dba1-67113c8feb8f"
      },
      "source": [
        "ttest,pval = stats.mannwhitneyu(juntaTD.loc[juntaTD.type=='TV Show']['averageRating_NORM'],juntaTD.loc[juntaTD.type=='Movie']['averageRating_NORM'])\n",
        "print(\"p-value\",pval)\n",
        "if pval <0.05:\n",
        "  print(\"Temos que a hipótese nula foi rejeitada\")\n",
        "else:\n",
        "  print(\"A hipótese nula é aceita\")"
      ],
      "execution_count": 98,
      "outputs": [
        {
          "output_type": "stream",
          "text": [
            "p-value 1.0229334983857813e-85\n",
            "Temos que a hipótese nula foi rejeitada\n"
          ],
          "name": "stdout"
        }
      ]
    },
    {
      "cell_type": "markdown",
      "metadata": {
        "id": "hI2k2ebPbNKW"
      },
      "source": [
        "* Plotando dois gráficos com as distribuições para facilitar a visualização"
      ]
    },
    {
      "cell_type": "code",
      "metadata": {
        "colab": {
          "base_uri": "https://localhost:8080/",
          "height": 0
        },
        "id": "OKPthR0mbVvJ",
        "outputId": "098580e2-ff71-4ab4-efd9-a822267ef4ae"
      },
      "source": [
        "sns.violinplot(data=juntaTD, x='type', y='averageRating')"
      ],
      "execution_count": 99,
      "outputs": [
        {
          "output_type": "execute_result",
          "data": {
            "text/plain": [
              "<matplotlib.axes._subplots.AxesSubplot at 0x7f5c454b68d0>"
            ]
          },
          "metadata": {
            "tags": []
          },
          "execution_count": 99
        },
        {
          "output_type": "display_data",
          "data": {
            "image/png": "[encoded data removed]",
            "text/plain": [
              "<Figure size 432x288 with 1 Axes>"
            ]
          },
          "metadata": {
            "tags": [],
            "needs_background": "light"
          }
        }
      ]
    },
    {
      "cell_type": "code",
      "metadata": {
        "colab": {
          "base_uri": "https://localhost:8080/",
          "height": 0
        },
        "id": "jEOVSvl4bklG",
        "outputId": "d5b5b378-c96e-484a-e68e-34735b8c19d0"
      },
      "source": [
        "dataA = juntaTD.loc[juntaTD.type == 'TV Show',['averageRating_NORM']]\n",
        "dataM = juntaTD[juntaTD['type'] == 'Movie']['averageRating_NORM']\n",
        "sns.boxplot(data=[dataM, dataA])"
      ],
      "execution_count": 100,
      "outputs": [
        {
          "output_type": "execute_result",
          "data": {
            "text/plain": [
              "<matplotlib.axes._subplots.AxesSubplot at 0x7f5c45414110>"
            ]
          },
          "metadata": {
            "tags": []
          },
          "execution_count": 100
        },
        {
          "output_type": "display_data",
          "data": {
            "image/png": "[encoded data removed]",
            "text/plain": [
              "<Figure size 432x288 with 1 Axes>"
            ]
          },
          "metadata": {
            "tags": [],
            "needs_background": "light"
          }
        }
      ]
    },
    {
      "cell_type": "markdown",
      "metadata": {
        "id": "fGaF84Na5OPo"
      },
      "source": [
        "# Projeto 2"
      ]
    },
    {
      "cell_type": "markdown",
      "metadata": {
        "id": "nKNvBfoo5QZG"
      },
      "source": [
        "##Vamos utilizar como rótulo as notas dos filmes, discretizá-las e tentar classificar os filmes de acordo com o score."
      ]
    },
    {
      "cell_type": "markdown",
      "metadata": {
        "id": "A65T0xr68XIB"
      },
      "source": [
        "#### Antes iremos organizar melhor nosso dataset excluindo algumas colunas, preprocessando a descrição e definindo os gêneros dos filmes"
      ]
    },
    {
      "cell_type": "code",
      "metadata": {
        "id": "P2Ic3YRR9C7k"
      },
      "source": [
        "juntaTD = juntaTD.reset_index()"
      ],
      "execution_count": 101,
      "outputs": []
    },
    {
      "cell_type": "code",
      "metadata": {
        "colab": {
          "base_uri": "https://localhost:8080/",
          "height": 1000
        },
        "id": "sexO4FXW-qT0",
        "outputId": "f7d8dace-d275-42e0-c06e-1b9ec6d2cf10"
      },
      "source": [
        "juntaTD.head(10)"
      ],
      "execution_count": 102,
      "outputs": [
        {
          "output_type": "execute_result",
          "data": {
            "text/html": [
              "<div>\n",
              "<style scoped>\n",
              "    .dataframe tbody tr th:only-of-type {\n",
              "        vertical-align: middle;\n",
              "    }\n",
              "\n",
              "    .dataframe tbody tr th {\n",
              "        vertical-align: top;\n",
              "    }\n",
              "\n",
              "    .dataframe thead th {\n",
              "        text-align: right;\n",
              "    }\n",
              "</style>\n",
              "<table border=\"1\" class=\"dataframe\">\n",
              "  <thead>\n",
              "    <tr style=\"text-align: right;\">\n",
              "      <th></th>\n",
              "      <th>index</th>\n",
              "      <th>averageRating</th>\n",
              "      <th>numVotes</th>\n",
              "      <th>primaryTitle</th>\n",
              "      <th>show_id</th>\n",
              "      <th>type</th>\n",
              "      <th>title</th>\n",
              "      <th>director</th>\n",
              "      <th>cast</th>\n",
              "      <th>country</th>\n",
              "      <th>date_added</th>\n",
              "      <th>release_year</th>\n",
              "      <th>rating</th>\n",
              "      <th>duration</th>\n",
              "      <th>listed_in</th>\n",
              "      <th>description</th>\n",
              "      <th>main_country</th>\n",
              "      <th>year_added</th>\n",
              "      <th>averageRating_NORM</th>\n",
              "    </tr>\n",
              "  </thead>\n",
              "  <tbody>\n",
              "    <tr>\n",
              "      <th>0</th>\n",
              "      <td>2779</td>\n",
              "      <td>6.4</td>\n",
              "      <td>80210</td>\n",
              "      <td>Kate &amp; Leopold</td>\n",
              "      <td>s3315</td>\n",
              "      <td>Movie</td>\n",
              "      <td>Kate &amp; Leopold</td>\n",
              "      <td>James Mangold</td>\n",
              "      <td>Meg Ryan, Hugh Jackman, Liev Schreiber, Brecki...</td>\n",
              "      <td>United States</td>\n",
              "      <td>2020-01-01</td>\n",
              "      <td>2001</td>\n",
              "      <td>PG-13</td>\n",
              "      <td>118</td>\n",
              "      <td>Comedies, Romantic Movies</td>\n",
              "      <td>A present-day woman takes responsibility for g...</td>\n",
              "      <td>United States</td>\n",
              "      <td>2020</td>\n",
              "      <td>-0.055475</td>\n",
              "    </tr>\n",
              "    <tr>\n",
              "      <th>1</th>\n",
              "      <td>2822</td>\n",
              "      <td>6.7</td>\n",
              "      <td>2093</td>\n",
              "      <td>San Pietro</td>\n",
              "      <td>s5372</td>\n",
              "      <td>Movie</td>\n",
              "      <td>San Pietro</td>\n",
              "      <td>John Huston</td>\n",
              "      <td>desconhecido</td>\n",
              "      <td>United States</td>\n",
              "      <td>2017-03-31</td>\n",
              "      <td>1945</td>\n",
              "      <td>TV-14</td>\n",
              "      <td>32</td>\n",
              "      <td>Classic Movies, Documentaries</td>\n",
              "      <td>After the Allies invade Italy, the Liri Valley...</td>\n",
              "      <td>United States</td>\n",
              "      <td>2017</td>\n",
              "      <td>0.192097</td>\n",
              "    </tr>\n",
              "    <tr>\n",
              "      <th>2</th>\n",
              "      <td>2869</td>\n",
              "      <td>6.7</td>\n",
              "      <td>546</td>\n",
              "      <td>Tunisian Victory</td>\n",
              "      <td>s7269</td>\n",
              "      <td>Movie</td>\n",
              "      <td>Tunisian Victory</td>\n",
              "      <td>Frank Capra, John Huston, Hugh Stewart, Roy Bo...</td>\n",
              "      <td>Burgess Meredith</td>\n",
              "      <td>United States, United Kingdom</td>\n",
              "      <td>2017-03-31</td>\n",
              "      <td>1944</td>\n",
              "      <td>TV-14</td>\n",
              "      <td>76</td>\n",
              "      <td>Classic Movies, Documentaries</td>\n",
              "      <td>British and American troops join forces to lib...</td>\n",
              "      <td>United States</td>\n",
              "      <td>2017</td>\n",
              "      <td>0.192097</td>\n",
              "    </tr>\n",
              "    <tr>\n",
              "      <th>3</th>\n",
              "      <td>3629</td>\n",
              "      <td>6.5</td>\n",
              "      <td>1371</td>\n",
              "      <td>The Sign of Venus</td>\n",
              "      <td>s6869</td>\n",
              "      <td>Movie</td>\n",
              "      <td>The Sign of Venus</td>\n",
              "      <td>Dino Risi</td>\n",
              "      <td>Sophia Loren, Franca Valeri, Vittorio De Sica,...</td>\n",
              "      <td>Italy</td>\n",
              "      <td>2020-11-13</td>\n",
              "      <td>1955</td>\n",
              "      <td>TV-14</td>\n",
              "      <td>97</td>\n",
              "      <td>Classic Movies, Comedies, Independent Movies</td>\n",
              "      <td>While suitors swoon over her cousin, a single ...</td>\n",
              "      <td>Italy</td>\n",
              "      <td>2020</td>\n",
              "      <td>0.027049</td>\n",
              "    </tr>\n",
              "    <tr>\n",
              "      <th>4</th>\n",
              "      <td>3867</td>\n",
              "      <td>6.4</td>\n",
              "      <td>96</td>\n",
              "      <td>This Is My Love</td>\n",
              "      <td>s7050</td>\n",
              "      <td>TV Show</td>\n",
              "      <td>This Is My Love</td>\n",
              "      <td>desconhecido</td>\n",
              "      <td>Jin-mo Joo, Sa-rang Kim, Junior, Ja-in Lee, Su...</td>\n",
              "      <td>South Korea</td>\n",
              "      <td>2017-05-22</td>\n",
              "      <td>2015</td>\n",
              "      <td>TV-14</td>\n",
              "      <td>1</td>\n",
              "      <td>International TV Shows, Korean TV Shows, Roman...</td>\n",
              "      <td>A renowned actor who is still pining over the ...</td>\n",
              "      <td>South Korea</td>\n",
              "      <td>2017</td>\n",
              "      <td>-0.055475</td>\n",
              "    </tr>\n",
              "    <tr>\n",
              "      <th>5</th>\n",
              "      <td>3981</td>\n",
              "      <td>6.5</td>\n",
              "      <td>2121</td>\n",
              "      <td>Scandal in Sorrento</td>\n",
              "      <td>s5426</td>\n",
              "      <td>Movie</td>\n",
              "      <td>Scandal in Sorrento</td>\n",
              "      <td>Dino Risi</td>\n",
              "      <td>Vittorio De Sica, Sophia Loren, Lea Padovani, ...</td>\n",
              "      <td>Italy, France</td>\n",
              "      <td>2020-11-13</td>\n",
              "      <td>1955</td>\n",
              "      <td>TV-PG</td>\n",
              "      <td>93</td>\n",
              "      <td>Classic Movies, Comedies, Independent Movies</td>\n",
              "      <td>When a marshal moves back to his hometown, he ...</td>\n",
              "      <td>Italy</td>\n",
              "      <td>2020</td>\n",
              "      <td>0.027049</td>\n",
              "    </tr>\n",
              "    <tr>\n",
              "      <th>6</th>\n",
              "      <td>3990</td>\n",
              "      <td>7.6</td>\n",
              "      <td>3807</td>\n",
              "      <td>Cairo Station</td>\n",
              "      <td>s1170</td>\n",
              "      <td>Movie</td>\n",
              "      <td>Cairo Station</td>\n",
              "      <td>Youssef Chahine</td>\n",
              "      <td>Farid Shawqy, Hind Rostom, Youssef Chahine, Ha...</td>\n",
              "      <td>Egypt</td>\n",
              "      <td>2020-06-18</td>\n",
              "      <td>1958</td>\n",
              "      <td>TV-14</td>\n",
              "      <td>73</td>\n",
              "      <td>Classic Movies, Dramas, International Movies</td>\n",
              "      <td>A Cairo newsstand vendor's fantasies morph int...</td>\n",
              "      <td>Egypt</td>\n",
              "      <td>2020</td>\n",
              "      <td>0.934810</td>\n",
              "    </tr>\n",
              "    <tr>\n",
              "      <th>7</th>\n",
              "      <td>4166</td>\n",
              "      <td>8.3</td>\n",
              "      <td>12805</td>\n",
              "      <td>The Andy Griffith Show</td>\n",
              "      <td>s6083</td>\n",
              "      <td>TV Show</td>\n",
              "      <td>The Andy Griffith Show</td>\n",
              "      <td>desconhecido</td>\n",
              "      <td>Andy Griffith, Ron Howard, Don Knotts, Frances...</td>\n",
              "      <td>United States</td>\n",
              "      <td>2017-07-01</td>\n",
              "      <td>1967</td>\n",
              "      <td>TV-G</td>\n",
              "      <td>8</td>\n",
              "      <td>Classic &amp; Cult TV, TV Comedies</td>\n",
              "      <td>Homespun humor and easygoing Sheriff Andy Tayl...</td>\n",
              "      <td>United States</td>\n",
              "      <td>2017</td>\n",
              "      <td>1.512476</td>\n",
              "    </tr>\n",
              "    <tr>\n",
              "      <th>8</th>\n",
              "      <td>4227</td>\n",
              "      <td>7.4</td>\n",
              "      <td>436</td>\n",
              "      <td>Jis Desh Men Ganga Behti Hai</td>\n",
              "      <td>s3188</td>\n",
              "      <td>Movie</td>\n",
              "      <td>Jis Desh Men Ganga Behti Hai</td>\n",
              "      <td>Radhu Karmakar</td>\n",
              "      <td>Raj Kapoor, Padmini, Pran, Chanchal, Lalita Pa...</td>\n",
              "      <td>United States</td>\n",
              "      <td>2019-12-31</td>\n",
              "      <td>1960</td>\n",
              "      <td>TV-14</td>\n",
              "      <td>181</td>\n",
              "      <td>Action &amp; Adventure, Dramas, International Movies</td>\n",
              "      <td>Falling in with a band of outlaws during a hol...</td>\n",
              "      <td>United States</td>\n",
              "      <td>2019</td>\n",
              "      <td>0.769762</td>\n",
              "    </tr>\n",
              "    <tr>\n",
              "      <th>9</th>\n",
              "      <td>4671</td>\n",
              "      <td>7.5</td>\n",
              "      <td>8592</td>\n",
              "      <td>Diary of a Chambermaid</td>\n",
              "      <td>s1750</td>\n",
              "      <td>Movie</td>\n",
              "      <td>Diary of a Chambermaid</td>\n",
              "      <td>Benoît Jacquot</td>\n",
              "      <td>Léa Seydoux, Vincent Lindon, Clotilde Mollet, ...</td>\n",
              "      <td>France, Belgium</td>\n",
              "      <td>2016-12-03</td>\n",
              "      <td>2015</td>\n",
              "      <td>NR</td>\n",
              "      <td>96</td>\n",
              "      <td>Dramas, International Movies</td>\n",
              "      <td>An attractive young woman goes to work as a ch...</td>\n",
              "      <td>France</td>\n",
              "      <td>2016</td>\n",
              "      <td>0.852286</td>\n",
              "    </tr>\n",
              "  </tbody>\n",
              "</table>\n",
              "</div>"
            ],
            "text/plain": [
              "   index  averageRating  ...  year_added averageRating_NORM\n",
              "0   2779            6.4  ...        2020          -0.055475\n",
              "1   2822            6.7  ...        2017           0.192097\n",
              "2   2869            6.7  ...        2017           0.192097\n",
              "3   3629            6.5  ...        2020           0.027049\n",
              "4   3867            6.4  ...        2017          -0.055475\n",
              "5   3981            6.5  ...        2020           0.027049\n",
              "6   3990            7.6  ...        2020           0.934810\n",
              "7   4166            8.3  ...        2017           1.512476\n",
              "8   4227            7.4  ...        2019           0.769762\n",
              "9   4671            7.5  ...        2016           0.852286\n",
              "\n",
              "[10 rows x 19 columns]"
            ]
          },
          "metadata": {
            "tags": []
          },
          "execution_count": 102
        }
      ]
    },
    {
      "cell_type": "code",
      "metadata": {
        "id": "-RFylOSlHYA5"
      },
      "source": [
        "juntaTD = juntaTD.drop(['index', 'primaryTitle', 'show_id', 'country', 'date_added', 'averageRating_NORM'], axis = 1)"
      ],
      "execution_count": 103,
      "outputs": []
    },
    {
      "cell_type": "code",
      "metadata": {
        "colab": {
          "base_uri": "https://localhost:8080/",
          "height": 1000
        },
        "id": "wzWIgsSGIweF",
        "outputId": "e5e5fdd5-8443-4f9d-823a-310c08b15f24"
      },
      "source": [
        "juntaTD"
      ],
      "execution_count": 104,
      "outputs": [
        {
          "output_type": "execute_result",
          "data": {
            "text/html": [
              "<div>\n",
              "<style scoped>\n",
              "    .dataframe tbody tr th:only-of-type {\n",
              "        vertical-align: middle;\n",
              "    }\n",
              "\n",
              "    .dataframe tbody tr th {\n",
              "        vertical-align: top;\n",
              "    }\n",
              "\n",
              "    .dataframe thead th {\n",
              "        text-align: right;\n",
              "    }\n",
              "</style>\n",
              "<table border=\"1\" class=\"dataframe\">\n",
              "  <thead>\n",
              "    <tr style=\"text-align: right;\">\n",
              "      <th></th>\n",
              "      <th>averageRating</th>\n",
              "      <th>numVotes</th>\n",
              "      <th>type</th>\n",
              "      <th>title</th>\n",
              "      <th>director</th>\n",
              "      <th>cast</th>\n",
              "      <th>release_year</th>\n",
              "      <th>rating</th>\n",
              "      <th>duration</th>\n",
              "      <th>listed_in</th>\n",
              "      <th>description</th>\n",
              "      <th>main_country</th>\n",
              "      <th>year_added</th>\n",
              "    </tr>\n",
              "  </thead>\n",
              "  <tbody>\n",
              "    <tr>\n",
              "      <th>0</th>\n",
              "      <td>6.4</td>\n",
              "      <td>80210</td>\n",
              "      <td>Movie</td>\n",
              "      <td>Kate &amp; Leopold</td>\n",
              "      <td>James Mangold</td>\n",
              "      <td>Meg Ryan, Hugh Jackman, Liev Schreiber, Brecki...</td>\n",
              "      <td>2001</td>\n",
              "      <td>PG-13</td>\n",
              "      <td>118</td>\n",
              "      <td>Comedies, Romantic Movies</td>\n",
              "      <td>A present-day woman takes responsibility for g...</td>\n",
              "      <td>United States</td>\n",
              "      <td>2020</td>\n",
              "    </tr>\n",
              "    <tr>\n",
              "      <th>1</th>\n",
              "      <td>6.7</td>\n",
              "      <td>2093</td>\n",
              "      <td>Movie</td>\n",
              "      <td>San Pietro</td>\n",
              "      <td>John Huston</td>\n",
              "      <td>desconhecido</td>\n",
              "      <td>1945</td>\n",
              "      <td>TV-14</td>\n",
              "      <td>32</td>\n",
              "      <td>Classic Movies, Documentaries</td>\n",
              "      <td>After the Allies invade Italy, the Liri Valley...</td>\n",
              "      <td>United States</td>\n",
              "      <td>2017</td>\n",
              "    </tr>\n",
              "    <tr>\n",
              "      <th>2</th>\n",
              "      <td>6.7</td>\n",
              "      <td>546</td>\n",
              "      <td>Movie</td>\n",
              "      <td>Tunisian Victory</td>\n",
              "      <td>Frank Capra, John Huston, Hugh Stewart, Roy Bo...</td>\n",
              "      <td>Burgess Meredith</td>\n",
              "      <td>1944</td>\n",
              "      <td>TV-14</td>\n",
              "      <td>76</td>\n",
              "      <td>Classic Movies, Documentaries</td>\n",
              "      <td>British and American troops join forces to lib...</td>\n",
              "      <td>United States</td>\n",
              "      <td>2017</td>\n",
              "    </tr>\n",
              "    <tr>\n",
              "      <th>3</th>\n",
              "      <td>6.5</td>\n",
              "      <td>1371</td>\n",
              "      <td>Movie</td>\n",
              "      <td>The Sign of Venus</td>\n",
              "      <td>Dino Risi</td>\n",
              "      <td>Sophia Loren, Franca Valeri, Vittorio De Sica,...</td>\n",
              "      <td>1955</td>\n",
              "      <td>TV-14</td>\n",
              "      <td>97</td>\n",
              "      <td>Classic Movies, Comedies, Independent Movies</td>\n",
              "      <td>While suitors swoon over her cousin, a single ...</td>\n",
              "      <td>Italy</td>\n",
              "      <td>2020</td>\n",
              "    </tr>\n",
              "    <tr>\n",
              "      <th>4</th>\n",
              "      <td>6.4</td>\n",
              "      <td>96</td>\n",
              "      <td>TV Show</td>\n",
              "      <td>This Is My Love</td>\n",
              "      <td>desconhecido</td>\n",
              "      <td>Jin-mo Joo, Sa-rang Kim, Junior, Ja-in Lee, Su...</td>\n",
              "      <td>2015</td>\n",
              "      <td>TV-14</td>\n",
              "      <td>1</td>\n",
              "      <td>International TV Shows, Korean TV Shows, Roman...</td>\n",
              "      <td>A renowned actor who is still pining over the ...</td>\n",
              "      <td>South Korea</td>\n",
              "      <td>2017</td>\n",
              "    </tr>\n",
              "    <tr>\n",
              "      <th>...</th>\n",
              "      <td>...</td>\n",
              "      <td>...</td>\n",
              "      <td>...</td>\n",
              "      <td>...</td>\n",
              "      <td>...</td>\n",
              "      <td>...</td>\n",
              "      <td>...</td>\n",
              "      <td>...</td>\n",
              "      <td>...</td>\n",
              "      <td>...</td>\n",
              "      <td>...</td>\n",
              "      <td>...</td>\n",
              "      <td>...</td>\n",
              "    </tr>\n",
              "    <tr>\n",
              "      <th>3833</th>\n",
              "      <td>3.9</td>\n",
              "      <td>8</td>\n",
              "      <td>TV Show</td>\n",
              "      <td>Cocomong</td>\n",
              "      <td>desconhecido</td>\n",
              "      <td>Jung Sun-hye, Yang Jeong-hwa, Kim Jang, Ryoo J...</td>\n",
              "      <td>2015</td>\n",
              "      <td>TV-Y</td>\n",
              "      <td>2</td>\n",
              "      <td>Kids' TV, Korean TV Shows</td>\n",
              "      <td>What's in your fridge? In sunny Refrigerator L...</td>\n",
              "      <td>United States</td>\n",
              "      <td>2019</td>\n",
              "    </tr>\n",
              "    <tr>\n",
              "      <th>3834</th>\n",
              "      <td>6.2</td>\n",
              "      <td>111</td>\n",
              "      <td>TV Show</td>\n",
              "      <td>Chip and Potato</td>\n",
              "      <td>desconhecido</td>\n",
              "      <td>Abigail Oliver, Andrea Libman, Briana Buckmast...</td>\n",
              "      <td>2019</td>\n",
              "      <td>TV-Y</td>\n",
              "      <td>2</td>\n",
              "      <td>Kids' TV</td>\n",
              "      <td>Lovable pug Chip starts kindergarten, makes ne...</td>\n",
              "      <td>United Kingdom</td>\n",
              "      <td>2019</td>\n",
              "    </tr>\n",
              "    <tr>\n",
              "      <th>3835</th>\n",
              "      <td>5.1</td>\n",
              "      <td>12376</td>\n",
              "      <td>Movie</td>\n",
              "      <td>Coffee &amp; Kareem</td>\n",
              "      <td>Michael Dowse</td>\n",
              "      <td>Ed Helms, Taraji P. Henson, Terrence Little Ga...</td>\n",
              "      <td>2020</td>\n",
              "      <td>TV-MA</td>\n",
              "      <td>88</td>\n",
              "      <td>Action &amp; Adventure, Comedies</td>\n",
              "      <td>An inept Detroit cop must team up with his gir...</td>\n",
              "      <td>United States</td>\n",
              "      <td>2020</td>\n",
              "    </tr>\n",
              "    <tr>\n",
              "      <th>3836</th>\n",
              "      <td>6.6</td>\n",
              "      <td>35</td>\n",
              "      <td>TV Show</td>\n",
              "      <td>Flowering Heart</td>\n",
              "      <td>desconhecido</td>\n",
              "      <td>Choi Da-in, Yang Se-na, Gim Chae-eun, Esther, ...</td>\n",
              "      <td>2016</td>\n",
              "      <td>TV-Y7</td>\n",
              "      <td>1</td>\n",
              "      <td>Kids' TV, Korean TV Shows</td>\n",
              "      <td>An ordinary student, who forms an advice club ...</td>\n",
              "      <td>South Korea</td>\n",
              "      <td>2019</td>\n",
              "    </tr>\n",
              "    <tr>\n",
              "      <th>3837</th>\n",
              "      <td>6.8</td>\n",
              "      <td>162</td>\n",
              "      <td>TV Show</td>\n",
              "      <td>Bangkok Love Stories: Innocence</td>\n",
              "      <td>desconhecido</td>\n",
              "      <td>Nida Patcharaveerapong, Nicole Theriault, Natt...</td>\n",
              "      <td>2018</td>\n",
              "      <td>TV-14</td>\n",
              "      <td>1</td>\n",
              "      <td>International TV Shows, Romantic TV Shows, TV ...</td>\n",
              "      <td>From a teenage parkour enthusiast to a bawdy r...</td>\n",
              "      <td>Thailand</td>\n",
              "      <td>2019</td>\n",
              "    </tr>\n",
              "  </tbody>\n",
              "</table>\n",
              "<p>3838 rows × 13 columns</p>\n",
              "</div>"
            ],
            "text/plain": [
              "      averageRating  numVotes  ...    main_country year_added\n",
              "0               6.4     80210  ...   United States       2020\n",
              "1               6.7      2093  ...   United States       2017\n",
              "2               6.7       546  ...   United States       2017\n",
              "3               6.5      1371  ...           Italy       2020\n",
              "4               6.4        96  ...     South Korea       2017\n",
              "...             ...       ...  ...             ...        ...\n",
              "3833            3.9         8  ...   United States       2019\n",
              "3834            6.2       111  ...  United Kingdom       2019\n",
              "3835            5.1     12376  ...   United States       2020\n",
              "3836            6.6        35  ...     South Korea       2019\n",
              "3837            6.8       162  ...        Thailand       2019\n",
              "\n",
              "[3838 rows x 13 columns]"
            ]
          },
          "metadata": {
            "tags": []
          },
          "execution_count": 104
        }
      ]
    },
    {
      "cell_type": "markdown",
      "metadata": {
        "id": "Xtv_vH2oLvn1"
      },
      "source": [
        "####Preprocessando nossa descrição dos filmes"
      ]
    },
    {
      "cell_type": "code",
      "metadata": {
        "colab": {
          "base_uri": "https://localhost:8080/"
        },
        "id": "ad3hUKDKJ1yU",
        "outputId": "4c24aa20-177c-4cef-f24e-4b91ebc325c2"
      },
      "source": [
        "\n",
        "import pandas as pd # our main data management package\n",
        "import matplotlib.pyplot as plt # our main display package\n",
        "import string # used for preprocessing\n",
        "import re # used for preprocessing\n",
        "import nltk \n",
        "from nltk.tokenize import word_tokenize\n",
        "from nltk.corpus import stopwords\n",
        "from nltk.stem import WordNetLemmatizer\n",
        "from sklearn.feature_extraction.text import TfidfVectorizer\n",
        "nltk.download('stopwords')\n",
        "nltk.download('wordnet')\n",
        "nltk.download('punkt')"
      ],
      "execution_count": 105,
      "outputs": [
        {
          "output_type": "stream",
          "text": [
            "[nltk_data] Downloading package stopwords to /root/nltk_data...\n",
            "[nltk_data]   Package stopwords is already up-to-date!\n",
            "[nltk_data] Downloading package wordnet to /root/nltk_data...\n",
            "[nltk_data]   Package wordnet is already up-to-date!\n",
            "[nltk_data] Downloading package punkt to /root/nltk_data...\n",
            "[nltk_data]   Package punkt is already up-to-date!\n"
          ],
          "name": "stdout"
        },
        {
          "output_type": "execute_result",
          "data": {
            "text/plain": [
              "True"
            ]
          },
          "metadata": {
            "tags": []
          },
          "execution_count": 105
        }
      ]
    },
    {
      "cell_type": "code",
      "metadata": {
        "id": "W2IMiKNsLVRY"
      },
      "source": [
        "# make all text lowercase\n",
        "def text_lowercase(text):\n",
        "    return text.lower()\n",
        "# remove numbers\n",
        "def remove_numbers(text):\n",
        "    result = re.sub(r'\\d+', '', text)\n",
        "    return result\n",
        "# remove punctuation\n",
        "def remove_punctuation(text):\n",
        "    translator = str.maketrans('', '', string.punctuation)\n",
        "    return text.translate(translator)\n",
        "# tokenize\n",
        "def tokenize(text):\n",
        "    text = word_tokenize(text)\n",
        "    return text\n",
        "# remove stopwords\n",
        "stop_words = set(stopwords.words('english'))\n",
        "def remove_stopwords(text):\n",
        "    text = [i for i in text if not i in stop_words]\n",
        "    return text\n",
        "# lemmatize\n",
        "lemmatizer = WordNetLemmatizer()\n",
        "def lemmatize(text):\n",
        "    text = [lemmatizer.lemmatize(token) for token in text]\n",
        "    return text\n",
        "\n",
        "def preprocessing(text):\n",
        "    text = text_lowercase(text)\n",
        "    text = remove_numbers(text)\n",
        "    text = remove_punctuation(text)\n",
        "    text = tokenize(text)\n",
        "    text = remove_stopwords(text)\n",
        "    text = lemmatize(text)\n",
        "    text = ' '.join(text)\n",
        "    return text"
      ],
      "execution_count": 106,
      "outputs": []
    },
    {
      "cell_type": "code",
      "metadata": {
        "id": "O12hWPUVLhXU"
      },
      "source": [
        "pp_text_train = [] # our preprocessed text column\n",
        "for text_data in juntaTD['description']:\n",
        "    pp_text_data = preprocessing(text_data)\n",
        "    pp_text_train.append(pp_text_data)\n",
        "juntaTD['pp_desc'] = pp_text_train # add the preprocessed text as a column"
      ],
      "execution_count": 107,
      "outputs": []
    },
    {
      "cell_type": "code",
      "metadata": {
        "colab": {
          "base_uri": "https://localhost:8080/",
          "height": 0
        },
        "id": "H4BGUvXIMSdU",
        "outputId": "8d958cbc-3bbc-4adc-e098-a0742fa3ea48"
      },
      "source": [
        "juntaTD.head()"
      ],
      "execution_count": 108,
      "outputs": [
        {
          "output_type": "execute_result",
          "data": {
            "text/html": [
              "<div>\n",
              "<style scoped>\n",
              "    .dataframe tbody tr th:only-of-type {\n",
              "        vertical-align: middle;\n",
              "    }\n",
              "\n",
              "    .dataframe tbody tr th {\n",
              "        vertical-align: top;\n",
              "    }\n",
              "\n",
              "    .dataframe thead th {\n",
              "        text-align: right;\n",
              "    }\n",
              "</style>\n",
              "<table border=\"1\" class=\"dataframe\">\n",
              "  <thead>\n",
              "    <tr style=\"text-align: right;\">\n",
              "      <th></th>\n",
              "      <th>averageRating</th>\n",
              "      <th>numVotes</th>\n",
              "      <th>type</th>\n",
              "      <th>title</th>\n",
              "      <th>director</th>\n",
              "      <th>cast</th>\n",
              "      <th>release_year</th>\n",
              "      <th>rating</th>\n",
              "      <th>duration</th>\n",
              "      <th>listed_in</th>\n",
              "      <th>description</th>\n",
              "      <th>main_country</th>\n",
              "      <th>year_added</th>\n",
              "      <th>pp_desc</th>\n",
              "    </tr>\n",
              "  </thead>\n",
              "  <tbody>\n",
              "    <tr>\n",
              "      <th>0</th>\n",
              "      <td>6.4</td>\n",
              "      <td>80210</td>\n",
              "      <td>Movie</td>\n",
              "      <td>Kate &amp; Leopold</td>\n",
              "      <td>James Mangold</td>\n",
              "      <td>Meg Ryan, Hugh Jackman, Liev Schreiber, Brecki...</td>\n",
              "      <td>2001</td>\n",
              "      <td>PG-13</td>\n",
              "      <td>118</td>\n",
              "      <td>Comedies, Romantic Movies</td>\n",
              "      <td>A present-day woman takes responsibility for g...</td>\n",
              "      <td>United States</td>\n",
              "      <td>2020</td>\n",
              "      <td>presentday woman take responsibility guiding c...</td>\n",
              "    </tr>\n",
              "    <tr>\n",
              "      <th>1</th>\n",
              "      <td>6.7</td>\n",
              "      <td>2093</td>\n",
              "      <td>Movie</td>\n",
              "      <td>San Pietro</td>\n",
              "      <td>John Huston</td>\n",
              "      <td>desconhecido</td>\n",
              "      <td>1945</td>\n",
              "      <td>TV-14</td>\n",
              "      <td>32</td>\n",
              "      <td>Classic Movies, Documentaries</td>\n",
              "      <td>After the Allies invade Italy, the Liri Valley...</td>\n",
              "      <td>United States</td>\n",
              "      <td>2017</td>\n",
              "      <td>ally invade italy liri valley town san pietro ...</td>\n",
              "    </tr>\n",
              "    <tr>\n",
              "      <th>2</th>\n",
              "      <td>6.7</td>\n",
              "      <td>546</td>\n",
              "      <td>Movie</td>\n",
              "      <td>Tunisian Victory</td>\n",
              "      <td>Frank Capra, John Huston, Hugh Stewart, Roy Bo...</td>\n",
              "      <td>Burgess Meredith</td>\n",
              "      <td>1944</td>\n",
              "      <td>TV-14</td>\n",
              "      <td>76</td>\n",
              "      <td>Classic Movies, Documentaries</td>\n",
              "      <td>British and American troops join forces to lib...</td>\n",
              "      <td>United States</td>\n",
              "      <td>2017</td>\n",
              "      <td>british american troop join force liberate naz...</td>\n",
              "    </tr>\n",
              "    <tr>\n",
              "      <th>3</th>\n",
              "      <td>6.5</td>\n",
              "      <td>1371</td>\n",
              "      <td>Movie</td>\n",
              "      <td>The Sign of Venus</td>\n",
              "      <td>Dino Risi</td>\n",
              "      <td>Sophia Loren, Franca Valeri, Vittorio De Sica,...</td>\n",
              "      <td>1955</td>\n",
              "      <td>TV-14</td>\n",
              "      <td>97</td>\n",
              "      <td>Classic Movies, Comedies, Independent Movies</td>\n",
              "      <td>While suitors swoon over her cousin, a single ...</td>\n",
              "      <td>Italy</td>\n",
              "      <td>2020</td>\n",
              "      <td>suitor swoon cousin single woman take initiati...</td>\n",
              "    </tr>\n",
              "    <tr>\n",
              "      <th>4</th>\n",
              "      <td>6.4</td>\n",
              "      <td>96</td>\n",
              "      <td>TV Show</td>\n",
              "      <td>This Is My Love</td>\n",
              "      <td>desconhecido</td>\n",
              "      <td>Jin-mo Joo, Sa-rang Kim, Junior, Ja-in Lee, Su...</td>\n",
              "      <td>2015</td>\n",
              "      <td>TV-14</td>\n",
              "      <td>1</td>\n",
              "      <td>International TV Shows, Korean TV Shows, Roman...</td>\n",
              "      <td>A renowned actor who is still pining over the ...</td>\n",
              "      <td>South Korea</td>\n",
              "      <td>2017</td>\n",
              "      <td>renowned actor still pining loss first real lo...</td>\n",
              "    </tr>\n",
              "  </tbody>\n",
              "</table>\n",
              "</div>"
            ],
            "text/plain": [
              "   averageRating  ...                                            pp_desc\n",
              "0            6.4  ...  presentday woman take responsibility guiding c...\n",
              "1            6.7  ...  ally invade italy liri valley town san pietro ...\n",
              "2            6.7  ...  british american troop join force liberate naz...\n",
              "3            6.5  ...  suitor swoon cousin single woman take initiati...\n",
              "4            6.4  ...  renowned actor still pining loss first real lo...\n",
              "\n",
              "[5 rows x 14 columns]"
            ]
          },
          "metadata": {
            "tags": []
          },
          "execution_count": 108
        }
      ]
    },
    {
      "cell_type": "code",
      "metadata": {
        "id": "olvPAv0EUL3T"
      },
      "source": [
        "filmedf = juntaTD[juntaTD['type'] == 'Movie']"
      ],
      "execution_count": 109,
      "outputs": []
    },
    {
      "cell_type": "code",
      "metadata": {
        "id": "DadQSH0ka0HN"
      },
      "source": [
        "filmedf = filmedf.reset_index()"
      ],
      "execution_count": 110,
      "outputs": []
    },
    {
      "cell_type": "code",
      "metadata": {
        "id": "8GL8-dvibVM9"
      },
      "source": [
        "filmedf = filmedf.drop('index', axis=1)"
      ],
      "execution_count": 111,
      "outputs": []
    },
    {
      "cell_type": "code",
      "metadata": {
        "id": "Ms2mdia9dMEe"
      },
      "source": [
        "from sklearn.feature_extraction.text import CountVectorizer"
      ],
      "execution_count": 112,
      "outputs": []
    },
    {
      "cell_type": "code",
      "metadata": {
        "id": "oSWUQfq1cb6q"
      },
      "source": [
        "vectorizer = CountVectorizer(analyzer='word', tokenizer=word_tokenize)"
      ],
      "execution_count": 113,
      "outputs": []
    },
    {
      "cell_type": "code",
      "metadata": {
        "colab": {
          "base_uri": "https://localhost:8080/"
        },
        "id": "wa17Hta6oAdQ",
        "outputId": "4edaf975-2ac2-4b3f-bfb1-7073ea2dbfeb"
      },
      "source": [
        "freq_words = vectorizer.fit_transform(filmedf.pp_desc)\n",
        "type(freq_words)"
      ],
      "execution_count": 114,
      "outputs": [
        {
          "output_type": "execute_result",
          "data": {
            "text/plain": [
              "scipy.sparse.csr.csr_matrix"
            ]
          },
          "metadata": {
            "tags": []
          },
          "execution_count": 114
        }
      ]
    },
    {
      "cell_type": "code",
      "metadata": {
        "colab": {
          "base_uri": "https://localhost:8080/"
        },
        "id": "bz_bHCoQocOQ",
        "outputId": "2974cebc-e54a-4f52-fc87-c5bac0151635"
      },
      "source": [
        "freq_words.shape"
      ],
      "execution_count": 115,
      "outputs": [
        {
          "output_type": "execute_result",
          "data": {
            "text/plain": [
              "(2718, 9667)"
            ]
          },
          "metadata": {
            "tags": []
          },
          "execution_count": 115
        }
      ]
    },
    {
      "cell_type": "markdown",
      "metadata": {
        "id": "Z_F3E2kN44_w"
      },
      "source": [
        "#### Ajustando o gênero dos filmes e separando as nostas em boas:1, para aquelas maiores ou iguais a 7 e ruins:0 as demais"
      ]
    },
    {
      "cell_type": "code",
      "metadata": {
        "id": "xNw3VVEdlOqc"
      },
      "source": [
        "filmedf['main_gender']=filmedf['listed_in'].apply(lambda x: x.split(\",\")[0])"
      ],
      "execution_count": 116,
      "outputs": []
    },
    {
      "cell_type": "code",
      "metadata": {
        "id": "j4YDhdRgt5yO"
      },
      "source": [
        "def converter(cluster):\n",
        "    if cluster>=7:\n",
        "        return 1\n",
        "    else:\n",
        "        return 0"
      ],
      "execution_count": 117,
      "outputs": []
    },
    {
      "cell_type": "code",
      "metadata": {
        "colab": {
          "base_uri": "https://localhost:8080/"
        },
        "id": "S-lGtoP1t_0p",
        "outputId": "9b4aae75-bae1-4b46-963c-1828f1de6050"
      },
      "source": [
        "filmedf['averageRatingConverted'] = filmedf['averageRating'].apply(converter)\n",
        "filmedf.info()"
      ],
      "execution_count": 118,
      "outputs": [
        {
          "output_type": "stream",
          "text": [
            "<class 'pandas.core.frame.DataFrame'>\n",
            "RangeIndex: 2718 entries, 0 to 2717\n",
            "Data columns (total 16 columns):\n",
            " #   Column                  Non-Null Count  Dtype   \n",
            "---  ------                  --------------  -----   \n",
            " 0   averageRating           2718 non-null   float64 \n",
            " 1   numVotes                2718 non-null   int64   \n",
            " 2   type                    2718 non-null   category\n",
            " 3   title                   2718 non-null   category\n",
            " 4   director                2718 non-null   category\n",
            " 5   cast                    2718 non-null   object  \n",
            " 6   release_year            2718 non-null   int64   \n",
            " 7   rating                  2718 non-null   category\n",
            " 8   duration                2718 non-null   int64   \n",
            " 9   listed_in               2718 non-null   category\n",
            " 10  description             2718 non-null   object  \n",
            " 11  main_country            2718 non-null   category\n",
            " 12  year_added              2718 non-null   int64   \n",
            " 13  pp_desc                 2718 non-null   object  \n",
            " 14  main_gender             2718 non-null   object  \n",
            " 15  averageRatingConverted  2718 non-null   int64   \n",
            "dtypes: category(6), float64(1), int64(5), object(4)\n",
            "memory usage: 836.6+ KB\n"
          ],
          "name": "stdout"
        }
      ]
    },
    {
      "cell_type": "code",
      "metadata": {
        "colab": {
          "base_uri": "https://localhost:8080/"
        },
        "id": "rButh9oLz-jz",
        "outputId": "155b2c53-1b79-4c40-b619-f08af7fb70f0"
      },
      "source": [
        "filmedf['average_dist'] = pd.qcut(filmedf['averageRating'],2)\n",
        "filmedf['average_dist'].describe()\n"
      ],
      "execution_count": 119,
      "outputs": [
        {
          "output_type": "execute_result",
          "data": {
            "text/plain": [
              "count             2718\n",
              "unique               2\n",
              "top       (1.499, 6.4]\n",
              "freq              1427\n",
              "Name: average_dist, dtype: object"
            ]
          },
          "metadata": {
            "tags": []
          },
          "execution_count": 119
        }
      ]
    },
    {
      "cell_type": "code",
      "metadata": {
        "colab": {
          "base_uri": "https://localhost:8080/"
        },
        "id": "Y-lzI83G4pY-",
        "outputId": "d81d5e9d-8b90-46d1-a52a-79b4ca97a0e7"
      },
      "source": [
        "filmedf['average_dist'].value_counts()"
      ],
      "execution_count": 120,
      "outputs": [
        {
          "output_type": "execute_result",
          "data": {
            "text/plain": [
              "(1.499, 6.4]    1427\n",
              "(6.4, 10.0]     1291\n",
              "Name: average_dist, dtype: int64"
            ]
          },
          "metadata": {
            "tags": []
          },
          "execution_count": 120
        }
      ]
    },
    {
      "cell_type": "code",
      "metadata": {
        "id": "QPfOJQij7m1r"
      },
      "source": [
        "\n",
        "filmedf['average_dist']=filmedf['average_dist'].astype('category')"
      ],
      "execution_count": 121,
      "outputs": []
    },
    {
      "cell_type": "code",
      "metadata": {
        "id": "5uR53vKQ7uTf"
      },
      "source": [
        "filmedf['average_dist'] = filmedf['average_dist'].cat.codes"
      ],
      "execution_count": 122,
      "outputs": []
    },
    {
      "cell_type": "code",
      "metadata": {
        "id": "D4UUvSHn87uf"
      },
      "source": [
        "filmedfcl = filmedf.drop(['averageRating', 'cast', 'listed_in', 'description'], axis=1)"
      ],
      "execution_count": 123,
      "outputs": []
    },
    {
      "cell_type": "code",
      "metadata": {
        "id": "zERSRDVxdKP2"
      },
      "source": [
        "filmedfcl['main_country']=filmedfcl['main_country'].astype('category')\n",
        "filmedfcl['director']=filmedfcl['director'].astype('category')\n",
        "filmedfcl['type']=filmedfcl['type'].astype('category')\n",
        "filmedfcl['title']=filmedfcl['title'].astype('category')\n",
        "filmedfcl['rating']=filmedfcl['rating'].astype('category')\n",
        "filmedfcl['main_gender']=filmedfcl['main_gender'].astype('category')\n"
      ],
      "execution_count": 124,
      "outputs": []
    },
    {
      "cell_type": "code",
      "metadata": {
        "id": "BNWIGk88eUfg"
      },
      "source": [
        "\n",
        "filmedfcl['main_country']=filmedfcl['main_country'].cat.codes\n",
        "filmedfcl['director']=filmedfcl['director'].cat.codes\n",
        "filmedfcl['type']=filmedfcl['type'].cat.codes\n",
        "filmedfcl['title']=filmedfcl['title'].cat.codes\n",
        "filmedfcl['rating']=filmedfcl['rating'].cat.codes\n",
        "filmedfcl['main_gender']=filmedfcl['main_gender'].cat.codes\n"
      ],
      "execution_count": 125,
      "outputs": []
    },
    {
      "cell_type": "markdown",
      "metadata": {
        "id": "mFsaKTxJ9sFC"
      },
      "source": [
        "## Agora iremos separar nossos dados em treinamento, validação e teste"
      ]
    },
    {
      "cell_type": "code",
      "metadata": {
        "id": "yN8HgGNJ-72E"
      },
      "source": [
        "from sklearn.model_selection import train_test_split, cross_val_score, cross_val_predict, cross_validate, StratifiedKFold\n",
        "from sklearn.metrics import accuracy_score, precision_score, recall_score, f1_score, roc_curve, auc, confusion_matrix"
      ],
      "execution_count": 126,
      "outputs": []
    },
    {
      "cell_type": "code",
      "metadata": {
        "id": "UWLXSHrjWnnl"
      },
      "source": [
        "X = filmedfcl.drop(['average_dist', 'pp_desc','averageRatingConverted'], axis=1)\n",
        "y = filmedfcl['average_dist']"
      ],
      "execution_count": 127,
      "outputs": []
    },
    {
      "cell_type": "markdown",
      "metadata": {
        "id": "Na1z4j2SFBr4"
      },
      "source": [
        "### Primeiro utilizaremos o Decision Tree Classifier:"
      ]
    },
    {
      "cell_type": "code",
      "metadata": {
        "id": "0IpNPA73ctbx"
      },
      "source": [
        "from sklearn.tree import DecisionTreeClassifier"
      ],
      "execution_count": 128,
      "outputs": []
    },
    {
      "cell_type": "code",
      "metadata": {
        "id": "LVea0tfUshUJ"
      },
      "source": [
        "X_train, X_test, y_train, y_test = train_test_split(X, y, random_state=1)"
      ],
      "execution_count": 129,
      "outputs": []
    },
    {
      "cell_type": "code",
      "metadata": {
        "colab": {
          "base_uri": "https://localhost:8080/"
        },
        "id": "TDIxcUcHtB8O",
        "outputId": "89cb041e-8233-4c2e-d39b-76617c68d31b"
      },
      "source": [
        "tree = DecisionTreeClassifier()\n",
        "tree.fit(X_train, y_train)"
      ],
      "execution_count": 131,
      "outputs": [
        {
          "output_type": "execute_result",
          "data": {
            "text/plain": [
              "DecisionTreeClassifier(ccp_alpha=0.0, class_weight=None, criterion='gini',\n",
              "                       max_depth=None, max_features=None, max_leaf_nodes=None,\n",
              "                       min_impurity_decrease=0.0, min_impurity_split=None,\n",
              "                       min_samples_leaf=1, min_samples_split=2,\n",
              "                       min_weight_fraction_leaf=0.0, presort='deprecated',\n",
              "                       random_state=None, splitter='best')"
            ]
          },
          "metadata": {
            "tags": []
          },
          "execution_count": 131
        }
      ]
    },
    {
      "cell_type": "code",
      "metadata": {
        "colab": {
          "base_uri": "https://localhost:8080/"
        },
        "id": "HDaHOhP1tGzc",
        "outputId": "4904dd02-67b5-4131-e503-5a92efd33623"
      },
      "source": [
        "from sklearn.tree import export_graphviz\n",
        "target_names = np.unique(y)\n",
        "columns = X_train.columns\n",
        "# Creates dot file named tree.dot\n",
        "export_graphviz(\n",
        "            tree,\n",
        "            out_file =  \"tree_titanic.dot\",\n",
        "            feature_names = list(X.columns))\n",
        "\n",
        "from subprocess import call\n",
        "\n",
        "call(['dot', '-T', 'png', 'Movies.dot', '-o', 'tree_movies.png'])"
      ],
      "execution_count": 132,
      "outputs": [
        {
          "output_type": "execute_result",
          "data": {
            "text/plain": [
              "2"
            ]
          },
          "metadata": {
            "tags": []
          },
          "execution_count": 132
        }
      ]
    },
    {
      "cell_type": "code",
      "metadata": {
        "colab": {
          "base_uri": "https://localhost:8080/",
          "height": 265
        },
        "id": "4Xn4NmKKuwf4",
        "outputId": "ed4edef9-df2c-491b-f2b3-914727ecf517"
      },
      "source": [
        "predicted = tree.predict(X_test)\n",
        "\n",
        "cm = confusion_matrix(y_test, predicted)\n",
        "sns.heatmap(cm, center=True)\n",
        "plt.show()"
      ],
      "execution_count": 133,
      "outputs": [
        {
          "output_type": "display_data",
          "data": {
            "image/png": "[encoded data removed]",
            "text/plain": [
              "<Figure size 432x288 with 2 Axes>"
            ]
          },
          "metadata": {
            "tags": [],
            "needs_background": "light"
          }
        }
      ]
    },
    {
      "cell_type": "code",
      "metadata": {
        "colab": {
          "base_uri": "https://localhost:8080/"
        },
        "id": "WRblQLviu6ZX",
        "outputId": "7d169b16-2c47-4876-9f7a-2f2aa7cf5b3d"
      },
      "source": [
        "report = classification_report(y_test, predicted)\n",
        "print(report)\n"
      ],
      "execution_count": 134,
      "outputs": [
        {
          "output_type": "stream",
          "text": [
            "              precision    recall  f1-score   support\n",
            "\n",
            "           0       0.65      0.64      0.64       357\n",
            "           1       0.61      0.62      0.62       323\n",
            "\n",
            "    accuracy                           0.63       680\n",
            "   macro avg       0.63      0.63      0.63       680\n",
            "weighted avg       0.63      0.63      0.63       680\n",
            "\n"
          ],
          "name": "stdout"
        }
      ]
    },
    {
      "cell_type": "markdown",
      "metadata": {
        "id": "mcHWvG_cR_JC"
      },
      "source": [
        "#### Vamos utilizar o otimizador bayeseano para evitar o overfitting da nossa árvore"
      ]
    },
    {
      "cell_type": "code",
      "metadata": {
        "colab": {
          "base_uri": "https://localhost:8080/"
        },
        "id": "ubCe2cMuvJPW",
        "outputId": "7ee4ca51-c378-4e3b-a11c-c03a57872979"
      },
      "source": [
        "!pip install scikit-optimize"
      ],
      "execution_count": 135,
      "outputs": [
        {
          "output_type": "stream",
          "text": [
            "Requirement already satisfied: scikit-optimize in /usr/local/lib/python3.7/dist-packages (0.8.1)\n",
            "Requirement already satisfied: pyaml>=16.9 in /usr/local/lib/python3.7/dist-packages (from scikit-optimize) (21.8.3)\n",
            "Requirement already satisfied: scipy>=0.19.1 in /usr/local/lib/python3.7/dist-packages (from scikit-optimize) (1.4.1)\n",
            "Requirement already satisfied: joblib>=0.11 in /usr/local/lib/python3.7/dist-packages (from scikit-optimize) (1.0.1)\n",
            "Requirement already satisfied: numpy>=1.13.3 in /usr/local/lib/python3.7/dist-packages (from scikit-optimize) (1.19.5)\n",
            "Requirement already satisfied: scikit-learn>=0.20.0 in /usr/local/lib/python3.7/dist-packages (from scikit-optimize) (0.22.2.post1)\n",
            "Requirement already satisfied: PyYAML in /usr/local/lib/python3.7/dist-packages (from pyaml>=16.9->scikit-optimize) (5.4.1)\n"
          ],
          "name": "stdout"
        }
      ]
    },
    {
      "cell_type": "code",
      "metadata": {
        "id": "_3PUXsYCvRE-"
      },
      "source": [
        "from skopt import forest_minimize"
      ],
      "execution_count": 136,
      "outputs": []
    },
    {
      "cell_type": "code",
      "metadata": {
        "colab": {
          "base_uri": "https://localhost:8080/"
        },
        "id": "F6lYu5Y7DQwE",
        "outputId": "45ac7880-7f88-4307-b402-c48f896b2a10"
      },
      "source": [
        "from sklearn.metrics import roc_auc_score, average_precision_score\n",
        "print(np.round(average_precision_score(y_test, predicted),4))\n",
        "print(np.round(roc_auc_score(y_test, predicted),4))"
      ],
      "execution_count": 137,
      "outputs": [
        {
          "output_type": "stream",
          "text": [
            "0.5584\n",
            "0.6305\n"
          ],
          "name": "stdout"
        }
      ]
    },
    {
      "cell_type": "code",
      "metadata": {
        "colab": {
          "base_uri": "https://localhost:8080/"
        },
        "id": "_NBGzC6uvVFv",
        "outputId": "45e56878-ecc9-4433-cab9-d4f26cec157a"
      },
      "source": [
        "def tune_dtree(params):\n",
        "    print(params)\n",
        "    max_depth = params[0]\n",
        "    min_samples_split = params[1]\n",
        "    min_samples_leaf = params[2]\n",
        "    max_features = params[3]\n",
        "    criterion = params[4]\n",
        "\n",
        "    tree = DecisionTreeClassifier(max_depth=max_depth,\n",
        "                                  min_samples_split=min_samples_split,\n",
        "                                  min_samples_leaf=min_samples_leaf,\n",
        "                                  max_features=max_features,\n",
        "                                  criterion=criterion,\n",
        "                                  random_state=42,\n",
        "                                  class_weight='balanced')\n",
        "    \n",
        "    tree.fit(X_train,y_train)\n",
        "\n",
        "    predicted = tree.predict(X_test)\n",
        "    print('auc_score', roc_auc_score(y_test, predicted))\n",
        "    print('average:',average_precision_score(y_test, predicted))\n",
        "    report = classification_report(y_test, predicted)\n",
        "    print(report)\n",
        "\n",
        "    return -average_precision_score(y_test, predicted)\n",
        "\n",
        "\n",
        "space = [(2,30),(5,30),(1,10),(1,7),('gini','entropy')]\n",
        "\n",
        "result = forest_minimize(tune_dtree, space, random_state=42, n_random_starts=20,n_calls=50, verbose=1)"
      ],
      "execution_count": 138,
      "outputs": [
        {
          "output_type": "stream",
          "text": [
            "Iteration No: 1 started. Evaluating function at random point.\n",
            "[21, 19, 8, 5, 'entropy']\n",
            "auc_score 0.6309892378003832\n",
            "average: 0.5596058247306892\n",
            "              precision    recall  f1-score   support\n",
            "\n",
            "           0       0.65      0.66      0.65       357\n",
            "           1       0.62      0.60      0.61       323\n",
            "\n",
            "    accuracy                           0.63       680\n",
            "   macro avg       0.63      0.63      0.63       680\n",
            "weighted avg       0.63      0.63      0.63       680\n",
            "\n",
            "Iteration No: 1 ended. Evaluation done at random point.\n",
            "Time taken: 0.0215\n",
            "Function value obtained: -0.5596\n",
            "Current minimum: -0.5596\n",
            "Iteration No: 2 started. Evaluating function at random point.\n",
            "[27, 23, 7, 3, 'gini']\n",
            "auc_score 0.5986289252543122\n",
            "average: 0.5344399765511936\n",
            "              precision    recall  f1-score   support\n",
            "\n",
            "           0       0.62      0.60      0.61       357\n",
            "           1       0.57      0.60      0.59       323\n",
            "\n",
            "    accuracy                           0.60       680\n",
            "   macro avg       0.60      0.60      0.60       680\n",
            "weighted avg       0.60      0.60      0.60       680\n",
            "\n",
            "Iteration No: 2 ended. Evaluation done at random point.\n",
            "Time taken: 0.0152\n",
            "Function value obtained: -0.5344\n",
            "Current minimum: -0.5596\n",
            "Iteration No: 3 started. Evaluating function at random point.\n",
            "[22, 8, 8, 3, 'gini']\n",
            "auc_score 0.6405720182809966\n",
            "average: 0.5642842982596739\n",
            "              precision    recall  f1-score   support\n",
            "\n",
            "           0       0.68      0.59      0.63       357\n",
            "           1       0.60      0.69      0.64       323\n",
            "\n",
            "    accuracy                           0.64       680\n",
            "   macro avg       0.64      0.64      0.64       680\n",
            "weighted avg       0.64      0.64      0.64       680\n",
            "\n",
            "Iteration No: 3 ended. Evaluation done at random point.\n",
            "Time taken: 0.0146\n",
            "Function value obtained: -0.5643\n",
            "Current minimum: -0.5643\n",
            "Iteration No: 4 started. Evaluating function at random point.\n",
            "[3, 28, 6, 2, 'gini']\n",
            "auc_score 0.6335692171605484\n",
            "average: 0.5556734431080304\n",
            "              precision    recall  f1-score   support\n",
            "\n",
            "           0       0.72      0.46      0.56       357\n",
            "           1       0.58      0.80      0.67       323\n",
            "\n",
            "    accuracy                           0.62       680\n",
            "   macro avg       0.65      0.63      0.62       680\n",
            "weighted avg       0.65      0.62      0.61       680\n",
            "\n",
            "Iteration No: 4 ended. Evaluation done at random point.\n",
            "Time taken: 0.0120\n",
            "Function value obtained: -0.5557\n",
            "Current minimum: -0.5643\n",
            "Iteration No: 5 started. Evaluating function at random point.\n",
            "[22, 5, 10, 6, 'gini']\n",
            "auc_score 0.6491228070175439\n",
            "average: 0.5711903726257793\n",
            "              precision    recall  f1-score   support\n",
            "\n",
            "           0       0.68      0.61      0.64       357\n",
            "           1       0.61      0.69      0.65       323\n",
            "\n",
            "    accuracy                           0.65       680\n",
            "   macro avg       0.65      0.65      0.65       680\n",
            "weighted avg       0.65      0.65      0.65       680\n",
            "\n",
            "Iteration No: 5 ended. Evaluation done at random point.\n",
            "Time taken: 0.0179\n",
            "Function value obtained: -0.5712\n",
            "Current minimum: -0.5712\n",
            "Iteration No: 6 started. Evaluating function at random point.\n",
            "[26, 21, 10, 4, 'entropy']\n",
            "auc_score 0.6432994250331712\n",
            "average: 0.5677280581755346\n",
            "              precision    recall  f1-score   support\n",
            "\n",
            "           0       0.67      0.63      0.65       357\n",
            "           1       0.62      0.66      0.64       323\n",
            "\n",
            "    accuracy                           0.64       680\n",
            "   macro avg       0.64      0.64      0.64       680\n",
            "weighted avg       0.64      0.64      0.64       680\n",
            "\n",
            "Iteration No: 6 ended. Evaluation done at random point.\n",
            "Time taken: 0.0190\n",
            "Function value obtained: -0.5677\n",
            "Current minimum: -0.5712\n",
            "Iteration No: 7 started. Evaluating function at random point.\n",
            "[16, 19, 3, 4, 'entropy']\n",
            "auc_score 0.6340852130325814\n",
            "average: 0.5597089869520598\n",
            "              precision    recall  f1-score   support\n",
            "\n",
            "           0       0.67      0.60      0.63       357\n",
            "           1       0.60      0.67      0.63       323\n",
            "\n",
            "    accuracy                           0.63       680\n",
            "   macro avg       0.63      0.63      0.63       680\n",
            "weighted avg       0.64      0.63      0.63       680\n",
            "\n",
            "Iteration No: 7 ended. Evaluation done at random point.\n",
            "Time taken: 0.0197\n",
            "Function value obtained: -0.5597\n",
            "Current minimum: -0.5712\n",
            "Iteration No: 8 started. Evaluating function at random point.\n",
            "[26, 7, 5, 3, 'entropy']\n",
            "auc_score 0.5935426802299868\n",
            "average: 0.531125608137992\n",
            "              precision    recall  f1-score   support\n",
            "\n",
            "           0       0.62      0.61      0.61       357\n",
            "           1       0.57      0.58      0.58       323\n",
            "\n",
            "    accuracy                           0.59       680\n",
            "   macro avg       0.59      0.59      0.59       680\n",
            "weighted avg       0.59      0.59      0.59       680\n",
            "\n",
            "Iteration No: 8 ended. Evaluation done at random point.\n",
            "Time taken: 0.0207\n",
            "Function value obtained: -0.5311\n",
            "Current minimum: -0.5712\n",
            "Iteration No: 9 started. Evaluating function at random point.\n",
            "[10, 11, 2, 4, 'entropy']\n",
            "auc_score 0.6427834291611382\n",
            "average: 0.5691154496000624\n",
            "              precision    recall  f1-score   support\n",
            "\n",
            "           0       0.66      0.67      0.66       357\n",
            "           1       0.63      0.62      0.62       323\n",
            "\n",
            "    accuracy                           0.64       680\n",
            "   macro avg       0.64      0.64      0.64       680\n",
            "weighted avg       0.64      0.64      0.64       680\n",
            "\n",
            "Iteration No: 9 ended. Evaluation done at random point.\n",
            "Time taken: 0.0228\n",
            "Function value obtained: -0.5691\n",
            "Current minimum: -0.5712\n",
            "Iteration No: 10 started. Evaluating function at random point.\n",
            "[15, 22, 10, 1, 'gini']\n",
            "auc_score 0.6206693203597228\n",
            "average: 0.550570504634776\n",
            "              precision    recall  f1-score   support\n",
            "\n",
            "           0       0.64      0.62      0.63       357\n",
            "           1       0.60      0.62      0.61       323\n",
            "\n",
            "    accuracy                           0.62       680\n",
            "   macro avg       0.62      0.62      0.62       680\n",
            "weighted avg       0.62      0.62      0.62       680\n",
            "\n",
            "Iteration No: 10 ended. Evaluation done at random point.\n",
            "Time taken: 0.0133\n",
            "Function value obtained: -0.5506\n",
            "Current minimum: -0.5712\n",
            "Iteration No: 11 started. Evaluating function at random point.\n",
            "[3, 24, 7, 4, 'gini']\n",
            "auc_score 0.6267138434321098\n",
            "average: 0.5602749919313387\n",
            "              precision    recall  f1-score   support\n",
            "\n",
            "           0       0.63      0.74      0.68       357\n",
            "           1       0.64      0.51      0.57       323\n",
            "\n",
            "    accuracy                           0.63       680\n",
            "   macro avg       0.63      0.63      0.62       680\n",
            "weighted avg       0.63      0.63      0.63       680\n",
            "\n",
            "Iteration No: 11 ended. Evaluation done at random point.\n",
            "Time taken: 0.0125\n",
            "Function value obtained: -0.5603\n",
            "Current minimum: -0.5712\n",
            "Iteration No: 12 started. Evaluating function at random point.\n",
            "[16, 7, 1, 4, 'gini']\n",
            "auc_score 0.6139613740232936\n",
            "average: 0.5452048175522111\n",
            "              precision    recall  f1-score   support\n",
            "\n",
            "           0       0.64      0.60      0.62       357\n",
            "           1       0.59      0.63      0.61       323\n",
            "\n",
            "    accuracy                           0.61       680\n",
            "   macro avg       0.61      0.61      0.61       680\n",
            "weighted avg       0.62      0.61      0.61       680\n",
            "\n",
            "Iteration No: 12 ended. Evaluation done at random point.\n",
            "Time taken: 0.0262\n",
            "Function value obtained: -0.5452\n",
            "Current minimum: -0.5712\n",
            "Iteration No: 13 started. Evaluating function at random point.\n",
            "[5, 6, 6, 6, 'entropy']\n",
            "auc_score 0.6412354415450391\n",
            "average: 0.5711782653564859\n",
            "              precision    recall  f1-score   support\n",
            "\n",
            "           0       0.64      0.73      0.68       357\n",
            "           1       0.65      0.55      0.60       323\n",
            "\n",
            "    accuracy                           0.65       680\n",
            "   macro avg       0.65      0.64      0.64       680\n",
            "weighted avg       0.65      0.65      0.64       680\n",
            "\n",
            "Iteration No: 13 ended. Evaluation done at random point.\n",
            "Time taken: 0.0192\n",
            "Function value obtained: -0.5712\n",
            "Current minimum: -0.5712\n",
            "Iteration No: 14 started. Evaluating function at random point.\n",
            "[23, 22, 10, 4, 'entropy']\n",
            "auc_score 0.6152145068553738\n",
            "average: 0.5462448889330168\n",
            "              precision    recall  f1-score   support\n",
            "\n",
            "           0       0.64      0.61      0.62       357\n",
            "           1       0.59      0.63      0.61       323\n",
            "\n",
            "    accuracy                           0.61       680\n",
            "   macro avg       0.61      0.62      0.61       680\n",
            "weighted avg       0.62      0.61      0.61       680\n",
            "\n",
            "Iteration No: 14 ended. Evaluation done at random point.\n",
            "Time taken: 0.0270\n",
            "Function value obtained: -0.5462\n",
            "Current minimum: -0.5712\n",
            "Iteration No: 15 started. Evaluating function at random point.\n",
            "[5, 18, 8, 6, 'gini']\n",
            "auc_score 0.6760283060592659\n",
            "average: 0.5986198785734389\n",
            "              precision    recall  f1-score   support\n",
            "\n",
            "           0       0.69      0.71      0.70       357\n",
            "           1       0.67      0.64      0.65       323\n",
            "\n",
            "    accuracy                           0.68       680\n",
            "   macro avg       0.68      0.68      0.68       680\n",
            "weighted avg       0.68      0.68      0.68       680\n",
            "\n",
            "Iteration No: 15 ended. Evaluation done at random point.\n",
            "Time taken: 0.0184\n",
            "Function value obtained: -0.5986\n",
            "Current minimum: -0.5986\n",
            "Iteration No: 16 started. Evaluating function at random point.\n",
            "[26, 12, 5, 5, 'gini']\n",
            "auc_score 0.6228070175438597\n",
            "average: 0.551772132643748\n",
            "              precision    recall  f1-score   support\n",
            "\n",
            "           0       0.65      0.61      0.63       357\n",
            "           1       0.60      0.64      0.62       323\n",
            "\n",
            "    accuracy                           0.62       680\n",
            "   macro avg       0.62      0.62      0.62       680\n",
            "weighted avg       0.62      0.62      0.62       680\n",
            "\n",
            "Iteration No: 16 ended. Evaluation done at random point.\n",
            "Time taken: 0.0225\n",
            "Function value obtained: -0.5518\n",
            "Current minimum: -0.5986\n",
            "Iteration No: 17 started. Evaluating function at random point.\n",
            "[22, 28, 10, 1, 'gini']\n",
            "auc_score 0.586171310629515\n",
            "average: 0.5255546585999804\n",
            "              precision    recall  f1-score   support\n",
            "\n",
            "           0       0.61      0.57      0.59       357\n",
            "           1       0.56      0.60      0.58       323\n",
            "\n",
            "    accuracy                           0.59       680\n",
            "   macro avg       0.59      0.59      0.59       680\n",
            "weighted avg       0.59      0.59      0.59       680\n",
            "\n",
            "Iteration No: 17 ended. Evaluation done at random point.\n",
            "Time taken: 0.0182\n",
            "Function value obtained: -0.5256\n",
            "Current minimum: -0.5986\n",
            "Iteration No: 18 started. Evaluating function at random point.\n",
            "[29, 17, 9, 5, 'entropy']\n",
            "auc_score 0.5967860828541943\n",
            "average: 0.5322153653333777\n",
            "              precision    recall  f1-score   support\n",
            "\n",
            "           0       0.63      0.54      0.58       357\n",
            "           1       0.56      0.65      0.60       323\n",
            "\n",
            "    accuracy                           0.59       680\n",
            "   macro avg       0.60      0.60      0.59       680\n",
            "weighted avg       0.60      0.59      0.59       680\n",
            "\n",
            "Iteration No: 18 ended. Evaluation done at random point.\n",
            "Time taken: 0.0247\n",
            "Function value obtained: -0.5322\n",
            "Current minimum: -0.5986\n",
            "Iteration No: 19 started. Evaluating function at random point.\n",
            "[2, 29, 7, 1, 'entropy']\n",
            "auc_score 0.5952380952380953\n",
            "average: 0.5303398058252426\n",
            "              precision    recall  f1-score   support\n",
            "\n",
            "           0       0.65      0.48      0.55       357\n",
            "           1       0.55      0.71      0.62       323\n",
            "\n",
            "    accuracy                           0.59       680\n",
            "   macro avg       0.60      0.60      0.59       680\n",
            "weighted avg       0.60      0.59      0.59       680\n",
            "\n",
            "Iteration No: 19 ended. Evaluation done at random point.\n",
            "Time taken: 0.0194\n",
            "Function value obtained: -0.5303\n",
            "Current minimum: -0.5986\n",
            "Iteration No: 20 started. Evaluating function at random point.\n",
            "[13, 12, 8, 7, 'entropy']\n",
            "auc_score 0.6346012089046145\n",
            "average: 0.5607790941140679\n",
            "              precision    recall  f1-score   support\n",
            "\n",
            "           0       0.66      0.62      0.64       357\n",
            "           1       0.61      0.65      0.63       323\n",
            "\n",
            "    accuracy                           0.63       680\n",
            "   macro avg       0.63      0.63      0.63       680\n",
            "weighted avg       0.64      0.63      0.63       680\n",
            "\n",
            "Iteration No: 20 ended. Evaluation done at random point.\n",
            "Time taken: 0.3002\n",
            "Function value obtained: -0.5608\n",
            "Current minimum: -0.5986\n",
            "Iteration No: 21 started. Searching for the next optimal point.\n",
            "[5, 30, 8, 7, 'gini']\n",
            "auc_score 0.631062951496388\n",
            "average: 0.564077087383301\n",
            "              precision    recall  f1-score   support\n",
            "\n",
            "           0       0.63      0.75      0.68       357\n",
            "           1       0.65      0.52      0.57       323\n",
            "\n",
            "    accuracy                           0.64       680\n",
            "   macro avg       0.64      0.63      0.63       680\n",
            "weighted avg       0.64      0.64      0.63       680\n",
            "\n",
            "Iteration No: 21 ended. Search finished for the next optimal point.\n",
            "Time taken: 0.2921\n",
            "Function value obtained: -0.5641\n",
            "Current minimum: -0.5986\n",
            "Iteration No: 22 started. Searching for the next optimal point.\n",
            "[2, 30, 10, 7, 'gini']\n",
            "auc_score 0.5784313725490197\n",
            "average: 0.5260230179028133\n",
            "              precision    recall  f1-score   support\n",
            "\n",
            "           0       0.58      0.80      0.67       357\n",
            "           1       0.62      0.35      0.45       323\n",
            "\n",
            "    accuracy                           0.59       680\n",
            "   macro avg       0.60      0.58      0.56       680\n",
            "weighted avg       0.60      0.59      0.57       680\n",
            "\n",
            "Iteration No: 22 ended. Search finished for the next optimal point.\n",
            "Time taken: 0.4568\n",
            "Function value obtained: -0.5260\n",
            "Current minimum: -0.5986\n",
            "Iteration No: 23 started. Searching for the next optimal point.\n",
            "[3, 18, 10, 6, 'gini']\n",
            "auc_score 0.6292938227922749\n",
            "average: 0.5520443887081814\n",
            "              precision    recall  f1-score   support\n",
            "\n",
            "           0       0.74      0.43      0.54       357\n",
            "           1       0.57      0.83      0.68       323\n",
            "\n",
            "    accuracy                           0.62       680\n",
            "   macro avg       0.65      0.63      0.61       680\n",
            "weighted avg       0.66      0.62      0.60       680\n",
            "\n",
            "Iteration No: 23 ended. Search finished for the next optimal point.\n",
            "Time taken: 0.2842\n",
            "Function value obtained: -0.5520\n",
            "Current minimum: -0.5986\n",
            "Iteration No: 24 started. Searching for the next optimal point.\n",
            "[4, 15, 9, 6, 'gini']\n",
            "auc_score 0.6609169983782986\n",
            "average: 0.5838057970458836\n",
            "              precision    recall  f1-score   support\n",
            "\n",
            "           0       0.68      0.68      0.68       357\n",
            "           1       0.64      0.64      0.64       323\n",
            "\n",
            "    accuracy                           0.66       680\n",
            "   macro avg       0.66      0.66      0.66       680\n",
            "weighted avg       0.66      0.66      0.66       680\n",
            "\n",
            "Iteration No: 24 ended. Search finished for the next optimal point.\n",
            "Time taken: 0.2918\n",
            "Function value obtained: -0.5838\n",
            "Current minimum: -0.5986\n",
            "Iteration No: 25 started. Searching for the next optimal point.\n",
            "[4, 19, 10, 6, 'gini']\n",
            "auc_score 0.6630546955624357\n",
            "average: 0.5848409116341526\n",
            "              precision    recall  f1-score   support\n",
            "\n",
            "           0       0.68      0.67      0.68       357\n",
            "           1       0.64      0.66      0.65       323\n",
            "\n",
            "    accuracy                           0.66       680\n",
            "   macro avg       0.66      0.66      0.66       680\n",
            "weighted avg       0.66      0.66      0.66       680\n",
            "\n",
            "Iteration No: 25 ended. Search finished for the next optimal point.\n",
            "Time taken: 0.2860\n",
            "Function value obtained: -0.5848\n",
            "Current minimum: -0.5986\n",
            "Iteration No: 26 started. Searching for the next optimal point.\n",
            "[5, 30, 9, 6, 'gini']\n",
            "auc_score 0.6679197994987468\n",
            "average: 0.5903260509764978\n",
            "              precision    recall  f1-score   support\n",
            "\n",
            "           0       0.68      0.69      0.69       357\n",
            "           1       0.65      0.64      0.65       323\n",
            "\n",
            "    accuracy                           0.67       680\n",
            "   macro avg       0.67      0.67      0.67       680\n",
            "weighted avg       0.67      0.67      0.67       680\n",
            "\n",
            "Iteration No: 26 ended. Search finished for the next optimal point.\n",
            "Time taken: 0.2776\n",
            "Function value obtained: -0.5903\n",
            "Current minimum: -0.5986\n",
            "Iteration No: 27 started. Searching for the next optimal point.\n",
            "[6, 29, 9, 6, 'gini']\n",
            "auc_score 0.6620227038183695\n",
            "average: 0.5819214071985749\n",
            "              precision    recall  f1-score   support\n",
            "\n",
            "           0       0.70      0.63      0.66       357\n",
            "           1       0.63      0.70      0.66       323\n",
            "\n",
            "    accuracy                           0.66       680\n",
            "   macro avg       0.66      0.66      0.66       680\n",
            "weighted avg       0.66      0.66      0.66       680\n",
            "\n",
            "Iteration No: 27 ended. Search finished for the next optimal point.\n",
            "Time taken: 0.3064\n",
            "Function value obtained: -0.5819\n",
            "Current minimum: -0.5986\n",
            "Iteration No: 28 started. Searching for the next optimal point.\n",
            "[2, 30, 7, 6, 'gini']\n",
            "auc_score 0.6277458351761758\n",
            "average: 0.550999319278173\n",
            "              precision    recall  f1-score   support\n",
            "\n",
            "           0       0.73      0.43      0.54       357\n",
            "           1       0.57      0.83      0.67       323\n",
            "\n",
            "    accuracy                           0.62       680\n",
            "   macro avg       0.65      0.63      0.61       680\n",
            "weighted avg       0.65      0.62      0.60       680\n",
            "\n",
            "Iteration No: 28 ended. Search finished for the next optimal point.\n",
            "Time taken: 0.2819\n",
            "Function value obtained: -0.5510\n",
            "Current minimum: -0.5986\n",
            "Iteration No: 29 started. Searching for the next optimal point.\n",
            "[2, 20, 9, 6, 'gini']\n",
            "auc_score 0.6277458351761758\n",
            "average: 0.550999319278173\n",
            "              precision    recall  f1-score   support\n",
            "\n",
            "           0       0.73      0.43      0.54       357\n",
            "           1       0.57      0.83      0.67       323\n",
            "\n",
            "    accuracy                           0.62       680\n",
            "   macro avg       0.65      0.63      0.61       680\n",
            "weighted avg       0.65      0.62      0.60       680\n",
            "\n",
            "Iteration No: 29 ended. Search finished for the next optimal point.\n",
            "Time taken: 0.2868\n",
            "Function value obtained: -0.5510\n",
            "Current minimum: -0.5986\n",
            "Iteration No: 30 started. Searching for the next optimal point.\n",
            "[6, 24, 10, 6, 'gini']\n",
            "auc_score 0.6688043638508034\n",
            "average: 0.5997801857585139\n",
            "              precision    recall  f1-score   support\n",
            "\n",
            "           0       0.66      0.79      0.72       357\n",
            "           1       0.70      0.54      0.61       323\n",
            "\n",
            "    accuracy                           0.68       680\n",
            "   macro avg       0.68      0.67      0.67       680\n",
            "weighted avg       0.68      0.68      0.67       680\n",
            "\n",
            "Iteration No: 30 ended. Search finished for the next optimal point.\n",
            "Time taken: 0.2955\n",
            "Function value obtained: -0.5998\n",
            "Current minimum: -0.5998\n",
            "Iteration No: 31 started. Searching for the next optimal point.\n",
            "[6, 24, 10, 6, 'gini']\n",
            "auc_score 0.6688043638508034\n",
            "average: 0.5997801857585139\n",
            "              precision    recall  f1-score   support\n",
            "\n",
            "           0       0.66      0.79      0.72       357\n",
            "           1       0.70      0.54      0.61       323\n",
            "\n",
            "    accuracy                           0.68       680\n",
            "   macro avg       0.68      0.67      0.67       680\n",
            "weighted avg       0.68      0.68      0.67       680\n",
            "\n",
            "Iteration No: 31 ended. Search finished for the next optimal point.\n",
            "Time taken: 0.3155\n",
            "Function value obtained: -0.5998\n",
            "Current minimum: -0.5998\n",
            "Iteration No: 32 started. Searching for the next optimal point.\n",
            "[6, 25, 10, 7, 'gini']\n",
            "auc_score 0.6558307533539732\n",
            "average: 0.5842805812298026\n",
            "              precision    recall  f1-score   support\n",
            "\n",
            "           0       0.66      0.75      0.70       357\n",
            "           1       0.67      0.57      0.61       323\n",
            "\n",
            "    accuracy                           0.66       680\n",
            "   macro avg       0.66      0.66      0.66       680\n",
            "weighted avg       0.66      0.66      0.66       680\n",
            "\n",
            "Iteration No: 32 ended. Search finished for the next optimal point.\n",
            "Time taken: 0.2884\n",
            "Function value obtained: -0.5843\n",
            "Current minimum: -0.5998\n",
            "Iteration No: 33 started. Searching for the next optimal point.\n",
            "[7, 25, 10, 5, 'gini']\n",
            "auc_score 0.6394663128409258\n",
            "average: 0.5682800373213452\n",
            "              precision    recall  f1-score   support\n",
            "\n",
            "           0       0.65      0.70      0.67       357\n",
            "           1       0.64      0.58      0.60       323\n",
            "\n",
            "    accuracy                           0.64       680\n",
            "   macro avg       0.64      0.64      0.64       680\n",
            "weighted avg       0.64      0.64      0.64       680\n",
            "\n",
            "Iteration No: 33 ended. Search finished for the next optimal point.\n",
            "Time taken: 0.3001\n",
            "Function value obtained: -0.5683\n",
            "Current minimum: -0.5998\n",
            "Iteration No: 34 started. Searching for the next optimal point.\n",
            "[4, 25, 10, 6, 'gini']\n",
            "auc_score 0.6630546955624357\n",
            "average: 0.5848409116341526\n",
            "              precision    recall  f1-score   support\n",
            "\n",
            "           0       0.68      0.67      0.68       357\n",
            "           1       0.64      0.66      0.65       323\n",
            "\n",
            "    accuracy                           0.66       680\n",
            "   macro avg       0.66      0.66      0.66       680\n",
            "weighted avg       0.66      0.66      0.66       680\n",
            "\n",
            "Iteration No: 34 ended. Search finished for the next optimal point.\n",
            "Time taken: 0.2962\n",
            "Function value obtained: -0.5848\n",
            "Current minimum: -0.5998\n",
            "Iteration No: 35 started. Searching for the next optimal point.\n",
            "[7, 21, 10, 7, 'gini']\n",
            "auc_score 0.6345274952086096\n",
            "average: 0.5647085981206887\n",
            "              precision    recall  f1-score   support\n",
            "\n",
            "           0       0.64      0.71      0.67       357\n",
            "           1       0.64      0.56      0.60       323\n",
            "\n",
            "    accuracy                           0.64       680\n",
            "   macro avg       0.64      0.63      0.63       680\n",
            "weighted avg       0.64      0.64      0.64       680\n",
            "\n",
            "Iteration No: 35 ended. Search finished for the next optimal point.\n",
            "Time taken: 0.2953\n",
            "Function value obtained: -0.5647\n",
            "Current minimum: -0.5998\n",
            "Iteration No: 36 started. Searching for the next optimal point.\n",
            "[5, 30, 10, 6, 'gini']\n",
            "auc_score 0.6640129736104968\n",
            "average: 0.5862764944034293\n",
            "              precision    recall  f1-score   support\n",
            "\n",
            "           0       0.68      0.68      0.68       357\n",
            "           1       0.65      0.65      0.65       323\n",
            "\n",
            "    accuracy                           0.66       680\n",
            "   macro avg       0.66      0.66      0.66       680\n",
            "weighted avg       0.66      0.66      0.66       680\n",
            "\n",
            "Iteration No: 36 ended. Search finished for the next optimal point.\n",
            "Time taken: 0.2912\n",
            "Function value obtained: -0.5863\n",
            "Current minimum: -0.5998\n",
            "Iteration No: 37 started. Searching for the next optimal point.\n",
            "[6, 22, 10, 6, 'gini']\n",
            "auc_score 0.6688043638508034\n",
            "average: 0.5997801857585139\n",
            "              precision    recall  f1-score   support\n",
            "\n",
            "           0       0.66      0.79      0.72       357\n",
            "           1       0.70      0.54      0.61       323\n",
            "\n",
            "    accuracy                           0.68       680\n",
            "   macro avg       0.68      0.67      0.67       680\n",
            "weighted avg       0.68      0.68      0.67       680\n",
            "\n",
            "Iteration No: 37 ended. Search finished for the next optimal point.\n",
            "Time taken: 0.3068\n",
            "Function value obtained: -0.5998\n",
            "Current minimum: -0.5998\n",
            "Iteration No: 38 started. Searching for the next optimal point.\n",
            "[6, 22, 10, 6, 'gini']\n",
            "auc_score 0.6688043638508034\n",
            "average: 0.5997801857585139\n",
            "              precision    recall  f1-score   support\n",
            "\n",
            "           0       0.66      0.79      0.72       357\n",
            "           1       0.70      0.54      0.61       323\n",
            "\n",
            "    accuracy                           0.68       680\n",
            "   macro avg       0.68      0.67      0.67       680\n",
            "weighted avg       0.68      0.68      0.67       680\n",
            "\n",
            "Iteration No: 38 ended. Search finished for the next optimal point.\n",
            "Time taken: 0.2937\n",
            "Function value obtained: -0.5998\n",
            "Current minimum: -0.5998\n",
            "Iteration No: 39 started. Searching for the next optimal point.\n",
            "[6, 23, 10, 5, 'gini']\n",
            "auc_score 0.6466165413533835\n",
            "average: 0.5746130030959753\n",
            "              precision    recall  f1-score   support\n",
            "\n",
            "           0       0.65      0.71      0.68       357\n",
            "           1       0.65      0.58      0.61       323\n",
            "\n",
            "    accuracy                           0.65       680\n",
            "   macro avg       0.65      0.65      0.65       680\n",
            "weighted avg       0.65      0.65      0.65       680\n",
            "\n",
            "Iteration No: 39 ended. Search finished for the next optimal point.\n",
            "Time taken: 0.2924\n",
            "Function value obtained: -0.5746\n",
            "Current minimum: -0.5998\n",
            "Iteration No: 40 started. Searching for the next optimal point.\n",
            "[6, 22, 6, 6, 'gini']\n",
            "auc_score 0.6651186790505677\n",
            "average: 0.5843223254213966\n",
            "              precision    recall  f1-score   support\n",
            "\n",
            "           0       0.70      0.63      0.66       357\n",
            "           1       0.63      0.70      0.66       323\n",
            "\n",
            "    accuracy                           0.66       680\n",
            "   macro avg       0.67      0.67      0.66       680\n",
            "weighted avg       0.67      0.66      0.66       680\n",
            "\n",
            "Iteration No: 40 ended. Search finished for the next optimal point.\n",
            "Time taken: 0.3155\n",
            "Function value obtained: -0.5843\n",
            "Current minimum: -0.5998\n",
            "Iteration No: 41 started. Searching for the next optimal point.\n",
            "[9, 23, 10, 6, 'gini']\n",
            "auc_score 0.6885596343800677\n",
            "average: 0.6044108999083315\n",
            "              precision    recall  f1-score   support\n",
            "\n",
            "           0       0.72      0.65      0.69       357\n",
            "           1       0.65      0.72      0.69       323\n",
            "\n",
            "    accuracy                           0.69       680\n",
            "   macro avg       0.69      0.69      0.69       680\n",
            "weighted avg       0.69      0.69      0.69       680\n",
            "\n",
            "Iteration No: 41 ended. Search finished for the next optimal point.\n",
            "Time taken: 0.3303\n",
            "Function value obtained: -0.6044\n",
            "Current minimum: -0.6044\n",
            "Iteration No: 42 started. Searching for the next optimal point.\n",
            "[14, 23, 10, 6, 'gini']\n",
            "auc_score 0.6604747162022704\n",
            "average: 0.580724518909731\n",
            "              precision    recall  f1-score   support\n",
            "\n",
            "           0       0.69      0.63      0.66       357\n",
            "           1       0.63      0.69      0.66       323\n",
            "\n",
            "    accuracy                           0.66       680\n",
            "   macro avg       0.66      0.66      0.66       680\n",
            "weighted avg       0.66      0.66      0.66       680\n",
            "\n",
            "Iteration No: 42 ended. Search finished for the next optimal point.\n",
            "Time taken: 0.3186\n",
            "Function value obtained: -0.5807\n",
            "Current minimum: -0.6044\n",
            "Iteration No: 43 started. Searching for the next optimal point.\n",
            "[19, 24, 10, 6, 'gini']\n",
            "auc_score 0.6605484298982751\n",
            "average: 0.582230201329987\n",
            "              precision    recall  f1-score   support\n",
            "\n",
            "           0       0.68      0.66      0.67       357\n",
            "           1       0.64      0.67      0.65       323\n",
            "\n",
            "    accuracy                           0.66       680\n",
            "   macro avg       0.66      0.66      0.66       680\n",
            "weighted avg       0.66      0.66      0.66       680\n",
            "\n",
            "Iteration No: 43 ended. Search finished for the next optimal point.\n",
            "Time taken: 0.3241\n",
            "Function value obtained: -0.5822\n",
            "Current minimum: -0.6044\n",
            "Iteration No: 44 started. Searching for the next optimal point.\n",
            "[8, 22, 10, 6, 'gini']\n",
            "auc_score 0.6916556096122659\n",
            "average: 0.6114647832817337\n",
            "              precision    recall  f1-score   support\n",
            "\n",
            "           0       0.71      0.71      0.71       357\n",
            "           1       0.68      0.67      0.67       323\n",
            "\n",
            "    accuracy                           0.69       680\n",
            "   macro avg       0.69      0.69      0.69       680\n",
            "weighted avg       0.69      0.69      0.69       680\n",
            "\n",
            "Iteration No: 44 ended. Search finished for the next optimal point.\n",
            "Time taken: 0.3165\n",
            "Function value obtained: -0.6115\n",
            "Current minimum: -0.6115\n",
            "Iteration No: 45 started. Searching for the next optimal point.\n",
            "[6, 22, 10, 6, 'entropy']\n",
            "auc_score 0.6581895916261241\n",
            "average: 0.5873978677343513\n",
            "              precision    recall  f1-score   support\n",
            "\n",
            "           0       0.65      0.76      0.70       357\n",
            "           1       0.68      0.56      0.61       323\n",
            "\n",
            "    accuracy                           0.66       680\n",
            "   macro avg       0.67      0.66      0.66       680\n",
            "weighted avg       0.67      0.66      0.66       680\n",
            "\n",
            "Iteration No: 45 ended. Search finished for the next optimal point.\n",
            "Time taken: 0.3188\n",
            "Function value obtained: -0.5874\n",
            "Current minimum: -0.6115\n",
            "Iteration No: 46 started. Searching for the next optimal point.\n",
            "[8, 20, 10, 6, 'gini']\n",
            "auc_score 0.6662243844906384\n",
            "average: 0.589140744016905\n",
            "              precision    recall  f1-score   support\n",
            "\n",
            "           0       0.68      0.69      0.69       357\n",
            "           1       0.65      0.64      0.65       323\n",
            "\n",
            "    accuracy                           0.67       680\n",
            "   macro avg       0.67      0.67      0.67       680\n",
            "weighted avg       0.67      0.67      0.67       680\n",
            "\n",
            "Iteration No: 46 ended. Search finished for the next optimal point.\n",
            "Time taken: 0.2992\n",
            "Function value obtained: -0.5891\n",
            "Current minimum: -0.6115\n",
            "Iteration No: 47 started. Searching for the next optimal point.\n",
            "[2, 23, 10, 6, 'entropy']\n",
            "auc_score 0.6277458351761758\n",
            "average: 0.550999319278173\n",
            "              precision    recall  f1-score   support\n",
            "\n",
            "           0       0.73      0.43      0.54       357\n",
            "           1       0.57      0.83      0.67       323\n",
            "\n",
            "    accuracy                           0.62       680\n",
            "   macro avg       0.65      0.63      0.61       680\n",
            "weighted avg       0.65      0.62      0.60       680\n",
            "\n",
            "Iteration No: 47 ended. Search finished for the next optimal point.\n",
            "Time taken: 0.3001\n",
            "Function value obtained: -0.5510\n",
            "Current minimum: -0.6115\n",
            "Iteration No: 48 started. Searching for the next optimal point.\n",
            "[8, 23, 7, 6, 'gini']\n",
            "auc_score 0.6658558160106148\n",
            "average: 0.5874050098508303\n",
            "              precision    recall  f1-score   support\n",
            "\n",
            "           0       0.69      0.67      0.68       357\n",
            "           1       0.65      0.66      0.65       323\n",
            "\n",
            "    accuracy                           0.67       680\n",
            "   macro avg       0.67      0.67      0.67       680\n",
            "weighted avg       0.67      0.67      0.67       680\n",
            "\n",
            "Iteration No: 48 ended. Search finished for the next optimal point.\n",
            "Time taken: 0.4630\n",
            "Function value obtained: -0.5874\n",
            "Current minimum: -0.6115\n",
            "Iteration No: 49 started. Searching for the next optimal point.\n",
            "[8, 9, 10, 6, 'gini']\n",
            "auc_score 0.6662243844906384\n",
            "average: 0.589140744016905\n",
            "              precision    recall  f1-score   support\n",
            "\n",
            "           0       0.68      0.69      0.69       357\n",
            "           1       0.65      0.64      0.65       323\n",
            "\n",
            "    accuracy                           0.67       680\n",
            "   macro avg       0.67      0.67      0.67       680\n",
            "weighted avg       0.67      0.67      0.67       680\n",
            "\n",
            "Iteration No: 49 ended. Search finished for the next optimal point.\n",
            "Time taken: 0.3013\n",
            "Function value obtained: -0.5891\n",
            "Current minimum: -0.6115\n",
            "Iteration No: 50 started. Searching for the next optimal point.\n",
            "[17, 22, 10, 6, 'gini']\n",
            "auc_score 0.6677723721067375\n",
            "average: 0.5868325390475528\n",
            "              precision    recall  f1-score   support\n",
            "\n",
            "           0       0.70      0.64      0.67       357\n",
            "           1       0.63      0.70      0.67       323\n",
            "\n",
            "    accuracy                           0.67       680\n",
            "   macro avg       0.67      0.67      0.67       680\n",
            "weighted avg       0.67      0.67      0.67       680\n",
            "\n",
            "Iteration No: 50 ended. Search finished for the next optimal point.\n",
            "Time taken: 0.3007\n",
            "Function value obtained: -0.5868\n",
            "Current minimum: -0.6115\n"
          ],
          "name": "stdout"
        }
      ]
    },
    {
      "cell_type": "code",
      "metadata": {
        "colab": {
          "base_uri": "https://localhost:8080/"
        },
        "id": "pbmaTZ02DcBA",
        "outputId": "7ae3d9b7-59c5-4114-dce2-c9db757cbd43"
      },
      "source": [
        "result.x"
      ],
      "execution_count": 139,
      "outputs": [
        {
          "output_type": "execute_result",
          "data": {
            "text/plain": [
              "[8, 22, 10, 6, 'gini']"
            ]
          },
          "metadata": {
            "tags": []
          },
          "execution_count": 139
        }
      ]
    },
    {
      "cell_type": "code",
      "metadata": {
        "colab": {
          "base_uri": "https://localhost:8080/",
          "height": 416
        },
        "id": "EdNoJPS7DgmR",
        "outputId": "5d175a1b-ae4e-41b6-fcc2-ec8e69059be9"
      },
      "source": [
        "params = result.x\n",
        "max_depth = params[0]\n",
        "min_samples_split = params[1]\n",
        "min_samples_leaf = params[2]\n",
        "max_features = params[3]\n",
        "criterion = params[4]\n",
        "\n",
        "tree = DecisionTreeClassifier(max_depth=max_depth,\n",
        "                                  min_samples_split=min_samples_split,\n",
        "                                  min_samples_leaf=min_samples_leaf,\n",
        "                                  max_features=max_features,\n",
        "                                  criterion=criterion,\n",
        "                                  random_state=42,\n",
        "                                  class_weight='balanced')\n",
        "tree.fit(X_train,y_train)\n",
        "predicted_tree = tree.predict(X_test)\n",
        "\n",
        "report = classification_report(y_test, predicted_tree)\n",
        "print(report)\n",
        "\n",
        "\n",
        "\n",
        "cm = confusion_matrix(y_test, predicted_tree)\n",
        "sns.heatmap(cm, center=True)\n",
        "plt.show()\n"
      ],
      "execution_count": 140,
      "outputs": [
        {
          "output_type": "stream",
          "text": [
            "              precision    recall  f1-score   support\n",
            "\n",
            "           0       0.71      0.71      0.71       357\n",
            "           1       0.68      0.67      0.67       323\n",
            "\n",
            "    accuracy                           0.69       680\n",
            "   macro avg       0.69      0.69      0.69       680\n",
            "weighted avg       0.69      0.69      0.69       680\n",
            "\n"
          ],
          "name": "stdout"
        },
        {
          "output_type": "display_data",
          "data": {
            "image/png": "[encoded data removed]",
            "text/plain": [
              "<Figure size 432x288 with 2 Axes>"
            ]
          },
          "metadata": {
            "tags": [],
            "needs_background": "light"
          }
        }
      ]
    },
    {
      "cell_type": "markdown",
      "metadata": {
        "id": "czuETrZiMEsf"
      },
      "source": [
        "### Agora vamos utilizar o Naive Bayes"
      ]
    },
    {
      "cell_type": "code",
      "metadata": {
        "id": "rS9yXQ0tW12g"
      },
      "source": [
        "from sklearn.naive_bayes import GaussianNB\n",
        "model = GaussianNB()\n",
        "model.fit(Xtrain, ytrain)\n",
        "y_model = model.predict(Xtest)\n",
        "ypred_train = model.predict(Xtrain)"
      ],
      "execution_count": 146,
      "outputs": []
    },
    {
      "cell_type": "code",
      "metadata": {
        "colab": {
          "base_uri": "https://localhost:8080/"
        },
        "id": "206oXoC3YDxi",
        "outputId": "78bd3dc8-052d-4f9e-a70f-2ccaede137b6"
      },
      "source": [
        "from sklearn.metrics import accuracy_score\n",
        "from sklearn.metrics import accuracy_score\n",
        "print(\"ACC TRAINING:\" + str(accuracy_score(ytrain, ypred_train)))\n",
        "print(\"ACC TEST:\" + str(accuracy_score(ytest, y_model)))"
      ],
      "execution_count": 147,
      "outputs": [
        {
          "output_type": "stream",
          "text": [
            "ACC TRAINING:0.563297350343474\n",
            "ACC TEST:0.5602941176470588\n"
          ],
          "name": "stdout"
        }
      ]
    },
    {
      "cell_type": "code",
      "metadata": {
        "colab": {
          "base_uri": "https://localhost:8080/",
          "height": 279
        },
        "id": "eLxg4ebDo2Ld",
        "outputId": "9591867e-1a43-4d65-827d-365c930624a5"
      },
      "source": [
        "from sklearn.metrics import confusion_matrix\n",
        "\n",
        "mat = confusion_matrix(ytest, y_model)\n",
        "\n",
        "sns.heatmap(mat, square=True, annot=True, cbar=False)\n",
        "plt.xlabel('predicted value')\n",
        "plt.ylabel('true value');"
      ],
      "execution_count": 148,
      "outputs": [
        {
          "output_type": "display_data",
          "data": {
            "image/png": "[encoded data removed]",
            "text/plain": [
              "<Figure size 432x288 with 1 Axes>"
            ]
          },
          "metadata": {
            "tags": [],
            "needs_background": "light"
          }
        }
      ]
    },
    {
      "cell_type": "markdown",
      "metadata": {
        "id": "T3BaiCDLo8z9"
      },
      "source": [
        "### Utilizando KNN"
      ]
    },
    {
      "cell_type": "code",
      "metadata": {
        "id": "piHcjBuFpBhe"
      },
      "source": [
        "from sklearn.neighbors import KNeighborsClassifier\n",
        "model = KNeighborsClassifier(n_neighbors=1)"
      ],
      "execution_count": 149,
      "outputs": []
    },
    {
      "cell_type": "code",
      "metadata": {
        "id": "Hea57ayOpCuS"
      },
      "source": [
        "model.fit(X, y)\n",
        "y_model = model.predict(X)"
      ],
      "execution_count": 150,
      "outputs": []
    },
    {
      "cell_type": "code",
      "metadata": {
        "colab": {
          "base_uri": "https://localhost:8080/"
        },
        "id": "MvdQEIvLpHBj",
        "outputId": "8577fcf6-3496-449d-a495-dc634676697a"
      },
      "source": [
        "from sklearn.metrics import accuracy_score\n",
        "accuracy_score(y, y_model)"
      ],
      "execution_count": 151,
      "outputs": [
        {
          "output_type": "execute_result",
          "data": {
            "text/plain": [
              "1.0"
            ]
          },
          "metadata": {
            "tags": []
          },
          "execution_count": 151
        }
      ]
    },
    {
      "cell_type": "code",
      "metadata": {
        "colab": {
          "base_uri": "https://localhost:8080/"
        },
        "id": "zxgRrl-upJYF",
        "outputId": "cd9fe66c-ebbe-4d13-876f-0264f8246020"
      },
      "source": [
        "# criação do holdout: divide em treinamento e teste\n",
        "from sklearn.model_selection import train_test_split\n",
        "X1, X2, y1, y2 = train_test_split(X, y, random_state=0,\n",
        "                                  train_size=0.5)\n",
        "\n",
        "# criação do modelo sobre o conjunto de treinamento\n",
        "model.fit(X1, y1)\n",
        "\n",
        "# avaliação do modelo no conjunto de teste\n",
        "y2_model = model.predict(X2)\n",
        "accuracy_score(y2, y2_model)"
      ],
      "execution_count": 152,
      "outputs": [
        {
          "output_type": "execute_result",
          "data": {
            "text/plain": [
              "0.5334805003679176"
            ]
          },
          "metadata": {
            "tags": []
          },
          "execution_count": 152
        }
      ]
    },
    {
      "cell_type": "code",
      "metadata": {
        "colab": {
          "base_uri": "https://localhost:8080/"
        },
        "id": "VUjOLYZhpOg1",
        "outputId": "d6addbfa-0cc6-4727-dcf6-4da4d690198c"
      },
      "source": [
        "y1_model = model.fit(X1, y1).predict(X1)\n",
        "y2_model = model.fit(X1, y1).predict(X2)\n",
        "accuracy_score(y1, y1_model), accuracy_score(y2, y2_model)"
      ],
      "execution_count": 153,
      "outputs": [
        {
          "output_type": "execute_result",
          "data": {
            "text/plain": [
              "(1.0, 0.5334805003679176)"
            ]
          },
          "metadata": {
            "tags": []
          },
          "execution_count": 153
        }
      ]
    },
    {
      "cell_type": "code",
      "metadata": {
        "colab": {
          "base_uri": "https://localhost:8080/"
        },
        "id": "9l11sAT_pUcw",
        "outputId": "b29bec01-afea-414b-c91a-1ffb81bd036e"
      },
      "source": [
        "from sklearn.model_selection import cross_val_score\n",
        "cross_val_score(model, X, y, cv=5)"
      ],
      "execution_count": 154,
      "outputs": [
        {
          "output_type": "execute_result",
          "data": {
            "text/plain": [
              "array([0.52205882, 0.54779412, 0.49264706, 0.49539595, 0.5359116 ])"
            ]
          },
          "metadata": {
            "tags": []
          },
          "execution_count": 154
        }
      ]
    },
    {
      "cell_type": "code",
      "metadata": {
        "colab": {
          "base_uri": "https://localhost:8080/"
        },
        "id": "1mHmE-VnpW9e",
        "outputId": "1cfe2440-42ca-4b38-cacb-2d46793cfc4d"
      },
      "source": [
        "from sklearn.neighbors import KNeighborsClassifier\n",
        "from sklearn.model_selection import cross_val_score\n",
        "import matplotlib.pyplot as plt\n",
        "\n",
        "\n",
        "# varia o k de 1 a 30\n",
        "k_range = range(1, 31)\n",
        "\n",
        "k_scores = []\n",
        "\n",
        "for k in k_range:\n",
        "    knn = KNeighborsClassifier(n_neighbors=k)\n",
        "    scores = cross_val_score(knn, X, y, cv=10, scoring='accuracy')\n",
        "    k_scores.append(scores.mean())\n",
        "print(k_scores)"
      ],
      "execution_count": 155,
      "outputs": [
        {
          "output_type": "stream",
          "text": [
            "[0.5184081289342305, 0.5117769155632732, 0.5154466029954418, 0.523186184067723, 0.5220737464727587, 0.5294416105925766, 0.525014922943347, 0.5194947905361407, 0.531260853049707, 0.5231780442804428, 0.5213384523551119, 0.5298065443889733, 0.5334830149772086, 0.5367864119817669, 0.5319947905361406, 0.5349359670067289, 0.5356685478619492, 0.53088777946603, 0.5286764705882353, 0.5283196765791187, 0.5279411764705882, 0.5382583568482744, 0.5253825700021706, 0.5312635663121337, 0.5272235185587151, 0.533473518558715, 0.5404655958324288, 0.5375284892554808, 0.5412076731061428, 0.5426741914477968]\n"
          ],
          "name": "stdout"
        }
      ]
    },
    {
      "cell_type": "code",
      "metadata": {
        "colab": {
          "base_uri": "https://localhost:8080/",
          "height": 296
        },
        "id": "ER0o6Z4epka_",
        "outputId": "63aba2a0-b503-446b-cbb3-e8a21c721a8f"
      },
      "source": [
        "\n",
        "# plotando o valor de K versus a acurácia no cross-validation\n",
        "plt.plot(k_range, k_scores)\n",
        "plt.xlabel('Value of K for KNN')\n",
        "plt.ylabel('Cross-Validated Accuracy')"
      ],
      "execution_count": 156,
      "outputs": [
        {
          "output_type": "execute_result",
          "data": {
            "text/plain": [
              "Text(0, 0.5, 'Cross-Validated Accuracy')"
            ]
          },
          "metadata": {
            "tags": []
          },
          "execution_count": 156
        },
        {
          "output_type": "display_data",
          "data": {
            "image/png": "[encoded data removed]",
            "text/plain": [
              "<Figure size 432x288 with 1 Axes>"
            ]
          },
          "metadata": {
            "tags": [],
            "needs_background": "light"
          }
        }
      ]
    },
    {
      "cell_type": "code",
      "metadata": {
        "colab": {
          "base_uri": "https://localhost:8080/"
        },
        "id": "FgkUtyGWppaZ",
        "outputId": "dd0277db-915f-4d4d-f9c5-35daa224eb43"
      },
      "source": [
        "#desempenho no treinamento e teste\n",
        "model = KNeighborsClassifier(n_neighbors=31)\n",
        "y1_model = model.fit(X1, y1).predict(X1)\n",
        "y2_model = model.fit(X1, y1).predict(X2)\n",
        "accuracy_score(y1, y1_model), accuracy_score(y2, y2_model)"
      ],
      "execution_count": 157,
      "outputs": [
        {
          "output_type": "execute_result",
          "data": {
            "text/plain": [
              "(0.6026490066225165, 0.543046357615894)"
            ]
          },
          "metadata": {
            "tags": []
          },
          "execution_count": 157
        }
      ]
    },
    {
      "cell_type": "markdown",
      "metadata": {
        "id": "CTMfNa8Wp9Na"
      },
      "source": [
        "### Random Forest Classifier"
      ]
    },
    {
      "cell_type": "code",
      "metadata": {
        "id": "P75fFjb5qB60"
      },
      "source": [
        "from sklearn.model_selection import train_test_split\n",
        "from sklearn.ensemble import RandomForestClassifier\n",
        "\n",
        "model = RandomForestClassifier(n_estimators=1000)\n",
        "model.fit(Xtrain, ytrain)\n",
        "ypred = model.predict(Xtest)\n",
        "ypred_train = model.predict(Xtrain)"
      ],
      "execution_count": 231,
      "outputs": []
    },
    {
      "cell_type": "code",
      "metadata": {
        "colab": {
          "base_uri": "https://localhost:8080/"
        },
        "id": "yToZgD39qE1L",
        "outputId": "99034862-0128-41f9-a2ee-93d8543d129a"
      },
      "source": [
        "\n",
        "from sklearn.metrics import accuracy_score\n",
        "print(\"ACC TRAINING:\" + str(accuracy_score(ytrain, ypred_train)))\n",
        "print(\"ACC TEST:\" + str(accuracy_score(ytest, ypred)))"
      ],
      "execution_count": 232,
      "outputs": [
        {
          "output_type": "stream",
          "text": [
            "ACC TRAINING:1.0\n",
            "ACC TEST:0.8132352941176471\n"
          ],
          "name": "stdout"
        }
      ]
    },
    {
      "cell_type": "code",
      "metadata": {
        "colab": {
          "base_uri": "https://localhost:8080/",
          "height": 279
        },
        "id": "Yoagaw_IqKpS",
        "outputId": "1e2c3029-205a-4c5c-ac72-d630aceb9454"
      },
      "source": [
        "from sklearn.metrics import confusion_matrix\n",
        "mat = confusion_matrix(ytest, ypred)\n",
        "sns.heatmap(mat.T, square=True, annot=True, fmt='d', cbar=False)\n",
        "plt.xlabel('true label')\n",
        "plt.ylabel('predicted label');"
      ],
      "execution_count": 233,
      "outputs": [
        {
          "output_type": "display_data",
          "data": {
            "image/png": "[encoded data removed]",
            "text/plain": [
              "<Figure size 432x288 with 1 Axes>"
            ]
          },
          "metadata": {
            "tags": [],
            "needs_background": "light"
          }
        }
      ]
    },
    {
      "cell_type": "markdown",
      "metadata": {
        "id": "aGNg3a8vvxEe"
      },
      "source": [
        "## Vamos agora utilizar como atributo target *averageRatingConverted*"
      ]
    },
    {
      "cell_type": "code",
      "metadata": {
        "id": "AxxfZfm9sBHr"
      },
      "source": [
        "X = filmedfcl.drop(['average_dist', 'pp_desc','averageRatingConverted'], axis=1)\n",
        "y = filmedfcl['averageRatingConverted']"
      ],
      "execution_count": 164,
      "outputs": []
    },
    {
      "cell_type": "markdown",
      "metadata": {
        "id": "Hwv0wHwxwx1Y"
      },
      "source": [
        "### Primeiro utilizaremos o Decision Tree Classifier:"
      ]
    },
    {
      "cell_type": "code",
      "metadata": {
        "id": "_1NG7FhHwx1Y"
      },
      "source": [
        "X_train, X_test, y_train, y_test = train_test_split(X, y, random_state=1)"
      ],
      "execution_count": 166,
      "outputs": []
    },
    {
      "cell_type": "code",
      "metadata": {
        "colab": {
          "base_uri": "https://localhost:8080/"
        },
        "id": "pfFATLfJwx1Z",
        "outputId": "c9270e68-574c-44a0-ee77-74cb6b4c5642"
      },
      "source": [
        "tree = DecisionTreeClassifier()\n",
        "tree.fit(X_train, y_train)"
      ],
      "execution_count": 168,
      "outputs": [
        {
          "output_type": "execute_result",
          "data": {
            "text/plain": [
              "DecisionTreeClassifier(ccp_alpha=0.0, class_weight=None, criterion='gini',\n",
              "                       max_depth=None, max_features=None, max_leaf_nodes=None,\n",
              "                       min_impurity_decrease=0.0, min_impurity_split=None,\n",
              "                       min_samples_leaf=1, min_samples_split=2,\n",
              "                       min_weight_fraction_leaf=0.0, presort='deprecated',\n",
              "                       random_state=None, splitter='best')"
            ]
          },
          "metadata": {
            "tags": []
          },
          "execution_count": 168
        }
      ]
    },
    {
      "cell_type": "markdown",
      "metadata": {
        "id": "616dG25YKZz9"
      },
      "source": [
        "#### Analisando a árvore"
      ]
    },
    {
      "cell_type": "code",
      "metadata": {
        "id": "pF-KRitOKdGb",
        "outputId": "08151d56-e7ea-41c2-f0d7-c1b70c8ef9c5",
        "colab": {
          "base_uri": "https://localhost:8080/"
        }
      },
      "source": [
        "from sklearn.tree import plot_tree\n",
        "%matplotlib inline\n",
        "%pylab inline"
      ],
      "execution_count": 235,
      "outputs": [
        {
          "output_type": "stream",
          "text": [
            "Populating the interactive namespace from numpy and matplotlib\n"
          ],
          "name": "stdout"
        }
      ]
    },
    {
      "cell_type": "code",
      "metadata": {
        "colab": {
          "base_uri": "https://localhost:8080/"
        },
        "id": "fNEiHcbqwx1Z",
        "outputId": "4efe84a5-01f8-40a0-fb6a-15ee667c1b5b"
      },
      "source": [
        "target_names = np.unique(y)\n",
        "columns = X_train.columns\n",
        "# Creates dot file named tree.dot\n",
        "export_graphviz(\n",
        "            tree,\n",
        "            out_file =  \"tree_titanic.dot\",\n",
        "            feature_names = list(X.columns))\n",
        "\n",
        "from subprocess import call\n",
        "\n",
        "call(['dot', '-T', 'png', 'Movies.dot', '-o', 'tree_movies.png'])"
      ],
      "execution_count": 169,
      "outputs": [
        {
          "output_type": "execute_result",
          "data": {
            "text/plain": [
              "2"
            ]
          },
          "metadata": {
            "tags": []
          },
          "execution_count": 169
        }
      ]
    },
    {
      "cell_type": "code",
      "metadata": {
        "id": "8DlW5eylKd0H",
        "outputId": "32d2921b-4277-42ff-b662-49919bfb93b5",
        "colab": {
          "base_uri": "https://localhost:8080/",
          "height": 1000
        }
      },
      "source": [
        "fig, ax = pylab.subplots(1, 1, figsize = (15,15))\n",
        "plot_tree(tree, ax = ax, feature_names=X.columns)"
      ],
      "execution_count": 238,
      "outputs": [
        {
          "output_type": "error",
          "ename": "AttributeError",
          "evalue": "ignored",
          "traceback": [
            "\u001b[0;31m---------------------------------------------------------------------------\u001b[0m",
            "\u001b[0;31mAttributeError\u001b[0m                            Traceback (most recent call last)",
            "\u001b[0;32m<ipython-input-238-3c7a47b48f66>\u001b[0m in \u001b[0;36m<module>\u001b[0;34m()\u001b[0m\n\u001b[1;32m      1\u001b[0m \u001b[0mfig\u001b[0m\u001b[0;34m,\u001b[0m \u001b[0max\u001b[0m \u001b[0;34m=\u001b[0m \u001b[0mpylab\u001b[0m\u001b[0;34m.\u001b[0m\u001b[0msubplots\u001b[0m\u001b[0;34m(\u001b[0m\u001b[0;36m1\u001b[0m\u001b[0;34m,\u001b[0m \u001b[0;36m1\u001b[0m\u001b[0;34m,\u001b[0m \u001b[0mfigsize\u001b[0m \u001b[0;34m=\u001b[0m \u001b[0;34m(\u001b[0m\u001b[0;36m15\u001b[0m\u001b[0;34m,\u001b[0m\u001b[0;36m15\u001b[0m\u001b[0;34m)\u001b[0m\u001b[0;34m)\u001b[0m\u001b[0;34m\u001b[0m\u001b[0;34m\u001b[0m\u001b[0m\n\u001b[0;32m----> 2\u001b[0;31m \u001b[0mplot_tree\u001b[0m\u001b[0;34m(\u001b[0m\u001b[0mtree\u001b[0m\u001b[0;34m,\u001b[0m \u001b[0max\u001b[0m \u001b[0;34m=\u001b[0m \u001b[0max\u001b[0m\u001b[0;34m,\u001b[0m \u001b[0mfeature_names\u001b[0m\u001b[0;34m=\u001b[0m\u001b[0mX\u001b[0m\u001b[0;34m.\u001b[0m\u001b[0mcolumns\u001b[0m\u001b[0;34m)\u001b[0m\u001b[0;34m\u001b[0m\u001b[0;34m\u001b[0m\u001b[0m\n\u001b[0m",
            "\u001b[0;32m/usr/local/lib/python3.7/dist-packages/pandas/core/generic.py\u001b[0m in \u001b[0;36m__getattr__\u001b[0;34m(self, name)\u001b[0m\n\u001b[1;32m   5139\u001b[0m             \u001b[0;32mif\u001b[0m \u001b[0mself\u001b[0m\u001b[0;34m.\u001b[0m\u001b[0m_info_axis\u001b[0m\u001b[0;34m.\u001b[0m\u001b[0m_can_hold_identifiers_and_holds_name\u001b[0m\u001b[0;34m(\u001b[0m\u001b[0mname\u001b[0m\u001b[0;34m)\u001b[0m\u001b[0;34m:\u001b[0m\u001b[0;34m\u001b[0m\u001b[0;34m\u001b[0m\u001b[0m\n\u001b[1;32m   5140\u001b[0m                 \u001b[0;32mreturn\u001b[0m \u001b[0mself\u001b[0m\u001b[0;34m[\u001b[0m\u001b[0mname\u001b[0m\u001b[0;34m]\u001b[0m\u001b[0;34m\u001b[0m\u001b[0;34m\u001b[0m\u001b[0m\n\u001b[0;32m-> 5141\u001b[0;31m             \u001b[0;32mreturn\u001b[0m \u001b[0mobject\u001b[0m\u001b[0;34m.\u001b[0m\u001b[0m__getattribute__\u001b[0m\u001b[0;34m(\u001b[0m\u001b[0mself\u001b[0m\u001b[0;34m,\u001b[0m \u001b[0mname\u001b[0m\u001b[0;34m)\u001b[0m\u001b[0;34m\u001b[0m\u001b[0;34m\u001b[0m\u001b[0m\n\u001b[0m\u001b[1;32m   5142\u001b[0m \u001b[0;34m\u001b[0m\u001b[0m\n\u001b[1;32m   5143\u001b[0m     \u001b[0;32mdef\u001b[0m \u001b[0m__setattr__\u001b[0m\u001b[0;34m(\u001b[0m\u001b[0mself\u001b[0m\u001b[0;34m,\u001b[0m \u001b[0mname\u001b[0m\u001b[0;34m:\u001b[0m \u001b[0mstr\u001b[0m\u001b[0;34m,\u001b[0m \u001b[0mvalue\u001b[0m\u001b[0;34m)\u001b[0m \u001b[0;34m->\u001b[0m \u001b[0;32mNone\u001b[0m\u001b[0;34m:\u001b[0m\u001b[0;34m\u001b[0m\u001b[0;34m\u001b[0m\u001b[0m\n",
            "\u001b[0;31mAttributeError\u001b[0m: 'Series' object has no attribute 'columns'"
          ]
        },
        {
          "output_type": "display_data",
          "data": {
            "image/png": "[encoded data removed]",
            "text/plain": [
              "<Figure size 1080x1080 with 1 Axes>"
            ]
          },
          "metadata": {
            "tags": [],
            "needs_background": "light"
          }
        }
      ]
    },
    {
      "cell_type": "code",
      "metadata": {
        "colab": {
          "base_uri": "https://localhost:8080/",
          "height": 265
        },
        "id": "TvEYPtgAwx1Z",
        "outputId": "819441cf-fe49-42e3-86dd-75187747e0de"
      },
      "source": [
        "predicted = tree.predict(X_test)\n",
        "\n",
        "cm = confusion_matrix(y_test, predicted)\n",
        "sns.heatmap(cm, center=True)\n",
        "plt.show()"
      ],
      "execution_count": 170,
      "outputs": [
        {
          "output_type": "display_data",
          "data": {
            "image/png": "[encoded data removed]",
            "text/plain": [
              "<Figure size 432x288 with 2 Axes>"
            ]
          },
          "metadata": {
            "tags": [],
            "needs_background": "light"
          }
        }
      ]
    },
    {
      "cell_type": "code",
      "metadata": {
        "colab": {
          "base_uri": "https://localhost:8080/"
        },
        "id": "7wZp-0Fmwx1Z",
        "outputId": "4a289238-cf66-44d0-e684-125fe0aa7e6f"
      },
      "source": [
        "report = classification_report(y_test, predicted)\n",
        "print(report)"
      ],
      "execution_count": 171,
      "outputs": [
        {
          "output_type": "stream",
          "text": [
            "              precision    recall  f1-score   support\n",
            "\n",
            "           0       0.78      0.77      0.78       479\n",
            "           1       0.47      0.47      0.47       201\n",
            "\n",
            "    accuracy                           0.68       680\n",
            "   macro avg       0.62      0.62      0.62       680\n",
            "weighted avg       0.68      0.68      0.68       680\n",
            "\n"
          ],
          "name": "stdout"
        }
      ]
    },
    {
      "cell_type": "code",
      "metadata": {
        "colab": {
          "base_uri": "https://localhost:8080/"
        },
        "id": "D1FTu2JQwx1a",
        "outputId": "93e32326-f56c-4c53-9773-eaef398121de"
      },
      "source": [
        "from sklearn.metrics import roc_auc_score, average_precision_score\n",
        "print(np.round(average_precision_score(y_test, predicted),4))\n",
        "print(np.round(roc_auc_score(y_test, predicted),4))"
      ],
      "execution_count": 174,
      "outputs": [
        {
          "output_type": "stream",
          "text": [
            "0.375\n",
            "0.6211\n"
          ],
          "name": "stdout"
        }
      ]
    },
    {
      "cell_type": "code",
      "metadata": {
        "colab": {
          "base_uri": "https://localhost:8080/"
        },
        "id": "DNMddYxgwx1a",
        "outputId": "0f873bcc-5731-4e79-f5a2-e9ad172c677d"
      },
      "source": [
        "def tune_dtree(params):\n",
        "    print(params)\n",
        "    max_depth = params[0]\n",
        "    min_samples_split = params[1]\n",
        "    min_samples_leaf = params[2]\n",
        "    max_features = params[3]\n",
        "    criterion = params[4]\n",
        "\n",
        "    tree = DecisionTreeClassifier(max_depth=max_depth,\n",
        "                                  min_samples_split=min_samples_split,\n",
        "                                  min_samples_leaf=min_samples_leaf,\n",
        "                                  max_features=max_features,\n",
        "                                  criterion=criterion,\n",
        "                                  random_state=42,\n",
        "                                  class_weight='balanced')\n",
        "    \n",
        "    tree.fit(X_train,y_train)\n",
        "\n",
        "    predicted = tree.predict(X_test)\n",
        "    print('auc_score', roc_auc_score(y_test, predicted))\n",
        "    print('average:',average_precision_score(y_test, predicted))\n",
        "    report = classification_report(y_test, predicted)\n",
        "    print(report)\n",
        "\n",
        "    return -average_precision_score(y_test, predicted)\n",
        "\n",
        "\n",
        "space = [(2,30),(5,30),(1,10),(1,7),('gini','entropy')]\n",
        "\n",
        "result = forest_minimize(tune_dtree, space, random_state=42, n_random_starts=20,n_calls=50, verbose=1)"
      ],
      "execution_count": 175,
      "outputs": [
        {
          "output_type": "stream",
          "text": [
            "Iteration No: 1 started. Evaluating function at random point.\n",
            "[21, 19, 8, 5, 'entropy']\n",
            "auc_score 0.6290727988450233\n",
            "average: 0.3710581081520502\n",
            "              precision    recall  f1-score   support\n",
            "\n",
            "           0       0.80      0.63      0.70       479\n",
            "           1       0.42      0.63      0.50       201\n",
            "\n",
            "    accuracy                           0.63       680\n",
            "   macro avg       0.61      0.63      0.60       680\n",
            "weighted avg       0.69      0.63      0.64       680\n",
            "\n",
            "Iteration No: 1 ended. Evaluation done at random point.\n",
            "Time taken: 0.0224\n",
            "Function value obtained: -0.3711\n",
            "Current minimum: -0.3711\n",
            "Iteration No: 2 started. Evaluating function at random point.\n",
            "[27, 23, 7, 3, 'gini']\n",
            "auc_score 0.6081284599964686\n",
            "average: 0.3562161159576894\n",
            "              precision    recall  f1-score   support\n",
            "\n",
            "           0       0.78      0.62      0.70       479\n",
            "           1       0.40      0.59      0.48       201\n",
            "\n",
            "    accuracy                           0.61       680\n",
            "   macro avg       0.59      0.61      0.59       680\n",
            "weighted avg       0.67      0.61      0.63       680\n",
            "\n",
            "Iteration No: 2 ended. Evaluation done at random point.\n",
            "Time taken: 0.0157\n",
            "Function value obtained: -0.3562\n",
            "Current minimum: -0.3711\n",
            "Iteration No: 3 started. Evaluating function at random point.\n",
            "[22, 8, 8, 3, 'gini']\n",
            "auc_score 0.6588560329874635\n",
            "average: 0.39633674160026633\n",
            "              precision    recall  f1-score   support\n",
            "\n",
            "           0       0.82      0.67      0.74       479\n",
            "           1       0.45      0.65      0.53       201\n",
            "\n",
            "    accuracy                           0.66       680\n",
            "   macro avg       0.64      0.66      0.63       680\n",
            "weighted avg       0.71      0.66      0.68       680\n",
            "\n",
            "Iteration No: 3 ended. Evaluation done at random point.\n",
            "Time taken: 0.0155\n",
            "Function value obtained: -0.3963\n",
            "Current minimum: -0.3963\n",
            "Iteration No: 4 started. Evaluating function at random point.\n",
            "[3, 28, 6, 2, 'gini']\n",
            "auc_score 0.5232812970637418\n",
            "average: 0.30666058989429024\n",
            "              precision    recall  f1-score   support\n",
            "\n",
            "           0       0.72      0.78      0.75       479\n",
            "           1       0.34      0.26      0.30       201\n",
            "\n",
            "    accuracy                           0.63       680\n",
            "   macro avg       0.53      0.52      0.52       680\n",
            "weighted avg       0.60      0.63      0.61       680\n",
            "\n",
            "Iteration No: 4 ended. Evaluation done at random point.\n",
            "Time taken: 0.0121\n",
            "Function value obtained: -0.3067\n",
            "Current minimum: -0.3963\n",
            "Iteration No: 5 started. Evaluating function at random point.\n",
            "[22, 5, 10, 6, 'gini']\n",
            "auc_score 0.6454418928322895\n",
            "average: 0.3830304733358312\n",
            "              precision    recall  f1-score   support\n",
            "\n",
            "           0       0.82      0.62      0.71       479\n",
            "           1       0.43      0.67      0.52       201\n",
            "\n",
            "    accuracy                           0.64       680\n",
            "   macro avg       0.62      0.65      0.61       680\n",
            "weighted avg       0.70      0.64      0.65       680\n",
            "\n",
            "Iteration No: 5 ended. Evaluation done at random point.\n",
            "Time taken: 0.0191\n",
            "Function value obtained: -0.3830\n",
            "Current minimum: -0.3963\n",
            "Iteration No: 6 started. Evaluating function at random point.\n",
            "[26, 21, 10, 4, 'entropy']\n",
            "auc_score 0.6585236655968592\n",
            "average: 0.3934288640829466\n",
            "              precision    recall  f1-score   support\n",
            "\n",
            "           0       0.83      0.63      0.72       479\n",
            "           1       0.44      0.69      0.53       201\n",
            "\n",
            "    accuracy                           0.65       680\n",
            "   macro avg       0.63      0.66      0.63       680\n",
            "weighted avg       0.71      0.65      0.66       680\n",
            "\n",
            "Iteration No: 6 ended. Evaluation done at random point.\n",
            "Time taken: 0.0236\n",
            "Function value obtained: -0.3934\n",
            "Current minimum: -0.3963\n",
            "Iteration No: 7 started. Evaluating function at random point.\n",
            "[16, 19, 3, 4, 'entropy']\n",
            "auc_score 0.6277848752064313\n",
            "average: 0.3695481006358243\n",
            "              precision    recall  f1-score   support\n",
            "\n",
            "           0       0.80      0.61      0.70       479\n",
            "           1       0.41      0.64      0.50       201\n",
            "\n",
            "    accuracy                           0.62       680\n",
            "   macro avg       0.61      0.63      0.60       680\n",
            "weighted avg       0.69      0.62      0.64       680\n",
            "\n",
            "Iteration No: 7 ended. Evaluation done at random point.\n",
            "Time taken: 0.0251\n",
            "Function value obtained: -0.3695\n",
            "Current minimum: -0.3963\n",
            "Iteration No: 8 started. Evaluating function at random point.\n",
            "[26, 7, 5, 3, 'entropy']\n",
            "auc_score 0.6420870594833764\n",
            "average: 0.38352251348300515\n",
            "              precision    recall  f1-score   support\n",
            "\n",
            "           0       0.81      0.67      0.73       479\n",
            "           1       0.44      0.61      0.51       201\n",
            "\n",
            "    accuracy                           0.65       680\n",
            "   macro avg       0.62      0.64      0.62       680\n",
            "weighted avg       0.70      0.65      0.67       680\n",
            "\n",
            "Iteration No: 8 ended. Evaluation done at random point.\n",
            "Time taken: 0.0228\n",
            "Function value obtained: -0.3835\n",
            "Current minimum: -0.3963\n",
            "Iteration No: 9 started. Evaluating function at random point.\n",
            "[10, 11, 2, 4, 'entropy']\n",
            "auc_score 0.6261178450129312\n",
            "average: 0.37118205762630696\n",
            "              precision    recall  f1-score   support\n",
            "\n",
            "           0       0.79      0.67      0.73       479\n",
            "           1       0.43      0.58      0.49       201\n",
            "\n",
            "    accuracy                           0.64       680\n",
            "   macro avg       0.61      0.63      0.61       680\n",
            "weighted avg       0.68      0.64      0.66       680\n",
            "\n",
            "Iteration No: 9 ended. Evaluation done at random point.\n",
            "Time taken: 0.0318\n",
            "Function value obtained: -0.3712\n",
            "Current minimum: -0.3963\n",
            "Iteration No: 10 started. Evaluating function at random point.\n",
            "[15, 22, 10, 1, 'gini']\n",
            "auc_score 0.6085075665513767\n",
            "average: 0.35434963908779804\n",
            "              precision    recall  f1-score   support\n",
            "\n",
            "           0       0.80      0.56      0.65       479\n",
            "           1       0.38      0.66      0.49       201\n",
            "\n",
            "    accuracy                           0.59       680\n",
            "   macro avg       0.59      0.61      0.57       680\n",
            "weighted avg       0.67      0.59      0.60       680\n",
            "\n",
            "Iteration No: 10 ended. Evaluation done at random point.\n",
            "Time taken: 0.0238\n",
            "Function value obtained: -0.3543\n",
            "Current minimum: -0.3963\n",
            "Iteration No: 11 started. Evaluating function at random point.\n",
            "[3, 24, 7, 4, 'gini']\n",
            "auc_score 0.6053085304168094\n",
            "average: 0.35318184379527284\n",
            "              precision    recall  f1-score   support\n",
            "\n",
            "           0       0.79      0.59      0.67       479\n",
            "           1       0.39      0.62      0.48       201\n",
            "\n",
            "    accuracy                           0.60       680\n",
            "   macro avg       0.59      0.61      0.58       680\n",
            "weighted avg       0.67      0.60      0.62       680\n",
            "\n",
            "Iteration No: 11 ended. Evaluation done at random point.\n",
            "Time taken: 0.0179\n",
            "Function value obtained: -0.3532\n",
            "Current minimum: -0.3963\n",
            "Iteration No: 12 started. Evaluating function at random point.\n",
            "[16, 7, 1, 4, 'gini']\n",
            "auc_score 0.5597534249420955\n",
            "average: 0.3260793646404384\n",
            "              precision    recall  f1-score   support\n",
            "\n",
            "           0       0.74      0.66      0.70       479\n",
            "           1       0.36      0.46      0.40       201\n",
            "\n",
            "    accuracy                           0.60       680\n",
            "   macro avg       0.55      0.56      0.55       680\n",
            "weighted avg       0.63      0.60      0.61       680\n",
            "\n",
            "Iteration No: 12 ended. Evaluation done at random point.\n",
            "Time taken: 0.0218\n",
            "Function value obtained: -0.3261\n",
            "Current minimum: -0.3963\n",
            "Iteration No: 13 started. Evaluating function at random point.\n",
            "[5, 6, 6, 6, 'entropy']\n",
            "auc_score 0.6115923513954238\n",
            "average: 0.3603233830845771\n",
            "              precision    recall  f1-score   support\n",
            "\n",
            "           0       0.78      0.67      0.72       479\n",
            "           1       0.41      0.56      0.47       201\n",
            "\n",
            "    accuracy                           0.63       680\n",
            "   macro avg       0.60      0.61      0.60       680\n",
            "weighted avg       0.67      0.63      0.65       680\n",
            "\n",
            "Iteration No: 13 ended. Evaluation done at random point.\n",
            "Time taken: 0.0227\n",
            "Function value obtained: -0.3603\n",
            "Current minimum: -0.3963\n",
            "Iteration No: 14 started. Evaluating function at random point.\n",
            "[23, 22, 10, 4, 'entropy']\n",
            "auc_score 0.6445538487105185\n",
            "average: 0.3814349069133968\n",
            "              precision    recall  f1-score   support\n",
            "\n",
            "           0       0.82      0.61      0.70       479\n",
            "           1       0.42      0.68      0.52       201\n",
            "\n",
            "    accuracy                           0.63       680\n",
            "   macro avg       0.62      0.64      0.61       680\n",
            "weighted avg       0.70      0.63      0.65       680\n",
            "\n",
            "Iteration No: 14 ended. Evaluation done at random point.\n",
            "Time taken: 0.0208\n",
            "Function value obtained: -0.3814\n",
            "Current minimum: -0.3963\n",
            "Iteration No: 15 started. Evaluating function at random point.\n",
            "[5, 18, 8, 6, 'gini']\n",
            "auc_score 0.6091723013325855\n",
            "average: 0.3570068135438088\n",
            "              precision    recall  f1-score   support\n",
            "\n",
            "           0       0.79      0.63      0.70       479\n",
            "           1       0.40      0.59      0.48       201\n",
            "\n",
            "    accuracy                           0.62       680\n",
            "   macro avg       0.59      0.61      0.59       680\n",
            "weighted avg       0.67      0.62      0.63       680\n",
            "\n",
            "Iteration No: 15 ended. Evaluation done at random point.\n",
            "Time taken: 0.0177\n",
            "Function value obtained: -0.3570\n",
            "Current minimum: -0.3963\n",
            "Iteration No: 16 started. Evaluating function at random point.\n",
            "[26, 12, 5, 5, 'gini']\n",
            "auc_score 0.5998660143956627\n",
            "average: 0.35089537101510704\n",
            "              precision    recall  f1-score   support\n",
            "\n",
            "           0       0.78      0.63      0.70       479\n",
            "           1       0.39      0.57      0.46       201\n",
            "\n",
            "    accuracy                           0.61       680\n",
            "   macro avg       0.59      0.60      0.58       680\n",
            "weighted avg       0.66      0.61      0.63       680\n",
            "\n",
            "Iteration No: 16 ended. Evaluation done at random point.\n",
            "Time taken: 0.0227\n",
            "Function value obtained: -0.3509\n",
            "Current minimum: -0.3963\n",
            "Iteration No: 17 started. Evaluating function at random point.\n",
            "[22, 28, 10, 1, 'gini']\n",
            "auc_score 0.5917385930472896\n",
            "average: 0.3438134175479058\n",
            "              precision    recall  f1-score   support\n",
            "\n",
            "           0       0.78      0.56      0.65       479\n",
            "           1       0.37      0.62      0.47       201\n",
            "\n",
            "    accuracy                           0.58       680\n",
            "   macro avg       0.58      0.59      0.56       680\n",
            "weighted avg       0.66      0.58      0.60       680\n",
            "\n",
            "Iteration No: 17 ended. Evaluation done at random point.\n",
            "Time taken: 0.0163\n",
            "Function value obtained: -0.3438\n",
            "Current minimum: -0.3963\n",
            "Iteration No: 18 started. Evaluating function at random point.\n",
            "[29, 17, 9, 5, 'entropy']\n",
            "auc_score 0.6282730398113815\n",
            "average: 0.37088576724222033\n",
            "              precision    recall  f1-score   support\n",
            "\n",
            "           0       0.80      0.63      0.71       479\n",
            "           1       0.42      0.62      0.50       201\n",
            "\n",
            "    accuracy                           0.63       680\n",
            "   macro avg       0.61      0.63      0.60       680\n",
            "weighted avg       0.69      0.63      0.65       680\n",
            "\n",
            "Iteration No: 18 ended. Evaluation done at random point.\n",
            "Time taken: 0.0295\n",
            "Function value obtained: -0.3709\n",
            "Current minimum: -0.3963\n",
            "Iteration No: 19 started. Evaluating function at random point.\n",
            "[2, 29, 7, 1, 'entropy']\n",
            "auc_score 0.6067107053459218\n",
            "average: 0.3510522061309671\n",
            "              precision    recall  f1-score   support\n",
            "\n",
            "           0       0.82      0.46      0.59       479\n",
            "           1       0.37      0.76      0.50       201\n",
            "\n",
            "    accuracy                           0.55       680\n",
            "   macro avg       0.59      0.61      0.54       680\n",
            "weighted avg       0.68      0.55      0.56       680\n",
            "\n",
            "Iteration No: 19 ended. Evaluation done at random point.\n",
            "Time taken: 0.0167\n",
            "Function value obtained: -0.3511\n",
            "Current minimum: -0.3963\n",
            "Iteration No: 20 started. Evaluating function at random point.\n",
            "[13, 12, 8, 7, 'entropy']\n",
            "auc_score 0.6406433386304387\n",
            "average: 0.38254248225651266\n",
            "              precision    recall  f1-score   support\n",
            "\n",
            "           0       0.80      0.67      0.73       479\n",
            "           1       0.44      0.61      0.51       201\n",
            "\n",
            "    accuracy                           0.65       680\n",
            "   macro avg       0.62      0.64      0.62       680\n",
            "weighted avg       0.70      0.65      0.67       680\n",
            "\n",
            "Iteration No: 20 ended. Evaluation done at random point.\n",
            "Time taken: 0.3053\n",
            "Function value obtained: -0.3825\n",
            "Current minimum: -0.3963\n",
            "Iteration No: 21 started. Searching for the next optimal point.\n",
            "[29, 30, 10, 4, 'entropy']\n",
            "auc_score 0.661255310088389\n",
            "average: 0.39631217603208024\n",
            "              precision    recall  f1-score   support\n",
            "\n",
            "           0       0.83      0.64      0.72       479\n",
            "           1       0.44      0.68      0.54       201\n",
            "\n",
            "    accuracy                           0.65       680\n",
            "   macro avg       0.64      0.66      0.63       680\n",
            "weighted avg       0.71      0.65      0.67       680\n",
            "\n",
            "Iteration No: 21 ended. Search finished for the next optimal point.\n",
            "Time taken: 0.2823\n",
            "Function value obtained: -0.3963\n",
            "Current minimum: -0.3963\n",
            "Iteration No: 22 started. Searching for the next optimal point.\n",
            "[28, 25, 10, 1, 'entropy']\n",
            "auc_score 0.6022445185346753\n",
            "average: 0.35001413387607416\n",
            "              precision    recall  f1-score   support\n",
            "\n",
            "           0       0.79      0.54      0.64       479\n",
            "           1       0.38      0.66      0.48       201\n",
            "\n",
            "    accuracy                           0.58       680\n",
            "   macro avg       0.59      0.60      0.56       680\n",
            "weighted avg       0.67      0.58      0.60       680\n",
            "\n",
            "Iteration No: 22 ended. Search finished for the next optimal point.\n",
            "Time taken: 0.2744\n",
            "Function value obtained: -0.3500\n",
            "Current minimum: -0.3963\n",
            "Iteration No: 23 started. Searching for the next optimal point.\n",
            "[28, 6, 10, 3, 'gini']\n",
            "auc_score 0.6423103688239387\n",
            "average: 0.3803380342673347\n",
            "              precision    recall  f1-score   support\n",
            "\n",
            "           0       0.82      0.62      0.70       479\n",
            "           1       0.42      0.67      0.52       201\n",
            "\n",
            "    accuracy                           0.63       680\n",
            "   macro avg       0.62      0.64      0.61       680\n",
            "weighted avg       0.70      0.63      0.65       680\n",
            "\n",
            "Iteration No: 23 ended. Search finished for the next optimal point.\n",
            "Time taken: 0.2814\n",
            "Function value obtained: -0.3803\n",
            "Current minimum: -0.3963\n",
            "Iteration No: 24 started. Searching for the next optimal point.\n",
            "[18, 7, 10, 4, 'gini']\n",
            "auc_score 0.6268968310846603\n",
            "average: 0.3681984872019991\n",
            "              precision    recall  f1-score   support\n",
            "\n",
            "           0       0.81      0.60      0.69       479\n",
            "           1       0.41      0.66      0.50       201\n",
            "\n",
            "    accuracy                           0.61       680\n",
            "   macro avg       0.61      0.63      0.59       680\n",
            "weighted avg       0.69      0.61      0.63       680\n",
            "\n",
            "Iteration No: 24 ended. Search finished for the next optimal point.\n",
            "Time taken: 0.2733\n",
            "Function value obtained: -0.3682\n",
            "Current minimum: -0.3963\n",
            "Iteration No: 25 started. Searching for the next optimal point.\n",
            "[30, 22, 10, 2, 'entropy']\n",
            "auc_score 0.6294726783618443\n",
            "average: 0.3711472382992708\n",
            "              precision    recall  f1-score   support\n",
            "\n",
            "           0       0.80      0.62      0.70       479\n",
            "           1       0.41      0.64      0.50       201\n",
            "\n",
            "    accuracy                           0.63       680\n",
            "   macro avg       0.61      0.63      0.60       680\n",
            "weighted avg       0.69      0.63      0.64       680\n",
            "\n",
            "Iteration No: 25 ended. Search finished for the next optimal point.\n",
            "Time taken: 0.2888\n",
            "Function value obtained: -0.3711\n",
            "Current minimum: -0.3963\n",
            "Iteration No: 26 started. Searching for the next optimal point.\n",
            "[24, 7, 8, 3, 'gini']\n",
            "auc_score 0.6588560329874635\n",
            "average: 0.39633674160026633\n",
            "              precision    recall  f1-score   support\n",
            "\n",
            "           0       0.82      0.67      0.74       479\n",
            "           1       0.45      0.65      0.53       201\n",
            "\n",
            "    accuracy                           0.66       680\n",
            "   macro avg       0.64      0.66      0.63       680\n",
            "weighted avg       0.71      0.66      0.68       680\n",
            "\n",
            "Iteration No: 26 ended. Search finished for the next optimal point.\n",
            "Time taken: 0.2853\n",
            "Function value obtained: -0.3963\n",
            "Current minimum: -0.3963\n",
            "Iteration No: 27 started. Searching for the next optimal point.\n",
            "[23, 8, 7, 3, 'gini']\n",
            "auc_score 0.6117481486097694\n",
            "average: 0.35978980774060443\n",
            "              precision    recall  f1-score   support\n",
            "\n",
            "           0       0.78      0.65      0.71       479\n",
            "           1       0.41      0.57      0.48       201\n",
            "\n",
            "    accuracy                           0.63       680\n",
            "   macro avg       0.60      0.61      0.59       680\n",
            "weighted avg       0.67      0.63      0.64       680\n",
            "\n",
            "Iteration No: 27 ended. Search finished for the next optimal point.\n",
            "Time taken: 0.2850\n",
            "Function value obtained: -0.3598\n",
            "Current minimum: -0.3963\n",
            "Iteration No: 28 started. Searching for the next optimal point.\n",
            "[22, 6, 8, 2, 'gini']\n",
            "auc_score 0.5915152837067272\n",
            "average: 0.3449100235105562\n",
            "              precision    recall  f1-score   support\n",
            "\n",
            "           0       0.77      0.62      0.69       479\n",
            "           1       0.38      0.57      0.46       201\n",
            "\n",
            "    accuracy                           0.60       680\n",
            "   macro avg       0.58      0.59      0.57       680\n",
            "weighted avg       0.66      0.60      0.62       680\n",
            "\n",
            "Iteration No: 28 ended. Search finished for the next optimal point.\n",
            "Time taken: 0.2924\n",
            "Function value obtained: -0.3449\n",
            "Current minimum: -0.3963\n",
            "Iteration No: 29 started. Searching for the next optimal point.\n",
            "[22, 10, 8, 3, 'gini']\n",
            "auc_score 0.6588560329874635\n",
            "average: 0.39633674160026633\n",
            "              precision    recall  f1-score   support\n",
            "\n",
            "           0       0.82      0.67      0.74       479\n",
            "           1       0.45      0.65      0.53       201\n",
            "\n",
            "    accuracy                           0.66       680\n",
            "   macro avg       0.64      0.66      0.63       680\n",
            "weighted avg       0.71      0.66      0.68       680\n",
            "\n",
            "Iteration No: 29 ended. Search finished for the next optimal point.\n",
            "Time taken: 0.2882\n",
            "Function value obtained: -0.3963\n",
            "Current minimum: -0.3963\n",
            "Iteration No: 30 started. Searching for the next optimal point.\n",
            "[22, 13, 8, 3, 'gini']\n",
            "auc_score 0.6588560329874635\n",
            "average: 0.39633674160026633\n",
            "              precision    recall  f1-score   support\n",
            "\n",
            "           0       0.82      0.67      0.74       479\n",
            "           1       0.45      0.65      0.53       201\n",
            "\n",
            "    accuracy                           0.66       680\n",
            "   macro avg       0.64      0.66      0.63       680\n",
            "weighted avg       0.71      0.66      0.68       680\n",
            "\n",
            "Iteration No: 30 ended. Search finished for the next optimal point.\n",
            "Time taken: 0.2774\n",
            "Function value obtained: -0.3963\n",
            "Current minimum: -0.3963\n",
            "Iteration No: 31 started. Searching for the next optimal point.\n",
            "[21, 11, 8, 3, 'gini']\n",
            "auc_score 0.6588560329874635\n",
            "average: 0.39633674160026633\n",
            "              precision    recall  f1-score   support\n",
            "\n",
            "           0       0.82      0.67      0.74       479\n",
            "           1       0.45      0.65      0.53       201\n",
            "\n",
            "    accuracy                           0.66       680\n",
            "   macro avg       0.64      0.66      0.63       680\n",
            "weighted avg       0.71      0.66      0.68       680\n",
            "\n",
            "Iteration No: 31 ended. Search finished for the next optimal point.\n",
            "Time taken: 0.2843\n",
            "Function value obtained: -0.3963\n",
            "Current minimum: -0.3963\n",
            "Iteration No: 32 started. Searching for the next optimal point.\n",
            "[19, 10, 8, 3, 'gini']\n",
            "auc_score 0.6588560329874635\n",
            "average: 0.39633674160026633\n",
            "              precision    recall  f1-score   support\n",
            "\n",
            "           0       0.82      0.67      0.74       479\n",
            "           1       0.45      0.65      0.53       201\n",
            "\n",
            "    accuracy                           0.66       680\n",
            "   macro avg       0.64      0.66      0.63       680\n",
            "weighted avg       0.71      0.66      0.68       680\n",
            "\n",
            "Iteration No: 32 ended. Search finished for the next optimal point.\n",
            "Time taken: 0.2904\n",
            "Function value obtained: -0.3963\n",
            "Current minimum: -0.3963\n",
            "Iteration No: 33 started. Searching for the next optimal point.\n",
            "[16, 12, 8, 3, 'gini']\n",
            "auc_score 0.6277848752064313\n",
            "average: 0.3695481006358243\n",
            "              precision    recall  f1-score   support\n",
            "\n",
            "           0       0.80      0.61      0.70       479\n",
            "           1       0.41      0.64      0.50       201\n",
            "\n",
            "    accuracy                           0.62       680\n",
            "   macro avg       0.61      0.63      0.60       680\n",
            "weighted avg       0.69      0.62      0.64       680\n",
            "\n",
            "Iteration No: 33 ended. Search finished for the next optimal point.\n",
            "Time taken: 0.2966\n",
            "Function value obtained: -0.3695\n",
            "Current minimum: -0.3963\n",
            "Iteration No: 34 started. Searching for the next optimal point.\n",
            "[21, 11, 8, 2, 'gini']\n",
            "auc_score 0.5915152837067272\n",
            "average: 0.3449100235105562\n",
            "              precision    recall  f1-score   support\n",
            "\n",
            "           0       0.77      0.62      0.69       479\n",
            "           1       0.38      0.57      0.46       201\n",
            "\n",
            "    accuracy                           0.60       680\n",
            "   macro avg       0.58      0.59      0.57       680\n",
            "weighted avg       0.66      0.60      0.62       680\n",
            "\n",
            "Iteration No: 34 ended. Search finished for the next optimal point.\n",
            "Time taken: 0.2940\n",
            "Function value obtained: -0.3449\n",
            "Current minimum: -0.3963\n",
            "Iteration No: 35 started. Searching for the next optimal point.\n",
            "[22, 11, 8, 3, 'gini']\n",
            "auc_score 0.6588560329874635\n",
            "average: 0.39633674160026633\n",
            "              precision    recall  f1-score   support\n",
            "\n",
            "           0       0.82      0.67      0.74       479\n",
            "           1       0.45      0.65      0.53       201\n",
            "\n",
            "    accuracy                           0.66       680\n",
            "   macro avg       0.64      0.66      0.63       680\n",
            "weighted avg       0.71      0.66      0.68       680\n",
            "\n",
            "Iteration No: 35 ended. Search finished for the next optimal point.\n",
            "Time taken: 0.2951\n",
            "Function value obtained: -0.3963\n",
            "Current minimum: -0.3963\n",
            "Iteration No: 36 started. Searching for the next optimal point.\n",
            "[23, 29, 8, 3, 'gini']\n",
            "auc_score 0.6455301779204187\n",
            "average: 0.38464007946009704\n",
            "              precision    recall  f1-score   support\n",
            "\n",
            "           0       0.81      0.65      0.72       479\n",
            "           1       0.43      0.64      0.52       201\n",
            "\n",
            "    accuracy                           0.65       680\n",
            "   macro avg       0.62      0.65      0.62       680\n",
            "weighted avg       0.70      0.65      0.66       680\n",
            "\n",
            "Iteration No: 36 ended. Search finished for the next optimal point.\n",
            "Time taken: 0.2823\n",
            "Function value obtained: -0.3846\n",
            "Current minimum: -0.3963\n",
            "Iteration No: 37 started. Searching for the next optimal point.\n",
            "[20, 11, 8, 3, 'gini']\n",
            "auc_score 0.6588560329874635\n",
            "average: 0.39633674160026633\n",
            "              precision    recall  f1-score   support\n",
            "\n",
            "           0       0.82      0.67      0.74       479\n",
            "           1       0.45      0.65      0.53       201\n",
            "\n",
            "    accuracy                           0.66       680\n",
            "   macro avg       0.64      0.66      0.63       680\n",
            "weighted avg       0.71      0.66      0.68       680\n",
            "\n",
            "Iteration No: 37 ended. Search finished for the next optimal point.\n",
            "Time taken: 0.2798\n",
            "Function value obtained: -0.3963\n",
            "Current minimum: -0.3963\n",
            "Iteration No: 38 started. Searching for the next optimal point.\n",
            "[22, 8, 8, 3, 'gini']\n",
            "auc_score 0.6588560329874635\n",
            "average: 0.39633674160026633\n",
            "              precision    recall  f1-score   support\n",
            "\n",
            "           0       0.82      0.67      0.74       479\n",
            "           1       0.45      0.65      0.53       201\n",
            "\n",
            "    accuracy                           0.66       680\n",
            "   macro avg       0.64      0.66      0.63       680\n",
            "weighted avg       0.71      0.66      0.68       680\n",
            "\n",
            "Iteration No: 38 ended. Search finished for the next optimal point.\n",
            "Time taken: 0.4872\n",
            "Function value obtained: -0.3963\n",
            "Current minimum: -0.3963\n",
            "Iteration No: 39 started. Searching for the next optimal point.\n",
            "[20, 10, 8, 3, 'gini']\n",
            "auc_score 0.6588560329874635\n",
            "average: 0.39633674160026633\n",
            "              precision    recall  f1-score   support\n",
            "\n",
            "           0       0.82      0.67      0.74       479\n",
            "           1       0.45      0.65      0.53       201\n",
            "\n",
            "    accuracy                           0.66       680\n",
            "   macro avg       0.64      0.66      0.63       680\n",
            "weighted avg       0.71      0.66      0.68       680\n",
            "\n",
            "Iteration No: 39 ended. Search finished for the next optimal point.\n",
            "Time taken: 0.2930\n",
            "Function value obtained: -0.3963\n",
            "Current minimum: -0.3963\n",
            "Iteration No: 40 started. Searching for the next optimal point.\n",
            "[17, 8, 8, 3, 'gini']\n",
            "auc_score 0.6588560329874635\n",
            "average: 0.39633674160026633\n",
            "              precision    recall  f1-score   support\n",
            "\n",
            "           0       0.82      0.67      0.74       479\n",
            "           1       0.45      0.65      0.53       201\n",
            "\n",
            "    accuracy                           0.66       680\n",
            "   macro avg       0.64      0.66      0.63       680\n",
            "weighted avg       0.71      0.66      0.68       680\n",
            "\n",
            "Iteration No: 40 ended. Search finished for the next optimal point.\n",
            "Time taken: 0.2799\n",
            "Function value obtained: -0.3963\n",
            "Current minimum: -0.3963\n",
            "Iteration No: 41 started. Searching for the next optimal point.\n",
            "[15, 9, 8, 3, 'gini']\n",
            "auc_score 0.6351125375211624\n",
            "average: 0.37954476666099163\n",
            "              precision    recall  f1-score   support\n",
            "\n",
            "           0       0.80      0.69      0.74       479\n",
            "           1       0.44      0.58      0.50       201\n",
            "\n",
            "    accuracy                           0.66       680\n",
            "   macro avg       0.62      0.64      0.62       680\n",
            "weighted avg       0.69      0.66      0.67       680\n",
            "\n",
            "Iteration No: 41 ended. Search finished for the next optimal point.\n",
            "Time taken: 0.2945\n",
            "Function value obtained: -0.3795\n",
            "Current minimum: -0.3963\n",
            "Iteration No: 42 started. Searching for the next optimal point.\n",
            "[23, 10, 8, 2, 'gini']\n",
            "auc_score 0.5915152837067272\n",
            "average: 0.3449100235105562\n",
            "              precision    recall  f1-score   support\n",
            "\n",
            "           0       0.77      0.62      0.69       479\n",
            "           1       0.38      0.57      0.46       201\n",
            "\n",
            "    accuracy                           0.60       680\n",
            "   macro avg       0.58      0.59      0.57       680\n",
            "weighted avg       0.66      0.60      0.62       680\n",
            "\n",
            "Iteration No: 42 ended. Search finished for the next optimal point.\n",
            "Time taken: 0.2840\n",
            "Function value obtained: -0.3449\n",
            "Current minimum: -0.3963\n",
            "Iteration No: 43 started. Searching for the next optimal point.\n",
            "[20, 10, 6, 3, 'gini']\n",
            "auc_score 0.6467505894327942\n",
            "average: 0.38949180902849917\n",
            "              precision    recall  f1-score   support\n",
            "\n",
            "           0       0.80      0.70      0.75       479\n",
            "           1       0.45      0.59      0.51       201\n",
            "\n",
            "    accuracy                           0.67       680\n",
            "   macro avg       0.63      0.65      0.63       680\n",
            "weighted avg       0.70      0.67      0.68       680\n",
            "\n",
            "Iteration No: 43 ended. Search finished for the next optimal point.\n",
            "Time taken: 0.2873\n",
            "Function value obtained: -0.3895\n",
            "Current minimum: -0.3963\n",
            "Iteration No: 44 started. Searching for the next optimal point.\n",
            "[19, 11, 6, 3, 'gini']\n",
            "auc_score 0.6467505894327942\n",
            "average: 0.38949180902849917\n",
            "              precision    recall  f1-score   support\n",
            "\n",
            "           0       0.80      0.70      0.75       479\n",
            "           1       0.45      0.59      0.51       201\n",
            "\n",
            "    accuracy                           0.67       680\n",
            "   macro avg       0.63      0.65      0.63       680\n",
            "weighted avg       0.70      0.67      0.68       680\n",
            "\n",
            "Iteration No: 44 ended. Search finished for the next optimal point.\n",
            "Time taken: 0.2827\n",
            "Function value obtained: -0.3895\n",
            "Current minimum: -0.3963\n",
            "Iteration No: 45 started. Searching for the next optimal point.\n",
            "[20, 27, 8, 3, 'gini']\n",
            "auc_score 0.5821207116816751\n",
            "average: 0.3385493732715995\n",
            "              precision    recall  f1-score   support\n",
            "\n",
            "           0       0.77      0.60      0.67       479\n",
            "           1       0.37      0.57      0.45       201\n",
            "\n",
            "    accuracy                           0.59       680\n",
            "   macro avg       0.57      0.58      0.56       680\n",
            "weighted avg       0.65      0.59      0.61       680\n",
            "\n",
            "Iteration No: 45 ended. Search finished for the next optimal point.\n",
            "Time taken: 0.3015\n",
            "Function value obtained: -0.3385\n",
            "Current minimum: -0.3963\n",
            "Iteration No: 46 started. Searching for the next optimal point.\n",
            "[22, 10, 8, 4, 'gini']\n",
            "auc_score 0.6396670094205382\n",
            "average: 0.3791817058498358\n",
            "              precision    recall  f1-score   support\n",
            "\n",
            "           0       0.81      0.63      0.71       479\n",
            "           1       0.42      0.65      0.51       201\n",
            "\n",
            "    accuracy                           0.64       680\n",
            "   macro avg       0.62      0.64      0.61       680\n",
            "weighted avg       0.70      0.64      0.65       680\n",
            "\n",
            "Iteration No: 46 ended. Search finished for the next optimal point.\n",
            "Time taken: 0.2930\n",
            "Function value obtained: -0.3792\n",
            "Current minimum: -0.3963\n",
            "Iteration No: 47 started. Searching for the next optimal point.\n",
            "[21, 15, 8, 3, 'gini']\n",
            "auc_score 0.6588560329874635\n",
            "average: 0.39633674160026633\n",
            "              precision    recall  f1-score   support\n",
            "\n",
            "           0       0.82      0.67      0.74       479\n",
            "           1       0.45      0.65      0.53       201\n",
            "\n",
            "    accuracy                           0.66       680\n",
            "   macro avg       0.64      0.66      0.63       680\n",
            "weighted avg       0.71      0.66      0.68       680\n",
            "\n",
            "Iteration No: 47 ended. Search finished for the next optimal point.\n",
            "Time taken: 0.2932\n",
            "Function value obtained: -0.3963\n",
            "Current minimum: -0.3963\n",
            "Iteration No: 48 started. Searching for the next optimal point.\n",
            "[21, 14, 8, 3, 'gini']\n",
            "auc_score 0.6588560329874635\n",
            "average: 0.39633674160026633\n",
            "              precision    recall  f1-score   support\n",
            "\n",
            "           0       0.82      0.67      0.74       479\n",
            "           1       0.45      0.65      0.53       201\n",
            "\n",
            "    accuracy                           0.66       680\n",
            "   macro avg       0.64      0.66      0.63       680\n",
            "weighted avg       0.71      0.66      0.68       680\n",
            "\n",
            "Iteration No: 48 ended. Search finished for the next optimal point.\n",
            "Time taken: 0.2929\n",
            "Function value obtained: -0.3963\n",
            "Current minimum: -0.3963\n",
            "Iteration No: 49 started. Searching for the next optimal point.\n",
            "[19, 17, 8, 3, 'gini']\n",
            "auc_score 0.6285171221138566\n",
            "average: 0.3715954957195552\n",
            "              precision    recall  f1-score   support\n",
            "\n",
            "           0       0.80      0.65      0.71       479\n",
            "           1       0.42      0.61      0.50       201\n",
            "\n",
            "    accuracy                           0.64       680\n",
            "   macro avg       0.61      0.63      0.61       680\n",
            "weighted avg       0.69      0.64      0.65       680\n",
            "\n",
            "Iteration No: 49 ended. Search finished for the next optimal point.\n",
            "Time taken: 0.2952\n",
            "Function value obtained: -0.3716\n",
            "Current minimum: -0.3963\n",
            "Iteration No: 50 started. Searching for the next optimal point.\n",
            "[28, 27, 10, 4, 'entropy']\n",
            "auc_score 0.6447304188867771\n",
            "average: 0.38457535447886904\n",
            "              precision    recall  f1-score   support\n",
            "\n",
            "           0       0.81      0.66      0.73       479\n",
            "           1       0.44      0.63      0.52       201\n",
            "\n",
            "    accuracy                           0.65       680\n",
            "   macro avg       0.62      0.64      0.62       680\n",
            "weighted avg       0.70      0.65      0.66       680\n",
            "\n",
            "Iteration No: 50 ended. Search finished for the next optimal point.\n",
            "Time taken: 0.2884\n",
            "Function value obtained: -0.3846\n",
            "Current minimum: -0.3963\n"
          ],
          "name": "stdout"
        }
      ]
    },
    {
      "cell_type": "code",
      "metadata": {
        "colab": {
          "base_uri": "https://localhost:8080/"
        },
        "id": "3I6zhzLiwx1a",
        "outputId": "d82efc5f-aa47-4a3c-87b2-0c13c0e3b68a"
      },
      "source": [
        "result.x"
      ],
      "execution_count": 176,
      "outputs": [
        {
          "output_type": "execute_result",
          "data": {
            "text/plain": [
              "[22, 8, 8, 3, 'gini']"
            ]
          },
          "metadata": {
            "tags": []
          },
          "execution_count": 176
        }
      ]
    },
    {
      "cell_type": "code",
      "metadata": {
        "colab": {
          "base_uri": "https://localhost:8080/",
          "height": 416
        },
        "id": "KNxa_gBkwx1a",
        "outputId": "21498d77-7002-4062-8d8a-c2c92280e4ac"
      },
      "source": [
        "params = result.x\n",
        "max_depth = params[0]\n",
        "min_samples_split = params[1]\n",
        "min_samples_leaf = params[2]\n",
        "max_features = params[3]\n",
        "criterion = params[4]\n",
        "\n",
        "tree = DecisionTreeClassifier(max_depth=max_depth,\n",
        "                                  min_samples_split=min_samples_split,\n",
        "                                  min_samples_leaf=min_samples_leaf,\n",
        "                                  max_features=max_features,\n",
        "                                  criterion=criterion,\n",
        "                                  random_state=42,\n",
        "                                  class_weight='balanced')\n",
        "tree.fit(X_train,y_train)\n",
        "predicted_tree = tree.predict(X_test)\n",
        "\n",
        "report = classification_report(y_test, predicted_tree)\n",
        "print(report)\n",
        "\n",
        "\n",
        "\n",
        "cm = confusion_matrix(y_test, predicted_tree)\n",
        "sns.heatmap(cm, center=True)\n",
        "plt.show()\n"
      ],
      "execution_count": 177,
      "outputs": [
        {
          "output_type": "stream",
          "text": [
            "              precision    recall  f1-score   support\n",
            "\n",
            "           0       0.82      0.67      0.74       479\n",
            "           1       0.45      0.65      0.53       201\n",
            "\n",
            "    accuracy                           0.66       680\n",
            "   macro avg       0.64      0.66      0.63       680\n",
            "weighted avg       0.71      0.66      0.68       680\n",
            "\n"
          ],
          "name": "stdout"
        },
        {
          "output_type": "display_data",
          "data": {
            "image/png": "[encoded data removed]",
            "text/plain": [
              "<Figure size 432x288 with 2 Axes>"
            ]
          },
          "metadata": {
            "tags": [],
            "needs_background": "light"
          }
        }
      ]
    },
    {
      "cell_type": "markdown",
      "metadata": {
        "id": "FgK_4k2iw2vv"
      },
      "source": [
        "### Agora vamos utilizar o Naive Bayes"
      ]
    },
    {
      "cell_type": "code",
      "metadata": {
        "id": "KlVZ4dAMw2vv"
      },
      "source": [
        "from sklearn.naive_bayes import GaussianNB\n",
        "model = GaussianNB()\n",
        "model.fit(Xtrain, ytrain)\n",
        "y_model = model.predict(Xtest)\n",
        "ypred_train = model.predict(Xtrain)"
      ],
      "execution_count": 181,
      "outputs": []
    },
    {
      "cell_type": "code",
      "metadata": {
        "colab": {
          "base_uri": "https://localhost:8080/"
        },
        "id": "A3CohNHTw2vv",
        "outputId": "641378c6-b61c-44d2-93a2-492452b4e619"
      },
      "source": [
        "from sklearn.metrics import accuracy_score\n",
        "from sklearn.metrics import accuracy_score\n",
        "print(\"ACC TRAINING:\" + str(accuracy_score(ytrain, ypred_train)))\n",
        "print(\"ACC TEST:\" + str(accuracy_score(ytest, y_model)))"
      ],
      "execution_count": 182,
      "outputs": [
        {
          "output_type": "stream",
          "text": [
            "ACC TRAINING:0.563297350343474\n",
            "ACC TEST:0.5602941176470588\n"
          ],
          "name": "stdout"
        }
      ]
    },
    {
      "cell_type": "code",
      "metadata": {
        "colab": {
          "base_uri": "https://localhost:8080/",
          "height": 279
        },
        "id": "SqnHCVQrw2vw",
        "outputId": "933d83cf-a801-4bf8-dc3f-809f4075b013"
      },
      "source": [
        "from sklearn.metrics import confusion_matrix\n",
        "\n",
        "mat = confusion_matrix(ytest, y_model)\n",
        "\n",
        "sns.heatmap(mat, square=True, annot=True, cbar=False)\n",
        "plt.xlabel('predicted value')\n",
        "plt.ylabel('true value');"
      ],
      "execution_count": 183,
      "outputs": [
        {
          "output_type": "display_data",
          "data": {
            "image/png": "[encoded data removed]",
            "text/plain": [
              "<Figure size 432x288 with 1 Axes>"
            ]
          },
          "metadata": {
            "tags": [],
            "needs_background": "light"
          }
        }
      ]
    },
    {
      "cell_type": "markdown",
      "metadata": {
        "id": "EDwgdarMxAcL"
      },
      "source": [
        "### Utilizando KNN"
      ]
    },
    {
      "cell_type": "code",
      "metadata": {
        "id": "lg8hscG9xAcM"
      },
      "source": [
        "from sklearn.neighbors import KNeighborsClassifier\n",
        "model = KNeighborsClassifier(n_neighbors=1)"
      ],
      "execution_count": 184,
      "outputs": []
    },
    {
      "cell_type": "code",
      "metadata": {
        "id": "cCjiKl_mxAcM"
      },
      "source": [
        "model.fit(X, y)\n",
        "y_model = model.predict(X)"
      ],
      "execution_count": 185,
      "outputs": []
    },
    {
      "cell_type": "code",
      "metadata": {
        "colab": {
          "base_uri": "https://localhost:8080/"
        },
        "id": "4VgFWyiTxAcM",
        "outputId": "3336768f-d92a-45c3-f60c-f1209eb2256a"
      },
      "source": [
        "\n",
        "from sklearn.metrics import accuracy_score\n",
        "accuracy_score(y, y_model)"
      ],
      "execution_count": 186,
      "outputs": [
        {
          "output_type": "execute_result",
          "data": {
            "text/plain": [
              "1.0"
            ]
          },
          "metadata": {
            "tags": []
          },
          "execution_count": 186
        }
      ]
    },
    {
      "cell_type": "code",
      "metadata": {
        "colab": {
          "base_uri": "https://localhost:8080/"
        },
        "id": "p5r6hCE7xAcM",
        "outputId": "20c6f8f9-5b6a-4df6-9e0b-3275d650056e"
      },
      "source": [
        "# criação do holdout: divide em treinamento e teste\n",
        "from sklearn.model_selection import train_test_split\n",
        "X1, X2, y1, y2 = train_test_split(X, y, random_state=0,\n",
        "                                  train_size=0.5)\n",
        "\n",
        "# criação do modelo sobre o conjunto de treinamento\n",
        "model.fit(X1, y1)\n",
        "\n",
        "# avaliação do modelo no conjunto de teste\n",
        "y2_model = model.predict(X2)\n",
        "accuracy_score(y2, y2_model)"
      ],
      "execution_count": 187,
      "outputs": [
        {
          "output_type": "execute_result",
          "data": {
            "text/plain": [
              "0.5334805003679176"
            ]
          },
          "metadata": {
            "tags": []
          },
          "execution_count": 187
        }
      ]
    },
    {
      "cell_type": "code",
      "metadata": {
        "colab": {
          "base_uri": "https://localhost:8080/"
        },
        "id": "WdbdbLDExAcM",
        "outputId": "16411172-58b8-46dc-ad1c-cca9da63731f"
      },
      "source": [
        "y1_model = model.fit(X1, y1).predict(X1)\n",
        "y2_model = model.fit(X1, y1).predict(X2)\n",
        "accuracy_score(y1, y1_model), accuracy_score(y2, y2_model)"
      ],
      "execution_count": 188,
      "outputs": [
        {
          "output_type": "execute_result",
          "data": {
            "text/plain": [
              "(1.0, 0.5334805003679176)"
            ]
          },
          "metadata": {
            "tags": []
          },
          "execution_count": 188
        }
      ]
    },
    {
      "cell_type": "code",
      "metadata": {
        "colab": {
          "base_uri": "https://localhost:8080/"
        },
        "id": "IkBgcOVHxAcM",
        "outputId": "dfe71684-0692-4e61-c716-ec2638a3710a"
      },
      "source": [
        "from sklearn.model_selection import cross_val_score\n",
        "cross_val_score(model, X, y, cv=5)"
      ],
      "execution_count": 189,
      "outputs": [
        {
          "output_type": "execute_result",
          "data": {
            "text/plain": [
              "array([0.52205882, 0.54779412, 0.49264706, 0.49539595, 0.5359116 ])"
            ]
          },
          "metadata": {
            "tags": []
          },
          "execution_count": 189
        }
      ]
    },
    {
      "cell_type": "code",
      "metadata": {
        "colab": {
          "base_uri": "https://localhost:8080/"
        },
        "id": "kNSGnBqQxAcN",
        "outputId": "15d14d38-7515-4e57-f6b7-e28eba0f581d"
      },
      "source": [
        "from sklearn.neighbors import KNeighborsClassifier\n",
        "from sklearn.model_selection import cross_val_score\n",
        "import matplotlib.pyplot as plt\n",
        "\n",
        "\n",
        "# varia o k de 1 a 30\n",
        "k_range = range(1, 31)\n",
        "\n",
        "k_scores = []\n",
        "\n",
        "for k in k_range:\n",
        "    knn = KNeighborsClassifier(n_neighbors=k)\n",
        "    scores = cross_val_score(knn, X, y, cv=10, scoring='accuracy')\n",
        "    k_scores.append(scores.mean())\n",
        "print(k_scores)"
      ],
      "execution_count": 190,
      "outputs": [
        {
          "output_type": "stream",
          "text": [
            "[0.5184081289342305, 0.5117769155632732, 0.5154466029954418, 0.523186184067723, 0.5220737464727587, 0.5294416105925766, 0.525014922943347, 0.5194947905361407, 0.531260853049707, 0.5231780442804428, 0.5213384523551119, 0.5298065443889733, 0.5334830149772086, 0.5367864119817669, 0.5319947905361406, 0.5349359670067289, 0.5356685478619492, 0.53088777946603, 0.5286764705882353, 0.5283196765791187, 0.5279411764705882, 0.5382583568482744, 0.5253825700021706, 0.5312635663121337, 0.5272235185587151, 0.533473518558715, 0.5404655958324288, 0.5375284892554808, 0.5412076731061428, 0.5426741914477968]\n"
          ],
          "name": "stdout"
        }
      ]
    },
    {
      "cell_type": "code",
      "metadata": {
        "colab": {
          "base_uri": "https://localhost:8080/",
          "height": 0
        },
        "id": "3-mzhKyMxAcN",
        "outputId": "fc30f868-51d7-4cef-e3ab-b7610fe98421"
      },
      "source": [
        "\n",
        "# plotando o valor de K versus a acurácia no cross-validation\n",
        "plt.plot(k_range, k_scores)\n",
        "plt.xlabel('Value of K for KNN')\n",
        "plt.ylabel('Cross-Validated Accuracy')"
      ],
      "execution_count": 191,
      "outputs": [
        {
          "output_type": "execute_result",
          "data": {
            "text/plain": [
              "Text(0, 0.5, 'Cross-Validated Accuracy')"
            ]
          },
          "metadata": {
            "tags": []
          },
          "execution_count": 191
        },
        {
          "output_type": "display_data",
          "data": {
            "image/png": "[encoded data removed]",
            "text/plain": [
              "<Figure size 432x288 with 1 Axes>"
            ]
          },
          "metadata": {
            "tags": [],
            "needs_background": "light"
          }
        }
      ]
    },
    {
      "cell_type": "code",
      "metadata": {
        "colab": {
          "base_uri": "https://localhost:8080/"
        },
        "id": "YvvCKss2xAcN",
        "outputId": "1c753bb6-5a7f-4e4f-93e5-d953d66c78f0"
      },
      "source": [
        "#desempenho no treinamento e teste\n",
        "model = KNeighborsClassifier(n_neighbors=31)\n",
        "y1_model = model.fit(X1, y1).predict(X1)\n",
        "y2_model = model.fit(X1, y1).predict(X2)\n",
        "accuracy_score(y1, y1_model), accuracy_score(y2, y2_model)"
      ],
      "execution_count": 192,
      "outputs": [
        {
          "output_type": "execute_result",
          "data": {
            "text/plain": [
              "(0.6026490066225165, 0.543046357615894)"
            ]
          },
          "metadata": {
            "tags": []
          },
          "execution_count": 192
        }
      ]
    },
    {
      "cell_type": "markdown",
      "metadata": {
        "id": "1w6g2iJtw_z9"
      },
      "source": [
        ""
      ]
    },
    {
      "cell_type": "markdown",
      "metadata": {
        "id": "RuZGxTgyxRwP"
      },
      "source": [
        "### Random Forest Classifier"
      ]
    },
    {
      "cell_type": "code",
      "metadata": {
        "id": "eyc1OWVMxRwP"
      },
      "source": [
        "from sklearn.model_selection import train_test_split\n",
        "from sklearn.ensemble import RandomForestClassifier\n",
        "\n",
        "model = RandomForestClassifier(n_estimators=1000)\n",
        "model.fit(Xtrain, ytrain)\n",
        "ypred = model.predict(Xtest)\n",
        "ypred_train = model.predict(Xtrain)"
      ],
      "execution_count": 193,
      "outputs": []
    },
    {
      "cell_type": "code",
      "metadata": {
        "colab": {
          "base_uri": "https://localhost:8080/"
        },
        "id": "DazCuAKcxRwQ",
        "outputId": "21aab096-d093-482a-8b66-676fbfd30b02"
      },
      "source": [
        "\n",
        "from sklearn.metrics import accuracy_score\n",
        "print(\"ACC TRAINING:\" + str(accuracy_score(ytrain, ypred_train)))\n",
        "print(\"ACC TEST:\" + str(accuracy_score(ytest, ypred)))"
      ],
      "execution_count": 194,
      "outputs": [
        {
          "output_type": "stream",
          "text": [
            "ACC TRAINING:1.0\n",
            "ACC TEST:0.8147058823529412\n"
          ],
          "name": "stdout"
        }
      ]
    },
    {
      "cell_type": "code",
      "metadata": {
        "colab": {
          "base_uri": "https://localhost:8080/",
          "height": 0
        },
        "id": "7OgHZjojxRwQ",
        "outputId": "fceaebc6-3031-48d5-d1b1-17bf17dbc146"
      },
      "source": [
        "from sklearn.metrics import confusion_matrix\n",
        "mat = confusion_matrix(ytest, ypred)\n",
        "sns.heatmap(mat.T, square=True, annot=True, fmt='d', cbar=False)\n",
        "plt.xlabel('true label')\n",
        "plt.ylabel('predicted label');"
      ],
      "execution_count": 195,
      "outputs": [
        {
          "output_type": "display_data",
          "data": {
            "image/png": "[encoded data removed]",
            "text/plain": [
              "<Figure size 432x288 with 1 Axes>"
            ]
          },
          "metadata": {
            "tags": [],
            "needs_background": "light"
          }
        }
      ]
    },
    {
      "cell_type": "markdown",
      "metadata": {
        "id": "z-g4iBd_r7ww"
      },
      "source": [
        "### Vamos tentar prever agora apenas com a descrição pré processada"
      ]
    },
    {
      "cell_type": "code",
      "metadata": {
        "id": "Vn8o3FbZ1mwt"
      },
      "source": [
        "tf=TfidfVectorizer()\n",
        "# the vectorizer must be fit onto the entire corpus\n",
        "fitted_vectorizer = tf.fit(X)"
      ],
      "execution_count": 196,
      "outputs": []
    },
    {
      "cell_type": "code",
      "metadata": {
        "id": "FR0h4xwM082h"
      },
      "source": [
        "X = filmedfcl['pp_desc']\n",
        "y = filmedfcl['averageRatingConverted']"
      ],
      "execution_count": 197,
      "outputs": []
    },
    {
      "cell_type": "code",
      "metadata": {
        "id": "YTEAoBEg1VZ7"
      },
      "source": [
        "X_transform = fitted_vectorizer.transform(X)"
      ],
      "execution_count": 198,
      "outputs": []
    },
    {
      "cell_type": "code",
      "metadata": {
        "id": "5M6In87-1yG9"
      },
      "source": [
        "X_train, X_test, y_train, y_test = train_test_split(X_transform, y)"
      ],
      "execution_count": 199,
      "outputs": []
    },
    {
      "cell_type": "code",
      "metadata": {
        "id": "cUyZGnn22VYd"
      },
      "source": [
        "\n",
        "from nltk.stem import WordNetLemmatizer # used for preprocessing\n",
        "from sklearn.feature_extraction.text import TfidfVectorizer\n",
        "from sklearn.linear_model import LogisticRegression # our model"
      ],
      "execution_count": 200,
      "outputs": []
    },
    {
      "cell_type": "code",
      "metadata": {
        "id": "Zlkr1guh2NTz"
      },
      "source": [
        "scikit_log_reg = LogisticRegression()\n",
        "model=scikit_log_reg.fit(X_train, y_train)"
      ],
      "execution_count": 201,
      "outputs": []
    },
    {
      "cell_type": "code",
      "metadata": {
        "id": "cFF8zPFS2fyJ"
      },
      "source": [
        "predictions = model.predict(X_test)\n",
        "y_train = model.predict(X_train)"
      ],
      "execution_count": 202,
      "outputs": []
    },
    {
      "cell_type": "code",
      "metadata": {
        "colab": {
          "base_uri": "https://localhost:8080/"
        },
        "id": "DCMMSNB-2goE",
        "outputId": "9705b91a-dd67-432f-cc59-95aa0b975abf"
      },
      "source": [
        "print(\"ACC TRAINING:\" + str(accuracy_score(ytrain, ypred_train)))\n",
        "print(\"ACC TEST:\" + str(accuracy_score(y_test, predictions)))"
      ],
      "execution_count": 203,
      "outputs": [
        {
          "output_type": "stream",
          "text": [
            "ACC TRAINING:1.0\n",
            "ACC TEST:0.725\n"
          ],
          "name": "stdout"
        }
      ]
    },
    {
      "cell_type": "markdown",
      "metadata": {
        "id": "KzY7ZihQ6I1d"
      },
      "source": [
        "Podemos ver aqui um overfiting dos nossos modelos, como dos demais também."
      ]
    },
    {
      "cell_type": "markdown",
      "metadata": {
        "id": "o-NCTcXv783R"
      },
      "source": [
        "### Testando Naive Bayes, dessa vez específcico para sentimentos."
      ]
    },
    {
      "cell_type": "code",
      "metadata": {
        "id": "zMSmIoRe8KtN"
      },
      "source": [
        "from sklearn.naive_bayes import MultinomialNB"
      ],
      "execution_count": 204,
      "outputs": []
    },
    {
      "cell_type": "code",
      "metadata": {
        "id": "s-e9-tPv8g3j"
      },
      "source": [
        "model = MultinomialNB()\n",
        "model.fit(X_train, y_train)\n",
        "y_model = model.predict(X_test)\n",
        "ypred_train = model.predict(X_train)"
      ],
      "execution_count": 205,
      "outputs": []
    },
    {
      "cell_type": "code",
      "metadata": {
        "colab": {
          "base_uri": "https://localhost:8080/"
        },
        "id": "brJdXJSx8j07",
        "outputId": "8a9c3806-6562-47ac-8de6-5069b35f40d8"
      },
      "source": [
        "print(\"ACC TRAINING:\" + str(accuracy_score(ytrain, ypred_train)))\n",
        "print(\"ACC TEST:\" + str(accuracy_score(y_test, predictions)))"
      ],
      "execution_count": 206,
      "outputs": [
        {
          "output_type": "stream",
          "text": [
            "ACC TRAINING:0.528459273797841\n",
            "ACC TEST:0.725\n"
          ],
          "name": "stdout"
        }
      ]
    },
    {
      "cell_type": "markdown",
      "metadata": {
        "id": "OzpEnzCo-XDn"
      },
      "source": [
        "Analisando as probabilidades de cada classificação, teremos"
      ]
    },
    {
      "cell_type": "code",
      "metadata": {
        "colab": {
          "base_uri": "https://localhost:8080/"
        },
        "id": "JYuSEAPD-WXT",
        "outputId": "aea0f971-7d2d-445b-99ba-b9f0bb9f1da3"
      },
      "source": [
        "model.predict_proba(X_transform).round(2)"
      ],
      "execution_count": 208,
      "outputs": [
        {
          "output_type": "execute_result",
          "data": {
            "text/plain": [
              "array([[1., 0.],\n",
              "       [1., 0.],\n",
              "       [1., 0.],\n",
              "       ...,\n",
              "       [1., 0.],\n",
              "       [1., 0.],\n",
              "       [1., 0.]])"
            ]
          },
          "metadata": {
            "tags": []
          },
          "execution_count": 208
        }
      ]
    },
    {
      "cell_type": "markdown",
      "metadata": {
        "id": "QZnBfOakCGLH"
      },
      "source": [
        "### Montando um pipeline para poder comparar a acurácia das predições realizadas com relação aos algoritmos citados anteriormente e o SVM"
      ]
    },
    {
      "cell_type": "code",
      "metadata": {
        "id": "-6kjorTwCSJ3"
      },
      "source": [
        "from sklearn.pipeline import Pipeline\n",
        "from sklearn import svm"
      ],
      "execution_count": 225,
      "outputs": []
    },
    {
      "cell_type": "code",
      "metadata": {
        "id": "7dtjIrjWCYXN"
      },
      "source": [
        "pipeline_CVN = Pipeline([('counts', CountVectorizer()),('classifier', MultinomialNB())])"
      ],
      "execution_count": 212,
      "outputs": []
    },
    {
      "cell_type": "code",
      "metadata": {
        "id": "1EankqsmDCdt"
      },
      "source": [
        "pipeline_TVL = Pipeline([('counts', TfidfVectorizer()),('classifier', LogisticRegression())])"
      ],
      "execution_count": 217,
      "outputs": []
    },
    {
      "cell_type": "code",
      "metadata": {
        "id": "LLA_G7Q_DrDb"
      },
      "source": [
        "pipeline_TVN = Pipeline([('counts', TfidfVectorizer()),('classifier', MultinomialNB())])"
      ],
      "execution_count": 218,
      "outputs": []
    },
    {
      "cell_type": "code",
      "metadata": {
        "id": "5_GXmnFaD40k"
      },
      "source": [
        "pipeline_CVL = Pipeline([('counts', CountVectorizer()),('classifier', LogisticRegression())])"
      ],
      "execution_count": 226,
      "outputs": []
    },
    {
      "cell_type": "code",
      "metadata": {
        "id": "SdrgbC07GnWP"
      },
      "source": [
        "pipeline_CVSVM = Pipeline([('counts', CountVectorizer()),('classifier', svm.SVC(kernel='linear'))])"
      ],
      "execution_count": 227,
      "outputs": []
    },
    {
      "cell_type": "code",
      "metadata": {
        "id": "ZmrpCADHGwmA"
      },
      "source": [
        "pipeline_TVSVM = Pipeline([('counts', TfidfVectorizer()),('classifier', svm.SVC(kernel='linear'))])"
      ],
      "execution_count": 228,
      "outputs": []
    },
    {
      "cell_type": "code",
      "metadata": {
        "id": "sW6gLNkLECLj"
      },
      "source": [
        "def Metricas(model, desc, classes):\n",
        "    resultados = cross_val_predict(model, desc, classes, cv=10)\n",
        "    print(\"ACC:\" + str(accuracy_score(classes, resultados)))"
      ],
      "execution_count": 215,
      "outputs": []
    },
    {
      "cell_type": "code",
      "metadata": {
        "colab": {
          "base_uri": "https://localhost:8080/"
        },
        "id": "K6IH2mxCEeNc",
        "outputId": "7f489e1a-f31c-4688-80b0-0a6733fd80fd"
      },
      "source": [
        "Metricas(pipeline_CVN, X, y)"
      ],
      "execution_count": 220,
      "outputs": [
        {
          "output_type": "stream",
          "text": [
            "ACC:0.6994113318616629\n"
          ],
          "name": "stdout"
        }
      ]
    },
    {
      "cell_type": "code",
      "metadata": {
        "colab": {
          "base_uri": "https://localhost:8080/"
        },
        "id": "h78ekKk9GBND",
        "outputId": "7e14a78b-9b82-4f58-d157-14e55baa3c4d"
      },
      "source": [
        "Metricas(pipeline_CVL, X, y)"
      ],
      "execution_count": 221,
      "outputs": [
        {
          "output_type": "stream",
          "text": [
            "ACC:0.6784400294334069\n"
          ],
          "name": "stdout"
        }
      ]
    },
    {
      "cell_type": "code",
      "metadata": {
        "colab": {
          "base_uri": "https://localhost:8080/"
        },
        "id": "jr0GHp3NGB4a",
        "outputId": "a82a09ec-dd3f-4327-a236-faf8133884e3"
      },
      "source": [
        "Metricas(pipeline_TVN, X, y)"
      ],
      "execution_count": 222,
      "outputs": [
        {
          "output_type": "stream",
          "text": [
            "ACC:0.7049300956585725\n"
          ],
          "name": "stdout"
        }
      ]
    },
    {
      "cell_type": "code",
      "metadata": {
        "colab": {
          "base_uri": "https://localhost:8080/"
        },
        "id": "ryuPdUo7GCXb",
        "outputId": "38db5bc1-ad36-49e1-c6d0-3eb4a00f3628"
      },
      "source": [
        "Metricas(pipeline_TVL, X, y)"
      ],
      "execution_count": 223,
      "outputs": [
        {
          "output_type": "stream",
          "text": [
            "ACC:0.7045621780721119\n"
          ],
          "name": "stdout"
        }
      ]
    },
    {
      "cell_type": "code",
      "metadata": {
        "colab": {
          "base_uri": "https://localhost:8080/"
        },
        "id": "uGHUsEsgHLGN",
        "outputId": "aae381a8-5cc8-4ec4-ef4a-991fa02b05a2"
      },
      "source": [
        "Metricas(pipeline_TVSVM, X, y)"
      ],
      "execution_count": 230,
      "outputs": [
        {
          "output_type": "stream",
          "text": [
            "ACC:0.7027225901398086\n"
          ],
          "name": "stdout"
        }
      ]
    },
    {
      "cell_type": "code",
      "metadata": {
        "colab": {
          "base_uri": "https://localhost:8080/"
        },
        "id": "BDOSWP55HTBL",
        "outputId": "ba19ba9c-03c2-4c84-a6c1-2ff6e7b463f7"
      },
      "source": [
        "Metricas(pipeline_CVSVM, X, y)"
      ],
      "execution_count": 229,
      "outputs": [
        {
          "output_type": "stream",
          "text": [
            "ACC:0.6504782928623988\n"
          ],
          "name": "stdout"
        }
      ]
    },
    {
      "cell_type": "markdown",
      "metadata": {
        "id": "A9EQalxkQrN8"
      },
      "source": [
        "## Vamos Adicionar o MLFlow ao treinamento dos modelos para assim podermos fazer o rastreamento"
      ]
    },
    {
      "cell_type": "code",
      "metadata": {
        "colab": {
          "base_uri": "https://localhost:8080/"
        },
        "id": "GmFqAoCicVWp",
        "outputId": "e803174f-c864-4c0f-8ec7-4141af100865"
      },
      "source": [
        "!pip install mlflow"
      ],
      "execution_count": null,
      "outputs": [
        {
          "output_type": "stream",
          "text": [
            "Requirement already satisfied: mlflow in /usr/local/lib/python3.7/dist-packages (1.19.0)\n",
            "Requirement already satisfied: protobuf>=3.7.0 in /usr/local/lib/python3.7/dist-packages (from mlflow) (3.17.3)\n",
            "Requirement already satisfied: cloudpickle in /usr/local/lib/python3.7/dist-packages (from mlflow) (1.3.0)\n",
            "Requirement already satisfied: alembic<=1.4.1 in /usr/local/lib/python3.7/dist-packages (from mlflow) (1.4.1)\n",
            "Requirement already satisfied: numpy in /usr/local/lib/python3.7/dist-packages (from mlflow) (1.19.5)\n",
            "Requirement already satisfied: entrypoints in /usr/local/lib/python3.7/dist-packages (from mlflow) (0.3)\n",
            "Requirement already satisfied: packaging in /usr/local/lib/python3.7/dist-packages (from mlflow) (21.0)\n",
            "Requirement already satisfied: pytz in /usr/local/lib/python3.7/dist-packages (from mlflow) (2018.9)\n",
            "Requirement already satisfied: querystring-parser in /usr/local/lib/python3.7/dist-packages (from mlflow) (1.2.4)\n",
            "Requirement already satisfied: requests>=2.17.3 in /usr/local/lib/python3.7/dist-packages (from mlflow) (2.23.0)\n",
            "Requirement already satisfied: click>=7.0 in /usr/local/lib/python3.7/dist-packages (from mlflow) (7.1.2)\n",
            "Requirement already satisfied: sqlalchemy in /usr/local/lib/python3.7/dist-packages (from mlflow) (1.4.22)\n",
            "Requirement already satisfied: prometheus-flask-exporter in /usr/local/lib/python3.7/dist-packages (from mlflow) (0.18.2)\n",
            "Requirement already satisfied: databricks-cli>=0.8.7 in /usr/local/lib/python3.7/dist-packages (from mlflow) (0.15.0)\n",
            "Requirement already satisfied: pandas in /usr/local/lib/python3.7/dist-packages (from mlflow) (1.1.5)\n",
            "Requirement already satisfied: docker>=4.0.0 in /usr/local/lib/python3.7/dist-packages (from mlflow) (5.0.0)\n",
            "Requirement already satisfied: gitpython>=2.1.0 in /usr/local/lib/python3.7/dist-packages (from mlflow) (3.1.18)\n",
            "Requirement already satisfied: gunicorn in /usr/local/lib/python3.7/dist-packages (from mlflow) (20.1.0)\n",
            "Requirement already satisfied: sqlparse>=0.3.1 in /usr/local/lib/python3.7/dist-packages (from mlflow) (0.4.1)\n",
            "Requirement already satisfied: pyyaml>=5.1 in /usr/local/lib/python3.7/dist-packages (from mlflow) (5.4.1)\n",
            "Requirement already satisfied: Flask in /usr/local/lib/python3.7/dist-packages (from mlflow) (1.1.4)\n",
            "Requirement already satisfied: python-dateutil in /usr/local/lib/python3.7/dist-packages (from alembic<=1.4.1->mlflow) (2.8.2)\n",
            "Requirement already satisfied: Mako in /usr/local/lib/python3.7/dist-packages (from alembic<=1.4.1->mlflow) (1.1.4)\n",
            "Requirement already satisfied: python-editor>=0.3 in /usr/local/lib/python3.7/dist-packages (from alembic<=1.4.1->mlflow) (1.0.4)\n",
            "Requirement already satisfied: six>=1.10.0 in /usr/local/lib/python3.7/dist-packages (from databricks-cli>=0.8.7->mlflow) (1.15.0)\n",
            "Requirement already satisfied: tabulate>=0.7.7 in /usr/local/lib/python3.7/dist-packages (from databricks-cli>=0.8.7->mlflow) (0.8.9)\n",
            "Requirement already satisfied: websocket-client>=0.32.0 in /usr/local/lib/python3.7/dist-packages (from docker>=4.0.0->mlflow) (1.2.1)\n",
            "Requirement already satisfied: gitdb<5,>=4.0.1 in /usr/local/lib/python3.7/dist-packages (from gitpython>=2.1.0->mlflow) (4.0.7)\n",
            "Requirement already satisfied: typing-extensions>=3.7.4.0 in /usr/local/lib/python3.7/dist-packages (from gitpython>=2.1.0->mlflow) (3.7.4.3)\n",
            "Requirement already satisfied: smmap<5,>=3.0.1 in /usr/local/lib/python3.7/dist-packages (from gitdb<5,>=4.0.1->gitpython>=2.1.0->mlflow) (4.0.0)\n",
            "Requirement already satisfied: idna<3,>=2.5 in /usr/local/lib/python3.7/dist-packages (from requests>=2.17.3->mlflow) (2.10)\n",
            "Requirement already satisfied: certifi>=2017.4.17 in /usr/local/lib/python3.7/dist-packages (from requests>=2.17.3->mlflow) (2021.5.30)\n",
            "Requirement already satisfied: urllib3!=1.25.0,!=1.25.1,<1.26,>=1.21.1 in /usr/local/lib/python3.7/dist-packages (from requests>=2.17.3->mlflow) (1.24.3)\n",
            "Requirement already satisfied: chardet<4,>=3.0.2 in /usr/local/lib/python3.7/dist-packages (from requests>=2.17.3->mlflow) (3.0.4)\n",
            "Requirement already satisfied: importlib-metadata in /usr/local/lib/python3.7/dist-packages (from sqlalchemy->mlflow) (4.6.3)\n",
            "Requirement already satisfied: greenlet!=0.4.17 in /usr/local/lib/python3.7/dist-packages (from sqlalchemy->mlflow) (1.1.1)\n",
            "Requirement already satisfied: itsdangerous<2.0,>=0.24 in /usr/local/lib/python3.7/dist-packages (from Flask->mlflow) (1.1.0)\n",
            "Requirement already satisfied: Werkzeug<2.0,>=0.15 in /usr/local/lib/python3.7/dist-packages (from Flask->mlflow) (1.0.1)\n",
            "Requirement already satisfied: Jinja2<3.0,>=2.10.1 in /usr/local/lib/python3.7/dist-packages (from Flask->mlflow) (2.11.3)\n",
            "Requirement already satisfied: MarkupSafe>=0.23 in /usr/local/lib/python3.7/dist-packages (from Jinja2<3.0,>=2.10.1->Flask->mlflow) (2.0.1)\n",
            "Requirement already satisfied: setuptools>=3.0 in /usr/local/lib/python3.7/dist-packages (from gunicorn->mlflow) (57.4.0)\n",
            "Requirement already satisfied: zipp>=0.5 in /usr/local/lib/python3.7/dist-packages (from importlib-metadata->sqlalchemy->mlflow) (3.5.0)\n",
            "Requirement already satisfied: pyparsing>=2.0.2 in /usr/local/lib/python3.7/dist-packages (from packaging->mlflow) (2.4.7)\n",
            "Requirement already satisfied: prometheus-client in /usr/local/lib/python3.7/dist-packages (from prometheus-flask-exporter->mlflow) (0.11.0)\n"
          ],
          "name": "stdout"
        }
      ]
    },
    {
      "cell_type": "code",
      "metadata": {
        "id": "CcVENi9WRdwU"
      },
      "source": [
        "\n",
        "import os\n",
        "import warnings\n",
        "import sys\n",
        "\n",
        "import pandas as pd\n",
        "import numpy as np\n",
        "from sklearn.metrics import mean_squared_error, mean_absolute_error, r2_score\n",
        "from sklearn.model_selection import train_test_split\n",
        "from sklearn.linear_model import ElasticNet\n",
        "from urllib.parse import urlparse\n",
        "import mlflow\n",
        "import mlflow.sklearn\n",
        "\n",
        "import logging\n",
        "\n",
        "logging.basicConfig(level=logging.WARN)\n",
        "logger = logging.getLogger(__name__)\n",
        "\n",
        "\n",
        "def eval_metrics(actual, pred):\n",
        "    rmse = np.sqrt(mean_squared_error(actual, pred))\n",
        "    mae = mean_absolute_error(actual, pred)\n",
        "    r2 = r2_score(actual, pred)\n",
        "    return rmse, mae, r2\n",
        "\n",
        "\n",
        "if __name__ == \"__main__\":\n",
        "    warnings.filterwarnings(\"ignore\")\n",
        "    np.random.seed(40)\n",
        "\n",
        "    # Read the wine-quality csv file from the URL\n",
        "    csv_url = (\n",
        "        \"http://archive.ics.uci.edu/ml/machine-learning-databases/wine-quality/winequality-red.csv\"\n",
        "    )\n",
        "    try:\n",
        "        data = pd.read_csv(csv_url, sep=\";\")\n",
        "    except Exception as e:\n",
        "        logger.exception(\n",
        "            \"Unable to download training & test CSV, check your internet connection. Error: %s\", e\n",
        "        )\n",
        "\n",
        "    # Split the data into training and test sets. (0.75, 0.25) split.\n",
        "    train, test = train_test_split(data)\n",
        "\n",
        "    # The predicted column is \"quality\" which is a scalar from [3, 9]\n",
        "    train_x = train.drop([\"quality\"], axis=1)\n",
        "    test_x = test.drop([\"quality\"], axis=1)\n",
        "    train_y = train[[\"quality\"]]\n",
        "    test_y = test[[\"quality\"]]\n",
        "\n",
        "    alpha = 1 #float(sys.argv[1]) if len(sys.argv) > 1 else 0.5\n",
        "    l1_ratio = 1 #float(sys.argv[2]) if len(sys.argv) > 2 else 0.5\n",
        "\n",
        "    with mlflow.start_run():\n",
        "        lr = ElasticNet(alpha=alpha, l1_ratio=l1_ratio, random_state=42)\n",
        "        lr.fit(train_x, train_y)\n",
        "\n",
        "        predicted_qualities = lr.predict(test_x)\n",
        "\n",
        "        (rmse, mae, r2) = eval_metrics(test_y, predicted_qualities)\n",
        "\n",
        "        print(\"Elasticnet model (alpha=%f, l1_ratio=%f):\" % (alpha, l1_ratio))\n",
        "        print(\"  RMSE: %s\" % rmse)\n",
        "        print(\"  MAE: %s\" % mae)\n",
        "        print(\"  R2: %s\" % r2)\n",
        "\n",
        "        mlflow.log_param(\"alpha\", alpha)\n",
        "        mlflow.log_param(\"l1_ratio\", l1_ratio)\n",
        "        mlflow.log_metric(\"rmse\", rmse)\n",
        "        mlflow.log_metric(\"r2\", r2)\n",
        "        mlflow.log_metric(\"mae\", mae)\n",
        "\n",
        "        tracking_url_type_store = urlparse(mlflow.get_tracking_uri()).scheme\n",
        "\n",
        "        # Model registry does not work with file store\n",
        "        if tracking_url_type_store != \"file\":\n",
        "\n",
        "            # Register the model\n",
        "            # There are other ways to use the Model Registry, which depends on the use case,\n",
        "            # please refer to the doc for more information:\n",
        "            # https://mlflow.org/docs/latest/model-registry.html#api-workflow\n",
        "            mlflow.sklearn.log_model(lr, \"model\", registered_model_name=\"ElasticnetWineModel\")\n",
        "        else:\n",
        "            mlflow.sklearn.log_model(lr, \"model\")"
      ],
      "execution_count": null,
      "outputs": []
    },
    {
      "cell_type": "markdown",
      "metadata": {
        "id": "thW-tioUIqgX"
      },
      "source": [
        "## Já útilizamos o otimizador bayeseano, agora vamos utilizar a ferramenta optuna para selecionarmos no máx 3 hiperparâmetros\n"
      ]
    }
  ]
}