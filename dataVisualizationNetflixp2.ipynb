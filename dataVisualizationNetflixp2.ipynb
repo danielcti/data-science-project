{
  "nbformat": 4,
  "nbformat_minor": 0,
  "metadata": {
    "colab": {
      "name": "dataVisualizationNetflix.ipynb",
      "provenance": [],
      "collapsed_sections": [
        "Ig3dSbqq1_gi",
        "G1Xs4VTXu64l",
        "QbKaLmX9GcMk",
        "Y2ujOQ-_yB-e",
        "gfVhNmUtNl_K",
        "CWiggorJ4ue5",
        "HT9hx5bBZtvn",
        "Z_6fVHu3cAuf",
        "nbmrdTh4edxu",
        "5TM2nzt9jXz2",
        "Hv-pqswdZyDt",
        "AVNCzmqhhMJF",
        "0X2l8Cl3CHvl",
        "1l98qPevqHuV",
        "mKWVpGigqnaX",
        "UNfcFiPT_W1g",
        "VlEWV64LxM_p"
      ],
      "authorship_tag": "ABX9TyPKzZzj2W8o2prepUsHPjgG",
      "include_colab_link": true
    },
    "kernelspec": {
      "name": "python3",
      "display_name": "Python 3"
    },
    "language_info": {
      "name": "python"
    }
  },
  "cells": [
    {
      "cell_type": "markdown",
      "metadata": {
        "id": "view-in-github",
        "colab_type": "text"
      },
      "source": [
        "<a href=\"https://colab.research.google.com/github/danielcti/data-science-project/blob/colabIgor/dataVisualizationNetflixp2.ipynb\" target=\"_parent\"><img src=\"https://colab.research.google.com/assets/colab-badge.svg\" alt=\"Open In Colab\"/></a>"
      ]
    },
    {
      "cell_type": "markdown",
      "metadata": {
        "id": "Ig3dSbqq1_gi"
      },
      "source": [
        "#Importando bibliotecas que julgamos necessárias"
      ]
    },
    {
      "cell_type": "code",
      "metadata": {
        "id": "mO-ve-kl0znF"
      },
      "source": [
        "import numpy as np\n",
        "import pandas as pd\n",
        "import matplotlib.pyplot as plt\n",
        "import matplotlib.cm as cm\n",
        "import seaborn as sns\n",
        "import datetime as dt\n",
        "from sklearn.metrics import confusion_matrix,classification_report\n",
        "from sklearn.metrics import silhouette_samples, silhouette_score\n",
        "from sklearn import preprocessing\n",
        "from sklearn.preprocessing import StandardScaler, MinMaxScaler\n",
        "from scipy import stats\n",
        "from warnings import filterwarnings\n",
        "filterwarnings('ignore')\n"
      ],
      "execution_count": 1,
      "outputs": []
    },
    {
      "cell_type": "code",
      "metadata": {
        "id": "k_XEq2HV2H5D",
        "colab": {
          "base_uri": "https://localhost:8080/"
        },
        "outputId": "5d14745d-ec42-49ed-9e0f-4e803249aca1"
      },
      "source": [
        "df = pd.read_csv(\"netflix_titles.csv\")\n",
        "print('Setup Complete')"
      ],
      "execution_count": 2,
      "outputs": [
        {
          "output_type": "stream",
          "text": [
            "Setup Complete\n"
          ],
          "name": "stdout"
        }
      ]
    },
    {
      "cell_type": "markdown",
      "metadata": {
        "id": "G1Xs4VTXu64l"
      },
      "source": [
        "#Primeiramente vamos ver o que temos nos nossos dados carregados, para assim possibilitar nossa análise descritiva"
      ]
    },
    {
      "cell_type": "code",
      "metadata": {
        "colab": {
          "base_uri": "https://localhost:8080/",
          "height": 289
        },
        "id": "hTayh3jx2djA",
        "outputId": "7b19ea86-2a9d-446c-ff5b-b905572d9e3a"
      },
      "source": [
        "df.head()"
      ],
      "execution_count": 3,
      "outputs": [
        {
          "output_type": "execute_result",
          "data": {
            "text/html": [
              "<div>\n",
              "<style scoped>\n",
              "    .dataframe tbody tr th:only-of-type {\n",
              "        vertical-align: middle;\n",
              "    }\n",
              "\n",
              "    .dataframe tbody tr th {\n",
              "        vertical-align: top;\n",
              "    }\n",
              "\n",
              "    .dataframe thead th {\n",
              "        text-align: right;\n",
              "    }\n",
              "</style>\n",
              "<table border=\"1\" class=\"dataframe\">\n",
              "  <thead>\n",
              "    <tr style=\"text-align: right;\">\n",
              "      <th></th>\n",
              "      <th>show_id</th>\n",
              "      <th>type</th>\n",
              "      <th>title</th>\n",
              "      <th>director</th>\n",
              "      <th>cast</th>\n",
              "      <th>country</th>\n",
              "      <th>date_added</th>\n",
              "      <th>release_year</th>\n",
              "      <th>rating</th>\n",
              "      <th>duration</th>\n",
              "      <th>listed_in</th>\n",
              "      <th>description</th>\n",
              "    </tr>\n",
              "  </thead>\n",
              "  <tbody>\n",
              "    <tr>\n",
              "      <th>0</th>\n",
              "      <td>s1</td>\n",
              "      <td>TV Show</td>\n",
              "      <td>3%</td>\n",
              "      <td>NaN</td>\n",
              "      <td>João Miguel, Bianca Comparato, Michel Gomes, R...</td>\n",
              "      <td>Brazil</td>\n",
              "      <td>August 14, 2020</td>\n",
              "      <td>2020</td>\n",
              "      <td>TV-MA</td>\n",
              "      <td>4 Seasons</td>\n",
              "      <td>International TV Shows, TV Dramas, TV Sci-Fi &amp;...</td>\n",
              "      <td>In a future where the elite inhabit an island ...</td>\n",
              "    </tr>\n",
              "    <tr>\n",
              "      <th>1</th>\n",
              "      <td>s2</td>\n",
              "      <td>Movie</td>\n",
              "      <td>7:19</td>\n",
              "      <td>Jorge Michel Grau</td>\n",
              "      <td>Demián Bichir, Héctor Bonilla, Oscar Serrano, ...</td>\n",
              "      <td>Mexico</td>\n",
              "      <td>December 23, 2016</td>\n",
              "      <td>2016</td>\n",
              "      <td>TV-MA</td>\n",
              "      <td>93 min</td>\n",
              "      <td>Dramas, International Movies</td>\n",
              "      <td>After a devastating earthquake hits Mexico Cit...</td>\n",
              "    </tr>\n",
              "    <tr>\n",
              "      <th>2</th>\n",
              "      <td>s3</td>\n",
              "      <td>Movie</td>\n",
              "      <td>23:59</td>\n",
              "      <td>Gilbert Chan</td>\n",
              "      <td>Tedd Chan, Stella Chung, Henley Hii, Lawrence ...</td>\n",
              "      <td>Singapore</td>\n",
              "      <td>December 20, 2018</td>\n",
              "      <td>2011</td>\n",
              "      <td>R</td>\n",
              "      <td>78 min</td>\n",
              "      <td>Horror Movies, International Movies</td>\n",
              "      <td>When an army recruit is found dead, his fellow...</td>\n",
              "    </tr>\n",
              "    <tr>\n",
              "      <th>3</th>\n",
              "      <td>s4</td>\n",
              "      <td>Movie</td>\n",
              "      <td>9</td>\n",
              "      <td>Shane Acker</td>\n",
              "      <td>Elijah Wood, John C. Reilly, Jennifer Connelly...</td>\n",
              "      <td>United States</td>\n",
              "      <td>November 16, 2017</td>\n",
              "      <td>2009</td>\n",
              "      <td>PG-13</td>\n",
              "      <td>80 min</td>\n",
              "      <td>Action &amp; Adventure, Independent Movies, Sci-Fi...</td>\n",
              "      <td>In a postapocalyptic world, rag-doll robots hi...</td>\n",
              "    </tr>\n",
              "    <tr>\n",
              "      <th>4</th>\n",
              "      <td>s5</td>\n",
              "      <td>Movie</td>\n",
              "      <td>21</td>\n",
              "      <td>Robert Luketic</td>\n",
              "      <td>Jim Sturgess, Kevin Spacey, Kate Bosworth, Aar...</td>\n",
              "      <td>United States</td>\n",
              "      <td>January 1, 2020</td>\n",
              "      <td>2008</td>\n",
              "      <td>PG-13</td>\n",
              "      <td>123 min</td>\n",
              "      <td>Dramas</td>\n",
              "      <td>A brilliant group of students become card-coun...</td>\n",
              "    </tr>\n",
              "  </tbody>\n",
              "</table>\n",
              "</div>"
            ],
            "text/plain": [
              "  show_id  ...                                        description\n",
              "0      s1  ...  In a future where the elite inhabit an island ...\n",
              "1      s2  ...  After a devastating earthquake hits Mexico Cit...\n",
              "2      s3  ...  When an army recruit is found dead, his fellow...\n",
              "3      s4  ...  In a postapocalyptic world, rag-doll robots hi...\n",
              "4      s5  ...  A brilliant group of students become card-coun...\n",
              "\n",
              "[5 rows x 12 columns]"
            ]
          },
          "metadata": {
            "tags": []
          },
          "execution_count": 3
        }
      ]
    },
    {
      "cell_type": "code",
      "metadata": {
        "colab": {
          "base_uri": "https://localhost:8080/",
          "height": 357
        },
        "id": "vTuCKlkj2rdM",
        "outputId": "d44ea950-281d-4acd-dbd0-6a6eabc5037c"
      },
      "source": [
        "df.tail()"
      ],
      "execution_count": 4,
      "outputs": [
        {
          "output_type": "execute_result",
          "data": {
            "text/html": [
              "<div>\n",
              "<style scoped>\n",
              "    .dataframe tbody tr th:only-of-type {\n",
              "        vertical-align: middle;\n",
              "    }\n",
              "\n",
              "    .dataframe tbody tr th {\n",
              "        vertical-align: top;\n",
              "    }\n",
              "\n",
              "    .dataframe thead th {\n",
              "        text-align: right;\n",
              "    }\n",
              "</style>\n",
              "<table border=\"1\" class=\"dataframe\">\n",
              "  <thead>\n",
              "    <tr style=\"text-align: right;\">\n",
              "      <th></th>\n",
              "      <th>show_id</th>\n",
              "      <th>type</th>\n",
              "      <th>title</th>\n",
              "      <th>director</th>\n",
              "      <th>cast</th>\n",
              "      <th>country</th>\n",
              "      <th>date_added</th>\n",
              "      <th>release_year</th>\n",
              "      <th>rating</th>\n",
              "      <th>duration</th>\n",
              "      <th>listed_in</th>\n",
              "      <th>description</th>\n",
              "    </tr>\n",
              "  </thead>\n",
              "  <tbody>\n",
              "    <tr>\n",
              "      <th>7782</th>\n",
              "      <td>s7783</td>\n",
              "      <td>Movie</td>\n",
              "      <td>Zozo</td>\n",
              "      <td>Josef Fares</td>\n",
              "      <td>Imad Creidi, Antoinette Turk, Elias Gergi, Car...</td>\n",
              "      <td>Sweden, Czech Republic, United Kingdom, Denmar...</td>\n",
              "      <td>October 19, 2020</td>\n",
              "      <td>2005</td>\n",
              "      <td>TV-MA</td>\n",
              "      <td>99 min</td>\n",
              "      <td>Dramas, International Movies</td>\n",
              "      <td>When Lebanon's Civil War deprives Zozo of his ...</td>\n",
              "    </tr>\n",
              "    <tr>\n",
              "      <th>7783</th>\n",
              "      <td>s7784</td>\n",
              "      <td>Movie</td>\n",
              "      <td>Zubaan</td>\n",
              "      <td>Mozez Singh</td>\n",
              "      <td>Vicky Kaushal, Sarah-Jane Dias, Raaghav Chanan...</td>\n",
              "      <td>India</td>\n",
              "      <td>March 2, 2019</td>\n",
              "      <td>2015</td>\n",
              "      <td>TV-14</td>\n",
              "      <td>111 min</td>\n",
              "      <td>Dramas, International Movies, Music &amp; Musicals</td>\n",
              "      <td>A scrappy but poor boy worms his way into a ty...</td>\n",
              "    </tr>\n",
              "    <tr>\n",
              "      <th>7784</th>\n",
              "      <td>s7785</td>\n",
              "      <td>Movie</td>\n",
              "      <td>Zulu Man in Japan</td>\n",
              "      <td>NaN</td>\n",
              "      <td>Nasty C</td>\n",
              "      <td>NaN</td>\n",
              "      <td>September 25, 2020</td>\n",
              "      <td>2019</td>\n",
              "      <td>TV-MA</td>\n",
              "      <td>44 min</td>\n",
              "      <td>Documentaries, International Movies, Music &amp; M...</td>\n",
              "      <td>In this documentary, South African rapper Nast...</td>\n",
              "    </tr>\n",
              "    <tr>\n",
              "      <th>7785</th>\n",
              "      <td>s7786</td>\n",
              "      <td>TV Show</td>\n",
              "      <td>Zumbo's Just Desserts</td>\n",
              "      <td>NaN</td>\n",
              "      <td>Adriano Zumbo, Rachel Khoo</td>\n",
              "      <td>Australia</td>\n",
              "      <td>October 31, 2020</td>\n",
              "      <td>2019</td>\n",
              "      <td>TV-PG</td>\n",
              "      <td>1 Season</td>\n",
              "      <td>International TV Shows, Reality TV</td>\n",
              "      <td>Dessert wizard Adriano Zumbo looks for the nex...</td>\n",
              "    </tr>\n",
              "    <tr>\n",
              "      <th>7786</th>\n",
              "      <td>s7787</td>\n",
              "      <td>Movie</td>\n",
              "      <td>ZZ TOP: THAT LITTLE OL' BAND FROM TEXAS</td>\n",
              "      <td>Sam Dunn</td>\n",
              "      <td>NaN</td>\n",
              "      <td>United Kingdom, Canada, United States</td>\n",
              "      <td>March 1, 2020</td>\n",
              "      <td>2019</td>\n",
              "      <td>TV-MA</td>\n",
              "      <td>90 min</td>\n",
              "      <td>Documentaries, Music &amp; Musicals</td>\n",
              "      <td>This documentary delves into the mystique behi...</td>\n",
              "    </tr>\n",
              "  </tbody>\n",
              "</table>\n",
              "</div>"
            ],
            "text/plain": [
              "     show_id  ...                                        description\n",
              "7782   s7783  ...  When Lebanon's Civil War deprives Zozo of his ...\n",
              "7783   s7784  ...  A scrappy but poor boy worms his way into a ty...\n",
              "7784   s7785  ...  In this documentary, South African rapper Nast...\n",
              "7785   s7786  ...  Dessert wizard Adriano Zumbo looks for the nex...\n",
              "7786   s7787  ...  This documentary delves into the mystique behi...\n",
              "\n",
              "[5 rows x 12 columns]"
            ]
          },
          "metadata": {
            "tags": []
          },
          "execution_count": 4
        }
      ]
    },
    {
      "cell_type": "markdown",
      "metadata": {
        "id": "MhD7FZNxwAFZ"
      },
      "source": [
        "Agora iremos ver o tamanho dos nossos dados:"
      ]
    },
    {
      "cell_type": "code",
      "metadata": {
        "colab": {
          "base_uri": "https://localhost:8080/"
        },
        "id": "uMVYA_TiwYuH",
        "outputId": "7938af61-6e34-4bc3-8ea5-21b5cc9c4e49"
      },
      "source": [
        "df.shape"
      ],
      "execution_count": 5,
      "outputs": [
        {
          "output_type": "execute_result",
          "data": {
            "text/plain": [
              "(7787, 12)"
            ]
          },
          "metadata": {
            "tags": []
          },
          "execution_count": 5
        }
      ]
    },
    {
      "cell_type": "markdown",
      "metadata": {
        "id": "N25tM5ZswgX0"
      },
      "source": [
        "Podemos ver que temos 12 atributos com 7787 instâncias "
      ]
    },
    {
      "cell_type": "markdown",
      "metadata": {
        "id": "0t6Kt_EexgdO"
      },
      "source": [
        "### Podemos também ver que nossos dados já estão separados entre séries(*TV Show*) e filmes (*Movie*). Então, até o momento, não precisamos aplicar nenhuma função para definir entre séries e filmes."
      ]
    },
    {
      "cell_type": "markdown",
      "metadata": {
        "id": "LJZvaZSrUFCU"
      },
      "source": [
        "#Agora, dando início ao nosso pré-processamento dos dados\n",
        "\n",
        "\n",
        "\n",
        "\n"
      ]
    },
    {
      "cell_type": "markdown",
      "metadata": {
        "id": "QbKaLmX9GcMk"
      },
      "source": [
        "### Vamos agora tratar nossas instâncias, primeiramente verificando caso tenhamos dados ausentes. Caso positivo iremos tratá-los da maneira cabível, seja excluindo, substituindo, ou alterando da melhor maneira possível."
      ]
    },
    {
      "cell_type": "code",
      "metadata": {
        "colab": {
          "base_uri": "https://localhost:8080/"
        },
        "id": "iWGh_nxz5ToT",
        "outputId": "2322df99-ea79-4c9c-e96a-cde9d82aa4e6"
      },
      "source": [
        "df.isnull().sum()/(len(df))*100"
      ],
      "execution_count": 6,
      "outputs": [
        {
          "output_type": "execute_result",
          "data": {
            "text/plain": [
              "show_id          0.000000\n",
              "type             0.000000\n",
              "title            0.000000\n",
              "director        30.679337\n",
              "cast             9.220496\n",
              "country          6.510851\n",
              "date_added       0.128419\n",
              "release_year     0.000000\n",
              "rating           0.089893\n",
              "duration         0.000000\n",
              "listed_in        0.000000\n",
              "description      0.000000\n",
              "dtype: float64"
            ]
          },
          "metadata": {
            "tags": []
          },
          "execution_count": 6
        }
      ]
    },
    {
      "cell_type": "markdown",
      "metadata": {
        "id": "6vaMN1Po6D-s"
      },
      "source": [
        "Primeiramente veremos quais as instâncias de *types* para que possamos facilitar nosso tratamento para *director* que possuem 30% de dados ausentes."
      ]
    },
    {
      "cell_type": "code",
      "metadata": {
        "colab": {
          "base_uri": "https://localhost:8080/"
        },
        "id": "WHQngGVfG5ce",
        "outputId": "63462c0d-ba65-4b6d-9fed-054dd8b07985"
      },
      "source": [
        "df.type.unique()"
      ],
      "execution_count": 7,
      "outputs": [
        {
          "output_type": "execute_result",
          "data": {
            "text/plain": [
              "array(['TV Show', 'Movie'], dtype=object)"
            ]
          },
          "metadata": {
            "tags": []
          },
          "execution_count": 7
        }
      ]
    },
    {
      "cell_type": "markdown",
      "metadata": {
        "id": "xmD2dTml7YWb"
      },
      "source": [
        "Como só temos duas instâncias de *type*, obsevadas logo acima e que, além disso, sabemos que em 'TV Show' os diretores variam por episódio fazendo sentido não serem guardados tais dados. Dessa forma, iremos dividir em dois datasets, dfMovie e dfShow, para checar se essa suposição de fato se prova verdadeira."
      ]
    },
    {
      "cell_type": "code",
      "metadata": {
        "id": "D8W4rFTp51Fg"
      },
      "source": [
        "dfMovie = df[(df.type == 'Movie')]\n",
        "dfShow = df[(df.type == 'TV Show')]"
      ],
      "execution_count": 8,
      "outputs": []
    },
    {
      "cell_type": "code",
      "metadata": {
        "colab": {
          "base_uri": "https://localhost:8080/"
        },
        "id": "a7syXxLR78-v",
        "outputId": "53546c85-6aa8-46e9-8384-dea05cd05217"
      },
      "source": [
        "dfShow.isnull().sum()/(len(dfShow))*100"
      ],
      "execution_count": 9,
      "outputs": [
        {
          "output_type": "execute_result",
          "data": {
            "text/plain": [
              "show_id          0.000000\n",
              "type             0.000000\n",
              "title            0.000000\n",
              "director        92.365145\n",
              "cast            12.116183\n",
              "country         11.493776\n",
              "date_added       0.414938\n",
              "release_year     0.000000\n",
              "rating           0.082988\n",
              "duration         0.000000\n",
              "listed_in        0.000000\n",
              "description      0.000000\n",
              "dtype: float64"
            ]
          },
          "metadata": {
            "tags": []
          },
          "execution_count": 9
        }
      ]
    },
    {
      "cell_type": "code",
      "metadata": {
        "colab": {
          "base_uri": "https://localhost:8080/"
        },
        "id": "IDH6Uzi_8G1H",
        "outputId": "fe08409f-d795-4298-a2b8-e2d1e00a7e9f"
      },
      "source": [
        "dfMovie.isnull().sum()/(len(dfMovie))*100"
      ],
      "execution_count": 10,
      "outputs": [
        {
          "output_type": "execute_result",
          "data": {
            "text/plain": [
              "show_id         0.000000\n",
              "type            0.000000\n",
              "title           0.000000\n",
              "director        3.031430\n",
              "cast            7.922633\n",
              "country         4.277478\n",
              "date_added      0.000000\n",
              "release_year    0.000000\n",
              "rating          0.092989\n",
              "duration        0.000000\n",
              "listed_in       0.000000\n",
              "description     0.000000\n",
              "dtype: float64"
            ]
          },
          "metadata": {
            "tags": []
          },
          "execution_count": 10
        }
      ]
    },
    {
      "cell_type": "markdown",
      "metadata": {
        "id": "fxf0XIbQ80zL"
      },
      "source": [
        "De fato, nossa suposição se tornou em partes verdadeira, visto que a feature *director* apresentou 92% de dados ausentes para dfShow e apenas 3% para dfMovie.\n",
        "> Tendo isso em vista, poderíamos trabalhar com dois datasets onde vamos excluir o atributo em dfShows e apenas substituí-los em dfMovies ou substituir todos os valores ausentes por 'desconhecido'.\n"
      ]
    },
    {
      "cell_type": "markdown",
      "metadata": {
        "id": "a0PMYiAsCwwV"
      },
      "source": [
        "vamos seguir com a segunda opção por enquanto"
      ]
    },
    {
      "cell_type": "code",
      "metadata": {
        "id": "irPcZq6kCujY"
      },
      "source": [
        "df['director']=df['director'].fillna('desconhecido')"
      ],
      "execution_count": 11,
      "outputs": []
    },
    {
      "cell_type": "markdown",
      "metadata": {
        "id": "-E94MGIbJdsu"
      },
      "source": [
        "Agora com relação ao atributo cast, iremos tratar da mesma forma que *director*"
      ]
    },
    {
      "cell_type": "code",
      "metadata": {
        "id": "cwAiydYyKQUq"
      },
      "source": [
        "df['cast']=df['cast'].fillna('desconhecido')"
      ],
      "execution_count": 12,
      "outputs": []
    },
    {
      "cell_type": "markdown",
      "metadata": {
        "id": "oxJveKqfKU40"
      },
      "source": [
        "Com relação a *country* vamos substituir pela moda, assim como em *date_added*"
      ]
    },
    {
      "cell_type": "code",
      "metadata": {
        "id": "fLwtF33EwccG"
      },
      "source": [
        "df['country']=df['country'].fillna(df['country'].mode()[0])\n",
        "df['rating']=df['rating'].fillna(df['rating'].mode()[0])\n",
        "df['date_added']=df['date_added'].fillna(df['date_added'].mode()[0])"
      ],
      "execution_count": 13,
      "outputs": []
    },
    {
      "cell_type": "code",
      "metadata": {
        "colab": {
          "base_uri": "https://localhost:8080/"
        },
        "id": "-cCQpvtBL6ec",
        "outputId": "e1bf71f9-5fd0-4036-d9ad-98924698548a"
      },
      "source": [
        "df.isnull().sum()/(len(df))*100"
      ],
      "execution_count": 14,
      "outputs": [
        {
          "output_type": "execute_result",
          "data": {
            "text/plain": [
              "show_id         0.0\n",
              "type            0.0\n",
              "title           0.0\n",
              "director        0.0\n",
              "cast            0.0\n",
              "country         0.0\n",
              "date_added      0.0\n",
              "release_year    0.0\n",
              "rating          0.0\n",
              "duration        0.0\n",
              "listed_in       0.0\n",
              "description     0.0\n",
              "dtype: float64"
            ]
          },
          "metadata": {
            "tags": []
          },
          "execution_count": 14
        }
      ]
    },
    {
      "cell_type": "markdown",
      "metadata": {
        "id": "vYaLBf6wML5c"
      },
      "source": [
        "Como podemos ver, todos os dados ausentes foram tratados. Lembrando que poderíamos tê-los tratados com algoritmos como KNN ou Árvore de decisão, porém como temos atributos compostos por listas achamos melhor apenas utilizar os métodos apresentatos acima."
      ]
    },
    {
      "cell_type": "markdown",
      "metadata": {
        "id": "ar4ABh5cJMOw"
      },
      "source": [
        "## Realizando agora a definição de tipos, vamos primeiro analisá-los para podermos decidir quais ações tomar"
      ]
    },
    {
      "cell_type": "code",
      "metadata": {
        "colab": {
          "base_uri": "https://localhost:8080/"
        },
        "id": "wwP9UZ922Tab",
        "outputId": "8a31df28-aa10-4f27-ce09-e74bd3bcf515"
      },
      "source": [
        "df.dtypes"
      ],
      "execution_count": 15,
      "outputs": [
        {
          "output_type": "execute_result",
          "data": {
            "text/plain": [
              "show_id         object\n",
              "type            object\n",
              "title           object\n",
              "director        object\n",
              "cast            object\n",
              "country         object\n",
              "date_added      object\n",
              "release_year     int64\n",
              "rating          object\n",
              "duration        object\n",
              "listed_in       object\n",
              "description     object\n",
              "dtype: object"
            ]
          },
          "metadata": {
            "tags": []
          },
          "execution_count": 15
        }
      ]
    },
    {
      "cell_type": "markdown",
      "metadata": {
        "id": "Y2ujOQ-_yB-e"
      },
      "source": [
        "###Como pudemos notar ao mostrar o nosso dataset inicialmente o campo *country* é composto de uma lista de países, porém será mais prático trabalhar apenas com o país principal, que neste caso consideramos o primeiro da lista. Então iremos adicionar a coluna *main_country* ao data frame."
      ]
    },
    {
      "cell_type": "code",
      "metadata": {
        "colab": {
          "base_uri": "https://localhost:8080/"
        },
        "id": "oe5iFRj_wjqA",
        "outputId": "fd13bd38-f4d3-4b4c-cc5b-544e78a9ebcb"
      },
      "source": [
        "df['main_country']=df['country'].apply(lambda x: x.split(\",\")[0])\n",
        "df['main_country']"
      ],
      "execution_count": 16,
      "outputs": [
        {
          "output_type": "execute_result",
          "data": {
            "text/plain": [
              "0               Brazil\n",
              "1               Mexico\n",
              "2            Singapore\n",
              "3        United States\n",
              "4        United States\n",
              "             ...      \n",
              "7782            Sweden\n",
              "7783             India\n",
              "7784     United States\n",
              "7785         Australia\n",
              "7786    United Kingdom\n",
              "Name: main_country, Length: 7787, dtype: object"
            ]
          },
          "metadata": {
            "tags": []
          },
          "execution_count": 16
        }
      ]
    },
    {
      "cell_type": "markdown",
      "metadata": {
        "id": "gfVhNmUtNl_K"
      },
      "source": [
        "### Com relação a *duration*, teremos que tratar o nosso dataset para tirar 'min' de *type*=='Movie' e 'Season' de *type*=='TV Show'. Além disso teremos que alterar o tipo dos nossos atributos para int64."
      ]
    },
    {
      "cell_type": "code",
      "metadata": {
        "id": "EcYcgWYfkkl0"
      },
      "source": [
        "df['duration'] = df.duration.apply(lambda x: x.split()[0])\n",
        "dfMovie['duration'] = dfMovie.duration.apply(lambda x: x.split()[0])\n",
        "dfShow['duration'] = dfShow.duration.apply(lambda x: x.split()[0])"
      ],
      "execution_count": 17,
      "outputs": []
    },
    {
      "cell_type": "code",
      "metadata": {
        "id": "-99Tmf32rNge"
      },
      "source": [
        "df['duration'] = df.duration.astype('int')\n",
        "dfMovie['duration'] = dfMovie.duration.astype('int')\n",
        "dfShow['duration'] = dfShow.duration.astype('int')"
      ],
      "execution_count": 18,
      "outputs": []
    },
    {
      "cell_type": "markdown",
      "metadata": {
        "id": "CWiggorJ4ue5"
      },
      "source": [
        "\n",
        "\n",
        "### Vamos tratar como variáveis categóricas todas as features com exceção de *date_added*, *release_year*, *duration* e *show_id* e as que temos listas como valores."
      ]
    },
    {
      "cell_type": "code",
      "metadata": {
        "id": "mHnqJjoYd8h2"
      },
      "source": [
        "df['main_country']=df['main_country'].astype('category')\n",
        "df['director']=df['director'].astype('category')\n",
        "df['listed_in']=df['listed_in'].astype('category')\n",
        "df['type']=df['type'].astype('category')\n",
        "df['title']=df['title'].astype('category')\n",
        "df['rating']=df['rating'].astype('category')"
      ],
      "execution_count": 19,
      "outputs": []
    },
    {
      "cell_type": "markdown",
      "metadata": {
        "id": "HT9hx5bBZtvn"
      },
      "source": [
        "### Agora iremos tratar do nosso atributo *date_added*"
      ]
    },
    {
      "cell_type": "code",
      "metadata": {
        "id": "q5YZBpHTaOjD"
      },
      "source": [
        "df['date_added'] = pd.to_datetime(df['date_added'])"
      ],
      "execution_count": 20,
      "outputs": []
    },
    {
      "cell_type": "markdown",
      "metadata": {
        "id": "y63c3qJM7Q0W"
      },
      "source": [
        "Vamos utilizar apenas o ano em que foi adicionado o título à netflix criando uma nova feature chamada *year_added*"
      ]
    },
    {
      "cell_type": "code",
      "metadata": {
        "colab": {
          "base_uri": "https://localhost:8080/"
        },
        "id": "plEgIwYx58gK",
        "outputId": "2190b528-03d2-4d01-8fea-ead55daa31dd"
      },
      "source": [
        "df.date_added.head()"
      ],
      "execution_count": 21,
      "outputs": [
        {
          "output_type": "execute_result",
          "data": {
            "text/plain": [
              "0   2020-08-14\n",
              "1   2016-12-23\n",
              "2   2018-12-20\n",
              "3   2017-11-16\n",
              "4   2020-01-01\n",
              "Name: date_added, dtype: datetime64[ns]"
            ]
          },
          "metadata": {
            "tags": []
          },
          "execution_count": 21
        }
      ]
    },
    {
      "cell_type": "code",
      "metadata": {
        "id": "KMo6aeJ47lML"
      },
      "source": [
        "\n",
        "df['year_added'] = df.date_added.apply(lambda x: x.strftime('%Y-%m-%d'))"
      ],
      "execution_count": 22,
      "outputs": []
    },
    {
      "cell_type": "code",
      "metadata": {
        "id": "dTe_NnU7-Ece"
      },
      "source": [
        "df['year_added'] = df.year_added.apply(lambda x: x[:4])"
      ],
      "execution_count": 23,
      "outputs": []
    },
    {
      "cell_type": "code",
      "metadata": {
        "id": "Rjo_-23G-Ocj"
      },
      "source": [
        "df['year_added'] = df.year_added.astype('int')"
      ],
      "execution_count": 24,
      "outputs": []
    },
    {
      "cell_type": "code",
      "metadata": {
        "colab": {
          "base_uri": "https://localhost:8080/"
        },
        "id": "vlnJGyuA1DyG",
        "outputId": "b300c29f-c894-4f22-b713-078c695a91f5"
      },
      "source": [
        "df.dtypes"
      ],
      "execution_count": 25,
      "outputs": [
        {
          "output_type": "execute_result",
          "data": {
            "text/plain": [
              "show_id                 object\n",
              "type                  category\n",
              "title                 category\n",
              "director              category\n",
              "cast                    object\n",
              "country                 object\n",
              "date_added      datetime64[ns]\n",
              "release_year             int64\n",
              "rating                category\n",
              "duration                 int64\n",
              "listed_in             category\n",
              "description             object\n",
              "main_country          category\n",
              "year_added               int64\n",
              "dtype: object"
            ]
          },
          "metadata": {
            "tags": []
          },
          "execution_count": 25
        }
      ]
    },
    {
      "cell_type": "markdown",
      "metadata": {
        "id": "Z_6fVHu3cAuf"
      },
      "source": [
        "## Normalizando utilizando o z-score para o ano que foi liberada na netflix e durações de filmes e utilizando o minmax para séries \n",
        "> Isso será útil para treinar o nosso modelo posteriormente.(lembrando que estaremos serparando as temporadas e os minutos com os datasets dfShow e dfMovie)"
      ]
    },
    {
      "cell_type": "code",
      "metadata": {
        "colab": {
          "base_uri": "https://localhost:8080/"
        },
        "id": "HCLslloicPsL",
        "outputId": "8e3bf376-fbd0-4b06-f01f-0a302f407a03"
      },
      "source": [
        "scaler = StandardScaler()\n",
        "dfMovie['release_year_norm'] = scaler.fit_transform(dfMovie[['release_year']])\n",
        "dfMovie['release_year_norm'].describe()"
      ],
      "execution_count": 26,
      "outputs": [
        {
          "output_type": "execute_result",
          "data": {
            "text/plain": [
              "count    5.377000e+03\n",
              "mean    -6.347577e-15\n",
              "std      1.000093e+00\n",
              "min     -7.339807e+00\n",
              "25%     -9.521768e-02\n",
              "50%      3.187589e-01\n",
              "75%      5.257471e-01\n",
              "max      8.362295e-01\n",
              "Name: release_year_norm, dtype: float64"
            ]
          },
          "metadata": {
            "tags": []
          },
          "execution_count": 26
        }
      ]
    },
    {
      "cell_type": "code",
      "metadata": {
        "colab": {
          "base_uri": "https://localhost:8080/"
        },
        "id": "-hyFqXm3dR_3",
        "outputId": "4e8c2b9c-fef8-4b04-fd8b-f7ecfe204afe"
      },
      "source": [
        "dfMovie['duration_norm'] = scaler.fit_transform(dfMovie[['duration']])\n",
        "dfMovie['duration_norm'].describe()"
      ],
      "execution_count": 27,
      "outputs": [
        {
          "output_type": "execute_result",
          "data": {
            "text/plain": [
              "count    5.377000e+03\n",
              "mean     9.630054e-17\n",
              "std      1.000093e+00\n",
              "min     -3.375884e+00\n",
              "25%     -4.664846e-01\n",
              "50%     -4.584857e-02\n",
              "75%      5.149995e-01\n",
              "max      7.455494e+00\n",
              "Name: duration_norm, dtype: float64"
            ]
          },
          "metadata": {
            "tags": []
          },
          "execution_count": 27
        }
      ]
    },
    {
      "cell_type": "code",
      "metadata": {
        "colab": {
          "base_uri": "https://localhost:8080/"
        },
        "id": "fDVrKxavdZM4",
        "outputId": "f9d1ca97-a04c-43b6-ab94-0d459fde7c28"
      },
      "source": [
        "minmax_scaler = MinMaxScaler()\n",
        "dfShow['release_year_norm'] = minmax_scaler.fit_transform(dfShow[['release_year']])\n",
        "dfShow['release_year_norm'].describe()"
      ],
      "execution_count": 28,
      "outputs": [
        {
          "output_type": "execute_result",
          "data": {
            "text/plain": [
              "count    2410.000000\n",
              "mean        0.949914\n",
              "std         0.059009\n",
              "min         0.000000\n",
              "25%         0.937500\n",
              "50%         0.968750\n",
              "75%         0.979167\n",
              "max         1.000000\n",
              "Name: release_year_norm, dtype: float64"
            ]
          },
          "metadata": {
            "tags": []
          },
          "execution_count": 28
        }
      ]
    },
    {
      "cell_type": "code",
      "metadata": {
        "colab": {
          "base_uri": "https://localhost:8080/"
        },
        "id": "EfsIvSJwlFHr",
        "outputId": "8171ec33-9878-4a3d-ac61-aba04eabf1ca"
      },
      "source": [
        "dfShow['duration_norm'] = minmax_scaler.fit_transform(dfShow[['duration']])\n",
        "dfShow['duration_norm'].describe()"
      ],
      "execution_count": 29,
      "outputs": [
        {
          "output_type": "execute_result",
          "data": {
            "text/plain": [
              "count    2410.000000\n",
              "mean        0.051729\n",
              "std         0.106424\n",
              "min         0.000000\n",
              "25%         0.000000\n",
              "50%         0.000000\n",
              "75%         0.066667\n",
              "max         1.000000\n",
              "Name: duration_norm, dtype: float64"
            ]
          },
          "metadata": {
            "tags": []
          },
          "execution_count": 29
        }
      ]
    },
    {
      "cell_type": "markdown",
      "metadata": {
        "id": "nbmrdTh4edxu"
      },
      "source": [
        "### Discretizando em intervalos iguais as features *duration* e *release_year* do dataset de filme temos:"
      ]
    },
    {
      "cell_type": "code",
      "metadata": {
        "colab": {
          "base_uri": "https://localhost:8080/"
        },
        "id": "CNKb-dWliAnJ",
        "outputId": "8651dce2-7377-48b7-8f64-f93900929a9c"
      },
      "source": [
        "dfMovie['duration_dist'] = pd.qcut(dfMovie['duration'],4)\n",
        "dfMovie['duration_dist'].describe()"
      ],
      "execution_count": 30,
      "outputs": [
        {
          "output_type": "execute_result",
          "data": {
            "text/plain": [
              "count              5377\n",
              "unique                4\n",
              "top       (2.999, 86.0]\n",
              "freq               1377\n",
              "Name: duration_dist, dtype: object"
            ]
          },
          "metadata": {
            "tags": []
          },
          "execution_count": 30
        }
      ]
    },
    {
      "cell_type": "code",
      "metadata": {
        "colab": {
          "base_uri": "https://localhost:8080/"
        },
        "id": "-nQwZbTXi1hK",
        "outputId": "dbc2297e-eb1b-4a48-9ab2-2d9b5ff8fb03"
      },
      "source": [
        "dfMovie['release_year_dist'] = pd.qcut(dfMovie['release_year'],4)\n",
        "dfMovie['release_year_dist'].describe()"
      ],
      "execution_count": 31,
      "outputs": [
        {
          "output_type": "execute_result",
          "data": {
            "text/plain": [
              "count                 5377\n",
              "unique                   4\n",
              "top       (2016.0, 2018.0]\n",
              "freq                  1478\n",
              "Name: release_year_dist, dtype: object"
            ]
          },
          "metadata": {
            "tags": []
          },
          "execution_count": 31
        }
      ]
    },
    {
      "cell_type": "code",
      "metadata": {
        "colab": {
          "base_uri": "https://localhost:8080/"
        },
        "id": "K540tunJi_FL",
        "outputId": "26a4ac3a-4f49-449f-f1f3-b8dc26894c24"
      },
      "source": [
        "dfMovie['duration_dist'].value_counts()"
      ],
      "execution_count": 32,
      "outputs": [
        {
          "output_type": "execute_result",
          "data": {
            "text/plain": [
              "(2.999, 86.0]     1377\n",
              "(86.0, 98.0]      1368\n",
              "(114.0, 312.0]    1331\n",
              "(98.0, 114.0]     1301\n",
              "Name: duration_dist, dtype: int64"
            ]
          },
          "metadata": {
            "tags": []
          },
          "execution_count": 32
        }
      ]
    },
    {
      "cell_type": "code",
      "metadata": {
        "colab": {
          "base_uri": "https://localhost:8080/"
        },
        "id": "zNLiO8B3oBCs",
        "outputId": "858267e7-e9e1-407f-857c-5627412fbb46"
      },
      "source": [
        "dfMovie['release_year_dist'].value_counts()"
      ],
      "execution_count": 33,
      "outputs": [
        {
          "output_type": "execute_result",
          "data": {
            "text/plain": [
              "(2016.0, 2018.0]      1478\n",
              "(2012.0, 2016.0]      1470\n",
              "(1941.999, 2012.0]    1424\n",
              "(2018.0, 2021.0]      1005\n",
              "Name: release_year_dist, dtype: int64"
            ]
          },
          "metadata": {
            "tags": []
          },
          "execution_count": 33
        }
      ]
    },
    {
      "cell_type": "markdown",
      "metadata": {
        "id": "5TM2nzt9jXz2"
      },
      "source": [
        "## Agora iremos fazer a limpeza dos nossos dados "
      ]
    },
    {
      "cell_type": "markdown",
      "metadata": {
        "id": "5bvbhek0pHPv"
      },
      "source": [
        "> ### Primeiro checando se temos dados duplicados"
      ]
    },
    {
      "cell_type": "code",
      "metadata": {
        "colab": {
          "base_uri": "https://localhost:8080/"
        },
        "id": "qJj5vPa2Zk6q",
        "outputId": "26daeb67-71fc-4950-fb25-78caaba6801d"
      },
      "source": [
        "len(df)"
      ],
      "execution_count": 34,
      "outputs": [
        {
          "output_type": "execute_result",
          "data": {
            "text/plain": [
              "7787"
            ]
          },
          "metadata": {
            "tags": []
          },
          "execution_count": 34
        }
      ]
    },
    {
      "cell_type": "code",
      "metadata": {
        "id": "7HJQ6FjqY2UL"
      },
      "source": [
        "df.drop_duplicates(keep = False, inplace = True)"
      ],
      "execution_count": 35,
      "outputs": []
    },
    {
      "cell_type": "code",
      "metadata": {
        "colab": {
          "base_uri": "https://localhost:8080/"
        },
        "id": "WD9uXsbGZdYW",
        "outputId": "667def72-e852-4620-9625-5ff556c0b471"
      },
      "source": [
        "len(df)"
      ],
      "execution_count": 36,
      "outputs": [
        {
          "output_type": "execute_result",
          "data": {
            "text/plain": [
              "7787"
            ]
          },
          "metadata": {
            "tags": []
          },
          "execution_count": 36
        }
      ]
    },
    {
      "cell_type": "markdown",
      "metadata": {
        "id": "60vZq1WPZo8d"
      },
      "source": [
        "Como podemos ver não temos nenhum dado exatamente igual em nosso dataset"
      ]
    },
    {
      "cell_type": "markdown",
      "metadata": {
        "id": "Hv-pqswdZyDt"
      },
      "source": [
        "### Removendo outliers através do método tukey(univariado) nos atributos de *duration* para filmes "
      ]
    },
    {
      "cell_type": "markdown",
      "metadata": {
        "id": "8P8n_PCsaaYM"
      },
      "source": [
        "Primeiramente vemos a descrição de *duration*"
      ]
    },
    {
      "cell_type": "code",
      "metadata": {
        "colab": {
          "base_uri": "https://localhost:8080/"
        },
        "id": "0e9bEyIyaZnJ",
        "outputId": "fbd2b217-d458-4264-9c4d-649dbc19d967"
      },
      "source": [
        "dfMovie.duration.describe()"
      ],
      "execution_count": 110,
      "outputs": [
        {
          "output_type": "execute_result",
          "data": {
            "text/plain": [
              "count    5377.000000\n",
              "mean       99.307978\n",
              "std        28.530881\n",
              "min         3.000000\n",
              "25%        86.000000\n",
              "50%        98.000000\n",
              "75%       114.000000\n",
              "max       312.000000\n",
              "Name: duration, dtype: float64"
            ]
          },
          "metadata": {
            "tags": []
          },
          "execution_count": 110
        }
      ]
    },
    {
      "cell_type": "markdown",
      "metadata": {
        "id": "XQLrnPAKam9A"
      },
      "source": [
        "Vendo graficamente"
      ]
    },
    {
      "cell_type": "code",
      "metadata": {
        "colab": {
          "base_uri": "https://localhost:8080/",
          "height": 269
        },
        "id": "k0X6KTDEap_S",
        "outputId": "25a5e567-e67c-4980-c4b3-660dce479c0c"
      },
      "source": [
        "sns.boxplot(y=dfMovie.duration)"
      ],
      "execution_count": 111,
      "outputs": [
        {
          "output_type": "execute_result",
          "data": {
            "text/plain": [
              "<matplotlib.axes._subplots.AxesSubplot at 0x7f015aebdc10>"
            ]
          },
          "metadata": {
            "tags": []
          },
          "execution_count": 111
        },
        {
          "output_type": "display_data",
          "data": {
            "image/png": "[encoded data removed]",
            "text/plain": [
              "<Figure size 432x288 with 1 Axes>"
            ]
          },
          "metadata": {
            "tags": [],
            "needs_background": "light"
          }
        }
      ]
    },
    {
      "cell_type": "code",
      "metadata": {
        "colab": {
          "base_uri": "https://localhost:8080/",
          "height": 282
        },
        "id": "o-v0ow8Hct5f",
        "outputId": "6a2d88b1-912a-4392-a339-9bcfca13908b"
      },
      "source": [
        "dfMovie['duration'].plot.box()"
      ],
      "execution_count": 112,
      "outputs": [
        {
          "output_type": "execute_result",
          "data": {
            "text/plain": [
              "<matplotlib.axes._subplots.AxesSubplot at 0x7f015ae30f10>"
            ]
          },
          "metadata": {
            "tags": []
          },
          "execution_count": 112
        },
        {
          "output_type": "display_data",
          "data": {
            "image/png": "[encoded data removed]",
            "text/plain": [
              "<Figure size 432x288 with 1 Axes>"
            ]
          },
          "metadata": {
            "tags": [],
            "needs_background": "light"
          }
        }
      ]
    },
    {
      "cell_type": "code",
      "metadata": {
        "colab": {
          "base_uri": "https://localhost:8080/",
          "height": 282
        },
        "id": "lcR18xoWfLGD",
        "outputId": "0b8d0e30-64d0-43e4-dccd-9d9e1ca1f36c"
      },
      "source": [
        "dfMovie.duration.hist()"
      ],
      "execution_count": 113,
      "outputs": [
        {
          "output_type": "execute_result",
          "data": {
            "text/plain": [
              "<matplotlib.axes._subplots.AxesSubplot at 0x7f015ae02750>"
            ]
          },
          "metadata": {
            "tags": []
          },
          "execution_count": 113
        },
        {
          "output_type": "display_data",
          "data": {
            "image/png": "[encoded data removed]",
            "text/plain": [
              "<Figure size 432x288 with 1 Axes>"
            ]
          },
          "metadata": {
            "tags": [],
            "needs_background": "light"
          }
        }
      ]
    },
    {
      "cell_type": "markdown",
      "metadata": {
        "id": "Cooz81LJdChF"
      },
      "source": [
        "Como já normalizamos a distribuição de *duration* vamos utilizá-la para dar continuidade."
      ]
    },
    {
      "cell_type": "code",
      "metadata": {
        "colab": {
          "base_uri": "https://localhost:8080/",
          "height": 282
        },
        "id": "GcN4wSa-dWju",
        "outputId": "2fb003bc-d096-4df3-b128-000e7e250648"
      },
      "source": [
        "dfMovie.duration_norm.hist()"
      ],
      "execution_count": 114,
      "outputs": [
        {
          "output_type": "execute_result",
          "data": {
            "text/plain": [
              "<matplotlib.axes._subplots.AxesSubplot at 0x7f015ad47f50>"
            ]
          },
          "metadata": {
            "tags": []
          },
          "execution_count": 114
        },
        {
          "output_type": "display_data",
          "data": {
            "image/png": "[encoded data removed]",
            "text/plain": [
              "<Figure size 432x288 with 1 Axes>"
            ]
          },
          "metadata": {
            "tags": [],
            "needs_background": "light"
          }
        }
      ]
    },
    {
      "cell_type": "markdown",
      "metadata": {
        "id": "Q7eOtACmfUwi"
      },
      "source": [
        "Calculando o IQR, já que outliers são identificados fora dos limites inferiores e superiores dados por Q1 - 1.5IQR e Q3 + 1.5IQR respectivamente."
      ]
    },
    {
      "cell_type": "code",
      "metadata": {
        "colab": {
          "base_uri": "https://localhost:8080/"
        },
        "id": "DhH_gAq3gPpN",
        "outputId": "529d4338-7db5-4a6b-eefd-7ed02da3b77b"
      },
      "source": [
        "q1 = dfMovie['duration_norm'].quantile(q=0.25)\n",
        "q3 = dfMovie['duration_norm'].quantile(q=0.75)\n",
        "iqr = q3 - q1\n",
        "iqr"
      ],
      "execution_count": 115,
      "outputs": [
        {
          "output_type": "execute_result",
          "data": {
            "text/plain": [
              "0.9814840367357893"
            ]
          },
          "metadata": {
            "tags": []
          },
          "execution_count": 115
        }
      ]
    },
    {
      "cell_type": "markdown",
      "metadata": {
        "id": "zRoR-o_DgmGl"
      },
      "source": [
        "Teremos o seguinte dataset retirando outliers de acordo com o método de tukey"
      ]
    },
    {
      "cell_type": "code",
      "metadata": {
        "colab": {
          "base_uri": "https://localhost:8080/"
        },
        "id": "SqC3JcNdgwNa",
        "outputId": "c75ba86d-fdfa-4f09-d0b5-ecae716cad87"
      },
      "source": [
        "dfMovie1 = dfMovie[(dfMovie['duration_norm'] > (q1-1.5*iqr)) & (dfMovie['duration_norm'] < (q3+1.5*iqr))]\n",
        "len(dfMovie1)"
      ],
      "execution_count": 116,
      "outputs": [
        {
          "output_type": "execute_result",
          "data": {
            "text/plain": [
              "5012"
            ]
          },
          "metadata": {
            "tags": []
          },
          "execution_count": 116
        }
      ]
    },
    {
      "cell_type": "code",
      "metadata": {
        "colab": {
          "base_uri": "https://localhost:8080/",
          "height": 734
        },
        "id": "TTs-eoCFg9r7",
        "outputId": "3b493fba-1b6c-4973-dd9c-1a54ad5b39d8"
      },
      "source": [
        "dfMovie1.head()"
      ],
      "execution_count": 117,
      "outputs": [
        {
          "output_type": "execute_result",
          "data": {
            "text/html": [
              "<div>\n",
              "<style scoped>\n",
              "    .dataframe tbody tr th:only-of-type {\n",
              "        vertical-align: middle;\n",
              "    }\n",
              "\n",
              "    .dataframe tbody tr th {\n",
              "        vertical-align: top;\n",
              "    }\n",
              "\n",
              "    .dataframe thead th {\n",
              "        text-align: right;\n",
              "    }\n",
              "</style>\n",
              "<table border=\"1\" class=\"dataframe\">\n",
              "  <thead>\n",
              "    <tr style=\"text-align: right;\">\n",
              "      <th></th>\n",
              "      <th>show_id</th>\n",
              "      <th>type</th>\n",
              "      <th>title</th>\n",
              "      <th>director</th>\n",
              "      <th>cast</th>\n",
              "      <th>country</th>\n",
              "      <th>date_added</th>\n",
              "      <th>release_year</th>\n",
              "      <th>rating</th>\n",
              "      <th>duration</th>\n",
              "      <th>listed_in</th>\n",
              "      <th>description</th>\n",
              "      <th>release_year_norm</th>\n",
              "      <th>duration_norm</th>\n",
              "      <th>duration_dist</th>\n",
              "      <th>release_year_dist</th>\n",
              "      <th>duration_year</th>\n",
              "      <th>duration_year_norm</th>\n",
              "    </tr>\n",
              "  </thead>\n",
              "  <tbody>\n",
              "    <tr>\n",
              "      <th>1</th>\n",
              "      <td>s2</td>\n",
              "      <td>Movie</td>\n",
              "      <td>7:19</td>\n",
              "      <td>Jorge Michel Grau</td>\n",
              "      <td>Demián Bichir, Héctor Bonilla, Oscar Serrano, ...</td>\n",
              "      <td>Mexico</td>\n",
              "      <td>December 23, 2016</td>\n",
              "      <td>2016</td>\n",
              "      <td>TV-MA</td>\n",
              "      <td>93</td>\n",
              "      <td>Dramas, International Movies</td>\n",
              "      <td>After a devastating earthquake hits Mexico Cit...</td>\n",
              "      <td>0.318759</td>\n",
              "      <td>-0.221114</td>\n",
              "      <td>(86.0, 98.0]</td>\n",
              "      <td>(2012.0, 2016.0]</td>\n",
              "      <td>0.046131</td>\n",
              "      <td>-0.226016</td>\n",
              "    </tr>\n",
              "    <tr>\n",
              "      <th>2</th>\n",
              "      <td>s3</td>\n",
              "      <td>Movie</td>\n",
              "      <td>23:59</td>\n",
              "      <td>Gilbert Chan</td>\n",
              "      <td>Tedd Chan, Stella Chung, Henley Hii, Lawrence ...</td>\n",
              "      <td>Singapore</td>\n",
              "      <td>December 20, 2018</td>\n",
              "      <td>2011</td>\n",
              "      <td>R</td>\n",
              "      <td>78</td>\n",
              "      <td>Horror Movies, International Movies</td>\n",
              "      <td>When an army recruit is found dead, his fellow...</td>\n",
              "      <td>-0.198712</td>\n",
              "      <td>-0.746909</td>\n",
              "      <td>(2.999, 86.0]</td>\n",
              "      <td>(1941.999, 2012.0]</td>\n",
              "      <td>0.038787</td>\n",
              "      <td>-0.741598</td>\n",
              "    </tr>\n",
              "    <tr>\n",
              "      <th>3</th>\n",
              "      <td>s4</td>\n",
              "      <td>Movie</td>\n",
              "      <td>9</td>\n",
              "      <td>Shane Acker</td>\n",
              "      <td>Elijah Wood, John C. Reilly, Jennifer Connelly...</td>\n",
              "      <td>United States</td>\n",
              "      <td>November 16, 2017</td>\n",
              "      <td>2009</td>\n",
              "      <td>PG-13</td>\n",
              "      <td>80</td>\n",
              "      <td>Action &amp; Adventure, Independent Movies, Sci-Fi...</td>\n",
              "      <td>In a postapocalyptic world, rag-doll robots hi...</td>\n",
              "      <td>-0.405700</td>\n",
              "      <td>-0.676803</td>\n",
              "      <td>(2.999, 86.0]</td>\n",
              "      <td>(1941.999, 2012.0]</td>\n",
              "      <td>0.039821</td>\n",
              "      <td>-0.669000</td>\n",
              "    </tr>\n",
              "    <tr>\n",
              "      <th>4</th>\n",
              "      <td>s5</td>\n",
              "      <td>Movie</td>\n",
              "      <td>21</td>\n",
              "      <td>Robert Luketic</td>\n",
              "      <td>Jim Sturgess, Kevin Spacey, Kate Bosworth, Aar...</td>\n",
              "      <td>United States</td>\n",
              "      <td>January 1, 2020</td>\n",
              "      <td>2008</td>\n",
              "      <td>PG-13</td>\n",
              "      <td>123</td>\n",
              "      <td>Dramas</td>\n",
              "      <td>A brilliant group of students become card-coun...</td>\n",
              "      <td>-0.509194</td>\n",
              "      <td>0.830476</td>\n",
              "      <td>(114.0, 312.0]</td>\n",
              "      <td>(1941.999, 2012.0]</td>\n",
              "      <td>0.061255</td>\n",
              "      <td>0.835719</td>\n",
              "    </tr>\n",
              "    <tr>\n",
              "      <th>6</th>\n",
              "      <td>s7</td>\n",
              "      <td>Movie</td>\n",
              "      <td>122</td>\n",
              "      <td>Yasir Al Yasiri</td>\n",
              "      <td>Amina Khalil, Ahmed Dawood, Tarek Lotfy, Ahmed...</td>\n",
              "      <td>Egypt</td>\n",
              "      <td>June 1, 2020</td>\n",
              "      <td>2019</td>\n",
              "      <td>TV-MA</td>\n",
              "      <td>95</td>\n",
              "      <td>Horror Movies, International Movies</td>\n",
              "      <td>After an awful accident, a couple admitted to ...</td>\n",
              "      <td>0.629241</td>\n",
              "      <td>-0.151008</td>\n",
              "      <td>(86.0, 98.0]</td>\n",
              "      <td>(2018.0, 2021.0]</td>\n",
              "      <td>0.047053</td>\n",
              "      <td>-0.161287</td>\n",
              "    </tr>\n",
              "  </tbody>\n",
              "</table>\n",
              "</div>"
            ],
            "text/plain": [
              "  show_id   type  title  ...   release_year_dist duration_year duration_year_norm\n",
              "1      s2  Movie   7:19  ...    (2012.0, 2016.0]      0.046131          -0.226016\n",
              "2      s3  Movie  23:59  ...  (1941.999, 2012.0]      0.038787          -0.741598\n",
              "3      s4  Movie      9  ...  (1941.999, 2012.0]      0.039821          -0.669000\n",
              "4      s5  Movie     21  ...  (1941.999, 2012.0]      0.061255           0.835719\n",
              "6      s7  Movie    122  ...    (2018.0, 2021.0]      0.047053          -0.161287\n",
              "\n",
              "[5 rows x 18 columns]"
            ]
          },
          "metadata": {
            "tags": []
          },
          "execution_count": 117
        }
      ]
    },
    {
      "cell_type": "markdown",
      "metadata": {
        "id": "AVNCzmqhhMJF"
      },
      "source": [
        "### Vamos tentar remover agora utilizando duas variáveis, sendo elas duration e release_year"
      ]
    },
    {
      "cell_type": "code",
      "metadata": {
        "colab": {
          "base_uri": "https://localhost:8080/",
          "height": 296
        },
        "id": "ekUJPQ4Bhnjx",
        "outputId": "0a58eaa2-d5ff-4fe9-8d4d-9aba521b79b2"
      },
      "source": [
        "sns.scatterplot(x=\"duration\", y='release_year', data=dfMovie)"
      ],
      "execution_count": 45,
      "outputs": [
        {
          "output_type": "execute_result",
          "data": {
            "text/plain": [
              "<matplotlib.axes._subplots.AxesSubplot at 0x7f01ba839350>"
            ]
          },
          "metadata": {
            "tags": []
          },
          "execution_count": 45
        },
        {
          "output_type": "display_data",
          "data": {
            "image/png": "[encoded data removed]",
            "text/plain": [
              "<Figure size 432x288 with 1 Axes>"
            ]
          },
          "metadata": {
            "tags": [],
            "needs_background": "light"
          }
        }
      ]
    },
    {
      "cell_type": "code",
      "metadata": {
        "id": "3AF_Dv1ljcaB"
      },
      "source": [
        "dfMovie['duration_year'] = dfMovie['duration'] / dfMovie['release_year']"
      ],
      "execution_count": 46,
      "outputs": []
    },
    {
      "cell_type": "code",
      "metadata": {
        "colab": {
          "base_uri": "https://localhost:8080/"
        },
        "id": "YUJiHvI5k7qv",
        "outputId": "da6a7663-4df7-4482-9ad3-41e77a771572"
      },
      "source": [
        "dfMovie['duration_year'].describe()"
      ],
      "execution_count": 47,
      "outputs": [
        {
          "output_type": "execute_result",
          "data": {
            "text/plain": [
              "count    5377.000000\n",
              "mean        0.049350\n",
              "std         0.014246\n",
              "min         0.001490\n",
              "25%         0.042680\n",
              "50%         0.048611\n",
              "75%         0.056688\n",
              "max         0.154609\n",
              "Name: duration_year, dtype: float64"
            ]
          },
          "metadata": {
            "tags": []
          },
          "execution_count": 47
        }
      ]
    },
    {
      "cell_type": "code",
      "metadata": {
        "colab": {
          "base_uri": "https://localhost:8080/",
          "height": 270
        },
        "id": "6uEF77kulBV0",
        "outputId": "e712711a-c3d2-4e53-82bd-a0414ac1e931"
      },
      "source": [
        "sns.boxplot(y=dfMovie.duration_year)"
      ],
      "execution_count": 48,
      "outputs": [
        {
          "output_type": "execute_result",
          "data": {
            "text/plain": [
              "<matplotlib.axes._subplots.AxesSubplot at 0x7f01ba8391d0>"
            ]
          },
          "metadata": {
            "tags": []
          },
          "execution_count": 48
        },
        {
          "output_type": "display_data",
          "data": {
            "image/png": "[encoded data removed]",
            "text/plain": [
              "<Figure size 432x288 with 1 Axes>"
            ]
          },
          "metadata": {
            "tags": [],
            "needs_background": "light"
          }
        }
      ]
    },
    {
      "cell_type": "code",
      "metadata": {
        "colab": {
          "base_uri": "https://localhost:8080/",
          "height": 282
        },
        "id": "SpCqgGjolJrM",
        "outputId": "2f1359e7-4e29-4620-f302-58c1c2370db5"
      },
      "source": [
        "dfMovie['duration_year'].hist()"
      ],
      "execution_count": 49,
      "outputs": [
        {
          "output_type": "execute_result",
          "data": {
            "text/plain": [
              "<matplotlib.axes._subplots.AxesSubplot at 0x7f01ba7b9f90>"
            ]
          },
          "metadata": {
            "tags": []
          },
          "execution_count": 49
        },
        {
          "output_type": "display_data",
          "data": {
            "image/png": "[encoded data removed]",
            "text/plain": [
              "<Figure size 432x288 with 1 Axes>"
            ]
          },
          "metadata": {
            "tags": [],
            "needs_background": "light"
          }
        }
      ]
    },
    {
      "cell_type": "markdown",
      "metadata": {
        "id": "1X16FoqXl9vR"
      },
      "source": [
        "Normalizando, apesar de já seguirmos uma distribuição parecida com a gaussiana"
      ]
    },
    {
      "cell_type": "code",
      "metadata": {
        "colab": {
          "base_uri": "https://localhost:8080/"
        },
        "id": "SknZ8rzLl9Sz",
        "outputId": "e2e66205-62ef-494c-8ebc-eb3623155ba8"
      },
      "source": [
        "scaler = StandardScaler()\n",
        "dfMovie['duration_year_norm'] = scaler.fit_transform(dfMovie[['duration_year']])\n",
        "dfMovie['duration_year_norm'].describe()"
      ],
      "execution_count": 50,
      "outputs": [
        {
          "output_type": "execute_result",
          "data": {
            "text/plain": [
              "count    5.377000e+03\n",
              "mean     2.585083e-16\n",
              "std      1.000093e+00\n",
              "min     -3.359925e+00\n",
              "25%     -4.682861e-01\n",
              "50%     -5.190399e-02\n",
              "75%      5.151239e-01\n",
              "max      7.389314e+00\n",
              "Name: duration_year_norm, dtype: float64"
            ]
          },
          "metadata": {
            "tags": []
          },
          "execution_count": 50
        }
      ]
    },
    {
      "cell_type": "code",
      "metadata": {
        "colab": {
          "base_uri": "https://localhost:8080/",
          "height": 282
        },
        "id": "LRHfNPvQmKrn",
        "outputId": "a1069d36-f8eb-4e90-eba8-dc74e6190b89"
      },
      "source": [
        "dfMovie['duration_year_norm'].hist()"
      ],
      "execution_count": 51,
      "outputs": [
        {
          "output_type": "execute_result",
          "data": {
            "text/plain": [
              "<matplotlib.axes._subplots.AxesSubplot at 0x7f01ba7e2f50>"
            ]
          },
          "metadata": {
            "tags": []
          },
          "execution_count": 51
        },
        {
          "output_type": "display_data",
          "data": {
            "image/png": "[encoded data removed]",
            "text/plain": [
              "<Figure size 432x288 with 1 Axes>"
            ]
          },
          "metadata": {
            "tags": [],
            "needs_background": "light"
          }
        }
      ]
    },
    {
      "cell_type": "code",
      "metadata": {
        "id": "edGgppx8mide"
      },
      "source": [
        "mad = abs(dfMovie['duration_year_norm'] - dfMovie['duration_year_norm'].median()).median()*(1/0.6745)"
      ],
      "execution_count": 52,
      "outputs": []
    },
    {
      "cell_type": "code",
      "metadata": {
        "colab": {
          "base_uri": "https://localhost:8080/",
          "height": 282
        },
        "id": "8eyV5jZnmwDy",
        "outputId": "1ed4d143-7c04-4feb-8119-18bf8f8eec8e"
      },
      "source": [
        "(abs(dfMovie['duration_year_norm']-dfMovie['duration_year_norm'].median())/mad).hist()"
      ],
      "execution_count": 53,
      "outputs": [
        {
          "output_type": "execute_result",
          "data": {
            "text/plain": [
              "<matplotlib.axes._subplots.AxesSubplot at 0x7f01ba5ccad0>"
            ]
          },
          "metadata": {
            "tags": []
          },
          "execution_count": 53
        },
        {
          "output_type": "display_data",
          "data": {
            "image/png": "[encoded data removed]",
            "text/plain": [
              "<Figure size 432x288 with 1 Axes>"
            ]
          },
          "metadata": {
            "tags": [],
            "needs_background": "light"
          }
        }
      ]
    },
    {
      "cell_type": "code",
      "metadata": {
        "colab": {
          "base_uri": "https://localhost:8080/"
        },
        "id": "E8sYZ02HnETA",
        "outputId": "89686a33-bb6f-49fd-89f5-f23f462a1d7b"
      },
      "source": [
        "dfMovie2 = dfMovie[abs(dfMovie['duration_year_norm']-dfMovie['duration_year_norm'].median())/mad < 4.5]\n",
        "print(len(dfMovie2))"
      ],
      "execution_count": 54,
      "outputs": [
        {
          "output_type": "stream",
          "text": [
            "5352\n"
          ],
          "name": "stdout"
        }
      ]
    },
    {
      "cell_type": "markdown",
      "metadata": {
        "id": "JwWPiaIWneLw"
      },
      "source": [
        "Comparando os dois métodos, retiramos mais dados utilizando apenas uma variável"
      ]
    },
    {
      "cell_type": "markdown",
      "metadata": {
        "id": "nDTnpHDpkT4f"
      },
      "source": [
        "#Analisando nossas estatísticas univariadas a 'TV Show' e a 'Movie'.\n",
        "\n",
        "\n",
        "\n",
        "\n"
      ]
    },
    {
      "cell_type": "code",
      "metadata": {
        "colab": {
          "base_uri": "https://localhost:8080/"
        },
        "id": "s7dx8ZpszIgf",
        "outputId": "4ca24056-8721-4548-ee7e-a4e28fb6b32c"
      },
      "source": [
        "df[df['type']=='TV Show']['duration'].describe()"
      ],
      "execution_count": 55,
      "outputs": [
        {
          "output_type": "execute_result",
          "data": {
            "text/plain": [
              "count    2410.000000\n",
              "mean        1.775934\n",
              "std         1.596359\n",
              "min         1.000000\n",
              "25%         1.000000\n",
              "50%         1.000000\n",
              "75%         2.000000\n",
              "max        16.000000\n",
              "Name: duration, dtype: float64"
            ]
          },
          "metadata": {
            "tags": []
          },
          "execution_count": 55
        }
      ]
    },
    {
      "cell_type": "code",
      "metadata": {
        "colab": {
          "base_uri": "https://localhost:8080/"
        },
        "id": "CWxopkkQsiOu",
        "outputId": "3561ff14-6778-4a1b-89e2-0557eebe6dba"
      },
      "source": [
        "df[df['type']=='Movie']['duration'].describe()"
      ],
      "execution_count": 56,
      "outputs": [
        {
          "output_type": "execute_result",
          "data": {
            "text/plain": [
              "count    5377.000000\n",
              "mean       99.307978\n",
              "std        28.530881\n",
              "min         3.000000\n",
              "25%        86.000000\n",
              "50%        98.000000\n",
              "75%       114.000000\n",
              "max       312.000000\n",
              "Name: duration, dtype: float64"
            ]
          },
          "metadata": {
            "tags": []
          },
          "execution_count": 56
        }
      ]
    },
    {
      "cell_type": "markdown",
      "metadata": {
        "id": "RTc-_W-Tzc2O"
      },
      "source": [
        "Podemos ver que temos um filme com duração de 3 minutos, vamos ver melhor que filme é esse."
      ]
    },
    {
      "cell_type": "code",
      "metadata": {
        "colab": {
          "base_uri": "https://localhost:8080/",
          "height": 241
        },
        "id": "3hhwyZuuzodi",
        "outputId": "b8fa90c1-b60f-4c00-ea1f-7547dfcd2a5f"
      },
      "source": [
        "df.loc[(df['duration'] < 10) & (df['type'] == 'Movie')]"
      ],
      "execution_count": 57,
      "outputs": [
        {
          "output_type": "execute_result",
          "data": {
            "text/html": [
              "<div>\n",
              "<style scoped>\n",
              "    .dataframe tbody tr th:only-of-type {\n",
              "        vertical-align: middle;\n",
              "    }\n",
              "\n",
              "    .dataframe tbody tr th {\n",
              "        vertical-align: top;\n",
              "    }\n",
              "\n",
              "    .dataframe thead th {\n",
              "        text-align: right;\n",
              "    }\n",
              "</style>\n",
              "<table border=\"1\" class=\"dataframe\">\n",
              "  <thead>\n",
              "    <tr style=\"text-align: right;\">\n",
              "      <th></th>\n",
              "      <th>show_id</th>\n",
              "      <th>type</th>\n",
              "      <th>title</th>\n",
              "      <th>director</th>\n",
              "      <th>cast</th>\n",
              "      <th>country</th>\n",
              "      <th>date_added</th>\n",
              "      <th>release_year</th>\n",
              "      <th>rating</th>\n",
              "      <th>duration</th>\n",
              "      <th>listed_in</th>\n",
              "      <th>description</th>\n",
              "      <th>main_country</th>\n",
              "      <th>year_added</th>\n",
              "    </tr>\n",
              "  </thead>\n",
              "  <tbody>\n",
              "    <tr>\n",
              "      <th>1203</th>\n",
              "      <td>s1204</td>\n",
              "      <td>Movie</td>\n",
              "      <td>Canvas</td>\n",
              "      <td>Frank E. Abney III</td>\n",
              "      <td>desconhecido</td>\n",
              "      <td>United States</td>\n",
              "      <td>2020-12-11</td>\n",
              "      <td>2020</td>\n",
              "      <td>G</td>\n",
              "      <td>9</td>\n",
              "      <td>Children &amp; Family Movies, Dramas</td>\n",
              "      <td>After a heartbreaking loss, a grandfather stru...</td>\n",
              "      <td>United States</td>\n",
              "      <td>2020</td>\n",
              "    </tr>\n",
              "    <tr>\n",
              "      <th>1501</th>\n",
              "      <td>s1502</td>\n",
              "      <td>Movie</td>\n",
              "      <td>Cops and Robbers</td>\n",
              "      <td>Arnon Manor, Timothy Ware-Hill</td>\n",
              "      <td>Timothy Ware-Hill</td>\n",
              "      <td>United States</td>\n",
              "      <td>2020-12-28</td>\n",
              "      <td>2020</td>\n",
              "      <td>PG-13</td>\n",
              "      <td>8</td>\n",
              "      <td>Dramas</td>\n",
              "      <td>Animation and activism unite in this multimedi...</td>\n",
              "      <td>United States</td>\n",
              "      <td>2020</td>\n",
              "    </tr>\n",
              "    <tr>\n",
              "      <th>5605</th>\n",
              "      <td>s5606</td>\n",
              "      <td>Movie</td>\n",
              "      <td>Silent</td>\n",
              "      <td>Limbert Fabian, Brandon Oldenburg</td>\n",
              "      <td>desconhecido</td>\n",
              "      <td>United States</td>\n",
              "      <td>2019-06-04</td>\n",
              "      <td>2014</td>\n",
              "      <td>TV-Y</td>\n",
              "      <td>3</td>\n",
              "      <td>Children &amp; Family Movies, Sci-Fi &amp; Fantasy</td>\n",
              "      <td>\"Silent\" is an animated short film created by ...</td>\n",
              "      <td>United States</td>\n",
              "      <td>2019</td>\n",
              "    </tr>\n",
              "    <tr>\n",
              "      <th>5694</th>\n",
              "      <td>s5695</td>\n",
              "      <td>Movie</td>\n",
              "      <td>Sol Levante</td>\n",
              "      <td>Akira Saitoh</td>\n",
              "      <td>desconhecido</td>\n",
              "      <td>Japan</td>\n",
              "      <td>2020-04-02</td>\n",
              "      <td>2020</td>\n",
              "      <td>TV-14</td>\n",
              "      <td>5</td>\n",
              "      <td>Action &amp; Adventure, Anime Features, Internatio...</td>\n",
              "      <td>A young warrior and her familiar search for th...</td>\n",
              "      <td>Japan</td>\n",
              "      <td>2020</td>\n",
              "    </tr>\n",
              "  </tbody>\n",
              "</table>\n",
              "</div>"
            ],
            "text/plain": [
              "     show_id   type  ...   main_country year_added\n",
              "1203   s1204  Movie  ...  United States       2020\n",
              "1501   s1502  Movie  ...  United States       2020\n",
              "5605   s5606  Movie  ...  United States       2019\n",
              "5694   s5695  Movie  ...          Japan       2020\n",
              "\n",
              "[4 rows x 14 columns]"
            ]
          },
          "metadata": {
            "tags": []
          },
          "execution_count": 57
        }
      ]
    },
    {
      "cell_type": "markdown",
      "metadata": {
        "id": "lqES-Llm0pOg"
      },
      "source": [
        "Dessa forma temos a confirmação de que nosso dataset contém curtas, que também são considerados filmes."
      ]
    },
    {
      "cell_type": "markdown",
      "metadata": {
        "id": "spUriI4n9NYg"
      },
      "source": [
        "* Veremos também agora as estatísticas univariadas para os anos de lançamento"
      ]
    },
    {
      "cell_type": "code",
      "metadata": {
        "colab": {
          "base_uri": "https://localhost:8080/"
        },
        "id": "0HcZws-BBZrZ",
        "outputId": "8083c764-0bad-4a93-cf1e-22bc9a931cdb"
      },
      "source": [
        "df['release_year'].describe()"
      ],
      "execution_count": 58,
      "outputs": [
        {
          "output_type": "execute_result",
          "data": {
            "text/plain": [
              "count    7787.000000\n",
              "mean     2013.932580\n",
              "std         8.757395\n",
              "min      1925.000000\n",
              "25%      2013.000000\n",
              "50%      2017.000000\n",
              "75%      2018.000000\n",
              "max      2021.000000\n",
              "Name: release_year, dtype: float64"
            ]
          },
          "metadata": {
            "tags": []
          },
          "execution_count": 58
        }
      ]
    },
    {
      "cell_type": "markdown",
      "metadata": {
        "id": "0X2l8Cl3CHvl"
      },
      "source": [
        "# Analisando agora estatísticas bivariadas teremos:"
      ]
    },
    {
      "cell_type": "code",
      "metadata": {
        "colab": {
          "base_uri": "https://localhost:8080/",
          "height": 142
        },
        "id": "6gIZ_YQFCNZU",
        "outputId": "7e20234b-0338-4e8a-e61b-8f5806d230b3"
      },
      "source": [
        "df[df.type=='Movie'].corr(method='spearman')"
      ],
      "execution_count": 59,
      "outputs": [
        {
          "output_type": "execute_result",
          "data": {
            "text/html": [
              "<div>\n",
              "<style scoped>\n",
              "    .dataframe tbody tr th:only-of-type {\n",
              "        vertical-align: middle;\n",
              "    }\n",
              "\n",
              "    .dataframe tbody tr th {\n",
              "        vertical-align: top;\n",
              "    }\n",
              "\n",
              "    .dataframe thead th {\n",
              "        text-align: right;\n",
              "    }\n",
              "</style>\n",
              "<table border=\"1\" class=\"dataframe\">\n",
              "  <thead>\n",
              "    <tr style=\"text-align: right;\">\n",
              "      <th></th>\n",
              "      <th>release_year</th>\n",
              "      <th>duration</th>\n",
              "      <th>year_added</th>\n",
              "    </tr>\n",
              "  </thead>\n",
              "  <tbody>\n",
              "    <tr>\n",
              "      <th>release_year</th>\n",
              "      <td>1.000000</td>\n",
              "      <td>-0.210483</td>\n",
              "      <td>0.224301</td>\n",
              "    </tr>\n",
              "    <tr>\n",
              "      <th>duration</th>\n",
              "      <td>-0.210483</td>\n",
              "      <td>1.000000</td>\n",
              "      <td>0.138488</td>\n",
              "    </tr>\n",
              "    <tr>\n",
              "      <th>year_added</th>\n",
              "      <td>0.224301</td>\n",
              "      <td>0.138488</td>\n",
              "      <td>1.000000</td>\n",
              "    </tr>\n",
              "  </tbody>\n",
              "</table>\n",
              "</div>"
            ],
            "text/plain": [
              "              release_year  duration  year_added\n",
              "release_year      1.000000 -0.210483    0.224301\n",
              "duration         -0.210483  1.000000    0.138488\n",
              "year_added        0.224301  0.138488    1.000000"
            ]
          },
          "metadata": {
            "tags": []
          },
          "execution_count": 59
        }
      ]
    },
    {
      "cell_type": "markdown",
      "metadata": {
        "id": "NFp8Vt00FNh-"
      },
      "source": [
        "dessa forma podemos notar que conforme o tempo foi passando a duração dos filmes foi diminuindo"
      ]
    },
    {
      "cell_type": "code",
      "metadata": {
        "colab": {
          "base_uri": "https://localhost:8080/",
          "height": 401
        },
        "id": "3wGCxdWybjFj",
        "outputId": "626a1cb2-4d95-4866-dc34-457cbf9611f2"
      },
      "source": [
        "sns.lmplot(x=\"release_year\", y='duration', data=dfMovie)\n"
      ],
      "execution_count": 60,
      "outputs": [
        {
          "output_type": "execute_result",
          "data": {
            "text/plain": [
              "<seaborn.axisgrid.FacetGrid at 0x7f01bbb1c150>"
            ]
          },
          "metadata": {
            "tags": []
          },
          "execution_count": 60
        },
        {
          "output_type": "display_data",
          "data": {
            "image/png": "[encoded data removed]",
            "text/plain": [
              "<Figure size 360x360 with 1 Axes>"
            ]
          },
          "metadata": {
            "tags": [],
            "needs_background": "light"
          }
        }
      ]
    },
    {
      "cell_type": "markdown",
      "metadata": {
        "id": "Ht7VJvXpn7u7"
      },
      "source": [
        "Podemos ver que conforme o tempo passa os filmes vem ficando mais curtos, confirmando graficamente o que foi observado"
      ]
    },
    {
      "cell_type": "markdown",
      "metadata": {
        "id": "0wj5e-TIp9sU"
      },
      "source": [
        "# Realizando agora uma análise descritiva dos nossos dados"
      ]
    },
    {
      "cell_type": "markdown",
      "metadata": {
        "id": "1l98qPevqHuV"
      },
      "source": [
        "### Comparando as quantidades de filmes e de TV Shows"
      ]
    },
    {
      "cell_type": "code",
      "metadata": {
        "colab": {
          "base_uri": "https://localhost:8080/",
          "height": 0
        },
        "id": "5_wyYTs0qbJH",
        "outputId": "1d217a0a-1b7e-48d6-f4c8-2fea572a6961"
      },
      "source": [
        "sns.countplot(y=\"type\",data=df)"
      ],
      "execution_count": 61,
      "outputs": [
        {
          "output_type": "execute_result",
          "data": {
            "text/plain": [
              "<matplotlib.axes._subplots.AxesSubplot at 0x7f01ba4f6210>"
            ]
          },
          "metadata": {
            "tags": []
          },
          "execution_count": 61
        },
        {
          "output_type": "display_data",
          "data": {
            "image/png": "[encoded data removed]",
            "text/plain": [
              "<Figure size 432x288 with 1 Axes>"
            ]
          },
          "metadata": {
            "tags": [],
            "needs_background": "light"
          }
        }
      ]
    },
    {
      "cell_type": "markdown",
      "metadata": {
        "id": "mKWVpGigqnaX"
      },
      "source": [
        "### Comparando por ano de lançamento de filme"
      ]
    },
    {
      "cell_type": "code",
      "metadata": {
        "colab": {
          "base_uri": "https://localhost:8080/",
          "height": 0
        },
        "id": "6KnLwriiquTe",
        "outputId": "6aa6be7b-1d95-4daa-ed38-617caa45b197"
      },
      "source": [
        "sns.countplot(y=\"release_year_dist\",data=dfMovie)"
      ],
      "execution_count": 62,
      "outputs": [
        {
          "output_type": "execute_result",
          "data": {
            "text/plain": [
              "<matplotlib.axes._subplots.AxesSubplot at 0x7f01b1c57e90>"
            ]
          },
          "metadata": {
            "tags": []
          },
          "execution_count": 62
        },
        {
          "output_type": "display_data",
          "data": {
            "image/png": "[encoded data removed]",
            "text/plain": [
              "<Figure size 432x288 with 1 Axes>"
            ]
          },
          "metadata": {
            "tags": [],
            "needs_background": "light"
          }
        }
      ]
    },
    {
      "cell_type": "markdown",
      "metadata": {
        "id": "3wXjU1SbsAhq"
      },
      "source": [
        "Podemos ver aqui que temos a maioria dos filmes na netflix foram lançados entre 2016 e 2018"
      ]
    },
    {
      "cell_type": "markdown",
      "metadata": {
        "id": "UNfcFiPT_W1g"
      },
      "source": [
        "### Agora vamos analisar a distribuição de adição de títulos à netflix ao longo dos anos"
      ]
    },
    {
      "cell_type": "code",
      "metadata": {
        "colab": {
          "base_uri": "https://localhost:8080/",
          "height": 0
        },
        "id": "uqWn4tWo_one",
        "outputId": "32685e69-dc24-48e2-8067-5d221654fb24"
      },
      "source": [
        "sns.countplot(y=\"year_added\",data=df)"
      ],
      "execution_count": 63,
      "outputs": [
        {
          "output_type": "execute_result",
          "data": {
            "text/plain": [
              "<matplotlib.axes._subplots.AxesSubplot at 0x7f01ba4d8dd0>"
            ]
          },
          "metadata": {
            "tags": []
          },
          "execution_count": 63
        },
        {
          "output_type": "display_data",
          "data": {
            "image/png": "[encoded data removed]",
            "text/plain": [
              "<Figure size 432x288 with 1 Axes>"
            ]
          },
          "metadata": {
            "tags": [],
            "needs_background": "light"
          }
        }
      ]
    },
    {
      "cell_type": "markdown",
      "metadata": {
        "id": "-G1TveLC_zzO"
      },
      "source": [
        "Aqui podemos ver que o ano que a netflix mais adicionou títulos foi em 2019"
      ]
    },
    {
      "cell_type": "markdown",
      "metadata": {
        "id": "VlEWV64LxM_p"
      },
      "source": [
        "### Analisando as classificações indicativas de séries e filmes, respectivamente."
      ]
    },
    {
      "cell_type": "code",
      "metadata": {
        "colab": {
          "base_uri": "https://localhost:8080/",
          "height": 0
        },
        "id": "KP4D705Tsd4d",
        "outputId": "901596f6-56f0-4b49-c2b1-cb5cd11a8a06"
      },
      "source": [
        "sns.countplot(y=\"rating\",data=dfShow)"
      ],
      "execution_count": 64,
      "outputs": [
        {
          "output_type": "execute_result",
          "data": {
            "text/plain": [
              "<matplotlib.axes._subplots.AxesSubplot at 0x7f01b1c57690>"
            ]
          },
          "metadata": {
            "tags": []
          },
          "execution_count": 64
        },
        {
          "output_type": "display_data",
          "data": {
            "image/png": "[encoded data removed]",
            "text/plain": [
              "<Figure size 432x288 with 1 Axes>"
            ]
          },
          "metadata": {
            "tags": [],
            "needs_background": "light"
          }
        }
      ]
    },
    {
      "cell_type": "markdown",
      "metadata": {
        "id": "c5CfwmVgsxU7"
      },
      "source": [
        "Podemos ver que não temos nenhuma série para maior de idade no nosso conjunto de dados"
      ]
    },
    {
      "cell_type": "code",
      "metadata": {
        "colab": {
          "base_uri": "https://localhost:8080/",
          "height": 0
        },
        "id": "E3phE914uorx",
        "outputId": "42162dbc-1a13-4c8b-d445-b713719578b8"
      },
      "source": [
        "sns.countplot(y=\"rating\",data=dfMovie)"
      ],
      "execution_count": 65,
      "outputs": [
        {
          "output_type": "execute_result",
          "data": {
            "text/plain": [
              "<matplotlib.axes._subplots.AxesSubplot at 0x7f01b1b6fad0>"
            ]
          },
          "metadata": {
            "tags": []
          },
          "execution_count": 65
        },
        {
          "output_type": "display_data",
          "data": {
            "image/png": "[encoded data removed]",
            "text/plain": [
              "<Figure size 432x288 with 1 Axes>"
            ]
          },
          "metadata": {
            "tags": [],
            "needs_background": "light"
          }
        }
      ]
    },
    {
      "cell_type": "markdown",
      "metadata": {
        "id": "_Tz4uFdVxApN"
      },
      "source": [
        "Podemos ver aqui que temos filmes para praticamente todas as idades na netflix"
      ]
    },
    {
      "cell_type": "markdown",
      "metadata": {
        "id": "37yImv4p2_dR"
      },
      "source": [
        "### Vendo agora a distribuição da duração dos nossos filmes/curtas temos o seguinte histograma"
      ]
    },
    {
      "cell_type": "code",
      "metadata": {
        "colab": {
          "base_uri": "https://localhost:8080/",
          "height": 296
        },
        "id": "Z4GDxTT_2ckA",
        "outputId": "45aebf10-4e19-4f31-e267-93c024d6b9da"
      },
      "source": [
        "sns.histplot(data=dfMovie['duration'],  kde=True)"
      ],
      "execution_count": 66,
      "outputs": [
        {
          "output_type": "execute_result",
          "data": {
            "text/plain": [
              "<matplotlib.axes._subplots.AxesSubplot at 0x7f01ba72fa10>"
            ]
          },
          "metadata": {
            "tags": []
          },
          "execution_count": 66
        },
        {
          "output_type": "display_data",
          "data": {
            "image/png": "[encoded data removed]",
            "text/plain": [
              "<Figure size 432x288 with 1 Axes>"
            ]
          },
          "metadata": {
            "tags": [],
            "needs_background": "light"
          }
        }
      ]
    },
    {
      "cell_type": "markdown",
      "metadata": {
        "id": "ZJPprSNN3k-F"
      },
      "source": [
        "### Agora por países"
      ]
    },
    {
      "cell_type": "code",
      "metadata": {
        "id": "myStKNzS3pAk"
      },
      "source": [
        "#sns.countplot(y='main_country',data=df)"
      ],
      "execution_count": 67,
      "outputs": []
    },
    {
      "cell_type": "code",
      "metadata": {
        "colab": {
          "base_uri": "https://localhost:8080/",
          "height": 359
        },
        "id": "gRrUd4AGAAV_",
        "outputId": "b1e4df2c-1777-45c1-bd2f-e2282c3fef32"
      },
      "source": [
        "df_country_counts = df['main_country'].value_counts(ascending=False).to_frame()\n",
        "df_country_counts = df_country_counts.reset_index()\n",
        "df_country_counts.columns = ['unique_values', 'counts for main_country']\n",
        "df_top_ten = df_country_counts[:10]\n",
        "df_top_ten"
      ],
      "execution_count": 68,
      "outputs": [
        {
          "output_type": "execute_result",
          "data": {
            "text/html": [
              "<div>\n",
              "<style scoped>\n",
              "    .dataframe tbody tr th:only-of-type {\n",
              "        vertical-align: middle;\n",
              "    }\n",
              "\n",
              "    .dataframe tbody tr th {\n",
              "        vertical-align: top;\n",
              "    }\n",
              "\n",
              "    .dataframe thead th {\n",
              "        text-align: right;\n",
              "    }\n",
              "</style>\n",
              "<table border=\"1\" class=\"dataframe\">\n",
              "  <thead>\n",
              "    <tr style=\"text-align: right;\">\n",
              "      <th></th>\n",
              "      <th>unique_values</th>\n",
              "      <th>counts for main_country</th>\n",
              "    </tr>\n",
              "  </thead>\n",
              "  <tbody>\n",
              "    <tr>\n",
              "      <th>0</th>\n",
              "      <td>United States</td>\n",
              "      <td>3390</td>\n",
              "    </tr>\n",
              "    <tr>\n",
              "      <th>1</th>\n",
              "      <td>India</td>\n",
              "      <td>956</td>\n",
              "    </tr>\n",
              "    <tr>\n",
              "      <th>2</th>\n",
              "      <td>United Kingdom</td>\n",
              "      <td>577</td>\n",
              "    </tr>\n",
              "    <tr>\n",
              "      <th>3</th>\n",
              "      <td>Canada</td>\n",
              "      <td>259</td>\n",
              "    </tr>\n",
              "    <tr>\n",
              "      <th>4</th>\n",
              "      <td>Japan</td>\n",
              "      <td>237</td>\n",
              "    </tr>\n",
              "    <tr>\n",
              "      <th>5</th>\n",
              "      <td>France</td>\n",
              "      <td>196</td>\n",
              "    </tr>\n",
              "    <tr>\n",
              "      <th>6</th>\n",
              "      <td>South Korea</td>\n",
              "      <td>194</td>\n",
              "    </tr>\n",
              "    <tr>\n",
              "      <th>7</th>\n",
              "      <td>Spain</td>\n",
              "      <td>168</td>\n",
              "    </tr>\n",
              "    <tr>\n",
              "      <th>8</th>\n",
              "      <td>Mexico</td>\n",
              "      <td>123</td>\n",
              "    </tr>\n",
              "    <tr>\n",
              "      <th>9</th>\n",
              "      <td>Australia</td>\n",
              "      <td>108</td>\n",
              "    </tr>\n",
              "  </tbody>\n",
              "</table>\n",
              "</div>"
            ],
            "text/plain": [
              "    unique_values  counts for main_country\n",
              "0   United States                     3390\n",
              "1           India                      956\n",
              "2  United Kingdom                      577\n",
              "3          Canada                      259\n",
              "4           Japan                      237\n",
              "5          France                      196\n",
              "6     South Korea                      194\n",
              "7           Spain                      168\n",
              "8          Mexico                      123\n",
              "9       Australia                      108"
            ]
          },
          "metadata": {
            "tags": []
          },
          "execution_count": 68
        }
      ]
    },
    {
      "cell_type": "markdown",
      "metadata": {
        "id": "SzeQroHexqHI"
      },
      "source": [
        "# Carregando dois novos datasets de [IMDB](https://www.imdb.com/interfaces/). Um contendo os títulos de filmes e séries e outro contendo avaliações dadas por espectadores"
      ]
    },
    {
      "cell_type": "code",
      "metadata": {
        "id": "nFgyJNMxzFvn"
      },
      "source": [
        "dfTitles = pd.read_csv(\"data.tsv\", sep='\\t')\n",
        "dfNotas = pd.read_csv(\"notas.tsv\", sep='\\t')"
      ],
      "execution_count": 69,
      "outputs": []
    },
    {
      "cell_type": "code",
      "metadata": {
        "colab": {
          "base_uri": "https://localhost:8080/",
          "height": 204
        },
        "id": "i_dWFWZkza0u",
        "outputId": "847ba42c-fb1e-42bf-b9b4-03d4ee3103fa"
      },
      "source": [
        "dfTitles.head()"
      ],
      "execution_count": 70,
      "outputs": [
        {
          "output_type": "execute_result",
          "data": {
            "text/html": [
              "<div>\n",
              "<style scoped>\n",
              "    .dataframe tbody tr th:only-of-type {\n",
              "        vertical-align: middle;\n",
              "    }\n",
              "\n",
              "    .dataframe tbody tr th {\n",
              "        vertical-align: top;\n",
              "    }\n",
              "\n",
              "    .dataframe thead th {\n",
              "        text-align: right;\n",
              "    }\n",
              "</style>\n",
              "<table border=\"1\" class=\"dataframe\">\n",
              "  <thead>\n",
              "    <tr style=\"text-align: right;\">\n",
              "      <th></th>\n",
              "      <th>tconst</th>\n",
              "      <th>titleType</th>\n",
              "      <th>primaryTitle</th>\n",
              "      <th>originalTitle</th>\n",
              "      <th>isAdult</th>\n",
              "      <th>startYear</th>\n",
              "      <th>endYear</th>\n",
              "      <th>runtimeMinutes</th>\n",
              "      <th>genres</th>\n",
              "    </tr>\n",
              "  </thead>\n",
              "  <tbody>\n",
              "    <tr>\n",
              "      <th>0</th>\n",
              "      <td>tt0000001</td>\n",
              "      <td>short</td>\n",
              "      <td>Carmencita</td>\n",
              "      <td>Carmencita</td>\n",
              "      <td>0</td>\n",
              "      <td>1894</td>\n",
              "      <td>\\N</td>\n",
              "      <td>1</td>\n",
              "      <td>Documentary,Short</td>\n",
              "    </tr>\n",
              "    <tr>\n",
              "      <th>1</th>\n",
              "      <td>tt0000002</td>\n",
              "      <td>short</td>\n",
              "      <td>Le clown et ses chiens</td>\n",
              "      <td>Le clown et ses chiens</td>\n",
              "      <td>0</td>\n",
              "      <td>1892</td>\n",
              "      <td>\\N</td>\n",
              "      <td>5</td>\n",
              "      <td>Animation,Short</td>\n",
              "    </tr>\n",
              "    <tr>\n",
              "      <th>2</th>\n",
              "      <td>tt0000003</td>\n",
              "      <td>short</td>\n",
              "      <td>Pauvre Pierrot</td>\n",
              "      <td>Pauvre Pierrot</td>\n",
              "      <td>0</td>\n",
              "      <td>1892</td>\n",
              "      <td>\\N</td>\n",
              "      <td>4</td>\n",
              "      <td>Animation,Comedy,Romance</td>\n",
              "    </tr>\n",
              "    <tr>\n",
              "      <th>3</th>\n",
              "      <td>tt0000004</td>\n",
              "      <td>short</td>\n",
              "      <td>Un bon bock</td>\n",
              "      <td>Un bon bock</td>\n",
              "      <td>0</td>\n",
              "      <td>1892</td>\n",
              "      <td>\\N</td>\n",
              "      <td>12</td>\n",
              "      <td>Animation,Short</td>\n",
              "    </tr>\n",
              "    <tr>\n",
              "      <th>4</th>\n",
              "      <td>tt0000005</td>\n",
              "      <td>short</td>\n",
              "      <td>Blacksmith Scene</td>\n",
              "      <td>Blacksmith Scene</td>\n",
              "      <td>0</td>\n",
              "      <td>1893</td>\n",
              "      <td>\\N</td>\n",
              "      <td>1</td>\n",
              "      <td>Comedy,Short</td>\n",
              "    </tr>\n",
              "  </tbody>\n",
              "</table>\n",
              "</div>"
            ],
            "text/plain": [
              "      tconst titleType  ... runtimeMinutes                    genres\n",
              "0  tt0000001     short  ...              1         Documentary,Short\n",
              "1  tt0000002     short  ...              5           Animation,Short\n",
              "2  tt0000003     short  ...              4  Animation,Comedy,Romance\n",
              "3  tt0000004     short  ...             12           Animation,Short\n",
              "4  tt0000005     short  ...              1              Comedy,Short\n",
              "\n",
              "[5 rows x 9 columns]"
            ]
          },
          "metadata": {
            "tags": []
          },
          "execution_count": 70
        }
      ]
    },
    {
      "cell_type": "code",
      "metadata": {
        "colab": {
          "base_uri": "https://localhost:8080/",
          "height": 359
        },
        "id": "bAs8yqUoICKZ",
        "outputId": "f4944ad6-0ae1-4711-c406-2c9ed83eba3c"
      },
      "source": [
        "dfTitles.tail(10)"
      ],
      "execution_count": 71,
      "outputs": [
        {
          "output_type": "execute_result",
          "data": {
            "text/html": [
              "<div>\n",
              "<style scoped>\n",
              "    .dataframe tbody tr th:only-of-type {\n",
              "        vertical-align: middle;\n",
              "    }\n",
              "\n",
              "    .dataframe tbody tr th {\n",
              "        vertical-align: top;\n",
              "    }\n",
              "\n",
              "    .dataframe thead th {\n",
              "        text-align: right;\n",
              "    }\n",
              "</style>\n",
              "<table border=\"1\" class=\"dataframe\">\n",
              "  <thead>\n",
              "    <tr style=\"text-align: right;\">\n",
              "      <th></th>\n",
              "      <th>tconst</th>\n",
              "      <th>titleType</th>\n",
              "      <th>primaryTitle</th>\n",
              "      <th>originalTitle</th>\n",
              "      <th>isAdult</th>\n",
              "      <th>startYear</th>\n",
              "      <th>endYear</th>\n",
              "      <th>runtimeMinutes</th>\n",
              "      <th>genres</th>\n",
              "    </tr>\n",
              "  </thead>\n",
              "  <tbody>\n",
              "    <tr>\n",
              "      <th>7436655</th>\n",
              "      <td>tt8544744</td>\n",
              "      <td>tvEpisode</td>\n",
              "      <td>Episode #1.5</td>\n",
              "      <td>Episode #1.5</td>\n",
              "      <td>0</td>\n",
              "      <td>2014</td>\n",
              "      <td>\\N</td>\n",
              "      <td>\\N</td>\n",
              "      <td>Comedy,Romance</td>\n",
              "    </tr>\n",
              "    <tr>\n",
              "      <th>7436656</th>\n",
              "      <td>tt8544748</td>\n",
              "      <td>tvEpisode</td>\n",
              "      <td>Episode #1.6</td>\n",
              "      <td>Episode #1.6</td>\n",
              "      <td>0</td>\n",
              "      <td>2014</td>\n",
              "      <td>\\N</td>\n",
              "      <td>\\N</td>\n",
              "      <td>Comedy,Romance</td>\n",
              "    </tr>\n",
              "    <tr>\n",
              "      <th>7436657</th>\n",
              "      <td>tt8544750</td>\n",
              "      <td>tvEpisode</td>\n",
              "      <td>Lisa Vidal/Oscar Torre/Mighelle Manterola.Paty...</td>\n",
              "      <td>Lisa Vidal/Oscar Torre/Mighelle Manterola.Paty...</td>\n",
              "      <td>0</td>\n",
              "      <td>2014</td>\n",
              "      <td>\\N</td>\n",
              "      <td>\\N</td>\n",
              "      <td>Comedy,Music,Talk-Show</td>\n",
              "    </tr>\n",
              "    <tr>\n",
              "      <th>7436658</th>\n",
              "      <td>tt8544752</td>\n",
              "      <td>tvEpisode</td>\n",
              "      <td>Storm's a-Mooin'</td>\n",
              "      <td>Storm's a-Mooin'</td>\n",
              "      <td>0</td>\n",
              "      <td>2018</td>\n",
              "      <td>\\N</td>\n",
              "      <td>44</td>\n",
              "      <td>Documentary,Reality-TV</td>\n",
              "    </tr>\n",
              "    <tr>\n",
              "      <th>7436659</th>\n",
              "      <td>tt8544754</td>\n",
              "      <td>tvEpisode</td>\n",
              "      <td>Episode #1.7</td>\n",
              "      <td>Episode #1.7</td>\n",
              "      <td>0</td>\n",
              "      <td>2014</td>\n",
              "      <td>\\N</td>\n",
              "      <td>\\N</td>\n",
              "      <td>Comedy,Romance</td>\n",
              "    </tr>\n",
              "    <tr>\n",
              "      <th>7436660</th>\n",
              "      <td>tt8544756</td>\n",
              "      <td>tvEpisode</td>\n",
              "      <td>Fernando Arau/Lupita Sandoval/Gloria Izaguirre...</td>\n",
              "      <td>Fernando Arau/Lupita Sandoval/Gloria Izaguirre...</td>\n",
              "      <td>0</td>\n",
              "      <td>2014</td>\n",
              "      <td>\\N</td>\n",
              "      <td>\\N</td>\n",
              "      <td>Comedy,Music,Talk-Show</td>\n",
              "    </tr>\n",
              "    <tr>\n",
              "      <th>7436661</th>\n",
              "      <td>tt8544758</td>\n",
              "      <td>tvEpisode</td>\n",
              "      <td>Buffalo Bills vs. San Francisco 49ers</td>\n",
              "      <td>Buffalo Bills vs. San Francisco 49ers</td>\n",
              "      <td>0</td>\n",
              "      <td>2004</td>\n",
              "      <td>\\N</td>\n",
              "      <td>\\N</td>\n",
              "      <td>Sport</td>\n",
              "    </tr>\n",
              "    <tr>\n",
              "      <th>7436662</th>\n",
              "      <td>tt8544760</td>\n",
              "      <td>short</td>\n",
              "      <td>Phoenix</td>\n",
              "      <td>Phoenix</td>\n",
              "      <td>0</td>\n",
              "      <td>2018</td>\n",
              "      <td>\\N</td>\n",
              "      <td>23</td>\n",
              "      <td>Drama,Short</td>\n",
              "    </tr>\n",
              "    <tr>\n",
              "      <th>7436663</th>\n",
              "      <td>tt8544762</td>\n",
              "      <td>tvEpisode</td>\n",
              "      <td>Episode #1.8</td>\n",
              "      <td>Episode #1.8</td>\n",
              "      <td>0</td>\n",
              "      <td>2014</td>\n",
              "      <td>\\N</td>\n",
              "      <td>\\N</td>\n",
              "      <td>Comedy,Romance</td>\n",
              "    </tr>\n",
              "    <tr>\n",
              "      <th>7436664</th>\n",
              "      <td>tt8544764</td>\n",
              "      <td>tvEpisode</td>\n",
              "      <td>Zulay Henao/Joyce Giraud/Angelina Celayo/David...</td>\n",
              "      <td>Zulay Henao/Joyce Giraud/Angelina Celayo/David...</td>\n",
              "      <td>NaN</td>\n",
              "      <td>NaN</td>\n",
              "      <td>NaN</td>\n",
              "      <td>NaN</td>\n",
              "      <td>NaN</td>\n",
              "    </tr>\n",
              "  </tbody>\n",
              "</table>\n",
              "</div>"
            ],
            "text/plain": [
              "            tconst  titleType  ... runtimeMinutes                  genres\n",
              "7436655  tt8544744  tvEpisode  ...             \\N          Comedy,Romance\n",
              "7436656  tt8544748  tvEpisode  ...             \\N          Comedy,Romance\n",
              "7436657  tt8544750  tvEpisode  ...             \\N  Comedy,Music,Talk-Show\n",
              "7436658  tt8544752  tvEpisode  ...             44  Documentary,Reality-TV\n",
              "7436659  tt8544754  tvEpisode  ...             \\N          Comedy,Romance\n",
              "7436660  tt8544756  tvEpisode  ...             \\N  Comedy,Music,Talk-Show\n",
              "7436661  tt8544758  tvEpisode  ...             \\N                   Sport\n",
              "7436662  tt8544760      short  ...             23             Drama,Short\n",
              "7436663  tt8544762  tvEpisode  ...             \\N          Comedy,Romance\n",
              "7436664  tt8544764  tvEpisode  ...            NaN                     NaN\n",
              "\n",
              "[10 rows x 9 columns]"
            ]
          },
          "metadata": {
            "tags": []
          },
          "execution_count": 71
        }
      ]
    },
    {
      "cell_type": "code",
      "metadata": {
        "colab": {
          "base_uri": "https://localhost:8080/",
          "height": 204
        },
        "id": "1KdY2XJozsPu",
        "outputId": "daf3d1b3-cb98-462e-fe3e-7cbc8bf9a392"
      },
      "source": [
        "dfNotas.head()"
      ],
      "execution_count": 72,
      "outputs": [
        {
          "output_type": "execute_result",
          "data": {
            "text/html": [
              "<div>\n",
              "<style scoped>\n",
              "    .dataframe tbody tr th:only-of-type {\n",
              "        vertical-align: middle;\n",
              "    }\n",
              "\n",
              "    .dataframe tbody tr th {\n",
              "        vertical-align: top;\n",
              "    }\n",
              "\n",
              "    .dataframe thead th {\n",
              "        text-align: right;\n",
              "    }\n",
              "</style>\n",
              "<table border=\"1\" class=\"dataframe\">\n",
              "  <thead>\n",
              "    <tr style=\"text-align: right;\">\n",
              "      <th></th>\n",
              "      <th>tconst</th>\n",
              "      <th>averageRating</th>\n",
              "      <th>numVotes</th>\n",
              "    </tr>\n",
              "  </thead>\n",
              "  <tbody>\n",
              "    <tr>\n",
              "      <th>0</th>\n",
              "      <td>tt0000001</td>\n",
              "      <td>5.7</td>\n",
              "      <td>1722</td>\n",
              "    </tr>\n",
              "    <tr>\n",
              "      <th>1</th>\n",
              "      <td>tt0000002</td>\n",
              "      <td>6.0</td>\n",
              "      <td>211</td>\n",
              "    </tr>\n",
              "    <tr>\n",
              "      <th>2</th>\n",
              "      <td>tt0000003</td>\n",
              "      <td>6.5</td>\n",
              "      <td>1484</td>\n",
              "    </tr>\n",
              "    <tr>\n",
              "      <th>3</th>\n",
              "      <td>tt0000004</td>\n",
              "      <td>6.1</td>\n",
              "      <td>124</td>\n",
              "    </tr>\n",
              "    <tr>\n",
              "      <th>4</th>\n",
              "      <td>tt0000005</td>\n",
              "      <td>6.2</td>\n",
              "      <td>2286</td>\n",
              "    </tr>\n",
              "  </tbody>\n",
              "</table>\n",
              "</div>"
            ],
            "text/plain": [
              "      tconst  averageRating  numVotes\n",
              "0  tt0000001            5.7      1722\n",
              "1  tt0000002            6.0       211\n",
              "2  tt0000003            6.5      1484\n",
              "3  tt0000004            6.1       124\n",
              "4  tt0000005            6.2      2286"
            ]
          },
          "metadata": {
            "tags": []
          },
          "execution_count": 72
        }
      ]
    },
    {
      "cell_type": "code",
      "metadata": {
        "colab": {
          "base_uri": "https://localhost:8080/",
          "height": 359
        },
        "id": "6R1AwB6zH7pN",
        "outputId": "e5999eaa-69cc-4e50-8e45-c99d5fd639f4"
      },
      "source": [
        "dfNotas.tail(10)"
      ],
      "execution_count": 73,
      "outputs": [
        {
          "output_type": "execute_result",
          "data": {
            "text/html": [
              "<div>\n",
              "<style scoped>\n",
              "    .dataframe tbody tr th:only-of-type {\n",
              "        vertical-align: middle;\n",
              "    }\n",
              "\n",
              "    .dataframe tbody tr th {\n",
              "        vertical-align: top;\n",
              "    }\n",
              "\n",
              "    .dataframe thead th {\n",
              "        text-align: right;\n",
              "    }\n",
              "</style>\n",
              "<table border=\"1\" class=\"dataframe\">\n",
              "  <thead>\n",
              "    <tr style=\"text-align: right;\">\n",
              "      <th></th>\n",
              "      <th>tconst</th>\n",
              "      <th>averageRating</th>\n",
              "      <th>numVotes</th>\n",
              "    </tr>\n",
              "  </thead>\n",
              "  <tbody>\n",
              "    <tr>\n",
              "      <th>1171910</th>\n",
              "      <td>tt9916544</td>\n",
              "      <td>7.1</td>\n",
              "      <td>40</td>\n",
              "    </tr>\n",
              "    <tr>\n",
              "      <th>1171911</th>\n",
              "      <td>tt9916576</td>\n",
              "      <td>5.9</td>\n",
              "      <td>13</td>\n",
              "    </tr>\n",
              "    <tr>\n",
              "      <th>1171912</th>\n",
              "      <td>tt9916578</td>\n",
              "      <td>8.0</td>\n",
              "      <td>26</td>\n",
              "    </tr>\n",
              "    <tr>\n",
              "      <th>1171913</th>\n",
              "      <td>tt9916580</td>\n",
              "      <td>7.7</td>\n",
              "      <td>6</td>\n",
              "    </tr>\n",
              "    <tr>\n",
              "      <th>1171914</th>\n",
              "      <td>tt9916628</td>\n",
              "      <td>8.6</td>\n",
              "      <td>5</td>\n",
              "    </tr>\n",
              "    <tr>\n",
              "      <th>1171915</th>\n",
              "      <td>tt9916682</td>\n",
              "      <td>5.6</td>\n",
              "      <td>5</td>\n",
              "    </tr>\n",
              "    <tr>\n",
              "      <th>1171916</th>\n",
              "      <td>tt9916690</td>\n",
              "      <td>6.6</td>\n",
              "      <td>5</td>\n",
              "    </tr>\n",
              "    <tr>\n",
              "      <th>1171917</th>\n",
              "      <td>tt9916720</td>\n",
              "      <td>5.5</td>\n",
              "      <td>110</td>\n",
              "    </tr>\n",
              "    <tr>\n",
              "      <th>1171918</th>\n",
              "      <td>tt9916766</td>\n",
              "      <td>6.9</td>\n",
              "      <td>18</td>\n",
              "    </tr>\n",
              "    <tr>\n",
              "      <th>1171919</th>\n",
              "      <td>tt9916778</td>\n",
              "      <td>7.5</td>\n",
              "      <td>30</td>\n",
              "    </tr>\n",
              "  </tbody>\n",
              "</table>\n",
              "</div>"
            ],
            "text/plain": [
              "            tconst  averageRating  numVotes\n",
              "1171910  tt9916544            7.1        40\n",
              "1171911  tt9916576            5.9        13\n",
              "1171912  tt9916578            8.0        26\n",
              "1171913  tt9916580            7.7         6\n",
              "1171914  tt9916628            8.6         5\n",
              "1171915  tt9916682            5.6         5\n",
              "1171916  tt9916690            6.6         5\n",
              "1171917  tt9916720            5.5       110\n",
              "1171918  tt9916766            6.9        18\n",
              "1171919  tt9916778            7.5        30"
            ]
          },
          "metadata": {
            "tags": []
          },
          "execution_count": 73
        }
      ]
    },
    {
      "cell_type": "code",
      "metadata": {
        "colab": {
          "base_uri": "https://localhost:8080/"
        },
        "id": "Y8bv2Atg1YO-",
        "outputId": "9b839957-b4d2-43d9-faae-b3bf5678fca9"
      },
      "source": [
        "dfTitles.shape"
      ],
      "execution_count": 74,
      "outputs": [
        {
          "output_type": "execute_result",
          "data": {
            "text/plain": [
              "(7436665, 9)"
            ]
          },
          "metadata": {
            "tags": []
          },
          "execution_count": 74
        }
      ]
    },
    {
      "cell_type": "code",
      "metadata": {
        "colab": {
          "base_uri": "https://localhost:8080/"
        },
        "id": "j_eLemf61ccD",
        "outputId": "ade203a3-d5f4-4504-d956-a043cf2f88e0"
      },
      "source": [
        "dfNotas.shape"
      ],
      "execution_count": 75,
      "outputs": [
        {
          "output_type": "execute_result",
          "data": {
            "text/plain": [
              "(1171920, 3)"
            ]
          },
          "metadata": {
            "tags": []
          },
          "execution_count": 75
        }
      ]
    },
    {
      "cell_type": "markdown",
      "metadata": {
        "id": "YBcV6qhgIc0T"
      },
      "source": [
        "Podemos ver que nossos dados não são iguais, então teremos que comparar *tconst* antes de unir os datasets"
      ]
    },
    {
      "cell_type": "markdown",
      "metadata": {
        "id": "hLUGLFe-GG9Q"
      },
      "source": [
        "#Unindo 3 datasets"
      ]
    },
    {
      "cell_type": "markdown",
      "metadata": {
        "id": "Py_qF7yNKS1P"
      },
      "source": [
        "## Unindo primeiramente os datasets de notas e títulos já que ambos estão separados através do inner join que resulta no dataset df_inner apenas com a interseção de tconst de dfNotas e dfTitles"
      ]
    },
    {
      "cell_type": "code",
      "metadata": {
        "colab": {
          "base_uri": "https://localhost:8080/",
          "height": 453
        },
        "id": "sXZnUF7iGNCM",
        "outputId": "acf1f761-11c0-4965-d7fc-5aaed4879b84"
      },
      "source": [
        "df_inner = pd.merge(dfNotas, dfTitles, on='tconst', how='inner')\n",
        "\n",
        "df_inner"
      ],
      "execution_count": 76,
      "outputs": [
        {
          "output_type": "execute_result",
          "data": {
            "text/html": [
              "<div>\n",
              "<style scoped>\n",
              "    .dataframe tbody tr th:only-of-type {\n",
              "        vertical-align: middle;\n",
              "    }\n",
              "\n",
              "    .dataframe tbody tr th {\n",
              "        vertical-align: top;\n",
              "    }\n",
              "\n",
              "    .dataframe thead th {\n",
              "        text-align: right;\n",
              "    }\n",
              "</style>\n",
              "<table border=\"1\" class=\"dataframe\">\n",
              "  <thead>\n",
              "    <tr style=\"text-align: right;\">\n",
              "      <th></th>\n",
              "      <th>tconst</th>\n",
              "      <th>averageRating</th>\n",
              "      <th>numVotes</th>\n",
              "      <th>titleType</th>\n",
              "      <th>primaryTitle</th>\n",
              "      <th>originalTitle</th>\n",
              "      <th>isAdult</th>\n",
              "      <th>startYear</th>\n",
              "      <th>endYear</th>\n",
              "      <th>runtimeMinutes</th>\n",
              "      <th>genres</th>\n",
              "    </tr>\n",
              "  </thead>\n",
              "  <tbody>\n",
              "    <tr>\n",
              "      <th>0</th>\n",
              "      <td>tt0000001</td>\n",
              "      <td>5.7</td>\n",
              "      <td>1722</td>\n",
              "      <td>short</td>\n",
              "      <td>Carmencita</td>\n",
              "      <td>Carmencita</td>\n",
              "      <td>0</td>\n",
              "      <td>1894</td>\n",
              "      <td>\\N</td>\n",
              "      <td>1</td>\n",
              "      <td>Documentary,Short</td>\n",
              "    </tr>\n",
              "    <tr>\n",
              "      <th>1</th>\n",
              "      <td>tt0000002</td>\n",
              "      <td>6.0</td>\n",
              "      <td>211</td>\n",
              "      <td>short</td>\n",
              "      <td>Le clown et ses chiens</td>\n",
              "      <td>Le clown et ses chiens</td>\n",
              "      <td>0</td>\n",
              "      <td>1892</td>\n",
              "      <td>\\N</td>\n",
              "      <td>5</td>\n",
              "      <td>Animation,Short</td>\n",
              "    </tr>\n",
              "    <tr>\n",
              "      <th>2</th>\n",
              "      <td>tt0000003</td>\n",
              "      <td>6.5</td>\n",
              "      <td>1484</td>\n",
              "      <td>short</td>\n",
              "      <td>Pauvre Pierrot</td>\n",
              "      <td>Pauvre Pierrot</td>\n",
              "      <td>0</td>\n",
              "      <td>1892</td>\n",
              "      <td>\\N</td>\n",
              "      <td>4</td>\n",
              "      <td>Animation,Comedy,Romance</td>\n",
              "    </tr>\n",
              "    <tr>\n",
              "      <th>3</th>\n",
              "      <td>tt0000004</td>\n",
              "      <td>6.1</td>\n",
              "      <td>124</td>\n",
              "      <td>short</td>\n",
              "      <td>Un bon bock</td>\n",
              "      <td>Un bon bock</td>\n",
              "      <td>0</td>\n",
              "      <td>1892</td>\n",
              "      <td>\\N</td>\n",
              "      <td>12</td>\n",
              "      <td>Animation,Short</td>\n",
              "    </tr>\n",
              "    <tr>\n",
              "      <th>4</th>\n",
              "      <td>tt0000005</td>\n",
              "      <td>6.2</td>\n",
              "      <td>2286</td>\n",
              "      <td>short</td>\n",
              "      <td>Blacksmith Scene</td>\n",
              "      <td>Blacksmith Scene</td>\n",
              "      <td>0</td>\n",
              "      <td>1893</td>\n",
              "      <td>\\N</td>\n",
              "      <td>1</td>\n",
              "      <td>Comedy,Short</td>\n",
              "    </tr>\n",
              "    <tr>\n",
              "      <th>...</th>\n",
              "      <td>...</td>\n",
              "      <td>...</td>\n",
              "      <td>...</td>\n",
              "      <td>...</td>\n",
              "      <td>...</td>\n",
              "      <td>...</td>\n",
              "      <td>...</td>\n",
              "      <td>...</td>\n",
              "      <td>...</td>\n",
              "      <td>...</td>\n",
              "      <td>...</td>\n",
              "    </tr>\n",
              "    <tr>\n",
              "      <th>1124774</th>\n",
              "      <td>tt8544662</td>\n",
              "      <td>7.0</td>\n",
              "      <td>9</td>\n",
              "      <td>tvEpisode</td>\n",
              "      <td>Tune-Up</td>\n",
              "      <td>Tune-Up</td>\n",
              "      <td>0</td>\n",
              "      <td>2018</td>\n",
              "      <td>\\N</td>\n",
              "      <td>\\N</td>\n",
              "      <td>Drama,Reality-TV</td>\n",
              "    </tr>\n",
              "    <tr>\n",
              "      <th>1124775</th>\n",
              "      <td>tt8544688</td>\n",
              "      <td>7.0</td>\n",
              "      <td>10</td>\n",
              "      <td>tvEpisode</td>\n",
              "      <td>Rosario y Antonio logran escapar de Arteaga</td>\n",
              "      <td>Rosario y Antonio logran escapar de Arteaga</td>\n",
              "      <td>0</td>\n",
              "      <td>2018</td>\n",
              "      <td>\\N</td>\n",
              "      <td>\\N</td>\n",
              "      <td>Action,Crime,Drama</td>\n",
              "    </tr>\n",
              "    <tr>\n",
              "      <th>1124776</th>\n",
              "      <td>tt8544702</td>\n",
              "      <td>6.6</td>\n",
              "      <td>25</td>\n",
              "      <td>movie</td>\n",
              "      <td>Actually Happened! Most Terrifying Psychic Phe...</td>\n",
              "      <td>Actually Happened! Most Terrifying Psychic Phe...</td>\n",
              "      <td>0</td>\n",
              "      <td>2004</td>\n",
              "      <td>\\N</td>\n",
              "      <td>65</td>\n",
              "      <td>Horror</td>\n",
              "    </tr>\n",
              "    <tr>\n",
              "      <th>1124777</th>\n",
              "      <td>tt8544730</td>\n",
              "      <td>8.7</td>\n",
              "      <td>68</td>\n",
              "      <td>tvEpisode</td>\n",
              "      <td>Katie's Beautiful Mind</td>\n",
              "      <td>Katie's Beautiful Mind</td>\n",
              "      <td>0</td>\n",
              "      <td>2018</td>\n",
              "      <td>\\N</td>\n",
              "      <td>\\N</td>\n",
              "      <td>Comedy,Drama</td>\n",
              "    </tr>\n",
              "    <tr>\n",
              "      <th>1124778</th>\n",
              "      <td>tt8544752</td>\n",
              "      <td>9.2</td>\n",
              "      <td>5</td>\n",
              "      <td>tvEpisode</td>\n",
              "      <td>Storm's a-Mooin'</td>\n",
              "      <td>Storm's a-Mooin'</td>\n",
              "      <td>0</td>\n",
              "      <td>2018</td>\n",
              "      <td>\\N</td>\n",
              "      <td>44</td>\n",
              "      <td>Documentary,Reality-TV</td>\n",
              "    </tr>\n",
              "  </tbody>\n",
              "</table>\n",
              "<p>1124779 rows × 11 columns</p>\n",
              "</div>"
            ],
            "text/plain": [
              "            tconst  averageRating  ...  runtimeMinutes                    genres\n",
              "0        tt0000001            5.7  ...               1         Documentary,Short\n",
              "1        tt0000002            6.0  ...               5           Animation,Short\n",
              "2        tt0000003            6.5  ...               4  Animation,Comedy,Romance\n",
              "3        tt0000004            6.1  ...              12           Animation,Short\n",
              "4        tt0000005            6.2  ...               1              Comedy,Short\n",
              "...            ...            ...  ...             ...                       ...\n",
              "1124774  tt8544662            7.0  ...              \\N          Drama,Reality-TV\n",
              "1124775  tt8544688            7.0  ...              \\N        Action,Crime,Drama\n",
              "1124776  tt8544702            6.6  ...              65                    Horror\n",
              "1124777  tt8544730            8.7  ...              \\N              Comedy,Drama\n",
              "1124778  tt8544752            9.2  ...              44    Documentary,Reality-TV\n",
              "\n",
              "[1124779 rows x 11 columns]"
            ]
          },
          "metadata": {
            "tags": []
          },
          "execution_count": 76
        }
      ]
    },
    {
      "cell_type": "markdown",
      "metadata": {
        "id": "Y6xK2ZpPVXQU"
      },
      "source": [
        "## Agora iremos fazer a mesma coisa para df_inner com os atributos *'averageRating'*, *'numVotes'* e *'primaryTitle'* com o nosso dataset original que teve realizado seu pre-processamento gerando juntaTD"
      ]
    },
    {
      "cell_type": "code",
      "metadata": {
        "id": "JHzeBwf5GLFa"
      },
      "source": [
        "juntaTD = pd.merge(df_inner.loc[:,['averageRating', 'numVotes','primaryTitle']], df, left_on='primaryTitle', right_on='title', how='inner')"
      ],
      "execution_count": 77,
      "outputs": []
    },
    {
      "cell_type": "markdown",
      "metadata": {
        "id": "je-onc6GWZmt"
      },
      "source": [
        "Analisando a forma do dataset gerado"
      ]
    },
    {
      "cell_type": "code",
      "metadata": {
        "colab": {
          "base_uri": "https://localhost:8080/"
        },
        "id": "OPeIonyXIjIT",
        "outputId": "09896e41-586c-4600-9608-123bc403adab"
      },
      "source": [
        "juntaTD.shape"
      ],
      "execution_count": 78,
      "outputs": [
        {
          "output_type": "execute_result",
          "data": {
            "text/plain": [
              "(21845, 17)"
            ]
          },
          "metadata": {
            "tags": []
          },
          "execution_count": 78
        }
      ]
    },
    {
      "cell_type": "markdown",
      "metadata": {
        "id": "kfTzjIMAWiYw"
      },
      "source": [
        "### Vamos remover as duplicatas utilizando o atributo título como verificador "
      ]
    },
    {
      "cell_type": "code",
      "metadata": {
        "colab": {
          "base_uri": "https://localhost:8080/",
          "height": 1000
        },
        "id": "7k8R5_7DJMCl",
        "outputId": "00f1b1d6-f4a0-4e11-f3d3-f9c0648f5e6f"
      },
      "source": [
        "juntaTD.drop_duplicates(subset =['primaryTitle'], keep = False, inplace = True)\n",
        "juntaTD.head(10)"
      ],
      "execution_count": 79,
      "outputs": [
        {
          "output_type": "execute_result",
          "data": {
            "text/html": [
              "<div>\n",
              "<style scoped>\n",
              "    .dataframe tbody tr th:only-of-type {\n",
              "        vertical-align: middle;\n",
              "    }\n",
              "\n",
              "    .dataframe tbody tr th {\n",
              "        vertical-align: top;\n",
              "    }\n",
              "\n",
              "    .dataframe thead th {\n",
              "        text-align: right;\n",
              "    }\n",
              "</style>\n",
              "<table border=\"1\" class=\"dataframe\">\n",
              "  <thead>\n",
              "    <tr style=\"text-align: right;\">\n",
              "      <th></th>\n",
              "      <th>averageRating</th>\n",
              "      <th>numVotes</th>\n",
              "      <th>primaryTitle</th>\n",
              "      <th>show_id</th>\n",
              "      <th>type</th>\n",
              "      <th>title</th>\n",
              "      <th>director</th>\n",
              "      <th>cast</th>\n",
              "      <th>country</th>\n",
              "      <th>date_added</th>\n",
              "      <th>release_year</th>\n",
              "      <th>rating</th>\n",
              "      <th>duration</th>\n",
              "      <th>listed_in</th>\n",
              "      <th>description</th>\n",
              "      <th>main_country</th>\n",
              "      <th>year_added</th>\n",
              "    </tr>\n",
              "  </thead>\n",
              "  <tbody>\n",
              "    <tr>\n",
              "      <th>2674</th>\n",
              "      <td>6.4</td>\n",
              "      <td>80210</td>\n",
              "      <td>Kate &amp; Leopold</td>\n",
              "      <td>s3315</td>\n",
              "      <td>Movie</td>\n",
              "      <td>Kate &amp; Leopold</td>\n",
              "      <td>James Mangold</td>\n",
              "      <td>Meg Ryan, Hugh Jackman, Liev Schreiber, Brecki...</td>\n",
              "      <td>United States</td>\n",
              "      <td>2020-01-01</td>\n",
              "      <td>2001</td>\n",
              "      <td>PG-13</td>\n",
              "      <td>118</td>\n",
              "      <td>Comedies, Romantic Movies</td>\n",
              "      <td>A present-day woman takes responsibility for g...</td>\n",
              "      <td>United States</td>\n",
              "      <td>2020</td>\n",
              "    </tr>\n",
              "    <tr>\n",
              "      <th>2716</th>\n",
              "      <td>6.7</td>\n",
              "      <td>2093</td>\n",
              "      <td>San Pietro</td>\n",
              "      <td>s5372</td>\n",
              "      <td>Movie</td>\n",
              "      <td>San Pietro</td>\n",
              "      <td>John Huston</td>\n",
              "      <td>desconhecido</td>\n",
              "      <td>United States</td>\n",
              "      <td>2017-03-31</td>\n",
              "      <td>1945</td>\n",
              "      <td>TV-14</td>\n",
              "      <td>32</td>\n",
              "      <td>Classic Movies, Documentaries</td>\n",
              "      <td>After the Allies invade Italy, the Liri Valley...</td>\n",
              "      <td>United States</td>\n",
              "      <td>2017</td>\n",
              "    </tr>\n",
              "    <tr>\n",
              "      <th>2761</th>\n",
              "      <td>6.7</td>\n",
              "      <td>546</td>\n",
              "      <td>Tunisian Victory</td>\n",
              "      <td>s7269</td>\n",
              "      <td>Movie</td>\n",
              "      <td>Tunisian Victory</td>\n",
              "      <td>Frank Capra, John Huston, Hugh Stewart, Roy Bo...</td>\n",
              "      <td>Burgess Meredith</td>\n",
              "      <td>United States, United Kingdom</td>\n",
              "      <td>2017-03-31</td>\n",
              "      <td>1944</td>\n",
              "      <td>TV-14</td>\n",
              "      <td>76</td>\n",
              "      <td>Classic Movies, Documentaries</td>\n",
              "      <td>British and American troops join forces to lib...</td>\n",
              "      <td>United States</td>\n",
              "      <td>2017</td>\n",
              "    </tr>\n",
              "    <tr>\n",
              "      <th>3279</th>\n",
              "      <td>6.9</td>\n",
              "      <td>89</td>\n",
              "      <td>Jhansi Ki Rani</td>\n",
              "      <td>s3165</td>\n",
              "      <td>TV Show</td>\n",
              "      <td>Jhansi Ki Rani</td>\n",
              "      <td>desconhecido</td>\n",
              "      <td>Ulka Gupta, Sameer Dharmadhikari, Amit Pachori...</td>\n",
              "      <td>India</td>\n",
              "      <td>2017-06-01</td>\n",
              "      <td>2009</td>\n",
              "      <td>TV-14</td>\n",
              "      <td>1</td>\n",
              "      <td>International TV Shows, TV Dramas</td>\n",
              "      <td>In British-ruled, 19th-century India, a 14-yea...</td>\n",
              "      <td>India</td>\n",
              "      <td>2017</td>\n",
              "    </tr>\n",
              "    <tr>\n",
              "      <th>3489</th>\n",
              "      <td>6.5</td>\n",
              "      <td>1371</td>\n",
              "      <td>The Sign of Venus</td>\n",
              "      <td>s6869</td>\n",
              "      <td>Movie</td>\n",
              "      <td>The Sign of Venus</td>\n",
              "      <td>Dino Risi</td>\n",
              "      <td>Sophia Loren, Franca Valeri, Vittorio De Sica,...</td>\n",
              "      <td>Italy</td>\n",
              "      <td>2020-11-13</td>\n",
              "      <td>1955</td>\n",
              "      <td>TV-14</td>\n",
              "      <td>97</td>\n",
              "      <td>Classic Movies, Comedies, Independent Movies</td>\n",
              "      <td>While suitors swoon over her cousin, a single ...</td>\n",
              "      <td>Italy</td>\n",
              "      <td>2020</td>\n",
              "    </tr>\n",
              "    <tr>\n",
              "      <th>3721</th>\n",
              "      <td>6.4</td>\n",
              "      <td>96</td>\n",
              "      <td>This Is My Love</td>\n",
              "      <td>s7050</td>\n",
              "      <td>TV Show</td>\n",
              "      <td>This Is My Love</td>\n",
              "      <td>desconhecido</td>\n",
              "      <td>Jin-mo Joo, Sa-rang Kim, Junior, Ja-in Lee, Su...</td>\n",
              "      <td>South Korea</td>\n",
              "      <td>2017-05-22</td>\n",
              "      <td>2015</td>\n",
              "      <td>TV-14</td>\n",
              "      <td>1</td>\n",
              "      <td>International TV Shows, Korean TV Shows, Roman...</td>\n",
              "      <td>A renowned actor who is still pining over the ...</td>\n",
              "      <td>South Korea</td>\n",
              "      <td>2017</td>\n",
              "    </tr>\n",
              "    <tr>\n",
              "      <th>3833</th>\n",
              "      <td>6.5</td>\n",
              "      <td>2121</td>\n",
              "      <td>Scandal in Sorrento</td>\n",
              "      <td>s5426</td>\n",
              "      <td>Movie</td>\n",
              "      <td>Scandal in Sorrento</td>\n",
              "      <td>Dino Risi</td>\n",
              "      <td>Vittorio De Sica, Sophia Loren, Lea Padovani, ...</td>\n",
              "      <td>Italy, France</td>\n",
              "      <td>2020-11-13</td>\n",
              "      <td>1955</td>\n",
              "      <td>TV-PG</td>\n",
              "      <td>93</td>\n",
              "      <td>Classic Movies, Comedies, Independent Movies</td>\n",
              "      <td>When a marshal moves back to his hometown, he ...</td>\n",
              "      <td>Italy</td>\n",
              "      <td>2020</td>\n",
              "    </tr>\n",
              "    <tr>\n",
              "      <th>3842</th>\n",
              "      <td>7.6</td>\n",
              "      <td>3807</td>\n",
              "      <td>Cairo Station</td>\n",
              "      <td>s1170</td>\n",
              "      <td>Movie</td>\n",
              "      <td>Cairo Station</td>\n",
              "      <td>Youssef Chahine</td>\n",
              "      <td>Farid Shawqy, Hind Rostom, Youssef Chahine, Ha...</td>\n",
              "      <td>Egypt</td>\n",
              "      <td>2020-06-18</td>\n",
              "      <td>1958</td>\n",
              "      <td>TV-14</td>\n",
              "      <td>73</td>\n",
              "      <td>Classic Movies, Dramas, International Movies</td>\n",
              "      <td>A Cairo newsstand vendor's fantasies morph int...</td>\n",
              "      <td>Egypt</td>\n",
              "      <td>2020</td>\n",
              "    </tr>\n",
              "    <tr>\n",
              "      <th>4014</th>\n",
              "      <td>8.3</td>\n",
              "      <td>12805</td>\n",
              "      <td>The Andy Griffith Show</td>\n",
              "      <td>s6083</td>\n",
              "      <td>TV Show</td>\n",
              "      <td>The Andy Griffith Show</td>\n",
              "      <td>desconhecido</td>\n",
              "      <td>Andy Griffith, Ron Howard, Don Knotts, Frances...</td>\n",
              "      <td>United States</td>\n",
              "      <td>2017-07-01</td>\n",
              "      <td>1967</td>\n",
              "      <td>TV-G</td>\n",
              "      <td>8</td>\n",
              "      <td>Classic &amp; Cult TV, TV Comedies</td>\n",
              "      <td>Homespun humor and easygoing Sheriff Andy Tayl...</td>\n",
              "      <td>United States</td>\n",
              "      <td>2017</td>\n",
              "    </tr>\n",
              "    <tr>\n",
              "      <th>4075</th>\n",
              "      <td>7.4</td>\n",
              "      <td>436</td>\n",
              "      <td>Jis Desh Men Ganga Behti Hai</td>\n",
              "      <td>s3188</td>\n",
              "      <td>Movie</td>\n",
              "      <td>Jis Desh Men Ganga Behti Hai</td>\n",
              "      <td>Radhu Karmakar</td>\n",
              "      <td>Raj Kapoor, Padmini, Pran, Chanchal, Lalita Pa...</td>\n",
              "      <td>United States</td>\n",
              "      <td>2019-12-31</td>\n",
              "      <td>1960</td>\n",
              "      <td>TV-14</td>\n",
              "      <td>181</td>\n",
              "      <td>Action &amp; Adventure, Dramas, International Movies</td>\n",
              "      <td>Falling in with a band of outlaws during a hol...</td>\n",
              "      <td>United States</td>\n",
              "      <td>2019</td>\n",
              "    </tr>\n",
              "  </tbody>\n",
              "</table>\n",
              "</div>"
            ],
            "text/plain": [
              "      averageRating  numVotes  ...   main_country year_added\n",
              "2674            6.4     80210  ...  United States       2020\n",
              "2716            6.7      2093  ...  United States       2017\n",
              "2761            6.7       546  ...  United States       2017\n",
              "3279            6.9        89  ...          India       2017\n",
              "3489            6.5      1371  ...          Italy       2020\n",
              "3721            6.4        96  ...    South Korea       2017\n",
              "3833            6.5      2121  ...          Italy       2020\n",
              "3842            7.6      3807  ...          Egypt       2020\n",
              "4014            8.3     12805  ...  United States       2017\n",
              "4075            7.4       436  ...  United States       2019\n",
              "\n",
              "[10 rows x 17 columns]"
            ]
          },
          "metadata": {
            "tags": []
          },
          "execution_count": 79
        }
      ]
    },
    {
      "cell_type": "markdown",
      "metadata": {
        "id": "ON22rXdfkx2N"
      },
      "source": [
        "Analisando se tem algum valor ausente"
      ]
    },
    {
      "cell_type": "code",
      "metadata": {
        "id": "fp1ciYRilZLl",
        "colab": {
          "base_uri": "https://localhost:8080/"
        },
        "outputId": "d114bfb5-9cd7-4578-8e18-3c4651e21b85"
      },
      "source": [
        "juntaTD.isnull().sum()/(len(df))*100"
      ],
      "execution_count": 80,
      "outputs": [
        {
          "output_type": "execute_result",
          "data": {
            "text/plain": [
              "averageRating    0.0\n",
              "numVotes         0.0\n",
              "primaryTitle     0.0\n",
              "show_id          0.0\n",
              "type             0.0\n",
              "title            0.0\n",
              "director         0.0\n",
              "cast             0.0\n",
              "country          0.0\n",
              "date_added       0.0\n",
              "release_year     0.0\n",
              "rating           0.0\n",
              "duration         0.0\n",
              "listed_in        0.0\n",
              "description      0.0\n",
              "main_country     0.0\n",
              "year_added       0.0\n",
              "dtype: float64"
            ]
          },
          "metadata": {
            "tags": []
          },
          "execution_count": 80
        }
      ]
    },
    {
      "cell_type": "code",
      "metadata": {
        "colab": {
          "base_uri": "https://localhost:8080/"
        },
        "id": "WC1WjuZ7MTuV",
        "outputId": "7cdd4632-9e87-4f8b-a85f-0cdc0e67ec87"
      },
      "source": [
        "juntaTD.shape"
      ],
      "execution_count": 81,
      "outputs": [
        {
          "output_type": "execute_result",
          "data": {
            "text/plain": [
              "(3566, 17)"
            ]
          },
          "metadata": {
            "tags": []
          },
          "execution_count": 81
        }
      ]
    },
    {
      "cell_type": "markdown",
      "metadata": {
        "id": "gKZEfjyEMb8w"
      },
      "source": [
        "Podemos ver que sobrou pouco mais da metade nosso dataset original, vamos ter que trabalhar com isso."
      ]
    },
    {
      "cell_type": "markdown",
      "metadata": {
        "id": "DvZDXvDFFr4w"
      },
      "source": [
        "#Vamos realizar agora o teste de hipótese verificando se possuímos alguma diferença relevante dentre suas notas."
      ]
    },
    {
      "cell_type": "markdown",
      "metadata": {
        "id": "qMnGumYKYA-s"
      },
      "source": [
        "> Primeiramente fazendo uma análise com relação as avaliações para filmes e séries, respectivamente"
      ]
    },
    {
      "cell_type": "code",
      "metadata": {
        "id": "x_lW22h5YKfI",
        "colab": {
          "base_uri": "https://localhost:8080/",
          "height": 297
        },
        "outputId": "7c6c1f5e-21a9-481e-e04a-edb2a2ec5a50"
      },
      "source": [
        "juntaTD[juntaTD['type']=='Movie'].describe()"
      ],
      "execution_count": 82,
      "outputs": [
        {
          "output_type": "execute_result",
          "data": {
            "text/html": [
              "<div>\n",
              "<style scoped>\n",
              "    .dataframe tbody tr th:only-of-type {\n",
              "        vertical-align: middle;\n",
              "    }\n",
              "\n",
              "    .dataframe tbody tr th {\n",
              "        vertical-align: top;\n",
              "    }\n",
              "\n",
              "    .dataframe thead th {\n",
              "        text-align: right;\n",
              "    }\n",
              "</style>\n",
              "<table border=\"1\" class=\"dataframe\">\n",
              "  <thead>\n",
              "    <tr style=\"text-align: right;\">\n",
              "      <th></th>\n",
              "      <th>averageRating</th>\n",
              "      <th>numVotes</th>\n",
              "      <th>release_year</th>\n",
              "      <th>duration</th>\n",
              "      <th>year_added</th>\n",
              "    </tr>\n",
              "  </thead>\n",
              "  <tbody>\n",
              "    <tr>\n",
              "      <th>count</th>\n",
              "      <td>2566.000000</td>\n",
              "      <td>2.566000e+03</td>\n",
              "      <td>2566.000000</td>\n",
              "      <td>2566.000000</td>\n",
              "      <td>2566.000000</td>\n",
              "    </tr>\n",
              "    <tr>\n",
              "      <th>mean</th>\n",
              "      <td>6.245947</td>\n",
              "      <td>1.640527e+04</td>\n",
              "      <td>2013.579111</td>\n",
              "      <td>99.237334</td>\n",
              "      <td>2018.367108</td>\n",
              "    </tr>\n",
              "    <tr>\n",
              "      <th>std</th>\n",
              "      <td>1.165758</td>\n",
              "      <td>7.331254e+04</td>\n",
              "      <td>8.591837</td>\n",
              "      <td>27.661618</td>\n",
              "      <td>1.437751</td>\n",
              "    </tr>\n",
              "    <tr>\n",
              "      <th>min</th>\n",
              "      <td>1.500000</td>\n",
              "      <td>5.000000e+00</td>\n",
              "      <td>1944.000000</td>\n",
              "      <td>5.000000</td>\n",
              "      <td>2010.000000</td>\n",
              "    </tr>\n",
              "    <tr>\n",
              "      <th>25%</th>\n",
              "      <td>5.500000</td>\n",
              "      <td>3.420000e+02</td>\n",
              "      <td>2013.000000</td>\n",
              "      <td>86.000000</td>\n",
              "      <td>2017.000000</td>\n",
              "    </tr>\n",
              "    <tr>\n",
              "      <th>50%</th>\n",
              "      <td>6.400000</td>\n",
              "      <td>1.465000e+03</td>\n",
              "      <td>2016.000000</td>\n",
              "      <td>98.000000</td>\n",
              "      <td>2018.000000</td>\n",
              "    </tr>\n",
              "    <tr>\n",
              "      <th>75%</th>\n",
              "      <td>7.100000</td>\n",
              "      <td>6.147250e+03</td>\n",
              "      <td>2018.000000</td>\n",
              "      <td>114.000000</td>\n",
              "      <td>2020.000000</td>\n",
              "    </tr>\n",
              "    <tr>\n",
              "      <th>max</th>\n",
              "      <td>10.000000</td>\n",
              "      <td>1.400965e+06</td>\n",
              "      <td>2021.000000</td>\n",
              "      <td>253.000000</td>\n",
              "      <td>2021.000000</td>\n",
              "    </tr>\n",
              "  </tbody>\n",
              "</table>\n",
              "</div>"
            ],
            "text/plain": [
              "       averageRating      numVotes  release_year     duration   year_added\n",
              "count    2566.000000  2.566000e+03   2566.000000  2566.000000  2566.000000\n",
              "mean        6.245947  1.640527e+04   2013.579111    99.237334  2018.367108\n",
              "std         1.165758  7.331254e+04      8.591837    27.661618     1.437751\n",
              "min         1.500000  5.000000e+00   1944.000000     5.000000  2010.000000\n",
              "25%         5.500000  3.420000e+02   2013.000000    86.000000  2017.000000\n",
              "50%         6.400000  1.465000e+03   2016.000000    98.000000  2018.000000\n",
              "75%         7.100000  6.147250e+03   2018.000000   114.000000  2020.000000\n",
              "max        10.000000  1.400965e+06   2021.000000   253.000000  2021.000000"
            ]
          },
          "metadata": {
            "tags": []
          },
          "execution_count": 82
        }
      ]
    },
    {
      "cell_type": "code",
      "metadata": {
        "id": "q3XMCG01Y_fC",
        "colab": {
          "base_uri": "https://localhost:8080/",
          "height": 297
        },
        "outputId": "eaa67b9c-50a4-4b90-b38d-e8d7c71733b1"
      },
      "source": [
        "juntaTD[juntaTD['type']=='TV Show'].describe()"
      ],
      "execution_count": 83,
      "outputs": [
        {
          "output_type": "execute_result",
          "data": {
            "text/html": [
              "<div>\n",
              "<style scoped>\n",
              "    .dataframe tbody tr th:only-of-type {\n",
              "        vertical-align: middle;\n",
              "    }\n",
              "\n",
              "    .dataframe tbody tr th {\n",
              "        vertical-align: top;\n",
              "    }\n",
              "\n",
              "    .dataframe thead th {\n",
              "        text-align: right;\n",
              "    }\n",
              "</style>\n",
              "<table border=\"1\" class=\"dataframe\">\n",
              "  <thead>\n",
              "    <tr style=\"text-align: right;\">\n",
              "      <th></th>\n",
              "      <th>averageRating</th>\n",
              "      <th>numVotes</th>\n",
              "      <th>release_year</th>\n",
              "      <th>duration</th>\n",
              "      <th>year_added</th>\n",
              "    </tr>\n",
              "  </thead>\n",
              "  <tbody>\n",
              "    <tr>\n",
              "      <th>count</th>\n",
              "      <td>1000.000000</td>\n",
              "      <td>1000.000000</td>\n",
              "      <td>1000.000000</td>\n",
              "      <td>1000.000000</td>\n",
              "      <td>1000.000000</td>\n",
              "    </tr>\n",
              "    <tr>\n",
              "      <th>mean</th>\n",
              "      <td>7.047400</td>\n",
              "      <td>5856.425000</td>\n",
              "      <td>2016.295000</td>\n",
              "      <td>1.739000</td>\n",
              "      <td>2018.551000</td>\n",
              "    </tr>\n",
              "    <tr>\n",
              "      <th>std</th>\n",
              "      <td>1.126038</td>\n",
              "      <td>20747.160921</td>\n",
              "      <td>5.596007</td>\n",
              "      <td>1.377961</td>\n",
              "      <td>1.451725</td>\n",
              "    </tr>\n",
              "    <tr>\n",
              "      <th>min</th>\n",
              "      <td>1.800000</td>\n",
              "      <td>5.000000</td>\n",
              "      <td>1946.000000</td>\n",
              "      <td>1.000000</td>\n",
              "      <td>2008.000000</td>\n",
              "    </tr>\n",
              "    <tr>\n",
              "      <th>25%</th>\n",
              "      <td>6.500000</td>\n",
              "      <td>120.000000</td>\n",
              "      <td>2015.000000</td>\n",
              "      <td>1.000000</td>\n",
              "      <td>2017.000000</td>\n",
              "    </tr>\n",
              "    <tr>\n",
              "      <th>50%</th>\n",
              "      <td>7.200000</td>\n",
              "      <td>730.500000</td>\n",
              "      <td>2018.000000</td>\n",
              "      <td>1.000000</td>\n",
              "      <td>2019.000000</td>\n",
              "    </tr>\n",
              "    <tr>\n",
              "      <th>75%</th>\n",
              "      <td>7.800000</td>\n",
              "      <td>3187.250000</td>\n",
              "      <td>2019.000000</td>\n",
              "      <td>2.000000</td>\n",
              "      <td>2020.000000</td>\n",
              "    </tr>\n",
              "    <tr>\n",
              "      <th>max</th>\n",
              "      <td>9.500000</td>\n",
              "      <td>386256.000000</td>\n",
              "      <td>2021.000000</td>\n",
              "      <td>10.000000</td>\n",
              "      <td>2021.000000</td>\n",
              "    </tr>\n",
              "  </tbody>\n",
              "</table>\n",
              "</div>"
            ],
            "text/plain": [
              "       averageRating       numVotes  release_year     duration   year_added\n",
              "count    1000.000000    1000.000000   1000.000000  1000.000000  1000.000000\n",
              "mean        7.047400    5856.425000   2016.295000     1.739000  2018.551000\n",
              "std         1.126038   20747.160921      5.596007     1.377961     1.451725\n",
              "min         1.800000       5.000000   1946.000000     1.000000  2008.000000\n",
              "25%         6.500000     120.000000   2015.000000     1.000000  2017.000000\n",
              "50%         7.200000     730.500000   2018.000000     1.000000  2019.000000\n",
              "75%         7.800000    3187.250000   2019.000000     2.000000  2020.000000\n",
              "max         9.500000  386256.000000   2021.000000    10.000000  2021.000000"
            ]
          },
          "metadata": {
            "tags": []
          },
          "execution_count": 83
        }
      ]
    },
    {
      "cell_type": "markdown",
      "metadata": {
        "id": "zbT5JcUYdA8A"
      },
      "source": [
        "Vamos normalizar as notas usando o z-score"
      ]
    },
    {
      "cell_type": "code",
      "metadata": {
        "id": "zVPA-OZ3dEZ6"
      },
      "source": [
        "juntaTD['averageRating_NORM'] = scaler.fit_transform(juntaTD[['averageRating']])"
      ],
      "execution_count": 84,
      "outputs": []
    },
    {
      "cell_type": "markdown",
      "metadata": {
        "id": "cBaJ5S5Zf2Sy"
      },
      "source": [
        "## Primeiro vamos comparar se a avaliação média de gravações realizadas na Austrália difere da avaliação média dos países. E vamos fazer as próximas observações para decidirmos qual teste de hipótese utilizar, de acordo com a tabela fornecida."
      ]
    },
    {
      "cell_type": "code",
      "metadata": {
        "id": "xyzgv48ihbZz",
        "colab": {
          "base_uri": "https://localhost:8080/"
        },
        "outputId": "0a9b03dc-5ab6-406a-a0f8-7d76b14ccc6a"
      },
      "source": [
        "juntaTD[juntaTD['main_country'] == 'Australia']['averageRating'].describe()"
      ],
      "execution_count": 85,
      "outputs": [
        {
          "output_type": "execute_result",
          "data": {
            "text/plain": [
              "count    52.000000\n",
              "mean      6.880769\n",
              "std       0.769017\n",
              "min       5.300000\n",
              "25%       6.300000\n",
              "50%       6.900000\n",
              "75%       7.400000\n",
              "max       8.300000\n",
              "Name: averageRating, dtype: float64"
            ]
          },
          "metadata": {
            "tags": []
          },
          "execution_count": 85
        }
      ]
    },
    {
      "cell_type": "markdown",
      "metadata": {
        "id": "eGrqBIqfFtId"
      },
      "source": [
        "Além de normalizar as notas iremos remover os outliers presentes nas avaliações para todos os países através do método tukey."
      ]
    },
    {
      "cell_type": "code",
      "metadata": {
        "colab": {
          "base_uri": "https://localhost:8080/"
        },
        "id": "L0MDqrdpGoUe",
        "outputId": "90442b07-9791-42eb-8440-4726d748b9dd"
      },
      "source": [
        "q1j = juntaTD['averageRating_NORM'].quantile(q=0.25)\n",
        "q3j = juntaTD['averageRating_NORM'].quantile(q=0.75)\n",
        "iqrj = q3j - q1j\n",
        "iqrj"
      ],
      "execution_count": 86,
      "outputs": [
        {
          "output_type": "execute_result",
          "data": {
            "text/plain": [
              "1.3231091357177154"
            ]
          },
          "metadata": {
            "tags": []
          },
          "execution_count": 86
        }
      ]
    },
    {
      "cell_type": "code",
      "metadata": {
        "colab": {
          "base_uri": "https://localhost:8080/"
        },
        "id": "W10LEG37HE4V",
        "outputId": "b7818309-d9f1-44cd-ce11-10e9f3d557d6"
      },
      "source": [
        "juntaTD1 = juntaTD[(juntaTD['averageRating_NORM'] > (q1j-1.5*iqrj)) & (juntaTD['averageRating_NORM'] < (q3j+1.5*iqrj))]\n",
        "len(juntaTD1)"
      ],
      "execution_count": 87,
      "outputs": [
        {
          "output_type": "execute_result",
          "data": {
            "text/plain": [
              "3515"
            ]
          },
          "metadata": {
            "tags": []
          },
          "execution_count": 87
        }
      ]
    },
    {
      "cell_type": "code",
      "metadata": {
        "colab": {
          "base_uri": "https://localhost:8080/"
        },
        "id": "7ECPulPyIGXl",
        "outputId": "307a40f2-5d7d-416b-8b7b-e70ee3730ebe"
      },
      "source": [
        "len(juntaTD)"
      ],
      "execution_count": 88,
      "outputs": [
        {
          "output_type": "execute_result",
          "data": {
            "text/plain": [
              "3566"
            ]
          },
          "metadata": {
            "tags": []
          },
          "execution_count": 88
        }
      ]
    },
    {
      "cell_type": "markdown",
      "metadata": {
        "id": "FRX33Dq3Ijxe"
      },
      "source": [
        "Verificando se a distribuição das avaliações da Australia seguem uma gaussiana."
      ]
    },
    {
      "cell_type": "code",
      "metadata": {
        "colab": {
          "base_uri": "https://localhost:8080/",
          "height": 297
        },
        "id": "85oaQl5aK11O",
        "outputId": "69fd1686-1d7f-44d5-c9d5-8ea3c2bd773e"
      },
      "source": [
        "sns.histplot(data=juntaTD.loc[juntaTD.main_country=='Australia'], x='averageRating_NORM', kde=True)"
      ],
      "execution_count": 89,
      "outputs": [
        {
          "output_type": "execute_result",
          "data": {
            "text/plain": [
              "<matplotlib.axes._subplots.AxesSubplot at 0x7f015b6b5750>"
            ]
          },
          "metadata": {
            "tags": []
          },
          "execution_count": 89
        },
        {
          "output_type": "display_data",
          "data": {
            "image/png": "[encoded data removed]",
            "text/plain": [
              "<Figure size 432x288 with 1 Axes>"
            ]
          },
          "metadata": {
            "tags": [],
            "needs_background": "light"
          }
        }
      ]
    },
    {
      "cell_type": "code",
      "metadata": {
        "colab": {
          "base_uri": "https://localhost:8080/"
        },
        "id": "1UoCzjD2KWYT",
        "outputId": "ae0ba717-1ba9-4f13-d83c-ed1e0ca6c89c"
      },
      "source": [
        "stats.shapiro(juntaTD[juntaTD['main_country'] == 'Australia']['averageRating_NORM'])"
      ],
      "execution_count": 90,
      "outputs": [
        {
          "output_type": "execute_result",
          "data": {
            "text/plain": [
              "(0.9815781712532043, 0.5950236320495605)"
            ]
          },
          "metadata": {
            "tags": []
          },
          "execution_count": 90
        }
      ]
    },
    {
      "cell_type": "markdown",
      "metadata": {
        "id": "4rBn2bZFTOkC"
      },
      "source": [
        "> Com este p-value podemos considerar tal distribuição como uma normal"
      ]
    },
    {
      "cell_type": "markdown",
      "metadata": {
        "id": "GUo8QS9cM6NI"
      },
      "source": [
        "Como a nota de filmes da Austrália segue uma distribuição normal vamos utilizar o one sample t-test, indicado na tabela para o nosso tipo de dado e nosso objetivo."
      ]
    },
    {
      "cell_type": "code",
      "metadata": {
        "colab": {
          "base_uri": "https://localhost:8080/"
        },
        "id": "AfjaKHXDOFlA",
        "outputId": "5856d0e2-080b-4a0a-b2ec-edd9c88d9aca"
      },
      "source": [
        "stats.ttest_1samp(juntaTD[juntaTD['main_country'] == 'Australia']['averageRating_NORM'], juntaTD1['averageRating_NORM'].mean())"
      ],
      "execution_count": 91,
      "outputs": [
        {
          "output_type": "execute_result",
          "data": {
            "text/plain": [
              "Ttest_1sampResult(statistic=3.35360090969029, pvalue=0.0015105257415096464)"
            ]
          },
          "metadata": {
            "tags": []
          },
          "execution_count": 91
        }
      ]
    },
    {
      "cell_type": "code",
      "metadata": {
        "id": "3Eq20IzxkNyF",
        "colab": {
          "base_uri": "https://localhost:8080/",
          "height": 282
        },
        "outputId": "9647951d-8807-40dd-d06f-c3667e58fb19"
      },
      "source": [
        "dataA = juntaTD.loc[juntaTD.main_country == 'Australia',['averageRating_NORM']]\n",
        "dataM = juntaTD['averageRating_NORM']\n",
        "sns.boxplot(data=[dataM, dataA])"
      ],
      "execution_count": 92,
      "outputs": [
        {
          "output_type": "execute_result",
          "data": {
            "text/plain": [
              "<matplotlib.axes._subplots.AxesSubplot at 0x7f015b633d90>"
            ]
          },
          "metadata": {
            "tags": []
          },
          "execution_count": 92
        },
        {
          "output_type": "display_data",
          "data": {
            "image/png": "[encoded data removed]",
            "text/plain": [
              "<Figure size 432x288 with 1 Axes>"
            ]
          },
          "metadata": {
            "tags": [],
            "needs_background": "light"
          }
        }
      ]
    },
    {
      "cell_type": "code",
      "metadata": {
        "colab": {
          "base_uri": "https://localhost:8080/",
          "height": 282
        },
        "id": "ZJO80YUSc_TS",
        "outputId": "6cf9ea76-c9c5-435b-d66f-ee2ff4440245"
      },
      "source": [
        "dataA = juntaTD.loc[juntaTD.main_country == 'Australia',['averageRating_NORM']]\n",
        "dataM = juntaTD1['averageRating_NORM']\n",
        "sns.violinplot(data=[dataA, dataM])"
      ],
      "execution_count": 93,
      "outputs": [
        {
          "output_type": "execute_result",
          "data": {
            "text/plain": [
              "<matplotlib.axes._subplots.AxesSubplot at 0x7f015b633850>"
            ]
          },
          "metadata": {
            "tags": []
          },
          "execution_count": 93
        },
        {
          "output_type": "display_data",
          "data": {
            "image/png": "[encoded data removed]",
            "text/plain": [
              "<Figure size 432x288 with 1 Axes>"
            ]
          },
          "metadata": {
            "tags": [],
            "needs_background": "light"
          }
        }
      ]
    },
    {
      "cell_type": "markdown",
      "metadata": {
        "id": "ZTqG6WyieRV0"
      },
      "source": [
        "> Conforme podemos ver nos gráficos plotados e no p-value resultante do one sample t test, que a média das distribuições são diferentes"
      ]
    },
    {
      "cell_type": "markdown",
      "metadata": {
        "id": "QtOevkzuWGCh"
      },
      "source": [
        "## Vamos comparar agora se existe alguma diferença na avaliação média entre séries e filmes"
      ]
    },
    {
      "cell_type": "markdown",
      "metadata": {
        "id": "_hz3goqKWTlx"
      },
      "source": [
        "### Antes precisamos verificar para séries e filmes se suas distribuições seguem uma normal"
      ]
    },
    {
      "cell_type": "code",
      "metadata": {
        "colab": {
          "base_uri": "https://localhost:8080/",
          "height": 297
        },
        "id": "Jtv3BgiYXrER",
        "outputId": "4a11bf23-49db-462c-ad43-8cd99205d7ed"
      },
      "source": [
        "sns.histplot(data=juntaTD.loc[juntaTD.type=='TV Show'], x='averageRating_NORM', kde=True)"
      ],
      "execution_count": 94,
      "outputs": [
        {
          "output_type": "execute_result",
          "data": {
            "text/plain": [
              "<matplotlib.axes._subplots.AxesSubplot at 0x7f015b528e90>"
            ]
          },
          "metadata": {
            "tags": []
          },
          "execution_count": 94
        },
        {
          "output_type": "display_data",
          "data": {
            "image/png": "[encoded data removed]",
            "text/plain": [
              "<Figure size 432x288 with 1 Axes>"
            ]
          },
          "metadata": {
            "tags": [],
            "needs_background": "light"
          }
        }
      ]
    },
    {
      "cell_type": "code",
      "metadata": {
        "colab": {
          "base_uri": "https://localhost:8080/"
        },
        "id": "4zjJh0bYYiLN",
        "outputId": "65cb3a1a-0978-4525-a732-8a88f06ab304"
      },
      "source": [
        "stats.shapiro(juntaTD.loc[juntaTD.type=='TV Show']['averageRating_NORM'])"
      ],
      "execution_count": 95,
      "outputs": [
        {
          "output_type": "execute_result",
          "data": {
            "text/plain": [
              "(0.9582014083862305, 2.688808946967638e-16)"
            ]
          },
          "metadata": {
            "tags": []
          },
          "execution_count": 95
        }
      ]
    },
    {
      "cell_type": "code",
      "metadata": {
        "colab": {
          "base_uri": "https://localhost:8080/",
          "height": 297
        },
        "id": "hYS-75aAX9Wr",
        "outputId": "0eda42db-84b0-4315-b49f-36659e567d16"
      },
      "source": [
        "sns.histplot(data=juntaTD.loc[juntaTD.type=='Movie'], x='averageRating_NORM', kde=True)"
      ],
      "execution_count": 96,
      "outputs": [
        {
          "output_type": "execute_result",
          "data": {
            "text/plain": [
              "<matplotlib.axes._subplots.AxesSubplot at 0x7f015b528dd0>"
            ]
          },
          "metadata": {
            "tags": []
          },
          "execution_count": 96
        },
        {
          "output_type": "display_data",
          "data": {
            "image/png": "[encoded data removed]",
            "text/plain": [
              "<Figure size 432x288 with 1 Axes>"
            ]
          },
          "metadata": {
            "tags": [],
            "needs_background": "light"
          }
        }
      ]
    },
    {
      "cell_type": "code",
      "metadata": {
        "colab": {
          "base_uri": "https://localhost:8080/"
        },
        "id": "8luk27BiYEwG",
        "outputId": "1bab9055-9f76-4fa0-8860-ad87b345ec86"
      },
      "source": [
        "stats.shapiro(juntaTD1.loc[juntaTD.type=='Movie']['averageRating_NORM'])"
      ],
      "execution_count": 97,
      "outputs": [
        {
          "output_type": "execute_result",
          "data": {
            "text/plain": [
              "(0.9868093132972717, 1.5721404145424382e-14)"
            ]
          },
          "metadata": {
            "tags": []
          },
          "execution_count": 97
        }
      ]
    },
    {
      "cell_type": "markdown",
      "metadata": {
        "id": "rj0JGHNdYnLK"
      },
      "source": [
        "### Como podemos ver nenhuma das distribuições seguem uma normal, e os grupos não são pareados, assim utilizaremos o Mann-Whitney test para comparar as duas distribuições."
      ]
    },
    {
      "cell_type": "code",
      "metadata": {
        "colab": {
          "base_uri": "https://localhost:8080/"
        },
        "id": "Jov6bRhxZC9z",
        "outputId": "5188650d-b9ea-4d73-ae77-70fe81562bf3"
      },
      "source": [
        "ttest,pval = stats.mannwhitneyu(juntaTD.loc[juntaTD.type=='TV Show']['averageRating_NORM'],juntaTD.loc[juntaTD.type=='Movie']['averageRating_NORM'])\n",
        "print(\"p-value\",pval)\n",
        "if pval <0.05:\n",
        "  print(\"Temos que a hipótese nula foi rejeitada\")\n",
        "else:\n",
        "  print(\"A hipótese nula é aceita\")"
      ],
      "execution_count": 98,
      "outputs": [
        {
          "output_type": "stream",
          "text": [
            "p-value 2.1121123259340368e-79\n",
            "Temos que a hipótese nula foi rejeitada\n"
          ],
          "name": "stdout"
        }
      ]
    },
    {
      "cell_type": "markdown",
      "metadata": {
        "id": "hI2k2ebPbNKW"
      },
      "source": [
        "* Plotando dois gráficos com as distribuições para facilitar a visualização"
      ]
    },
    {
      "cell_type": "code",
      "metadata": {
        "colab": {
          "base_uri": "https://localhost:8080/",
          "height": 296
        },
        "id": "OKPthR0mbVvJ",
        "outputId": "45ffe80f-7a1a-4f2d-d40b-a113516b7d47"
      },
      "source": [
        "sns.violinplot(data=juntaTD, x='type', y='averageRating')"
      ],
      "execution_count": 99,
      "outputs": [
        {
          "output_type": "execute_result",
          "data": {
            "text/plain": [
              "<matplotlib.axes._subplots.AxesSubplot at 0x7f015b41fd10>"
            ]
          },
          "metadata": {
            "tags": []
          },
          "execution_count": 99
        },
        {
          "output_type": "display_data",
          "data": {
            "image/png": "[encoded data removed]",
            "text/plain": [
              "<Figure size 432x288 with 1 Axes>"
            ]
          },
          "metadata": {
            "tags": [],
            "needs_background": "light"
          }
        }
      ]
    },
    {
      "cell_type": "code",
      "metadata": {
        "colab": {
          "base_uri": "https://localhost:8080/",
          "height": 282
        },
        "id": "jEOVSvl4bklG",
        "outputId": "ecba38a9-740d-414f-fe40-2fa9ca20821a"
      },
      "source": [
        "dataA = juntaTD.loc[juntaTD.type == 'TV Show',['averageRating_NORM']]\n",
        "dataM = juntaTD[juntaTD['type'] == 'Movie']['averageRating_NORM']\n",
        "sns.boxplot(data=[dataM, dataA])"
      ],
      "execution_count": 100,
      "outputs": [
        {
          "output_type": "execute_result",
          "data": {
            "text/plain": [
              "<matplotlib.axes._subplots.AxesSubplot at 0x7f015b34e350>"
            ]
          },
          "metadata": {
            "tags": []
          },
          "execution_count": 100
        },
        {
          "output_type": "display_data",
          "data": {
            "image/png": "[encoded data removed]",
            "text/plain": [
              "<Figure size 432x288 with 1 Axes>"
            ]
          },
          "metadata": {
            "tags": [],
            "needs_background": "light"
          }
        }
      ]
    }
  ]
}